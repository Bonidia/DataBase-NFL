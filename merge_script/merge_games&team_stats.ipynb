{
 "cells": [
  {
   "cell_type": "markdown",
   "id": "952ee6b0-c94e-4f96-9989-e3fa4167c2b6",
   "metadata": {},
   "source": [
    "#### Merging games dataframe and season stats dataframe"
   ]
  },
  {
   "cell_type": "markdown",
   "id": "0bae3f3b-e14a-4959-bd21-62e59d62d120",
   "metadata": {},
   "source": [
    "> Run all cells in sequence<br>\n",
    "> Assumes season stats & game stats files are in '..\\data' directory"
   ]
  },
  {
   "cell_type": "code",
   "execution_count": 10,
   "id": "2b0bd357-09cd-40d4-811b-1e77c7e3c2d9",
   "metadata": {},
   "outputs": [],
   "source": [
    "import pandas as pd\n",
    "import numpy as np\n",
    "import os\n",
    "from pathlib import Path\n",
    "from tqdm import tqdm"
   ]
  },
  {
   "cell_type": "code",
   "execution_count": 2,
   "id": "3d844766-0c85-4a55-89b2-718eaccd5f1a",
   "metadata": {},
   "outputs": [],
   "source": [
    "full_path = os.getcwd()\n",
    "base_path = str(Path(full_path).parents[0])  # one dir up\n",
    "base_path = os.path.join(base_path, 'data')\n",
    "\n",
    "team_stats_file = os.path.join(base_path, '1970-2020.csv')\n",
    "team_schedules_file = os.path.join(base_path, '1970-2020_team_schedule.csv')"
   ]
  },
  {
   "cell_type": "markdown",
   "id": "d097a195-37f2-4f7c-93af-efb68f07721f",
   "metadata": {},
   "source": [
    "---"
   ]
  },
  {
   "cell_type": "code",
   "execution_count": 5,
   "id": "40f390f3-5b77-4571-87ac-d31268bd377d",
   "metadata": {},
   "outputs": [],
   "source": [
    "df_stats = pd.read_csv(team_stats_file, sep=';')\n",
    "df_schedules = pd.read_csv(team_schedules_file, sep=';')"
   ]
  },
  {
   "cell_type": "code",
   "execution_count": 8,
   "id": "58ff5f81-adb9-4431-b43c-52dc95929bff",
   "metadata": {},
   "outputs": [
    {
     "data": {
      "text/html": [
       "<div>\n",
       "<style scoped>\n",
       "    .dataframe tbody tr th:only-of-type {\n",
       "        vertical-align: middle;\n",
       "    }\n",
       "\n",
       "    .dataframe tbody tr th {\n",
       "        vertical-align: top;\n",
       "    }\n",
       "\n",
       "    .dataframe thead th {\n",
       "        text-align: right;\n",
       "    }\n",
       "</style>\n",
       "<table border=\"1\" class=\"dataframe\">\n",
       "  <thead>\n",
       "    <tr style=\"text-align: right;\">\n",
       "      <th></th>\n",
       "      <th>Unnamed: 0</th>\n",
       "      <th>Unnamed: 1</th>\n",
       "      <th>Unnamed: 2</th>\n",
       "      <th>game_day_of_week</th>\n",
       "      <th>game_date</th>\n",
       "      <th>game_time</th>\n",
       "      <th>boxscore_word</th>\n",
       "      <th>game_outcome</th>\n",
       "      <th>overtime</th>\n",
       "      <th>team_record</th>\n",
       "      <th>...</th>\n",
       "      <th>rush_yds_off</th>\n",
       "      <th>to_off</th>\n",
       "      <th>first_down_def</th>\n",
       "      <th>yards_def</th>\n",
       "      <th>pass_yds_def</th>\n",
       "      <th>rush_yds_def</th>\n",
       "      <th>to_def</th>\n",
       "      <th>exp_pts_off</th>\n",
       "      <th>exp_pts_def</th>\n",
       "      <th>exp_pts_st</th>\n",
       "    </tr>\n",
       "  </thead>\n",
       "  <tbody>\n",
       "    <tr>\n",
       "      <th>0</th>\n",
       "      <td>2019</td>\n",
       "      <td>New England Patriots</td>\n",
       "      <td>0</td>\n",
       "      <td>Sun</td>\n",
       "      <td>September 8</td>\n",
       "      <td>8:20PM ET</td>\n",
       "      <td>boxscore</td>\n",
       "      <td>W</td>\n",
       "      <td>NaN</td>\n",
       "      <td>1-0</td>\n",
       "      <td>...</td>\n",
       "      <td>99.0</td>\n",
       "      <td>NaN</td>\n",
       "      <td>15.0</td>\n",
       "      <td>308.0</td>\n",
       "      <td>276.0</td>\n",
       "      <td>32.0</td>\n",
       "      <td>1.0</td>\n",
       "      <td>18.24</td>\n",
       "      <td>9.50</td>\n",
       "      <td>-0.80</td>\n",
       "    </tr>\n",
       "    <tr>\n",
       "      <th>1</th>\n",
       "      <td>2019</td>\n",
       "      <td>New England Patriots</td>\n",
       "      <td>1</td>\n",
       "      <td>Sun</td>\n",
       "      <td>September 15</td>\n",
       "      <td>1:00PM ET</td>\n",
       "      <td>boxscore</td>\n",
       "      <td>W</td>\n",
       "      <td>NaN</td>\n",
       "      <td>2-0</td>\n",
       "      <td>...</td>\n",
       "      <td>124.0</td>\n",
       "      <td>1.0</td>\n",
       "      <td>11.0</td>\n",
       "      <td>184.0</td>\n",
       "      <td>142.0</td>\n",
       "      <td>42.0</td>\n",
       "      <td>4.0</td>\n",
       "      <td>14.12</td>\n",
       "      <td>35.44</td>\n",
       "      <td>-12.05</td>\n",
       "    </tr>\n",
       "    <tr>\n",
       "      <th>2</th>\n",
       "      <td>2019</td>\n",
       "      <td>New England Patriots</td>\n",
       "      <td>2</td>\n",
       "      <td>Sun</td>\n",
       "      <td>September 22</td>\n",
       "      <td>1:00PM ET</td>\n",
       "      <td>boxscore</td>\n",
       "      <td>W</td>\n",
       "      <td>NaN</td>\n",
       "      <td>3-0</td>\n",
       "      <td>...</td>\n",
       "      <td>68.0</td>\n",
       "      <td>2.0</td>\n",
       "      <td>6.0</td>\n",
       "      <td>105.0</td>\n",
       "      <td>69.0</td>\n",
       "      <td>36.0</td>\n",
       "      <td>1.0</td>\n",
       "      <td>1.65</td>\n",
       "      <td>26.43</td>\n",
       "      <td>-9.81</td>\n",
       "    </tr>\n",
       "    <tr>\n",
       "      <th>3</th>\n",
       "      <td>2019</td>\n",
       "      <td>New England Patriots</td>\n",
       "      <td>3</td>\n",
       "      <td>Sun</td>\n",
       "      <td>September 29</td>\n",
       "      <td>1:00PM ET</td>\n",
       "      <td>boxscore</td>\n",
       "      <td>W</td>\n",
       "      <td>NaN</td>\n",
       "      <td>4-0</td>\n",
       "      <td>...</td>\n",
       "      <td>74.0</td>\n",
       "      <td>1.0</td>\n",
       "      <td>23.0</td>\n",
       "      <td>375.0</td>\n",
       "      <td>240.0</td>\n",
       "      <td>135.0</td>\n",
       "      <td>4.0</td>\n",
       "      <td>-14.59</td>\n",
       "      <td>12.71</td>\n",
       "      <td>6.09</td>\n",
       "    </tr>\n",
       "    <tr>\n",
       "      <th>4</th>\n",
       "      <td>2019</td>\n",
       "      <td>New England Patriots</td>\n",
       "      <td>4</td>\n",
       "      <td>Sun</td>\n",
       "      <td>October 6</td>\n",
       "      <td>1:00PM ET</td>\n",
       "      <td>boxscore</td>\n",
       "      <td>W</td>\n",
       "      <td>NaN</td>\n",
       "      <td>5-0</td>\n",
       "      <td>...</td>\n",
       "      <td>130.0</td>\n",
       "      <td>1.0</td>\n",
       "      <td>11.0</td>\n",
       "      <td>223.0</td>\n",
       "      <td>78.0</td>\n",
       "      <td>145.0</td>\n",
       "      <td>2.0</td>\n",
       "      <td>9.23</td>\n",
       "      <td>20.78</td>\n",
       "      <td>-6.54</td>\n",
       "    </tr>\n",
       "  </tbody>\n",
       "</table>\n",
       "<p>5 rows × 27 columns</p>\n",
       "</div>"
      ],
      "text/plain": [
       "   Unnamed: 0            Unnamed: 1  Unnamed: 2 game_day_of_week  \\\n",
       "0        2019  New England Patriots           0              Sun   \n",
       "1        2019  New England Patriots           1              Sun   \n",
       "2        2019  New England Patriots           2              Sun   \n",
       "3        2019  New England Patriots           3              Sun   \n",
       "4        2019  New England Patriots           4              Sun   \n",
       "\n",
       "      game_date  game_time boxscore_word game_outcome overtime team_record  \\\n",
       "0   September 8  8:20PM ET      boxscore            W      NaN         1-0   \n",
       "1  September 15  1:00PM ET      boxscore            W      NaN         2-0   \n",
       "2  September 22  1:00PM ET      boxscore            W      NaN         3-0   \n",
       "3  September 29  1:00PM ET      boxscore            W      NaN         4-0   \n",
       "4     October 6  1:00PM ET      boxscore            W      NaN         5-0   \n",
       "\n",
       "   ... rush_yds_off to_off  first_down_def  yards_def  pass_yds_def  \\\n",
       "0  ...         99.0    NaN            15.0      308.0         276.0   \n",
       "1  ...        124.0    1.0            11.0      184.0         142.0   \n",
       "2  ...         68.0    2.0             6.0      105.0          69.0   \n",
       "3  ...         74.0    1.0            23.0      375.0         240.0   \n",
       "4  ...        130.0    1.0            11.0      223.0          78.0   \n",
       "\n",
       "   rush_yds_def  to_def  exp_pts_off  exp_pts_def  exp_pts_st  \n",
       "0          32.0     1.0        18.24         9.50       -0.80  \n",
       "1          42.0     4.0        14.12        35.44      -12.05  \n",
       "2          36.0     1.0         1.65        26.43       -9.81  \n",
       "3         135.0     4.0       -14.59        12.71        6.09  \n",
       "4         145.0     2.0         9.23        20.78       -6.54  \n",
       "\n",
       "[5 rows x 27 columns]"
      ]
     },
     "metadata": {},
     "output_type": "display_data"
    },
    {
     "data": {
      "text/html": [
       "<div>\n",
       "<style scoped>\n",
       "    .dataframe tbody tr th:only-of-type {\n",
       "        vertical-align: middle;\n",
       "    }\n",
       "\n",
       "    .dataframe tbody tr th {\n",
       "        vertical-align: top;\n",
       "    }\n",
       "\n",
       "    .dataframe thead th {\n",
       "        text-align: right;\n",
       "    }\n",
       "</style>\n",
       "<table border=\"1\" class=\"dataframe\">\n",
       "  <thead>\n",
       "    <tr style=\"text-align: right;\">\n",
       "      <th></th>\n",
       "      <th>Unnamed: 0</th>\n",
       "      <th>Unnamed: 1</th>\n",
       "      <th>team</th>\n",
       "      <th>g</th>\n",
       "      <th>drives</th>\n",
       "      <th>play_count_tip</th>\n",
       "      <th>score_pct</th>\n",
       "      <th>turnover_pct</th>\n",
       "      <th>plays_per_drive</th>\n",
       "      <th>yds_per_drive</th>\n",
       "      <th>...</th>\n",
       "      <th>two_pt_md</th>\n",
       "      <th>two_pt_att</th>\n",
       "      <th>def_two_pt</th>\n",
       "      <th>xpm</th>\n",
       "      <th>xpa</th>\n",
       "      <th>fgm</th>\n",
       "      <th>fga</th>\n",
       "      <th>safety_md</th>\n",
       "      <th>scoring</th>\n",
       "      <th>points_per_g</th>\n",
       "    </tr>\n",
       "  </thead>\n",
       "  <tbody>\n",
       "    <tr>\n",
       "      <th>0</th>\n",
       "      <td>2019</td>\n",
       "      <td>New England Patriots</td>\n",
       "      <td>New England Patriots</td>\n",
       "      <td>16</td>\n",
       "      <td>190.0</td>\n",
       "      <td>1129.0</td>\n",
       "      <td>36.3</td>\n",
       "      <td>7.4</td>\n",
       "      <td>5.9</td>\n",
       "      <td>29.8</td>\n",
       "      <td>...</td>\n",
       "      <td>NaN</td>\n",
       "      <td>NaN</td>\n",
       "      <td>NaN</td>\n",
       "      <td>NaN</td>\n",
       "      <td>NaN</td>\n",
       "      <td>NaN</td>\n",
       "      <td>NaN</td>\n",
       "      <td>NaN</td>\n",
       "      <td>NaN</td>\n",
       "      <td>NaN</td>\n",
       "    </tr>\n",
       "    <tr>\n",
       "      <th>1</th>\n",
       "      <td>2019</td>\n",
       "      <td>Buffalo Bills</td>\n",
       "      <td>Buffalo Bills</td>\n",
       "      <td>16</td>\n",
       "      <td>186.0</td>\n",
       "      <td>1046.0</td>\n",
       "      <td>30.1</td>\n",
       "      <td>10.2</td>\n",
       "      <td>5.6</td>\n",
       "      <td>28.5</td>\n",
       "      <td>...</td>\n",
       "      <td>NaN</td>\n",
       "      <td>NaN</td>\n",
       "      <td>NaN</td>\n",
       "      <td>NaN</td>\n",
       "      <td>NaN</td>\n",
       "      <td>NaN</td>\n",
       "      <td>NaN</td>\n",
       "      <td>NaN</td>\n",
       "      <td>NaN</td>\n",
       "      <td>NaN</td>\n",
       "    </tr>\n",
       "    <tr>\n",
       "      <th>2</th>\n",
       "      <td>2019</td>\n",
       "      <td>New York Jets</td>\n",
       "      <td>New York Jets</td>\n",
       "      <td>16</td>\n",
       "      <td>189.0</td>\n",
       "      <td>984.0</td>\n",
       "      <td>23.3</td>\n",
       "      <td>11.6</td>\n",
       "      <td>5.2</td>\n",
       "      <td>22.9</td>\n",
       "      <td>...</td>\n",
       "      <td>NaN</td>\n",
       "      <td>NaN</td>\n",
       "      <td>NaN</td>\n",
       "      <td>NaN</td>\n",
       "      <td>NaN</td>\n",
       "      <td>NaN</td>\n",
       "      <td>NaN</td>\n",
       "      <td>NaN</td>\n",
       "      <td>NaN</td>\n",
       "      <td>NaN</td>\n",
       "    </tr>\n",
       "    <tr>\n",
       "      <th>3</th>\n",
       "      <td>2019</td>\n",
       "      <td>Miami Dolphins</td>\n",
       "      <td>Miami Dolphins</td>\n",
       "      <td>16</td>\n",
       "      <td>182.0</td>\n",
       "      <td>1052.0</td>\n",
       "      <td>30.2</td>\n",
       "      <td>13.7</td>\n",
       "      <td>5.8</td>\n",
       "      <td>27.1</td>\n",
       "      <td>...</td>\n",
       "      <td>NaN</td>\n",
       "      <td>NaN</td>\n",
       "      <td>NaN</td>\n",
       "      <td>NaN</td>\n",
       "      <td>NaN</td>\n",
       "      <td>NaN</td>\n",
       "      <td>NaN</td>\n",
       "      <td>NaN</td>\n",
       "      <td>NaN</td>\n",
       "      <td>NaN</td>\n",
       "    </tr>\n",
       "    <tr>\n",
       "      <th>4</th>\n",
       "      <td>2019</td>\n",
       "      <td>Baltimore Ravens</td>\n",
       "      <td>Baltimore Ravens</td>\n",
       "      <td>16</td>\n",
       "      <td>166.0</td>\n",
       "      <td>1093.0</td>\n",
       "      <td>51.8</td>\n",
       "      <td>8.4</td>\n",
       "      <td>6.6</td>\n",
       "      <td>39.3</td>\n",
       "      <td>...</td>\n",
       "      <td>NaN</td>\n",
       "      <td>NaN</td>\n",
       "      <td>NaN</td>\n",
       "      <td>NaN</td>\n",
       "      <td>NaN</td>\n",
       "      <td>NaN</td>\n",
       "      <td>NaN</td>\n",
       "      <td>NaN</td>\n",
       "      <td>NaN</td>\n",
       "      <td>NaN</td>\n",
       "    </tr>\n",
       "  </tbody>\n",
       "</table>\n",
       "<p>5 rows × 40 columns</p>\n",
       "</div>"
      ],
      "text/plain": [
       "   Unnamed: 0            Unnamed: 1                  team   g  drives  \\\n",
       "0        2019  New England Patriots  New England Patriots  16   190.0   \n",
       "1        2019         Buffalo Bills         Buffalo Bills  16   186.0   \n",
       "2        2019         New York Jets         New York Jets  16   189.0   \n",
       "3        2019        Miami Dolphins        Miami Dolphins  16   182.0   \n",
       "4        2019      Baltimore Ravens      Baltimore Ravens  16   166.0   \n",
       "\n",
       "   play_count_tip  score_pct  turnover_pct  plays_per_drive  yds_per_drive  \\\n",
       "0          1129.0       36.3           7.4              5.9           29.8   \n",
       "1          1046.0       30.1          10.2              5.6           28.5   \n",
       "2           984.0       23.3          11.6              5.2           22.9   \n",
       "3          1052.0       30.2          13.7              5.8           27.1   \n",
       "4          1093.0       51.8           8.4              6.6           39.3   \n",
       "\n",
       "   ... two_pt_md two_pt_att  def_two_pt  xpm  xpa fgm  fga  safety_md scoring  \\\n",
       "0  ...       NaN        NaN         NaN  NaN  NaN NaN  NaN        NaN     NaN   \n",
       "1  ...       NaN        NaN         NaN  NaN  NaN NaN  NaN        NaN     NaN   \n",
       "2  ...       NaN        NaN         NaN  NaN  NaN NaN  NaN        NaN     NaN   \n",
       "3  ...       NaN        NaN         NaN  NaN  NaN NaN  NaN        NaN     NaN   \n",
       "4  ...       NaN        NaN         NaN  NaN  NaN NaN  NaN        NaN     NaN   \n",
       "\n",
       "   points_per_g  \n",
       "0           NaN  \n",
       "1           NaN  \n",
       "2           NaN  \n",
       "3           NaN  \n",
       "4           NaN  \n",
       "\n",
       "[5 rows x 40 columns]"
      ]
     },
     "metadata": {},
     "output_type": "display_data"
    }
   ],
   "source": [
    "display(df_schedules.head())\n",
    "display(df_stats.head())"
   ]
  },
  {
   "cell_type": "code",
   "execution_count": 9,
   "id": "0bcd53cc-6037-4f8c-af8d-8f8d09959908",
   "metadata": {},
   "outputs": [],
   "source": [
    "unnamed_cols = {\n",
    "    'Unnamed: 0': 'year',\n",
    "    'Unnamed: 1': 'team',\n",
    "    'Unnamed: 2': 'week_number'\n",
    "}\n",
    "df_stats.drop('Unnamed: 1', axis=1, inplace=True)\n",
    "df_stats.rename(columns=unnamed_cols, inplace=True)\n",
    "df_schedules.rename(columns=unnamed_cols, inplace=True)"
   ]
  },
  {
   "cell_type": "markdown",
   "id": "839004a1-e481-419c-bece-269da5010e04",
   "metadata": {
    "tags": []
   },
   "source": [
    "#### add 'is_playoff' col"
   ]
  },
  {
   "cell_type": "code",
   "execution_count": 11,
   "id": "2209ed9c-5279-4132-a670-e2c7a38e9316",
   "metadata": {
    "tags": []
   },
   "outputs": [
    {
     "name": "stderr",
     "output_type": "stream",
     "text": [
      "100%|███████████████████████████████████████████████████████████████████████████████████| 51/51 [00:02<00:00, 17.05it/s]"
     ]
    },
    {
     "name": "stdout",
     "output_type": "stream",
     "text": [
      "Done\n"
     ]
    },
    {
     "name": "stderr",
     "output_type": "stream",
     "text": [
      "\n"
     ]
    }
   ],
   "source": [
    "df_schedules['is_playoff'] = False\n",
    "\n",
    "for season in tqdm(df_schedules['year'].unique()):\n",
    "    df_season = df_schedules.query('year == @season')  # only current season\n",
    "    # print(season, end=', ', flush=False)\n",
    "    for team in df_season['team'].unique():\n",
    "        df_season_team = df_season.query('team == @team')  # only current team\n",
    "        try:  # try to find a row with 'playoff' value\n",
    "            playoff_index = df_season_team[df_season_team['game_date'] == 'Playoffs'].index[0]\n",
    "        except IndexError:\n",
    "            playoff_index = False\n",
    "\n",
    "        max_index = df_season_team.index[-1]\n",
    "        if playoff_index:  # if there is a playoff row\n",
    "            for row in range(playoff_index + 1, max_index + 1):  # for games after playoff row and before last row of current team and current season\n",
    "                # playoff_game = df_season_team.loc[row].to_dict()\n",
    "                \n",
    "                df_schedules.loc[row, 'is_playoff'] = True\n",
    "\n",
    "print('Done')"
   ]
  },
  {
   "cell_type": "code",
   "execution_count": 12,
   "id": "897e3535-537c-4fa9-8194-99aa73270d78",
   "metadata": {},
   "outputs": [
    {
     "data": {
      "text/html": [
       "<div>\n",
       "<style scoped>\n",
       "    .dataframe tbody tr th:only-of-type {\n",
       "        vertical-align: middle;\n",
       "    }\n",
       "\n",
       "    .dataframe tbody tr th {\n",
       "        vertical-align: top;\n",
       "    }\n",
       "\n",
       "    .dataframe thead th {\n",
       "        text-align: right;\n",
       "    }\n",
       "</style>\n",
       "<table border=\"1\" class=\"dataframe\">\n",
       "  <thead>\n",
       "    <tr style=\"text-align: right;\">\n",
       "      <th></th>\n",
       "      <th>game_date</th>\n",
       "      <th>year</th>\n",
       "      <th>team</th>\n",
       "      <th>opp</th>\n",
       "      <th>game_date</th>\n",
       "      <th>game_outcome</th>\n",
       "    </tr>\n",
       "  </thead>\n",
       "  <tbody>\n",
       "    <tr>\n",
       "      <th>18</th>\n",
       "      <td>January 4</td>\n",
       "      <td>2019</td>\n",
       "      <td>New England Patriots</td>\n",
       "      <td>Tennessee Titans</td>\n",
       "      <td>January 4</td>\n",
       "      <td>L</td>\n",
       "    </tr>\n",
       "    <tr>\n",
       "      <th>88</th>\n",
       "      <td>January 11</td>\n",
       "      <td>2019</td>\n",
       "      <td>Baltimore Ravens</td>\n",
       "      <td>Tennessee Titans</td>\n",
       "      <td>January 11</td>\n",
       "      <td>L</td>\n",
       "    </tr>\n",
       "    <tr>\n",
       "      <th>107</th>\n",
       "      <td>January 4</td>\n",
       "      <td>2019</td>\n",
       "      <td>Tennessee Titans</td>\n",
       "      <td>New England Patriots</td>\n",
       "      <td>January 4</td>\n",
       "      <td>W</td>\n",
       "    </tr>\n",
       "    <tr>\n",
       "      <th>108</th>\n",
       "      <td>January 11</td>\n",
       "      <td>2019</td>\n",
       "      <td>Tennessee Titans</td>\n",
       "      <td>Baltimore Ravens</td>\n",
       "      <td>January 11</td>\n",
       "      <td>W</td>\n",
       "    </tr>\n",
       "    <tr>\n",
       "      <th>109</th>\n",
       "      <td>January 19</td>\n",
       "      <td>2019</td>\n",
       "      <td>Tennessee Titans</td>\n",
       "      <td>Kansas City Chiefs</td>\n",
       "      <td>January 19</td>\n",
       "      <td>L</td>\n",
       "    </tr>\n",
       "    <tr>\n",
       "      <th>...</th>\n",
       "      <td>...</td>\n",
       "      <td>...</td>\n",
       "      <td>...</td>\n",
       "      <td>...</td>\n",
       "      <td>...</td>\n",
       "      <td>...</td>\n",
       "    </tr>\n",
       "    <tr>\n",
       "      <th>25872</th>\n",
       "      <td>January 4</td>\n",
       "      <td>1975</td>\n",
       "      <td>Oakland Raiders</td>\n",
       "      <td>Pittsburgh Steelers</td>\n",
       "      <td>January 4</td>\n",
       "      <td>L</td>\n",
       "    </tr>\n",
       "    <tr>\n",
       "      <th>25916</th>\n",
       "      <td>December 28</td>\n",
       "      <td>1975</td>\n",
       "      <td>Minnesota Vikings</td>\n",
       "      <td>Dallas Cowboys</td>\n",
       "      <td>December 28</td>\n",
       "      <td>L</td>\n",
       "    </tr>\n",
       "    <tr>\n",
       "      <th>25988</th>\n",
       "      <td>December 27</td>\n",
       "      <td>1975</td>\n",
       "      <td>St. Louis Cardinals</td>\n",
       "      <td>Los Angeles Rams</td>\n",
       "      <td>December 27</td>\n",
       "      <td>L</td>\n",
       "    </tr>\n",
       "    <tr>\n",
       "      <th>26060</th>\n",
       "      <td>December 27</td>\n",
       "      <td>1975</td>\n",
       "      <td>Los Angeles Rams</td>\n",
       "      <td>St. Louis Cardinals</td>\n",
       "      <td>December 27</td>\n",
       "      <td>W</td>\n",
       "    </tr>\n",
       "    <tr>\n",
       "      <th>26061</th>\n",
       "      <td>January 4</td>\n",
       "      <td>1975</td>\n",
       "      <td>Los Angeles Rams</td>\n",
       "      <td>Dallas Cowboys</td>\n",
       "      <td>January 4</td>\n",
       "      <td>L</td>\n",
       "    </tr>\n",
       "  </tbody>\n",
       "</table>\n",
       "<p>1026 rows × 6 columns</p>\n",
       "</div>"
      ],
      "text/plain": [
       "         game_date  year                  team                   opp  \\\n",
       "18       January 4  2019  New England Patriots      Tennessee Titans   \n",
       "88      January 11  2019      Baltimore Ravens      Tennessee Titans   \n",
       "107      January 4  2019      Tennessee Titans  New England Patriots   \n",
       "108     January 11  2019      Tennessee Titans      Baltimore Ravens   \n",
       "109     January 19  2019      Tennessee Titans    Kansas City Chiefs   \n",
       "...            ...   ...                   ...                   ...   \n",
       "25872    January 4  1975       Oakland Raiders   Pittsburgh Steelers   \n",
       "25916  December 28  1975     Minnesota Vikings        Dallas Cowboys   \n",
       "25988  December 27  1975   St. Louis Cardinals      Los Angeles Rams   \n",
       "26060  December 27  1975      Los Angeles Rams   St. Louis Cardinals   \n",
       "26061    January 4  1975      Los Angeles Rams        Dallas Cowboys   \n",
       "\n",
       "         game_date game_outcome  \n",
       "18       January 4            L  \n",
       "88      January 11            L  \n",
       "107      January 4            W  \n",
       "108     January 11            W  \n",
       "109     January 19            L  \n",
       "...            ...          ...  \n",
       "25872    January 4            L  \n",
       "25916  December 28            L  \n",
       "25988  December 27            L  \n",
       "26060  December 27            W  \n",
       "26061    January 4            L  \n",
       "\n",
       "[1026 rows x 6 columns]"
      ]
     },
     "execution_count": 12,
     "metadata": {},
     "output_type": "execute_result"
    }
   ],
   "source": [
    "df_schedules[df_schedules['is_playoff'] == True][['game_date', 'year', 'team', 'opp', 'game_date', 'game_outcome']]"
   ]
  },
  {
   "cell_type": "markdown",
   "id": "f9c4e5e3-ebf5-4072-ada7-9ee5e80cf3f2",
   "metadata": {
    "tags": []
   },
   "source": [
    "#### remove 'bye week' & 'playoff' rows"
   ]
  },
  {
   "cell_type": "code",
   "execution_count": 13,
   "id": "45ce5ca7-71c5-4508-9d26-43adc43b2e8d",
   "metadata": {},
   "outputs": [],
   "source": [
    "df_bye_week = df_schedules[(df_schedules['opp'] == 'Bye Week') | (df_schedules['game_date'] == 'Playoffs')]\n",
    "df_schedules = df_schedules.drop(df_bye_week.index, axis=0)"
   ]
  },
  {
   "cell_type": "markdown",
   "id": "be87cf17-7b97-472c-aeae-e15b05f74f49",
   "metadata": {},
   "source": [
    "---"
   ]
  },
  {
   "cell_type": "markdown",
   "id": "6870f9e6-ab3a-4547-84e2-ae7743cf348c",
   "metadata": {
    "tags": []
   },
   "source": [
    "#### column cleaning"
   ]
  },
  {
   "cell_type": "markdown",
   "id": "6bc02aaf-25bb-4f64-8c9f-24952690d58c",
   "metadata": {},
   "source": [
    "##### home & away games"
   ]
  },
  {
   "cell_type": "code",
   "execution_count": 14,
   "id": "c29a3721-c96a-4de7-b97b-17f01e8a63b1",
   "metadata": {},
   "outputs": [
    {
     "data": {
      "text/plain": [
       "0    away\n",
       "1    home\n",
       "2    away\n",
       "3    home\n",
       "4    home\n",
       "Name: game_location, dtype: object"
      ]
     },
     "execution_count": 14,
     "metadata": {},
     "output_type": "execute_result"
    }
   ],
   "source": [
    "home_games = df_schedules[df_schedules['game_location'] == '@'].index\n",
    "away_games = df_schedules[pd.isna(df_schedules['game_location'])].index\n",
    "\n",
    "df_schedules.loc[home_games, 'game_location'] = 'home'\n",
    "df_schedules.loc[away_games, 'game_location'] = 'away'\n",
    "\n",
    "df_schedules['game_location'].head()"
   ]
  },
  {
   "cell_type": "markdown",
   "id": "78a85fa7-cd60-40d3-bea4-7a24a55a9bc0",
   "metadata": {},
   "source": [
    "##### games with overtime"
   ]
  },
  {
   "cell_type": "code",
   "execution_count": 15,
   "id": "c6b89388-da50-4b1b-8dcb-6d904f35eb7d",
   "metadata": {},
   "outputs": [
    {
     "data": {
      "text/plain": [
       "0    False\n",
       "1    False\n",
       "2    False\n",
       "3    False\n",
       "4    False\n",
       "Name: overtime, dtype: object"
      ]
     },
     "execution_count": 15,
     "metadata": {},
     "output_type": "execute_result"
    }
   ],
   "source": [
    "ot_games = df_schedules[df_schedules['overtime'] == 'OT'].index\n",
    "non_ot_games = df_schedules[pd.isna(df_schedules['overtime'])].index\n",
    "\n",
    "df_schedules.loc[ot_games, 'overtime'] = True\n",
    "df_schedules.loc[non_ot_games, 'overtime'] = False\n",
    "\n",
    "df_schedules['overtime'].head()"
   ]
  },
  {
   "cell_type": "markdown",
   "id": "f033a409-378a-4c4e-939f-46b170e8e904",
   "metadata": {
    "tags": []
   },
   "source": [
    "#### further column cleaning"
   ]
  },
  {
   "cell_type": "code",
   "execution_count": 16,
   "id": "a13ba05c-3a91-45ad-9461-a298fad68f6e",
   "metadata": {},
   "outputs": [],
   "source": [
    "columns = df_schedules.columns\n",
    "df_schedules = df_schedules.drop('boxscore_word', axis=1)"
   ]
  },
  {
   "cell_type": "code",
   "execution_count": 17,
   "id": "3ef766a0-5769-423b-b946-e0994c241bbb",
   "metadata": {
    "tags": []
   },
   "outputs": [
    {
     "data": {
      "text/html": [
       "<div>\n",
       "<style scoped>\n",
       "    .dataframe tbody tr th:only-of-type {\n",
       "        vertical-align: middle;\n",
       "    }\n",
       "\n",
       "    .dataframe tbody tr th {\n",
       "        vertical-align: top;\n",
       "    }\n",
       "\n",
       "    .dataframe thead th {\n",
       "        text-align: right;\n",
       "    }\n",
       "</style>\n",
       "<table border=\"1\" class=\"dataframe\">\n",
       "  <thead>\n",
       "    <tr style=\"text-align: right;\">\n",
       "      <th></th>\n",
       "      <th>year</th>\n",
       "      <th>team</th>\n",
       "      <th>week_number</th>\n",
       "      <th>game_day_of_week</th>\n",
       "      <th>game_date</th>\n",
       "      <th>game_time</th>\n",
       "      <th>game_outcome</th>\n",
       "      <th>overtime</th>\n",
       "      <th>team_record</th>\n",
       "      <th>game_location</th>\n",
       "      <th>...</th>\n",
       "      <th>to_off</th>\n",
       "      <th>first_down_def</th>\n",
       "      <th>yards_def</th>\n",
       "      <th>pass_yds_def</th>\n",
       "      <th>rush_yds_def</th>\n",
       "      <th>to_def</th>\n",
       "      <th>exp_pts_off</th>\n",
       "      <th>exp_pts_def</th>\n",
       "      <th>exp_pts_st</th>\n",
       "      <th>is_playoff</th>\n",
       "    </tr>\n",
       "  </thead>\n",
       "  <tbody>\n",
       "    <tr>\n",
       "      <th>0</th>\n",
       "      <td>2019</td>\n",
       "      <td>New England Patriots</td>\n",
       "      <td>0</td>\n",
       "      <td>Sun</td>\n",
       "      <td>September 8</td>\n",
       "      <td>8:20PM ET</td>\n",
       "      <td>W</td>\n",
       "      <td>False</td>\n",
       "      <td>1-0</td>\n",
       "      <td>away</td>\n",
       "      <td>...</td>\n",
       "      <td>NaN</td>\n",
       "      <td>15.0</td>\n",
       "      <td>308.0</td>\n",
       "      <td>276.0</td>\n",
       "      <td>32.0</td>\n",
       "      <td>1.0</td>\n",
       "      <td>18.24</td>\n",
       "      <td>9.50</td>\n",
       "      <td>-0.80</td>\n",
       "      <td>False</td>\n",
       "    </tr>\n",
       "    <tr>\n",
       "      <th>1</th>\n",
       "      <td>2019</td>\n",
       "      <td>New England Patriots</td>\n",
       "      <td>1</td>\n",
       "      <td>Sun</td>\n",
       "      <td>September 15</td>\n",
       "      <td>1:00PM ET</td>\n",
       "      <td>W</td>\n",
       "      <td>False</td>\n",
       "      <td>2-0</td>\n",
       "      <td>home</td>\n",
       "      <td>...</td>\n",
       "      <td>1.0</td>\n",
       "      <td>11.0</td>\n",
       "      <td>184.0</td>\n",
       "      <td>142.0</td>\n",
       "      <td>42.0</td>\n",
       "      <td>4.0</td>\n",
       "      <td>14.12</td>\n",
       "      <td>35.44</td>\n",
       "      <td>-12.05</td>\n",
       "      <td>False</td>\n",
       "    </tr>\n",
       "    <tr>\n",
       "      <th>2</th>\n",
       "      <td>2019</td>\n",
       "      <td>New England Patriots</td>\n",
       "      <td>2</td>\n",
       "      <td>Sun</td>\n",
       "      <td>September 22</td>\n",
       "      <td>1:00PM ET</td>\n",
       "      <td>W</td>\n",
       "      <td>False</td>\n",
       "      <td>3-0</td>\n",
       "      <td>away</td>\n",
       "      <td>...</td>\n",
       "      <td>2.0</td>\n",
       "      <td>6.0</td>\n",
       "      <td>105.0</td>\n",
       "      <td>69.0</td>\n",
       "      <td>36.0</td>\n",
       "      <td>1.0</td>\n",
       "      <td>1.65</td>\n",
       "      <td>26.43</td>\n",
       "      <td>-9.81</td>\n",
       "      <td>False</td>\n",
       "    </tr>\n",
       "    <tr>\n",
       "      <th>3</th>\n",
       "      <td>2019</td>\n",
       "      <td>New England Patriots</td>\n",
       "      <td>3</td>\n",
       "      <td>Sun</td>\n",
       "      <td>September 29</td>\n",
       "      <td>1:00PM ET</td>\n",
       "      <td>W</td>\n",
       "      <td>False</td>\n",
       "      <td>4-0</td>\n",
       "      <td>home</td>\n",
       "      <td>...</td>\n",
       "      <td>1.0</td>\n",
       "      <td>23.0</td>\n",
       "      <td>375.0</td>\n",
       "      <td>240.0</td>\n",
       "      <td>135.0</td>\n",
       "      <td>4.0</td>\n",
       "      <td>-14.59</td>\n",
       "      <td>12.71</td>\n",
       "      <td>6.09</td>\n",
       "      <td>False</td>\n",
       "    </tr>\n",
       "    <tr>\n",
       "      <th>4</th>\n",
       "      <td>2019</td>\n",
       "      <td>New England Patriots</td>\n",
       "      <td>4</td>\n",
       "      <td>Sun</td>\n",
       "      <td>October 6</td>\n",
       "      <td>1:00PM ET</td>\n",
       "      <td>W</td>\n",
       "      <td>False</td>\n",
       "      <td>5-0</td>\n",
       "      <td>home</td>\n",
       "      <td>...</td>\n",
       "      <td>1.0</td>\n",
       "      <td>11.0</td>\n",
       "      <td>223.0</td>\n",
       "      <td>78.0</td>\n",
       "      <td>145.0</td>\n",
       "      <td>2.0</td>\n",
       "      <td>9.23</td>\n",
       "      <td>20.78</td>\n",
       "      <td>-6.54</td>\n",
       "      <td>False</td>\n",
       "    </tr>\n",
       "  </tbody>\n",
       "</table>\n",
       "<p>5 rows × 27 columns</p>\n",
       "</div>"
      ],
      "text/plain": [
       "   year                  team  week_number game_day_of_week     game_date  \\\n",
       "0  2019  New England Patriots            0              Sun   September 8   \n",
       "1  2019  New England Patriots            1              Sun  September 15   \n",
       "2  2019  New England Patriots            2              Sun  September 22   \n",
       "3  2019  New England Patriots            3              Sun  September 29   \n",
       "4  2019  New England Patriots            4              Sun     October 6   \n",
       "\n",
       "   game_time game_outcome overtime team_record game_location  ... to_off  \\\n",
       "0  8:20PM ET            W    False         1-0          away  ...    NaN   \n",
       "1  1:00PM ET            W    False         2-0          home  ...    1.0   \n",
       "2  1:00PM ET            W    False         3-0          away  ...    2.0   \n",
       "3  1:00PM ET            W    False         4-0          home  ...    1.0   \n",
       "4  1:00PM ET            W    False         5-0          home  ...    1.0   \n",
       "\n",
       "   first_down_def  yards_def  pass_yds_def  rush_yds_def  to_def  exp_pts_off  \\\n",
       "0            15.0      308.0         276.0          32.0     1.0        18.24   \n",
       "1            11.0      184.0         142.0          42.0     4.0        14.12   \n",
       "2             6.0      105.0          69.0          36.0     1.0         1.65   \n",
       "3            23.0      375.0         240.0         135.0     4.0       -14.59   \n",
       "4            11.0      223.0          78.0         145.0     2.0         9.23   \n",
       "\n",
       "   exp_pts_def  exp_pts_st  is_playoff  \n",
       "0         9.50       -0.80       False  \n",
       "1        35.44      -12.05       False  \n",
       "2        26.43       -9.81       False  \n",
       "3        12.71        6.09       False  \n",
       "4        20.78       -6.54       False  \n",
       "\n",
       "[5 rows x 27 columns]"
      ]
     },
     "execution_count": 17,
     "metadata": {},
     "output_type": "execute_result"
    }
   ],
   "source": [
    "df_schedules.head()"
   ]
  },
  {
   "cell_type": "markdown",
   "id": "862746c9-4eb4-49c3-bccd-e458a597a0ac",
   "metadata": {
    "tags": []
   },
   "source": [
    "#### the actual merge"
   ]
  },
  {
   "cell_type": "markdown",
   "id": "4aa615d5-7ff4-4aa7-8b85-a4c1d00d9248",
   "metadata": {
    "tags": []
   },
   "source": [
    "##### Column prefixes\n",
    "    - gs_  : game_stat_\n",
    "    - hts_ : home_team_stat_\n",
    "    - ats_ : away_team_stat_"
   ]
  },
  {
   "cell_type": "code",
   "execution_count": 18,
   "id": "8c5b075e-7222-43d8-bd89-d73b7830be2a",
   "metadata": {},
   "outputs": [],
   "source": [
    "df_schedules.columns = 'gs_' + df_schedules.columns\n",
    "\n",
    "df_home_team_stats = df_stats.copy()\n",
    "df_home_team_stats.columns =  'hts_' + df_home_team_stats.columns\n",
    "\n",
    "df_away_team_stats = df_stats.copy()\n",
    "df_away_team_stats.columns =  'ats_' + df_away_team_stats.columns"
   ]
  },
  {
   "cell_type": "code",
   "execution_count": 20,
   "id": "105c708e-1148-4c2a-9891-898186579bb0",
   "metadata": {},
   "outputs": [
    {
     "name": "stdout",
     "output_type": "stream",
     "text": [
      "With home team stats: (24522, 66)\n",
      "With home and away team stats: (24522, 105)\n"
     ]
    }
   ],
   "source": [
    "df_games = pd.merge(\n",
    "    df_schedules, \n",
    "    df_home_team_stats, \n",
    "    how='inner', \n",
    "    left_on=['gs_team', 'gs_year'], \n",
    "    right_on=['hts_team', 'hts_year'],\n",
    ")\n",
    "print('With home team stats:', df_games.shape)\n",
    "\n",
    "df_games = pd.merge(\n",
    "    df_games, \n",
    "    df_away_team_stats, \n",
    "    how='inner', \n",
    "    left_on=['gs_opp', 'gs_year'], \n",
    "    right_on=['ats_team', 'ats_year'],\n",
    ")\n",
    "print('With home and away team stats:', df_games.shape)"
   ]
  },
  {
   "cell_type": "code",
   "execution_count": 21,
   "id": "19b880d5-39ab-4a50-bc2f-b88464ae2f30",
   "metadata": {},
   "outputs": [
    {
     "ename": "KeyError",
     "evalue": "\"['hts_wins', 'ats_wins'] not in index\"",
     "output_type": "error",
     "traceback": [
      "\u001b[0;31m---------------------------------------------------------------------------\u001b[0m",
      "\u001b[0;31mKeyError\u001b[0m                                  Traceback (most recent call last)",
      "Input \u001b[0;32mIn [21]\u001b[0m, in \u001b[0;36m<module>\u001b[0;34m\u001b[0m\n\u001b[0;32m----> 1\u001b[0m \u001b[43mdf_games\u001b[49m\u001b[43m[\u001b[49m\u001b[43m[\u001b[49m\u001b[38;5;124;43m'\u001b[39;49m\u001b[38;5;124;43mgs_team\u001b[39;49m\u001b[38;5;124;43m'\u001b[39;49m\u001b[43m,\u001b[49m\u001b[43m \u001b[49m\u001b[38;5;124;43m'\u001b[39;49m\u001b[38;5;124;43mgs_opp\u001b[39;49m\u001b[38;5;124;43m'\u001b[39;49m\u001b[43m,\u001b[49m\u001b[43m \u001b[49m\u001b[38;5;124;43m'\u001b[39;49m\u001b[38;5;124;43mgs_year\u001b[39;49m\u001b[38;5;124;43m'\u001b[39;49m\u001b[43m,\u001b[49m\u001b[43m \u001b[49m\u001b[38;5;124;43m'\u001b[39;49m\u001b[38;5;124;43mgs_week_number\u001b[39;49m\u001b[38;5;124;43m'\u001b[39;49m\u001b[43m,\u001b[49m\u001b[43m \u001b[49m\u001b[38;5;124;43m'\u001b[39;49m\u001b[38;5;124;43mhts_wins\u001b[39;49m\u001b[38;5;124;43m'\u001b[39;49m\u001b[43m,\u001b[49m\u001b[43m \u001b[49m\u001b[38;5;124;43m'\u001b[39;49m\u001b[38;5;124;43mats_wins\u001b[39;49m\u001b[38;5;124;43m'\u001b[39;49m\u001b[43m]\u001b[49m\u001b[43m]\u001b[49m\n",
      "File \u001b[0;32m/mnt/c/Users/joao.fernando.BEIRARIO/Desktop/joao.fa/projetos_scripts/fc/PJ3/G3/j_venv/lib/python3.8/site-packages/pandas/core/frame.py:3464\u001b[0m, in \u001b[0;36mDataFrame.__getitem__\u001b[0;34m(self, key)\u001b[0m\n\u001b[1;32m   3462\u001b[0m     \u001b[38;5;28;01mif\u001b[39;00m is_iterator(key):\n\u001b[1;32m   3463\u001b[0m         key \u001b[38;5;241m=\u001b[39m \u001b[38;5;28mlist\u001b[39m(key)\n\u001b[0;32m-> 3464\u001b[0m     indexer \u001b[38;5;241m=\u001b[39m \u001b[38;5;28;43mself\u001b[39;49m\u001b[38;5;241;43m.\u001b[39;49m\u001b[43mloc\u001b[49m\u001b[38;5;241;43m.\u001b[39;49m\u001b[43m_get_listlike_indexer\u001b[49m\u001b[43m(\u001b[49m\u001b[43mkey\u001b[49m\u001b[43m,\u001b[49m\u001b[43m \u001b[49m\u001b[43maxis\u001b[49m\u001b[38;5;241;43m=\u001b[39;49m\u001b[38;5;241;43m1\u001b[39;49m\u001b[43m)\u001b[49m[\u001b[38;5;241m1\u001b[39m]\n\u001b[1;32m   3466\u001b[0m \u001b[38;5;66;03m# take() does not accept boolean indexers\u001b[39;00m\n\u001b[1;32m   3467\u001b[0m \u001b[38;5;28;01mif\u001b[39;00m \u001b[38;5;28mgetattr\u001b[39m(indexer, \u001b[38;5;124m\"\u001b[39m\u001b[38;5;124mdtype\u001b[39m\u001b[38;5;124m\"\u001b[39m, \u001b[38;5;28;01mNone\u001b[39;00m) \u001b[38;5;241m==\u001b[39m \u001b[38;5;28mbool\u001b[39m:\n",
      "File \u001b[0;32m/mnt/c/Users/joao.fernando.BEIRARIO/Desktop/joao.fa/projetos_scripts/fc/PJ3/G3/j_venv/lib/python3.8/site-packages/pandas/core/indexing.py:1314\u001b[0m, in \u001b[0;36m_LocIndexer._get_listlike_indexer\u001b[0;34m(self, key, axis)\u001b[0m\n\u001b[1;32m   1311\u001b[0m \u001b[38;5;28;01melse\u001b[39;00m:\n\u001b[1;32m   1312\u001b[0m     keyarr, indexer, new_indexer \u001b[38;5;241m=\u001b[39m ax\u001b[38;5;241m.\u001b[39m_reindex_non_unique(keyarr)\n\u001b[0;32m-> 1314\u001b[0m \u001b[38;5;28;43mself\u001b[39;49m\u001b[38;5;241;43m.\u001b[39;49m\u001b[43m_validate_read_indexer\u001b[49m\u001b[43m(\u001b[49m\u001b[43mkeyarr\u001b[49m\u001b[43m,\u001b[49m\u001b[43m \u001b[49m\u001b[43mindexer\u001b[49m\u001b[43m,\u001b[49m\u001b[43m \u001b[49m\u001b[43maxis\u001b[49m\u001b[43m)\u001b[49m\n\u001b[1;32m   1316\u001b[0m \u001b[38;5;28;01mif\u001b[39;00m needs_i8_conversion(ax\u001b[38;5;241m.\u001b[39mdtype) \u001b[38;5;129;01mor\u001b[39;00m \u001b[38;5;28misinstance\u001b[39m(\n\u001b[1;32m   1317\u001b[0m     ax, (IntervalIndex, CategoricalIndex)\n\u001b[1;32m   1318\u001b[0m ):\n\u001b[1;32m   1319\u001b[0m     \u001b[38;5;66;03m# For CategoricalIndex take instead of reindex to preserve dtype.\u001b[39;00m\n\u001b[1;32m   1320\u001b[0m     \u001b[38;5;66;03m#  For IntervalIndex this is to map integers to the Intervals they match to.\u001b[39;00m\n\u001b[1;32m   1321\u001b[0m     keyarr \u001b[38;5;241m=\u001b[39m ax\u001b[38;5;241m.\u001b[39mtake(indexer)\n",
      "File \u001b[0;32m/mnt/c/Users/joao.fernando.BEIRARIO/Desktop/joao.fa/projetos_scripts/fc/PJ3/G3/j_venv/lib/python3.8/site-packages/pandas/core/indexing.py:1377\u001b[0m, in \u001b[0;36m_LocIndexer._validate_read_indexer\u001b[0;34m(self, key, indexer, axis)\u001b[0m\n\u001b[1;32m   1374\u001b[0m     \u001b[38;5;28;01mraise\u001b[39;00m \u001b[38;5;167;01mKeyError\u001b[39;00m(\u001b[38;5;124mf\u001b[39m\u001b[38;5;124m\"\u001b[39m\u001b[38;5;124mNone of [\u001b[39m\u001b[38;5;132;01m{\u001b[39;00mkey\u001b[38;5;132;01m}\u001b[39;00m\u001b[38;5;124m] are in the [\u001b[39m\u001b[38;5;132;01m{\u001b[39;00maxis_name\u001b[38;5;132;01m}\u001b[39;00m\u001b[38;5;124m]\u001b[39m\u001b[38;5;124m\"\u001b[39m)\n\u001b[1;32m   1376\u001b[0m not_found \u001b[38;5;241m=\u001b[39m \u001b[38;5;28mlist\u001b[39m(ensure_index(key)[missing_mask\u001b[38;5;241m.\u001b[39mnonzero()[\u001b[38;5;241m0\u001b[39m]]\u001b[38;5;241m.\u001b[39munique())\n\u001b[0;32m-> 1377\u001b[0m \u001b[38;5;28;01mraise\u001b[39;00m \u001b[38;5;167;01mKeyError\u001b[39;00m(\u001b[38;5;124mf\u001b[39m\u001b[38;5;124m\"\u001b[39m\u001b[38;5;132;01m{\u001b[39;00mnot_found\u001b[38;5;132;01m}\u001b[39;00m\u001b[38;5;124m not in index\u001b[39m\u001b[38;5;124m\"\u001b[39m)\n",
      "\u001b[0;31mKeyError\u001b[0m: \"['hts_wins', 'ats_wins'] not in index\""
     ]
    }
   ],
   "source": [
    "df_games[['gs_team', 'gs_opp', 'gs_year', 'gs_week_number', 'hts_wins', 'ats_wins']]"
   ]
  },
  {
   "cell_type": "code",
   "execution_count": 28,
   "id": "ddfac623-5c51-4e98-874e-4a67e8e9a6c1",
   "metadata": {},
   "outputs": [],
   "source": [
    "import pickle\n",
    "\n",
    "p = pickle.load(open(os.path.join('..', 'data', '1970-2020.pickle'), 'rb'))"
   ]
  },
  {
   "cell_type": "code",
   "execution_count": 35,
   "id": "51ecd5d9-4f42-4cf7-9679-f6becc38e9ec",
   "metadata": {
    "tags": []
   },
   "outputs": [
    {
     "data": {
      "text/plain": [
       "dict_keys(['game_day_of_week', 'game_date', 'game_time', 'boxscore_word', 'game_outcome', 'overtime', 'team_record', 'game_location', 'opp', 'pts_off', 'pts_def', 'first_down_off', 'yards_off', 'pass_yds_off', 'rush_yds_off', 'to_off', 'first_down_def', 'yards_def', 'pass_yds_def', 'rush_yds_def', 'to_def', 'exp_pts_off', 'exp_pts_def', 'exp_pts_st'])"
      ]
     },
     "execution_count": 35,
     "metadata": {},
     "output_type": "execute_result"
    }
   ],
   "source": [
    "p[0][2019]['New England Patriots'][16].keys()"
   ]
  },
  {
   "cell_type": "markdown",
   "id": "5971a085-e1c5-4452-a687-5059dcb54973",
   "metadata": {},
   "source": [
    "---"
   ]
  },
  {
   "cell_type": "markdown",
   "id": "be1fec1b-9c4d-4641-bad5-bd2127fe7759",
   "metadata": {
    "tags": []
   },
   "source": [
    "#### playoffs and regular season"
   ]
  },
  {
   "cell_type": "code",
   "execution_count": null,
   "id": "b7613234-5d51-4d21-b02b-6619a7d1f146",
   "metadata": {},
   "outputs": [],
   "source": [
    "df_regular_season = df_games.query('gs_is_playoff == False')\n",
    "df_playoffs = df_games.query('gs_is_playoff == True')"
   ]
  },
  {
   "cell_type": "code",
   "execution_count": null,
   "id": "862ad2a8-77ca-4b69-8e8c-918043b570f5",
   "metadata": {
    "tags": []
   },
   "outputs": [],
   "source": [
    "df_regular_season.head()"
   ]
  },
  {
   "cell_type": "code",
   "execution_count": null,
   "id": "82f587ca-8d06-468e-832e-0d6c866d19fd",
   "metadata": {},
   "outputs": [],
   "source": [
    "df_playoffs.head()"
   ]
  },
  {
   "cell_type": "code",
   "execution_count": null,
   "id": "781efaea-a75e-4636-8fe4-0c5fe6261e3f",
   "metadata": {},
   "outputs": [],
   "source": [
    "game_stats_cols = df_playoffs.columns[pd.Series(df_playoffs.columns.str.startswith('gs_'))]\n",
    "home_team_stats_cols = df_playoffs.columns[pd.Series(df_playoffs.columns.str.startswith('hts_'))]\n",
    "away_team_stats_cols = df_playoffs.columns[pd.Series(df_playoffs.columns.str.startswith('ats_'))]\n",
    "\n",
    "col_groups = [('game_stats', game_stats_cols), ('home_team_stats', home_team_stats_cols), ('away_team_stats', away_team_stats_cols)]"
   ]
  },
  {
   "cell_type": "code",
   "execution_count": null,
   "id": "c5cc42b1-468b-46e0-b5da-c6caa8fd4934",
   "metadata": {},
   "outputs": [],
   "source": [
    "for name, group in col_groups:\n",
    "    c = 0\n",
    "    print(f'{name}:', end=' ')\n",
    "    for col in group:\n",
    "        print(col, end=', ')\n",
    "        c += 1\n",
    "        if c == 5: break\n",
    "    print('')"
   ]
  },
  {
   "cell_type": "markdown",
   "id": "7768f2c6-3a06-4cc4-bfd6-de3a6a51c339",
   "metadata": {
    "tags": []
   },
   "source": [
    "#### export to csv"
   ]
  },
  {
   "cell_type": "code",
   "execution_count": null,
   "id": "ef223c6d-a966-4b37-8dc9-62aab29d1f29",
   "metadata": {},
   "outputs": [],
   "source": [
    "df_games.to_csv('all_games.csv', sep=';', encoding='utf-8', index=False)\n",
    "df_playoffs.to_csv('playoffs.csv', sep=';', encoding='utf-8', index=False)\n",
    "df_regular_season.to_csv('regular_season.csv', sep=';', encoding='utf-8', index=False)"
   ]
  },
  {
   "cell_type": "markdown",
   "id": "fb96c216-7142-453a-8f93-f63bbd9e893c",
   "metadata": {},
   "source": [
    "---"
   ]
  },
  {
   "cell_type": "markdown",
   "id": "419970a3-1625-4bf4-ab9b-14bbb0d3d3a6",
   "metadata": {
    "tags": []
   },
   "source": [
    "#### exploration"
   ]
  },
  {
   "cell_type": "markdown",
   "id": "2235bce0-ae5b-451a-8887-ccafd380f7c9",
   "metadata": {},
   "source": [
    "##### 2020 & Kansas City Chiefs"
   ]
  },
  {
   "cell_type": "code",
   "execution_count": null,
   "id": "251e2455-2df5-4669-ab00-ba4e618257a3",
   "metadata": {},
   "outputs": [],
   "source": [
    "df_stats[(df_stats['year'] == 2020) & (df_stats['team'] == 'Kansas City Chiefs')]"
   ]
  },
  {
   "cell_type": "code",
   "execution_count": null,
   "id": "3d7e97c8-cba6-4a5f-8005-0e5790077c3d",
   "metadata": {},
   "outputs": [],
   "source": [
    "df_playoffs[(df_playoffs['gs_year'] == 2020) & (df_playoffs['gs_team'] == 'Kansas City Chiefs')][home_team_stats_cols]"
   ]
  },
  {
   "cell_type": "markdown",
   "id": "5a720b98-e18f-4b54-938a-fffb5a73223e",
   "metadata": {},
   "source": [
    "##### 1970 & Dallas Cowboys"
   ]
  },
  {
   "cell_type": "code",
   "execution_count": null,
   "id": "6f0ddc64-eafe-4cbb-8846-508dc1929585",
   "metadata": {},
   "outputs": [],
   "source": [
    "df_stats[(df_stats['year'] == 1970) & (df_stats['team'] == 'Dallas Cowboys')]"
   ]
  },
  {
   "cell_type": "code",
   "execution_count": null,
   "id": "2e98f800-bdd1-43d7-9f7f-9bcf8aa14756",
   "metadata": {},
   "outputs": [],
   "source": [
    "df_playoffs[(df_playoffs['gs_year'] == 1970) & (df_playoffs['gs_team'] == 'Dallas Cowboys')][home_team_stats_cols]"
   ]
  }
 ],
 "metadata": {
  "kernelspec": {
   "display_name": "Python 3 (ipykernel)",
   "language": "python",
   "name": "python3"
  },
  "language_info": {
   "codemirror_mode": {
    "name": "ipython",
    "version": 3
   },
   "file_extension": ".py",
   "mimetype": "text/x-python",
   "name": "python",
   "nbconvert_exporter": "python",
   "pygments_lexer": "ipython3",
   "version": "3.8.10"
  }
 },
 "nbformat": 4,
 "nbformat_minor": 5
}
