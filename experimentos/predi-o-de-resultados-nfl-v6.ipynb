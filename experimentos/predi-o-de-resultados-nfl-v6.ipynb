{
 "cells": [
  {
   "cell_type": "code",
   "execution_count": 1,
   "id": "a0d26f0f",
   "metadata": {
    "execution": {
     "iopub.execute_input": "2022-09-02T19:56:11.863641Z",
     "iopub.status.busy": "2022-09-02T19:56:11.863186Z",
     "iopub.status.idle": "2022-09-02T19:56:11.873814Z",
     "shell.execute_reply": "2022-09-02T19:56:11.873170Z"
    },
    "papermill": {
     "duration": 0.026442,
     "end_time": "2022-09-02T19:56:11.875883",
     "exception": false,
     "start_time": "2022-09-02T19:56:11.849441",
     "status": "completed"
    },
    "tags": []
   },
   "outputs": [],
   "source": [
    "import os\n",
    "import time\n",
    "import numpy as np\n",
    "import pandas as pd"
   ]
  },
  {
   "cell_type": "code",
   "execution_count": 2,
   "id": "ce5df997",
   "metadata": {
    "execution": {
     "iopub.execute_input": "2022-09-02T19:56:11.899994Z",
     "iopub.status.busy": "2022-09-02T19:56:11.899709Z",
     "iopub.status.idle": "2022-09-02T19:56:11.903587Z",
     "shell.execute_reply": "2022-09-02T19:56:11.902737Z"
    },
    "papermill": {
     "duration": 0.01808,
     "end_time": "2022-09-02T19:56:11.905265",
     "exception": false,
     "start_time": "2022-09-02T19:56:11.887185",
     "status": "completed"
    },
    "tags": []
   },
   "outputs": [],
   "source": [
    "pd.set_option('display.max_rows', 100)\n",
    "pd.set_option('display.max_columns', 100)\n",
    "pd.set_option('display.width', 1000)"
   ]
  },
  {
   "cell_type": "code",
   "execution_count": 3,
   "id": "6b072e03",
   "metadata": {
    "execution": {
     "iopub.execute_input": "2022-09-02T19:56:11.930059Z",
     "iopub.status.busy": "2022-09-02T19:56:11.929530Z",
     "iopub.status.idle": "2022-09-02T19:56:11.940609Z",
     "shell.execute_reply": "2022-09-02T19:56:11.939947Z"
    },
    "papermill": {
     "duration": 0.02505,
     "end_time": "2022-09-02T19:56:11.942488",
     "exception": false,
     "start_time": "2022-09-02T19:56:11.917438",
     "status": "completed"
    },
    "tags": []
   },
   "outputs": [
    {
     "name": "stdout",
     "output_type": "stream",
     "text": [
      "/kaggle/input/nfl-playoffs-19702021/df_kaggle_test.csv\n",
      "/kaggle/input/nfl-playoffs-19702021/playoffs.csv\n",
      "/kaggle/input/nfl-playoffs-19702021/all_games.csv\n",
      "/kaggle/input/nfl-playoffs-19702021/df_kaggle_test_labels.csv\n",
      "/kaggle/input/nfl-playoffs-19702021/df_kaggle_train.csv\n",
      "/kaggle/input/nfl-playoffs-19702021/games_calculated_averages.csv\n",
      "/kaggle/input/nfl-playoffs-19702021/1970-2021.csv\n",
      "/kaggle/input/nfl-playoffs-19702021/regular_season.csv\n",
      "/kaggle/input/nfl-playoffs-19702021/1970-2021_team_schedule.csv\n",
      "/kaggle/input/nfl-playoffs-19702021/df_only_averages.csv\n",
      "/kaggle/input/nfl-playoffs-19702021/grouped_averages.csv\n"
     ]
    }
   ],
   "source": [
    "import os\n",
    "for dirname, _, filenames in os.walk('/kaggle/input'):\n",
    "    for filename in filenames:\n",
    "        print(os.path.join(dirname, filename))"
   ]
  },
  {
   "cell_type": "code",
   "execution_count": 4,
   "id": "3c20a88b",
   "metadata": {
    "execution": {
     "iopub.execute_input": "2022-09-02T19:56:11.966851Z",
     "iopub.status.busy": "2022-09-02T19:56:11.966347Z",
     "iopub.status.idle": "2022-09-02T19:56:11.971444Z",
     "shell.execute_reply": "2022-09-02T19:56:11.970369Z"
    },
    "papermill": {
     "duration": 0.019998,
     "end_time": "2022-09-02T19:56:11.973880",
     "exception": false,
     "start_time": "2022-09-02T19:56:11.953882",
     "status": "completed"
    },
    "tags": []
   },
   "outputs": [],
   "source": [
    "class Timer:\n",
    "    \n",
    "    def __init__(self):\n",
    "        self.start_time = time.time()\n",
    "        \n",
    "    def end(self):\n",
    "        self.end_time = time.time()\n",
    "        elapsed_time = round(self.end_time - self.start_time, 3)\n",
    "        print(f'Execution took {elapsed_time}s')"
   ]
  },
  {
   "cell_type": "markdown",
   "id": "395c232f",
   "metadata": {
    "papermill": {
     "duration": 0.010938,
     "end_time": "2022-09-02T19:56:11.996276",
     "exception": false,
     "start_time": "2022-09-02T19:56:11.985338",
     "status": "completed"
    },
    "tags": []
   },
   "source": [
    "---"
   ]
  },
  {
   "cell_type": "code",
   "execution_count": 5,
   "id": "7416e97a",
   "metadata": {
    "execution": {
     "iopub.execute_input": "2022-09-02T19:56:12.020916Z",
     "iopub.status.busy": "2022-09-02T19:56:12.020579Z",
     "iopub.status.idle": "2022-09-02T19:56:13.140148Z",
     "shell.execute_reply": "2022-09-02T19:56:13.139136Z"
    },
    "papermill": {
     "duration": 1.135235,
     "end_time": "2022-09-02T19:56:13.142921",
     "exception": false,
     "start_time": "2022-09-02T19:56:12.007686",
     "status": "completed"
    },
    "tags": []
   },
   "outputs": [],
   "source": [
    "from pprint import pprint\n",
    "from sklearn.metrics import (\n",
    "    ConfusionMatrixDisplay, \n",
    "    accuracy_score,\n",
    "    balanced_accuracy_score,\n",
    "    precision_score, \n",
    "    recall_score, \n",
    "    f1_score\n",
    ")\n",
    "from datetime import datetime\n",
    "\n",
    "all_scores = {}\n",
    "\n",
    "def show_scores(scores: dict = all_scores):\n",
    "    display(pd.DataFrame(all_scores.values()))\n",
    "\n",
    "def calculate_scores(\n",
    "    model_name: str, \n",
    "    y_test: pd.Series, pred: np.ndarray, \n",
    "    pos_label: str or int = 1,\n",
    "    score_list: list = all_scores,\n",
    "    display_confusion_matrix: bool = True,\n",
    "    display_scores: bool = True\n",
    "    ):\n",
    "    cf_mx = ConfusionMatrixDisplay.from_predictions(y_test, pred)\n",
    "    acc = accuracy_score(y_test, pred)\n",
    "    bacc = balanced_accuracy_score(y_test, pred)\n",
    "    precision = precision_score(y_test, pred, pos_label=pos_label)\n",
    "    recall = recall_score(y_test, pred, pos_label=pos_label)\n",
    "    f1 = f1_score(y_test, pred, pos_label=pos_label)\n",
    "    \n",
    "    model_scores = {\n",
    "        'model_name': model_name,\n",
    "        'acc': acc,\n",
    "        'bacc': bacc,\n",
    "        'precision': precision,\n",
    "        'recall': recall,\n",
    "        'f1score': f1\n",
    "    }\n",
    "    score_list[model_name] = model_scores\n",
    "    \n",
    "    if display_confusion_matrix:\n",
    "        display(cf_mx)   \n",
    "    if show_scores:\n",
    "        show_scores(score_list)\n",
    "    return model_scores"
   ]
  },
  {
   "cell_type": "code",
   "execution_count": 6,
   "id": "9f55d7c8",
   "metadata": {
    "execution": {
     "iopub.execute_input": "2022-09-02T19:56:13.169162Z",
     "iopub.status.busy": "2022-09-02T19:56:13.168296Z",
     "iopub.status.idle": "2022-09-02T19:56:13.173176Z",
     "shell.execute_reply": "2022-09-02T19:56:13.171978Z"
    },
    "papermill": {
     "duration": 0.020477,
     "end_time": "2022-09-02T19:56:13.175664",
     "exception": false,
     "start_time": "2022-09-02T19:56:13.155187",
     "status": "completed"
    },
    "tags": []
   },
   "outputs": [],
   "source": [
    "from joblib import dump\n",
    "\n",
    "def save_clf(clf, clf_name: str):\n",
    "    dump(clf, clf_name + '.joblib')"
   ]
  },
  {
   "cell_type": "markdown",
   "id": "a177a4bd",
   "metadata": {
    "papermill": {
     "duration": 0.011348,
     "end_time": "2022-09-02T19:56:13.199526",
     "exception": false,
     "start_time": "2022-09-02T19:56:13.188178",
     "status": "completed"
    },
    "tags": []
   },
   "source": [
    "---"
   ]
  },
  {
   "cell_type": "markdown",
   "id": "96e69cad",
   "metadata": {
    "papermill": {
     "duration": 0.01527,
     "end_time": "2022-09-02T19:56:13.226168",
     "exception": false,
     "start_time": "2022-09-02T19:56:13.210898",
     "status": "completed"
    },
    "tags": []
   },
   "source": [
    "# Carregamento do dataset Kaggle e preparaçao para treino e teste"
   ]
  },
  {
   "cell_type": "code",
   "execution_count": 7,
   "id": "30e26099",
   "metadata": {
    "execution": {
     "iopub.execute_input": "2022-09-02T19:56:13.254338Z",
     "iopub.status.busy": "2022-09-02T19:56:13.253949Z",
     "iopub.status.idle": "2022-09-02T19:56:13.383773Z",
     "shell.execute_reply": "2022-09-02T19:56:13.382819Z"
    },
    "papermill": {
     "duration": 0.146654,
     "end_time": "2022-09-02T19:56:13.385802",
     "exception": false,
     "start_time": "2022-09-02T19:56:13.239148",
     "status": "completed"
    },
    "tags": []
   },
   "outputs": [],
   "source": [
    "df_averages = pd.read_csv('/kaggle/input/nfl-playoffs-19702021/df_only_averages.csv')\n",
    "df_averages.drop(['Unnamed: 0'], axis=1, inplace=True)\n",
    "df_averages.sort_values(['gs_year'], ascending=False, inplace=True)"
   ]
  },
  {
   "cell_type": "code",
   "execution_count": 8,
   "id": "1d8548bf",
   "metadata": {
    "execution": {
     "iopub.execute_input": "2022-09-02T19:56:13.410746Z",
     "iopub.status.busy": "2022-09-02T19:56:13.410448Z",
     "iopub.status.idle": "2022-09-02T19:56:13.429758Z",
     "shell.execute_reply": "2022-09-02T19:56:13.428943Z"
    },
    "papermill": {
     "duration": 0.034595,
     "end_time": "2022-09-02T19:56:13.431708",
     "exception": false,
     "start_time": "2022-09-02T19:56:13.397113",
     "status": "completed"
    },
    "tags": []
   },
   "outputs": [],
   "source": [
    "df_averages.drop(df_averages[pd.isna(df_averages['gs_is_playoff'])].index, inplace=True)\n",
    "df_averages.drop(df_averages[pd.isna(df_averages['winorlose'])].index, inplace=True)\n",
    "df_averages.drop(df_averages[df_averages['winorlose'] == 'T'].index, inplace=True)"
   ]
  },
  {
   "cell_type": "code",
   "execution_count": 9,
   "id": "9cac4209",
   "metadata": {
    "execution": {
     "iopub.execute_input": "2022-09-02T19:56:13.459290Z",
     "iopub.status.busy": "2022-09-02T19:56:13.458635Z",
     "iopub.status.idle": "2022-09-02T19:56:13.467080Z",
     "shell.execute_reply": "2022-09-02T19:56:13.465823Z"
    },
    "papermill": {
     "duration": 0.024316,
     "end_time": "2022-09-02T19:56:13.469137",
     "exception": false,
     "start_time": "2022-09-02T19:56:13.444821",
     "status": "completed"
    },
    "tags": []
   },
   "outputs": [
    {
     "data": {
      "text/plain": [
       "(12542, 35)"
      ]
     },
     "execution_count": 9,
     "metadata": {},
     "output_type": "execute_result"
    }
   ],
   "source": [
    "df_averages.shape"
   ]
  },
  {
   "cell_type": "markdown",
   "id": "db65950e",
   "metadata": {
    "papermill": {
     "duration": 0.011839,
     "end_time": "2022-09-02T19:56:13.492748",
     "exception": false,
     "start_time": "2022-09-02T19:56:13.480909",
     "status": "completed"
    },
    "tags": []
   },
   "source": [
    "---"
   ]
  },
  {
   "cell_type": "code",
   "execution_count": 10,
   "id": "403c08b0",
   "metadata": {
    "execution": {
     "iopub.execute_input": "2022-09-02T19:56:13.518167Z",
     "iopub.status.busy": "2022-09-02T19:56:13.517630Z",
     "iopub.status.idle": "2022-09-02T19:56:13.559535Z",
     "shell.execute_reply": "2022-09-02T19:56:13.558721Z"
    },
    "papermill": {
     "duration": 0.056388,
     "end_time": "2022-09-02T19:56:13.561486",
     "exception": false,
     "start_time": "2022-09-02T19:56:13.505098",
     "status": "completed"
    },
    "tags": []
   },
   "outputs": [
    {
     "data": {
      "text/html": [
       "<div>\n",
       "<style scoped>\n",
       "    .dataframe tbody tr th:only-of-type {\n",
       "        vertical-align: middle;\n",
       "    }\n",
       "\n",
       "    .dataframe tbody tr th {\n",
       "        vertical-align: top;\n",
       "    }\n",
       "\n",
       "    .dataframe thead th {\n",
       "        text-align: right;\n",
       "    }\n",
       "</style>\n",
       "<table border=\"1\" class=\"dataframe\">\n",
       "  <thead>\n",
       "    <tr style=\"text-align: right;\">\n",
       "      <th></th>\n",
       "      <th>gs_year</th>\n",
       "      <th>gs_team</th>\n",
       "      <th>winorlose</th>\n",
       "      <th>gs_id</th>\n",
       "      <th>gs_is_playoff</th>\n",
       "      <th>avg_gs_pts_off</th>\n",
       "      <th>avg_gs_pts_def</th>\n",
       "      <th>avg_gs_first_down_off</th>\n",
       "      <th>avg_gs_yards_off</th>\n",
       "      <th>avg_gs_pass_yds_off</th>\n",
       "      <th>avg_gs_rush_yds_off</th>\n",
       "      <th>avg_gs_to_off</th>\n",
       "      <th>avg_gs_first_down_def</th>\n",
       "      <th>avg_gs_yards_def</th>\n",
       "      <th>avg_gs_pass_yds_def</th>\n",
       "      <th>avg_gs_rush_yds_def</th>\n",
       "      <th>avg_gs_to_def</th>\n",
       "      <th>avg_gs_exp_pts_off</th>\n",
       "      <th>avg_gs_exp_pts_def</th>\n",
       "      <th>avg_gs_exp_pts_st</th>\n",
       "      <th>last_year_avg_gs_pts_off</th>\n",
       "      <th>last_year_avg_gs_pts_def</th>\n",
       "      <th>last_year_avg_gs_first_down_off</th>\n",
       "      <th>last_year_avg_gs_yards_off</th>\n",
       "      <th>last_year_avg_gs_pass_yds_off</th>\n",
       "      <th>last_year_avg_gs_rush_yds_off</th>\n",
       "      <th>last_year_avg_gs_to_off</th>\n",
       "      <th>last_year_avg_gs_first_down_def</th>\n",
       "      <th>last_year_avg_gs_yards_def</th>\n",
       "      <th>last_year_avg_gs_pass_yds_def</th>\n",
       "      <th>last_year_avg_gs_rush_yds_def</th>\n",
       "      <th>last_year_avg_gs_to_def</th>\n",
       "      <th>last_year_avg_gs_exp_pts_off</th>\n",
       "      <th>last_year_avg_gs_exp_pts_def</th>\n",
       "      <th>last_year_avg_gs_exp_pts_st</th>\n",
       "    </tr>\n",
       "  </thead>\n",
       "  <tbody>\n",
       "    <tr>\n",
       "      <th>11598</th>\n",
       "      <td>2018</td>\n",
       "      <td>Ravens</td>\n",
       "      <td>W</td>\n",
       "      <td>602.0</td>\n",
       "      <td>False</td>\n",
       "      <td>23.000000</td>\n",
       "      <td>34.000000</td>\n",
       "      <td>28.000000</td>\n",
       "      <td>425.000000</td>\n",
       "      <td>359.000000</td>\n",
       "      <td>66.000000</td>\n",
       "      <td>3.000000</td>\n",
       "      <td>24.000000</td>\n",
       "      <td>373.000000</td>\n",
       "      <td>265.000000</td>\n",
       "      <td>108.000000</td>\n",
       "      <td>NaN</td>\n",
       "      <td>2.720000</td>\n",
       "      <td>-12.800000</td>\n",
       "      <td>1.120000</td>\n",
       "      <td>18.669048</td>\n",
       "      <td>17.740476</td>\n",
       "      <td>16.626531</td>\n",
       "      <td>264.080612</td>\n",
       "      <td>135.184694</td>\n",
       "      <td>128.895918</td>\n",
       "      <td>1.764286</td>\n",
       "      <td>17.192517</td>\n",
       "      <td>293.688776</td>\n",
       "      <td>182.507143</td>\n",
       "      <td>111.181633</td>\n",
       "      <td>3.219048</td>\n",
       "      <td>-5.338942</td>\n",
       "      <td>8.586643</td>\n",
       "      <td>0.100163</td>\n",
       "    </tr>\n",
       "    <tr>\n",
       "      <th>11592</th>\n",
       "      <td>2018</td>\n",
       "      <td>Colts</td>\n",
       "      <td>W</td>\n",
       "      <td>763.0</td>\n",
       "      <td>False</td>\n",
       "      <td>23.750000</td>\n",
       "      <td>27.250000</td>\n",
       "      <td>20.250000</td>\n",
       "      <td>339.250000</td>\n",
       "      <td>243.500000</td>\n",
       "      <td>95.750000</td>\n",
       "      <td>3.000000</td>\n",
       "      <td>22.500000</td>\n",
       "      <td>381.250000</td>\n",
       "      <td>276.000000</td>\n",
       "      <td>105.250000</td>\n",
       "      <td>1.750000</td>\n",
       "      <td>-1.150000</td>\n",
       "      <td>-3.530000</td>\n",
       "      <td>3.207500</td>\n",
       "      <td>15.400680</td>\n",
       "      <td>38.341497</td>\n",
       "      <td>14.532313</td>\n",
       "      <td>264.014966</td>\n",
       "      <td>171.928231</td>\n",
       "      <td>92.086735</td>\n",
       "      <td>2.026190</td>\n",
       "      <td>20.432993</td>\n",
       "      <td>396.807143</td>\n",
       "      <td>281.085034</td>\n",
       "      <td>115.722109</td>\n",
       "      <td>1.376190</td>\n",
       "      <td>-14.018493</td>\n",
       "      <td>-11.140231</td>\n",
       "      <td>3.264252</td>\n",
       "    </tr>\n",
       "    <tr>\n",
       "      <th>11593</th>\n",
       "      <td>2018</td>\n",
       "      <td>Browns</td>\n",
       "      <td>L</td>\n",
       "      <td>693.0</td>\n",
       "      <td>False</td>\n",
       "      <td>27.666667</td>\n",
       "      <td>30.666667</td>\n",
       "      <td>18.000000</td>\n",
       "      <td>373.000000</td>\n",
       "      <td>233.000000</td>\n",
       "      <td>140.000000</td>\n",
       "      <td>2.000000</td>\n",
       "      <td>26.333333</td>\n",
       "      <td>432.000000</td>\n",
       "      <td>327.000000</td>\n",
       "      <td>105.000000</td>\n",
       "      <td>2.666667</td>\n",
       "      <td>-1.253333</td>\n",
       "      <td>-3.186667</td>\n",
       "      <td>-0.550000</td>\n",
       "      <td>17.001701</td>\n",
       "      <td>28.651020</td>\n",
       "      <td>20.941156</td>\n",
       "      <td>352.614966</td>\n",
       "      <td>232.391497</td>\n",
       "      <td>120.223469</td>\n",
       "      <td>3.595238</td>\n",
       "      <td>20.094558</td>\n",
       "      <td>342.084014</td>\n",
       "      <td>223.086395</td>\n",
       "      <td>118.997619</td>\n",
       "      <td>1.404762</td>\n",
       "      <td>-6.523313</td>\n",
       "      <td>-5.998888</td>\n",
       "      <td>0.626361</td>\n",
       "    </tr>\n",
       "    <tr>\n",
       "      <th>11594</th>\n",
       "      <td>2018</td>\n",
       "      <td>Dolphins</td>\n",
       "      <td>L</td>\n",
       "      <td>642.0</td>\n",
       "      <td>False</td>\n",
       "      <td>14.666667</td>\n",
       "      <td>25.666667</td>\n",
       "      <td>15.333333</td>\n",
       "      <td>242.000000</td>\n",
       "      <td>135.666667</td>\n",
       "      <td>106.333333</td>\n",
       "      <td>2.333333</td>\n",
       "      <td>21.333333</td>\n",
       "      <td>381.000000</td>\n",
       "      <td>274.333333</td>\n",
       "      <td>106.666667</td>\n",
       "      <td>2.000000</td>\n",
       "      <td>-9.650000</td>\n",
       "      <td>-4.286667</td>\n",
       "      <td>3.930000</td>\n",
       "      <td>14.132313</td>\n",
       "      <td>23.155102</td>\n",
       "      <td>18.281633</td>\n",
       "      <td>281.719728</td>\n",
       "      <td>195.068027</td>\n",
       "      <td>86.651701</td>\n",
       "      <td>1.744444</td>\n",
       "      <td>21.276190</td>\n",
       "      <td>362.352041</td>\n",
       "      <td>255.690476</td>\n",
       "      <td>106.661565</td>\n",
       "      <td>1.111111</td>\n",
       "      <td>-4.648224</td>\n",
       "      <td>-9.038235</td>\n",
       "      <td>4.205915</td>\n",
       "    </tr>\n",
       "    <tr>\n",
       "      <th>11595</th>\n",
       "      <td>2018</td>\n",
       "      <td>Packers</td>\n",
       "      <td>W</td>\n",
       "      <td>956.0</td>\n",
       "      <td>False</td>\n",
       "      <td>20.285714</td>\n",
       "      <td>28.142857</td>\n",
       "      <td>19.142857</td>\n",
       "      <td>360.428571</td>\n",
       "      <td>269.142857</td>\n",
       "      <td>91.285714</td>\n",
       "      <td>1.333333</td>\n",
       "      <td>21.857143</td>\n",
       "      <td>375.000000</td>\n",
       "      <td>249.000000</td>\n",
       "      <td>126.000000</td>\n",
       "      <td>1.000000</td>\n",
       "      <td>6.405714</td>\n",
       "      <td>-9.942857</td>\n",
       "      <td>-5.991429</td>\n",
       "      <td>24.262245</td>\n",
       "      <td>28.792517</td>\n",
       "      <td>21.360204</td>\n",
       "      <td>331.571429</td>\n",
       "      <td>232.677211</td>\n",
       "      <td>98.894218</td>\n",
       "      <td>2.000000</td>\n",
       "      <td>21.601701</td>\n",
       "      <td>374.296599</td>\n",
       "      <td>243.622109</td>\n",
       "      <td>130.674490</td>\n",
       "      <td>2.358333</td>\n",
       "      <td>7.406837</td>\n",
       "      <td>-10.109241</td>\n",
       "      <td>-1.312935</td>\n",
       "    </tr>\n",
       "    <tr>\n",
       "      <th>...</th>\n",
       "      <td>...</td>\n",
       "      <td>...</td>\n",
       "      <td>...</td>\n",
       "      <td>...</td>\n",
       "      <td>...</td>\n",
       "      <td>...</td>\n",
       "      <td>...</td>\n",
       "      <td>...</td>\n",
       "      <td>...</td>\n",
       "      <td>...</td>\n",
       "      <td>...</td>\n",
       "      <td>...</td>\n",
       "      <td>...</td>\n",
       "      <td>...</td>\n",
       "      <td>...</td>\n",
       "      <td>...</td>\n",
       "      <td>...</td>\n",
       "      <td>...</td>\n",
       "      <td>...</td>\n",
       "      <td>...</td>\n",
       "      <td>...</td>\n",
       "      <td>...</td>\n",
       "      <td>...</td>\n",
       "      <td>...</td>\n",
       "      <td>...</td>\n",
       "      <td>...</td>\n",
       "      <td>...</td>\n",
       "      <td>...</td>\n",
       "      <td>...</td>\n",
       "      <td>...</td>\n",
       "      <td>...</td>\n",
       "      <td>...</td>\n",
       "      <td>...</td>\n",
       "      <td>...</td>\n",
       "      <td>...</td>\n",
       "    </tr>\n",
       "    <tr>\n",
       "      <th>125</th>\n",
       "      <td>1970</td>\n",
       "      <td>49ers</td>\n",
       "      <td>W</td>\n",
       "      <td>26597.0</td>\n",
       "      <td>False</td>\n",
       "      <td>25.666667</td>\n",
       "      <td>14.333333</td>\n",
       "      <td>16.333333</td>\n",
       "      <td>318.666667</td>\n",
       "      <td>232.000000</td>\n",
       "      <td>86.666667</td>\n",
       "      <td>1.666667</td>\n",
       "      <td>13.333333</td>\n",
       "      <td>246.333333</td>\n",
       "      <td>130.666667</td>\n",
       "      <td>115.666667</td>\n",
       "      <td>2.666667</td>\n",
       "      <td>NaN</td>\n",
       "      <td>NaN</td>\n",
       "      <td>NaN</td>\n",
       "      <td>NaN</td>\n",
       "      <td>NaN</td>\n",
       "      <td>NaN</td>\n",
       "      <td>NaN</td>\n",
       "      <td>NaN</td>\n",
       "      <td>NaN</td>\n",
       "      <td>NaN</td>\n",
       "      <td>NaN</td>\n",
       "      <td>NaN</td>\n",
       "      <td>NaN</td>\n",
       "      <td>NaN</td>\n",
       "      <td>NaN</td>\n",
       "      <td>NaN</td>\n",
       "      <td>NaN</td>\n",
       "      <td>NaN</td>\n",
       "    </tr>\n",
       "    <tr>\n",
       "      <th>124</th>\n",
       "      <td>1970</td>\n",
       "      <td>Browns</td>\n",
       "      <td>L</td>\n",
       "      <td>26392.0</td>\n",
       "      <td>False</td>\n",
       "      <td>26.333333</td>\n",
       "      <td>19.000000</td>\n",
       "      <td>17.666667</td>\n",
       "      <td>342.333333</td>\n",
       "      <td>229.333333</td>\n",
       "      <td>113.000000</td>\n",
       "      <td>3.333333</td>\n",
       "      <td>17.666667</td>\n",
       "      <td>298.000000</td>\n",
       "      <td>152.333333</td>\n",
       "      <td>145.666667</td>\n",
       "      <td>2.500000</td>\n",
       "      <td>NaN</td>\n",
       "      <td>NaN</td>\n",
       "      <td>NaN</td>\n",
       "      <td>NaN</td>\n",
       "      <td>NaN</td>\n",
       "      <td>NaN</td>\n",
       "      <td>NaN</td>\n",
       "      <td>NaN</td>\n",
       "      <td>NaN</td>\n",
       "      <td>NaN</td>\n",
       "      <td>NaN</td>\n",
       "      <td>NaN</td>\n",
       "      <td>NaN</td>\n",
       "      <td>NaN</td>\n",
       "      <td>NaN</td>\n",
       "      <td>NaN</td>\n",
       "      <td>NaN</td>\n",
       "      <td>NaN</td>\n",
       "    </tr>\n",
       "    <tr>\n",
       "      <th>123</th>\n",
       "      <td>1970</td>\n",
       "      <td>Chiefs</td>\n",
       "      <td>W</td>\n",
       "      <td>26434.0</td>\n",
       "      <td>False</td>\n",
       "      <td>23.500000</td>\n",
       "      <td>24.000000</td>\n",
       "      <td>11.750000</td>\n",
       "      <td>227.000000</td>\n",
       "      <td>122.000000</td>\n",
       "      <td>105.000000</td>\n",
       "      <td>4.333333</td>\n",
       "      <td>18.750000</td>\n",
       "      <td>256.250000</td>\n",
       "      <td>147.500000</td>\n",
       "      <td>108.750000</td>\n",
       "      <td>3.000000</td>\n",
       "      <td>NaN</td>\n",
       "      <td>NaN</td>\n",
       "      <td>NaN</td>\n",
       "      <td>NaN</td>\n",
       "      <td>NaN</td>\n",
       "      <td>NaN</td>\n",
       "      <td>NaN</td>\n",
       "      <td>NaN</td>\n",
       "      <td>NaN</td>\n",
       "      <td>NaN</td>\n",
       "      <td>NaN</td>\n",
       "      <td>NaN</td>\n",
       "      <td>NaN</td>\n",
       "      <td>NaN</td>\n",
       "      <td>NaN</td>\n",
       "      <td>NaN</td>\n",
       "      <td>NaN</td>\n",
       "      <td>NaN</td>\n",
       "    </tr>\n",
       "    <tr>\n",
       "      <th>122</th>\n",
       "      <td>1970</td>\n",
       "      <td>Chargers</td>\n",
       "      <td>W</td>\n",
       "      <td>26448.0</td>\n",
       "      <td>False</td>\n",
       "      <td>19.000000</td>\n",
       "      <td>18.000000</td>\n",
       "      <td>16.000000</td>\n",
       "      <td>275.000000</td>\n",
       "      <td>185.666667</td>\n",
       "      <td>89.333333</td>\n",
       "      <td>4.000000</td>\n",
       "      <td>15.333333</td>\n",
       "      <td>267.666667</td>\n",
       "      <td>130.000000</td>\n",
       "      <td>137.666667</td>\n",
       "      <td>2.333333</td>\n",
       "      <td>NaN</td>\n",
       "      <td>NaN</td>\n",
       "      <td>NaN</td>\n",
       "      <td>NaN</td>\n",
       "      <td>NaN</td>\n",
       "      <td>NaN</td>\n",
       "      <td>NaN</td>\n",
       "      <td>NaN</td>\n",
       "      <td>NaN</td>\n",
       "      <td>NaN</td>\n",
       "      <td>NaN</td>\n",
       "      <td>NaN</td>\n",
       "      <td>NaN</td>\n",
       "      <td>NaN</td>\n",
       "      <td>NaN</td>\n",
       "      <td>NaN</td>\n",
       "      <td>NaN</td>\n",
       "      <td>NaN</td>\n",
       "    </tr>\n",
       "    <tr>\n",
       "      <th>0</th>\n",
       "      <td>1970</td>\n",
       "      <td>Steelers</td>\n",
       "      <td>L</td>\n",
       "      <td>26410.0</td>\n",
       "      <td>False</td>\n",
       "      <td>9.600000</td>\n",
       "      <td>19.800000</td>\n",
       "      <td>17.800000</td>\n",
       "      <td>267.200000</td>\n",
       "      <td>172.600000</td>\n",
       "      <td>94.600000</td>\n",
       "      <td>4.400000</td>\n",
       "      <td>13.800000</td>\n",
       "      <td>272.400000</td>\n",
       "      <td>145.600000</td>\n",
       "      <td>126.800000</td>\n",
       "      <td>2.600000</td>\n",
       "      <td>NaN</td>\n",
       "      <td>NaN</td>\n",
       "      <td>NaN</td>\n",
       "      <td>NaN</td>\n",
       "      <td>NaN</td>\n",
       "      <td>NaN</td>\n",
       "      <td>NaN</td>\n",
       "      <td>NaN</td>\n",
       "      <td>NaN</td>\n",
       "      <td>NaN</td>\n",
       "      <td>NaN</td>\n",
       "      <td>NaN</td>\n",
       "      <td>NaN</td>\n",
       "      <td>NaN</td>\n",
       "      <td>NaN</td>\n",
       "      <td>NaN</td>\n",
       "      <td>NaN</td>\n",
       "      <td>NaN</td>\n",
       "    </tr>\n",
       "  </tbody>\n",
       "</table>\n",
       "<p>11721 rows × 35 columns</p>\n",
       "</div>"
      ],
      "text/plain": [
       "       gs_year   gs_team winorlose    gs_id gs_is_playoff  avg_gs_pts_off  avg_gs_pts_def  avg_gs_first_down_off  avg_gs_yards_off  avg_gs_pass_yds_off  avg_gs_rush_yds_off  avg_gs_to_off  avg_gs_first_down_def  avg_gs_yards_def  avg_gs_pass_yds_def  avg_gs_rush_yds_def  avg_gs_to_def  avg_gs_exp_pts_off  avg_gs_exp_pts_def  avg_gs_exp_pts_st  last_year_avg_gs_pts_off  last_year_avg_gs_pts_def  last_year_avg_gs_first_down_off  last_year_avg_gs_yards_off  last_year_avg_gs_pass_yds_off  last_year_avg_gs_rush_yds_off  last_year_avg_gs_to_off  last_year_avg_gs_first_down_def  last_year_avg_gs_yards_def  last_year_avg_gs_pass_yds_def  last_year_avg_gs_rush_yds_def  last_year_avg_gs_to_def  last_year_avg_gs_exp_pts_off  last_year_avg_gs_exp_pts_def  last_year_avg_gs_exp_pts_st\n",
       "11598     2018    Ravens         W    602.0         False       23.000000       34.000000              28.000000        425.000000           359.000000            66.000000       3.000000              24.000000        373.000000           265.000000           108.000000            NaN            2.720000          -12.800000           1.120000                 18.669048                 17.740476                        16.626531                  264.080612                     135.184694                     128.895918                 1.764286                        17.192517                  293.688776                     182.507143                     111.181633                 3.219048                     -5.338942                      8.586643                     0.100163\n",
       "11592     2018     Colts         W    763.0         False       23.750000       27.250000              20.250000        339.250000           243.500000            95.750000       3.000000              22.500000        381.250000           276.000000           105.250000       1.750000           -1.150000           -3.530000           3.207500                 15.400680                 38.341497                        14.532313                  264.014966                     171.928231                      92.086735                 2.026190                        20.432993                  396.807143                     281.085034                     115.722109                 1.376190                    -14.018493                    -11.140231                     3.264252\n",
       "11593     2018    Browns         L    693.0         False       27.666667       30.666667              18.000000        373.000000           233.000000           140.000000       2.000000              26.333333        432.000000           327.000000           105.000000       2.666667           -1.253333           -3.186667          -0.550000                 17.001701                 28.651020                        20.941156                  352.614966                     232.391497                     120.223469                 3.595238                        20.094558                  342.084014                     223.086395                     118.997619                 1.404762                     -6.523313                     -5.998888                     0.626361\n",
       "11594     2018  Dolphins         L    642.0         False       14.666667       25.666667              15.333333        242.000000           135.666667           106.333333       2.333333              21.333333        381.000000           274.333333           106.666667       2.000000           -9.650000           -4.286667           3.930000                 14.132313                 23.155102                        18.281633                  281.719728                     195.068027                      86.651701                 1.744444                        21.276190                  362.352041                     255.690476                     106.661565                 1.111111                     -4.648224                     -9.038235                     4.205915\n",
       "11595     2018   Packers         W    956.0         False       20.285714       28.142857              19.142857        360.428571           269.142857            91.285714       1.333333              21.857143        375.000000           249.000000           126.000000       1.000000            6.405714           -9.942857          -5.991429                 24.262245                 28.792517                        21.360204                  331.571429                     232.677211                      98.894218                 2.000000                        21.601701                  374.296599                     243.622109                     130.674490                 2.358333                      7.406837                    -10.109241                    -1.312935\n",
       "...        ...       ...       ...      ...           ...             ...             ...                    ...               ...                  ...                  ...            ...                    ...               ...                  ...                  ...            ...                 ...                 ...                ...                       ...                       ...                              ...                         ...                            ...                            ...                      ...                              ...                         ...                            ...                            ...                      ...                           ...                           ...                          ...\n",
       "125       1970     49ers         W  26597.0         False       25.666667       14.333333              16.333333        318.666667           232.000000            86.666667       1.666667              13.333333        246.333333           130.666667           115.666667       2.666667                 NaN                 NaN                NaN                       NaN                       NaN                              NaN                         NaN                            NaN                            NaN                      NaN                              NaN                         NaN                            NaN                            NaN                      NaN                           NaN                           NaN                          NaN\n",
       "124       1970    Browns         L  26392.0         False       26.333333       19.000000              17.666667        342.333333           229.333333           113.000000       3.333333              17.666667        298.000000           152.333333           145.666667       2.500000                 NaN                 NaN                NaN                       NaN                       NaN                              NaN                         NaN                            NaN                            NaN                      NaN                              NaN                         NaN                            NaN                            NaN                      NaN                           NaN                           NaN                          NaN\n",
       "123       1970    Chiefs         W  26434.0         False       23.500000       24.000000              11.750000        227.000000           122.000000           105.000000       4.333333              18.750000        256.250000           147.500000           108.750000       3.000000                 NaN                 NaN                NaN                       NaN                       NaN                              NaN                         NaN                            NaN                            NaN                      NaN                              NaN                         NaN                            NaN                            NaN                      NaN                           NaN                           NaN                          NaN\n",
       "122       1970  Chargers         W  26448.0         False       19.000000       18.000000              16.000000        275.000000           185.666667            89.333333       4.000000              15.333333        267.666667           130.000000           137.666667       2.333333                 NaN                 NaN                NaN                       NaN                       NaN                              NaN                         NaN                            NaN                            NaN                      NaN                              NaN                         NaN                            NaN                            NaN                      NaN                           NaN                           NaN                          NaN\n",
       "0         1970  Steelers         L  26410.0         False        9.600000       19.800000              17.800000        267.200000           172.600000            94.600000       4.400000              13.800000        272.400000           145.600000           126.800000       2.600000                 NaN                 NaN                NaN                       NaN                       NaN                              NaN                         NaN                            NaN                            NaN                      NaN                              NaN                         NaN                            NaN                            NaN                      NaN                           NaN                           NaN                          NaN\n",
       "\n",
       "[11721 rows x 35 columns]"
      ]
     },
     "execution_count": 10,
     "metadata": {},
     "output_type": "execute_result"
    }
   ],
   "source": [
    "df_train = df_averages[df_averages['gs_year'] < 2019].copy()\n",
    "df_train"
   ]
  },
  {
   "cell_type": "code",
   "execution_count": 11,
   "id": "91a363bf",
   "metadata": {
    "execution": {
     "iopub.execute_input": "2022-09-02T19:56:13.586930Z",
     "iopub.status.busy": "2022-09-02T19:56:13.586632Z",
     "iopub.status.idle": "2022-09-02T19:56:13.622570Z",
     "shell.execute_reply": "2022-09-02T19:56:13.621510Z"
    },
    "papermill": {
     "duration": 0.051933,
     "end_time": "2022-09-02T19:56:13.625364",
     "exception": false,
     "start_time": "2022-09-02T19:56:13.573431",
     "status": "completed"
    },
    "tags": []
   },
   "outputs": [
    {
     "data": {
      "text/html": [
       "<div>\n",
       "<style scoped>\n",
       "    .dataframe tbody tr th:only-of-type {\n",
       "        vertical-align: middle;\n",
       "    }\n",
       "\n",
       "    .dataframe tbody tr th {\n",
       "        vertical-align: top;\n",
       "    }\n",
       "\n",
       "    .dataframe thead th {\n",
       "        text-align: right;\n",
       "    }\n",
       "</style>\n",
       "<table border=\"1\" class=\"dataframe\">\n",
       "  <thead>\n",
       "    <tr style=\"text-align: right;\">\n",
       "      <th></th>\n",
       "      <th>gs_year</th>\n",
       "      <th>gs_team</th>\n",
       "      <th>winorlose</th>\n",
       "      <th>gs_id</th>\n",
       "      <th>gs_is_playoff</th>\n",
       "      <th>avg_gs_pts_off</th>\n",
       "      <th>avg_gs_pts_def</th>\n",
       "      <th>avg_gs_first_down_off</th>\n",
       "      <th>avg_gs_yards_off</th>\n",
       "      <th>avg_gs_pass_yds_off</th>\n",
       "      <th>avg_gs_rush_yds_off</th>\n",
       "      <th>avg_gs_to_off</th>\n",
       "      <th>avg_gs_first_down_def</th>\n",
       "      <th>avg_gs_yards_def</th>\n",
       "      <th>avg_gs_pass_yds_def</th>\n",
       "      <th>avg_gs_rush_yds_def</th>\n",
       "      <th>avg_gs_to_def</th>\n",
       "      <th>avg_gs_exp_pts_off</th>\n",
       "      <th>avg_gs_exp_pts_def</th>\n",
       "      <th>avg_gs_exp_pts_st</th>\n",
       "      <th>last_year_avg_gs_pts_off</th>\n",
       "      <th>last_year_avg_gs_pts_def</th>\n",
       "      <th>last_year_avg_gs_first_down_off</th>\n",
       "      <th>last_year_avg_gs_yards_off</th>\n",
       "      <th>last_year_avg_gs_pass_yds_off</th>\n",
       "      <th>last_year_avg_gs_rush_yds_off</th>\n",
       "      <th>last_year_avg_gs_to_off</th>\n",
       "      <th>last_year_avg_gs_first_down_def</th>\n",
       "      <th>last_year_avg_gs_yards_def</th>\n",
       "      <th>last_year_avg_gs_pass_yds_def</th>\n",
       "      <th>last_year_avg_gs_rush_yds_def</th>\n",
       "      <th>last_year_avg_gs_to_def</th>\n",
       "      <th>last_year_avg_gs_exp_pts_off</th>\n",
       "      <th>last_year_avg_gs_exp_pts_def</th>\n",
       "      <th>last_year_avg_gs_exp_pts_st</th>\n",
       "    </tr>\n",
       "  </thead>\n",
       "  <tbody>\n",
       "    <tr>\n",
       "      <th>12389</th>\n",
       "      <td>2021</td>\n",
       "      <td>Jaguars</td>\n",
       "      <td>L</td>\n",
       "      <td>4258.0</td>\n",
       "      <td>False</td>\n",
       "      <td>16.500000</td>\n",
       "      <td>28.750000</td>\n",
       "      <td>19.000000</td>\n",
       "      <td>344.000000</td>\n",
       "      <td>225.000000</td>\n",
       "      <td>119.000000</td>\n",
       "      <td>1.666667</td>\n",
       "      <td>18.750000</td>\n",
       "      <td>348.250000</td>\n",
       "      <td>239.750000</td>\n",
       "      <td>108.500000</td>\n",
       "      <td>NaN</td>\n",
       "      <td>-0.080000</td>\n",
       "      <td>-9.585000</td>\n",
       "      <td>-1.885000</td>\n",
       "      <td>24.936054</td>\n",
       "      <td>32.405102</td>\n",
       "      <td>24.259184</td>\n",
       "      <td>405.762925</td>\n",
       "      <td>282.811565</td>\n",
       "      <td>122.951361</td>\n",
       "      <td>1.659184</td>\n",
       "      <td>24.806122</td>\n",
       "      <td>430.098980</td>\n",
       "      <td>287.623469</td>\n",
       "      <td>142.475510</td>\n",
       "      <td>1.502778</td>\n",
       "      <td>9.008071</td>\n",
       "      <td>-17.787109</td>\n",
       "      <td>-1.036636</td>\n",
       "    </tr>\n",
       "    <tr>\n",
       "      <th>12456</th>\n",
       "      <td>2021</td>\n",
       "      <td>Lions</td>\n",
       "      <td>L</td>\n",
       "      <td>4472.0</td>\n",
       "      <td>False</td>\n",
       "      <td>14.875000</td>\n",
       "      <td>24.125000</td>\n",
       "      <td>18.500000</td>\n",
       "      <td>325.375000</td>\n",
       "      <td>189.375000</td>\n",
       "      <td>136.000000</td>\n",
       "      <td>1.857143</td>\n",
       "      <td>21.000000</td>\n",
       "      <td>350.250000</td>\n",
       "      <td>223.875000</td>\n",
       "      <td>126.375000</td>\n",
       "      <td>1.80</td>\n",
       "      <td>-1.383750</td>\n",
       "      <td>-9.737500</td>\n",
       "      <td>2.372500</td>\n",
       "      <td>23.648299</td>\n",
       "      <td>29.647279</td>\n",
       "      <td>21.341156</td>\n",
       "      <td>339.998639</td>\n",
       "      <td>239.123469</td>\n",
       "      <td>100.875170</td>\n",
       "      <td>1.223810</td>\n",
       "      <td>24.337415</td>\n",
       "      <td>411.503401</td>\n",
       "      <td>248.730612</td>\n",
       "      <td>162.772789</td>\n",
       "      <td>2.216667</td>\n",
       "      <td>6.329017</td>\n",
       "      <td>-13.885381</td>\n",
       "      <td>2.658422</td>\n",
       "    </tr>\n",
       "    <tr>\n",
       "      <th>12403</th>\n",
       "      <td>2021</td>\n",
       "      <td>Ravens</td>\n",
       "      <td>L</td>\n",
       "      <td>4203.0</td>\n",
       "      <td>False</td>\n",
       "      <td>19.000000</td>\n",
       "      <td>18.666667</td>\n",
       "      <td>20.500000</td>\n",
       "      <td>354.666667</td>\n",
       "      <td>232.833333</td>\n",
       "      <td>121.833333</td>\n",
       "      <td>1.400000</td>\n",
       "      <td>18.500000</td>\n",
       "      <td>342.333333</td>\n",
       "      <td>256.000000</td>\n",
       "      <td>86.333333</td>\n",
       "      <td>1.00</td>\n",
       "      <td>0.085000</td>\n",
       "      <td>-1.705000</td>\n",
       "      <td>1.556667</td>\n",
       "      <td>29.237654</td>\n",
       "      <td>18.789947</td>\n",
       "      <td>19.633995</td>\n",
       "      <td>358.694885</td>\n",
       "      <td>177.504453</td>\n",
       "      <td>181.190432</td>\n",
       "      <td>1.570833</td>\n",
       "      <td>20.758333</td>\n",
       "      <td>330.733333</td>\n",
       "      <td>230.891358</td>\n",
       "      <td>99.841975</td>\n",
       "      <td>1.556085</td>\n",
       "      <td>7.997661</td>\n",
       "      <td>0.580535</td>\n",
       "      <td>2.979090</td>\n",
       "    </tr>\n",
       "    <tr>\n",
       "      <th>12404</th>\n",
       "      <td>2021</td>\n",
       "      <td>Jaguars</td>\n",
       "      <td>L</td>\n",
       "      <td>4259.0</td>\n",
       "      <td>False</td>\n",
       "      <td>14.600000</td>\n",
       "      <td>30.400000</td>\n",
       "      <td>18.000000</td>\n",
       "      <td>314.600000</td>\n",
       "      <td>207.200000</td>\n",
       "      <td>107.400000</td>\n",
       "      <td>1.750000</td>\n",
       "      <td>19.800000</td>\n",
       "      <td>362.200000</td>\n",
       "      <td>249.800000</td>\n",
       "      <td>112.400000</td>\n",
       "      <td>NaN</td>\n",
       "      <td>-2.574000</td>\n",
       "      <td>-11.906000</td>\n",
       "      <td>-0.858000</td>\n",
       "      <td>24.936054</td>\n",
       "      <td>32.405102</td>\n",
       "      <td>24.259184</td>\n",
       "      <td>405.762925</td>\n",
       "      <td>282.811565</td>\n",
       "      <td>122.951361</td>\n",
       "      <td>1.659184</td>\n",
       "      <td>24.806122</td>\n",
       "      <td>430.098980</td>\n",
       "      <td>287.623469</td>\n",
       "      <td>142.475510</td>\n",
       "      <td>1.502778</td>\n",
       "      <td>9.008071</td>\n",
       "      <td>-17.787109</td>\n",
       "      <td>-1.036636</td>\n",
       "    </tr>\n",
       "    <tr>\n",
       "      <th>12405</th>\n",
       "      <td>2021</td>\n",
       "      <td>Raiders</td>\n",
       "      <td>L</td>\n",
       "      <td>4335.0</td>\n",
       "      <td>False</td>\n",
       "      <td>25.200000</td>\n",
       "      <td>25.000000</td>\n",
       "      <td>20.600000</td>\n",
       "      <td>395.200000</td>\n",
       "      <td>306.000000</td>\n",
       "      <td>89.200000</td>\n",
       "      <td>2.000000</td>\n",
       "      <td>21.200000</td>\n",
       "      <td>363.200000</td>\n",
       "      <td>256.800000</td>\n",
       "      <td>106.400000</td>\n",
       "      <td>2.00</td>\n",
       "      <td>7.634000</td>\n",
       "      <td>-5.264000</td>\n",
       "      <td>-1.774000</td>\n",
       "      <td>28.280272</td>\n",
       "      <td>29.316327</td>\n",
       "      <td>21.793537</td>\n",
       "      <td>376.168027</td>\n",
       "      <td>238.189116</td>\n",
       "      <td>137.978912</td>\n",
       "      <td>2.261111</td>\n",
       "      <td>22.034694</td>\n",
       "      <td>377.921769</td>\n",
       "      <td>230.754422</td>\n",
       "      <td>147.167347</td>\n",
       "      <td>1.055556</td>\n",
       "      <td>11.926303</td>\n",
       "      <td>-11.763793</td>\n",
       "      <td>-0.680874</td>\n",
       "    </tr>\n",
       "    <tr>\n",
       "      <th>...</th>\n",
       "      <td>...</td>\n",
       "      <td>...</td>\n",
       "      <td>...</td>\n",
       "      <td>...</td>\n",
       "      <td>...</td>\n",
       "      <td>...</td>\n",
       "      <td>...</td>\n",
       "      <td>...</td>\n",
       "      <td>...</td>\n",
       "      <td>...</td>\n",
       "      <td>...</td>\n",
       "      <td>...</td>\n",
       "      <td>...</td>\n",
       "      <td>...</td>\n",
       "      <td>...</td>\n",
       "      <td>...</td>\n",
       "      <td>...</td>\n",
       "      <td>...</td>\n",
       "      <td>...</td>\n",
       "      <td>...</td>\n",
       "      <td>...</td>\n",
       "      <td>...</td>\n",
       "      <td>...</td>\n",
       "      <td>...</td>\n",
       "      <td>...</td>\n",
       "      <td>...</td>\n",
       "      <td>...</td>\n",
       "      <td>...</td>\n",
       "      <td>...</td>\n",
       "      <td>...</td>\n",
       "      <td>...</td>\n",
       "      <td>...</td>\n",
       "      <td>...</td>\n",
       "      <td>...</td>\n",
       "      <td>...</td>\n",
       "    </tr>\n",
       "    <tr>\n",
       "      <th>11952</th>\n",
       "      <td>2019</td>\n",
       "      <td>Packers</td>\n",
       "      <td>W</td>\n",
       "      <td>394.0</td>\n",
       "      <td>False</td>\n",
       "      <td>20.833333</td>\n",
       "      <td>21.166667</td>\n",
       "      <td>18.166667</td>\n",
       "      <td>271.000000</td>\n",
       "      <td>183.333333</td>\n",
       "      <td>87.666667</td>\n",
       "      <td>1.000000</td>\n",
       "      <td>21.500000</td>\n",
       "      <td>378.333333</td>\n",
       "      <td>274.666667</td>\n",
       "      <td>103.666667</td>\n",
       "      <td>2.00</td>\n",
       "      <td>2.111667</td>\n",
       "      <td>-5.378333</td>\n",
       "      <td>3.073333</td>\n",
       "      <td>20.436054</td>\n",
       "      <td>29.944218</td>\n",
       "      <td>20.775170</td>\n",
       "      <td>384.315986</td>\n",
       "      <td>286.815646</td>\n",
       "      <td>97.500340</td>\n",
       "      <td>1.485714</td>\n",
       "      <td>21.167687</td>\n",
       "      <td>367.664286</td>\n",
       "      <td>231.707143</td>\n",
       "      <td>135.957143</td>\n",
       "      <td>1.000000</td>\n",
       "      <td>6.836959</td>\n",
       "      <td>-10.114503</td>\n",
       "      <td>-7.588871</td>\n",
       "    </tr>\n",
       "    <tr>\n",
       "      <th>11954</th>\n",
       "      <td>2019</td>\n",
       "      <td>Giants</td>\n",
       "      <td>W</td>\n",
       "      <td>323.0</td>\n",
       "      <td>False</td>\n",
       "      <td>21.000000</td>\n",
       "      <td>29.714286</td>\n",
       "      <td>16.571429</td>\n",
       "      <td>316.571429</td>\n",
       "      <td>236.571429</td>\n",
       "      <td>80.000000</td>\n",
       "      <td>2.000000</td>\n",
       "      <td>22.285714</td>\n",
       "      <td>406.000000</td>\n",
       "      <td>311.000000</td>\n",
       "      <td>95.000000</td>\n",
       "      <td>1.60</td>\n",
       "      <td>-2.704286</td>\n",
       "      <td>-7.345714</td>\n",
       "      <td>0.335714</td>\n",
       "      <td>21.723469</td>\n",
       "      <td>23.168027</td>\n",
       "      <td>18.585374</td>\n",
       "      <td>341.264966</td>\n",
       "      <td>270.670408</td>\n",
       "      <td>70.594558</td>\n",
       "      <td>1.595238</td>\n",
       "      <td>19.202721</td>\n",
       "      <td>356.264626</td>\n",
       "      <td>249.674830</td>\n",
       "      <td>106.589796</td>\n",
       "      <td>1.861111</td>\n",
       "      <td>6.024588</td>\n",
       "      <td>-6.198782</td>\n",
       "      <td>-1.131888</td>\n",
       "    </tr>\n",
       "    <tr>\n",
       "      <th>11955</th>\n",
       "      <td>2019</td>\n",
       "      <td>Cowboys</td>\n",
       "      <td>L</td>\n",
       "      <td>306.0</td>\n",
       "      <td>False</td>\n",
       "      <td>24.000000</td>\n",
       "      <td>20.857143</td>\n",
       "      <td>22.000000</td>\n",
       "      <td>399.571429</td>\n",
       "      <td>281.714286</td>\n",
       "      <td>117.857143</td>\n",
       "      <td>1.600000</td>\n",
       "      <td>19.571429</td>\n",
       "      <td>307.142857</td>\n",
       "      <td>208.142857</td>\n",
       "      <td>99.000000</td>\n",
       "      <td>1.75</td>\n",
       "      <td>10.301429</td>\n",
       "      <td>-1.997143</td>\n",
       "      <td>-4.680000</td>\n",
       "      <td>13.723661</td>\n",
       "      <td>19.628274</td>\n",
       "      <td>17.342857</td>\n",
       "      <td>290.433036</td>\n",
       "      <td>174.583185</td>\n",
       "      <td>115.849851</td>\n",
       "      <td>1.808333</td>\n",
       "      <td>20.129911</td>\n",
       "      <td>338.839732</td>\n",
       "      <td>218.693601</td>\n",
       "      <td>120.146131</td>\n",
       "      <td>1.264583</td>\n",
       "      <td>-5.387631</td>\n",
       "      <td>-1.868781</td>\n",
       "      <td>1.745897</td>\n",
       "    </tr>\n",
       "    <tr>\n",
       "      <th>11956</th>\n",
       "      <td>2019</td>\n",
       "      <td>Raiders</td>\n",
       "      <td>W</td>\n",
       "      <td>272.0</td>\n",
       "      <td>False</td>\n",
       "      <td>17.500000</td>\n",
       "      <td>33.500000</td>\n",
       "      <td>17.166667</td>\n",
       "      <td>346.833333</td>\n",
       "      <td>227.833333</td>\n",
       "      <td>119.000000</td>\n",
       "      <td>1.800000</td>\n",
       "      <td>23.166667</td>\n",
       "      <td>376.666667</td>\n",
       "      <td>265.666667</td>\n",
       "      <td>111.000000</td>\n",
       "      <td>1.50</td>\n",
       "      <td>1.756667</td>\n",
       "      <td>-16.121667</td>\n",
       "      <td>-0.270000</td>\n",
       "      <td>16.227891</td>\n",
       "      <td>25.172109</td>\n",
       "      <td>19.395238</td>\n",
       "      <td>349.024490</td>\n",
       "      <td>257.261224</td>\n",
       "      <td>91.763265</td>\n",
       "      <td>1.902778</td>\n",
       "      <td>17.616327</td>\n",
       "      <td>380.671088</td>\n",
       "      <td>255.863265</td>\n",
       "      <td>124.807823</td>\n",
       "      <td>1.238095</td>\n",
       "      <td>3.500986</td>\n",
       "      <td>-11.845639</td>\n",
       "      <td>-2.599452</td>\n",
       "    </tr>\n",
       "    <tr>\n",
       "      <th>11953</th>\n",
       "      <td>2019</td>\n",
       "      <td>Jaguars</td>\n",
       "      <td>L</td>\n",
       "      <td>357.0</td>\n",
       "      <td>False</td>\n",
       "      <td>20.714286</td>\n",
       "      <td>25.571429</td>\n",
       "      <td>20.857143</td>\n",
       "      <td>377.428571</td>\n",
       "      <td>240.285714</td>\n",
       "      <td>137.142857</td>\n",
       "      <td>1.500000</td>\n",
       "      <td>21.428571</td>\n",
       "      <td>370.571429</td>\n",
       "      <td>210.142857</td>\n",
       "      <td>160.428571</td>\n",
       "      <td>2.25</td>\n",
       "      <td>1.784286</td>\n",
       "      <td>-7.738571</td>\n",
       "      <td>1.618571</td>\n",
       "      <td>16.781293</td>\n",
       "      <td>24.990476</td>\n",
       "      <td>20.020408</td>\n",
       "      <td>344.576871</td>\n",
       "      <td>229.151701</td>\n",
       "      <td>115.425170</td>\n",
       "      <td>2.139116</td>\n",
       "      <td>19.371088</td>\n",
       "      <td>361.593878</td>\n",
       "      <td>224.651361</td>\n",
       "      <td>136.942517</td>\n",
       "      <td>1.776190</td>\n",
       "      <td>-5.838405</td>\n",
       "      <td>-1.897830</td>\n",
       "      <td>1.360476</td>\n",
       "    </tr>\n",
       "  </tbody>\n",
       "</table>\n",
       "<p>821 rows × 35 columns</p>\n",
       "</div>"
      ],
      "text/plain": [
       "       gs_year  gs_team winorlose   gs_id gs_is_playoff  avg_gs_pts_off  avg_gs_pts_def  avg_gs_first_down_off  avg_gs_yards_off  avg_gs_pass_yds_off  avg_gs_rush_yds_off  avg_gs_to_off  avg_gs_first_down_def  avg_gs_yards_def  avg_gs_pass_yds_def  avg_gs_rush_yds_def  avg_gs_to_def  avg_gs_exp_pts_off  avg_gs_exp_pts_def  avg_gs_exp_pts_st  last_year_avg_gs_pts_off  last_year_avg_gs_pts_def  last_year_avg_gs_first_down_off  last_year_avg_gs_yards_off  last_year_avg_gs_pass_yds_off  last_year_avg_gs_rush_yds_off  last_year_avg_gs_to_off  last_year_avg_gs_first_down_def  last_year_avg_gs_yards_def  last_year_avg_gs_pass_yds_def  last_year_avg_gs_rush_yds_def  last_year_avg_gs_to_def  last_year_avg_gs_exp_pts_off  last_year_avg_gs_exp_pts_def  last_year_avg_gs_exp_pts_st\n",
       "12389     2021  Jaguars         L  4258.0         False       16.500000       28.750000              19.000000        344.000000           225.000000           119.000000       1.666667              18.750000        348.250000           239.750000           108.500000            NaN           -0.080000           -9.585000          -1.885000                 24.936054                 32.405102                        24.259184                  405.762925                     282.811565                     122.951361                 1.659184                        24.806122                  430.098980                     287.623469                     142.475510                 1.502778                      9.008071                    -17.787109                    -1.036636\n",
       "12456     2021    Lions         L  4472.0         False       14.875000       24.125000              18.500000        325.375000           189.375000           136.000000       1.857143              21.000000        350.250000           223.875000           126.375000           1.80           -1.383750           -9.737500           2.372500                 23.648299                 29.647279                        21.341156                  339.998639                     239.123469                     100.875170                 1.223810                        24.337415                  411.503401                     248.730612                     162.772789                 2.216667                      6.329017                    -13.885381                     2.658422\n",
       "12403     2021   Ravens         L  4203.0         False       19.000000       18.666667              20.500000        354.666667           232.833333           121.833333       1.400000              18.500000        342.333333           256.000000            86.333333           1.00            0.085000           -1.705000           1.556667                 29.237654                 18.789947                        19.633995                  358.694885                     177.504453                     181.190432                 1.570833                        20.758333                  330.733333                     230.891358                      99.841975                 1.556085                      7.997661                      0.580535                     2.979090\n",
       "12404     2021  Jaguars         L  4259.0         False       14.600000       30.400000              18.000000        314.600000           207.200000           107.400000       1.750000              19.800000        362.200000           249.800000           112.400000            NaN           -2.574000          -11.906000          -0.858000                 24.936054                 32.405102                        24.259184                  405.762925                     282.811565                     122.951361                 1.659184                        24.806122                  430.098980                     287.623469                     142.475510                 1.502778                      9.008071                    -17.787109                    -1.036636\n",
       "12405     2021  Raiders         L  4335.0         False       25.200000       25.000000              20.600000        395.200000           306.000000            89.200000       2.000000              21.200000        363.200000           256.800000           106.400000           2.00            7.634000           -5.264000          -1.774000                 28.280272                 29.316327                        21.793537                  376.168027                     238.189116                     137.978912                 2.261111                        22.034694                  377.921769                     230.754422                     147.167347                 1.055556                     11.926303                    -11.763793                    -0.680874\n",
       "...        ...      ...       ...     ...           ...             ...             ...                    ...               ...                  ...                  ...            ...                    ...               ...                  ...                  ...            ...                 ...                 ...                ...                       ...                       ...                              ...                         ...                            ...                            ...                      ...                              ...                         ...                            ...                            ...                      ...                           ...                           ...                          ...\n",
       "11952     2019  Packers         W   394.0         False       20.833333       21.166667              18.166667        271.000000           183.333333            87.666667       1.000000              21.500000        378.333333           274.666667           103.666667           2.00            2.111667           -5.378333           3.073333                 20.436054                 29.944218                        20.775170                  384.315986                     286.815646                      97.500340                 1.485714                        21.167687                  367.664286                     231.707143                     135.957143                 1.000000                      6.836959                    -10.114503                    -7.588871\n",
       "11954     2019   Giants         W   323.0         False       21.000000       29.714286              16.571429        316.571429           236.571429            80.000000       2.000000              22.285714        406.000000           311.000000            95.000000           1.60           -2.704286           -7.345714           0.335714                 21.723469                 23.168027                        18.585374                  341.264966                     270.670408                      70.594558                 1.595238                        19.202721                  356.264626                     249.674830                     106.589796                 1.861111                      6.024588                     -6.198782                    -1.131888\n",
       "11955     2019  Cowboys         L   306.0         False       24.000000       20.857143              22.000000        399.571429           281.714286           117.857143       1.600000              19.571429        307.142857           208.142857            99.000000           1.75           10.301429           -1.997143          -4.680000                 13.723661                 19.628274                        17.342857                  290.433036                     174.583185                     115.849851                 1.808333                        20.129911                  338.839732                     218.693601                     120.146131                 1.264583                     -5.387631                     -1.868781                     1.745897\n",
       "11956     2019  Raiders         W   272.0         False       17.500000       33.500000              17.166667        346.833333           227.833333           119.000000       1.800000              23.166667        376.666667           265.666667           111.000000           1.50            1.756667          -16.121667          -0.270000                 16.227891                 25.172109                        19.395238                  349.024490                     257.261224                      91.763265                 1.902778                        17.616327                  380.671088                     255.863265                     124.807823                 1.238095                      3.500986                    -11.845639                    -2.599452\n",
       "11953     2019  Jaguars         L   357.0         False       20.714286       25.571429              20.857143        377.428571           240.285714           137.142857       1.500000              21.428571        370.571429           210.142857           160.428571           2.25            1.784286           -7.738571           1.618571                 16.781293                 24.990476                        20.020408                  344.576871                     229.151701                     115.425170                 2.139116                        19.371088                  361.593878                     224.651361                     136.942517                 1.776190                     -5.838405                     -1.897830                     1.360476\n",
       "\n",
       "[821 rows x 35 columns]"
      ]
     },
     "execution_count": 11,
     "metadata": {},
     "output_type": "execute_result"
    }
   ],
   "source": [
    "df_test = df_averages[df_averages['gs_year'] >= 2019].copy()\n",
    "df_test"
   ]
  },
  {
   "cell_type": "code",
   "execution_count": 12,
   "id": "00e87da0",
   "metadata": {
    "execution": {
     "iopub.execute_input": "2022-09-02T19:56:13.652691Z",
     "iopub.status.busy": "2022-09-02T19:56:13.652260Z",
     "iopub.status.idle": "2022-09-02T19:56:13.657828Z",
     "shell.execute_reply": "2022-09-02T19:56:13.657013Z"
    },
    "papermill": {
     "duration": 0.021862,
     "end_time": "2022-09-02T19:56:13.659863",
     "exception": false,
     "start_time": "2022-09-02T19:56:13.638001",
     "status": "completed"
    },
    "tags": []
   },
   "outputs": [
    {
     "data": {
      "text/plain": [
       "((11721, 35), (821, 35))"
      ]
     },
     "execution_count": 12,
     "metadata": {},
     "output_type": "execute_result"
    }
   ],
   "source": [
    "df_train.shape, df_test.shape"
   ]
  },
  {
   "cell_type": "markdown",
   "id": "96fec783",
   "metadata": {
    "papermill": {
     "duration": 0.013248,
     "end_time": "2022-09-02T19:56:13.685645",
     "exception": false,
     "start_time": "2022-09-02T19:56:13.672397",
     "status": "completed"
    },
    "tags": []
   },
   "source": [
    "---"
   ]
  },
  {
   "cell_type": "markdown",
   "id": "5ecb1ad1",
   "metadata": {
    "papermill": {
     "duration": 0.012195,
     "end_time": "2022-09-02T19:56:13.710491",
     "exception": false,
     "start_time": "2022-09-02T19:56:13.698296",
     "status": "completed"
    },
    "tags": []
   },
   "source": [
    "# Pre-processamento"
   ]
  },
  {
   "cell_type": "code",
   "execution_count": 13,
   "id": "a45a38fb",
   "metadata": {
    "execution": {
     "iopub.execute_input": "2022-09-02T19:56:13.736493Z",
     "iopub.status.busy": "2022-09-02T19:56:13.736189Z",
     "iopub.status.idle": "2022-09-02T19:56:13.752156Z",
     "shell.execute_reply": "2022-09-02T19:56:13.751250Z"
    },
    "papermill": {
     "duration": 0.031362,
     "end_time": "2022-09-02T19:56:13.754160",
     "exception": false,
     "start_time": "2022-09-02T19:56:13.722798",
     "status": "completed"
    },
    "tags": []
   },
   "outputs": [],
   "source": [
    "from sklearn.model_selection import train_test_split"
   ]
  },
  {
   "cell_type": "code",
   "execution_count": 14,
   "id": "dc865135",
   "metadata": {
    "execution": {
     "iopub.execute_input": "2022-09-02T19:56:13.781927Z",
     "iopub.status.busy": "2022-09-02T19:56:13.780744Z",
     "iopub.status.idle": "2022-09-02T19:56:13.785861Z",
     "shell.execute_reply": "2022-09-02T19:56:13.785171Z"
    },
    "papermill": {
     "duration": 0.021048,
     "end_time": "2022-09-02T19:56:13.788034",
     "exception": false,
     "start_time": "2022-09-02T19:56:13.766986",
     "status": "completed"
    },
    "tags": []
   },
   "outputs": [],
   "source": [
    "target = 'winorlose'"
   ]
  },
  {
   "cell_type": "code",
   "execution_count": 15,
   "id": "a44aa303",
   "metadata": {
    "execution": {
     "iopub.execute_input": "2022-09-02T19:56:13.816222Z",
     "iopub.status.busy": "2022-09-02T19:56:13.815648Z",
     "iopub.status.idle": "2022-09-02T19:56:13.825049Z",
     "shell.execute_reply": "2022-09-02T19:56:13.824291Z"
    },
    "papermill": {
     "duration": 0.026055,
     "end_time": "2022-09-02T19:56:13.827013",
     "exception": false,
     "start_time": "2022-09-02T19:56:13.800958",
     "status": "completed"
    },
    "tags": []
   },
   "outputs": [],
   "source": [
    "# bool to numeric\n",
    "non_numeric_or_object = df_train.select_dtypes(exclude=[np.number, object]).columns\n",
    "df_train[non_numeric_or_object] = df_train[non_numeric_or_object].astype(int)\n",
    "\n",
    "non_numeric_or_object = df_test.select_dtypes(exclude=[np.number, object]).columns\n",
    "df_test[non_numeric_or_object] = df_test[non_numeric_or_object].astype(int)\n",
    "\n",
    "df_train['gs_is_playoff'] = df_train['gs_is_playoff'].astype(int)\n",
    "df_test['gs_is_playoff'] = df_test['gs_is_playoff'].astype(int)"
   ]
  },
  {
   "cell_type": "code",
   "execution_count": 16,
   "id": "27166df2",
   "metadata": {
    "execution": {
     "iopub.execute_input": "2022-09-02T19:56:13.855394Z",
     "iopub.status.busy": "2022-09-02T19:56:13.854825Z",
     "iopub.status.idle": "2022-09-02T19:56:13.865182Z",
     "shell.execute_reply": "2022-09-02T19:56:13.864338Z"
    },
    "papermill": {
     "duration": 0.02694,
     "end_time": "2022-09-02T19:56:13.867262",
     "exception": false,
     "start_time": "2022-09-02T19:56:13.840322",
     "status": "completed"
    },
    "tags": []
   },
   "outputs": [],
   "source": [
    "# target encoding\n",
    "target_encoder = {'L': 0, 'W': 1}\n",
    "df_train[target] = df_train[target].map(target_encoder)\n",
    "df_test[target] = df_test[target].map(target_encoder)\n",
    "\n",
    "# col names\n",
    "cat_cols = df_train.select_dtypes(object).columns.tolist()\n",
    "num_cols = df_train.select_dtypes(np.number).columns.tolist()"
   ]
  },
  {
   "cell_type": "code",
   "execution_count": 17,
   "id": "eb695ef7",
   "metadata": {
    "execution": {
     "iopub.execute_input": "2022-09-02T19:56:13.894742Z",
     "iopub.status.busy": "2022-09-02T19:56:13.894233Z",
     "iopub.status.idle": "2022-09-02T19:56:13.900735Z",
     "shell.execute_reply": "2022-09-02T19:56:13.899404Z"
    },
    "papermill": {
     "duration": 0.022694,
     "end_time": "2022-09-02T19:56:13.902757",
     "exception": false,
     "start_time": "2022-09-02T19:56:13.880063",
     "status": "completed"
    },
    "tags": []
   },
   "outputs": [],
   "source": [
    "# dealing with nans (I hope)\n",
    "df_train.fillna(-1, inplace=True)\n",
    "df_test.fillna(-1, inplace=True)"
   ]
  },
  {
   "cell_type": "code",
   "execution_count": 18,
   "id": "75de2f2b",
   "metadata": {
    "execution": {
     "iopub.execute_input": "2022-09-02T19:56:13.930734Z",
     "iopub.status.busy": "2022-09-02T19:56:13.930189Z",
     "iopub.status.idle": "2022-09-02T19:56:13.937969Z",
     "shell.execute_reply": "2022-09-02T19:56:13.937353Z"
    },
    "papermill": {
     "duration": 0.024062,
     "end_time": "2022-09-02T19:56:13.939939",
     "exception": false,
     "start_time": "2022-09-02T19:56:13.915877",
     "status": "completed"
    },
    "tags": []
   },
   "outputs": [],
   "source": [
    "x_final = df_train.copy().drop(target, axis=1)\n",
    "y_final = df_train[target]\n",
    "\n",
    "df_test_final = df_test.copy().drop(target, axis=1)\n",
    "df_test_labels = df_test[target]"
   ]
  },
  {
   "cell_type": "code",
   "execution_count": 19,
   "id": "5b741827",
   "metadata": {
    "execution": {
     "iopub.execute_input": "2022-09-02T19:56:13.968172Z",
     "iopub.status.busy": "2022-09-02T19:56:13.967814Z",
     "iopub.status.idle": "2022-09-02T19:56:13.974593Z",
     "shell.execute_reply": "2022-09-02T19:56:13.973882Z"
    },
    "papermill": {
     "duration": 0.023026,
     "end_time": "2022-09-02T19:56:13.976235",
     "exception": false,
     "start_time": "2022-09-02T19:56:13.953209",
     "status": "completed"
    },
    "tags": []
   },
   "outputs": [
    {
     "data": {
      "text/plain": [
       "((11721, 34), (11721,), (821, 34), (821,))"
      ]
     },
     "execution_count": 19,
     "metadata": {},
     "output_type": "execute_result"
    }
   ],
   "source": [
    "x_final.shape, y_final.shape, df_test_final.shape, df_test_labels.shape"
   ]
  },
  {
   "cell_type": "code",
   "execution_count": 20,
   "id": "a8f21da1",
   "metadata": {
    "execution": {
     "iopub.execute_input": "2022-09-02T19:56:14.004031Z",
     "iopub.status.busy": "2022-09-02T19:56:14.003388Z",
     "iopub.status.idle": "2022-09-02T19:56:14.012907Z",
     "shell.execute_reply": "2022-09-02T19:56:14.012257Z"
    },
    "papermill": {
     "duration": 0.025618,
     "end_time": "2022-09-02T19:56:14.014604",
     "exception": false,
     "start_time": "2022-09-02T19:56:13.988986",
     "status": "completed"
    },
    "tags": []
   },
   "outputs": [
    {
     "data": {
      "text/plain": [
       "gs_year                            0\n",
       "gs_id                              0\n",
       "gs_is_playoff                      0\n",
       "avg_gs_pts_off                     0\n",
       "avg_gs_pts_def                     0\n",
       "avg_gs_first_down_off              0\n",
       "avg_gs_yards_off                   0\n",
       "avg_gs_pass_yds_off                0\n",
       "avg_gs_rush_yds_off                0\n",
       "avg_gs_to_off                      0\n",
       "avg_gs_first_down_def              0\n",
       "avg_gs_yards_def                   0\n",
       "avg_gs_pass_yds_def                0\n",
       "avg_gs_rush_yds_def                0\n",
       "avg_gs_to_def                      0\n",
       "avg_gs_exp_pts_off                 0\n",
       "avg_gs_exp_pts_def                 0\n",
       "avg_gs_exp_pts_st                  0\n",
       "last_year_avg_gs_pts_off           0\n",
       "last_year_avg_gs_pts_def           0\n",
       "last_year_avg_gs_first_down_off    0\n",
       "last_year_avg_gs_yards_off         0\n",
       "last_year_avg_gs_pass_yds_off      0\n",
       "last_year_avg_gs_rush_yds_off      0\n",
       "last_year_avg_gs_to_off            0\n",
       "last_year_avg_gs_first_down_def    0\n",
       "last_year_avg_gs_yards_def         0\n",
       "last_year_avg_gs_pass_yds_def      0\n",
       "last_year_avg_gs_rush_yds_def      0\n",
       "last_year_avg_gs_to_def            0\n",
       "last_year_avg_gs_exp_pts_off       0\n",
       "last_year_avg_gs_exp_pts_def       0\n",
       "last_year_avg_gs_exp_pts_st        0\n",
       "dtype: int64"
      ]
     },
     "execution_count": 20,
     "metadata": {},
     "output_type": "execute_result"
    }
   ],
   "source": [
    "(~np.isfinite(x_final.select_dtypes(np.number))).sum()"
   ]
  },
  {
   "cell_type": "markdown",
   "id": "667fee96",
   "metadata": {
    "papermill": {
     "duration": 0.012996,
     "end_time": "2022-09-02T19:56:14.040784",
     "exception": false,
     "start_time": "2022-09-02T19:56:14.027788",
     "status": "completed"
    },
    "tags": []
   },
   "source": [
    "---"
   ]
  },
  {
   "cell_type": "markdown",
   "id": "05c0453f",
   "metadata": {
    "papermill": {
     "duration": 0.013068,
     "end_time": "2022-09-02T19:56:14.068683",
     "exception": false,
     "start_time": "2022-09-02T19:56:14.055615",
     "status": "completed"
    },
    "tags": []
   },
   "source": [
    "# Pipeline pre-processamento"
   ]
  },
  {
   "cell_type": "code",
   "execution_count": 21,
   "id": "c32ad295",
   "metadata": {
    "execution": {
     "iopub.execute_input": "2022-09-02T19:56:14.096577Z",
     "iopub.status.busy": "2022-09-02T19:56:14.096270Z",
     "iopub.status.idle": "2022-09-02T19:56:14.233339Z",
     "shell.execute_reply": "2022-09-02T19:56:14.232378Z"
    },
    "papermill": {
     "duration": 0.153689,
     "end_time": "2022-09-02T19:56:14.235529",
     "exception": false,
     "start_time": "2022-09-02T19:56:14.081840",
     "status": "completed"
    },
    "tags": []
   },
   "outputs": [],
   "source": [
    "from sklearn.pipeline import make_pipeline, FeatureUnion\n",
    "from sklearn.preprocessing import RobustScaler, OrdinalEncoder\n",
    "from sklearn.compose import make_column_transformer, make_column_selector\n",
    "from sklearn.impute import SimpleImputer"
   ]
  },
  {
   "cell_type": "code",
   "execution_count": 22,
   "id": "47de2ace",
   "metadata": {
    "execution": {
     "iopub.execute_input": "2022-09-02T19:56:14.263803Z",
     "iopub.status.busy": "2022-09-02T19:56:14.263094Z",
     "iopub.status.idle": "2022-09-02T19:56:14.268549Z",
     "shell.execute_reply": "2022-09-02T19:56:14.267963Z"
    },
    "papermill": {
     "duration": 0.021389,
     "end_time": "2022-09-02T19:56:14.270222",
     "exception": false,
     "start_time": "2022-09-02T19:56:14.248833",
     "status": "completed"
    },
    "tags": []
   },
   "outputs": [],
   "source": [
    "preprocess_pipeline = make_column_transformer(\n",
    "    (SimpleImputer(strategy='mean', fill_value='constant'), make_column_selector(dtype_include=np.number)),\n",
    "    (OrdinalEncoder(handle_unknown='use_encoded_value', unknown_value=-1), make_column_selector(dtype_include=object))\n",
    ")"
   ]
  },
  {
   "cell_type": "markdown",
   "id": "5c079c65",
   "metadata": {
    "papermill": {
     "duration": 0.012019,
     "end_time": "2022-09-02T19:56:14.294946",
     "exception": false,
     "start_time": "2022-09-02T19:56:14.282927",
     "status": "completed"
    },
    "tags": []
   },
   "source": [
    "# Classificadores"
   ]
  },
  {
   "cell_type": "code",
   "execution_count": 23,
   "id": "acd1786c",
   "metadata": {
    "execution": {
     "iopub.execute_input": "2022-09-02T19:56:14.322785Z",
     "iopub.status.busy": "2022-09-02T19:56:14.321784Z",
     "iopub.status.idle": "2022-09-02T19:56:14.325933Z",
     "shell.execute_reply": "2022-09-02T19:56:14.325196Z"
    },
    "papermill": {
     "duration": 0.019838,
     "end_time": "2022-09-02T19:56:14.327562",
     "exception": false,
     "start_time": "2022-09-02T19:56:14.307724",
     "status": "completed"
    },
    "tags": []
   },
   "outputs": [],
   "source": [
    "RANDOM_STATE = 22"
   ]
  },
  {
   "cell_type": "markdown",
   "id": "e907cae5",
   "metadata": {
    "papermill": {
     "duration": 0.012864,
     "end_time": "2022-09-02T19:56:14.353552",
     "exception": false,
     "start_time": "2022-09-02T19:56:14.340688",
     "status": "completed"
    },
    "tags": []
   },
   "source": [
    "## Gaussian Naive Bayes"
   ]
  },
  {
   "cell_type": "code",
   "execution_count": 24,
   "id": "4f271f97",
   "metadata": {
    "execution": {
     "iopub.execute_input": "2022-09-02T19:56:14.381198Z",
     "iopub.status.busy": "2022-09-02T19:56:14.380835Z",
     "iopub.status.idle": "2022-09-02T19:56:14.387567Z",
     "shell.execute_reply": "2022-09-02T19:56:14.386927Z"
    },
    "papermill": {
     "duration": 0.022759,
     "end_time": "2022-09-02T19:56:14.389412",
     "exception": false,
     "start_time": "2022-09-02T19:56:14.366653",
     "status": "completed"
    },
    "tags": []
   },
   "outputs": [],
   "source": [
    "from sklearn.naive_bayes import GaussianNB, CategoricalNB"
   ]
  },
  {
   "cell_type": "code",
   "execution_count": 25,
   "id": "6312e018",
   "metadata": {
    "execution": {
     "iopub.execute_input": "2022-09-02T19:56:14.416674Z",
     "iopub.status.busy": "2022-09-02T19:56:14.416372Z",
     "iopub.status.idle": "2022-09-02T19:56:14.419665Z",
     "shell.execute_reply": "2022-09-02T19:56:14.419107Z"
    },
    "papermill": {
     "duration": 0.019524,
     "end_time": "2022-09-02T19:56:14.421908",
     "exception": false,
     "start_time": "2022-09-02T19:56:14.402384",
     "status": "completed"
    },
    "tags": []
   },
   "outputs": [],
   "source": [
    "clf_gaussian_nb = GaussianNB()"
   ]
  },
  {
   "cell_type": "markdown",
   "id": "86810d6b",
   "metadata": {
    "papermill": {
     "duration": 0.012214,
     "end_time": "2022-09-02T19:56:14.447038",
     "exception": false,
     "start_time": "2022-09-02T19:56:14.434824",
     "status": "completed"
    },
    "tags": []
   },
   "source": [
    "## Multi-layer perceptron"
   ]
  },
  {
   "cell_type": "code",
   "execution_count": 26,
   "id": "a7ff7405",
   "metadata": {
    "execution": {
     "iopub.execute_input": "2022-09-02T19:56:14.475008Z",
     "iopub.status.busy": "2022-09-02T19:56:14.474445Z",
     "iopub.status.idle": "2022-09-02T19:56:14.485096Z",
     "shell.execute_reply": "2022-09-02T19:56:14.484414Z"
    },
    "papermill": {
     "duration": 0.027028,
     "end_time": "2022-09-02T19:56:14.486963",
     "exception": false,
     "start_time": "2022-09-02T19:56:14.459935",
     "status": "completed"
    },
    "tags": []
   },
   "outputs": [],
   "source": [
    "from sklearn.neural_network import MLPClassifier"
   ]
  },
  {
   "cell_type": "code",
   "execution_count": 27,
   "id": "f611ed12",
   "metadata": {
    "execution": {
     "iopub.execute_input": "2022-09-02T19:56:14.514301Z",
     "iopub.status.busy": "2022-09-02T19:56:14.513664Z",
     "iopub.status.idle": "2022-09-02T19:56:14.517277Z",
     "shell.execute_reply": "2022-09-02T19:56:14.516700Z"
    },
    "papermill": {
     "duration": 0.019349,
     "end_time": "2022-09-02T19:56:14.519144",
     "exception": false,
     "start_time": "2022-09-02T19:56:14.499795",
     "status": "completed"
    },
    "tags": []
   },
   "outputs": [],
   "source": [
    "clf_mlp = MLPClassifier(\n",
    "    max_iter=2000, \n",
    "    n_iter_no_change=50, \n",
    "    warm_start=True, \n",
    "    random_state=RANDOM_STATE\n",
    ")"
   ]
  },
  {
   "cell_type": "markdown",
   "id": "eb0517e8",
   "metadata": {
    "papermill": {
     "duration": 0.012572,
     "end_time": "2022-09-02T19:56:14.544652",
     "exception": false,
     "start_time": "2022-09-02T19:56:14.532080",
     "status": "completed"
    },
    "tags": []
   },
   "source": [
    "## Random Forest Classifier"
   ]
  },
  {
   "cell_type": "code",
   "execution_count": 28,
   "id": "046f6dff",
   "metadata": {
    "execution": {
     "iopub.execute_input": "2022-09-02T19:56:14.572359Z",
     "iopub.status.busy": "2022-09-02T19:56:14.571863Z",
     "iopub.status.idle": "2022-09-02T19:56:14.669090Z",
     "shell.execute_reply": "2022-09-02T19:56:14.668411Z"
    },
    "papermill": {
     "duration": 0.113856,
     "end_time": "2022-09-02T19:56:14.671318",
     "exception": false,
     "start_time": "2022-09-02T19:56:14.557462",
     "status": "completed"
    },
    "tags": []
   },
   "outputs": [],
   "source": [
    "from sklearn.ensemble import RandomForestClassifier"
   ]
  },
  {
   "cell_type": "code",
   "execution_count": 29,
   "id": "7cc15c45",
   "metadata": {
    "execution": {
     "iopub.execute_input": "2022-09-02T19:56:14.699195Z",
     "iopub.status.busy": "2022-09-02T19:56:14.698727Z",
     "iopub.status.idle": "2022-09-02T19:56:14.702966Z",
     "shell.execute_reply": "2022-09-02T19:56:14.701897Z"
    },
    "papermill": {
     "duration": 0.020146,
     "end_time": "2022-09-02T19:56:14.704760",
     "exception": false,
     "start_time": "2022-09-02T19:56:14.684614",
     "status": "completed"
    },
    "tags": []
   },
   "outputs": [],
   "source": [
    "clf_rfc = RandomForestClassifier(\n",
    "    n_estimators=200,\n",
    "    min_samples_split=10,\n",
    "    min_samples_leaf=1,\n",
    "    max_features='auto',\n",
    "    max_depth=100,\n",
    "    bootstrap=False,\n",
    "    warm_start=True,\n",
    "    random_state=RANDOM_STATE\n",
    ")"
   ]
  },
  {
   "cell_type": "markdown",
   "id": "3482435e",
   "metadata": {
    "papermill": {
     "duration": 0.01242,
     "end_time": "2022-09-02T19:56:14.730148",
     "exception": false,
     "start_time": "2022-09-02T19:56:14.717728",
     "status": "completed"
    },
    "tags": []
   },
   "source": [
    "# Combinando os classificadores"
   ]
  },
  {
   "cell_type": "code",
   "execution_count": 30,
   "id": "5faa9495",
   "metadata": {
    "execution": {
     "iopub.execute_input": "2022-09-02T19:56:14.757437Z",
     "iopub.status.busy": "2022-09-02T19:56:14.756981Z",
     "iopub.status.idle": "2022-09-02T19:56:14.760932Z",
     "shell.execute_reply": "2022-09-02T19:56:14.759956Z"
    },
    "papermill": {
     "duration": 0.019886,
     "end_time": "2022-09-02T19:56:14.762854",
     "exception": false,
     "start_time": "2022-09-02T19:56:14.742968",
     "status": "completed"
    },
    "tags": []
   },
   "outputs": [],
   "source": [
    "from sklearn.ensemble import StackingClassifier\n",
    "from sklearn.linear_model import LogisticRegression"
   ]
  },
  {
   "cell_type": "code",
   "execution_count": 31,
   "id": "19abf636",
   "metadata": {
    "execution": {
     "iopub.execute_input": "2022-09-02T19:56:14.790345Z",
     "iopub.status.busy": "2022-09-02T19:56:14.789400Z",
     "iopub.status.idle": "2022-09-02T19:56:14.796246Z",
     "shell.execute_reply": "2022-09-02T19:56:14.795190Z"
    },
    "papermill": {
     "duration": 0.022985,
     "end_time": "2022-09-02T19:56:14.798674",
     "exception": false,
     "start_time": "2022-09-02T19:56:14.775689",
     "status": "completed"
    },
    "tags": []
   },
   "outputs": [],
   "source": [
    "def make_new_stacking_pipeline():\n",
    "    stacking_clf = StackingClassifier(\n",
    "        estimators=[\n",
    "            ('gaussian_nb', clf_gaussian_nb),\n",
    "            ('mlp', clf_mlp),\n",
    "            # ('keras', clf_keras)\n",
    "            ('rfc', clf_rfc)\n",
    "        ],\n",
    "        final_estimator=LogisticRegression(max_iter=1000)\n",
    "    )\n",
    "    pipeline = make_pipeline(\n",
    "        preprocess_pipeline,\n",
    "        RobustScaler(),\n",
    "        stacking_clf\n",
    "    )\n",
    "\n",
    "    return pipeline"
   ]
  },
  {
   "cell_type": "markdown",
   "id": "959f9e32",
   "metadata": {
    "papermill": {
     "duration": 0.012866,
     "end_time": "2022-09-02T19:56:14.825012",
     "exception": false,
     "start_time": "2022-09-02T19:56:14.812146",
     "status": "completed"
    },
    "tags": []
   },
   "source": [
    "## Treino 1970-2018, teste com 2019-2021"
   ]
  },
  {
   "cell_type": "code",
   "execution_count": 32,
   "id": "26e2f8d2",
   "metadata": {
    "execution": {
     "iopub.execute_input": "2022-09-02T19:56:14.852571Z",
     "iopub.status.busy": "2022-09-02T19:56:14.852281Z",
     "iopub.status.idle": "2022-09-02T19:56:14.881978Z",
     "shell.execute_reply": "2022-09-02T19:56:14.881246Z"
    },
    "papermill": {
     "duration": 0.045475,
     "end_time": "2022-09-02T19:56:14.883576",
     "exception": false,
     "start_time": "2022-09-02T19:56:14.838101",
     "status": "completed"
    },
    "tags": []
   },
   "outputs": [
    {
     "data": {
      "text/plain": [
       "Pipeline(steps=[('columntransformer',\n",
       "                 ColumnTransformer(transformers=[('simpleimputer',\n",
       "                                                  SimpleImputer(fill_value='constant'),\n",
       "                                                  <sklearn.compose._column_transformer.make_column_selector object at 0x7f35dab2b4d0>),\n",
       "                                                 ('ordinalencoder',\n",
       "                                                  OrdinalEncoder(handle_unknown='use_encoded_value',\n",
       "                                                                 unknown_value=-1),\n",
       "                                                  <sklearn.compose._column_transformer.make_column_selector ob...\n",
       "                ('stackingclassifier',\n",
       "                 StackingClassifier(estimators=[('gaussian_nb', GaussianNB()),\n",
       "                                                ('mlp',\n",
       "                                                 MLPClassifier(max_iter=2000,\n",
       "                                                               n_iter_no_change=50,\n",
       "                                                               random_state=22,\n",
       "                                                               warm_start=True)),\n",
       "                                                ('rfc',\n",
       "                                                 RandomForestClassifier(bootstrap=False,\n",
       "                                                                        max_depth=100,\n",
       "                                                                        min_samples_split=10,\n",
       "                                                                        n_estimators=200,\n",
       "                                                                        random_state=22,\n",
       "                                                                        warm_start=True))],\n",
       "                                    final_estimator=LogisticRegression(max_iter=1000)))])"
      ]
     },
     "execution_count": 32,
     "metadata": {},
     "output_type": "execute_result"
    }
   ],
   "source": [
    "stack_pipeline = make_new_stacking_pipeline()\n",
    "stack_pipeline"
   ]
  },
  {
   "cell_type": "code",
   "execution_count": 33,
   "id": "76b02930",
   "metadata": {
    "execution": {
     "iopub.execute_input": "2022-09-02T19:56:14.910845Z",
     "iopub.status.busy": "2022-09-02T19:56:14.910398Z",
     "iopub.status.idle": "2022-09-02T19:56:14.914340Z",
     "shell.execute_reply": "2022-09-02T19:56:14.913377Z"
    },
    "papermill": {
     "duration": 0.019942,
     "end_time": "2022-09-02T19:56:14.916409",
     "exception": false,
     "start_time": "2022-09-02T19:56:14.896467",
     "status": "completed"
    },
    "tags": []
   },
   "outputs": [
    {
     "name": "stdout",
     "output_type": "stream",
     "text": [
      "Execution took 0.0s\n"
     ]
    }
   ],
   "source": [
    "train_timer = Timer()\n",
    "\n",
    "# stack_pipeline.fit(x_final, y_final)\n",
    "\n",
    "train_timer.end()"
   ]
  },
  {
   "cell_type": "code",
   "execution_count": 34,
   "id": "3f1c88a7",
   "metadata": {
    "execution": {
     "iopub.execute_input": "2022-09-02T19:56:14.944317Z",
     "iopub.status.busy": "2022-09-02T19:56:14.943704Z",
     "iopub.status.idle": "2022-09-02T19:56:14.947961Z",
     "shell.execute_reply": "2022-09-02T19:56:14.947038Z"
    },
    "papermill": {
     "duration": 0.019783,
     "end_time": "2022-09-02T19:56:14.949652",
     "exception": false,
     "start_time": "2022-09-02T19:56:14.929869",
     "status": "completed"
    },
    "tags": []
   },
   "outputs": [],
   "source": [
    "# preds = stack_pipeline.predict(df_test_final)\n",
    "\n",
    "# scores = calculate_scores('stacking_train_1970-2019', df_test_labels, preds)"
   ]
  },
  {
   "cell_type": "markdown",
   "id": "fd0b26b5",
   "metadata": {
    "papermill": {
     "duration": 0.012414,
     "end_time": "2022-09-02T19:56:14.974899",
     "exception": false,
     "start_time": "2022-09-02T19:56:14.962485",
     "status": "completed"
    },
    "tags": []
   },
   "source": [
    "# Keras"
   ]
  },
  {
   "cell_type": "markdown",
   "id": "981cc436",
   "metadata": {
    "papermill": {
     "duration": 0.012461,
     "end_time": "2022-09-02T19:56:15.000257",
     "exception": false,
     "start_time": "2022-09-02T19:56:14.987796",
     "status": "completed"
    },
    "tags": []
   },
   "source": [
    "É o que sobrou"
   ]
  },
  {
   "cell_type": "markdown",
   "id": "a8de27f5",
   "metadata": {
    "papermill": {
     "duration": 0.012915,
     "end_time": "2022-09-02T19:56:15.026425",
     "exception": false,
     "start_time": "2022-09-02T19:56:15.013510",
     "status": "completed"
    },
    "tags": []
   },
   "source": [
    "## 1970-2018, 2019-2021 "
   ]
  },
  {
   "cell_type": "code",
   "execution_count": 35,
   "id": "eee0afe1",
   "metadata": {
    "execution": {
     "iopub.execute_input": "2022-09-02T19:56:15.054435Z",
     "iopub.status.busy": "2022-09-02T19:56:15.053638Z",
     "iopub.status.idle": "2022-09-02T19:56:20.983457Z",
     "shell.execute_reply": "2022-09-02T19:56:20.982170Z"
    },
    "papermill": {
     "duration": 5.946652,
     "end_time": "2022-09-02T19:56:20.985975",
     "exception": false,
     "start_time": "2022-09-02T19:56:15.039323",
     "status": "completed"
    },
    "tags": []
   },
   "outputs": [],
   "source": [
    "from keras.models import Sequential\n",
    "from keras.layers import Dense, Activation, Flatten\n",
    "from keras.wrappers.scikit_learn import KerasClassifier\n",
    "from tqdm.keras import TqdmCallback"
   ]
  },
  {
   "cell_type": "code",
   "execution_count": 36,
   "id": "796be5ce",
   "metadata": {
    "execution": {
     "iopub.execute_input": "2022-09-02T19:56:21.014243Z",
     "iopub.status.busy": "2022-09-02T19:56:21.013686Z",
     "iopub.status.idle": "2022-09-02T19:56:21.019897Z",
     "shell.execute_reply": "2022-09-02T19:56:21.019009Z"
    },
    "papermill": {
     "duration": 0.023249,
     "end_time": "2022-09-02T19:56:21.022493",
     "exception": false,
     "start_time": "2022-09-02T19:56:20.999244",
     "status": "completed"
    },
    "tags": []
   },
   "outputs": [],
   "source": [
    "def build_keras_model():\n",
    "    clf = Sequential()\n",
    "    clf.add(Dense(64, input_dim = x_final.shape[1], activation='relu'))\n",
    "\n",
    "    clf.add(Dense(32, activation='relu'))\n",
    "    clf.add(Dense(16, activation='relu'))\n",
    "    clf.add(Dense(8, activation='relu'))\n",
    "#     clf.add(Dense(128, activation='relu'))\n",
    "\n",
    "    clf.add(Dense(1, activation='sigmoid'))\n",
    "\n",
    "    clf.compile(\n",
    "        loss='binary_crossentropy', \n",
    "        optimizer='adam', \n",
    "        metrics=['accuracy']\n",
    "        )\n",
    "\n",
    "    return clf"
   ]
  },
  {
   "cell_type": "code",
   "execution_count": 37,
   "id": "2c6b900f",
   "metadata": {
    "execution": {
     "iopub.execute_input": "2022-09-02T19:56:21.050589Z",
     "iopub.status.busy": "2022-09-02T19:56:21.049882Z",
     "iopub.status.idle": "2022-09-02T19:56:21.054925Z",
     "shell.execute_reply": "2022-09-02T19:56:21.054276Z"
    },
    "papermill": {
     "duration": 0.021326,
     "end_time": "2022-09-02T19:56:21.056995",
     "exception": false,
     "start_time": "2022-09-02T19:56:21.035669",
     "status": "completed"
    },
    "tags": []
   },
   "outputs": [],
   "source": [
    "clf_keras = KerasClassifier(\n",
    "    build_fn=build_keras_model, \n",
    "    epochs=500,\n",
    "    batch_size=64, \n",
    "    verbose=0\n",
    ")\n",
    "clf_keras._estimator_type = \"classifier\"\n",
    "\n",
    "keras_pipeline = make_pipeline(\n",
    "    preprocess_pipeline,\n",
    "    RobustScaler(),\n",
    "    clf_keras\n",
    ")"
   ]
  },
  {
   "cell_type": "code",
   "execution_count": 38,
   "id": "c6a2cede",
   "metadata": {
    "execution": {
     "iopub.execute_input": "2022-09-02T19:56:21.085973Z",
     "iopub.status.busy": "2022-09-02T19:56:21.084262Z",
     "iopub.status.idle": "2022-09-02T20:00:21.651495Z",
     "shell.execute_reply": "2022-09-02T20:00:21.650514Z"
    },
    "papermill": {
     "duration": 240.583235,
     "end_time": "2022-09-02T20:00:21.653493",
     "exception": false,
     "start_time": "2022-09-02T19:56:21.070258",
     "status": "completed"
    },
    "tags": []
   },
   "outputs": [
    {
     "data": {
      "application/vnd.jupyter.widget-view+json": {
       "model_id": "2eb88d50900b468c809512729f27bc02",
       "version_major": 2,
       "version_minor": 0
      },
      "text/plain": [
       "0epoch [00:00, ?epoch/s]"
      ]
     },
     "metadata": {},
     "output_type": "display_data"
    },
    {
     "data": {
      "application/vnd.jupyter.widget-view+json": {
       "model_id": "fce8c8f0a7da44249428e616d8a5bd0f",
       "version_major": 2,
       "version_minor": 0
      },
      "text/plain": [
       "0batch [00:00, ?batch/s]"
      ]
     },
     "metadata": {},
     "output_type": "display_data"
    },
    {
     "name": "stderr",
     "output_type": "stream",
     "text": [
      "2022-09-02 19:56:21.212432: I tensorflow/core/common_runtime/process_util.cc:146] Creating new thread pool with default inter op setting: 2. Tune using inter_op_parallelism_threads for best performance.\n",
      "2022-09-02 19:56:21.377899: I tensorflow/compiler/mlir/mlir_graph_optimization_pass.cc:185] None of the MLIR Optimization Passes are enabled (registered 2)\n"
     ]
    },
    {
     "name": "stdout",
     "output_type": "stream",
     "text": [
      "Execution took 240.509s\n"
     ]
    }
   ],
   "source": [
    "fit_params = {\n",
    "    'kerasclassifier__callbacks': [TqdmCallback(verbose=1)]\n",
    "}\n",
    "\n",
    "train_timer = Timer()\n",
    "\n",
    "keras_pipeline.fit(x_final, y_final, **fit_params)\n",
    "\n",
    "train_timer.end()"
   ]
  },
  {
   "cell_type": "code",
   "execution_count": 39,
   "id": "590f5ca9",
   "metadata": {
    "execution": {
     "iopub.execute_input": "2022-09-02T20:00:21.682792Z",
     "iopub.status.busy": "2022-09-02T20:00:21.681973Z",
     "iopub.status.idle": "2022-09-02T20:00:22.038434Z",
     "shell.execute_reply": "2022-09-02T20:00:22.037651Z"
    },
    "papermill": {
     "duration": 0.37325,
     "end_time": "2022-09-02T20:00:22.040316",
     "exception": false,
     "start_time": "2022-09-02T20:00:21.667066",
     "status": "completed"
    },
    "tags": []
   },
   "outputs": [
    {
     "data": {
      "text/plain": [
       "<sklearn.metrics._plot.confusion_matrix.ConfusionMatrixDisplay at 0x7f359f3d8d10>"
      ]
     },
     "metadata": {},
     "output_type": "display_data"
    },
    {
     "data": {
      "text/html": [
       "<div>\n",
       "<style scoped>\n",
       "    .dataframe tbody tr th:only-of-type {\n",
       "        vertical-align: middle;\n",
       "    }\n",
       "\n",
       "    .dataframe tbody tr th {\n",
       "        vertical-align: top;\n",
       "    }\n",
       "\n",
       "    .dataframe thead th {\n",
       "        text-align: right;\n",
       "    }\n",
       "</style>\n",
       "<table border=\"1\" class=\"dataframe\">\n",
       "  <thead>\n",
       "    <tr style=\"text-align: right;\">\n",
       "      <th></th>\n",
       "      <th>model_name</th>\n",
       "      <th>acc</th>\n",
       "      <th>bacc</th>\n",
       "      <th>precision</th>\n",
       "      <th>recall</th>\n",
       "      <th>f1score</th>\n",
       "    </tr>\n",
       "  </thead>\n",
       "  <tbody>\n",
       "    <tr>\n",
       "      <th>0</th>\n",
       "      <td>keras_train_1970-2019</td>\n",
       "      <td>0.509135</td>\n",
       "      <td>0.507785</td>\n",
       "      <td>0.495913</td>\n",
       "      <td>0.455</td>\n",
       "      <td>0.474576</td>\n",
       "    </tr>\n",
       "  </tbody>\n",
       "</table>\n",
       "</div>"
      ],
      "text/plain": [
       "              model_name       acc      bacc  precision  recall   f1score\n",
       "0  keras_train_1970-2019  0.509135  0.507785   0.495913   0.455  0.474576"
      ]
     },
     "metadata": {},
     "output_type": "display_data"
    },
    {
     "data": {
      "image/png": "[encoded data removed]",
      "text/plain": [
       "<Figure size 432x288 with 2 Axes>"
      ]
     },
     "metadata": {
      "needs_background": "light"
     },
     "output_type": "display_data"
    }
   ],
   "source": [
    "keras_preds = keras_pipeline.predict(df_test_final)\n",
    "\n",
    "keras_scores = calculate_scores('keras_train_1970-2019', df_test_labels, keras_preds)"
   ]
  },
  {
   "cell_type": "markdown",
   "id": "e7dd1388",
   "metadata": {
    "papermill": {
     "duration": 0.013216,
     "end_time": "2022-09-02T20:00:22.067311",
     "exception": false,
     "start_time": "2022-09-02T20:00:22.054095",
     "status": "completed"
    },
    "tags": []
   },
   "source": [
    "## 2010-2018, 2019-2021 "
   ]
  },
  {
   "cell_type": "code",
   "execution_count": 40,
   "id": "8997dbb9",
   "metadata": {
    "execution": {
     "iopub.execute_input": "2022-09-02T20:00:22.096068Z",
     "iopub.status.busy": "2022-09-02T20:00:22.095761Z",
     "iopub.status.idle": "2022-09-02T20:00:22.146603Z",
     "shell.execute_reply": "2022-09-02T20:00:22.145694Z"
    },
    "papermill": {
     "duration": 0.071533,
     "end_time": "2022-09-02T20:00:22.152443",
     "exception": false,
     "start_time": "2022-09-02T20:00:22.080910",
     "status": "completed"
    },
    "tags": []
   },
   "outputs": [
    {
     "data": {
      "application/vnd.jupyter.widget-view+json": {
       "model_id": "d57df9362fa045f184ca21dffa702434",
       "version_major": 2,
       "version_minor": 0
      },
      "text/plain": [
       "0epoch [00:00, ?epoch/s]"
      ]
     },
     "metadata": {},
     "output_type": "display_data"
    },
    {
     "data": {
      "application/vnd.jupyter.widget-view+json": {
       "model_id": "40af3296fde24dcda09406f34ec5e55a",
       "version_major": 2,
       "version_minor": 0
      },
      "text/plain": [
       "0batch [00:00, ?batch/s]"
      ]
     },
     "metadata": {},
     "output_type": "display_data"
    }
   ],
   "source": [
    "clf_keras = KerasClassifier(\n",
    "    build_fn=build_keras_model, \n",
    "    epochs=200,\n",
    "    batch_size=64, \n",
    "    verbose=0\n",
    ")\n",
    "clf_keras._estimator_type = \"classifier\"\n",
    "\n",
    "fit_params = {\n",
    "    'kerasclassifier__callbacks': [TqdmCallback(verbose=1)]\n",
    "}\n",
    "\n",
    "keras_pipeline = make_pipeline(\n",
    "    preprocess_pipeline,\n",
    "    RobustScaler(),\n",
    "    clf_keras\n",
    ")"
   ]
  },
  {
   "cell_type": "code",
   "execution_count": 41,
   "id": "2e2018a1",
   "metadata": {
    "execution": {
     "iopub.execute_input": "2022-09-02T20:00:22.181550Z",
     "iopub.status.busy": "2022-09-02T20:00:22.181175Z",
     "iopub.status.idle": "2022-09-02T20:00:22.194721Z",
     "shell.execute_reply": "2022-09-02T20:00:22.193798Z"
    },
    "papermill": {
     "duration": 0.029966,
     "end_time": "2022-09-02T20:00:22.196526",
     "exception": false,
     "start_time": "2022-09-02T20:00:22.166560",
     "status": "completed"
    },
    "tags": []
   },
   "outputs": [
    {
     "data": {
      "text/plain": [
       "((2405, 34), (2405,))"
      ]
     },
     "execution_count": 41,
     "metadata": {},
     "output_type": "execute_result"
    }
   ],
   "source": [
    "x2010 = x_final[x_final['gs_year'] >= 2010]\n",
    "y2010 = y_final.filter(x2010.index, axis=0)\n",
    "\n",
    "x2010.shape, y2010.shape"
   ]
  },
  {
   "cell_type": "code",
   "execution_count": 42,
   "id": "e1c2ab64",
   "metadata": {
    "execution": {
     "iopub.execute_input": "2022-09-02T20:00:22.226105Z",
     "iopub.status.busy": "2022-09-02T20:00:22.225643Z",
     "iopub.status.idle": "2022-09-02T20:00:42.920044Z",
     "shell.execute_reply": "2022-09-02T20:00:42.919084Z"
    },
    "papermill": {
     "duration": 20.711004,
     "end_time": "2022-09-02T20:00:42.921852",
     "exception": false,
     "start_time": "2022-09-02T20:00:22.210848",
     "status": "completed"
    },
    "tags": []
   },
   "outputs": [
    {
     "name": "stdout",
     "output_type": "stream",
     "text": [
      "Execution took 20.69s\n"
     ]
    }
   ],
   "source": [
    "train_timer = Timer()\n",
    "\n",
    "keras_pipeline.fit(x2010, y2010, **fit_params)\n",
    "\n",
    "train_timer.end()"
   ]
  },
  {
   "cell_type": "code",
   "execution_count": 43,
   "id": "b6e5d0b5",
   "metadata": {
    "execution": {
     "iopub.execute_input": "2022-09-02T20:00:42.952405Z",
     "iopub.status.busy": "2022-09-02T20:00:42.951685Z",
     "iopub.status.idle": "2022-09-02T20:00:43.273974Z",
     "shell.execute_reply": "2022-09-02T20:00:43.272983Z"
    },
    "papermill": {
     "duration": 0.339753,
     "end_time": "2022-09-02T20:00:43.275920",
     "exception": false,
     "start_time": "2022-09-02T20:00:42.936167",
     "status": "completed"
    },
    "tags": []
   },
   "outputs": [
    {
     "data": {
      "text/plain": [
       "<sklearn.metrics._plot.confusion_matrix.ConfusionMatrixDisplay at 0x7f359dff0710>"
      ]
     },
     "metadata": {},
     "output_type": "display_data"
    },
    {
     "data": {
      "text/html": [
       "<div>\n",
       "<style scoped>\n",
       "    .dataframe tbody tr th:only-of-type {\n",
       "        vertical-align: middle;\n",
       "    }\n",
       "\n",
       "    .dataframe tbody tr th {\n",
       "        vertical-align: top;\n",
       "    }\n",
       "\n",
       "    .dataframe thead th {\n",
       "        text-align: right;\n",
       "    }\n",
       "</style>\n",
       "<table border=\"1\" class=\"dataframe\">\n",
       "  <thead>\n",
       "    <tr style=\"text-align: right;\">\n",
       "      <th></th>\n",
       "      <th>model_name</th>\n",
       "      <th>acc</th>\n",
       "      <th>bacc</th>\n",
       "      <th>precision</th>\n",
       "      <th>recall</th>\n",
       "      <th>f1score</th>\n",
       "    </tr>\n",
       "  </thead>\n",
       "  <tbody>\n",
       "    <tr>\n",
       "      <th>0</th>\n",
       "      <td>keras_train_1970-2019</td>\n",
       "      <td>0.509135</td>\n",
       "      <td>0.507785</td>\n",
       "      <td>0.495913</td>\n",
       "      <td>0.455</td>\n",
       "      <td>0.474576</td>\n",
       "    </tr>\n",
       "    <tr>\n",
       "      <th>1</th>\n",
       "      <td>keras_train_2010-2019</td>\n",
       "      <td>0.511571</td>\n",
       "      <td>0.507417</td>\n",
       "      <td>0.498195</td>\n",
       "      <td>0.345</td>\n",
       "      <td>0.407681</td>\n",
       "    </tr>\n",
       "  </tbody>\n",
       "</table>\n",
       "</div>"
      ],
      "text/plain": [
       "              model_name       acc      bacc  precision  recall   f1score\n",
       "0  keras_train_1970-2019  0.509135  0.507785   0.495913   0.455  0.474576\n",
       "1  keras_train_2010-2019  0.511571  0.507417   0.498195   0.345  0.407681"
      ]
     },
     "metadata": {},
     "output_type": "display_data"
    },
    {
     "data": {
      "image/png": "[encoded data removed]",
      "text/plain": [
       "<Figure size 432x288 with 2 Axes>"
      ]
     },
     "metadata": {
      "needs_background": "light"
     },
     "output_type": "display_data"
    }
   ],
   "source": [
    "keras_preds = keras_pipeline.predict(df_test_final)\n",
    "\n",
    "keras_scores = calculate_scores('keras_train_2010-2019', df_test_labels, keras_preds)"
   ]
  },
  {
   "cell_type": "markdown",
   "id": "09cbd087",
   "metadata": {
    "papermill": {
     "duration": 0.014433,
     "end_time": "2022-09-02T20:00:43.305249",
     "exception": false,
     "start_time": "2022-09-02T20:00:43.290816",
     "status": "completed"
    },
    "tags": []
   },
   "source": [
    "## 2000-2018, 2019-2021 "
   ]
  },
  {
   "cell_type": "code",
   "execution_count": 44,
   "id": "64d992ba",
   "metadata": {
    "execution": {
     "iopub.execute_input": "2022-09-02T20:00:43.336084Z",
     "iopub.status.busy": "2022-09-02T20:00:43.335751Z",
     "iopub.status.idle": "2022-09-02T20:00:43.397674Z",
     "shell.execute_reply": "2022-09-02T20:00:43.395687Z"
    },
    "papermill": {
     "duration": 0.084103,
     "end_time": "2022-09-02T20:00:43.403933",
     "exception": false,
     "start_time": "2022-09-02T20:00:43.319830",
     "status": "completed"
    },
    "tags": []
   },
   "outputs": [
    {
     "data": {
      "application/vnd.jupyter.widget-view+json": {
       "model_id": "c181e3ce4f2e4ec8a74cc47ed0e3ea87",
       "version_major": 2,
       "version_minor": 0
      },
      "text/plain": [
       "0epoch [00:00, ?epoch/s]"
      ]
     },
     "metadata": {},
     "output_type": "display_data"
    },
    {
     "data": {
      "application/vnd.jupyter.widget-view+json": {
       "model_id": "3fb62dd5b232417b88eda4dd1cf9ad2c",
       "version_major": 2,
       "version_minor": 0
      },
      "text/plain": [
       "0batch [00:00, ?batch/s]"
      ]
     },
     "metadata": {},
     "output_type": "display_data"
    }
   ],
   "source": [
    "clf_keras = KerasClassifier(\n",
    "    build_fn=build_keras_model, \n",
    "    epochs=200,\n",
    "    batch_size=64, \n",
    "    verbose=0\n",
    ")\n",
    "clf_keras._estimator_type = \"classifier\"\n",
    "\n",
    "fit_params = {\n",
    "    'kerasclassifier__callbacks': [TqdmCallback(verbose=1)]\n",
    "}\n",
    "\n",
    "keras_pipeline = make_pipeline(\n",
    "    preprocess_pipeline,\n",
    "    RobustScaler(),\n",
    "    clf_keras\n",
    ")"
   ]
  },
  {
   "cell_type": "code",
   "execution_count": 45,
   "id": "efdc8383",
   "metadata": {
    "execution": {
     "iopub.execute_input": "2022-09-02T20:00:43.436292Z",
     "iopub.status.busy": "2022-09-02T20:00:43.435770Z",
     "iopub.status.idle": "2022-09-02T20:00:43.456080Z",
     "shell.execute_reply": "2022-09-02T20:00:43.455472Z"
    },
    "papermill": {
     "duration": 0.038656,
     "end_time": "2022-09-02T20:00:43.458270",
     "exception": false,
     "start_time": "2022-09-02T20:00:43.419614",
     "status": "completed"
    },
    "tags": []
   },
   "outputs": [
    {
     "data": {
      "text/plain": [
       "((5067, 34), (5067,))"
      ]
     },
     "execution_count": 45,
     "metadata": {},
     "output_type": "execute_result"
    }
   ],
   "source": [
    "x2000 = x_final[x_final['gs_year'] >= 2000]\n",
    "y2000 = y_final.filter(x2000.index, axis=0)\n",
    "\n",
    "x2000.shape, y2000.shape"
   ]
  },
  {
   "cell_type": "code",
   "execution_count": 46,
   "id": "6d161814",
   "metadata": {
    "execution": {
     "iopub.execute_input": "2022-09-02T20:00:43.489842Z",
     "iopub.status.busy": "2022-09-02T20:00:43.489522Z",
     "iopub.status.idle": "2022-09-02T20:01:26.369339Z",
     "shell.execute_reply": "2022-09-02T20:01:26.368265Z"
    },
    "papermill": {
     "duration": 42.897657,
     "end_time": "2022-09-02T20:01:26.371113",
     "exception": false,
     "start_time": "2022-09-02T20:00:43.473456",
     "status": "completed"
    },
    "tags": []
   },
   "outputs": [
    {
     "name": "stdout",
     "output_type": "stream",
     "text": [
      "Execution took 42.875s\n"
     ]
    }
   ],
   "source": [
    "train_timer = Timer()\n",
    "\n",
    "keras_pipeline.fit(x2000, y2000, **fit_params)\n",
    "\n",
    "train_timer.end()"
   ]
  },
  {
   "cell_type": "code",
   "execution_count": 47,
   "id": "72bdac07",
   "metadata": {
    "execution": {
     "iopub.execute_input": "2022-09-02T20:01:26.403485Z",
     "iopub.status.busy": "2022-09-02T20:01:26.403101Z",
     "iopub.status.idle": "2022-09-02T20:01:26.695897Z",
     "shell.execute_reply": "2022-09-02T20:01:26.695180Z"
    },
    "papermill": {
     "duration": 0.311269,
     "end_time": "2022-09-02T20:01:26.697779",
     "exception": false,
     "start_time": "2022-09-02T20:01:26.386510",
     "status": "completed"
    },
    "tags": []
   },
   "outputs": [
    {
     "data": {
      "text/plain": [
       "<sklearn.metrics._plot.confusion_matrix.ConfusionMatrixDisplay at 0x7f359ea52a10>"
      ]
     },
     "metadata": {},
     "output_type": "display_data"
    },
    {
     "data": {
      "text/html": [
       "<div>\n",
       "<style scoped>\n",
       "    .dataframe tbody tr th:only-of-type {\n",
       "        vertical-align: middle;\n",
       "    }\n",
       "\n",
       "    .dataframe tbody tr th {\n",
       "        vertical-align: top;\n",
       "    }\n",
       "\n",
       "    .dataframe thead th {\n",
       "        text-align: right;\n",
       "    }\n",
       "</style>\n",
       "<table border=\"1\" class=\"dataframe\">\n",
       "  <thead>\n",
       "    <tr style=\"text-align: right;\">\n",
       "      <th></th>\n",
       "      <th>model_name</th>\n",
       "      <th>acc</th>\n",
       "      <th>bacc</th>\n",
       "      <th>precision</th>\n",
       "      <th>recall</th>\n",
       "      <th>f1score</th>\n",
       "    </tr>\n",
       "  </thead>\n",
       "  <tbody>\n",
       "    <tr>\n",
       "      <th>0</th>\n",
       "      <td>keras_train_1970-2019</td>\n",
       "      <td>0.509135</td>\n",
       "      <td>0.507785</td>\n",
       "      <td>0.495913</td>\n",
       "      <td>0.4550</td>\n",
       "      <td>0.474576</td>\n",
       "    </tr>\n",
       "    <tr>\n",
       "      <th>1</th>\n",
       "      <td>keras_train_2010-2019</td>\n",
       "      <td>0.511571</td>\n",
       "      <td>0.507417</td>\n",
       "      <td>0.498195</td>\n",
       "      <td>0.3450</td>\n",
       "      <td>0.407681</td>\n",
       "    </tr>\n",
       "    <tr>\n",
       "      <th>2</th>\n",
       "      <td>keras_train_2000-2019</td>\n",
       "      <td>0.485993</td>\n",
       "      <td>0.484783</td>\n",
       "      <td>0.470430</td>\n",
       "      <td>0.4375</td>\n",
       "      <td>0.453368</td>\n",
       "    </tr>\n",
       "  </tbody>\n",
       "</table>\n",
       "</div>"
      ],
      "text/plain": [
       "              model_name       acc      bacc  precision  recall   f1score\n",
       "0  keras_train_1970-2019  0.509135  0.507785   0.495913  0.4550  0.474576\n",
       "1  keras_train_2010-2019  0.511571  0.507417   0.498195  0.3450  0.407681\n",
       "2  keras_train_2000-2019  0.485993  0.484783   0.470430  0.4375  0.453368"
      ]
     },
     "metadata": {},
     "output_type": "display_data"
    },
    {
     "data": {
      "image/png": "[encoded data removed]",
      "text/plain": [
       "<Figure size 432x288 with 2 Axes>"
      ]
     },
     "metadata": {
      "needs_background": "light"
     },
     "output_type": "display_data"
    }
   ],
   "source": [
    "keras_preds = keras_pipeline.predict(df_test_final)\n",
    "\n",
    "keras_scores = calculate_scores('keras_train_2000-2019', df_test_labels, keras_preds)"
   ]
  }
 ],
 "metadata": {
  "kernelspec": {
   "display_name": "Python 3",
   "language": "python",
   "name": "python3"
  },
  "language_info": {
   "codemirror_mode": {
    "name": "ipython",
    "version": 3
   },
   "file_extension": ".py",
   "mimetype": "text/x-python",
   "name": "python",
   "nbconvert_exporter": "python",
   "pygments_lexer": "ipython3",
   "version": "3.7.12"
  },
  "papermill": {
   "default_parameters": {},
   "duration": 326.107094,
   "end_time": "2022-09-02T20:01:30.271597",
   "environment_variables": {},
   "exception": null,
   "input_path": "__notebook__.ipynb",
   "output_path": "__notebook__.ipynb",
   "parameters": {},
   "start_time": "2022-09-02T19:56:04.164503",
   "version": "2.3.4"
  },
  "widgets": {
   "application/vnd.jupyter.widget-state+json": {
    "state": {
     "03bea7bf3fa44338a0b57a53f0fbdee8": {
      "model_module": "@jupyter-widgets/base",
      "model_module_version": "1.2.0",
      "model_name": "LayoutModel",
      "state": {
       "_model_module": "@jupyter-widgets/base",
       "_model_module_version": "1.2.0",
       "_model_name": "LayoutModel",
       "_view_count": null,
       "_view_module": "@jupyter-widgets/base",
       "_view_module_version": "1.2.0",
       "_view_name": "LayoutView",
       "align_content": null,
       "align_items": null,
       "align_self": null,
       "border": null,
       "bottom": null,
       "display": null,
       "flex": null,
       "flex_flow": null,
       "grid_area": null,
       "grid_auto_columns": null,
       "grid_auto_flow": null,
       "grid_auto_rows": null,
       "grid_column": null,
       "grid_gap": null,
       "grid_row": null,
       "grid_template_areas": null,
       "grid_template_columns": null,
       "grid_template_rows": null,
       "height": null,
       "justify_content": null,
       "justify_items": null,
       "left": null,
       "margin": null,
       "max_height": null,
       "max_width": null,
       "min_height": null,
       "min_width": null,
       "object_fit": null,
       "object_position": null,
       "order": null,
       "overflow": null,
       "overflow_x": null,
       "overflow_y": null,
       "padding": null,
       "right": null,
       "top": null,
       "visibility": null,
       "width": null
      }
     },
     "04b83e3d6a7341d082209e595c0bce9f": {
      "model_module": "@jupyter-widgets/controls",
      "model_module_version": "1.5.0",
      "model_name": "FloatProgressModel",
      "state": {
       "_dom_classes": [],
       "_model_module": "@jupyter-widgets/controls",
       "_model_module_version": "1.5.0",
       "_model_name": "FloatProgressModel",
       "_view_count": null,
       "_view_module": "@jupyter-widgets/controls",
       "_view_module_version": "1.5.0",
       "_view_name": "ProgressView",
       "bar_style": "success",
       "description": "",
       "description_tooltip": null,
       "layout": "IPY_MODEL_17bacfc9963c400da3b6da2d24e74b8c",
       "max": 200.0,
       "min": 0.0,
       "orientation": "horizontal",
       "style": "IPY_MODEL_53bfef73a0b44d85a42308b7c17f05b7",
       "value": 200.0
      }
     },
     "0852444269444cacae624be124fae1c5": {
      "model_module": "@jupyter-widgets/controls",
      "model_module_version": "1.5.0",
      "model_name": "ProgressStyleModel",
      "state": {
       "_model_module": "@jupyter-widgets/controls",
       "_model_module_version": "1.5.0",
       "_model_name": "ProgressStyleModel",
       "_view_count": null,
       "_view_module": "@jupyter-widgets/base",
       "_view_module_version": "1.2.0",
       "_view_name": "StyleView",
       "bar_color": null,
       "description_width": ""
      }
     },
     "0d29f0d631f94602b6e96b54242d2bf8": {
      "model_module": "@jupyter-widgets/base",
      "model_module_version": "1.2.0",
      "model_name": "LayoutModel",
      "state": {
       "_model_module": "@jupyter-widgets/base",
       "_model_module_version": "1.2.0",
       "_model_name": "LayoutModel",
       "_view_count": null,
       "_view_module": "@jupyter-widgets/base",
       "_view_module_version": "1.2.0",
       "_view_name": "LayoutView",
       "align_content": null,
       "align_items": null,
       "align_self": null,
       "border": null,
       "bottom": null,
       "display": null,
       "flex": null,
       "flex_flow": null,
       "grid_area": null,
       "grid_auto_columns": null,
       "grid_auto_flow": null,
       "grid_auto_rows": null,
       "grid_column": null,
       "grid_gap": null,
       "grid_row": null,
       "grid_template_areas": null,
       "grid_template_columns": null,
       "grid_template_rows": null,
       "height": null,
       "justify_content": null,
       "justify_items": null,
       "left": null,
       "margin": null,
       "max_height": null,
       "max_width": null,
       "min_height": null,
       "min_width": null,
       "object_fit": null,
       "object_position": null,
       "order": null,
       "overflow": null,
       "overflow_x": null,
       "overflow_y": null,
       "padding": null,
       "right": null,
       "top": null,
       "visibility": null,
       "width": null
      }
     },
     "0d937af4e49041dca3fd8567b268dc6e": {
      "model_module": "@jupyter-widgets/controls",
      "model_module_version": "1.5.0",
      "model_name": "FloatProgressModel",
      "state": {
       "_dom_classes": [],
       "_model_module": "@jupyter-widgets/controls",
       "_model_module_version": "1.5.0",
       "_model_name": "FloatProgressModel",
       "_view_count": null,
       "_view_module": "@jupyter-widgets/controls",
       "_view_module_version": "1.5.0",
       "_view_name": "ProgressView",
       "bar_style": "",
       "description": "",
       "description_tooltip": null,
       "layout": "IPY_MODEL_971b9dd9b0794f5882879feefcf56796",
       "max": 38.0,
       "min": 0.0,
       "orientation": "horizontal",
       "style": "IPY_MODEL_82481024d08441c2b7e04709b740ce79",
       "value": 38.0
      }
     },
     "15356ac863404858ae747e13f79dd441": {
      "model_module": "@jupyter-widgets/controls",
      "model_module_version": "1.5.0",
      "model_name": "ProgressStyleModel",
      "state": {
       "_model_module": "@jupyter-widgets/controls",
       "_model_module_version": "1.5.0",
       "_model_name": "ProgressStyleModel",
       "_view_count": null,
       "_view_module": "@jupyter-widgets/base",
       "_view_module_version": "1.2.0",
       "_view_name": "StyleView",
       "bar_color": null,
       "description_width": ""
      }
     },
     "17bacfc9963c400da3b6da2d24e74b8c": {
      "model_module": "@jupyter-widgets/base",
      "model_module_version": "1.2.0",
      "model_name": "LayoutModel",
      "state": {
       "_model_module": "@jupyter-widgets/base",
       "_model_module_version": "1.2.0",
       "_model_name": "LayoutModel",
       "_view_count": null,
       "_view_module": "@jupyter-widgets/base",
       "_view_module_version": "1.2.0",
       "_view_name": "LayoutView",
       "align_content": null,
       "align_items": null,
       "align_self": null,
       "border": null,
       "bottom": null,
       "display": null,
       "flex": null,
       "flex_flow": null,
       "grid_area": null,
       "grid_auto_columns": null,
       "grid_auto_flow": null,
       "grid_auto_rows": null,
       "grid_column": null,
       "grid_gap": null,
       "grid_row": null,
       "grid_template_areas": null,
       "grid_template_columns": null,
       "grid_template_rows": null,
       "height": null,
       "justify_content": null,
       "justify_items": null,
       "left": null,
       "margin": null,
       "max_height": null,
       "max_width": null,
       "min_height": null,
       "min_width": null,
       "object_fit": null,
       "object_position": null,
       "order": null,
       "overflow": null,
       "overflow_x": null,
       "overflow_y": null,
       "padding": null,
       "right": null,
       "top": null,
       "visibility": null,
       "width": null
      }
     },
     "189d1f263f41439ebbd87455b8e79dce": {
      "model_module": "@jupyter-widgets/controls",
      "model_module_version": "1.5.0",
      "model_name": "HTMLModel",
      "state": {
       "_dom_classes": [],
       "_model_module": "@jupyter-widgets/controls",
       "_model_module_version": "1.5.0",
       "_model_name": "HTMLModel",
       "_view_count": null,
       "_view_module": "@jupyter-widgets/controls",
       "_view_module_version": "1.5.0",
       "_view_name": "HTMLView",
       "description": "",
       "description_tooltip": null,
       "layout": "IPY_MODEL_f9ae9c95bbc74b5e8aa5a662657d8ec9",
       "placeholder": "​",
       "style": "IPY_MODEL_a875aedd224243aea83b1d449bdd5e50",
       "value": " 500/500 [04:00&lt;00:00,  2.11epoch/s, loss=0.318, accuracy=0.845]"
      }
     },
     "1ab9d4d28b9342a69cc1c4a156fdea10": {
      "model_module": "@jupyter-widgets/controls",
      "model_module_version": "1.5.0",
      "model_name": "HTMLModel",
      "state": {
       "_dom_classes": [],
       "_model_module": "@jupyter-widgets/controls",
       "_model_module_version": "1.5.0",
       "_model_name": "HTMLModel",
       "_view_count": null,
       "_view_module": "@jupyter-widgets/controls",
       "_view_module_version": "1.5.0",
       "_view_name": "HTMLView",
       "description": "",
       "description_tooltip": null,
       "layout": "IPY_MODEL_eae6b1f6ab2b42f28aa792ac33bb998e",
       "placeholder": "​",
       "style": "IPY_MODEL_5215cef3b3e0438ebc69df80738e4ede",
       "value": "100%"
      }
     },
     "1d0b9a86cd8e4485ae2077abc9c26b42": {
      "model_module": "@jupyter-widgets/controls",
      "model_module_version": "1.5.0",
      "model_name": "HTMLModel",
      "state": {
       "_dom_classes": [],
       "_model_module": "@jupyter-widgets/controls",
       "_model_module_version": "1.5.0",
       "_model_name": "HTMLModel",
       "_view_count": null,
       "_view_module": "@jupyter-widgets/controls",
       "_view_module_version": "1.5.0",
       "_view_name": "HTMLView",
       "description": "",
       "description_tooltip": null,
       "layout": "IPY_MODEL_f5c3411d6c634d1d92294464eb3a3435",
       "placeholder": "​",
       "style": "IPY_MODEL_7ac0be10977644edad920fa845f01396",
       "value": "  0%"
      }
     },
     "1fba0fe7d4aa49dbaf33ef571285217b": {
      "model_module": "@jupyter-widgets/base",
      "model_module_version": "1.2.0",
      "model_name": "LayoutModel",
      "state": {
       "_model_module": "@jupyter-widgets/base",
       "_model_module_version": "1.2.0",
       "_model_name": "LayoutModel",
       "_view_count": null,
       "_view_module": "@jupyter-widgets/base",
       "_view_module_version": "1.2.0",
       "_view_name": "LayoutView",
       "align_content": null,
       "align_items": null,
       "align_self": null,
       "border": null,
       "bottom": null,
       "display": null,
       "flex": null,
       "flex_flow": null,
       "grid_area": null,
       "grid_auto_columns": null,
       "grid_auto_flow": null,
       "grid_auto_rows": null,
       "grid_column": null,
       "grid_gap": null,
       "grid_row": null,
       "grid_template_areas": null,
       "grid_template_columns": null,
       "grid_template_rows": null,
       "height": null,
       "justify_content": null,
       "justify_items": null,
       "left": null,
       "margin": null,
       "max_height": null,
       "max_width": null,
       "min_height": null,
       "min_width": null,
       "object_fit": null,
       "object_position": null,
       "order": null,
       "overflow": null,
       "overflow_x": null,
       "overflow_y": null,
       "padding": null,
       "right": null,
       "top": null,
       "visibility": null,
       "width": null
      }
     },
     "2514eec3e64a4730aaaace378089ac79": {
      "model_module": "@jupyter-widgets/base",
      "model_module_version": "1.2.0",
      "model_name": "LayoutModel",
      "state": {
       "_model_module": "@jupyter-widgets/base",
       "_model_module_version": "1.2.0",
       "_model_name": "LayoutModel",
       "_view_count": null,
       "_view_module": "@jupyter-widgets/base",
       "_view_module_version": "1.2.0",
       "_view_name": "LayoutView",
       "align_content": null,
       "align_items": null,
       "align_self": null,
       "border": null,
       "bottom": null,
       "display": null,
       "flex": null,
       "flex_flow": null,
       "grid_area": null,
       "grid_auto_columns": null,
       "grid_auto_flow": null,
       "grid_auto_rows": null,
       "grid_column": null,
       "grid_gap": null,
       "grid_row": null,
       "grid_template_areas": null,
       "grid_template_columns": null,
       "grid_template_rows": null,
       "height": null,
       "justify_content": null,
       "justify_items": null,
       "left": null,
       "margin": null,
       "max_height": null,
       "max_width": null,
       "min_height": null,
       "min_width": null,
       "object_fit": null,
       "object_position": null,
       "order": null,
       "overflow": null,
       "overflow_x": null,
       "overflow_y": null,
       "padding": null,
       "right": null,
       "top": null,
       "visibility": null,
       "width": null
      }
     },
     "25290489af9e4865a7c7edea86bb8007": {
      "model_module": "@jupyter-widgets/controls",
      "model_module_version": "1.5.0",
      "model_name": "ProgressStyleModel",
      "state": {
       "_model_module": "@jupyter-widgets/controls",
       "_model_module_version": "1.5.0",
       "_model_name": "ProgressStyleModel",
       "_view_count": null,
       "_view_module": "@jupyter-widgets/base",
       "_view_module_version": "1.2.0",
       "_view_name": "StyleView",
       "bar_color": null,
       "description_width": ""
      }
     },
     "27f2176267944a56b780e7e97fe07c13": {
      "model_module": "@jupyter-widgets/base",
      "model_module_version": "1.2.0",
      "model_name": "LayoutModel",
      "state": {
       "_model_module": "@jupyter-widgets/base",
       "_model_module_version": "1.2.0",
       "_model_name": "LayoutModel",
       "_view_count": null,
       "_view_module": "@jupyter-widgets/base",
       "_view_module_version": "1.2.0",
       "_view_name": "LayoutView",
       "align_content": null,
       "align_items": null,
       "align_self": null,
       "border": null,
       "bottom": null,
       "display": null,
       "flex": null,
       "flex_flow": null,
       "grid_area": null,
       "grid_auto_columns": null,
       "grid_auto_flow": null,
       "grid_auto_rows": null,
       "grid_column": null,
       "grid_gap": null,
       "grid_row": null,
       "grid_template_areas": null,
       "grid_template_columns": null,
       "grid_template_rows": null,
       "height": null,
       "justify_content": null,
       "justify_items": null,
       "left": null,
       "margin": null,
       "max_height": null,
       "max_width": null,
       "min_height": null,
       "min_width": null,
       "object_fit": null,
       "object_position": null,
       "order": null,
       "overflow": null,
       "overflow_x": null,
       "overflow_y": null,
       "padding": null,
       "right": null,
       "top": null,
       "visibility": null,
       "width": null
      }
     },
     "291c74506bfd46d8b17a14dc4fe603ca": {
      "model_module": "@jupyter-widgets/controls",
      "model_module_version": "1.5.0",
      "model_name": "FloatProgressModel",
      "state": {
       "_dom_classes": [],
       "_model_module": "@jupyter-widgets/controls",
       "_model_module_version": "1.5.0",
       "_model_name": "FloatProgressModel",
       "_view_count": null,
       "_view_module": "@jupyter-widgets/controls",
       "_view_module_version": "1.5.0",
       "_view_name": "ProgressView",
       "bar_style": "",
       "description": "",
       "description_tooltip": null,
       "layout": "IPY_MODEL_77e4d59dfa194d9c98bc3576e704d938",
       "max": 80.0,
       "min": 0.0,
       "orientation": "horizontal",
       "style": "IPY_MODEL_0852444269444cacae624be124fae1c5",
       "value": 80.0
      }
     },
     "2a7744d3e30f4975bc0fe550c7f56e71": {
      "model_module": "@jupyter-widgets/controls",
      "model_module_version": "1.5.0",
      "model_name": "DescriptionStyleModel",
      "state": {
       "_model_module": "@jupyter-widgets/controls",
       "_model_module_version": "1.5.0",
       "_model_name": "DescriptionStyleModel",
       "_view_count": null,
       "_view_module": "@jupyter-widgets/base",
       "_view_module_version": "1.2.0",
       "_view_name": "StyleView",
       "description_width": ""
      }
     },
     "2eb88d50900b468c809512729f27bc02": {
      "model_module": "@jupyter-widgets/controls",
      "model_module_version": "1.5.0",
      "model_name": "HBoxModel",
      "state": {
       "_dom_classes": [],
       "_model_module": "@jupyter-widgets/controls",
       "_model_module_version": "1.5.0",
       "_model_name": "HBoxModel",
       "_view_count": null,
       "_view_module": "@jupyter-widgets/controls",
       "_view_module_version": "1.5.0",
       "_view_name": "HBoxView",
       "box_style": "",
       "children": [
        "IPY_MODEL_f9fc7bff0c9d4ae989a10f71413981ff",
        "IPY_MODEL_71431e5f8a8c49dd98486d792ed24e0f",
        "IPY_MODEL_189d1f263f41439ebbd87455b8e79dce"
       ],
       "layout": "IPY_MODEL_0d29f0d631f94602b6e96b54242d2bf8"
      }
     },
     "2eda432829f84f3b9cf28d1688be58d1": {
      "model_module": "@jupyter-widgets/base",
      "model_module_version": "1.2.0",
      "model_name": "LayoutModel",
      "state": {
       "_model_module": "@jupyter-widgets/base",
       "_model_module_version": "1.2.0",
       "_model_name": "LayoutModel",
       "_view_count": null,
       "_view_module": "@jupyter-widgets/base",
       "_view_module_version": "1.2.0",
       "_view_name": "LayoutView",
       "align_content": null,
       "align_items": null,
       "align_self": null,
       "border": null,
       "bottom": null,
       "display": null,
       "flex": null,
       "flex_flow": null,
       "grid_area": null,
       "grid_auto_columns": null,
       "grid_auto_flow": null,
       "grid_auto_rows": null,
       "grid_column": null,
       "grid_gap": null,
       "grid_row": null,
       "grid_template_areas": null,
       "grid_template_columns": null,
       "grid_template_rows": null,
       "height": null,
       "justify_content": null,
       "justify_items": null,
       "left": null,
       "margin": null,
       "max_height": null,
       "max_width": null,
       "min_height": null,
       "min_width": null,
       "object_fit": null,
       "object_position": null,
       "order": null,
       "overflow": null,
       "overflow_x": null,
       "overflow_y": null,
       "padding": null,
       "right": null,
       "top": null,
       "visibility": null,
       "width": null
      }
     },
     "34ed882194bb4aa19cc70d987c59fb10": {
      "model_module": "@jupyter-widgets/controls",
      "model_module_version": "1.5.0",
      "model_name": "DescriptionStyleModel",
      "state": {
       "_model_module": "@jupyter-widgets/controls",
       "_model_module_version": "1.5.0",
       "_model_name": "DescriptionStyleModel",
       "_view_count": null,
       "_view_module": "@jupyter-widgets/base",
       "_view_module_version": "1.2.0",
       "_view_name": "StyleView",
       "description_width": ""
      }
     },
     "3fb62dd5b232417b88eda4dd1cf9ad2c": {
      "model_module": "@jupyter-widgets/controls",
      "model_module_version": "1.5.0",
      "model_name": "HBoxModel",
      "state": {
       "_dom_classes": [],
       "_model_module": "@jupyter-widgets/controls",
       "_model_module_version": "1.5.0",
       "_model_name": "HBoxModel",
       "_view_count": null,
       "_view_module": "@jupyter-widgets/controls",
       "_view_module_version": "1.5.0",
       "_view_name": "HBoxView",
       "box_style": "",
       "children": [
        "IPY_MODEL_f2947918f3bc4351bc4cc67402f39612",
        "IPY_MODEL_291c74506bfd46d8b17a14dc4fe603ca",
        "IPY_MODEL_415754e2a5f3488d9fb9dcd0ee990752"
       ],
       "layout": "IPY_MODEL_8796d027b9534ee18a152c6366dcd05c"
      }
     },
     "40af3296fde24dcda09406f34ec5e55a": {
      "model_module": "@jupyter-widgets/controls",
      "model_module_version": "1.5.0",
      "model_name": "HBoxModel",
      "state": {
       "_dom_classes": [],
       "_model_module": "@jupyter-widgets/controls",
       "_model_module_version": "1.5.0",
       "_model_name": "HBoxModel",
       "_view_count": null,
       "_view_module": "@jupyter-widgets/controls",
       "_view_module_version": "1.5.0",
       "_view_name": "HBoxView",
       "box_style": "",
       "children": [
        "IPY_MODEL_1d0b9a86cd8e4485ae2077abc9c26b42",
        "IPY_MODEL_0d937af4e49041dca3fd8567b268dc6e",
        "IPY_MODEL_40fcb16726734de6b8538d173e6d1e75"
       ],
       "layout": "IPY_MODEL_6bb5e1c5e40d465a93b73fb3d63e2c5d"
      }
     },
     "40fcb16726734de6b8538d173e6d1e75": {
      "model_module": "@jupyter-widgets/controls",
      "model_module_version": "1.5.0",
      "model_name": "HTMLModel",
      "state": {
       "_dom_classes": [],
       "_model_module": "@jupyter-widgets/controls",
       "_model_module_version": "1.5.0",
       "_model_name": "HTMLModel",
       "_view_count": null,
       "_view_module": "@jupyter-widgets/controls",
       "_view_module_version": "1.5.0",
       "_view_name": "HTMLView",
       "description": "",
       "description_tooltip": null,
       "layout": "IPY_MODEL_8ea530bfa1e64fb0831fa3ff54e83b1f",
       "placeholder": "​",
       "style": "IPY_MODEL_b9306b65941d4f018399c9013ab5fece",
       "value": " 0.00/38.0 [00:00&lt;?, ?batch/s, loss=0.0714, accuracy=0.973]"
      }
     },
     "415754e2a5f3488d9fb9dcd0ee990752": {
      "model_module": "@jupyter-widgets/controls",
      "model_module_version": "1.5.0",
      "model_name": "HTMLModel",
      "state": {
       "_dom_classes": [],
       "_model_module": "@jupyter-widgets/controls",
       "_model_module_version": "1.5.0",
       "_model_name": "HTMLModel",
       "_view_count": null,
       "_view_module": "@jupyter-widgets/controls",
       "_view_module_version": "1.5.0",
       "_view_name": "HTMLView",
       "description": "",
       "description_tooltip": null,
       "layout": "IPY_MODEL_e426b3c394534d4f8e03d1a66e683bf3",
       "placeholder": "​",
       "style": "IPY_MODEL_56cc1f7e1b4c4ea490991f3ac74ba543",
       "value": " 43.0/80.0 [00:00&lt;00:00, 427batch/s, loss=0.128, accuracy=0.944]"
      }
     },
     "46a24024a34e4bafb9c8f8e3606c1d26": {
      "model_module": "@jupyter-widgets/controls",
      "model_module_version": "1.5.0",
      "model_name": "DescriptionStyleModel",
      "state": {
       "_model_module": "@jupyter-widgets/controls",
       "_model_module_version": "1.5.0",
       "_model_name": "DescriptionStyleModel",
       "_view_count": null,
       "_view_module": "@jupyter-widgets/base",
       "_view_module_version": "1.2.0",
       "_view_name": "StyleView",
       "description_width": ""
      }
     },
     "5027c3edc0754f4c9cd8fbd9c34cac48": {
      "model_module": "@jupyter-widgets/controls",
      "model_module_version": "1.5.0",
      "model_name": "DescriptionStyleModel",
      "state": {
       "_model_module": "@jupyter-widgets/controls",
       "_model_module_version": "1.5.0",
       "_model_name": "DescriptionStyleModel",
       "_view_count": null,
       "_view_module": "@jupyter-widgets/base",
       "_view_module_version": "1.2.0",
       "_view_name": "StyleView",
       "description_width": ""
      }
     },
     "5215cef3b3e0438ebc69df80738e4ede": {
      "model_module": "@jupyter-widgets/controls",
      "model_module_version": "1.5.0",
      "model_name": "DescriptionStyleModel",
      "state": {
       "_model_module": "@jupyter-widgets/controls",
       "_model_module_version": "1.5.0",
       "_model_name": "DescriptionStyleModel",
       "_view_count": null,
       "_view_module": "@jupyter-widgets/base",
       "_view_module_version": "1.2.0",
       "_view_name": "StyleView",
       "description_width": ""
      }
     },
     "53bfef73a0b44d85a42308b7c17f05b7": {
      "model_module": "@jupyter-widgets/controls",
      "model_module_version": "1.5.0",
      "model_name": "ProgressStyleModel",
      "state": {
       "_model_module": "@jupyter-widgets/controls",
       "_model_module_version": "1.5.0",
       "_model_name": "ProgressStyleModel",
       "_view_count": null,
       "_view_module": "@jupyter-widgets/base",
       "_view_module_version": "1.2.0",
       "_view_name": "StyleView",
       "bar_color": null,
       "description_width": ""
      }
     },
     "56cc1f7e1b4c4ea490991f3ac74ba543": {
      "model_module": "@jupyter-widgets/controls",
      "model_module_version": "1.5.0",
      "model_name": "DescriptionStyleModel",
      "state": {
       "_model_module": "@jupyter-widgets/controls",
       "_model_module_version": "1.5.0",
       "_model_name": "DescriptionStyleModel",
       "_view_count": null,
       "_view_module": "@jupyter-widgets/base",
       "_view_module_version": "1.2.0",
       "_view_name": "StyleView",
       "description_width": ""
      }
     },
     "5c0abc3567054ec88d6892b441bf101e": {
      "model_module": "@jupyter-widgets/controls",
      "model_module_version": "1.5.0",
      "model_name": "FloatProgressModel",
      "state": {
       "_dom_classes": [],
       "_model_module": "@jupyter-widgets/controls",
       "_model_module_version": "1.5.0",
       "_model_name": "FloatProgressModel",
       "_view_count": null,
       "_view_module": "@jupyter-widgets/controls",
       "_view_module_version": "1.5.0",
       "_view_name": "ProgressView",
       "bar_style": "",
       "description": "",
       "description_tooltip": null,
       "layout": "IPY_MODEL_2eda432829f84f3b9cf28d1688be58d1",
       "max": 184.0,
       "min": 0.0,
       "orientation": "horizontal",
       "style": "IPY_MODEL_25290489af9e4865a7c7edea86bb8007",
       "value": 184.0
      }
     },
     "6880d19b4ce64647af682a6a6b39d528": {
      "model_module": "@jupyter-widgets/controls",
      "model_module_version": "1.5.0",
      "model_name": "HTMLModel",
      "state": {
       "_dom_classes": [],
       "_model_module": "@jupyter-widgets/controls",
       "_model_module_version": "1.5.0",
       "_model_name": "HTMLModel",
       "_view_count": null,
       "_view_module": "@jupyter-widgets/controls",
       "_view_module_version": "1.5.0",
       "_view_name": "HTMLView",
       "description": "",
       "description_tooltip": null,
       "layout": "IPY_MODEL_98bc0a9968d644c6b8bdb2900773313e",
       "placeholder": "​",
       "style": "IPY_MODEL_34ed882194bb4aa19cc70d987c59fb10",
       "value": " 200/200 [00:42&lt;00:00,  5.01epoch/s, loss=0.136, accuracy=0.942]"
      }
     },
     "6bb5e1c5e40d465a93b73fb3d63e2c5d": {
      "model_module": "@jupyter-widgets/base",
      "model_module_version": "1.2.0",
      "model_name": "LayoutModel",
      "state": {
       "_model_module": "@jupyter-widgets/base",
       "_model_module_version": "1.2.0",
       "_model_name": "LayoutModel",
       "_view_count": null,
       "_view_module": "@jupyter-widgets/base",
       "_view_module_version": "1.2.0",
       "_view_name": "LayoutView",
       "align_content": null,
       "align_items": null,
       "align_self": null,
       "border": null,
       "bottom": null,
       "display": null,
       "flex": null,
       "flex_flow": null,
       "grid_area": null,
       "grid_auto_columns": null,
       "grid_auto_flow": null,
       "grid_auto_rows": null,
       "grid_column": null,
       "grid_gap": null,
       "grid_row": null,
       "grid_template_areas": null,
       "grid_template_columns": null,
       "grid_template_rows": null,
       "height": null,
       "justify_content": null,
       "justify_items": null,
       "left": null,
       "margin": null,
       "max_height": null,
       "max_width": null,
       "min_height": null,
       "min_width": null,
       "object_fit": null,
       "object_position": null,
       "order": null,
       "overflow": null,
       "overflow_x": null,
       "overflow_y": null,
       "padding": null,
       "right": null,
       "top": null,
       "visibility": null,
       "width": null
      }
     },
     "71431e5f8a8c49dd98486d792ed24e0f": {
      "model_module": "@jupyter-widgets/controls",
      "model_module_version": "1.5.0",
      "model_name": "FloatProgressModel",
      "state": {
       "_dom_classes": [],
       "_model_module": "@jupyter-widgets/controls",
       "_model_module_version": "1.5.0",
       "_model_name": "FloatProgressModel",
       "_view_count": null,
       "_view_module": "@jupyter-widgets/controls",
       "_view_module_version": "1.5.0",
       "_view_name": "ProgressView",
       "bar_style": "success",
       "description": "",
       "description_tooltip": null,
       "layout": "IPY_MODEL_e5fd11ddfa0849ecbb0508b218284d4d",
       "max": 500.0,
       "min": 0.0,
       "orientation": "horizontal",
       "style": "IPY_MODEL_cdfcd0add9264f94b2b8040c1a85fdb2",
       "value": 500.0
      }
     },
     "77e4d59dfa194d9c98bc3576e704d938": {
      "model_module": "@jupyter-widgets/base",
      "model_module_version": "1.2.0",
      "model_name": "LayoutModel",
      "state": {
       "_model_module": "@jupyter-widgets/base",
       "_model_module_version": "1.2.0",
       "_model_name": "LayoutModel",
       "_view_count": null,
       "_view_module": "@jupyter-widgets/base",
       "_view_module_version": "1.2.0",
       "_view_name": "LayoutView",
       "align_content": null,
       "align_items": null,
       "align_self": null,
       "border": null,
       "bottom": null,
       "display": null,
       "flex": null,
       "flex_flow": null,
       "grid_area": null,
       "grid_auto_columns": null,
       "grid_auto_flow": null,
       "grid_auto_rows": null,
       "grid_column": null,
       "grid_gap": null,
       "grid_row": null,
       "grid_template_areas": null,
       "grid_template_columns": null,
       "grid_template_rows": null,
       "height": null,
       "justify_content": null,
       "justify_items": null,
       "left": null,
       "margin": null,
       "max_height": null,
       "max_width": null,
       "min_height": null,
       "min_width": null,
       "object_fit": null,
       "object_position": null,
       "order": null,
       "overflow": null,
       "overflow_x": null,
       "overflow_y": null,
       "padding": null,
       "right": null,
       "top": null,
       "visibility": null,
       "width": null
      }
     },
     "7887a5d42da94c82a93a2afc3990813a": {
      "model_module": "@jupyter-widgets/base",
      "model_module_version": "1.2.0",
      "model_name": "LayoutModel",
      "state": {
       "_model_module": "@jupyter-widgets/base",
       "_model_module_version": "1.2.0",
       "_model_name": "LayoutModel",
       "_view_count": null,
       "_view_module": "@jupyter-widgets/base",
       "_view_module_version": "1.2.0",
       "_view_name": "LayoutView",
       "align_content": null,
       "align_items": null,
       "align_self": null,
       "border": null,
       "bottom": null,
       "display": null,
       "flex": null,
       "flex_flow": null,
       "grid_area": null,
       "grid_auto_columns": null,
       "grid_auto_flow": null,
       "grid_auto_rows": null,
       "grid_column": null,
       "grid_gap": null,
       "grid_row": null,
       "grid_template_areas": null,
       "grid_template_columns": null,
       "grid_template_rows": null,
       "height": null,
       "justify_content": null,
       "justify_items": null,
       "left": null,
       "margin": null,
       "max_height": null,
       "max_width": null,
       "min_height": null,
       "min_width": null,
       "object_fit": null,
       "object_position": null,
       "order": null,
       "overflow": null,
       "overflow_x": null,
       "overflow_y": null,
       "padding": null,
       "right": null,
       "top": null,
       "visibility": null,
       "width": null
      }
     },
     "7ac0be10977644edad920fa845f01396": {
      "model_module": "@jupyter-widgets/controls",
      "model_module_version": "1.5.0",
      "model_name": "DescriptionStyleModel",
      "state": {
       "_model_module": "@jupyter-widgets/controls",
       "_model_module_version": "1.5.0",
       "_model_name": "DescriptionStyleModel",
       "_view_count": null,
       "_view_module": "@jupyter-widgets/base",
       "_view_module_version": "1.2.0",
       "_view_name": "StyleView",
       "description_width": ""
      }
     },
     "82481024d08441c2b7e04709b740ce79": {
      "model_module": "@jupyter-widgets/controls",
      "model_module_version": "1.5.0",
      "model_name": "ProgressStyleModel",
      "state": {
       "_model_module": "@jupyter-widgets/controls",
       "_model_module_version": "1.5.0",
       "_model_name": "ProgressStyleModel",
       "_view_count": null,
       "_view_module": "@jupyter-widgets/base",
       "_view_module_version": "1.2.0",
       "_view_name": "StyleView",
       "bar_color": null,
       "description_width": ""
      }
     },
     "85581281c7e24a82a73b64a8cadcc480": {
      "model_module": "@jupyter-widgets/controls",
      "model_module_version": "1.5.0",
      "model_name": "HTMLModel",
      "state": {
       "_dom_classes": [],
       "_model_module": "@jupyter-widgets/controls",
       "_model_module_version": "1.5.0",
       "_model_name": "HTMLModel",
       "_view_count": null,
       "_view_module": "@jupyter-widgets/controls",
       "_view_module_version": "1.5.0",
       "_view_name": "HTMLView",
       "description": "",
       "description_tooltip": null,
       "layout": "IPY_MODEL_bdfa8097da874d6aabf900ff2539c5ec",
       "placeholder": "​",
       "style": "IPY_MODEL_5027c3edc0754f4c9cd8fbd9c34cac48",
       "value": " 200/200 [00:20&lt;00:00, 10.05epoch/s, loss=0.125, accuracy=0.951]"
      }
     },
     "8696da870c9844b5ab7ebb750dff1d1d": {
      "model_module": "@jupyter-widgets/base",
      "model_module_version": "1.2.0",
      "model_name": "LayoutModel",
      "state": {
       "_model_module": "@jupyter-widgets/base",
       "_model_module_version": "1.2.0",
       "_model_name": "LayoutModel",
       "_view_count": null,
       "_view_module": "@jupyter-widgets/base",
       "_view_module_version": "1.2.0",
       "_view_name": "LayoutView",
       "align_content": null,
       "align_items": null,
       "align_self": null,
       "border": null,
       "bottom": null,
       "display": null,
       "flex": null,
       "flex_flow": null,
       "grid_area": null,
       "grid_auto_columns": null,
       "grid_auto_flow": null,
       "grid_auto_rows": null,
       "grid_column": null,
       "grid_gap": null,
       "grid_row": null,
       "grid_template_areas": null,
       "grid_template_columns": null,
       "grid_template_rows": null,
       "height": null,
       "justify_content": null,
       "justify_items": null,
       "left": null,
       "margin": null,
       "max_height": null,
       "max_width": null,
       "min_height": null,
       "min_width": null,
       "object_fit": null,
       "object_position": null,
       "order": null,
       "overflow": null,
       "overflow_x": null,
       "overflow_y": null,
       "padding": null,
       "right": null,
       "top": null,
       "visibility": null,
       "width": null
      }
     },
     "8796d027b9534ee18a152c6366dcd05c": {
      "model_module": "@jupyter-widgets/base",
      "model_module_version": "1.2.0",
      "model_name": "LayoutModel",
      "state": {
       "_model_module": "@jupyter-widgets/base",
       "_model_module_version": "1.2.0",
       "_model_name": "LayoutModel",
       "_view_count": null,
       "_view_module": "@jupyter-widgets/base",
       "_view_module_version": "1.2.0",
       "_view_name": "LayoutView",
       "align_content": null,
       "align_items": null,
       "align_self": null,
       "border": null,
       "bottom": null,
       "display": null,
       "flex": null,
       "flex_flow": null,
       "grid_area": null,
       "grid_auto_columns": null,
       "grid_auto_flow": null,
       "grid_auto_rows": null,
       "grid_column": null,
       "grid_gap": null,
       "grid_row": null,
       "grid_template_areas": null,
       "grid_template_columns": null,
       "grid_template_rows": null,
       "height": null,
       "justify_content": null,
       "justify_items": null,
       "left": null,
       "margin": null,
       "max_height": null,
       "max_width": null,
       "min_height": null,
       "min_width": null,
       "object_fit": null,
       "object_position": null,
       "order": null,
       "overflow": null,
       "overflow_x": null,
       "overflow_y": null,
       "padding": null,
       "right": null,
       "top": null,
       "visibility": null,
       "width": null
      }
     },
     "8c17c37fe1f047eb8478e45d8bc2af77": {
      "model_module": "@jupyter-widgets/controls",
      "model_module_version": "1.5.0",
      "model_name": "HTMLModel",
      "state": {
       "_dom_classes": [],
       "_model_module": "@jupyter-widgets/controls",
       "_model_module_version": "1.5.0",
       "_model_name": "HTMLModel",
       "_view_count": null,
       "_view_module": "@jupyter-widgets/controls",
       "_view_module_version": "1.5.0",
       "_view_name": "HTMLView",
       "description": "",
       "description_tooltip": null,
       "layout": "IPY_MODEL_a9269a903359414793783f94f9bcda6a",
       "placeholder": "​",
       "style": "IPY_MODEL_46a24024a34e4bafb9c8f8e3606c1d26",
       "value": " 91%"
      }
     },
     "8ea530bfa1e64fb0831fa3ff54e83b1f": {
      "model_module": "@jupyter-widgets/base",
      "model_module_version": "1.2.0",
      "model_name": "LayoutModel",
      "state": {
       "_model_module": "@jupyter-widgets/base",
       "_model_module_version": "1.2.0",
       "_model_name": "LayoutModel",
       "_view_count": null,
       "_view_module": "@jupyter-widgets/base",
       "_view_module_version": "1.2.0",
       "_view_name": "LayoutView",
       "align_content": null,
       "align_items": null,
       "align_self": null,
       "border": null,
       "bottom": null,
       "display": null,
       "flex": null,
       "flex_flow": null,
       "grid_area": null,
       "grid_auto_columns": null,
       "grid_auto_flow": null,
       "grid_auto_rows": null,
       "grid_column": null,
       "grid_gap": null,
       "grid_row": null,
       "grid_template_areas": null,
       "grid_template_columns": null,
       "grid_template_rows": null,
       "height": null,
       "justify_content": null,
       "justify_items": null,
       "left": null,
       "margin": null,
       "max_height": null,
       "max_width": null,
       "min_height": null,
       "min_width": null,
       "object_fit": null,
       "object_position": null,
       "order": null,
       "overflow": null,
       "overflow_x": null,
       "overflow_y": null,
       "padding": null,
       "right": null,
       "top": null,
       "visibility": null,
       "width": null
      }
     },
     "971b9dd9b0794f5882879feefcf56796": {
      "model_module": "@jupyter-widgets/base",
      "model_module_version": "1.2.0",
      "model_name": "LayoutModel",
      "state": {
       "_model_module": "@jupyter-widgets/base",
       "_model_module_version": "1.2.0",
       "_model_name": "LayoutModel",
       "_view_count": null,
       "_view_module": "@jupyter-widgets/base",
       "_view_module_version": "1.2.0",
       "_view_name": "LayoutView",
       "align_content": null,
       "align_items": null,
       "align_self": null,
       "border": null,
       "bottom": null,
       "display": null,
       "flex": null,
       "flex_flow": null,
       "grid_area": null,
       "grid_auto_columns": null,
       "grid_auto_flow": null,
       "grid_auto_rows": null,
       "grid_column": null,
       "grid_gap": null,
       "grid_row": null,
       "grid_template_areas": null,
       "grid_template_columns": null,
       "grid_template_rows": null,
       "height": null,
       "justify_content": null,
       "justify_items": null,
       "left": null,
       "margin": null,
       "max_height": null,
       "max_width": null,
       "min_height": null,
       "min_width": null,
       "object_fit": null,
       "object_position": null,
       "order": null,
       "overflow": null,
       "overflow_x": null,
       "overflow_y": null,
       "padding": null,
       "right": null,
       "top": null,
       "visibility": null,
       "width": null
      }
     },
     "98bc0a9968d644c6b8bdb2900773313e": {
      "model_module": "@jupyter-widgets/base",
      "model_module_version": "1.2.0",
      "model_name": "LayoutModel",
      "state": {
       "_model_module": "@jupyter-widgets/base",
       "_model_module_version": "1.2.0",
       "_model_name": "LayoutModel",
       "_view_count": null,
       "_view_module": "@jupyter-widgets/base",
       "_view_module_version": "1.2.0",
       "_view_name": "LayoutView",
       "align_content": null,
       "align_items": null,
       "align_self": null,
       "border": null,
       "bottom": null,
       "display": null,
       "flex": null,
       "flex_flow": null,
       "grid_area": null,
       "grid_auto_columns": null,
       "grid_auto_flow": null,
       "grid_auto_rows": null,
       "grid_column": null,
       "grid_gap": null,
       "grid_row": null,
       "grid_template_areas": null,
       "grid_template_columns": null,
       "grid_template_rows": null,
       "height": null,
       "justify_content": null,
       "justify_items": null,
       "left": null,
       "margin": null,
       "max_height": null,
       "max_width": null,
       "min_height": null,
       "min_width": null,
       "object_fit": null,
       "object_position": null,
       "order": null,
       "overflow": null,
       "overflow_x": null,
       "overflow_y": null,
       "padding": null,
       "right": null,
       "top": null,
       "visibility": null,
       "width": null
      }
     },
     "a875aedd224243aea83b1d449bdd5e50": {
      "model_module": "@jupyter-widgets/controls",
      "model_module_version": "1.5.0",
      "model_name": "DescriptionStyleModel",
      "state": {
       "_model_module": "@jupyter-widgets/controls",
       "_model_module_version": "1.5.0",
       "_model_name": "DescriptionStyleModel",
       "_view_count": null,
       "_view_module": "@jupyter-widgets/base",
       "_view_module_version": "1.2.0",
       "_view_name": "StyleView",
       "description_width": ""
      }
     },
     "a9269a903359414793783f94f9bcda6a": {
      "model_module": "@jupyter-widgets/base",
      "model_module_version": "1.2.0",
      "model_name": "LayoutModel",
      "state": {
       "_model_module": "@jupyter-widgets/base",
       "_model_module_version": "1.2.0",
       "_model_name": "LayoutModel",
       "_view_count": null,
       "_view_module": "@jupyter-widgets/base",
       "_view_module_version": "1.2.0",
       "_view_name": "LayoutView",
       "align_content": null,
       "align_items": null,
       "align_self": null,
       "border": null,
       "bottom": null,
       "display": null,
       "flex": null,
       "flex_flow": null,
       "grid_area": null,
       "grid_auto_columns": null,
       "grid_auto_flow": null,
       "grid_auto_rows": null,
       "grid_column": null,
       "grid_gap": null,
       "grid_row": null,
       "grid_template_areas": null,
       "grid_template_columns": null,
       "grid_template_rows": null,
       "height": null,
       "justify_content": null,
       "justify_items": null,
       "left": null,
       "margin": null,
       "max_height": null,
       "max_width": null,
       "min_height": null,
       "min_width": null,
       "object_fit": null,
       "object_position": null,
       "order": null,
       "overflow": null,
       "overflow_x": null,
       "overflow_y": null,
       "padding": null,
       "right": null,
       "top": null,
       "visibility": null,
       "width": null
      }
     },
     "aba7557b14204614907197d22a313629": {
      "model_module": "@jupyter-widgets/controls",
      "model_module_version": "1.5.0",
      "model_name": "HTMLModel",
      "state": {
       "_dom_classes": [],
       "_model_module": "@jupyter-widgets/controls",
       "_model_module_version": "1.5.0",
       "_model_name": "HTMLModel",
       "_view_count": null,
       "_view_module": "@jupyter-widgets/controls",
       "_view_module_version": "1.5.0",
       "_view_name": "HTMLView",
       "description": "",
       "description_tooltip": null,
       "layout": "IPY_MODEL_c20af477b24841e696e364f6fcc58548",
       "placeholder": "​",
       "style": "IPY_MODEL_d0f31434049a4f0f83d3cbfb3e48abfe",
       "value": " 168/184 [00:00&lt;00:00, 424batch/s, loss=0.318, accuracy=0.844]"
      }
     },
     "b6548d87c606473a86b5dd0c04ef910b": {
      "model_module": "@jupyter-widgets/base",
      "model_module_version": "1.2.0",
      "model_name": "LayoutModel",
      "state": {
       "_model_module": "@jupyter-widgets/base",
       "_model_module_version": "1.2.0",
       "_model_name": "LayoutModel",
       "_view_count": null,
       "_view_module": "@jupyter-widgets/base",
       "_view_module_version": "1.2.0",
       "_view_name": "LayoutView",
       "align_content": null,
       "align_items": null,
       "align_self": null,
       "border": null,
       "bottom": null,
       "display": null,
       "flex": null,
       "flex_flow": null,
       "grid_area": null,
       "grid_auto_columns": null,
       "grid_auto_flow": null,
       "grid_auto_rows": null,
       "grid_column": null,
       "grid_gap": null,
       "grid_row": null,
       "grid_template_areas": null,
       "grid_template_columns": null,
       "grid_template_rows": null,
       "height": null,
       "justify_content": null,
       "justify_items": null,
       "left": null,
       "margin": null,
       "max_height": null,
       "max_width": null,
       "min_height": null,
       "min_width": null,
       "object_fit": null,
       "object_position": null,
       "order": null,
       "overflow": null,
       "overflow_x": null,
       "overflow_y": null,
       "padding": null,
       "right": null,
       "top": null,
       "visibility": null,
       "width": null
      }
     },
     "b9306b65941d4f018399c9013ab5fece": {
      "model_module": "@jupyter-widgets/controls",
      "model_module_version": "1.5.0",
      "model_name": "DescriptionStyleModel",
      "state": {
       "_model_module": "@jupyter-widgets/controls",
       "_model_module_version": "1.5.0",
       "_model_name": "DescriptionStyleModel",
       "_view_count": null,
       "_view_module": "@jupyter-widgets/base",
       "_view_module_version": "1.2.0",
       "_view_name": "StyleView",
       "description_width": ""
      }
     },
     "bdfa8097da874d6aabf900ff2539c5ec": {
      "model_module": "@jupyter-widgets/base",
      "model_module_version": "1.2.0",
      "model_name": "LayoutModel",
      "state": {
       "_model_module": "@jupyter-widgets/base",
       "_model_module_version": "1.2.0",
       "_model_name": "LayoutModel",
       "_view_count": null,
       "_view_module": "@jupyter-widgets/base",
       "_view_module_version": "1.2.0",
       "_view_name": "LayoutView",
       "align_content": null,
       "align_items": null,
       "align_self": null,
       "border": null,
       "bottom": null,
       "display": null,
       "flex": null,
       "flex_flow": null,
       "grid_area": null,
       "grid_auto_columns": null,
       "grid_auto_flow": null,
       "grid_auto_rows": null,
       "grid_column": null,
       "grid_gap": null,
       "grid_row": null,
       "grid_template_areas": null,
       "grid_template_columns": null,
       "grid_template_rows": null,
       "height": null,
       "justify_content": null,
       "justify_items": null,
       "left": null,
       "margin": null,
       "max_height": null,
       "max_width": null,
       "min_height": null,
       "min_width": null,
       "object_fit": null,
       "object_position": null,
       "order": null,
       "overflow": null,
       "overflow_x": null,
       "overflow_y": null,
       "padding": null,
       "right": null,
       "top": null,
       "visibility": null,
       "width": null
      }
     },
     "c181e3ce4f2e4ec8a74cc47ed0e3ea87": {
      "model_module": "@jupyter-widgets/controls",
      "model_module_version": "1.5.0",
      "model_name": "HBoxModel",
      "state": {
       "_dom_classes": [],
       "_model_module": "@jupyter-widgets/controls",
       "_model_module_version": "1.5.0",
       "_model_name": "HBoxModel",
       "_view_count": null,
       "_view_module": "@jupyter-widgets/controls",
       "_view_module_version": "1.5.0",
       "_view_name": "HBoxView",
       "box_style": "",
       "children": [
        "IPY_MODEL_1ab9d4d28b9342a69cc1c4a156fdea10",
        "IPY_MODEL_04b83e3d6a7341d082209e595c0bce9f",
        "IPY_MODEL_6880d19b4ce64647af682a6a6b39d528"
       ],
       "layout": "IPY_MODEL_03bea7bf3fa44338a0b57a53f0fbdee8"
      }
     },
     "c20af477b24841e696e364f6fcc58548": {
      "model_module": "@jupyter-widgets/base",
      "model_module_version": "1.2.0",
      "model_name": "LayoutModel",
      "state": {
       "_model_module": "@jupyter-widgets/base",
       "_model_module_version": "1.2.0",
       "_model_name": "LayoutModel",
       "_view_count": null,
       "_view_module": "@jupyter-widgets/base",
       "_view_module_version": "1.2.0",
       "_view_name": "LayoutView",
       "align_content": null,
       "align_items": null,
       "align_self": null,
       "border": null,
       "bottom": null,
       "display": null,
       "flex": null,
       "flex_flow": null,
       "grid_area": null,
       "grid_auto_columns": null,
       "grid_auto_flow": null,
       "grid_auto_rows": null,
       "grid_column": null,
       "grid_gap": null,
       "grid_row": null,
       "grid_template_areas": null,
       "grid_template_columns": null,
       "grid_template_rows": null,
       "height": null,
       "justify_content": null,
       "justify_items": null,
       "left": null,
       "margin": null,
       "max_height": null,
       "max_width": null,
       "min_height": null,
       "min_width": null,
       "object_fit": null,
       "object_position": null,
       "order": null,
       "overflow": null,
       "overflow_x": null,
       "overflow_y": null,
       "padding": null,
       "right": null,
       "top": null,
       "visibility": null,
       "width": null
      }
     },
     "cdfcd0add9264f94b2b8040c1a85fdb2": {
      "model_module": "@jupyter-widgets/controls",
      "model_module_version": "1.5.0",
      "model_name": "ProgressStyleModel",
      "state": {
       "_model_module": "@jupyter-widgets/controls",
       "_model_module_version": "1.5.0",
       "_model_name": "ProgressStyleModel",
       "_view_count": null,
       "_view_module": "@jupyter-widgets/base",
       "_view_module_version": "1.2.0",
       "_view_name": "StyleView",
       "bar_color": null,
       "description_width": ""
      }
     },
     "cecaa70857a24ad19b8e57a075ef2274": {
      "model_module": "@jupyter-widgets/controls",
      "model_module_version": "1.5.0",
      "model_name": "HTMLModel",
      "state": {
       "_dom_classes": [],
       "_model_module": "@jupyter-widgets/controls",
       "_model_module_version": "1.5.0",
       "_model_name": "HTMLModel",
       "_view_count": null,
       "_view_module": "@jupyter-widgets/controls",
       "_view_module_version": "1.5.0",
       "_view_name": "HTMLView",
       "description": "",
       "description_tooltip": null,
       "layout": "IPY_MODEL_7887a5d42da94c82a93a2afc3990813a",
       "placeholder": "​",
       "style": "IPY_MODEL_ee1a59dc349e49c2b46d6010f0e27d4e",
       "value": "100%"
      }
     },
     "d0f31434049a4f0f83d3cbfb3e48abfe": {
      "model_module": "@jupyter-widgets/controls",
      "model_module_version": "1.5.0",
      "model_name": "DescriptionStyleModel",
      "state": {
       "_model_module": "@jupyter-widgets/controls",
       "_model_module_version": "1.5.0",
       "_model_name": "DescriptionStyleModel",
       "_view_count": null,
       "_view_module": "@jupyter-widgets/base",
       "_view_module_version": "1.2.0",
       "_view_name": "StyleView",
       "description_width": ""
      }
     },
     "d57df9362fa045f184ca21dffa702434": {
      "model_module": "@jupyter-widgets/controls",
      "model_module_version": "1.5.0",
      "model_name": "HBoxModel",
      "state": {
       "_dom_classes": [],
       "_model_module": "@jupyter-widgets/controls",
       "_model_module_version": "1.5.0",
       "_model_name": "HBoxModel",
       "_view_count": null,
       "_view_module": "@jupyter-widgets/controls",
       "_view_module_version": "1.5.0",
       "_view_name": "HBoxView",
       "box_style": "",
       "children": [
        "IPY_MODEL_cecaa70857a24ad19b8e57a075ef2274",
        "IPY_MODEL_e31ee7da95044977a41da43074bffb6e",
        "IPY_MODEL_85581281c7e24a82a73b64a8cadcc480"
       ],
       "layout": "IPY_MODEL_2514eec3e64a4730aaaace378089ac79"
      }
     },
     "e31ee7da95044977a41da43074bffb6e": {
      "model_module": "@jupyter-widgets/controls",
      "model_module_version": "1.5.0",
      "model_name": "FloatProgressModel",
      "state": {
       "_dom_classes": [],
       "_model_module": "@jupyter-widgets/controls",
       "_model_module_version": "1.5.0",
       "_model_name": "FloatProgressModel",
       "_view_count": null,
       "_view_module": "@jupyter-widgets/controls",
       "_view_module_version": "1.5.0",
       "_view_name": "ProgressView",
       "bar_style": "success",
       "description": "",
       "description_tooltip": null,
       "layout": "IPY_MODEL_b6548d87c606473a86b5dd0c04ef910b",
       "max": 200.0,
       "min": 0.0,
       "orientation": "horizontal",
       "style": "IPY_MODEL_15356ac863404858ae747e13f79dd441",
       "value": 200.0
      }
     },
     "e426b3c394534d4f8e03d1a66e683bf3": {
      "model_module": "@jupyter-widgets/base",
      "model_module_version": "1.2.0",
      "model_name": "LayoutModel",
      "state": {
       "_model_module": "@jupyter-widgets/base",
       "_model_module_version": "1.2.0",
       "_model_name": "LayoutModel",
       "_view_count": null,
       "_view_module": "@jupyter-widgets/base",
       "_view_module_version": "1.2.0",
       "_view_name": "LayoutView",
       "align_content": null,
       "align_items": null,
       "align_self": null,
       "border": null,
       "bottom": null,
       "display": null,
       "flex": null,
       "flex_flow": null,
       "grid_area": null,
       "grid_auto_columns": null,
       "grid_auto_flow": null,
       "grid_auto_rows": null,
       "grid_column": null,
       "grid_gap": null,
       "grid_row": null,
       "grid_template_areas": null,
       "grid_template_columns": null,
       "grid_template_rows": null,
       "height": null,
       "justify_content": null,
       "justify_items": null,
       "left": null,
       "margin": null,
       "max_height": null,
       "max_width": null,
       "min_height": null,
       "min_width": null,
       "object_fit": null,
       "object_position": null,
       "order": null,
       "overflow": null,
       "overflow_x": null,
       "overflow_y": null,
       "padding": null,
       "right": null,
       "top": null,
       "visibility": null,
       "width": null
      }
     },
     "e5fd11ddfa0849ecbb0508b218284d4d": {
      "model_module": "@jupyter-widgets/base",
      "model_module_version": "1.2.0",
      "model_name": "LayoutModel",
      "state": {
       "_model_module": "@jupyter-widgets/base",
       "_model_module_version": "1.2.0",
       "_model_name": "LayoutModel",
       "_view_count": null,
       "_view_module": "@jupyter-widgets/base",
       "_view_module_version": "1.2.0",
       "_view_name": "LayoutView",
       "align_content": null,
       "align_items": null,
       "align_self": null,
       "border": null,
       "bottom": null,
       "display": null,
       "flex": null,
       "flex_flow": null,
       "grid_area": null,
       "grid_auto_columns": null,
       "grid_auto_flow": null,
       "grid_auto_rows": null,
       "grid_column": null,
       "grid_gap": null,
       "grid_row": null,
       "grid_template_areas": null,
       "grid_template_columns": null,
       "grid_template_rows": null,
       "height": null,
       "justify_content": null,
       "justify_items": null,
       "left": null,
       "margin": null,
       "max_height": null,
       "max_width": null,
       "min_height": null,
       "min_width": null,
       "object_fit": null,
       "object_position": null,
       "order": null,
       "overflow": null,
       "overflow_x": null,
       "overflow_y": null,
       "padding": null,
       "right": null,
       "top": null,
       "visibility": null,
       "width": null
      }
     },
     "eae6b1f6ab2b42f28aa792ac33bb998e": {
      "model_module": "@jupyter-widgets/base",
      "model_module_version": "1.2.0",
      "model_name": "LayoutModel",
      "state": {
       "_model_module": "@jupyter-widgets/base",
       "_model_module_version": "1.2.0",
       "_model_name": "LayoutModel",
       "_view_count": null,
       "_view_module": "@jupyter-widgets/base",
       "_view_module_version": "1.2.0",
       "_view_name": "LayoutView",
       "align_content": null,
       "align_items": null,
       "align_self": null,
       "border": null,
       "bottom": null,
       "display": null,
       "flex": null,
       "flex_flow": null,
       "grid_area": null,
       "grid_auto_columns": null,
       "grid_auto_flow": null,
       "grid_auto_rows": null,
       "grid_column": null,
       "grid_gap": null,
       "grid_row": null,
       "grid_template_areas": null,
       "grid_template_columns": null,
       "grid_template_rows": null,
       "height": null,
       "justify_content": null,
       "justify_items": null,
       "left": null,
       "margin": null,
       "max_height": null,
       "max_width": null,
       "min_height": null,
       "min_width": null,
       "object_fit": null,
       "object_position": null,
       "order": null,
       "overflow": null,
       "overflow_x": null,
       "overflow_y": null,
       "padding": null,
       "right": null,
       "top": null,
       "visibility": null,
       "width": null
      }
     },
     "ee1a59dc349e49c2b46d6010f0e27d4e": {
      "model_module": "@jupyter-widgets/controls",
      "model_module_version": "1.5.0",
      "model_name": "DescriptionStyleModel",
      "state": {
       "_model_module": "@jupyter-widgets/controls",
       "_model_module_version": "1.5.0",
       "_model_name": "DescriptionStyleModel",
       "_view_count": null,
       "_view_module": "@jupyter-widgets/base",
       "_view_module_version": "1.2.0",
       "_view_name": "StyleView",
       "description_width": ""
      }
     },
     "f2947918f3bc4351bc4cc67402f39612": {
      "model_module": "@jupyter-widgets/controls",
      "model_module_version": "1.5.0",
      "model_name": "HTMLModel",
      "state": {
       "_dom_classes": [],
       "_model_module": "@jupyter-widgets/controls",
       "_model_module_version": "1.5.0",
       "_model_name": "HTMLModel",
       "_view_count": null,
       "_view_module": "@jupyter-widgets/controls",
       "_view_module_version": "1.5.0",
       "_view_name": "HTMLView",
       "description": "",
       "description_tooltip": null,
       "layout": "IPY_MODEL_27f2176267944a56b780e7e97fe07c13",
       "placeholder": "​",
       "style": "IPY_MODEL_2a7744d3e30f4975bc0fe550c7f56e71",
       "value": " 54%"
      }
     },
     "f572bc90f8da4fc09018060628d30217": {
      "model_module": "@jupyter-widgets/controls",
      "model_module_version": "1.5.0",
      "model_name": "DescriptionStyleModel",
      "state": {
       "_model_module": "@jupyter-widgets/controls",
       "_model_module_version": "1.5.0",
       "_model_name": "DescriptionStyleModel",
       "_view_count": null,
       "_view_module": "@jupyter-widgets/base",
       "_view_module_version": "1.2.0",
       "_view_name": "StyleView",
       "description_width": ""
      }
     },
     "f5c3411d6c634d1d92294464eb3a3435": {
      "model_module": "@jupyter-widgets/base",
      "model_module_version": "1.2.0",
      "model_name": "LayoutModel",
      "state": {
       "_model_module": "@jupyter-widgets/base",
       "_model_module_version": "1.2.0",
       "_model_name": "LayoutModel",
       "_view_count": null,
       "_view_module": "@jupyter-widgets/base",
       "_view_module_version": "1.2.0",
       "_view_name": "LayoutView",
       "align_content": null,
       "align_items": null,
       "align_self": null,
       "border": null,
       "bottom": null,
       "display": null,
       "flex": null,
       "flex_flow": null,
       "grid_area": null,
       "grid_auto_columns": null,
       "grid_auto_flow": null,
       "grid_auto_rows": null,
       "grid_column": null,
       "grid_gap": null,
       "grid_row": null,
       "grid_template_areas": null,
       "grid_template_columns": null,
       "grid_template_rows": null,
       "height": null,
       "justify_content": null,
       "justify_items": null,
       "left": null,
       "margin": null,
       "max_height": null,
       "max_width": null,
       "min_height": null,
       "min_width": null,
       "object_fit": null,
       "object_position": null,
       "order": null,
       "overflow": null,
       "overflow_x": null,
       "overflow_y": null,
       "padding": null,
       "right": null,
       "top": null,
       "visibility": null,
       "width": null
      }
     },
     "f9ae9c95bbc74b5e8aa5a662657d8ec9": {
      "model_module": "@jupyter-widgets/base",
      "model_module_version": "1.2.0",
      "model_name": "LayoutModel",
      "state": {
       "_model_module": "@jupyter-widgets/base",
       "_model_module_version": "1.2.0",
       "_model_name": "LayoutModel",
       "_view_count": null,
       "_view_module": "@jupyter-widgets/base",
       "_view_module_version": "1.2.0",
       "_view_name": "LayoutView",
       "align_content": null,
       "align_items": null,
       "align_self": null,
       "border": null,
       "bottom": null,
       "display": null,
       "flex": null,
       "flex_flow": null,
       "grid_area": null,
       "grid_auto_columns": null,
       "grid_auto_flow": null,
       "grid_auto_rows": null,
       "grid_column": null,
       "grid_gap": null,
       "grid_row": null,
       "grid_template_areas": null,
       "grid_template_columns": null,
       "grid_template_rows": null,
       "height": null,
       "justify_content": null,
       "justify_items": null,
       "left": null,
       "margin": null,
       "max_height": null,
       "max_width": null,
       "min_height": null,
       "min_width": null,
       "object_fit": null,
       "object_position": null,
       "order": null,
       "overflow": null,
       "overflow_x": null,
       "overflow_y": null,
       "padding": null,
       "right": null,
       "top": null,
       "visibility": null,
       "width": null
      }
     },
     "f9fc7bff0c9d4ae989a10f71413981ff": {
      "model_module": "@jupyter-widgets/controls",
      "model_module_version": "1.5.0",
      "model_name": "HTMLModel",
      "state": {
       "_dom_classes": [],
       "_model_module": "@jupyter-widgets/controls",
       "_model_module_version": "1.5.0",
       "_model_name": "HTMLModel",
       "_view_count": null,
       "_view_module": "@jupyter-widgets/controls",
       "_view_module_version": "1.5.0",
       "_view_name": "HTMLView",
       "description": "",
       "description_tooltip": null,
       "layout": "IPY_MODEL_8696da870c9844b5ab7ebb750dff1d1d",
       "placeholder": "​",
       "style": "IPY_MODEL_f572bc90f8da4fc09018060628d30217",
       "value": "100%"
      }
     },
     "fce8c8f0a7da44249428e616d8a5bd0f": {
      "model_module": "@jupyter-widgets/controls",
      "model_module_version": "1.5.0",
      "model_name": "HBoxModel",
      "state": {
       "_dom_classes": [],
       "_model_module": "@jupyter-widgets/controls",
       "_model_module_version": "1.5.0",
       "_model_name": "HBoxModel",
       "_view_count": null,
       "_view_module": "@jupyter-widgets/controls",
       "_view_module_version": "1.5.0",
       "_view_name": "HBoxView",
       "box_style": "",
       "children": [
        "IPY_MODEL_8c17c37fe1f047eb8478e45d8bc2af77",
        "IPY_MODEL_5c0abc3567054ec88d6892b441bf101e",
        "IPY_MODEL_aba7557b14204614907197d22a313629"
       ],
       "layout": "IPY_MODEL_1fba0fe7d4aa49dbaf33ef571285217b"
      }
     }
    },
    "version_major": 2,
    "version_minor": 0
   }
  }
 },
 "nbformat": 4,
 "nbformat_minor": 5
}
