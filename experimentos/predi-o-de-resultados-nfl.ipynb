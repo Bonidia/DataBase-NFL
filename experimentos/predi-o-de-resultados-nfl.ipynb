{
 "cells": [
  {
   "cell_type": "code",
   "execution_count": 1,
   "id": "fbded1b1",
   "metadata": {
    "execution": {
     "iopub.execute_input": "2022-08-22T17:32:49.607231Z",
     "iopub.status.busy": "2022-08-22T17:32:49.606766Z",
     "iopub.status.idle": "2022-08-22T17:32:49.618092Z",
     "shell.execute_reply": "2022-08-22T17:32:49.617214Z"
    },
    "papermill": {
     "duration": 0.027224,
     "end_time": "2022-08-22T17:32:49.620589",
     "exception": false,
     "start_time": "2022-08-22T17:32:49.593365",
     "status": "completed"
    },
    "tags": []
   },
   "outputs": [],
   "source": [
    "import os\n",
    "import pandas as pd\n",
    "import numpy as np"
   ]
  },
  {
   "cell_type": "markdown",
   "id": "eae987ae",
   "metadata": {
    "papermill": {
     "duration": 0.009978,
     "end_time": "2022-08-22T17:32:49.641292",
     "exception": false,
     "start_time": "2022-08-22T17:32:49.631314",
     "status": "completed"
    },
    "tags": []
   },
   "source": [
    "# Pré-processamento"
   ]
  },
  {
   "cell_type": "code",
   "execution_count": 2,
   "id": "5bdc49a9",
   "metadata": {
    "execution": {
     "iopub.execute_input": "2022-08-22T17:32:49.664986Z",
     "iopub.status.busy": "2022-08-22T17:32:49.664288Z",
     "iopub.status.idle": "2022-08-22T17:32:49.671196Z",
     "shell.execute_reply": "2022-08-22T17:32:49.670402Z"
    },
    "papermill": {
     "duration": 0.021736,
     "end_time": "2022-08-22T17:32:49.673281",
     "exception": false,
     "start_time": "2022-08-22T17:32:49.651545",
     "status": "completed"
    },
    "tags": []
   },
   "outputs": [],
   "source": [
    "def fix_col_names(_df: pd.DataFrame, silent: bool = True) -> pd.DataFrame:\n",
    "    ''' Strips and lowercases DataFrame columns '''\n",
    "    df = _df.copy()\n",
    "    og_cols = df.columns.to_list()\n",
    "\n",
    "    df.columns = df.columns \\\n",
    "        .str.lower() \\\n",
    "        .str.strip()\n",
    "    \n",
    "    max_col_name_size = len(max(og_cols, key=lambda x: len(x))) + 5\n",
    "    if not silent:\n",
    "        for og, new in zip(og_cols, df.columns.to_list()):\n",
    "            print(f'{og: <{max_col_name_size}} -> {new}')\n",
    "\n",
    "    return df"
   ]
  },
  {
   "cell_type": "code",
   "execution_count": 3,
   "id": "4940d1d5",
   "metadata": {
    "execution": {
     "iopub.execute_input": "2022-08-22T17:32:49.695307Z",
     "iopub.status.busy": "2022-08-22T17:32:49.694658Z",
     "iopub.status.idle": "2022-08-22T17:32:50.805348Z",
     "shell.execute_reply": "2022-08-22T17:32:50.804160Z"
    },
    "papermill": {
     "duration": 1.124753,
     "end_time": "2022-08-22T17:32:50.808163",
     "exception": false,
     "start_time": "2022-08-22T17:32:49.683410",
     "status": "completed"
    },
    "tags": []
   },
   "outputs": [],
   "source": [
    "from sklearn.model_selection import train_test_split"
   ]
  },
  {
   "cell_type": "code",
   "execution_count": 4,
   "id": "3c410f60",
   "metadata": {
    "execution": {
     "iopub.execute_input": "2022-08-22T17:32:50.831937Z",
     "iopub.status.busy": "2022-08-22T17:32:50.831213Z",
     "iopub.status.idle": "2022-08-22T17:32:50.850927Z",
     "shell.execute_reply": "2022-08-22T17:32:50.850018Z"
    },
    "papermill": {
     "duration": 0.033744,
     "end_time": "2022-08-22T17:32:50.853249",
     "exception": false,
     "start_time": "2022-08-22T17:32:50.819505",
     "status": "completed"
    },
    "tags": []
   },
   "outputs": [],
   "source": [
    "def preprocess(\n",
    "    train_set: pd.DataFrame, \n",
    "    submission_set: pd.DataFrame,\n",
    "    target: str,\n",
    "    encode_target: bool = False,\n",
    "    corr_threshold: float = None,\n",
    "    random_state: int = 22\n",
    ") -> (pd.DataFrame, ...):\n",
    "    \n",
    "    # col names\n",
    "    df_train = fix_col_names(train_set)\n",
    "    df_test = fix_col_names(submission_set)\n",
    "\n",
    "    # bool to numeric\n",
    "    non_numeric_or_object = df_train.select_dtypes(exclude=[np.number, object]).columns\n",
    "    df_train[non_numeric_or_object] = df_train[non_numeric_or_object].astype(int)\n",
    "\n",
    "    non_numeric_or_object = df_test.select_dtypes(exclude=[np.number, object]).columns\n",
    "    df_test[non_numeric_or_object] = df_test[non_numeric_or_object].astype(int)\n",
    "    \n",
    "    # cols with values that contain '%' or 'Own' to numeric\n",
    "    for _df in [df_train, df_test]:\n",
    "        for col in _df.select_dtypes(object).columns:\n",
    "            if any(_df[col].str.contains('Own', na=False)):\n",
    "                _df[col] = _df[col].str.extract('[Own]?(\\d+.\\d*)').astype(float)\n",
    "                continue\n",
    "            if any(_df[col].str.contains('%', na=False)):\n",
    "                _df[col] = _df[col].str.extract('(\\d+.\\d*)[%]').astype(float)\n",
    "                continue\n",
    "    \n",
    "    # remove columns with values that contain ':' or '-'\n",
    "    for _df in [df_train, df_test]:\n",
    "        for col in _df.select_dtypes(object).columns:\n",
    "            if any(_df[col].str.contains(':', na=False)):\n",
    "                _df.drop(col, axis=1, inplace=True)\n",
    "                continue\n",
    "            if any(_df[col].str.contains('-', na=False)):\n",
    "                _df.drop(col, axis=1, inplace=True)\n",
    "                continue\n",
    "    \n",
    "    # removing additional columns\n",
    "    cols_to_drop = ['gs_game_day_of_week', 'gs_game_date', 'gs_game_location', 'gs_week_number']\n",
    "    for _df in [df_train, df_test]:\n",
    "        _df.drop(cols_to_drop, axis=1, inplace=True)\n",
    "\n",
    "    if encode_target:\n",
    "        target_encoder = {'L': 0, 'W': 1}\n",
    "        df_train[target] = df_train[target].map(target_encoder)\n",
    "        df_test[target] = df_test[target].map(target_encoder)\n",
    "        \n",
    "    # col names\n",
    "    cat_cols = df_train.select_dtypes(object).columns.tolist()\n",
    "    num_cols = df_train.select_dtypes(np.number).columns.tolist()\n",
    "    \n",
    "    # correlation threshold\n",
    "    if bool(corr_threshold) & encode_target:\n",
    "        _corr = df_train[num_cols].corrwith(df_train[target])\n",
    "        correlated_cols = _corr[(_corr >= corr_threshold) & (_corr != 1)].index.tolist()\n",
    "    else:\n",
    "        correlated_cols = num_cols\n",
    "   \n",
    "    # x & y\n",
    "    cols_to_use = cat_cols + correlated_cols\n",
    "    if 'gs_id' not in cols_to_use:\n",
    "        cols_to_use.append('gs_id')\n",
    "    \n",
    "    if target in cols_to_use:\n",
    "        cols_to_use.remove(target)\n",
    "\n",
    "    x_final = df_train.copy().drop(target, axis=1)\n",
    "    x_train = x_final[cols_to_use]\n",
    "    y_train = df_train[target]\n",
    "    \n",
    "    x_test = df_test[cols_to_use]\n",
    "    y_test = df_test[target]\n",
    "\n",
    "    return x_train, x_test, y_train, y_test"
   ]
  },
  {
   "cell_type": "markdown",
   "id": "c38297f8",
   "metadata": {
    "papermill": {
     "duration": 0.010089,
     "end_time": "2022-08-22T17:32:50.873507",
     "exception": false,
     "start_time": "2022-08-22T17:32:50.863418",
     "status": "completed"
    },
    "tags": []
   },
   "source": [
    "# Calculo das métricas da predição"
   ]
  },
  {
   "cell_type": "code",
   "execution_count": 5,
   "id": "243355ed",
   "metadata": {
    "execution": {
     "iopub.execute_input": "2022-08-22T17:32:50.897074Z",
     "iopub.status.busy": "2022-08-22T17:32:50.895750Z",
     "iopub.status.idle": "2022-08-22T17:32:50.906176Z",
     "shell.execute_reply": "2022-08-22T17:32:50.905185Z"
    },
    "papermill": {
     "duration": 0.024764,
     "end_time": "2022-08-22T17:32:50.908614",
     "exception": false,
     "start_time": "2022-08-22T17:32:50.883850",
     "status": "completed"
    },
    "tags": []
   },
   "outputs": [],
   "source": [
    "from pprint import pprint\n",
    "from sklearn.metrics import ConfusionMatrixDisplay, accuracy_score, balanced_accuracy_score, precision_score, recall_score\n",
    "from datetime import datetime\n",
    "\n",
    "all_scores = {}\n",
    "\n",
    "def show_scores(scores: dict = all_scores):\n",
    "    display(pd.DataFrame(all_scores.values()))\n",
    "\n",
    "def calculate_scores(\n",
    "    model_name: str, \n",
    "    y_test: pd.Series, pred: np.ndarray, \n",
    "    pos_label: str or int = 1,\n",
    "    score_list: list = all_scores,\n",
    "    display_confusion_matrix: bool = True,\n",
    "    display_scores: bool = True\n",
    "    ):\n",
    "    cf_mx = ConfusionMatrixDisplay.from_predictions(y_test, pred)\n",
    "    acc = accuracy_score(y_test, pred)\n",
    "    bacc = balanced_accuracy_score(y_test, pred)\n",
    "    precision = precision_score(y_test, pred, pos_label=pos_label)\n",
    "    recall = recall_score(y_test, pred, pos_label=pos_label)\n",
    "    \n",
    "    model_scores = {\n",
    "        'model_name': model_name,\n",
    "        'acc': acc,\n",
    "        'bacc': bacc,\n",
    "        'precision': precision,\n",
    "        'recall': recall\n",
    "    }\n",
    "    score_list[model_name] = model_scores\n",
    "    \n",
    "    if display_confusion_matrix:\n",
    "        display(cf_mx)   \n",
    "    if show_scores:\n",
    "        show_scores(score_list)\n",
    "    return model_scores"
   ]
  },
  {
   "cell_type": "markdown",
   "id": "2ce4cfdb",
   "metadata": {
    "papermill": {
     "duration": 0.010249,
     "end_time": "2022-08-22T17:32:50.930690",
     "exception": false,
     "start_time": "2022-08-22T17:32:50.920441",
     "status": "completed"
    },
    "tags": []
   },
   "source": [
    "# Carregamento & processamento dos dados"
   ]
  },
  {
   "cell_type": "code",
   "execution_count": 6,
   "id": "46820a85",
   "metadata": {
    "execution": {
     "iopub.execute_input": "2022-08-22T17:32:50.954225Z",
     "iopub.status.busy": "2022-08-22T17:32:50.953415Z",
     "iopub.status.idle": "2022-08-22T17:32:50.968417Z",
     "shell.execute_reply": "2022-08-22T17:32:50.967274Z"
    },
    "papermill": {
     "duration": 0.029847,
     "end_time": "2022-08-22T17:32:50.971340",
     "exception": false,
     "start_time": "2022-08-22T17:32:50.941493",
     "status": "completed"
    },
    "tags": []
   },
   "outputs": [
    {
     "name": "stdout",
     "output_type": "stream",
     "text": [
      "/kaggle/input/nfl-playoffs-19702021/df_kaggle_test.csv\n",
      "/kaggle/input/nfl-playoffs-19702021/playoffs.csv\n",
      "/kaggle/input/nfl-playoffs-19702021/df_kaggle_test_labels.csv\n",
      "/kaggle/input/nfl-playoffs-19702021/df_kaggle_train.csv\n"
     ]
    }
   ],
   "source": [
    "for dirname, _, files in os.walk('/kaggle/input'):\n",
    "    for file in files:\n",
    "        print(os.path.join(dirname, file))"
   ]
  },
  {
   "cell_type": "code",
   "execution_count": 7,
   "id": "9e0d88e3",
   "metadata": {
    "execution": {
     "iopub.execute_input": "2022-08-22T17:32:50.994533Z",
     "iopub.status.busy": "2022-08-22T17:32:50.994112Z",
     "iopub.status.idle": "2022-08-22T17:32:51.085979Z",
     "shell.execute_reply": "2022-08-22T17:32:51.084814Z"
    },
    "papermill": {
     "duration": 0.106192,
     "end_time": "2022-08-22T17:32:51.088634",
     "exception": false,
     "start_time": "2022-08-22T17:32:50.982442",
     "status": "completed"
    },
    "tags": []
   },
   "outputs": [],
   "source": [
    "df_train_raw = pd.read_csv('/kaggle/input/nfl-playoffs-19702021/playoffs.csv', sep=';')\n",
    "\n",
    "df_train_raw.drop('Unnamed: 0', axis=1, inplace=True)\n",
    "df_train_raw.rename({'gs_game_outcome': 'winorlose'}, axis=1, inplace=True)\n",
    "\n",
    "df_train_raw = df_train_raw[df_train_raw['gs_game_location'].isin(['N', 'home'])]\n",
    "\n",
    "# df_train_raw = pd.read_csv('/kaggle/input/nfl-playoffs-19702021/df_kaggle_train.csv', sep=';')\n",
    "# df_test_raw = pd.read_csv('/kaggle/input/nfl-playoffs-19702021/df_kaggle_test.csv', sep=';')\n",
    "# df_test_labels = pd.read_csv('/kaggle/input/nfl-playoffs-19702021/df_kaggle_test_labels.csv', sep=';')"
   ]
  },
  {
   "cell_type": "code",
   "execution_count": 8,
   "id": "b2dc9929",
   "metadata": {
    "execution": {
     "iopub.execute_input": "2022-08-22T17:32:51.111485Z",
     "iopub.status.busy": "2022-08-22T17:32:51.110625Z",
     "iopub.status.idle": "2022-08-22T17:32:51.119146Z",
     "shell.execute_reply": "2022-08-22T17:32:51.118069Z"
    },
    "papermill": {
     "duration": 0.022739,
     "end_time": "2022-08-22T17:32:51.121751",
     "exception": false,
     "start_time": "2022-08-22T17:32:51.099012",
     "status": "completed"
    },
    "tags": []
   },
   "outputs": [],
   "source": [
    "df_test_raw = df_train_raw[df_train_raw['gs_year'] > 2017]\n",
    "df_train_raw = df_train_raw[df_train_raw['gs_year'] <= 2017]\n",
    "\n",
    "# df_test_raw['winorlose'] = df_test_labels['winorlose']"
   ]
  },
  {
   "cell_type": "code",
   "execution_count": 9,
   "id": "63773190",
   "metadata": {
    "execution": {
     "iopub.execute_input": "2022-08-22T17:32:51.144378Z",
     "iopub.status.busy": "2022-08-22T17:32:51.143610Z",
     "iopub.status.idle": "2022-08-22T17:32:51.284421Z",
     "shell.execute_reply": "2022-08-22T17:32:51.283268Z"
    },
    "papermill": {
     "duration": 0.155212,
     "end_time": "2022-08-22T17:32:51.287281",
     "exception": false,
     "start_time": "2022-08-22T17:32:51.132069",
     "status": "completed"
    },
    "tags": []
   },
   "outputs": [],
   "source": [
    "x_train, x_test, y_train, y_test = preprocess(\n",
    "    train_set=df_train_raw, submission_set=df_test_raw, target='winorlose',\n",
    "    encode_target=True\n",
    ")"
   ]
  },
  {
   "cell_type": "code",
   "execution_count": 10,
   "id": "28b582c9",
   "metadata": {
    "execution": {
     "iopub.execute_input": "2022-08-22T17:32:51.310061Z",
     "iopub.status.busy": "2022-08-22T17:32:51.308980Z",
     "iopub.status.idle": "2022-08-22T17:32:51.316557Z",
     "shell.execute_reply": "2022-08-22T17:32:51.315310Z"
    },
    "papermill": {
     "duration": 0.022459,
     "end_time": "2022-08-22T17:32:51.319914",
     "exception": false,
     "start_time": "2022-08-22T17:32:51.297455",
     "status": "completed"
    },
    "tags": []
   },
   "outputs": [
    {
     "name": "stdout",
     "output_type": "stream",
     "text": [
      "Treino\n",
      "\tx: (526, 278)\n",
      "\ty: (526,)\n",
      "Teste\n",
      "\tx: (52, 278)\n",
      "\ty: (52,)\n",
      "Target no treino: False\n",
      "Target no teste: False\n"
     ]
    }
   ],
   "source": [
    "print(f'Treino\\n\\tx: {x_train.shape}\\n\\ty: {y_train.shape}')\n",
    "print(f'Teste\\n\\tx: {x_test.shape}\\n\\ty: {y_test.shape}')\n",
    "print(f'Target no treino: {\"winorlose\" in x_train.columns}')\n",
    "print(f'Target no teste: {\"winorlose\" in x_test.columns}')"
   ]
  },
  {
   "cell_type": "markdown",
   "id": "a8f24e57",
   "metadata": {
    "papermill": {
     "duration": 0.009904,
     "end_time": "2022-08-22T17:32:51.340716",
     "exception": false,
     "start_time": "2022-08-22T17:32:51.330812",
     "status": "completed"
    },
    "tags": []
   },
   "source": [
    "# Pipeline para limpeza e *scaling*"
   ]
  },
  {
   "cell_type": "code",
   "execution_count": 11,
   "id": "9aae594a",
   "metadata": {
    "execution": {
     "iopub.execute_input": "2022-08-22T17:32:51.363829Z",
     "iopub.status.busy": "2022-08-22T17:32:51.362779Z",
     "iopub.status.idle": "2022-08-22T17:32:51.490295Z",
     "shell.execute_reply": "2022-08-22T17:32:51.489179Z"
    },
    "papermill": {
     "duration": 0.142072,
     "end_time": "2022-08-22T17:32:51.493144",
     "exception": false,
     "start_time": "2022-08-22T17:32:51.351072",
     "status": "completed"
    },
    "tags": []
   },
   "outputs": [],
   "source": [
    "from sklearn.pipeline import make_pipeline, FeatureUnion\n",
    "from sklearn.preprocessing import RobustScaler, OrdinalEncoder\n",
    "from sklearn.compose import make_column_transformer, make_column_selector\n",
    "from sklearn.impute import SimpleImputer"
   ]
  },
  {
   "cell_type": "code",
   "execution_count": 12,
   "id": "8ba01f73",
   "metadata": {
    "execution": {
     "iopub.execute_input": "2022-08-22T17:32:51.515546Z",
     "iopub.status.busy": "2022-08-22T17:32:51.515167Z",
     "iopub.status.idle": "2022-08-22T17:32:51.520924Z",
     "shell.execute_reply": "2022-08-22T17:32:51.519893Z"
    },
    "papermill": {
     "duration": 0.019431,
     "end_time": "2022-08-22T17:32:51.523051",
     "exception": false,
     "start_time": "2022-08-22T17:32:51.503620",
     "status": "completed"
    },
    "tags": []
   },
   "outputs": [],
   "source": [
    "preprocess_pipeline = make_column_transformer(\n",
    "    (SimpleImputer(strategy='mean', fill_value='constant'), make_column_selector(dtype_include=np.number)),\n",
    "    (OrdinalEncoder(handle_unknown='use_encoded_value', unknown_value=-1), make_column_selector(dtype_include=object))\n",
    ")"
   ]
  },
  {
   "cell_type": "code",
   "execution_count": 13,
   "id": "cad1cce9",
   "metadata": {
    "execution": {
     "iopub.execute_input": "2022-08-22T17:32:51.545695Z",
     "iopub.status.busy": "2022-08-22T17:32:51.545039Z",
     "iopub.status.idle": "2022-08-22T17:32:51.552626Z",
     "shell.execute_reply": "2022-08-22T17:32:51.551775Z"
    },
    "papermill": {
     "duration": 0.021474,
     "end_time": "2022-08-22T17:32:51.554793",
     "exception": false,
     "start_time": "2022-08-22T17:32:51.533319",
     "status": "completed"
    },
    "tags": []
   },
   "outputs": [],
   "source": [
    "def generate_predictions(\n",
    "    clf, clf_name: str, \n",
    "    x_train: pd.DataFrame = x_train, y_train: pd.DataFrame = y_train,\n",
    "    x_test: pd.DataFrame = x_test, y_test: pd.DataFrame = y_test,\n",
    "    fit_params: dict = {}\n",
    "):\n",
    "    model = make_pipeline(\n",
    "        preprocess_pipeline,\n",
    "        RobustScaler(),\n",
    "        clf\n",
    "    )\n",
    "    model.fit(x_train, y_train, **fit_params)\n",
    "    \n",
    "    pred = model.predict(x_test)\n",
    "    pred = [0 if p <= 0.5 else 1 for p in pred]\n",
    "\n",
    "    scores = calculate_scores(clf_name, y_test, pred)\n",
    "    \n",
    "    return scores"
   ]
  },
  {
   "cell_type": "code",
   "execution_count": 14,
   "id": "5c79f3be",
   "metadata": {
    "execution": {
     "iopub.execute_input": "2022-08-22T17:32:51.577347Z",
     "iopub.status.busy": "2022-08-22T17:32:51.576693Z",
     "iopub.status.idle": "2022-08-22T17:32:51.582774Z",
     "shell.execute_reply": "2022-08-22T17:32:51.581919Z"
    },
    "papermill": {
     "duration": 0.02001,
     "end_time": "2022-08-22T17:32:51.585107",
     "exception": false,
     "start_time": "2022-08-22T17:32:51.565097",
     "status": "completed"
    },
    "tags": []
   },
   "outputs": [],
   "source": [
    "def get_feature_importances(clf, x_train: pd.DataFrame) -> pd.DataFrame:\n",
    "    assert hasattr(clf, 'feature_importances_')\n",
    "\n",
    "    importances = clf.feature_importances_\n",
    "    features = x_train.columns\n",
    "    \n",
    "    feature_importances = pd.DataFrame({'feature': features, 'importance': importances})\n",
    "\n",
    "    return feature_importances"
   ]
  },
  {
   "cell_type": "markdown",
   "id": "1fd4cda1",
   "metadata": {
    "papermill": {
     "duration": 0.009916,
     "end_time": "2022-08-22T17:32:51.605190",
     "exception": false,
     "start_time": "2022-08-22T17:32:51.595274",
     "status": "completed"
    },
    "tags": []
   },
   "source": [
    "# Random Forest Classifier"
   ]
  },
  {
   "cell_type": "code",
   "execution_count": 15,
   "id": "af8e3fb9",
   "metadata": {
    "execution": {
     "iopub.execute_input": "2022-08-22T17:32:51.627167Z",
     "iopub.status.busy": "2022-08-22T17:32:51.626766Z",
     "iopub.status.idle": "2022-08-22T17:32:51.714460Z",
     "shell.execute_reply": "2022-08-22T17:32:51.713314Z"
    },
    "papermill": {
     "duration": 0.101614,
     "end_time": "2022-08-22T17:32:51.716918",
     "exception": false,
     "start_time": "2022-08-22T17:32:51.615304",
     "status": "completed"
    },
    "tags": []
   },
   "outputs": [],
   "source": [
    "from sklearn.ensemble import RandomForestClassifier"
   ]
  },
  {
   "cell_type": "code",
   "execution_count": 16,
   "id": "dc467089",
   "metadata": {
    "execution": {
     "iopub.execute_input": "2022-08-22T17:32:51.740159Z",
     "iopub.status.busy": "2022-08-22T17:32:51.739239Z",
     "iopub.status.idle": "2022-08-22T17:32:52.488999Z",
     "shell.execute_reply": "2022-08-22T17:32:52.488140Z"
    },
    "papermill": {
     "duration": 0.76352,
     "end_time": "2022-08-22T17:32:52.491048",
     "exception": false,
     "start_time": "2022-08-22T17:32:51.727528",
     "status": "completed"
    },
    "tags": []
   },
   "outputs": [
    {
     "data": {
      "text/plain": [
       "<sklearn.metrics._plot.confusion_matrix.ConfusionMatrixDisplay at 0x7fb9326807d0>"
      ]
     },
     "metadata": {},
     "output_type": "display_data"
    },
    {
     "data": {
      "text/html": [
       "<div>\n",
       "<style scoped>\n",
       "    .dataframe tbody tr th:only-of-type {\n",
       "        vertical-align: middle;\n",
       "    }\n",
       "\n",
       "    .dataframe tbody tr th {\n",
       "        vertical-align: top;\n",
       "    }\n",
       "\n",
       "    .dataframe thead th {\n",
       "        text-align: right;\n",
       "    }\n",
       "</style>\n",
       "<table border=\"1\" class=\"dataframe\">\n",
       "  <thead>\n",
       "    <tr style=\"text-align: right;\">\n",
       "      <th></th>\n",
       "      <th>model_name</th>\n",
       "      <th>acc</th>\n",
       "      <th>bacc</th>\n",
       "      <th>precision</th>\n",
       "      <th>recall</th>\n",
       "    </tr>\n",
       "  </thead>\n",
       "  <tbody>\n",
       "    <tr>\n",
       "      <th>0</th>\n",
       "      <td>rfc_basic</td>\n",
       "      <td>0.75</td>\n",
       "      <td>0.729167</td>\n",
       "      <td>1.0</td>\n",
       "      <td>0.458333</td>\n",
       "    </tr>\n",
       "  </tbody>\n",
       "</table>\n",
       "</div>"
      ],
      "text/plain": [
       "  model_name   acc      bacc  precision    recall\n",
       "0  rfc_basic  0.75  0.729167        1.0  0.458333"
      ]
     },
     "metadata": {},
     "output_type": "display_data"
    },
    {
     "data": {
      "image/png": "[encoded data removed]",
      "text/plain": [
       "<Figure size 432x288 with 2 Axes>"
      ]
     },
     "metadata": {
      "needs_background": "light"
     },
     "output_type": "display_data"
    }
   ],
   "source": [
    "rfc = RandomForestClassifier()\n",
    "rfc_scores = generate_predictions(rfc, 'rfc_basic')"
   ]
  },
  {
   "cell_type": "code",
   "execution_count": 17,
   "id": "2d4e80e4",
   "metadata": {
    "execution": {
     "iopub.execute_input": "2022-08-22T17:32:52.515123Z",
     "iopub.status.busy": "2022-08-22T17:32:52.514125Z",
     "iopub.status.idle": "2022-08-22T17:32:52.546867Z",
     "shell.execute_reply": "2022-08-22T17:32:52.545763Z"
    },
    "papermill": {
     "duration": 0.047338,
     "end_time": "2022-08-22T17:32:52.549421",
     "exception": false,
     "start_time": "2022-08-22T17:32:52.502083",
     "status": "completed"
    },
    "tags": []
   },
   "outputs": [
    {
     "data": {
      "text/html": [
       "<div>\n",
       "<style scoped>\n",
       "    .dataframe tbody tr th:only-of-type {\n",
       "        vertical-align: middle;\n",
       "    }\n",
       "\n",
       "    .dataframe tbody tr th {\n",
       "        vertical-align: top;\n",
       "    }\n",
       "\n",
       "    .dataframe thead th {\n",
       "        text-align: right;\n",
       "    }\n",
       "</style>\n",
       "<table border=\"1\" class=\"dataframe\">\n",
       "  <thead>\n",
       "    <tr style=\"text-align: right;\">\n",
       "      <th></th>\n",
       "      <th>feature</th>\n",
       "      <th>importance</th>\n",
       "    </tr>\n",
       "  </thead>\n",
       "  <tbody>\n",
       "    <tr>\n",
       "      <th>4</th>\n",
       "      <td>hts_team.1</td>\n",
       "      <td>0.075250</td>\n",
       "    </tr>\n",
       "    <tr>\n",
       "      <th>3</th>\n",
       "      <td>hts_team</td>\n",
       "      <td>0.060712</td>\n",
       "    </tr>\n",
       "    <tr>\n",
       "      <th>8</th>\n",
       "      <td>gs_year</td>\n",
       "      <td>0.046339</td>\n",
       "    </tr>\n",
       "    <tr>\n",
       "      <th>13</th>\n",
       "      <td>gs_yards_off</td>\n",
       "      <td>0.039801</td>\n",
       "    </tr>\n",
       "    <tr>\n",
       "      <th>14</th>\n",
       "      <td>gs_pass_yds_off</td>\n",
       "      <td>0.039542</td>\n",
       "    </tr>\n",
       "    <tr>\n",
       "      <th>...</th>\n",
       "      <td>...</td>\n",
       "      <td>...</td>\n",
       "    </tr>\n",
       "    <tr>\n",
       "      <th>245</th>\n",
       "      <td>ats_punt_yds</td>\n",
       "      <td>0.000118</td>\n",
       "    </tr>\n",
       "    <tr>\n",
       "      <th>33</th>\n",
       "      <td>hts_points_opp</td>\n",
       "      <td>0.000054</td>\n",
       "    </tr>\n",
       "    <tr>\n",
       "      <th>126</th>\n",
       "      <td>hts_krtd</td>\n",
       "      <td>0.000000</td>\n",
       "    </tr>\n",
       "    <tr>\n",
       "      <th>252</th>\n",
       "      <td>ats_krtd</td>\n",
       "      <td>0.000000</td>\n",
       "    </tr>\n",
       "    <tr>\n",
       "      <th>18</th>\n",
       "      <td>gs_yards_def</td>\n",
       "      <td>0.000000</td>\n",
       "    </tr>\n",
       "  </tbody>\n",
       "</table>\n",
       "<p>278 rows × 2 columns</p>\n",
       "</div>"
      ],
      "text/plain": [
       "             feature  importance\n",
       "4         hts_team.1    0.075250\n",
       "3           hts_team    0.060712\n",
       "8            gs_year    0.046339\n",
       "13      gs_yards_off    0.039801\n",
       "14   gs_pass_yds_off    0.039542\n",
       "..               ...         ...\n",
       "245     ats_punt_yds    0.000118\n",
       "33    hts_points_opp    0.000054\n",
       "126         hts_krtd    0.000000\n",
       "252         ats_krtd    0.000000\n",
       "18      gs_yards_def    0.000000\n",
       "\n",
       "[278 rows x 2 columns]"
      ]
     },
     "execution_count": 17,
     "metadata": {},
     "output_type": "execute_result"
    }
   ],
   "source": [
    "get_feature_importances(rfc, x_train).sort_values('importance', ascending=False)"
   ]
  },
  {
   "cell_type": "markdown",
   "id": "d4c97b5e",
   "metadata": {
    "papermill": {
     "duration": 0.010655,
     "end_time": "2022-08-22T17:32:52.571117",
     "exception": false,
     "start_time": "2022-08-22T17:32:52.560462",
     "status": "completed"
    },
    "tags": []
   },
   "source": [
    "# Support Vector Classifier"
   ]
  },
  {
   "cell_type": "code",
   "execution_count": 18,
   "id": "3a2fd245",
   "metadata": {
    "execution": {
     "iopub.execute_input": "2022-08-22T17:32:52.595192Z",
     "iopub.status.busy": "2022-08-22T17:32:52.594403Z",
     "iopub.status.idle": "2022-08-22T17:32:52.599314Z",
     "shell.execute_reply": "2022-08-22T17:32:52.598505Z"
    },
    "papermill": {
     "duration": 0.019399,
     "end_time": "2022-08-22T17:32:52.601499",
     "exception": false,
     "start_time": "2022-08-22T17:32:52.582100",
     "status": "completed"
    },
    "tags": []
   },
   "outputs": [],
   "source": [
    "from sklearn.svm import SVC"
   ]
  },
  {
   "cell_type": "code",
   "execution_count": 19,
   "id": "6a425f90",
   "metadata": {
    "execution": {
     "iopub.execute_input": "2022-08-22T17:32:52.625613Z",
     "iopub.status.busy": "2022-08-22T17:32:52.624581Z",
     "iopub.status.idle": "2022-08-22T17:32:52.952833Z",
     "shell.execute_reply": "2022-08-22T17:32:52.951670Z"
    },
    "papermill": {
     "duration": 0.343536,
     "end_time": "2022-08-22T17:32:52.955935",
     "exception": false,
     "start_time": "2022-08-22T17:32:52.612399",
     "status": "completed"
    },
    "tags": []
   },
   "outputs": [
    {
     "name": "stderr",
     "output_type": "stream",
     "text": [
      "/opt/conda/lib/python3.7/site-packages/sklearn/metrics/_classification.py:1318: UndefinedMetricWarning: Precision is ill-defined and being set to 0.0 due to no predicted samples. Use `zero_division` parameter to control this behavior.\n",
      "  _warn_prf(average, modifier, msg_start, len(result))\n"
     ]
    },
    {
     "data": {
      "text/plain": [
       "<sklearn.metrics._plot.confusion_matrix.ConfusionMatrixDisplay at 0x7fb90f8b3310>"
      ]
     },
     "metadata": {},
     "output_type": "display_data"
    },
    {
     "data": {
      "text/html": [
       "<div>\n",
       "<style scoped>\n",
       "    .dataframe tbody tr th:only-of-type {\n",
       "        vertical-align: middle;\n",
       "    }\n",
       "\n",
       "    .dataframe tbody tr th {\n",
       "        vertical-align: top;\n",
       "    }\n",
       "\n",
       "    .dataframe thead th {\n",
       "        text-align: right;\n",
       "    }\n",
       "</style>\n",
       "<table border=\"1\" class=\"dataframe\">\n",
       "  <thead>\n",
       "    <tr style=\"text-align: right;\">\n",
       "      <th></th>\n",
       "      <th>model_name</th>\n",
       "      <th>acc</th>\n",
       "      <th>bacc</th>\n",
       "      <th>precision</th>\n",
       "      <th>recall</th>\n",
       "    </tr>\n",
       "  </thead>\n",
       "  <tbody>\n",
       "    <tr>\n",
       "      <th>0</th>\n",
       "      <td>rfc_basic</td>\n",
       "      <td>0.750000</td>\n",
       "      <td>0.729167</td>\n",
       "      <td>1.0</td>\n",
       "      <td>0.458333</td>\n",
       "    </tr>\n",
       "    <tr>\n",
       "      <th>1</th>\n",
       "      <td>svc_basic</td>\n",
       "      <td>0.538462</td>\n",
       "      <td>0.500000</td>\n",
       "      <td>0.0</td>\n",
       "      <td>0.000000</td>\n",
       "    </tr>\n",
       "  </tbody>\n",
       "</table>\n",
       "</div>"
      ],
      "text/plain": [
       "  model_name       acc      bacc  precision    recall\n",
       "0  rfc_basic  0.750000  0.729167        1.0  0.458333\n",
       "1  svc_basic  0.538462  0.500000        0.0  0.000000"
      ]
     },
     "metadata": {},
     "output_type": "display_data"
    },
    {
     "data": {
      "image/png": "[encoded data removed]",
      "text/plain": [
       "<Figure size 432x288 with 2 Axes>"
      ]
     },
     "metadata": {
      "needs_background": "light"
     },
     "output_type": "display_data"
    }
   ],
   "source": [
    "svc = SVC()\n",
    "svc_scores = generate_predictions(svc, 'svc_basic')"
   ]
  },
  {
   "cell_type": "markdown",
   "id": "c9f805c2",
   "metadata": {
    "papermill": {
     "duration": 0.011558,
     "end_time": "2022-08-22T17:32:52.979233",
     "exception": false,
     "start_time": "2022-08-22T17:32:52.967675",
     "status": "completed"
    },
    "tags": []
   },
   "source": [
    "# Gaussian Naive Bayes"
   ]
  },
  {
   "cell_type": "code",
   "execution_count": 20,
   "id": "f5ad4a89",
   "metadata": {
    "execution": {
     "iopub.execute_input": "2022-08-22T17:32:53.004638Z",
     "iopub.status.busy": "2022-08-22T17:32:53.004212Z",
     "iopub.status.idle": "2022-08-22T17:32:53.011552Z",
     "shell.execute_reply": "2022-08-22T17:32:53.010569Z"
    },
    "papermill": {
     "duration": 0.022715,
     "end_time": "2022-08-22T17:32:53.013870",
     "exception": false,
     "start_time": "2022-08-22T17:32:52.991155",
     "status": "completed"
    },
    "tags": []
   },
   "outputs": [],
   "source": [
    "from sklearn.naive_bayes import GaussianNB"
   ]
  },
  {
   "cell_type": "code",
   "execution_count": 21,
   "id": "4ac21e6e",
   "metadata": {
    "execution": {
     "iopub.execute_input": "2022-08-22T17:32:53.039377Z",
     "iopub.status.busy": "2022-08-22T17:32:53.038507Z",
     "iopub.status.idle": "2022-08-22T17:32:53.322657Z",
     "shell.execute_reply": "2022-08-22T17:32:53.321378Z"
    },
    "papermill": {
     "duration": 0.299681,
     "end_time": "2022-08-22T17:32:53.325238",
     "exception": false,
     "start_time": "2022-08-22T17:32:53.025557",
     "status": "completed"
    },
    "tags": []
   },
   "outputs": [
    {
     "data": {
      "text/plain": [
       "<sklearn.metrics._plot.confusion_matrix.ConfusionMatrixDisplay at 0x7fb90f141c10>"
      ]
     },
     "metadata": {},
     "output_type": "display_data"
    },
    {
     "data": {
      "text/html": [
       "<div>\n",
       "<style scoped>\n",
       "    .dataframe tbody tr th:only-of-type {\n",
       "        vertical-align: middle;\n",
       "    }\n",
       "\n",
       "    .dataframe tbody tr th {\n",
       "        vertical-align: top;\n",
       "    }\n",
       "\n",
       "    .dataframe thead th {\n",
       "        text-align: right;\n",
       "    }\n",
       "</style>\n",
       "<table border=\"1\" class=\"dataframe\">\n",
       "  <thead>\n",
       "    <tr style=\"text-align: right;\">\n",
       "      <th></th>\n",
       "      <th>model_name</th>\n",
       "      <th>acc</th>\n",
       "      <th>bacc</th>\n",
       "      <th>precision</th>\n",
       "      <th>recall</th>\n",
       "    </tr>\n",
       "  </thead>\n",
       "  <tbody>\n",
       "    <tr>\n",
       "      <th>0</th>\n",
       "      <td>rfc_basic</td>\n",
       "      <td>0.750000</td>\n",
       "      <td>0.729167</td>\n",
       "      <td>1.000000</td>\n",
       "      <td>0.458333</td>\n",
       "    </tr>\n",
       "    <tr>\n",
       "      <th>1</th>\n",
       "      <td>svc_basic</td>\n",
       "      <td>0.538462</td>\n",
       "      <td>0.500000</td>\n",
       "      <td>0.000000</td>\n",
       "      <td>0.000000</td>\n",
       "    </tr>\n",
       "    <tr>\n",
       "      <th>2</th>\n",
       "      <td>gaussian_nb_basic</td>\n",
       "      <td>0.673077</td>\n",
       "      <td>0.648810</td>\n",
       "      <td>0.888889</td>\n",
       "      <td>0.333333</td>\n",
       "    </tr>\n",
       "  </tbody>\n",
       "</table>\n",
       "</div>"
      ],
      "text/plain": [
       "          model_name       acc      bacc  precision    recall\n",
       "0          rfc_basic  0.750000  0.729167   1.000000  0.458333\n",
       "1          svc_basic  0.538462  0.500000   0.000000  0.000000\n",
       "2  gaussian_nb_basic  0.673077  0.648810   0.888889  0.333333"
      ]
     },
     "metadata": {},
     "output_type": "display_data"
    },
    {
     "data": {
      "image/png": "[encoded data removed]",
      "text/plain": [
       "<Figure size 432x288 with 2 Axes>"
      ]
     },
     "metadata": {
      "needs_background": "light"
     },
     "output_type": "display_data"
    }
   ],
   "source": [
    "gaussian_nb = GaussianNB()\n",
    "gaussian_nb_scores = generate_predictions(gaussian_nb, 'gaussian_nb_basic')"
   ]
  },
  {
   "cell_type": "markdown",
   "id": "7d0b526f",
   "metadata": {
    "papermill": {
     "duration": 0.011732,
     "end_time": "2022-08-22T17:32:53.349251",
     "exception": false,
     "start_time": "2022-08-22T17:32:53.337519",
     "status": "completed"
    },
    "tags": []
   },
   "source": [
    "# Multi-layer perceptron\n",
    "a.k.a sklearn's neural network"
   ]
  },
  {
   "cell_type": "code",
   "execution_count": 22,
   "id": "c29199ff",
   "metadata": {
    "execution": {
     "iopub.execute_input": "2022-08-22T17:32:53.374856Z",
     "iopub.status.busy": "2022-08-22T17:32:53.374165Z",
     "iopub.status.idle": "2022-08-22T17:32:53.386220Z",
     "shell.execute_reply": "2022-08-22T17:32:53.385203Z"
    },
    "papermill": {
     "duration": 0.027714,
     "end_time": "2022-08-22T17:32:53.388866",
     "exception": false,
     "start_time": "2022-08-22T17:32:53.361152",
     "status": "completed"
    },
    "tags": []
   },
   "outputs": [],
   "source": [
    "from sklearn.neural_network import MLPClassifier"
   ]
  },
  {
   "cell_type": "code",
   "execution_count": 23,
   "id": "678148bc",
   "metadata": {
    "execution": {
     "iopub.execute_input": "2022-08-22T17:32:53.415072Z",
     "iopub.status.busy": "2022-08-22T17:32:53.414287Z",
     "iopub.status.idle": "2022-08-22T17:32:55.016578Z",
     "shell.execute_reply": "2022-08-22T17:32:55.015450Z"
    },
    "papermill": {
     "duration": 1.618084,
     "end_time": "2022-08-22T17:32:55.019179",
     "exception": false,
     "start_time": "2022-08-22T17:32:53.401095",
     "status": "completed"
    },
    "tags": []
   },
   "outputs": [
    {
     "data": {
      "text/plain": [
       "<sklearn.metrics._plot.confusion_matrix.ConfusionMatrixDisplay at 0x7fb90f1737d0>"
      ]
     },
     "metadata": {},
     "output_type": "display_data"
    },
    {
     "data": {
      "text/html": [
       "<div>\n",
       "<style scoped>\n",
       "    .dataframe tbody tr th:only-of-type {\n",
       "        vertical-align: middle;\n",
       "    }\n",
       "\n",
       "    .dataframe tbody tr th {\n",
       "        vertical-align: top;\n",
       "    }\n",
       "\n",
       "    .dataframe thead th {\n",
       "        text-align: right;\n",
       "    }\n",
       "</style>\n",
       "<table border=\"1\" class=\"dataframe\">\n",
       "  <thead>\n",
       "    <tr style=\"text-align: right;\">\n",
       "      <th></th>\n",
       "      <th>model_name</th>\n",
       "      <th>acc</th>\n",
       "      <th>bacc</th>\n",
       "      <th>precision</th>\n",
       "      <th>recall</th>\n",
       "    </tr>\n",
       "  </thead>\n",
       "  <tbody>\n",
       "    <tr>\n",
       "      <th>0</th>\n",
       "      <td>rfc_basic</td>\n",
       "      <td>0.750000</td>\n",
       "      <td>0.729167</td>\n",
       "      <td>1.000000</td>\n",
       "      <td>0.458333</td>\n",
       "    </tr>\n",
       "    <tr>\n",
       "      <th>1</th>\n",
       "      <td>svc_basic</td>\n",
       "      <td>0.538462</td>\n",
       "      <td>0.500000</td>\n",
       "      <td>0.000000</td>\n",
       "      <td>0.000000</td>\n",
       "    </tr>\n",
       "    <tr>\n",
       "      <th>2</th>\n",
       "      <td>gaussian_nb_basic</td>\n",
       "      <td>0.673077</td>\n",
       "      <td>0.648810</td>\n",
       "      <td>0.888889</td>\n",
       "      <td>0.333333</td>\n",
       "    </tr>\n",
       "    <tr>\n",
       "      <th>3</th>\n",
       "      <td>mlp_basic</td>\n",
       "      <td>0.673077</td>\n",
       "      <td>0.651786</td>\n",
       "      <td>0.818182</td>\n",
       "      <td>0.375000</td>\n",
       "    </tr>\n",
       "  </tbody>\n",
       "</table>\n",
       "</div>"
      ],
      "text/plain": [
       "          model_name       acc      bacc  precision    recall\n",
       "0          rfc_basic  0.750000  0.729167   1.000000  0.458333\n",
       "1          svc_basic  0.538462  0.500000   0.000000  0.000000\n",
       "2  gaussian_nb_basic  0.673077  0.648810   0.888889  0.333333\n",
       "3          mlp_basic  0.673077  0.651786   0.818182  0.375000"
      ]
     },
     "metadata": {},
     "output_type": "display_data"
    },
    {
     "data": {
      "image/png": "[encoded data removed]",
      "text/plain": [
       "<Figure size 432x288 with 2 Axes>"
      ]
     },
     "metadata": {
      "needs_background": "light"
     },
     "output_type": "display_data"
    }
   ],
   "source": [
    "mlp = MLPClassifier()\n",
    "mlp_scores = generate_predictions(mlp, 'mlp_basic')"
   ]
  },
  {
   "cell_type": "markdown",
   "id": "6ea8db8d",
   "metadata": {
    "papermill": {
     "duration": 0.012071,
     "end_time": "2022-08-22T17:32:55.044064",
     "exception": false,
     "start_time": "2022-08-22T17:32:55.031993",
     "status": "completed"
    },
    "tags": []
   },
   "source": [
    "# Keras sequential"
   ]
  },
  {
   "cell_type": "code",
   "execution_count": 24,
   "id": "6e0501c9",
   "metadata": {
    "execution": {
     "iopub.execute_input": "2022-08-22T17:32:55.070524Z",
     "iopub.status.busy": "2022-08-22T17:32:55.070108Z",
     "iopub.status.idle": "2022-08-22T17:33:00.863409Z",
     "shell.execute_reply": "2022-08-22T17:33:00.862281Z"
    },
    "papermill": {
     "duration": 5.809921,
     "end_time": "2022-08-22T17:33:00.866274",
     "exception": false,
     "start_time": "2022-08-22T17:32:55.056353",
     "status": "completed"
    },
    "tags": []
   },
   "outputs": [],
   "source": [
    "from keras.models import Sequential\n",
    "from keras.layers import Dense, Activation, Flatten"
   ]
  },
  {
   "cell_type": "code",
   "execution_count": 25,
   "id": "36777f73",
   "metadata": {
    "execution": {
     "iopub.execute_input": "2022-08-22T17:33:00.894038Z",
     "iopub.status.busy": "2022-08-22T17:33:00.893320Z",
     "iopub.status.idle": "2022-08-22T17:33:01.044911Z",
     "shell.execute_reply": "2022-08-22T17:33:01.042984Z"
    },
    "papermill": {
     "duration": 0.168118,
     "end_time": "2022-08-22T17:33:01.047466",
     "exception": false,
     "start_time": "2022-08-22T17:33:00.879348",
     "status": "completed"
    },
    "tags": []
   },
   "outputs": [
    {
     "name": "stdout",
     "output_type": "stream",
     "text": [
      "Model: \"sequential\"\n",
      "_________________________________________________________________\n",
      "Layer (type)                 Output Shape              Param #   \n",
      "=================================================================\n",
      "dense (Dense)                (None, 128)               35712     \n",
      "_________________________________________________________________\n",
      "dense_1 (Dense)              (None, 256)               33024     \n",
      "_________________________________________________________________\n",
      "dense_2 (Dense)              (None, 256)               65792     \n",
      "_________________________________________________________________\n",
      "dense_3 (Dense)              (None, 256)               65792     \n",
      "_________________________________________________________________\n",
      "dense_4 (Dense)              (None, 1)                 257       \n",
      "=================================================================\n",
      "Total params: 200,577\n",
      "Trainable params: 200,577\n",
      "Non-trainable params: 0\n",
      "_________________________________________________________________\n"
     ]
    },
    {
     "name": "stderr",
     "output_type": "stream",
     "text": [
      "2022-08-22 17:33:00.931299: I tensorflow/core/common_runtime/process_util.cc:146] Creating new thread pool with default inter op setting: 2. Tune using inter_op_parallelism_threads for best performance.\n"
     ]
    }
   ],
   "source": [
    "keras_nn = Sequential()\n",
    "keras_nn.add(Dense(128, input_dim=x_train.shape[1], activation='relu'))\n",
    "\n",
    "keras_nn.add(Dense(256, activation='relu'))\n",
    "keras_nn.add(Dense(256, activation='relu'))\n",
    "keras_nn.add(Dense(256, activation='relu'))\n",
    "\n",
    "keras_nn.add(Dense(1, activation='sigmoid'))\n",
    "\n",
    "keras_nn.compile(\n",
    "    loss='binary_crossentropy',\n",
    "    optimizer='adam',\n",
    "    metrics='accuracy'\n",
    ")\n",
    "\n",
    "keras_nn.summary()"
   ]
  },
  {
   "cell_type": "code",
   "execution_count": 26,
   "id": "44925b9d",
   "metadata": {
    "execution": {
     "iopub.execute_input": "2022-08-22T17:33:01.074549Z",
     "iopub.status.busy": "2022-08-22T17:33:01.074123Z",
     "iopub.status.idle": "2022-08-22T17:33:01.079321Z",
     "shell.execute_reply": "2022-08-22T17:33:01.078208Z"
    },
    "papermill": {
     "duration": 0.02152,
     "end_time": "2022-08-22T17:33:01.081741",
     "exception": false,
     "start_time": "2022-08-22T17:33:01.060221",
     "status": "completed"
    },
    "tags": []
   },
   "outputs": [],
   "source": [
    "keras_nn_fit_params = {\n",
    "    'sequential__epochs': 100,\n",
    "    'sequential__batch_size': 32,\n",
    "    'sequential__verbose': 0, \n",
    "}"
   ]
  },
  {
   "cell_type": "code",
   "execution_count": 27,
   "id": "6a8a6240",
   "metadata": {
    "execution": {
     "iopub.execute_input": "2022-08-22T17:33:01.108935Z",
     "iopub.status.busy": "2022-08-22T17:33:01.108536Z",
     "iopub.status.idle": "2022-08-22T17:33:07.385978Z",
     "shell.execute_reply": "2022-08-22T17:33:07.384759Z"
    },
    "papermill": {
     "duration": 6.293803,
     "end_time": "2022-08-22T17:33:07.388434",
     "exception": false,
     "start_time": "2022-08-22T17:33:01.094631",
     "status": "completed"
    },
    "tags": []
   },
   "outputs": [
    {
     "name": "stderr",
     "output_type": "stream",
     "text": [
      "2022-08-22 17:33:01.257993: I tensorflow/compiler/mlir/mlir_graph_optimization_pass.cc:185] None of the MLIR Optimization Passes are enabled (registered 2)\n"
     ]
    },
    {
     "data": {
      "text/plain": [
       "<sklearn.metrics._plot.confusion_matrix.ConfusionMatrixDisplay at 0x7fb90eeb3a90>"
      ]
     },
     "metadata": {},
     "output_type": "display_data"
    },
    {
     "data": {
      "text/html": [
       "<div>\n",
       "<style scoped>\n",
       "    .dataframe tbody tr th:only-of-type {\n",
       "        vertical-align: middle;\n",
       "    }\n",
       "\n",
       "    .dataframe tbody tr th {\n",
       "        vertical-align: top;\n",
       "    }\n",
       "\n",
       "    .dataframe thead th {\n",
       "        text-align: right;\n",
       "    }\n",
       "</style>\n",
       "<table border=\"1\" class=\"dataframe\">\n",
       "  <thead>\n",
       "    <tr style=\"text-align: right;\">\n",
       "      <th></th>\n",
       "      <th>model_name</th>\n",
       "      <th>acc</th>\n",
       "      <th>bacc</th>\n",
       "      <th>precision</th>\n",
       "      <th>recall</th>\n",
       "    </tr>\n",
       "  </thead>\n",
       "  <tbody>\n",
       "    <tr>\n",
       "      <th>0</th>\n",
       "      <td>rfc_basic</td>\n",
       "      <td>0.750000</td>\n",
       "      <td>0.729167</td>\n",
       "      <td>1.000000</td>\n",
       "      <td>0.458333</td>\n",
       "    </tr>\n",
       "    <tr>\n",
       "      <th>1</th>\n",
       "      <td>svc_basic</td>\n",
       "      <td>0.538462</td>\n",
       "      <td>0.500000</td>\n",
       "      <td>0.000000</td>\n",
       "      <td>0.000000</td>\n",
       "    </tr>\n",
       "    <tr>\n",
       "      <th>2</th>\n",
       "      <td>gaussian_nb_basic</td>\n",
       "      <td>0.673077</td>\n",
       "      <td>0.648810</td>\n",
       "      <td>0.888889</td>\n",
       "      <td>0.333333</td>\n",
       "    </tr>\n",
       "    <tr>\n",
       "      <th>3</th>\n",
       "      <td>mlp_basic</td>\n",
       "      <td>0.673077</td>\n",
       "      <td>0.651786</td>\n",
       "      <td>0.818182</td>\n",
       "      <td>0.375000</td>\n",
       "    </tr>\n",
       "    <tr>\n",
       "      <th>4</th>\n",
       "      <td>keras_sequencial</td>\n",
       "      <td>0.653846</td>\n",
       "      <td>0.627976</td>\n",
       "      <td>0.875000</td>\n",
       "      <td>0.291667</td>\n",
       "    </tr>\n",
       "  </tbody>\n",
       "</table>\n",
       "</div>"
      ],
      "text/plain": [
       "          model_name       acc      bacc  precision    recall\n",
       "0          rfc_basic  0.750000  0.729167   1.000000  0.458333\n",
       "1          svc_basic  0.538462  0.500000   0.000000  0.000000\n",
       "2  gaussian_nb_basic  0.673077  0.648810   0.888889  0.333333\n",
       "3          mlp_basic  0.673077  0.651786   0.818182  0.375000\n",
       "4   keras_sequencial  0.653846  0.627976   0.875000  0.291667"
      ]
     },
     "metadata": {},
     "output_type": "display_data"
    },
    {
     "data": {
      "image/png": "[encoded data removed]",
      "text/plain": [
       "<Figure size 432x288 with 2 Axes>"
      ]
     },
     "metadata": {
      "needs_background": "light"
     },
     "output_type": "display_data"
    }
   ],
   "source": [
    "keras_nn_scores = generate_predictions(keras_nn, 'keras_sequencial', fit_params=keras_nn_fit_params)"
   ]
  },
  {
   "cell_type": "markdown",
   "id": "2d5929b1",
   "metadata": {
    "papermill": {
     "duration": 0.013192,
     "end_time": "2022-08-22T17:33:07.414719",
     "exception": false,
     "start_time": "2022-08-22T17:33:07.401527",
     "status": "completed"
    },
    "tags": []
   },
   "source": [
    "---\n",
    "---"
   ]
  },
  {
   "cell_type": "markdown",
   "id": "32fe8828",
   "metadata": {
    "papermill": {
     "duration": 0.012759,
     "end_time": "2022-08-22T17:33:07.440771",
     "exception": false,
     "start_time": "2022-08-22T17:33:07.428012",
     "status": "completed"
    },
    "tags": []
   },
   "source": [
    "# Investigações"
   ]
  },
  {
   "cell_type": "markdown",
   "id": "ecbbd628",
   "metadata": {
    "papermill": {
     "duration": 0.012955,
     "end_time": "2022-08-22T17:33:07.466970",
     "exception": false,
     "start_time": "2022-08-22T17:33:07.454015",
     "status": "completed"
    },
    "tags": []
   },
   "source": [
    "Por algum motivo, as predições são melhores quando usamos o arquivo ```playoffs.csv```, em comparação ao arquivo preparado para a competição no workshop, ```df_kaggle_train.csv```"
   ]
  },
  {
   "cell_type": "code",
   "execution_count": 28,
   "id": "872a2ad2",
   "metadata": {
    "execution": {
     "iopub.execute_input": "2022-08-22T17:33:07.495702Z",
     "iopub.status.busy": "2022-08-22T17:33:07.494907Z",
     "iopub.status.idle": "2022-08-22T17:33:07.620797Z",
     "shell.execute_reply": "2022-08-22T17:33:07.619621Z"
    },
    "papermill": {
     "duration": 0.143521,
     "end_time": "2022-08-22T17:33:07.623580",
     "exception": false,
     "start_time": "2022-08-22T17:33:07.480059",
     "status": "completed"
    },
    "tags": []
   },
   "outputs": [],
   "source": [
    "playoffs = pd.read_csv('/kaggle/input/nfl-playoffs-19702021/playoffs.csv', sep=';')\n",
    "playoffs.drop('Unnamed: 0', axis=1, inplace=True)\n",
    "playoffs.rename({'gs_game_outcome': 'winorlose'}, axis=1, inplace=True)\n",
    "playoffs = playoffs[playoffs['gs_game_location'].isin(['N', 'home'])]\n",
    "\n",
    "kaggle_train = pd.read_csv('/kaggle/input/nfl-playoffs-19702021/df_kaggle_train.csv', sep=';')\n",
    "kaggle_test = pd.read_csv('/kaggle/input/nfl-playoffs-19702021/df_kaggle_test.csv', sep=';')\n",
    "kaggle_labels = pd.read_csv('/kaggle/input/nfl-playoffs-19702021/df_kaggle_test_labels.csv', sep=';')"
   ]
  },
  {
   "cell_type": "code",
   "execution_count": 29,
   "id": "56c38551",
   "metadata": {
    "execution": {
     "iopub.execute_input": "2022-08-22T17:33:07.652014Z",
     "iopub.status.busy": "2022-08-22T17:33:07.651615Z",
     "iopub.status.idle": "2022-08-22T17:33:07.661319Z",
     "shell.execute_reply": "2022-08-22T17:33:07.660210Z"
    },
    "papermill": {
     "duration": 0.026703,
     "end_time": "2022-08-22T17:33:07.663685",
     "exception": false,
     "start_time": "2022-08-22T17:33:07.636982",
     "status": "completed"
    },
    "tags": []
   },
   "outputs": [
    {
     "data": {
      "text/plain": [
       "185    4719\n",
       "188    4779\n",
       "189    4800\n",
       "190    4925\n",
       "194    4778\n",
       "196    5120\n",
       "200    5050\n",
       "201    4799\n",
       "202    4759\n",
       "203    4996\n",
       "204    5209\n",
       "205    5208\n",
       "Name: gs_id, dtype: int64"
      ]
     },
     "execution_count": 29,
     "metadata": {},
     "output_type": "execute_result"
    }
   ],
   "source": [
    "playoffs[playoffs['gs_year'] == 2017][['gs_id', 'gs_team', 'gs_opp']]['gs_id']"
   ]
  },
  {
   "cell_type": "code",
   "execution_count": 30,
   "id": "811b2785",
   "metadata": {
    "execution": {
     "iopub.execute_input": "2022-08-22T17:33:07.691994Z",
     "iopub.status.busy": "2022-08-22T17:33:07.691577Z",
     "iopub.status.idle": "2022-08-22T17:33:07.702080Z",
     "shell.execute_reply": "2022-08-22T17:33:07.701125Z"
    },
    "papermill": {
     "duration": 0.027598,
     "end_time": "2022-08-22T17:33:07.704530",
     "exception": false,
     "start_time": "2022-08-22T17:33:07.676932",
     "status": "completed"
    },
    "tags": []
   },
   "outputs": [
    {
     "data": {
      "text/plain": [
       "48    4719\n",
       "49    4779\n",
       "50    4800\n",
       "51    4925\n",
       "52    4778\n",
       "53    5120\n",
       "54    5050\n",
       "55    4799\n",
       "56    4759\n",
       "57    4996\n",
       "58    5209\n",
       "59    5208\n",
       "Name: gs_id, dtype: int64"
      ]
     },
     "execution_count": 30,
     "metadata": {},
     "output_type": "execute_result"
    }
   ],
   "source": [
    "kaggle_train[kaggle_train['gs_year'] == 2017][['gs_id', 'gs_team', 'gs_opp']]['gs_id']"
   ]
  },
  {
   "cell_type": "code",
   "execution_count": 31,
   "id": "9136983b",
   "metadata": {
    "execution": {
     "iopub.execute_input": "2022-08-22T17:33:07.733468Z",
     "iopub.status.busy": "2022-08-22T17:33:07.732722Z",
     "iopub.status.idle": "2022-08-22T17:33:07.744767Z",
     "shell.execute_reply": "2022-08-22T17:33:07.743278Z"
    },
    "papermill": {
     "duration": 0.029142,
     "end_time": "2022-08-22T17:33:07.747142",
     "exception": false,
     "start_time": "2022-08-22T17:33:07.718000",
     "status": "completed"
    },
    "tags": []
   },
   "outputs": [
    {
     "data": {
      "text/plain": [
       "True"
      ]
     },
     "execution_count": 31,
     "metadata": {},
     "output_type": "execute_result"
    }
   ],
   "source": [
    "bool(sum(kaggle_train[kaggle_train['gs_year'] == 2017][['gs_id', 'gs_team', 'gs_opp']]['gs_id'].values == \\\n",
    "playoffs[playoffs['gs_year'] == 2017][['gs_id', 'gs_team', 'gs_opp']]['gs_id'].values))"
   ]
  },
  {
   "cell_type": "code",
   "execution_count": 32,
   "id": "c7b5b426",
   "metadata": {
    "execution": {
     "iopub.execute_input": "2022-08-22T17:33:07.776164Z",
     "iopub.status.busy": "2022-08-22T17:33:07.775759Z",
     "iopub.status.idle": "2022-08-22T17:33:07.787685Z",
     "shell.execute_reply": "2022-08-22T17:33:07.786765Z"
    },
    "papermill": {
     "duration": 0.029032,
     "end_time": "2022-08-22T17:33:07.789905",
     "exception": false,
     "start_time": "2022-08-22T17:33:07.760873",
     "status": "completed"
    },
    "tags": []
   },
   "outputs": [
    {
     "data": {
      "text/plain": [
       "True"
      ]
     },
     "execution_count": 32,
     "metadata": {},
     "output_type": "execute_result"
    }
   ],
   "source": [
    "bool(sum(kaggle_test[kaggle_test['gs_year'] == 2020][['gs_id', 'gs_team', 'gs_opp']]['gs_id'].values == \\\n",
    "playoffs[playoffs['gs_year'] == 2020][['gs_id', 'gs_team', 'gs_opp']]['gs_id'].values))"
   ]
  },
  {
   "cell_type": "markdown",
   "id": "eb1e4343",
   "metadata": {
    "papermill": {
     "duration": 0.013209,
     "end_time": "2022-08-22T17:33:07.816814",
     "exception": false,
     "start_time": "2022-08-22T17:33:07.803605",
     "status": "completed"
    },
    "tags": []
   },
   "source": [
    "Ambos os datasets possuem os mesmos jogos, mas quantidades de colunas diferentes."
   ]
  },
  {
   "cell_type": "code",
   "execution_count": 33,
   "id": "feb405fd",
   "metadata": {
    "execution": {
     "iopub.execute_input": "2022-08-22T17:33:07.846188Z",
     "iopub.status.busy": "2022-08-22T17:33:07.845400Z",
     "iopub.status.idle": "2022-08-22T17:33:07.853379Z",
     "shell.execute_reply": "2022-08-22T17:33:07.852445Z"
    },
    "papermill": {
     "duration": 0.025201,
     "end_time": "2022-08-22T17:33:07.855618",
     "exception": false,
     "start_time": "2022-08-22T17:33:07.830417",
     "status": "completed"
    },
    "tags": []
   },
   "outputs": [
    {
     "data": {
      "text/plain": [
       "Index(['gs_overtime', 'gs_team_record', 'gs_pts_off', 'gs_pts_def',\n",
       "       'gs_first_down_off', 'gs_yards_off', 'gs_pass_yds_off',\n",
       "       'gs_rush_yds_off', 'gs_to_off', 'gs_first_down_def', 'gs_yards_def',\n",
       "       'gs_pass_yds_def', 'gs_rush_yds_def', 'gs_to_def', 'gs_exp_pts_off',\n",
       "       'gs_exp_pts_def', 'gs_exp_pts_st', 'gs_is_playoff', 'hts_year',\n",
       "       'hts_team', 'hts_team.1', 'ats_year', 'ats_team', 'ats_team.1'],\n",
       "      dtype='object')"
      ]
     },
     "execution_count": 33,
     "metadata": {},
     "output_type": "execute_result"
    }
   ],
   "source": [
    "playoffs.columns[~playoffs.columns.isin(kaggle_train.columns)]"
   ]
  },
  {
   "cell_type": "markdown",
   "id": "5adefedf",
   "metadata": {
    "papermill": {
     "duration": 0.013281,
     "end_time": "2022-08-22T17:33:07.882799",
     "exception": false,
     "start_time": "2022-08-22T17:33:07.869518",
     "status": "completed"
    },
    "tags": []
   },
   "source": [
    "E aqui está a diferença.\n",
    "\n",
    "```playoffs.csv``` contém colunas adicionais com informações sobre a partida.\n",
    "\n",
    "Informações que não estariam disponíveis antes da partida acontecer, momento que seria feita uma predição.\n",
    "\n",
    "Ou seja, ocorreu um vazamento de dados clássico."
   ]
  }
 ],
 "metadata": {
  "kernelspec": {
   "display_name": "Python 3",
   "language": "python",
   "name": "python3"
  },
  "language_info": {
   "codemirror_mode": {
    "name": "ipython",
    "version": 3
   },
   "file_extension": ".py",
   "mimetype": "text/x-python",
   "name": "python",
   "nbconvert_exporter": "python",
   "pygments_lexer": "ipython3",
   "version": "3.7.12"
  },
  "papermill": {
   "default_parameters": {},
   "duration": 30.242511,
   "end_time": "2022-08-22T17:33:10.745555",
   "environment_variables": {},
   "exception": null,
   "input_path": "__notebook__.ipynb",
   "output_path": "__notebook__.ipynb",
   "parameters": {},
   "start_time": "2022-08-22T17:32:40.503044",
   "version": "2.3.4"
  }
 },
 "nbformat": 4,
 "nbformat_minor": 5
}
