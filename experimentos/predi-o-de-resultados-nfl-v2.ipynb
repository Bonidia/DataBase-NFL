{
 "cells": [
  {
   "cell_type": "code",
   "execution_count": 1,
   "id": "4216c0cc",
   "metadata": {
    "execution": {
     "iopub.execute_input": "2022-08-31T23:49:07.684268Z",
     "iopub.status.busy": "2022-08-31T23:49:07.683680Z",
     "iopub.status.idle": "2022-08-31T23:49:07.695747Z",
     "shell.execute_reply": "2022-08-31T23:49:07.694816Z"
    },
    "papermill": {
     "duration": 0.035243,
     "end_time": "2022-08-31T23:49:07.698127",
     "exception": false,
     "start_time": "2022-08-31T23:49:07.662884",
     "status": "completed"
    },
    "tags": []
   },
   "outputs": [],
   "source": [
    "import os\n",
    "import json\n",
    "import pandas as pd\n",
    "import numpy as np"
   ]
  },
  {
   "cell_type": "code",
   "execution_count": 2,
   "id": "7734e093",
   "metadata": {
    "execution": {
     "iopub.execute_input": "2022-08-31T23:49:07.735129Z",
     "iopub.status.busy": "2022-08-31T23:49:07.734340Z",
     "iopub.status.idle": "2022-08-31T23:49:07.738673Z",
     "shell.execute_reply": "2022-08-31T23:49:07.737829Z"
    },
    "papermill": {
     "duration": 0.024311,
     "end_time": "2022-08-31T23:49:07.740929",
     "exception": false,
     "start_time": "2022-08-31T23:49:07.716618",
     "status": "completed"
    },
    "tags": []
   },
   "outputs": [],
   "source": [
    "RANDOM_STATE = 22\n",
    "TARGET_FEATURE = 'winorlose'"
   ]
  },
  {
   "cell_type": "markdown",
   "id": "aee4fa11",
   "metadata": {
    "papermill": {
     "duration": 0.015891,
     "end_time": "2022-08-31T23:49:07.773072",
     "exception": false,
     "start_time": "2022-08-31T23:49:07.757181",
     "status": "completed"
    },
    "tags": []
   },
   "source": [
    "# Pré-processamento"
   ]
  },
  {
   "cell_type": "code",
   "execution_count": 3,
   "id": "d26430b8",
   "metadata": {
    "execution": {
     "iopub.execute_input": "2022-08-31T23:49:07.808542Z",
     "iopub.status.busy": "2022-08-31T23:49:07.807749Z",
     "iopub.status.idle": "2022-08-31T23:49:07.815310Z",
     "shell.execute_reply": "2022-08-31T23:49:07.814218Z"
    },
    "papermill": {
     "duration": 0.028092,
     "end_time": "2022-08-31T23:49:07.817832",
     "exception": false,
     "start_time": "2022-08-31T23:49:07.789740",
     "status": "completed"
    },
    "tags": []
   },
   "outputs": [],
   "source": [
    "def fix_col_names(_df: pd.DataFrame, silent: bool = True) -> pd.DataFrame:\n",
    "    ''' Strips and lowercases DataFrame columns '''\n",
    "    df = _df.copy()\n",
    "    og_cols = df.columns.to_list()\n",
    "\n",
    "    df.columns = df.columns \\\n",
    "        .str.lower() \\\n",
    "        .str.strip()\n",
    "    \n",
    "    max_col_name_size = len(max(og_cols, key=lambda x: len(x))) + 5\n",
    "    if not silent:\n",
    "        for og, new in zip(og_cols, df.columns.to_list()):\n",
    "            print(f'{og: <{max_col_name_size}} -> {new}')\n",
    "\n",
    "    return df"
   ]
  },
  {
   "cell_type": "code",
   "execution_count": 4,
   "id": "c88544cb",
   "metadata": {
    "execution": {
     "iopub.execute_input": "2022-08-31T23:49:07.852408Z",
     "iopub.status.busy": "2022-08-31T23:49:07.851631Z",
     "iopub.status.idle": "2022-08-31T23:49:07.865892Z",
     "shell.execute_reply": "2022-08-31T23:49:07.864969Z"
    },
    "papermill": {
     "duration": 0.034427,
     "end_time": "2022-08-31T23:49:07.868481",
     "exception": false,
     "start_time": "2022-08-31T23:49:07.834054",
     "status": "completed"
    },
    "tags": []
   },
   "outputs": [],
   "source": [
    "def prepare_playoff_dataframe(_df: pd.DataFrame) -> pd.DataFrame:\n",
    "    df = _df.copy()\n",
    "    cols_to_drop = [\n",
    "        'gs_overtime', 'gs_pts_off', 'gs_pts_def',\n",
    "        'gs_first_down_off', 'gs_yards_off', 'gs_pass_yds_off',\n",
    "        'gs_rush_yds_off', 'gs_to_off', 'gs_first_down_def',\n",
    "        'gs_yards_def', 'gs_pass_yds_def', 'gs_rush_yds_def',\n",
    "        'gs_to_def', 'gs_exp_pts_off', 'gs_exp_pts_def', 'gs_exp_pts_st',\n",
    "        'gs_is_playoff', 'gs_team_record',\n",
    "        'hts_year', 'hts_team', 'hts_team.1',\n",
    "        'ats_year', 'ats_team', 'ats_team.1', 'Unnamed: 0'\n",
    "    ]\n",
    "    df.drop(cols_to_drop, axis=1, inplace=True)\n",
    "    df = df[df['gs_game_location'].isin(['N', 'home'])]\n",
    "\n",
    "    # renaming cols\n",
    "    cols_to_rename = {\n",
    "        'gs_game_outcome': 'winorlose'\n",
    "    }\n",
    "    df.rename(cols_to_rename, axis=1, inplace=True)\n",
    "\n",
    "    # reordering\n",
    "    # new_col_order = ['gs_id', 'gs_year', 'gs_team', 'gs_opp']\n",
    "    # new_col_order += df.drop(new_col_order + ['winorlose'], axis=1).columns.tolist() + ['winorlose']\n",
    "    # df = df[new_col_order]\n",
    "    \n",
    "    return df"
   ]
  },
  {
   "cell_type": "code",
   "execution_count": 5,
   "id": "d92c7d8d",
   "metadata": {
    "execution": {
     "iopub.execute_input": "2022-08-31T23:49:07.902465Z",
     "iopub.status.busy": "2022-08-31T23:49:07.902060Z",
     "iopub.status.idle": "2022-08-31T23:49:07.913559Z",
     "shell.execute_reply": "2022-08-31T23:49:07.912586Z"
    },
    "papermill": {
     "duration": 0.031323,
     "end_time": "2022-08-31T23:49:07.915928",
     "exception": false,
     "start_time": "2022-08-31T23:49:07.884605",
     "status": "completed"
    },
    "tags": []
   },
   "outputs": [],
   "source": [
    "def preprocess(\n",
    "    df_raw: pd.DataFrame,\n",
    "    target: str\n",
    ") -> pd.DataFrame:\n",
    "    \n",
    "    # col names\n",
    "    df = df_raw.copy()\n",
    "    df = fix_col_names(df)\n",
    "    \n",
    "    # bool to numeric\n",
    "    non_numeric_or_object = df.select_dtypes(exclude=[np.number, object]).columns\n",
    "    df[non_numeric_or_object] = df[non_numeric_or_object].astype(int)\n",
    "\n",
    "    # cols with values that contain '%' or 'Own' to numeric\n",
    "    for col in df.select_dtypes(object).columns:\n",
    "        if any(df[col].str.contains('Own', na=False)):\n",
    "            df[col] = df[col].str.extract('[Own]?(\\d+.\\d*)').astype(float)\n",
    "            continue\n",
    "        if any(df[col].str.contains('%', na=False)):\n",
    "            df[col] = df[col].str.extract('(\\d+.\\d*)[%]').astype(float)\n",
    "            continue\n",
    "    \n",
    "    # remove columns with values that contain ':' or '-'\n",
    "    for col in df.select_dtypes(object).columns:\n",
    "        if any(df[col].str.contains(':', na=False)):\n",
    "            df.drop(col, axis=1, inplace=True)\n",
    "            continue\n",
    "        if any(df[col].str.contains('-', na=False)):\n",
    "            df.drop(col, axis=1, inplace=True)\n",
    "            continue\n",
    "\n",
    "    target_encoder = {'L': 0, 'W': 1}\n",
    "    df[target] = df[target].map(target_encoder)\n",
    "            \n",
    "    return df"
   ]
  },
  {
   "cell_type": "markdown",
   "id": "1993c9e2",
   "metadata": {
    "papermill": {
     "duration": 0.01617,
     "end_time": "2022-08-31T23:49:07.948499",
     "exception": false,
     "start_time": "2022-08-31T23:49:07.932329",
     "status": "completed"
    },
    "tags": []
   },
   "source": [
    "# Calculo das métricas da predição"
   ]
  },
  {
   "cell_type": "code",
   "execution_count": 6,
   "id": "353981ed",
   "metadata": {
    "execution": {
     "iopub.execute_input": "2022-08-31T23:49:07.983259Z",
     "iopub.status.busy": "2022-08-31T23:49:07.982612Z",
     "iopub.status.idle": "2022-08-31T23:49:09.192110Z",
     "shell.execute_reply": "2022-08-31T23:49:09.191041Z"
    },
    "papermill": {
     "duration": 1.230001,
     "end_time": "2022-08-31T23:49:09.194755",
     "exception": false,
     "start_time": "2022-08-31T23:49:07.964754",
     "status": "completed"
    },
    "tags": []
   },
   "outputs": [],
   "source": [
    "from pprint import pprint\n",
    "from sklearn.metrics import ConfusionMatrixDisplay, accuracy_score, balanced_accuracy_score, precision_score, recall_score\n",
    "from datetime import datetime\n",
    "\n",
    "all_scores = {}\n",
    "\n",
    "def show_scores(scores: dict = all_scores):\n",
    "    display(pd.DataFrame(all_scores.values()))\n",
    "\n",
    "def calculate_scores(\n",
    "    model_name: str, \n",
    "    y_test: pd.Series, pred: np.ndarray, \n",
    "    pos_label: str or int = 1,\n",
    "    score_list: list = all_scores,\n",
    "    display_confusion_matrix: bool = True,\n",
    "    display_scores: bool = True\n",
    "    ):\n",
    "    cf_mx = ConfusionMatrixDisplay.from_predictions(y_test, pred)\n",
    "    acc = accuracy_score(y_test, pred)\n",
    "    bacc = balanced_accuracy_score(y_test, pred)\n",
    "    precision = precision_score(y_test, pred, pos_label=pos_label)\n",
    "    recall = recall_score(y_test, pred, pos_label=pos_label)\n",
    "    \n",
    "    model_scores = {\n",
    "        'model_name': model_name,\n",
    "        'acc': acc,\n",
    "        'bacc': bacc,\n",
    "        'precision': precision,\n",
    "        'recall': recall\n",
    "    }\n",
    "    score_list[model_name] = model_scores\n",
    "    \n",
    "    if display_confusion_matrix:\n",
    "        display(cf_mx)   \n",
    "    if show_scores:\n",
    "        show_scores(score_list)\n",
    "    return model_scores"
   ]
  },
  {
   "cell_type": "markdown",
   "id": "37929925",
   "metadata": {
    "papermill": {
     "duration": 0.016439,
     "end_time": "2022-08-31T23:49:09.231032",
     "exception": false,
     "start_time": "2022-08-31T23:49:09.214593",
     "status": "completed"
    },
    "tags": []
   },
   "source": [
    "# Carregamento & processamento dos dados"
   ]
  },
  {
   "cell_type": "markdown",
   "id": "84b06a5a",
   "metadata": {
    "papermill": {
     "duration": 0.01604,
     "end_time": "2022-08-31T23:49:09.264604",
     "exception": false,
     "start_time": "2022-08-31T23:49:09.248564",
     "status": "completed"
    },
    "tags": []
   },
   "source": [
    "## Dados completos"
   ]
  },
  {
   "cell_type": "code",
   "execution_count": 7,
   "id": "794e568f",
   "metadata": {
    "execution": {
     "iopub.execute_input": "2022-08-31T23:49:09.299201Z",
     "iopub.status.busy": "2022-08-31T23:49:09.298813Z",
     "iopub.status.idle": "2022-08-31T23:49:09.309445Z",
     "shell.execute_reply": "2022-08-31T23:49:09.307998Z"
    },
    "papermill": {
     "duration": 0.030873,
     "end_time": "2022-08-31T23:49:09.312095",
     "exception": false,
     "start_time": "2022-08-31T23:49:09.281222",
     "status": "completed"
    },
    "tags": []
   },
   "outputs": [
    {
     "name": "stdout",
     "output_type": "stream",
     "text": [
      "/kaggle/input/nfl-playoffs-19702021/df_kaggle_test.csv\n",
      "/kaggle/input/nfl-playoffs-19702021/playoffs.csv\n",
      "/kaggle/input/nfl-playoffs-19702021/df_kaggle_test_labels.csv\n",
      "/kaggle/input/nfl-playoffs-19702021/df_kaggle_train.csv\n"
     ]
    }
   ],
   "source": [
    "for dirname, _, files in os.walk('/kaggle/input'):\n",
    "    for file in files:\n",
    "        print(os.path.join(dirname, file))"
   ]
  },
  {
   "cell_type": "code",
   "execution_count": 8,
   "id": "78ea693e",
   "metadata": {
    "execution": {
     "iopub.execute_input": "2022-08-31T23:49:09.347289Z",
     "iopub.status.busy": "2022-08-31T23:49:09.346868Z",
     "iopub.status.idle": "2022-08-31T23:49:09.450153Z",
     "shell.execute_reply": "2022-08-31T23:49:09.448846Z"
    },
    "papermill": {
     "duration": 0.123666,
     "end_time": "2022-08-31T23:49:09.452746",
     "exception": false,
     "start_time": "2022-08-31T23:49:09.329080",
     "status": "completed"
    },
    "tags": []
   },
   "outputs": [
    {
     "data": {
      "text/plain": [
       "((1052, 288), (578, 263))"
      ]
     },
     "execution_count": 8,
     "metadata": {},
     "output_type": "execute_result"
    }
   ],
   "source": [
    "df_playoffs_raw = pd.read_csv('/kaggle/input/nfl-playoffs-19702021/playoffs.csv', sep=';')\n",
    "df_playoffs = prepare_playoff_dataframe(df_playoffs_raw)\n",
    "\n",
    "df_playoffs_raw.shape, df_playoffs.shape"
   ]
  },
  {
   "cell_type": "code",
   "execution_count": 9,
   "id": "dfd0cf3f",
   "metadata": {
    "execution": {
     "iopub.execute_input": "2022-08-31T23:49:09.487846Z",
     "iopub.status.busy": "2022-08-31T23:49:09.487368Z",
     "iopub.status.idle": "2022-08-31T23:49:09.565407Z",
     "shell.execute_reply": "2022-08-31T23:49:09.564111Z"
    },
    "papermill": {
     "duration": 0.098805,
     "end_time": "2022-08-31T23:49:09.568181",
     "exception": false,
     "start_time": "2022-08-31T23:49:09.469376",
     "status": "completed"
    },
    "tags": []
   },
   "outputs": [],
   "source": [
    "df_playoffs = preprocess(df_playoffs, TARGET_FEATURE)"
   ]
  },
  {
   "cell_type": "markdown",
   "id": "d215c694",
   "metadata": {
    "papermill": {
     "duration": 0.016043,
     "end_time": "2022-08-31T23:49:09.600979",
     "exception": false,
     "start_time": "2022-08-31T23:49:09.584936",
     "status": "completed"
    },
    "tags": []
   },
   "source": [
    "# *Feature selection*"
   ]
  },
  {
   "cell_type": "markdown",
   "id": "44c48edd",
   "metadata": {
    "papermill": {
     "duration": 0.015845,
     "end_time": "2022-08-31T23:49:09.632982",
     "exception": false,
     "start_time": "2022-08-31T23:49:09.617137",
     "status": "completed"
    },
    "tags": []
   },
   "source": [
    "## Por correlaçao com o alvo "
   ]
  },
  {
   "cell_type": "code",
   "execution_count": 10,
   "id": "d6cd98d8",
   "metadata": {
    "execution": {
     "iopub.execute_input": "2022-08-31T23:49:09.668475Z",
     "iopub.status.busy": "2022-08-31T23:49:09.667423Z",
     "iopub.status.idle": "2022-08-31T23:49:09.671973Z",
     "shell.execute_reply": "2022-08-31T23:49:09.671102Z"
    },
    "papermill": {
     "duration": 0.024818,
     "end_time": "2022-08-31T23:49:09.674113",
     "exception": false,
     "start_time": "2022-08-31T23:49:09.649295",
     "status": "completed"
    },
    "tags": []
   },
   "outputs": [],
   "source": [
    "# correlated_features = df_playoffs.corrwith(df_playoffs['winorlose']).sort_values(ascending=False)[1:21]"
   ]
  },
  {
   "cell_type": "markdown",
   "id": "7ba39b0a",
   "metadata": {
    "papermill": {
     "duration": 0.015963,
     "end_time": "2022-08-31T23:49:09.706434",
     "exception": false,
     "start_time": "2022-08-31T23:49:09.690471",
     "status": "completed"
    },
    "tags": []
   },
   "source": [
    "## Treino e teste"
   ]
  },
  {
   "cell_type": "code",
   "execution_count": 11,
   "id": "41329bbb",
   "metadata": {
    "execution": {
     "iopub.execute_input": "2022-08-31T23:49:09.741197Z",
     "iopub.status.busy": "2022-08-31T23:49:09.740728Z",
     "iopub.status.idle": "2022-08-31T23:49:09.761427Z",
     "shell.execute_reply": "2022-08-31T23:49:09.760152Z"
    },
    "papermill": {
     "duration": 0.041325,
     "end_time": "2022-08-31T23:49:09.764031",
     "exception": false,
     "start_time": "2022-08-31T23:49:09.722706",
     "status": "completed"
    },
    "tags": []
   },
   "outputs": [],
   "source": [
    "from sklearn.model_selection import train_test_split"
   ]
  },
  {
   "cell_type": "code",
   "execution_count": 12,
   "id": "f10d7ef7",
   "metadata": {
    "execution": {
     "iopub.execute_input": "2022-08-31T23:49:09.798857Z",
     "iopub.status.busy": "2022-08-31T23:49:09.798397Z",
     "iopub.status.idle": "2022-08-31T23:49:09.806822Z",
     "shell.execute_reply": "2022-08-31T23:49:09.805673Z"
    },
    "papermill": {
     "duration": 0.028648,
     "end_time": "2022-08-31T23:49:09.809309",
     "exception": false,
     "start_time": "2022-08-31T23:49:09.780661",
     "status": "completed"
    },
    "tags": []
   },
   "outputs": [],
   "source": [
    "# df_train = df_playoffs[df_playoffs['gs_year'] <= 2017]\n",
    "# df_test =  df_playoffs[df_playoffs['gs_year'] > 2017]\n",
    "df_train = df_playoffs.copy()\n",
    "df_train.sort_values('gs_year', ascending=True, inplace=True)"
   ]
  },
  {
   "cell_type": "code",
   "execution_count": 13,
   "id": "e60861d0",
   "metadata": {
    "execution": {
     "iopub.execute_input": "2022-08-31T23:49:09.843628Z",
     "iopub.status.busy": "2022-08-31T23:49:09.843186Z",
     "iopub.status.idle": "2022-08-31T23:49:09.850756Z",
     "shell.execute_reply": "2022-08-31T23:49:09.849592Z"
    },
    "papermill": {
     "duration": 0.027532,
     "end_time": "2022-08-31T23:49:09.853225",
     "exception": false,
     "start_time": "2022-08-31T23:49:09.825693",
     "status": "completed"
    },
    "tags": []
   },
   "outputs": [],
   "source": [
    "x = df_train.drop(TARGET_FEATURE, axis=1)\n",
    "y = df_train[TARGET_FEATURE]"
   ]
  },
  {
   "cell_type": "code",
   "execution_count": 14,
   "id": "393ab2d1",
   "metadata": {
    "execution": {
     "iopub.execute_input": "2022-08-31T23:49:09.888362Z",
     "iopub.status.busy": "2022-08-31T23:49:09.887547Z",
     "iopub.status.idle": "2022-08-31T23:49:09.895598Z",
     "shell.execute_reply": "2022-08-31T23:49:09.894454Z"
    },
    "papermill": {
     "duration": 0.028565,
     "end_time": "2022-08-31T23:49:09.898160",
     "exception": false,
     "start_time": "2022-08-31T23:49:09.869595",
     "status": "completed"
    },
    "tags": []
   },
   "outputs": [],
   "source": [
    "x_train, x_test, y_train, y_test = train_test_split(x, y, test_size=0.1, random_state=RANDOM_STATE, shuffle=False)"
   ]
  },
  {
   "cell_type": "code",
   "execution_count": 15,
   "id": "91df1470",
   "metadata": {
    "execution": {
     "iopub.execute_input": "2022-08-31T23:49:09.933020Z",
     "iopub.status.busy": "2022-08-31T23:49:09.931977Z",
     "iopub.status.idle": "2022-08-31T23:49:09.938331Z",
     "shell.execute_reply": "2022-08-31T23:49:09.937266Z"
    },
    "papermill": {
     "duration": 0.026524,
     "end_time": "2022-08-31T23:49:09.940936",
     "exception": false,
     "start_time": "2022-08-31T23:49:09.914412",
     "status": "completed"
    },
    "tags": []
   },
   "outputs": [
    {
     "name": "stdout",
     "output_type": "stream",
     "text": [
      "Treino\n",
      "\tx: (520, 259)\n",
      "\ty: (520,)\n",
      "Teste\n",
      "\tx: (58, 259)\n",
      "\ty: (58,)\n",
      "Target no treino: False\n",
      "Target no teste: False\n"
     ]
    }
   ],
   "source": [
    "print(f'Treino\\n\\tx: {x_train.shape}\\n\\ty: {y_train.shape}')\n",
    "print(f'Teste\\n\\tx: {x_test.shape}\\n\\ty: {y_test.shape}')\n",
    "print(f'Target no treino: {TARGET_FEATURE in x_train.columns}')\n",
    "print(f'Target no teste: {TARGET_FEATURE in x_test.columns}')"
   ]
  },
  {
   "cell_type": "markdown",
   "id": "ef1968a1",
   "metadata": {
    "papermill": {
     "duration": 0.016669,
     "end_time": "2022-08-31T23:49:09.974373",
     "exception": false,
     "start_time": "2022-08-31T23:49:09.957704",
     "status": "completed"
    },
    "tags": []
   },
   "source": [
    "# Pipeline para limpeza e *scaling*"
   ]
  },
  {
   "cell_type": "code",
   "execution_count": 16,
   "id": "f4bc1f03",
   "metadata": {
    "execution": {
     "iopub.execute_input": "2022-08-31T23:49:10.009617Z",
     "iopub.status.busy": "2022-08-31T23:49:10.008847Z",
     "iopub.status.idle": "2022-08-31T23:49:10.156671Z",
     "shell.execute_reply": "2022-08-31T23:49:10.155207Z"
    },
    "papermill": {
     "duration": 0.168637,
     "end_time": "2022-08-31T23:49:10.159567",
     "exception": false,
     "start_time": "2022-08-31T23:49:09.990930",
     "status": "completed"
    },
    "tags": []
   },
   "outputs": [],
   "source": [
    "from sklearn.pipeline import make_pipeline, FeatureUnion\n",
    "from sklearn.preprocessing import RobustScaler, OrdinalEncoder\n",
    "from sklearn.compose import make_column_transformer, make_column_selector\n",
    "from sklearn.impute import SimpleImputer"
   ]
  },
  {
   "cell_type": "code",
   "execution_count": 17,
   "id": "8567ea6e",
   "metadata": {
    "execution": {
     "iopub.execute_input": "2022-08-31T23:49:10.194177Z",
     "iopub.status.busy": "2022-08-31T23:49:10.193723Z",
     "iopub.status.idle": "2022-08-31T23:49:10.199808Z",
     "shell.execute_reply": "2022-08-31T23:49:10.198888Z"
    },
    "papermill": {
     "duration": 0.025905,
     "end_time": "2022-08-31T23:49:10.201941",
     "exception": false,
     "start_time": "2022-08-31T23:49:10.176036",
     "status": "completed"
    },
    "tags": []
   },
   "outputs": [],
   "source": [
    "preprocess_pipeline = make_column_transformer(\n",
    "    (SimpleImputer(strategy='mean', fill_value='constant'), make_column_selector(dtype_include=np.number)),\n",
    "    (OrdinalEncoder(handle_unknown='use_encoded_value', unknown_value=-1), make_column_selector(dtype_include=object))\n",
    ")"
   ]
  },
  {
   "cell_type": "markdown",
   "id": "3ca29b6f",
   "metadata": {
    "papermill": {
     "duration": 0.015938,
     "end_time": "2022-08-31T23:49:10.234384",
     "exception": false,
     "start_time": "2022-08-31T23:49:10.218446",
     "status": "completed"
    },
    "tags": []
   },
   "source": [
    "# Funçoes auxiliares\n",
    "   - Gerar prediçoes\n",
    "   - Gerar, salvar e ler hiperparametros\n",
    "   - Mostrar *feature importances*"
   ]
  },
  {
   "cell_type": "code",
   "execution_count": 18,
   "id": "8a30f4dc",
   "metadata": {
    "execution": {
     "iopub.execute_input": "2022-08-31T23:49:10.268986Z",
     "iopub.status.busy": "2022-08-31T23:49:10.268487Z",
     "iopub.status.idle": "2022-08-31T23:49:10.275410Z",
     "shell.execute_reply": "2022-08-31T23:49:10.274604Z"
    },
    "papermill": {
     "duration": 0.02677,
     "end_time": "2022-08-31T23:49:10.277380",
     "exception": false,
     "start_time": "2022-08-31T23:49:10.250610",
     "status": "completed"
    },
    "tags": []
   },
   "outputs": [],
   "source": [
    "def generate_predictions(\n",
    "    clf, clf_name: str, \n",
    "    x_train: pd.DataFrame = x_train, y_train: pd.DataFrame = y_train,\n",
    "    x_test: pd.DataFrame = x_test, y_test: pd.DataFrame = y_test,\n",
    "    fit_params: dict = {}\n",
    "):\n",
    "    model = make_pipeline(\n",
    "        preprocess_pipeline,\n",
    "        RobustScaler(),\n",
    "        clf\n",
    "    )\n",
    "    model.fit(x_train, y_train, **fit_params)\n",
    "    \n",
    "    pred = model.predict(x_test)\n",
    "    pred = [0 if p <= 0.5 else 1 for p in pred]\n",
    "\n",
    "    scores = calculate_scores(clf_name, y_test, pred)\n",
    "    \n",
    "    return scores, model"
   ]
  },
  {
   "cell_type": "code",
   "execution_count": 19,
   "id": "17881da6",
   "metadata": {
    "execution": {
     "iopub.execute_input": "2022-08-31T23:49:10.312498Z",
     "iopub.status.busy": "2022-08-31T23:49:10.311465Z",
     "iopub.status.idle": "2022-08-31T23:49:10.319107Z",
     "shell.execute_reply": "2022-08-31T23:49:10.318015Z"
    },
    "papermill": {
     "duration": 0.027557,
     "end_time": "2022-08-31T23:49:10.321413",
     "exception": false,
     "start_time": "2022-08-31T23:49:10.293856",
     "status": "completed"
    },
    "tags": []
   },
   "outputs": [],
   "source": [
    "from sklearn.model_selection import RandomizedSearchCV\n",
    "\n",
    "def save_hyperparameters(name: str, grid: RandomizedSearchCV):\n",
    "    grid_info = {\n",
    "        name: {**grid.best_params_, 'best_score': grid.best_score_}\n",
    "    }\n",
    "\n",
    "    filename = 'hyperparameters.json'\n",
    "    if not os.path.exists(filename):\n",
    "        with open(filename, 'w') as file: \n",
    "            file.write('{}')\n",
    "        data = {}\n",
    "    else:\n",
    "        with open(filename, 'r') as file:\n",
    "            data = json.loads(file.read())\n",
    "\n",
    "    data.update(grid_info)\n",
    "\n",
    "    with open(filename, 'w') as file:\n",
    "        json.dump(data, file)"
   ]
  },
  {
   "cell_type": "code",
   "execution_count": 20,
   "id": "5b093313",
   "metadata": {
    "execution": {
     "iopub.execute_input": "2022-08-31T23:49:10.356687Z",
     "iopub.status.busy": "2022-08-31T23:49:10.355900Z",
     "iopub.status.idle": "2022-08-31T23:49:10.362180Z",
     "shell.execute_reply": "2022-08-31T23:49:10.361287Z"
    },
    "papermill": {
     "duration": 0.026841,
     "end_time": "2022-08-31T23:49:10.364512",
     "exception": false,
     "start_time": "2022-08-31T23:49:10.337671",
     "status": "completed"
    },
    "tags": []
   },
   "outputs": [],
   "source": [
    "def read_hyperparameters() -> dict:\n",
    "    filename = 'hyperparameters.json'\n",
    "    if not os.path.exists(filename):\n",
    "        with open(filename, 'w') as file: \n",
    "            file.write('{}')\n",
    "        data = {}\n",
    "    else:\n",
    "        with open(filename, 'r') as file:\n",
    "            data = json.loads(file.read())\n",
    "\n",
    "    return data"
   ]
  },
  {
   "cell_type": "code",
   "execution_count": 21,
   "id": "bc13a579",
   "metadata": {
    "execution": {
     "iopub.execute_input": "2022-08-31T23:49:10.399814Z",
     "iopub.status.busy": "2022-08-31T23:49:10.399042Z",
     "iopub.status.idle": "2022-08-31T23:49:10.406365Z",
     "shell.execute_reply": "2022-08-31T23:49:10.405214Z"
    },
    "papermill": {
     "duration": 0.027876,
     "end_time": "2022-08-31T23:49:10.408900",
     "exception": false,
     "start_time": "2022-08-31T23:49:10.381024",
     "status": "completed"
    },
    "tags": []
   },
   "outputs": [],
   "source": [
    "def generate_hyperparameters(\n",
    "    clf, clf_name: str,\n",
    "    x_train: pd.DataFrame = x_train, \n",
    "    y_train: pd.DataFrame = y_train,\n",
    "    *,\n",
    "    params_grid: dict,\n",
    "    fit_params: dict = {}\n",
    "):\n",
    "\n",
    "    grid = RandomizedSearchCV(\n",
    "        estimator=clf,\n",
    "        param_distributions=params_grid,\n",
    "        scoring='balanced_accuracy',\n",
    "        n_iter=100,\n",
    "        cv=5,\n",
    "        verbose=2,\n",
    "        random_state=RANDOM_STATE,\n",
    "        n_jobs=-1\n",
    "    )\n",
    "\n",
    "    model = make_pipeline(\n",
    "        preprocess_pipeline,\n",
    "        RobustScaler(),\n",
    "        grid\n",
    "    )\n",
    "    model.fit(x_train, y_train, **fit_params)\n",
    "\n",
    "    save_hyperparameters(clf_name, model[-1])\n",
    "\n",
    "    return grid"
   ]
  },
  {
   "cell_type": "code",
   "execution_count": 22,
   "id": "7fd7c747",
   "metadata": {
    "execution": {
     "iopub.execute_input": "2022-08-31T23:49:10.444078Z",
     "iopub.status.busy": "2022-08-31T23:49:10.443321Z",
     "iopub.status.idle": "2022-08-31T23:49:10.449212Z",
     "shell.execute_reply": "2022-08-31T23:49:10.448230Z"
    },
    "papermill": {
     "duration": 0.026207,
     "end_time": "2022-08-31T23:49:10.451516",
     "exception": false,
     "start_time": "2022-08-31T23:49:10.425309",
     "status": "completed"
    },
    "tags": []
   },
   "outputs": [],
   "source": [
    "def get_feature_importances(clf, x_train: pd.DataFrame) -> pd.DataFrame:\n",
    "    assert hasattr(clf, 'feature_importances_')\n",
    "\n",
    "    importances = clf.feature_importances_\n",
    "    features = x_train.columns\n",
    "\n",
    "    feature_importances = pd.DataFrame({'feature': features, 'importance': importances})\n",
    "\n",
    "    return feature_importances"
   ]
  },
  {
   "cell_type": "markdown",
   "id": "df3b9afb",
   "metadata": {
    "papermill": {
     "duration": 0.016131,
     "end_time": "2022-08-31T23:49:10.484380",
     "exception": false,
     "start_time": "2022-08-31T23:49:10.468249",
     "status": "completed"
    },
    "tags": []
   },
   "source": [
    "# Random Forest Classifier"
   ]
  },
  {
   "cell_type": "code",
   "execution_count": 23,
   "id": "c83305b9",
   "metadata": {
    "execution": {
     "iopub.execute_input": "2022-08-31T23:49:10.519156Z",
     "iopub.status.busy": "2022-08-31T23:49:10.518691Z",
     "iopub.status.idle": "2022-08-31T23:49:10.620635Z",
     "shell.execute_reply": "2022-08-31T23:49:10.619340Z"
    },
    "papermill": {
     "duration": 0.122837,
     "end_time": "2022-08-31T23:49:10.623498",
     "exception": false,
     "start_time": "2022-08-31T23:49:10.500661",
     "status": "completed"
    },
    "tags": []
   },
   "outputs": [],
   "source": [
    "from sklearn.ensemble import RandomForestClassifier"
   ]
  },
  {
   "cell_type": "markdown",
   "id": "86992092",
   "metadata": {
    "papermill": {
     "duration": 0.016147,
     "end_time": "2022-08-31T23:49:10.656476",
     "exception": false,
     "start_time": "2022-08-31T23:49:10.640329",
     "status": "completed"
    },
    "tags": []
   },
   "source": [
    "## Básico "
   ]
  },
  {
   "cell_type": "code",
   "execution_count": 24,
   "id": "66d7f9e9",
   "metadata": {
    "execution": {
     "iopub.execute_input": "2022-08-31T23:49:10.690993Z",
     "iopub.status.busy": "2022-08-31T23:49:10.690552Z",
     "iopub.status.idle": "2022-08-31T23:49:10.698720Z",
     "shell.execute_reply": "2022-08-31T23:49:10.697813Z"
    },
    "papermill": {
     "duration": 0.027964,
     "end_time": "2022-08-31T23:49:10.700791",
     "exception": false,
     "start_time": "2022-08-31T23:49:10.672827",
     "status": "completed"
    },
    "tags": []
   },
   "outputs": [
    {
     "data": {
      "text/plain": [
       "(array([1970, 1971, 1972, 1973, 1974, 1975, 1976, 1977, 1978, 1979, 1980,\n",
       "        1981, 1982, 1983, 1984, 1985, 1986, 1987, 1988, 1989, 1990, 1991,\n",
       "        1992, 1993, 1994, 1995, 1996, 1997, 1998, 1999, 2000, 2001, 2002,\n",
       "        2003, 2004, 2005, 2006, 2007, 2008, 2009, 2010, 2011, 2012, 2013,\n",
       "        2014, 2015, 2016, 2017]),\n",
       " array([2017, 2018, 2019, 2020, 2021]))"
      ]
     },
     "execution_count": 24,
     "metadata": {},
     "output_type": "execute_result"
    }
   ],
   "source": [
    "x_train['gs_year'].unique(), x_test['gs_year'].unique()"
   ]
  },
  {
   "cell_type": "code",
   "execution_count": 25,
   "id": "4c3c1126",
   "metadata": {
    "execution": {
     "iopub.execute_input": "2022-08-31T23:49:10.735982Z",
     "iopub.status.busy": "2022-08-31T23:49:10.735534Z",
     "iopub.status.idle": "2022-08-31T23:49:11.530548Z",
     "shell.execute_reply": "2022-08-31T23:49:11.529408Z"
    },
    "papermill": {
     "duration": 0.81558,
     "end_time": "2022-08-31T23:49:11.533084",
     "exception": false,
     "start_time": "2022-08-31T23:49:10.717504",
     "status": "completed"
    },
    "tags": []
   },
   "outputs": [
    {
     "data": {
      "text/plain": [
       "<sklearn.metrics._plot.confusion_matrix.ConfusionMatrixDisplay at 0x7f2fbadc4c90>"
      ]
     },
     "metadata": {},
     "output_type": "display_data"
    },
    {
     "data": {
      "text/html": [
       "<div>\n",
       "<style scoped>\n",
       "    .dataframe tbody tr th:only-of-type {\n",
       "        vertical-align: middle;\n",
       "    }\n",
       "\n",
       "    .dataframe tbody tr th {\n",
       "        vertical-align: top;\n",
       "    }\n",
       "\n",
       "    .dataframe thead th {\n",
       "        text-align: right;\n",
       "    }\n",
       "</style>\n",
       "<table border=\"1\" class=\"dataframe\">\n",
       "  <thead>\n",
       "    <tr style=\"text-align: right;\">\n",
       "      <th></th>\n",
       "      <th>model_name</th>\n",
       "      <th>acc</th>\n",
       "      <th>bacc</th>\n",
       "      <th>precision</th>\n",
       "      <th>recall</th>\n",
       "    </tr>\n",
       "  </thead>\n",
       "  <tbody>\n",
       "    <tr>\n",
       "      <th>0</th>\n",
       "      <td>rfc_basic</td>\n",
       "      <td>0.568966</td>\n",
       "      <td>0.504848</td>\n",
       "      <td>0.5</td>\n",
       "      <td>0.04</td>\n",
       "    </tr>\n",
       "  </tbody>\n",
       "</table>\n",
       "</div>"
      ],
      "text/plain": [
       "  model_name       acc      bacc  precision  recall\n",
       "0  rfc_basic  0.568966  0.504848        0.5    0.04"
      ]
     },
     "metadata": {},
     "output_type": "display_data"
    },
    {
     "data": {
      "image/png": "[encoded data removed]",
      "text/plain": [
       "<Figure size 432x288 with 2 Axes>"
      ]
     },
     "metadata": {
      "needs_background": "light"
     },
     "output_type": "display_data"
    }
   ],
   "source": [
    "rfc = RandomForestClassifier(random_state=RANDOM_STATE)\n",
    "rfc_scores, rfc_pipeline = generate_predictions(rfc, 'rfc_basic')"
   ]
  },
  {
   "cell_type": "code",
   "execution_count": 26,
   "id": "a1f11589",
   "metadata": {
    "execution": {
     "iopub.execute_input": "2022-08-31T23:49:11.570375Z",
     "iopub.status.busy": "2022-08-31T23:49:11.569946Z",
     "iopub.status.idle": "2022-08-31T23:49:11.610228Z",
     "shell.execute_reply": "2022-08-31T23:49:11.608946Z"
    },
    "papermill": {
     "duration": 0.061798,
     "end_time": "2022-08-31T23:49:11.612943",
     "exception": false,
     "start_time": "2022-08-31T23:49:11.551145",
     "status": "completed"
    },
    "tags": []
   },
   "outputs": [
    {
     "data": {
      "text/html": [
       "<div>\n",
       "<style scoped>\n",
       "    .dataframe tbody tr th:only-of-type {\n",
       "        vertical-align: middle;\n",
       "    }\n",
       "\n",
       "    .dataframe tbody tr th {\n",
       "        vertical-align: top;\n",
       "    }\n",
       "\n",
       "    .dataframe thead th {\n",
       "        text-align: right;\n",
       "    }\n",
       "</style>\n",
       "<table border=\"1\" class=\"dataframe\">\n",
       "  <thead>\n",
       "    <tr style=\"text-align: right;\">\n",
       "      <th></th>\n",
       "      <th>feature</th>\n",
       "      <th>importance</th>\n",
       "    </tr>\n",
       "  </thead>\n",
       "  <tbody>\n",
       "    <tr>\n",
       "      <th>10</th>\n",
       "      <td>hts_wins</td>\n",
       "      <td>0.014017</td>\n",
       "    </tr>\n",
       "    <tr>\n",
       "      <th>44</th>\n",
       "      <td>hts_score_pct</td>\n",
       "      <td>0.012520</td>\n",
       "    </tr>\n",
       "    <tr>\n",
       "      <th>15</th>\n",
       "      <td>hts_points_opp</td>\n",
       "      <td>0.012175</td>\n",
       "    </tr>\n",
       "    <tr>\n",
       "      <th>13</th>\n",
       "      <td>hts_win_loss_perc</td>\n",
       "      <td>0.011645</td>\n",
       "    </tr>\n",
       "    <tr>\n",
       "      <th>62</th>\n",
       "      <td>hts_exp_pts_pass</td>\n",
       "      <td>0.010897</td>\n",
       "    </tr>\n",
       "    <tr>\n",
       "      <th>...</th>\n",
       "      <td>...</td>\n",
       "      <td>...</td>\n",
       "    </tr>\n",
       "    <tr>\n",
       "      <th>105</th>\n",
       "      <td>hts_rushtd</td>\n",
       "      <td>0.000193</td>\n",
       "    </tr>\n",
       "    <tr>\n",
       "      <th>16</th>\n",
       "      <td>hts_points_diff</td>\n",
       "      <td>0.000165</td>\n",
       "    </tr>\n",
       "    <tr>\n",
       "      <th>141</th>\n",
       "      <td>ats_points_diff</td>\n",
       "      <td>0.000028</td>\n",
       "    </tr>\n",
       "    <tr>\n",
       "      <th>109</th>\n",
       "      <td>hts_frtd</td>\n",
       "      <td>0.000000</td>\n",
       "    </tr>\n",
       "    <tr>\n",
       "      <th>234</th>\n",
       "      <td>ats_frtd</td>\n",
       "      <td>0.000000</td>\n",
       "    </tr>\n",
       "  </tbody>\n",
       "</table>\n",
       "<p>259 rows × 2 columns</p>\n",
       "</div>"
      ],
      "text/plain": [
       "               feature  importance\n",
       "10            hts_wins    0.014017\n",
       "44       hts_score_pct    0.012520\n",
       "15      hts_points_opp    0.012175\n",
       "13   hts_win_loss_perc    0.011645\n",
       "62    hts_exp_pts_pass    0.010897\n",
       "..                 ...         ...\n",
       "105         hts_rushtd    0.000193\n",
       "16     hts_points_diff    0.000165\n",
       "141    ats_points_diff    0.000028\n",
       "109           hts_frtd    0.000000\n",
       "234           ats_frtd    0.000000\n",
       "\n",
       "[259 rows x 2 columns]"
      ]
     },
     "execution_count": 26,
     "metadata": {},
     "output_type": "execute_result"
    }
   ],
   "source": [
    "get_feature_importances(rfc, x_train).sort_values('importance', ascending=False)"
   ]
  },
  {
   "cell_type": "markdown",
   "id": "d5c25037",
   "metadata": {
    "papermill": {
     "duration": 0.016795,
     "end_time": "2022-08-31T23:49:11.647268",
     "exception": false,
     "start_time": "2022-08-31T23:49:11.630473",
     "status": "completed"
    },
    "tags": []
   },
   "source": [
    "## n_estimators=500, criterion='entropy', max_features='sqrt'"
   ]
  },
  {
   "cell_type": "code",
   "execution_count": 27,
   "id": "de199afd",
   "metadata": {
    "execution": {
     "iopub.execute_input": "2022-08-31T23:49:11.683491Z",
     "iopub.status.busy": "2022-08-31T23:49:11.683102Z",
     "iopub.status.idle": "2022-08-31T23:49:14.674034Z",
     "shell.execute_reply": "2022-08-31T23:49:14.673158Z"
    },
    "papermill": {
     "duration": 3.012296,
     "end_time": "2022-08-31T23:49:14.676657",
     "exception": false,
     "start_time": "2022-08-31T23:49:11.664361",
     "status": "completed"
    },
    "tags": []
   },
   "outputs": [
    {
     "name": "stderr",
     "output_type": "stream",
     "text": [
      "/opt/conda/lib/python3.7/site-packages/sklearn/metrics/_classification.py:1318: UndefinedMetricWarning: Precision is ill-defined and being set to 0.0 due to no predicted samples. Use `zero_division` parameter to control this behavior.\n",
      "  _warn_prf(average, modifier, msg_start, len(result))\n"
     ]
    },
    {
     "data": {
      "text/plain": [
       "<sklearn.metrics._plot.confusion_matrix.ConfusionMatrixDisplay at 0x7f2fbafffad0>"
      ]
     },
     "metadata": {},
     "output_type": "display_data"
    },
    {
     "data": {
      "text/html": [
       "<div>\n",
       "<style scoped>\n",
       "    .dataframe tbody tr th:only-of-type {\n",
       "        vertical-align: middle;\n",
       "    }\n",
       "\n",
       "    .dataframe tbody tr th {\n",
       "        vertical-align: top;\n",
       "    }\n",
       "\n",
       "    .dataframe thead th {\n",
       "        text-align: right;\n",
       "    }\n",
       "</style>\n",
       "<table border=\"1\" class=\"dataframe\">\n",
       "  <thead>\n",
       "    <tr style=\"text-align: right;\">\n",
       "      <th></th>\n",
       "      <th>model_name</th>\n",
       "      <th>acc</th>\n",
       "      <th>bacc</th>\n",
       "      <th>precision</th>\n",
       "      <th>recall</th>\n",
       "    </tr>\n",
       "  </thead>\n",
       "  <tbody>\n",
       "    <tr>\n",
       "      <th>0</th>\n",
       "      <td>rfc_basic</td>\n",
       "      <td>0.568966</td>\n",
       "      <td>0.504848</td>\n",
       "      <td>0.5</td>\n",
       "      <td>0.04</td>\n",
       "    </tr>\n",
       "    <tr>\n",
       "      <th>1</th>\n",
       "      <td>rfc_tuned</td>\n",
       "      <td>0.568966</td>\n",
       "      <td>0.500000</td>\n",
       "      <td>0.0</td>\n",
       "      <td>0.00</td>\n",
       "    </tr>\n",
       "  </tbody>\n",
       "</table>\n",
       "</div>"
      ],
      "text/plain": [
       "  model_name       acc      bacc  precision  recall\n",
       "0  rfc_basic  0.568966  0.504848        0.5    0.04\n",
       "1  rfc_tuned  0.568966  0.500000        0.0    0.00"
      ]
     },
     "metadata": {},
     "output_type": "display_data"
    },
    {
     "data": {
      "image/png": "[encoded data removed]",
      "text/plain": [
       "<Figure size 432x288 with 2 Axes>"
      ]
     },
     "metadata": {
      "needs_background": "light"
     },
     "output_type": "display_data"
    }
   ],
   "source": [
    "rfc_tuned = RandomForestClassifier(n_estimators=500, criterion='entropy', max_features='sqrt', random_state=RANDOM_STATE)\n",
    "rfc_tuned_scores, rfc_tuned_pipeline = generate_predictions(rfc_tuned, 'rfc_tuned')"
   ]
  },
  {
   "cell_type": "markdown",
   "id": "220cdf48",
   "metadata": {
    "papermill": {
     "duration": 0.017585,
     "end_time": "2022-08-31T23:49:14.712487",
     "exception": false,
     "start_time": "2022-08-31T23:49:14.694902",
     "status": "completed"
    },
    "tags": []
   },
   "source": [
    "## GridSearch "
   ]
  },
  {
   "cell_type": "code",
   "execution_count": 28,
   "id": "1a3d7ad9",
   "metadata": {
    "execution": {
     "iopub.execute_input": "2022-08-31T23:49:14.751710Z",
     "iopub.status.busy": "2022-08-31T23:49:14.751305Z",
     "iopub.status.idle": "2022-08-31T23:49:14.757708Z",
     "shell.execute_reply": "2022-08-31T23:49:14.756741Z"
    },
    "papermill": {
     "duration": 0.028818,
     "end_time": "2022-08-31T23:49:14.759796",
     "exception": false,
     "start_time": "2022-08-31T23:49:14.730978",
     "status": "completed"
    },
    "tags": []
   },
   "outputs": [],
   "source": [
    "n_estimators = [50, 100, 250, 500]\n",
    "max_features = ['auto', 'sqrt']\n",
    "max_depth = [10, 25, 50, 100]\n",
    "max_depth.append(None)\n",
    "min_samples_split = [2, 5, 10]\n",
    "min_samples_leaf = [1, 2, 4]\n",
    "bootstrap = [True, False]\n",
    "\n",
    "rfc_param_grid = {\n",
    "    'n_estimators': n_estimators,\n",
    "    'max_features': max_features,\n",
    "    'max_depth': max_depth,\n",
    "    'min_samples_split': min_samples_split,\n",
    "    'min_samples_leaf': min_samples_leaf,\n",
    "    'bootstrap': bootstrap\n",
    "}"
   ]
  },
  {
   "cell_type": "code",
   "execution_count": 29,
   "id": "d5026cb8",
   "metadata": {
    "collapsed": true,
    "execution": {
     "iopub.execute_input": "2022-08-31T23:49:14.798659Z",
     "iopub.status.busy": "2022-08-31T23:49:14.797758Z",
     "iopub.status.idle": "2022-08-31T23:52:14.656088Z",
     "shell.execute_reply": "2022-08-31T23:52:14.654637Z"
    },
    "jupyter": {
     "outputs_hidden": true
    },
    "papermill": {
     "duration": 179.881078,
     "end_time": "2022-08-31T23:52:14.659479",
     "exception": false,
     "start_time": "2022-08-31T23:49:14.778401",
     "status": "completed"
    },
    "tags": []
   },
   "outputs": [
    {
     "name": "stdout",
     "output_type": "stream",
     "text": [
      "Fitting 5 folds for each of 100 candidates, totalling 500 fits\n",
      "[CV] END bootstrap=True, max_depth=100, max_features=sqrt, min_samples_leaf=2, min_samples_split=5, n_estimators=100; total time=   0.6s\n",
      "[CV] END bootstrap=True, max_depth=50, max_features=auto, min_samples_leaf=4, min_samples_split=5, n_estimators=50; total time=   0.3s\n",
      "[CV] END bootstrap=True, max_depth=50, max_features=auto, min_samples_leaf=4, min_samples_split=5, n_estimators=50; total time=   0.3s\n",
      "[CV] END bootstrap=True, max_depth=100, max_features=sqrt, min_samples_leaf=4, min_samples_split=10, n_estimators=50; total time=   0.3s\n",
      "[CV] END bootstrap=True, max_depth=None, max_features=sqrt, min_samples_leaf=4, min_samples_split=10, n_estimators=100; total time=   0.5s\n",
      "[CV] END bootstrap=True, max_depth=25, max_features=auto, min_samples_leaf=1, min_samples_split=5, n_estimators=100; total time=   0.6s\n",
      "[CV] END bootstrap=True, max_depth=25, max_features=auto, min_samples_leaf=1, min_samples_split=5, n_estimators=100; total time=   0.6s\n",
      "[CV] END bootstrap=True, max_depth=10, max_features=sqrt, min_samples_leaf=4, min_samples_split=5, n_estimators=500; total time=   2.8s\n",
      "[CV] END bootstrap=False, max_depth=None, max_features=sqrt, min_samples_leaf=4, min_samples_split=5, n_estimators=50; total time=   0.3s\n",
      "[CV] END bootstrap=False, max_depth=None, max_features=sqrt, min_samples_leaf=4, min_samples_split=5, n_estimators=50; total time=   0.3s\n",
      "[CV] END bootstrap=True, max_depth=50, max_features=auto, min_samples_leaf=2, min_samples_split=10, n_estimators=250; total time=   1.6s\n",
      "[CV] END bootstrap=True, max_depth=None, max_features=sqrt, min_samples_leaf=4, min_samples_split=2, n_estimators=500; total time=   2.7s\n",
      "[CV] END bootstrap=True, max_depth=None, max_features=sqrt, min_samples_leaf=4, min_samples_split=2, n_estimators=500; total time=   2.5s\n",
      "[CV] END bootstrap=False, max_depth=100, max_features=sqrt, min_samples_leaf=4, min_samples_split=10, n_estimators=500; total time=   3.1s\n",
      "[CV] END bootstrap=False, max_depth=None, max_features=sqrt, min_samples_leaf=4, min_samples_split=10, n_estimators=500; total time=   3.0s\n",
      "[CV] END bootstrap=False, max_depth=50, max_features=sqrt, min_samples_leaf=4, min_samples_split=10, n_estimators=500; total time=   3.1s\n",
      "[CV] END bootstrap=False, max_depth=10, max_features=auto, min_samples_leaf=4, min_samples_split=5, n_estimators=50; total time=   0.3s\n",
      "[CV] END bootstrap=False, max_depth=10, max_features=auto, min_samples_leaf=4, min_samples_split=5, n_estimators=50; total time=   0.3s\n",
      "[CV] END bootstrap=False, max_depth=10, max_features=auto, min_samples_leaf=4, min_samples_split=5, n_estimators=50; total time=   0.3s\n",
      "[CV] END bootstrap=False, max_depth=10, max_features=auto, min_samples_leaf=4, min_samples_split=5, n_estimators=50; total time=   0.3s\n",
      "[CV] END bootstrap=False, max_depth=10, max_features=auto, min_samples_leaf=4, min_samples_split=5, n_estimators=50; total time=   0.3s\n",
      "[CV] END bootstrap=True, max_depth=100, max_features=sqrt, min_samples_leaf=2, min_samples_split=2, n_estimators=500; total time=   2.7s\n",
      "[CV] END bootstrap=True, max_depth=100, max_features=sqrt, min_samples_leaf=2, min_samples_split=2, n_estimators=500; total time=   2.7s\n",
      "[CV] END bootstrap=False, max_depth=50, max_features=sqrt, min_samples_leaf=2, min_samples_split=2, n_estimators=500; total time=   3.4s\n",
      "[CV] END bootstrap=True, max_depth=10, max_features=sqrt, min_samples_leaf=2, min_samples_split=10, n_estimators=500; total time=   2.5s\n",
      "[CV] END bootstrap=False, max_depth=None, max_features=sqrt, min_samples_leaf=1, min_samples_split=5, n_estimators=250; total time=   2.2s\n",
      "[CV] END bootstrap=False, max_depth=100, max_features=sqrt, min_samples_leaf=2, min_samples_split=2, n_estimators=250; total time=   1.6s\n",
      "[CV] END bootstrap=False, max_depth=100, max_features=sqrt, min_samples_leaf=2, min_samples_split=2, n_estimators=250; total time=   1.6s\n",
      "[CV] END bootstrap=True, max_depth=50, max_features=sqrt, min_samples_leaf=4, min_samples_split=2, n_estimators=50; total time=   0.3s\n",
      "[CV] END bootstrap=True, max_depth=None, max_features=sqrt, min_samples_leaf=4, min_samples_split=2, n_estimators=250; total time=   1.2s\n",
      "[CV] END bootstrap=False, max_depth=50, max_features=auto, min_samples_leaf=2, min_samples_split=2, n_estimators=50; total time=   0.3s\n",
      "[CV] END bootstrap=False, max_depth=50, max_features=auto, min_samples_leaf=2, min_samples_split=2, n_estimators=50; total time=   0.3s\n",
      "[CV] END bootstrap=True, max_depth=25, max_features=sqrt, min_samples_leaf=4, min_samples_split=2, n_estimators=250; total time=   1.3s\n",
      "[CV] END bootstrap=False, max_depth=100, max_features=auto, min_samples_leaf=1, min_samples_split=10, n_estimators=100; total time=   0.7s\n",
      "[CV] END bootstrap=False, max_depth=100, max_features=auto, min_samples_leaf=1, min_samples_split=10, n_estimators=100; total time=   0.6s\n",
      "[CV] END bootstrap=False, max_depth=25, max_features=sqrt, min_samples_leaf=1, min_samples_split=2, n_estimators=50; total time=   0.4s\n",
      "[CV] END bootstrap=True, max_depth=10, max_features=auto, min_samples_leaf=4, min_samples_split=5, n_estimators=500; total time=   2.4s\n",
      "[CV] END bootstrap=True, max_depth=None, max_features=auto, min_samples_leaf=4, min_samples_split=2, n_estimators=50; total time=   0.2s\n",
      "[CV] END bootstrap=True, max_depth=None, max_features=auto, min_samples_leaf=4, min_samples_split=2, n_estimators=50; total time=   0.2s\n",
      "[CV] END bootstrap=False, max_depth=10, max_features=sqrt, min_samples_leaf=2, min_samples_split=5, n_estimators=250; total time=   1.5s\n",
      "[CV] END bootstrap=True, max_depth=25, max_features=auto, min_samples_leaf=4, min_samples_split=2, n_estimators=100; total time=   0.5s\n",
      "[CV] END bootstrap=True, max_depth=25, max_features=auto, min_samples_leaf=4, min_samples_split=2, n_estimators=100; total time=   0.5s\n",
      "[CV] END bootstrap=True, max_depth=25, max_features=auto, min_samples_leaf=4, min_samples_split=2, n_estimators=100; total time=   0.5s\n",
      "[CV] END bootstrap=True, max_depth=100, max_features=auto, min_samples_leaf=1, min_samples_split=2, n_estimators=250; total time=   1.4s\n",
      "[CV] END bootstrap=True, max_depth=None, max_features=auto, min_samples_leaf=2, min_samples_split=2, n_estimators=250; total time=   1.3s\n",
      "[CV] END bootstrap=False, max_depth=25, max_features=auto, min_samples_leaf=2, min_samples_split=2, n_estimators=500; total time=   3.3s\n",
      "[CV] END bootstrap=False, max_depth=25, max_features=auto, min_samples_leaf=2, min_samples_split=2, n_estimators=500; total time=   3.1s\n",
      "[CV] END bootstrap=True, max_depth=25, max_features=auto, min_samples_leaf=4, min_samples_split=5, n_estimators=250; total time=   1.2s\n",
      "[CV] END bootstrap=False, max_depth=None, max_features=sqrt, min_samples_leaf=4, min_samples_split=10, n_estimators=250; total time=   1.5s\n",
      "[CV] END bootstrap=True, max_depth=100, max_features=sqrt, min_samples_leaf=4, min_samples_split=10, n_estimators=500; total time=   2.5s\n",
      "[CV] END bootstrap=True, max_depth=100, max_features=sqrt, min_samples_leaf=4, min_samples_split=10, n_estimators=500; total time=   2.9s\n",
      "[CV] END bootstrap=False, max_depth=10, max_features=auto, min_samples_leaf=4, min_samples_split=5, n_estimators=500; total time=   3.1s\n",
      "[CV] END bootstrap=True, max_depth=50, max_features=sqrt, min_samples_leaf=4, min_samples_split=5, n_estimators=500; total time=   2.5s\n",
      "[CV] END bootstrap=True, max_depth=25, max_features=sqrt, min_samples_leaf=2, min_samples_split=10, n_estimators=250; total time=   1.4s\n",
      "[CV] END bootstrap=True, max_depth=25, max_features=sqrt, min_samples_leaf=2, min_samples_split=10, n_estimators=250; total time=   1.4s\n",
      "[CV] END bootstrap=False, max_depth=25, max_features=sqrt, min_samples_leaf=2, min_samples_split=10, n_estimators=100; total time=   0.6s\n",
      "[CV] END bootstrap=True, max_depth=100, max_features=sqrt, min_samples_leaf=1, min_samples_split=5, n_estimators=500; total time=   2.8s\n",
      "[CV] END bootstrap=False, max_depth=100, max_features=sqrt, min_samples_leaf=4, min_samples_split=5, n_estimators=500; total time=   3.0s\n",
      "[CV] END bootstrap=False, max_depth=25, max_features=auto, min_samples_leaf=4, min_samples_split=5, n_estimators=100; total time=   0.6s\n",
      "[CV] END bootstrap=False, max_depth=25, max_features=auto, min_samples_leaf=4, min_samples_split=5, n_estimators=100; total time=   0.6s[CV] END bootstrap=True, max_depth=100, max_features=sqrt, min_samples_leaf=2, min_samples_split=5, n_estimators=100; total time=   0.6s\n",
      "[CV] END bootstrap=True, max_depth=100, max_features=sqrt, min_samples_leaf=2, min_samples_split=5, n_estimators=100; total time=   0.6s\n",
      "[CV] END bootstrap=True, max_depth=100, max_features=sqrt, min_samples_leaf=4, min_samples_split=10, n_estimators=50; total time=   0.3s\n",
      "[CV] END bootstrap=True, max_depth=None, max_features=sqrt, min_samples_leaf=4, min_samples_split=10, n_estimators=100; total time=   0.5s\n",
      "[CV] END bootstrap=True, max_depth=None, max_features=sqrt, min_samples_leaf=4, min_samples_split=10, n_estimators=100; total time=   0.5s\n",
      "[CV] END bootstrap=True, max_depth=25, max_features=auto, min_samples_leaf=1, min_samples_split=5, n_estimators=100; total time=   0.6s\n",
      "[CV] END bootstrap=True, max_depth=10, max_features=sqrt, min_samples_leaf=4, min_samples_split=5, n_estimators=500; total time=   2.9s\n",
      "[CV] END bootstrap=False, max_depth=None, max_features=sqrt, min_samples_leaf=4, min_samples_split=5, n_estimators=50; total time=   0.3s\n",
      "[CV] END bootstrap=True, max_depth=50, max_features=auto, min_samples_leaf=2, min_samples_split=10, n_estimators=250; total time=   1.5s\n",
      "[CV] END bootstrap=True, max_depth=50, max_features=auto, min_samples_leaf=2, min_samples_split=10, n_estimators=250; total time=   1.5s\n",
      "[CV] END bootstrap=True, max_depth=None, max_features=sqrt, min_samples_leaf=4, min_samples_split=2, n_estimators=500; total time=   2.6s\n",
      "[CV] END bootstrap=False, max_depth=None, max_features=sqrt, min_samples_leaf=2, min_samples_split=5, n_estimators=100; total time=   0.7s\n",
      "[CV] END bootstrap=False, max_depth=100, max_features=sqrt, min_samples_leaf=4, min_samples_split=10, n_estimators=500; total time=   3.1s\n",
      "[CV] END bootstrap=False, max_depth=100, max_features=sqrt, min_samples_leaf=4, min_samples_split=10, n_estimators=500; total time=   3.0s\n",
      "[CV] END bootstrap=False, max_depth=None, max_features=sqrt, min_samples_leaf=4, min_samples_split=10, n_estimators=500; total time=   3.0s\n",
      "[CV] END bootstrap=False, max_depth=50, max_features=sqrt, min_samples_leaf=4, min_samples_split=10, n_estimators=500; total time=   3.0s\n",
      "[CV] END bootstrap=True, max_depth=100, max_features=sqrt, min_samples_leaf=2, min_samples_split=2, n_estimators=500; total time=   2.7s\n",
      "[CV] END bootstrap=True, max_depth=100, max_features=sqrt, min_samples_leaf=1, min_samples_split=2, n_estimators=100; total time=   0.6s\n",
      "[CV] END bootstrap=True, max_depth=100, max_features=sqrt, min_samples_leaf=1, min_samples_split=2, n_estimators=100; total time=   0.6s\n",
      "[CV] END bootstrap=False, max_depth=50, max_features=sqrt, min_samples_leaf=2, min_samples_split=2, n_estimators=500; total time=   3.4s\n",
      "[CV] END bootstrap=False, max_depth=50, max_features=sqrt, min_samples_leaf=2, min_samples_split=2, n_estimators=500; total time=   3.2s\n",
      "[CV] END bootstrap=False, max_depth=None, max_features=sqrt, min_samples_leaf=1, min_samples_split=5, n_estimators=250; total time=   1.9s\n",
      "[CV] END bootstrap=False, max_depth=None, max_features=sqrt, min_samples_leaf=1, min_samples_split=5, n_estimators=250; total time=   1.7s\n",
      "[CV] END bootstrap=False, max_depth=100, max_features=sqrt, min_samples_leaf=2, min_samples_split=2, n_estimators=250; total time=   1.6s\n",
      "[CV] END bootstrap=True, max_depth=50, max_features=sqrt, min_samples_leaf=4, min_samples_split=2, n_estimators=50; total time=   0.3s\n",
      "[CV] END bootstrap=True, max_depth=50, max_features=sqrt, min_samples_leaf=4, min_samples_split=2, n_estimators=50; total time=   0.3s\n",
      "[CV] END bootstrap=True, max_depth=None, max_features=sqrt, min_samples_leaf=4, min_samples_split=2, n_estimators=250; total time=   1.3s\n",
      "[CV] END bootstrap=True, max_depth=None, max_features=sqrt, min_samples_leaf=4, min_samples_split=2, n_estimators=250; total time=   1.2s\n",
      "[CV] END bootstrap=True, max_depth=25, max_features=sqrt, min_samples_leaf=4, min_samples_split=2, n_estimators=250; total time=   1.2s\n",
      "[CV] END bootstrap=False, max_depth=100, max_features=auto, min_samples_leaf=1, min_samples_split=10, n_estimators=100; total time=   0.7s\n",
      "[CV] END bootstrap=False, max_depth=25, max_features=sqrt, min_samples_leaf=1, min_samples_split=2, n_estimators=50; total time=   0.3s\n",
      "[CV] END bootstrap=False, max_depth=25, max_features=sqrt, min_samples_leaf=1, min_samples_split=2, n_estimators=50; total time=   0.3s\n",
      "[CV] END bootstrap=True, max_depth=10, max_features=auto, min_samples_leaf=4, min_samples_split=5, n_estimators=500; total time=   2.4s\n",
      "[CV] END bootstrap=True, max_depth=None, max_features=auto, min_samples_leaf=4, min_samples_split=2, n_estimators=50; total time=   0.3s\n",
      "[CV] END bootstrap=False, max_depth=10, max_features=sqrt, min_samples_leaf=2, min_samples_split=5, n_estimators=250; total time=   1.5s\n",
      "[CV] END bootstrap=False, max_depth=10, max_features=sqrt, min_samples_leaf=2, min_samples_split=5, n_estimators=250; total time=   1.5s\n",
      "[CV] END bootstrap=True, max_depth=100, max_features=auto, min_samples_leaf=1, min_samples_split=2, n_estimators=250; total time=   1.4s\n",
      "[CV] END bootstrap=True, max_depth=None, max_features=auto, min_samples_leaf=2, min_samples_split=2, n_estimators=250; total time=   1.3s\n",
      "[CV] END bootstrap=True, max_depth=None, max_features=auto, min_samples_leaf=2, min_samples_split=2, n_estimators=250; total time=   1.4s\n",
      "[CV] END bootstrap=False, max_depth=25, max_features=auto, min_samples_leaf=2, min_samples_split=2, n_estimators=500; total time=   3.3s\n",
      "[CV] END bootstrap=False, max_depth=25, max_features=auto, min_samples_leaf=4, min_samples_split=2, n_estimators=250; total time=   1.5s\n",
      "[CV] END bootstrap=True, max_depth=25, max_features=auto, min_samples_leaf=4, min_samples_split=5, n_estimators=250; total time=   1.2s\n",
      "[CV] END bootstrap=True, max_depth=25, max_features=auto, min_samples_leaf=4, min_samples_split=5, n_estimators=250; total time=   1.2s\n",
      "[CV] END bootstrap=False, max_depth=None, max_features=sqrt, min_samples_leaf=4, min_samples_split=10, n_estimators=250; total time=   1.5s\n",
      "[CV] END bootstrap=True, max_depth=100, max_features=sqrt, min_samples_leaf=4, min_samples_split=10, n_estimators=500; total time=   2.5s\n",
      "[CV] END bootstrap=True, max_depth=50, max_features=auto, min_samples_leaf=1, min_samples_split=2, n_estimators=50; total time=   0.3s\n",
      "[CV] END bootstrap=True, max_depth=50, max_features=auto, min_samples_leaf=1, min_samples_split=2, n_estimators=50; total time=   0.3s\n",
      "[CV] END bootstrap=True, max_depth=50, max_features=auto, min_samples_leaf=1, min_samples_split=2, n_estimators=50; total time=   0.3s\n",
      "[CV] END bootstrap=False, max_depth=10, max_features=auto, min_samples_leaf=4, min_samples_split=5, n_estimators=500; total time=   3.4s\n",
      "[CV] END bootstrap=True, max_depth=50, max_features=sqrt, min_samples_leaf=4, min_samples_split=5, n_estimators=500; total time=   2.5s\n",
      "[CV] END bootstrap=True, max_depth=25, max_features=sqrt, min_samples_leaf=2, min_samples_split=10, n_estimators=250; total time=   1.3s\n",
      "[CV] END bootstrap=True, max_depth=25, max_features=sqrt, min_samples_leaf=2, min_samples_split=10, n_estimators=250; total time=   1.3s\n",
      "[CV] END bootstrap=False, max_depth=25, max_features=sqrt, min_samples_leaf=2, min_samples_split=10, n_estimators=100; total time=   0.7s\n",
      "[CV] END bootstrap=False, max_depth=25, max_features=sqrt, min_samples_leaf=2, min_samples_split=10, n_estimators=100; total time=   0.7s\n",
      "[CV] END bootstrap=True, max_depth=100, max_features=sqrt, min_samples_leaf=1, min_samples_split=5, n_estimators=500; total time=   2.8s\n",
      "[CV] END bootstrap=False, max_depth=100, max_features=sqrt, min_samples_leaf=4, min_samples_split=5, n_estimators=500; total time=   3.1s\n",
      "[CV] END bootstrap=False, max_depth=25, max_features=auto, min_samples_leaf=4, min_samples_split=5, n_estimators=100; total time=   0.6s\n",
      "[CV] END bootstrap=False, max_depth=25, max_features=auto, min_samples_leaf=4, min_samples_split=5, n_estimators=100; total time=   0.6s\n",
      "[CV] END bootstrap=False, max_depth=25, max_features=auto, min_samples_leaf=4, min_samples_split=5, n_estimators=100; total time=   0.6s\n",
      "[CV] END bootstrap=False, max_depth=100, max_features=auto, min_samples_leaf=4, min_samples_split=10, n_estimators=500; total time=   3.2s[CV] END bootstrap=True, max_depth=100, max_features=sqrt, min_samples_leaf=2, min_samples_split=5, n_estimators=100; total time=   0.6s\n",
      "[CV] END bootstrap=True, max_depth=50, max_features=auto, min_samples_leaf=4, min_samples_split=5, n_estimators=50; total time=   0.3s\n",
      "[CV] END bootstrap=True, max_depth=50, max_features=auto, min_samples_leaf=4, min_samples_split=5, n_estimators=50; total time=   0.3s\n",
      "[CV] END bootstrap=True, max_depth=100, max_features=sqrt, min_samples_leaf=4, min_samples_split=10, n_estimators=50; total time=   0.3s\n",
      "[CV] END bootstrap=True, max_depth=None, max_features=sqrt, min_samples_leaf=4, min_samples_split=10, n_estimators=100; total time=   0.5s\n",
      "[CV] END bootstrap=True, max_depth=25, max_features=auto, min_samples_leaf=1, min_samples_split=5, n_estimators=100; total time=   0.6s\n",
      "[CV] END bootstrap=True, max_depth=10, max_features=sqrt, min_samples_leaf=4, min_samples_split=5, n_estimators=500; total time=   3.2s\n",
      "[CV] END bootstrap=False, max_depth=None, max_features=sqrt, min_samples_leaf=4, min_samples_split=5, n_estimators=50; total time=   0.3s\n",
      "[CV] END bootstrap=False, max_depth=None, max_features=sqrt, min_samples_leaf=4, min_samples_split=5, n_estimators=50; total time=   0.3s\n",
      "[CV] END bootstrap=True, max_depth=50, max_features=auto, min_samples_leaf=2, min_samples_split=10, n_estimators=250; total time=   1.5s\n",
      "[CV] END bootstrap=True, max_depth=50, max_features=auto, min_samples_leaf=2, min_samples_split=10, n_estimators=250; total time=   1.4s\n",
      "[CV] END bootstrap=True, max_depth=None, max_features=sqrt, min_samples_leaf=4, min_samples_split=2, n_estimators=500; total time=   2.6s\n",
      "[CV] END bootstrap=False, max_depth=None, max_features=sqrt, min_samples_leaf=2, min_samples_split=5, n_estimators=100; total time=   0.7s\n",
      "[CV] END bootstrap=False, max_depth=100, max_features=sqrt, min_samples_leaf=4, min_samples_split=10, n_estimators=500; total time=   3.1s\n",
      "[CV] END bootstrap=False, max_depth=None, max_features=sqrt, min_samples_leaf=4, min_samples_split=10, n_estimators=500; total time=   3.1s\n",
      "[CV] END bootstrap=False, max_depth=None, max_features=sqrt, min_samples_leaf=4, min_samples_split=10, n_estimators=500; total time=   2.9s\n",
      "[CV] END bootstrap=False, max_depth=50, max_features=sqrt, min_samples_leaf=4, min_samples_split=10, n_estimators=500; total time=   3.1s\n",
      "[CV] END bootstrap=True, max_depth=100, max_features=sqrt, min_samples_leaf=2, min_samples_split=2, n_estimators=500; total time=   2.7s\n",
      "[CV] END bootstrap=True, max_depth=100, max_features=sqrt, min_samples_leaf=1, min_samples_split=2, n_estimators=100; total time=   0.6s\n",
      "[CV] END bootstrap=True, max_depth=100, max_features=sqrt, min_samples_leaf=1, min_samples_split=2, n_estimators=100; total time=   0.6s\n",
      "[CV] END bootstrap=False, max_depth=50, max_features=sqrt, min_samples_leaf=2, min_samples_split=2, n_estimators=500; total time=   3.3s\n",
      "[CV] END bootstrap=True, max_depth=10, max_features=sqrt, min_samples_leaf=2, min_samples_split=10, n_estimators=500; total time=   2.5s\n",
      "[CV] END bootstrap=True, max_depth=10, max_features=sqrt, min_samples_leaf=2, min_samples_split=10, n_estimators=500; total time=   2.9s\n",
      "[CV] END bootstrap=False, max_depth=None, max_features=sqrt, min_samples_leaf=1, min_samples_split=5, n_estimators=250; total time=   1.7s\n",
      "[CV] END bootstrap=False, max_depth=100, max_features=sqrt, min_samples_leaf=2, min_samples_split=2, n_estimators=250; total time=   1.7s\n",
      "[CV] END bootstrap=True, max_depth=50, max_features=sqrt, min_samples_leaf=4, min_samples_split=2, n_estimators=50; total time=   0.2s\n",
      "[CV] END bootstrap=True, max_depth=None, max_features=sqrt, min_samples_leaf=4, min_samples_split=2, n_estimators=250; total time=   1.3s\n",
      "[CV] END bootstrap=False, max_depth=50, max_features=auto, min_samples_leaf=2, min_samples_split=2, n_estimators=50; total time=   0.3s\n",
      "[CV] END bootstrap=True, max_depth=25, max_features=sqrt, min_samples_leaf=4, min_samples_split=2, n_estimators=250; total time=   1.3s\n",
      "[CV] END bootstrap=True, max_depth=25, max_features=sqrt, min_samples_leaf=4, min_samples_split=2, n_estimators=250; total time=   1.2s\n",
      "[CV] END bootstrap=False, max_depth=25, max_features=sqrt, min_samples_leaf=1, min_samples_split=2, n_estimators=50; total time=   0.3s\n",
      "[CV] END bootstrap=False, max_depth=25, max_features=sqrt, min_samples_leaf=1, min_samples_split=2, n_estimators=50; total time=   0.4s\n",
      "[CV] END bootstrap=True, max_depth=10, max_features=auto, min_samples_leaf=4, min_samples_split=5, n_estimators=500; total time=   2.4s\n",
      "[CV] END bootstrap=True, max_depth=None, max_features=auto, min_samples_leaf=4, min_samples_split=2, n_estimators=50; total time=   0.2s\n",
      "[CV] END bootstrap=True, max_depth=None, max_features=auto, min_samples_leaf=4, min_samples_split=2, n_estimators=50; total time=   0.2s\n",
      "[CV] END bootstrap=False, max_depth=10, max_features=sqrt, min_samples_leaf=2, min_samples_split=5, n_estimators=250; total time=   1.6s\n",
      "[CV] END bootstrap=False, max_depth=10, max_features=sqrt, min_samples_leaf=2, min_samples_split=5, n_estimators=250; total time=   1.5s\n",
      "[CV] END bootstrap=True, max_depth=100, max_features=auto, min_samples_leaf=1, min_samples_split=2, n_estimators=250; total time=   1.4s\n",
      "[CV] END bootstrap=True, max_depth=None, max_features=auto, min_samples_leaf=2, min_samples_split=2, n_estimators=250; total time=   1.3s\n",
      "[CV] END bootstrap=False, max_depth=25, max_features=auto, min_samples_leaf=2, min_samples_split=2, n_estimators=500; total time=   3.4s\n",
      "[CV] END bootstrap=False, max_depth=25, max_features=auto, min_samples_leaf=4, min_samples_split=2, n_estimators=250; total time=   1.5s\n",
      "[CV] END bootstrap=False, max_depth=25, max_features=auto, min_samples_leaf=4, min_samples_split=2, n_estimators=250; total time=   1.5s\n",
      "[CV] END bootstrap=True, max_depth=25, max_features=auto, min_samples_leaf=4, min_samples_split=5, n_estimators=250; total time=   1.3s\n",
      "[CV] END bootstrap=False, max_depth=None, max_features=sqrt, min_samples_leaf=4, min_samples_split=10, n_estimators=250; total time=   1.5s\n",
      "[CV] END bootstrap=False, max_depth=None, max_features=sqrt, min_samples_leaf=4, min_samples_split=10, n_estimators=250; total time=   1.5s\n",
      "[CV] END bootstrap=True, max_depth=100, max_features=sqrt, min_samples_leaf=4, min_samples_split=10, n_estimators=500; total time=   2.6s\n",
      "[CV] END bootstrap=False, max_depth=10, max_features=auto, min_samples_leaf=4, min_samples_split=5, n_estimators=500; total time=   3.4s\n",
      "[CV] END bootstrap=True, max_depth=50, max_features=sqrt, min_samples_leaf=4, min_samples_split=5, n_estimators=500; total time=   2.5s\n",
      "[CV] END bootstrap=True, max_depth=50, max_features=sqrt, min_samples_leaf=4, min_samples_split=5, n_estimators=500; total time=   2.5s\n",
      "[CV] END bootstrap=True, max_depth=25, max_features=sqrt, min_samples_leaf=2, min_samples_split=10, n_estimators=250; total time=   1.4s\n",
      "[CV] END bootstrap=True, max_depth=100, max_features=sqrt, min_samples_leaf=1, min_samples_split=5, n_estimators=500; total time=   2.8s\n",
      "[CV] END bootstrap=True, max_depth=100, max_features=sqrt, min_samples_leaf=1, min_samples_split=5, n_estimators=500; total time=   2.7s\n",
      "[CV] END bootstrap=False, max_depth=100, max_features=sqrt, min_samples_leaf=4, min_samples_split=5, n_estimators=500; total time=   3.0s\n",
      "[CV] END bootstrap=False, max_depth=100, max_features=auto, min_samples_leaf=4, min_samples_split=10, n_estimators=500; total time=   3.2s\n",
      "[CV] END bootstrap=False, max_depth=10, max_features=auto, min_samples_leaf=4, min_samples_split=5, n_estimators=100; total time=   0.7s\n",
      "[CV] END bootstrap=False, max_depth=None, max_features=auto, min_samples_leaf=1, min_samples_split=5, n_estimators=100; total time=   0.8s\n",
      "[CV] END bootstrap=False, max_depth=None, max_features=auto, min_samples_leaf=1, min_samples_split=5, n_estimators=100; total time=   0.7s\n",
      "[CV] END bootstrap=False, max_depth=100, max_features=auto, min_samples_leaf=1, min_samples_split=5, n_estimators=250; total time=   1.7s\n",
      "[CV] END bootstrap=False, max_depth=25, max_features=auto, min_samples_leaf=2, min_samples_split=10, n_estimators=500; total time=   3.2s\n",
      "[CV] END bootstrap=True, max_depth=50, max_features=auto, min_samples_leaf=2, min_samples_split=2, n_estimators=250; total time=   1.3s[CV] END bootstrap=True, max_depth=100, max_features=sqrt, min_samples_leaf=2, min_samples_split=5, n_estimators=100; total time=   0.6s\n",
      "[CV] END bootstrap=True, max_depth=50, max_features=auto, min_samples_leaf=4, min_samples_split=5, n_estimators=50; total time=   0.3s\n",
      "[CV] END bootstrap=True, max_depth=100, max_features=sqrt, min_samples_leaf=4, min_samples_split=10, n_estimators=50; total time=   0.3s\n",
      "[CV] END bootstrap=True, max_depth=100, max_features=sqrt, min_samples_leaf=4, min_samples_split=10, n_estimators=50; total time=   0.3s\n",
      "[CV] END bootstrap=True, max_depth=None, max_features=sqrt, min_samples_leaf=4, min_samples_split=10, n_estimators=100; total time=   0.5s\n",
      "[CV] END bootstrap=True, max_depth=25, max_features=auto, min_samples_leaf=1, min_samples_split=5, n_estimators=100; total time=   0.6s\n",
      "[CV] END bootstrap=True, max_depth=10, max_features=sqrt, min_samples_leaf=4, min_samples_split=5, n_estimators=500; total time=   3.1s\n",
      "[CV] END bootstrap=True, max_depth=10, max_features=sqrt, min_samples_leaf=4, min_samples_split=5, n_estimators=500; total time=   2.7s\n",
      "[CV] END bootstrap=True, max_depth=None, max_features=sqrt, min_samples_leaf=4, min_samples_split=2, n_estimators=500; total time=   2.7s\n",
      "[CV] END bootstrap=False, max_depth=None, max_features=sqrt, min_samples_leaf=2, min_samples_split=5, n_estimators=100; total time=   0.7s\n",
      "[CV] END bootstrap=False, max_depth=None, max_features=sqrt, min_samples_leaf=2, min_samples_split=5, n_estimators=100; total time=   0.7s\n",
      "[CV] END bootstrap=False, max_depth=None, max_features=sqrt, min_samples_leaf=2, min_samples_split=5, n_estimators=100; total time=   0.7s\n",
      "[CV] END bootstrap=False, max_depth=100, max_features=sqrt, min_samples_leaf=4, min_samples_split=10, n_estimators=500; total time=   3.0s\n",
      "[CV] END bootstrap=False, max_depth=None, max_features=sqrt, min_samples_leaf=4, min_samples_split=10, n_estimators=500; total time=   3.1s\n",
      "[CV] END bootstrap=False, max_depth=50, max_features=sqrt, min_samples_leaf=4, min_samples_split=10, n_estimators=500; total time=   3.1s\n",
      "[CV] END bootstrap=False, max_depth=50, max_features=sqrt, min_samples_leaf=4, min_samples_split=10, n_estimators=500; total time=   2.9s\n",
      "[CV] END bootstrap=True, max_depth=100, max_features=sqrt, min_samples_leaf=2, min_samples_split=2, n_estimators=500; total time=   2.7s\n",
      "[CV] END bootstrap=True, max_depth=100, max_features=sqrt, min_samples_leaf=1, min_samples_split=2, n_estimators=100; total time=   0.6s\n",
      "[CV] END bootstrap=False, max_depth=50, max_features=sqrt, min_samples_leaf=2, min_samples_split=2, n_estimators=500; total time=   3.4s\n",
      "[CV] END bootstrap=True, max_depth=10, max_features=sqrt, min_samples_leaf=2, min_samples_split=10, n_estimators=500; total time=   2.6s\n",
      "[CV] END bootstrap=True, max_depth=10, max_features=sqrt, min_samples_leaf=2, min_samples_split=10, n_estimators=500; total time=   3.0s\n",
      "[CV] END bootstrap=False, max_depth=None, max_features=sqrt, min_samples_leaf=1, min_samples_split=5, n_estimators=250; total time=   1.6s\n",
      "[CV] END bootstrap=False, max_depth=100, max_features=sqrt, min_samples_leaf=2, min_samples_split=2, n_estimators=250; total time=   1.6s\n",
      "[CV] END bootstrap=True, max_depth=50, max_features=sqrt, min_samples_leaf=4, min_samples_split=2, n_estimators=50; total time=   0.3s\n",
      "[CV] END bootstrap=True, max_depth=None, max_features=sqrt, min_samples_leaf=4, min_samples_split=2, n_estimators=250; total time=   1.3s\n",
      "[CV] END bootstrap=False, max_depth=50, max_features=auto, min_samples_leaf=2, min_samples_split=2, n_estimators=50; total time=   0.3s\n",
      "[CV] END bootstrap=False, max_depth=50, max_features=auto, min_samples_leaf=2, min_samples_split=2, n_estimators=50; total time=   0.3s\n",
      "[CV] END bootstrap=True, max_depth=25, max_features=sqrt, min_samples_leaf=4, min_samples_split=2, n_estimators=250; total time=   1.3s\n",
      "[CV] END bootstrap=False, max_depth=100, max_features=auto, min_samples_leaf=1, min_samples_split=10, n_estimators=100; total time=   0.7s\n",
      "[CV] END bootstrap=False, max_depth=100, max_features=auto, min_samples_leaf=1, min_samples_split=10, n_estimators=100; total time=   0.7s\n",
      "[CV] END bootstrap=True, max_depth=10, max_features=auto, min_samples_leaf=4, min_samples_split=5, n_estimators=500; total time=   2.4s\n",
      "[CV] END bootstrap=True, max_depth=10, max_features=auto, min_samples_leaf=4, min_samples_split=5, n_estimators=500; total time=   2.4s\n",
      "[CV] END bootstrap=True, max_depth=25, max_features=auto, min_samples_leaf=4, min_samples_split=2, n_estimators=100; total time=   0.5s\n",
      "[CV] END bootstrap=True, max_depth=25, max_features=auto, min_samples_leaf=4, min_samples_split=2, n_estimators=100; total time=   0.5s\n",
      "[CV] END bootstrap=True, max_depth=100, max_features=auto, min_samples_leaf=1, min_samples_split=2, n_estimators=250; total time=   1.4s\n",
      "[CV] END bootstrap=True, max_depth=100, max_features=auto, min_samples_leaf=1, min_samples_split=2, n_estimators=250; total time=   1.4s\n",
      "[CV] END bootstrap=True, max_depth=None, max_features=auto, min_samples_leaf=2, min_samples_split=2, n_estimators=250; total time=   1.4s\n",
      "[CV] END bootstrap=False, max_depth=25, max_features=auto, min_samples_leaf=2, min_samples_split=2, n_estimators=500; total time=   3.2s\n",
      "[CV] END bootstrap=False, max_depth=25, max_features=auto, min_samples_leaf=4, min_samples_split=2, n_estimators=250; total time=   1.5s\n",
      "[CV] END bootstrap=False, max_depth=25, max_features=auto, min_samples_leaf=4, min_samples_split=2, n_estimators=250; total time=   1.5s\n",
      "[CV] END bootstrap=True, max_depth=25, max_features=auto, min_samples_leaf=4, min_samples_split=5, n_estimators=250; total time=   1.2s\n",
      "[CV] END bootstrap=False, max_depth=None, max_features=sqrt, min_samples_leaf=4, min_samples_split=10, n_estimators=250; total time=   1.6s\n",
      "[CV] END bootstrap=True, max_depth=100, max_features=sqrt, min_samples_leaf=4, min_samples_split=10, n_estimators=500; total time=   2.5s\n",
      "[CV] END bootstrap=True, max_depth=50, max_features=auto, min_samples_leaf=1, min_samples_split=2, n_estimators=50; total time=   0.3s\n",
      "[CV] END bootstrap=True, max_depth=50, max_features=auto, min_samples_leaf=1, min_samples_split=2, n_estimators=50; total time=   0.3s\n",
      "[CV] END bootstrap=False, max_depth=10, max_features=auto, min_samples_leaf=4, min_samples_split=5, n_estimators=500; total time=   3.2s\n",
      "[CV] END bootstrap=False, max_depth=10, max_features=auto, min_samples_leaf=4, min_samples_split=5, n_estimators=500; total time=   2.9s\n",
      "[CV] END bootstrap=True, max_depth=50, max_features=sqrt, min_samples_leaf=4, min_samples_split=5, n_estimators=500; total time=   2.6s\n",
      "[CV] END bootstrap=False, max_depth=25, max_features=sqrt, min_samples_leaf=2, min_samples_split=10, n_estimators=100; total time=   0.7s\n",
      "[CV] END bootstrap=False, max_depth=25, max_features=sqrt, min_samples_leaf=2, min_samples_split=10, n_estimators=100; total time=   0.6s\n",
      "[CV] END bootstrap=True, max_depth=100, max_features=sqrt, min_samples_leaf=1, min_samples_split=5, n_estimators=500; total time=   2.8s\n",
      "[CV] END bootstrap=False, max_depth=100, max_features=sqrt, min_samples_leaf=4, min_samples_split=5, n_estimators=500; total time=   3.1s\n",
      "[CV] END bootstrap=False, max_depth=100, max_features=sqrt, min_samples_leaf=4, min_samples_split=5, n_estimators=500; total time=   3.0s\n",
      "[CV] END bootstrap=False, max_depth=100, max_features=auto, min_samples_leaf=4, min_samples_split=10, n_estimators=500; total time=   3.2s\n",
      "[CV] END bootstrap=False, max_depth=10, max_features=auto, min_samples_leaf=4, min_samples_split=5, n_estimators=100; total time=   0.6s\n",
      "[CV] END bootstrap=False, max_depth=None, max_features=auto, min_samples_leaf=1, min_samples_split=5, n_estimators=100; total time=   0.8s\n",
      "[CV] END bootstrap=False, max_depth=None, max_features=auto, min_samples_leaf=1, min_samples_split=5, n_estimators=100; total time=   0.7s\n",
      "[CV] END bootstrap=False, max_depth=100, max_features=auto, min_samples_leaf=1, min_samples_split=5, n_estimators=250; total time=   1.8s\n",
      "[CV] END bootstrap=False, max_depth=25, max_features=auto, min_samples_leaf=2, min_samples_split=10, n_estimators=500; total time=   3.1s\n",
      "[CV] END bootstrap=True, max_depth=50, max_features=auto, min_samples_leaf=2, min_samples_split=2, n_estimators=250; total time=   1.4s\n",
      "[CV] END bootstrap=False, max_depth=10, max_features=auto, min_samples_leaf=4, min_samples_split=5, n_estimators=100; total time=   0.6s\n",
      "[CV] END bootstrap=False, max_depth=10, max_features=auto, min_samples_leaf=4, min_samples_split=5, n_estimators=100; total time=   0.6s\n",
      "[CV] END bootstrap=False, max_depth=10, max_features=auto, min_samples_leaf=4, min_samples_split=5, n_estimators=100; total time=   0.6s\n",
      "[CV] END bootstrap=False, max_depth=None, max_features=auto, min_samples_leaf=1, min_samples_split=5, n_estimators=100; total time=   0.7s\n",
      "[CV] END bootstrap=False, max_depth=100, max_features=auto, min_samples_leaf=1, min_samples_split=5, n_estimators=250; total time=   1.8s\n",
      "[CV] END bootstrap=False, max_depth=25, max_features=auto, min_samples_leaf=2, min_samples_split=10, n_estimators=500; total time=   3.2s\n",
      "[CV] END bootstrap=False, max_depth=25, max_features=auto, min_samples_leaf=2, min_samples_split=10, n_estimators=500; total time=   3.1s\n",
      "[CV] END bootstrap=True, max_depth=25, max_features=auto, min_samples_leaf=2, min_samples_split=5, n_estimators=100; total time=   0.7s\n",
      "[CV] END bootstrap=False, max_depth=100, max_features=sqrt, min_samples_leaf=1, min_samples_split=2, n_estimators=500; total time=   3.8s\n",
      "[CV] END bootstrap=False, max_depth=25, max_features=auto, min_samples_leaf=1, min_samples_split=5, n_estimators=50; total time=   0.3s\n",
      "[CV] END bootstrap=False, max_depth=None, max_features=sqrt, min_samples_leaf=2, min_samples_split=10, n_estimators=250; total time=   1.6s\n",
      "[CV] END bootstrap=False, max_depth=None, max_features=sqrt, min_samples_leaf=2, min_samples_split=10, n_estimators=250; total time=   1.6s\n",
      "[CV] END bootstrap=True, max_depth=50, max_features=sqrt, min_samples_leaf=1, min_samples_split=5, n_estimators=100; total time=   0.5s\n",
      "[CV] END bootstrap=False, max_depth=10, max_features=auto, min_samples_leaf=1, min_samples_split=10, n_estimators=100; total time=   0.6s\n",
      "[CV] END bootstrap=True, max_depth=50, max_features=auto, min_samples_leaf=4, min_samples_split=10, n_estimators=100; total time=   0.5s\n",
      "[CV] END bootstrap=True, max_depth=10, max_features=auto, min_samples_leaf=2, min_samples_split=10, n_estimators=100; total time=   0.6s\n",
      "[CV] END bootstrap=True, max_depth=10, max_features=auto, min_samples_leaf=2, min_samples_split=10, n_estimators=100; total time=   0.5s\n",
      "[CV] END bootstrap=True, max_depth=None, max_features=sqrt, min_samples_leaf=1, min_samples_split=10, n_estimators=50; total time=   0.3s\n",
      "[CV] END bootstrap=True, max_depth=25, max_features=sqrt, min_samples_leaf=2, min_samples_split=2, n_estimators=50; total time=   0.3s\n",
      "[CV] END bootstrap=True, max_depth=25, max_features=sqrt, min_samples_leaf=1, min_samples_split=2, n_estimators=50; total time=   0.3s\n",
      "[CV] END bootstrap=True, max_depth=25, max_features=sqrt, min_samples_leaf=1, min_samples_split=2, n_estimators=50; total time=   0.3s\n",
      "[CV] END bootstrap=True, max_depth=50, max_features=sqrt, min_samples_leaf=4, min_samples_split=5, n_estimators=50; total time=   0.3s\n",
      "[CV] END bootstrap=True, max_depth=10, max_features=auto, min_samples_leaf=4, min_samples_split=5, n_estimators=50; total time=   0.3s\n",
      "[CV] END bootstrap=False, max_depth=50, max_features=auto, min_samples_leaf=1, min_samples_split=10, n_estimators=250; total time=   1.7s\n",
      "[CV] END bootstrap=False, max_depth=50, max_features=sqrt, min_samples_leaf=4, min_samples_split=5, n_estimators=50; total time=   0.3s\n",
      "[CV] END bootstrap=False, max_depth=50, max_features=sqrt, min_samples_leaf=4, min_samples_split=5, n_estimators=50; total time=   0.3s\n",
      "[CV] END bootstrap=True, max_depth=10, max_features=auto, min_samples_leaf=2, min_samples_split=5, n_estimators=50; total time=   0.3s\n",
      "[CV] END bootstrap=True, max_depth=10, max_features=auto, min_samples_leaf=2, min_samples_split=5, n_estimators=50; total time=   0.3s\n",
      "[CV] END bootstrap=False, max_depth=50, max_features=sqrt, min_samples_leaf=1, min_samples_split=2, n_estimators=500; total time=   3.4s\n",
      "[CV] END bootstrap=True, max_depth=None, max_features=sqrt, min_samples_leaf=4, min_samples_split=5, n_estimators=100; total time=   0.5s\n",
      "[CV] END bootstrap=True, max_depth=None, max_features=sqrt, min_samples_leaf=4, min_samples_split=5, n_estimators=100; total time=   0.5s\n",
      "[CV] END bootstrap=False, max_depth=None, max_features=auto, min_samples_leaf=2, min_samples_split=2, n_estimators=250; total time=   1.7s\n",
      "[CV] END bootstrap=False, max_depth=100, max_features=auto, min_samples_leaf=2, min_samples_split=5, n_estimators=100; total time=   0.7s\n",
      "[CV] END bootstrap=False, max_depth=100, max_features=auto, min_samples_leaf=2, min_samples_split=5, n_estimators=100; total time=   0.6s\n",
      "[CV] END bootstrap=False, max_depth=100, max_features=auto, min_samples_leaf=2, min_samples_split=5, n_estimators=100; total time=   0.7s\n",
      "[CV] END bootstrap=False, max_depth=100, max_features=auto, min_samples_leaf=1, min_samples_split=10, n_estimators=250; total time=   1.7s\n",
      "[CV] END bootstrap=False, max_depth=100, max_features=auto, min_samples_leaf=1, min_samples_split=10, n_estimators=250; total time=   1.6s\n",
      "[CV] END bootstrap=False, max_depth=10, max_features=sqrt, min_samples_leaf=4, min_samples_split=10, n_estimators=250; total time=   1.5s\n",
      "[CV] END bootstrap=False, max_depth=25, max_features=sqrt, min_samples_leaf=4, min_samples_split=5, n_estimators=500; total time=   3.1s\n",
      "[CV] END bootstrap=False, max_depth=None, max_features=auto, min_samples_leaf=1, min_samples_split=2, n_estimators=100; total time=   0.9s\n",
      "[CV] END bootstrap=True, max_depth=None, max_features=sqrt, min_samples_leaf=1, min_samples_split=5, n_estimators=50; total time=   0.3s\n",
      "[CV] END bootstrap=True, max_depth=None, max_features=sqrt, min_samples_leaf=1, min_samples_split=5, n_estimators=50; total time=   0.4s\n",
      "[CV] END bootstrap=False, max_depth=10, max_features=auto, min_samples_leaf=1, min_samples_split=2, n_estimators=250; total time=   1.8s\n",
      "[CV] END bootstrap=True, max_depth=50, max_features=sqrt, min_samples_leaf=2, min_samples_split=5, n_estimators=500; total time=   2.7s\n",
      "[CV] END bootstrap=False, max_depth=10, max_features=sqrt, min_samples_leaf=2, min_samples_split=10, n_estimators=50; total time=   0.3s\n",
      "[CV] END bootstrap=False, max_depth=10, max_features=sqrt, min_samples_leaf=2, min_samples_split=10, n_estimators=50; total time=   0.3s\n",
      "[CV] END bootstrap=False, max_depth=10, max_features=sqrt, min_samples_leaf=2, min_samples_split=10, n_estimators=50; total time=   0.3s\n",
      "[CV] END bootstrap=False, max_depth=50, max_features=auto, min_samples_leaf=1, min_samples_split=5, n_estimators=50; total time=   0.4s\n",
      "[CV] END bootstrap=False, max_depth=50, max_features=auto, min_samples_leaf=1, min_samples_split=5, n_estimators=50; total time=   0.3s\n",
      "[CV] END bootstrap=True, max_depth=50, max_features=sqrt, min_samples_leaf=2, min_samples_split=5, n_estimators=250; total time=   1.4s\n",
      "[CV] END bootstrap=False, max_depth=100, max_features=auto, min_samples_leaf=2, min_samples_split=2, n_estimators=50; total time=   0.3s\n",
      "[CV] END bootstrap=False, max_depth=100, max_features=auto, min_samples_leaf=2, min_samples_split=2, n_estimators=50; total time=   0.3s\n",
      "[CV] END bootstrap=False, max_depth=100, max_features=auto, min_samples_leaf=2, min_samples_split=2, n_estimators=50; total time=   0.3s\n",
      "[CV] END bootstrap=False, max_depth=100, max_features=auto, min_samples_leaf=1, min_samples_split=2, n_estimators=500; total time=   3.4s\n",
      "[CV] END bootstrap=True, max_depth=100, max_features=auto, min_samples_leaf=4, min_samples_split=2, n_estimators=250; total time=   1.2s\n",
      "[CV] END bootstrap=True, max_depth=100, max_features=auto, min_samples_leaf=4, min_samples_split=2, n_estimators=250; total time=   1.2s\n",
      "[CV] END bootstrap=True, max_depth=50, max_features=auto, min_samples_leaf=2, min_samples_split=10, n_estimators=500; total time=   2.6s\n",
      "[CV] END bootstrap=False, max_depth=50, max_features=sqrt, min_samples_leaf=2, min_samples_split=2, n_estimators=50; total time=   0.3s\n",
      "[CV] END bootstrap=False, max_depth=50, max_features=sqrt, min_samples_leaf=2, min_samples_split=2, n_estimators=50; total time=   0.3s\n",
      "[CV] END bootstrap=True, max_depth=50, max_features=sqrt, min_samples_leaf=4, min_samples_split=10, n_estimators=100; total time=   0.5s\n",
      "[CV] END bootstrap=True, max_depth=50, max_features=auto, min_samples_leaf=2, min_samples_split=2, n_estimators=250; total time=   1.4s\n",
      "[CV] END bootstrap=True, max_depth=25, max_features=auto, min_samples_leaf=2, min_samples_split=5, n_estimators=100; total time=   0.7s\n",
      "[CV] END bootstrap=False, max_depth=100, max_features=sqrt, min_samples_leaf=1, min_samples_split=2, n_estimators=500; total time=   3.7s\n",
      "[CV] END bootstrap=False, max_depth=25, max_features=auto, min_samples_leaf=1, min_samples_split=5, n_estimators=50; total time=   0.3s\n",
      "[CV] END bootstrap=False, max_depth=25, max_features=auto, min_samples_leaf=1, min_samples_split=5, n_estimators=50; total time=   0.3s\n",
      "[CV] END bootstrap=False, max_depth=None, max_features=sqrt, min_samples_leaf=2, min_samples_split=10, n_estimators=250; total time=   1.6s\n",
      "[CV] END bootstrap=True, max_depth=None, max_features=auto, min_samples_leaf=1, min_samples_split=10, n_estimators=50; total time=   0.3s\n",
      "[CV] END bootstrap=True, max_depth=None, max_features=auto, min_samples_leaf=1, min_samples_split=10, n_estimators=50; total time=   0.3s\n",
      "[CV] END bootstrap=True, max_depth=None, max_features=auto, min_samples_leaf=1, min_samples_split=10, n_estimators=50; total time=   0.3s\n",
      "[CV] END bootstrap=True, max_depth=None, max_features=auto, min_samples_leaf=1, min_samples_split=10, n_estimators=50; total time=   0.3s\n",
      "[CV] END bootstrap=True, max_depth=50, max_features=sqrt, min_samples_leaf=1, min_samples_split=5, n_estimators=100; total time=   0.6s\n",
      "[CV] END bootstrap=True, max_depth=50, max_features=sqrt, min_samples_leaf=1, min_samples_split=5, n_estimators=100; total time=   0.6s\n",
      "[CV] END bootstrap=False, max_depth=10, max_features=auto, min_samples_leaf=1, min_samples_split=10, n_estimators=100; total time=   0.6s\n",
      "[CV] END bootstrap=True, max_depth=50, max_features=auto, min_samples_leaf=4, min_samples_split=10, n_estimators=100; total time=   0.5s\n",
      "[CV] END bootstrap=True, max_depth=10, max_features=auto, min_samples_leaf=2, min_samples_split=10, n_estimators=100; total time=   0.6s\n",
      "[CV] END bootstrap=True, max_depth=None, max_features=sqrt, min_samples_leaf=1, min_samples_split=10, n_estimators=50; total time=   0.3s\n",
      "[CV] END bootstrap=True, max_depth=None, max_features=sqrt, min_samples_leaf=1, min_samples_split=10, n_estimators=50; total time=   0.3s\n",
      "[CV] END bootstrap=True, max_depth=25, max_features=sqrt, min_samples_leaf=2, min_samples_split=2, n_estimators=50; total time=   0.3s\n",
      "[CV] END bootstrap=True, max_depth=25, max_features=sqrt, min_samples_leaf=1, min_samples_split=2, n_estimators=50; total time=   0.3s\n",
      "[CV] END bootstrap=True, max_depth=50, max_features=sqrt, min_samples_leaf=4, min_samples_split=5, n_estimators=50; total time=   0.3s\n",
      "[CV] END bootstrap=True, max_depth=10, max_features=auto, min_samples_leaf=4, min_samples_split=5, n_estimators=50; total time=   0.3s\n",
      "[CV] END bootstrap=True, max_depth=10, max_features=auto, min_samples_leaf=4, min_samples_split=5, n_estimators=50; total time=   0.2s\n",
      "[CV] END bootstrap=False, max_depth=50, max_features=auto, min_samples_leaf=1, min_samples_split=10, n_estimators=250; total time=   1.7s\n",
      "[CV] END bootstrap=False, max_depth=50, max_features=sqrt, min_samples_leaf=4, min_samples_split=5, n_estimators=50; total time=   0.3s\n",
      "[CV] END bootstrap=False, max_depth=50, max_features=sqrt, min_samples_leaf=4, min_samples_split=5, n_estimators=50; total time=   0.3s\n",
      "[CV] END bootstrap=True, max_depth=10, max_features=auto, min_samples_leaf=2, min_samples_split=5, n_estimators=50; total time=   0.3s\n",
      "[CV] END bootstrap=False, max_depth=50, max_features=sqrt, min_samples_leaf=1, min_samples_split=2, n_estimators=500; total time=   3.5s\n",
      "[CV] END bootstrap=True, max_depth=None, max_features=sqrt, min_samples_leaf=4, min_samples_split=5, n_estimators=100; total time=   0.5s\n",
      "[CV] END bootstrap=True, max_depth=None, max_features=sqrt, min_samples_leaf=4, min_samples_split=5, n_estimators=100; total time=   0.5s\n",
      "[CV] END bootstrap=False, max_depth=None, max_features=auto, min_samples_leaf=2, min_samples_split=2, n_estimators=250; total time=   1.8s\n",
      "[CV] END bootstrap=False, max_depth=None, max_features=auto, min_samples_leaf=2, min_samples_split=2, n_estimators=250; total time=   1.6s\n",
      "[CV] END bootstrap=False, max_depth=25, max_features=auto, min_samples_leaf=2, min_samples_split=10, n_estimators=50; total time=   0.3s\n",
      "[CV] END bootstrap=False, max_depth=25, max_features=auto, min_samples_leaf=2, min_samples_split=10, n_estimators=50; total time=   0.3s\n",
      "[CV] END bootstrap=False, max_depth=100, max_features=auto, min_samples_leaf=1, min_samples_split=10, n_estimators=250; total time=   1.7s\n",
      "[CV] END bootstrap=False, max_depth=10, max_features=sqrt, min_samples_leaf=4, min_samples_split=10, n_estimators=250; total time=   1.5s\n",
      "[CV] END bootstrap=False, max_depth=25, max_features=sqrt, min_samples_leaf=4, min_samples_split=5, n_estimators=500; total time=   3.1s\n",
      "[CV] END bootstrap=False, max_depth=None, max_features=auto, min_samples_leaf=1, min_samples_split=2, n_estimators=100; total time=   0.7s\n",
      "[CV] END bootstrap=False, max_depth=None, max_features=auto, min_samples_leaf=1, min_samples_split=2, n_estimators=100; total time=   0.7s\n",
      "[CV] END bootstrap=False, max_depth=None, max_features=auto, min_samples_leaf=1, min_samples_split=2, n_estimators=100; total time=   1.0s\n",
      "[CV] END bootstrap=True, max_depth=None, max_features=sqrt, min_samples_leaf=1, min_samples_split=5, n_estimators=50; total time=   0.3s\n",
      "[CV] END bootstrap=False, max_depth=10, max_features=auto, min_samples_leaf=1, min_samples_split=2, n_estimators=250; total time=   1.8s\n",
      "[CV] END bootstrap=True, max_depth=50, max_features=sqrt, min_samples_leaf=2, min_samples_split=5, n_estimators=500; total time=   2.7s\n",
      "[CV] END bootstrap=True, max_depth=50, max_features=sqrt, min_samples_leaf=2, min_samples_split=5, n_estimators=500; total time=   2.6s\n",
      "[CV] END bootstrap=True, max_depth=50, max_features=sqrt, min_samples_leaf=2, min_samples_split=5, n_estimators=250; total time=   1.3s\n",
      "[CV] END bootstrap=False, max_depth=100, max_features=auto, min_samples_leaf=1, min_samples_split=2, n_estimators=500; total time=   3.6s\n",
      "[CV] END bootstrap=True, max_depth=100, max_features=auto, min_samples_leaf=4, min_samples_split=2, n_estimators=250; total time=   1.2s\n",
      "[CV] END bootstrap=True, max_depth=100, max_features=auto, min_samples_leaf=4, min_samples_split=2, n_estimators=250; total time=   1.2s\n",
      "[CV] END bootstrap=True, max_depth=50, max_features=auto, min_samples_leaf=2, min_samples_split=10, n_estimators=500; total time=   2.6s\n",
      "[CV] END bootstrap=False, max_depth=50, max_features=sqrt, min_samples_leaf=2, min_samples_split=2, n_estimators=50; total time=   0.3s\n",
      "[CV] END bootstrap=False, max_depth=50, max_features=sqrt, min_samples_leaf=2, min_samples_split=2, n_estimators=50; total time=   0.3s\n",
      "[CV] END bootstrap=False, max_depth=50, max_features=sqrt, min_samples_leaf=2, min_samples_split=2, n_estimators=50; total time=   0.3s\n",
      "[CV] END bootstrap=True, max_depth=50, max_features=sqrt, min_samples_leaf=4, min_samples_split=10, n_estimators=100; total time=   0.5s\n",
      "[CV] END bootstrap=True, max_depth=None, max_features=auto, min_samples_leaf=4, min_samples_split=5, n_estimators=500; total time=   2.5s\n",
      "[CV] END bootstrap=True, max_depth=None, max_features=auto, min_samples_leaf=4, min_samples_split=5, n_estimators=500; total time=   2.5s\n",
      "[CV] END bootstrap=True, max_depth=10, max_features=auto, min_samples_leaf=2, min_samples_split=10, n_estimators=250; total time=   1.3s\n",
      "[CV] END bootstrap=True, max_depth=10, max_features=auto, min_samples_leaf=2, min_samples_split=10, n_estimators=250; total time=   1.3s\n",
      "[CV] END bootstrap=False, max_depth=10, max_features=sqrt, min_samples_leaf=4, min_samples_split=2, n_estimators=500; total time=   2.9s\n",
      "[CV] END bootstrap=True, max_depth=100, max_features=auto, min_samples_leaf=2, min_samples_split=5, n_estimators=500; total time=   3.1s\n",
      "[CV] END bootstrap=True, max_depth=100, max_features=auto, min_samples_leaf=4, min_samples_split=10, n_estimators=250; total time=   1.3s\n",
      "[CV] END bootstrap=True, max_depth=100, max_features=auto, min_samples_leaf=4, min_samples_split=10, n_estimators=250; total time=   1.2s\n",
      "[CV] END bootstrap=False, max_depth=100, max_features=auto, min_samples_leaf=4, min_samples_split=10, n_estimators=500; total time=   3.1s\n",
      "[CV] END bootstrap=False, max_depth=100, max_features=auto, min_samples_leaf=4, min_samples_split=10, n_estimators=500; total time=   2.9s\n",
      "[CV] END bootstrap=False, max_depth=100, max_features=auto, min_samples_leaf=1, min_samples_split=5, n_estimators=250; total time=   1.7s\n",
      "[CV] END bootstrap=False, max_depth=100, max_features=auto, min_samples_leaf=1, min_samples_split=5, n_estimators=250; total time=   1.7s\n",
      "[CV] END bootstrap=False, max_depth=25, max_features=auto, min_samples_leaf=2, min_samples_split=10, n_estimators=500; total time=   3.2s\n",
      "[CV] END bootstrap=True, max_depth=50, max_features=auto, min_samples_leaf=2, min_samples_split=2, n_estimators=250; total time=   1.3s\n",
      "[CV] END bootstrap=True, max_depth=25, max_features=auto, min_samples_leaf=2, min_samples_split=5, n_estimators=100; total time=   0.5s\n",
      "[CV] END bootstrap=True, max_depth=25, max_features=auto, min_samples_leaf=2, min_samples_split=5, n_estimators=100; total time=   0.6s\n",
      "[CV] END bootstrap=False, max_depth=100, max_features=sqrt, min_samples_leaf=1, min_samples_split=2, n_estimators=500; total time=   3.4s\n",
      "[CV] END bootstrap=False, max_depth=100, max_features=sqrt, min_samples_leaf=1, min_samples_split=2, n_estimators=500; total time=   3.4s\n",
      "[CV] END bootstrap=True, max_depth=None, max_features=auto, min_samples_leaf=1, min_samples_split=10, n_estimators=50; total time=   0.3s\n",
      "[CV] END bootstrap=True, max_depth=50, max_features=sqrt, min_samples_leaf=1, min_samples_split=5, n_estimators=100; total time=   0.6s\n",
      "[CV] END bootstrap=False, max_depth=10, max_features=auto, min_samples_leaf=1, min_samples_split=10, n_estimators=100; total time=   0.6s\n",
      "[CV] END bootstrap=False, max_depth=10, max_features=auto, min_samples_leaf=1, min_samples_split=10, n_estimators=100; total time=   0.6s\n",
      "[CV] END bootstrap=True, max_depth=50, max_features=auto, min_samples_leaf=4, min_samples_split=10, n_estimators=100; total time=   0.6s\n",
      "[CV] END bootstrap=True, max_depth=10, max_features=auto, min_samples_leaf=2, min_samples_split=10, n_estimators=100; total time=   0.6s\n",
      "[CV] END bootstrap=True, max_depth=None, max_features=sqrt, min_samples_leaf=1, min_samples_split=10, n_estimators=50; total time=   0.3s\n",
      "[CV] END bootstrap=True, max_depth=25, max_features=sqrt, min_samples_leaf=2, min_samples_split=2, n_estimators=50; total time=   0.3s\n",
      "[CV] END bootstrap=True, max_depth=25, max_features=sqrt, min_samples_leaf=1, min_samples_split=2, n_estimators=50; total time=   0.3s\n",
      "[CV] END bootstrap=True, max_depth=50, max_features=sqrt, min_samples_leaf=4, min_samples_split=5, n_estimators=50; total time=   0.3s\n",
      "[CV] END bootstrap=True, max_depth=50, max_features=sqrt, min_samples_leaf=4, min_samples_split=5, n_estimators=50; total time=   0.3s\n",
      "[CV] END bootstrap=True, max_depth=10, max_features=auto, min_samples_leaf=4, min_samples_split=5, n_estimators=50; total time=   0.3s\n",
      "[CV] END bootstrap=False, max_depth=50, max_features=auto, min_samples_leaf=1, min_samples_split=10, n_estimators=250; total time=   1.7s\n",
      "[CV] END bootstrap=False, max_depth=50, max_features=sqrt, min_samples_leaf=4, min_samples_split=5, n_estimators=50; total time=   0.3s\n",
      "[CV] END bootstrap=True, max_depth=10, max_features=auto, min_samples_leaf=2, min_samples_split=5, n_estimators=50; total time=   0.3s\n",
      "[CV] END bootstrap=True, max_depth=10, max_features=auto, min_samples_leaf=2, min_samples_split=5, n_estimators=50; total time=   0.3s\n",
      "[CV] END bootstrap=False, max_depth=50, max_features=sqrt, min_samples_leaf=1, min_samples_split=2, n_estimators=500; total time=   3.5s\n",
      "[CV] END bootstrap=False, max_depth=50, max_features=sqrt, min_samples_leaf=1, min_samples_split=2, n_estimators=500; total time=   3.5s\n",
      "[CV] END bootstrap=False, max_depth=100, max_features=auto, min_samples_leaf=2, min_samples_split=5, n_estimators=100; total time=   0.7s\n",
      "[CV] END bootstrap=False, max_depth=100, max_features=auto, min_samples_leaf=2, min_samples_split=5, n_estimators=100; total time=   0.7s\n",
      "[CV] END bootstrap=False, max_depth=25, max_features=auto, min_samples_leaf=2, min_samples_split=10, n_estimators=50; total time=   0.3s\n",
      "[CV] END bootstrap=False, max_depth=100, max_features=auto, min_samples_leaf=1, min_samples_split=10, n_estimators=250; total time=   1.7s\n",
      "[CV] END bootstrap=False, max_depth=10, max_features=sqrt, min_samples_leaf=4, min_samples_split=10, n_estimators=250; total time=   1.5s\n",
      "[CV] END bootstrap=False, max_depth=25, max_features=sqrt, min_samples_leaf=4, min_samples_split=5, n_estimators=500; total time=   3.0s\n",
      "[CV] END bootstrap=False, max_depth=25, max_features=sqrt, min_samples_leaf=4, min_samples_split=5, n_estimators=500; total time=   3.6s\n",
      "[CV] END bootstrap=False, max_depth=10, max_features=auto, min_samples_leaf=1, min_samples_split=2, n_estimators=250; total time=   1.6s\n",
      "[CV] END bootstrap=True, max_depth=50, max_features=sqrt, min_samples_leaf=2, min_samples_split=5, n_estimators=500; total time=   2.6s\n",
      "[CV] END bootstrap=False, max_depth=10, max_features=sqrt, min_samples_leaf=2, min_samples_split=10, n_estimators=50; total time=   0.3s\n",
      "[CV] END bootstrap=False, max_depth=10, max_features=sqrt, min_samples_leaf=2, min_samples_split=10, n_estimators=50; total time=   0.3s\n",
      "[CV] END bootstrap=False, max_depth=50, max_features=auto, min_samples_leaf=1, min_samples_split=5, n_estimators=50; total time=   0.3s\n",
      "[CV] END bootstrap=False, max_depth=50, max_features=auto, min_samples_leaf=1, min_samples_split=5, n_estimators=50; total time=   0.3s\n",
      "[CV] END bootstrap=True, max_depth=50, max_features=sqrt, min_samples_leaf=2, min_samples_split=5, n_estimators=250; total time=   1.3s\n",
      "[CV] END bootstrap=False, max_depth=100, max_features=auto, min_samples_leaf=2, min_samples_split=2, n_estimators=50; total time=   0.3s\n",
      "[CV] END bootstrap=False, max_depth=100, max_features=auto, min_samples_leaf=2, min_samples_split=2, n_estimators=50; total time=   0.3s\n",
      "[CV] END bootstrap=False, max_depth=100, max_features=auto, min_samples_leaf=1, min_samples_split=2, n_estimators=500; total time=   3.5s\n",
      "[CV] END bootstrap=False, max_depth=100, max_features=auto, min_samples_leaf=1, min_samples_split=2, n_estimators=500; total time=   3.4s\n",
      "[CV] END bootstrap=True, max_depth=50, max_features=auto, min_samples_leaf=2, min_samples_split=10, n_estimators=500; total time=   2.6s\n",
      "[CV] END bootstrap=True, max_depth=50, max_features=sqrt, min_samples_leaf=4, min_samples_split=10, n_estimators=100; total time=   0.5s\n",
      "[CV] END bootstrap=True, max_depth=50, max_features=sqrt, min_samples_leaf=4, min_samples_split=10, n_estimators=100; total time=   0.5s\n",
      "[CV] END bootstrap=True, max_depth=None, max_features=auto, min_samples_leaf=4, min_samples_split=5, n_estimators=500; total time=   2.5s\n",
      "[CV] END bootstrap=True, max_depth=None, max_features=sqrt, min_samples_leaf=2, min_samples_split=5, n_estimators=100; total time=   0.5s\n",
      "[CV] END bootstrap=True, max_depth=10, max_features=auto, min_samples_leaf=4, min_samples_split=5, n_estimators=250; total time=   1.2s\n",
      "[CV] END bootstrap=True, max_depth=10, max_features=auto, min_samples_leaf=4, min_samples_split=5, n_estimators=250; total time=   1.2s\n",
      "[CV] END bootstrap=True, max_depth=10, max_features=auto, min_samples_leaf=2, min_samples_split=10, n_estimators=250; total time=   1.3s\n",
      "[CV] END bootstrap=False, max_depth=10, max_features=sqrt, min_samples_leaf=4, min_samples_split=2, n_estimators=500; total time=   2.9s\n",
      "[CV] END bootstrap=True, max_depth=100, max_features=auto, min_samples_leaf=2, min_samples_split=5, n_estimators=500; total time=   2.9s\n",
      "[CV] END bootstrap=True, max_depth=100, max_features=auto, min_samples_leaf=2, min_samples_split=5, n_estimators=500; total time=   2.7s\n",
      "[CV] END bootstrap=False, max_depth=10, max_features=auto, min_samples_leaf=2, min_samples_split=2, n_estimators=250; total time=   1.5s\n",
      "[CV] END bootstrap=False, max_depth=10, max_features=auto, min_samples_leaf=2, min_samples_split=2, n_estimators=250; total time=   1.5s\n",
      "[CV] END bootstrap=True, max_depth=None, max_features=sqrt, min_samples_leaf=1, min_samples_split=2, n_estimators=500; total time=   2.8s"
     ]
    }
   ],
   "source": [
    "rfc_grid_model = RandomForestClassifier(random_state=RANDOM_STATE)\n",
    "\n",
    "rfc_grid = generate_hyperparameters(rfc_grid_model, 'grid_rfc', params_grid=rfc_param_grid)"
   ]
  },
  {
   "cell_type": "markdown",
   "id": "e80dc132",
   "metadata": {
    "papermill": {
     "duration": 0.020605,
     "end_time": "2022-08-31T23:52:14.701128",
     "exception": false,
     "start_time": "2022-08-31T23:52:14.680523",
     "status": "completed"
    },
    "tags": []
   },
   "source": [
    "## Melhores parâmetros "
   ]
  },
  {
   "cell_type": "code",
   "execution_count": 30,
   "id": "a9ff3106",
   "metadata": {
    "execution": {
     "iopub.execute_input": "2022-08-31T23:52:14.744296Z",
     "iopub.status.busy": "2022-08-31T23:52:14.743604Z",
     "iopub.status.idle": "2022-08-31T23:52:15.654377Z",
     "shell.execute_reply": "2022-08-31T23:52:15.653134Z"
    },
    "papermill": {
     "duration": 0.935951,
     "end_time": "2022-08-31T23:52:15.657371",
     "exception": false,
     "start_time": "2022-08-31T23:52:14.721420",
     "status": "completed"
    },
    "tags": []
   },
   "outputs": [
    {
     "data": {
      "text/plain": [
       "<sklearn.metrics._plot.confusion_matrix.ConfusionMatrixDisplay at 0x7f2fbac26cd0>"
      ]
     },
     "metadata": {},
     "output_type": "display_data"
    },
    {
     "data": {
      "text/html": [
       "<div>\n",
       "<style scoped>\n",
       "    .dataframe tbody tr th:only-of-type {\n",
       "        vertical-align: middle;\n",
       "    }\n",
       "\n",
       "    .dataframe tbody tr th {\n",
       "        vertical-align: top;\n",
       "    }\n",
       "\n",
       "    .dataframe thead th {\n",
       "        text-align: right;\n",
       "    }\n",
       "</style>\n",
       "<table border=\"1\" class=\"dataframe\">\n",
       "  <thead>\n",
       "    <tr style=\"text-align: right;\">\n",
       "      <th></th>\n",
       "      <th>model_name</th>\n",
       "      <th>acc</th>\n",
       "      <th>bacc</th>\n",
       "      <th>precision</th>\n",
       "      <th>recall</th>\n",
       "    </tr>\n",
       "  </thead>\n",
       "  <tbody>\n",
       "    <tr>\n",
       "      <th>0</th>\n",
       "      <td>rfc_basic</td>\n",
       "      <td>0.568966</td>\n",
       "      <td>0.504848</td>\n",
       "      <td>0.500000</td>\n",
       "      <td>0.04</td>\n",
       "    </tr>\n",
       "    <tr>\n",
       "      <th>1</th>\n",
       "      <td>rfc_tuned</td>\n",
       "      <td>0.568966</td>\n",
       "      <td>0.500000</td>\n",
       "      <td>0.000000</td>\n",
       "      <td>0.00</td>\n",
       "    </tr>\n",
       "    <tr>\n",
       "      <th>2</th>\n",
       "      <td>rfc_best_params</td>\n",
       "      <td>0.551724</td>\n",
       "      <td>0.489697</td>\n",
       "      <td>0.333333</td>\n",
       "      <td>0.04</td>\n",
       "    </tr>\n",
       "  </tbody>\n",
       "</table>\n",
       "</div>"
      ],
      "text/plain": [
       "        model_name       acc      bacc  precision  recall\n",
       "0        rfc_basic  0.568966  0.504848   0.500000    0.04\n",
       "1        rfc_tuned  0.568966  0.500000   0.000000    0.00\n",
       "2  rfc_best_params  0.551724  0.489697   0.333333    0.04"
      ]
     },
     "metadata": {},
     "output_type": "display_data"
    },
    {
     "data": {
      "image/png": "[encoded data removed]",
      "text/plain": [
       "<Figure size 432x288 with 2 Axes>"
      ]
     },
     "metadata": {
      "needs_background": "light"
     },
     "output_type": "display_data"
    }
   ],
   "source": [
    "rfc_best_params = RandomForestClassifier(\n",
    "    **rfc_grid.best_params_,\n",
    "    random_state=RANDOM_STATE\n",
    ")\n",
    "rfc_best_params_scores, rfc_best_params_pipeline = generate_predictions(rfc_best_params, 'rfc_best_params')"
   ]
  },
  {
   "cell_type": "markdown",
   "id": "c1bdda1e",
   "metadata": {
    "papermill": {
     "duration": 0.021479,
     "end_time": "2022-08-31T23:52:15.699217",
     "exception": false,
     "start_time": "2022-08-31T23:52:15.677738",
     "status": "completed"
    },
    "tags": []
   },
   "source": [
    "# Support Vector Classifier"
   ]
  },
  {
   "cell_type": "code",
   "execution_count": 31,
   "id": "960a3c8c",
   "metadata": {
    "execution": {
     "iopub.execute_input": "2022-08-31T23:52:15.741783Z",
     "iopub.status.busy": "2022-08-31T23:52:15.741098Z",
     "iopub.status.idle": "2022-08-31T23:52:15.745560Z",
     "shell.execute_reply": "2022-08-31T23:52:15.744691Z"
    },
    "papermill": {
     "duration": 0.028382,
     "end_time": "2022-08-31T23:52:15.747804",
     "exception": false,
     "start_time": "2022-08-31T23:52:15.719422",
     "status": "completed"
    },
    "tags": []
   },
   "outputs": [],
   "source": [
    "from sklearn.svm import SVC"
   ]
  },
  {
   "cell_type": "markdown",
   "id": "892b8241",
   "metadata": {
    "papermill": {
     "duration": 0.019998,
     "end_time": "2022-08-31T23:52:15.787540",
     "exception": false,
     "start_time": "2022-08-31T23:52:15.767542",
     "status": "completed"
    },
    "tags": []
   },
   "source": [
    "## Básico"
   ]
  },
  {
   "cell_type": "code",
   "execution_count": 32,
   "id": "5ca6cf2e",
   "metadata": {
    "execution": {
     "iopub.execute_input": "2022-08-31T23:52:15.831201Z",
     "iopub.status.busy": "2022-08-31T23:52:15.830515Z",
     "iopub.status.idle": "2022-08-31T23:52:16.191980Z",
     "shell.execute_reply": "2022-08-31T23:52:16.190900Z"
    },
    "papermill": {
     "duration": 0.386952,
     "end_time": "2022-08-31T23:52:16.194616",
     "exception": false,
     "start_time": "2022-08-31T23:52:15.807664",
     "status": "completed"
    },
    "tags": []
   },
   "outputs": [
    {
     "name": "stderr",
     "output_type": "stream",
     "text": [
      "/opt/conda/lib/python3.7/site-packages/sklearn/metrics/_classification.py:1318: UndefinedMetricWarning: Precision is ill-defined and being set to 0.0 due to no predicted samples. Use `zero_division` parameter to control this behavior.\n",
      "  _warn_prf(average, modifier, msg_start, len(result))\n"
     ]
    },
    {
     "data": {
      "text/plain": [
       "<sklearn.metrics._plot.confusion_matrix.ConfusionMatrixDisplay at 0x7f2fdd39b050>"
      ]
     },
     "metadata": {},
     "output_type": "display_data"
    },
    {
     "data": {
      "text/html": [
       "<div>\n",
       "<style scoped>\n",
       "    .dataframe tbody tr th:only-of-type {\n",
       "        vertical-align: middle;\n",
       "    }\n",
       "\n",
       "    .dataframe tbody tr th {\n",
       "        vertical-align: top;\n",
       "    }\n",
       "\n",
       "    .dataframe thead th {\n",
       "        text-align: right;\n",
       "    }\n",
       "</style>\n",
       "<table border=\"1\" class=\"dataframe\">\n",
       "  <thead>\n",
       "    <tr style=\"text-align: right;\">\n",
       "      <th></th>\n",
       "      <th>model_name</th>\n",
       "      <th>acc</th>\n",
       "      <th>bacc</th>\n",
       "      <th>precision</th>\n",
       "      <th>recall</th>\n",
       "    </tr>\n",
       "  </thead>\n",
       "  <tbody>\n",
       "    <tr>\n",
       "      <th>0</th>\n",
       "      <td>rfc_basic</td>\n",
       "      <td>0.568966</td>\n",
       "      <td>0.504848</td>\n",
       "      <td>0.500000</td>\n",
       "      <td>0.04</td>\n",
       "    </tr>\n",
       "    <tr>\n",
       "      <th>1</th>\n",
       "      <td>rfc_tuned</td>\n",
       "      <td>0.568966</td>\n",
       "      <td>0.500000</td>\n",
       "      <td>0.000000</td>\n",
       "      <td>0.00</td>\n",
       "    </tr>\n",
       "    <tr>\n",
       "      <th>2</th>\n",
       "      <td>rfc_best_params</td>\n",
       "      <td>0.551724</td>\n",
       "      <td>0.489697</td>\n",
       "      <td>0.333333</td>\n",
       "      <td>0.04</td>\n",
       "    </tr>\n",
       "    <tr>\n",
       "      <th>3</th>\n",
       "      <td>svc_basic</td>\n",
       "      <td>0.568966</td>\n",
       "      <td>0.500000</td>\n",
       "      <td>0.000000</td>\n",
       "      <td>0.00</td>\n",
       "    </tr>\n",
       "  </tbody>\n",
       "</table>\n",
       "</div>"
      ],
      "text/plain": [
       "        model_name       acc      bacc  precision  recall\n",
       "0        rfc_basic  0.568966  0.504848   0.500000    0.04\n",
       "1        rfc_tuned  0.568966  0.500000   0.000000    0.00\n",
       "2  rfc_best_params  0.551724  0.489697   0.333333    0.04\n",
       "3        svc_basic  0.568966  0.500000   0.000000    0.00"
      ]
     },
     "metadata": {},
     "output_type": "display_data"
    },
    {
     "data": {
      "image/png": "[encoded data removed]",
      "text/plain": [
       "<Figure size 432x288 with 2 Axes>"
      ]
     },
     "metadata": {
      "needs_background": "light"
     },
     "output_type": "display_data"
    }
   ],
   "source": [
    "svc = SVC(random_state=RANDOM_STATE)\n",
    "svc_scores, svc_pipeline = generate_predictions(svc, 'svc_basic')"
   ]
  },
  {
   "cell_type": "markdown",
   "id": "c9958abd",
   "metadata": {
    "papermill": {
     "duration": 0.022841,
     "end_time": "2022-08-31T23:52:16.238697",
     "exception": false,
     "start_time": "2022-08-31T23:52:16.215856",
     "status": "completed"
    },
    "tags": []
   },
   "source": [
    "## kernel='poly', degree=6, gamma=1, C=0.1"
   ]
  },
  {
   "cell_type": "code",
   "execution_count": 33,
   "id": "3c6706ba",
   "metadata": {
    "execution": {
     "iopub.execute_input": "2022-08-31T23:52:16.283165Z",
     "iopub.status.busy": "2022-08-31T23:52:16.282230Z",
     "iopub.status.idle": "2022-08-31T23:52:17.622055Z",
     "shell.execute_reply": "2022-08-31T23:52:17.620479Z"
    },
    "papermill": {
     "duration": 1.364823,
     "end_time": "2022-08-31T23:52:17.625020",
     "exception": false,
     "start_time": "2022-08-31T23:52:16.260197",
     "status": "completed"
    },
    "tags": []
   },
   "outputs": [
    {
     "data": {
      "text/plain": [
       "<sklearn.metrics._plot.confusion_matrix.ConfusionMatrixDisplay at 0x7f2fdd3b1c50>"
      ]
     },
     "metadata": {},
     "output_type": "display_data"
    },
    {
     "data": {
      "text/html": [
       "<div>\n",
       "<style scoped>\n",
       "    .dataframe tbody tr th:only-of-type {\n",
       "        vertical-align: middle;\n",
       "    }\n",
       "\n",
       "    .dataframe tbody tr th {\n",
       "        vertical-align: top;\n",
       "    }\n",
       "\n",
       "    .dataframe thead th {\n",
       "        text-align: right;\n",
       "    }\n",
       "</style>\n",
       "<table border=\"1\" class=\"dataframe\">\n",
       "  <thead>\n",
       "    <tr style=\"text-align: right;\">\n",
       "      <th></th>\n",
       "      <th>model_name</th>\n",
       "      <th>acc</th>\n",
       "      <th>bacc</th>\n",
       "      <th>precision</th>\n",
       "      <th>recall</th>\n",
       "    </tr>\n",
       "  </thead>\n",
       "  <tbody>\n",
       "    <tr>\n",
       "      <th>0</th>\n",
       "      <td>rfc_basic</td>\n",
       "      <td>0.568966</td>\n",
       "      <td>0.504848</td>\n",
       "      <td>0.500000</td>\n",
       "      <td>0.04</td>\n",
       "    </tr>\n",
       "    <tr>\n",
       "      <th>1</th>\n",
       "      <td>rfc_tuned</td>\n",
       "      <td>0.568966</td>\n",
       "      <td>0.500000</td>\n",
       "      <td>0.000000</td>\n",
       "      <td>0.00</td>\n",
       "    </tr>\n",
       "    <tr>\n",
       "      <th>2</th>\n",
       "      <td>rfc_best_params</td>\n",
       "      <td>0.551724</td>\n",
       "      <td>0.489697</td>\n",
       "      <td>0.333333</td>\n",
       "      <td>0.04</td>\n",
       "    </tr>\n",
       "    <tr>\n",
       "      <th>3</th>\n",
       "      <td>svc_basic</td>\n",
       "      <td>0.568966</td>\n",
       "      <td>0.500000</td>\n",
       "      <td>0.000000</td>\n",
       "      <td>0.00</td>\n",
       "    </tr>\n",
       "    <tr>\n",
       "      <th>4</th>\n",
       "      <td>svc_poly</td>\n",
       "      <td>0.500000</td>\n",
       "      <td>0.468485</td>\n",
       "      <td>0.375000</td>\n",
       "      <td>0.24</td>\n",
       "    </tr>\n",
       "  </tbody>\n",
       "</table>\n",
       "</div>"
      ],
      "text/plain": [
       "        model_name       acc      bacc  precision  recall\n",
       "0        rfc_basic  0.568966  0.504848   0.500000    0.04\n",
       "1        rfc_tuned  0.568966  0.500000   0.000000    0.00\n",
       "2  rfc_best_params  0.551724  0.489697   0.333333    0.04\n",
       "3        svc_basic  0.568966  0.500000   0.000000    0.00\n",
       "4         svc_poly  0.500000  0.468485   0.375000    0.24"
      ]
     },
     "metadata": {},
     "output_type": "display_data"
    },
    {
     "data": {
      "image/png": "[encoded data removed]",
      "text/plain": [
       "<Figure size 432x288 with 2 Axes>"
      ]
     },
     "metadata": {
      "needs_background": "light"
     },
     "output_type": "display_data"
    }
   ],
   "source": [
    "svc_poly = SVC(kernel='poly', degree=6, gamma=1, C=0.1, random_state=RANDOM_STATE)\n",
    "svc_poly_scores, svc_poly_pipeline = generate_predictions(svc_poly, 'svc_poly')"
   ]
  },
  {
   "cell_type": "markdown",
   "id": "a1ea5748",
   "metadata": {
    "papermill": {
     "duration": 0.021558,
     "end_time": "2022-08-31T23:52:17.667701",
     "exception": false,
     "start_time": "2022-08-31T23:52:17.646143",
     "status": "completed"
    },
    "tags": []
   },
   "source": [
    "## GridSearch"
   ]
  },
  {
   "cell_type": "code",
   "execution_count": 34,
   "id": "2b28f961",
   "metadata": {
    "execution": {
     "iopub.execute_input": "2022-08-31T23:52:17.712716Z",
     "iopub.status.busy": "2022-08-31T23:52:17.712234Z",
     "iopub.status.idle": "2022-08-31T23:52:17.717878Z",
     "shell.execute_reply": "2022-08-31T23:52:17.716979Z"
    },
    "papermill": {
     "duration": 0.03075,
     "end_time": "2022-08-31T23:52:17.720367",
     "exception": false,
     "start_time": "2022-08-31T23:52:17.689617",
     "status": "completed"
    },
    "tags": []
   },
   "outputs": [],
   "source": [
    "svc_param_grid = {\n",
    "    'C': [0.1, 1, 100, 1000],\n",
    "    'gamma': [1, 0.1, 0.01, 0.001],\n",
    "    'kernel': ['rbf', 'poly'],\n",
    "    'degree': [3, 4, 5, 6]\n",
    "}"
   ]
  },
  {
   "cell_type": "code",
   "execution_count": 35,
   "id": "d3761f74",
   "metadata": {
    "collapsed": true,
    "execution": {
     "iopub.execute_input": "2022-08-31T23:52:17.764585Z",
     "iopub.status.busy": "2022-08-31T23:52:17.764149Z",
     "iopub.status.idle": "2022-08-31T23:53:09.558478Z",
     "shell.execute_reply": "2022-08-31T23:53:09.556805Z"
    },
    "jupyter": {
     "outputs_hidden": true
    },
    "papermill": {
     "duration": 51.820577,
     "end_time": "2022-08-31T23:53:09.562280",
     "exception": false,
     "start_time": "2022-08-31T23:52:17.741703",
     "status": "completed"
    },
    "tags": []
   },
   "outputs": [
    {
     "name": "stdout",
     "output_type": "stream",
     "text": [
      "Fitting 5 folds for each of 100 candidates, totalling 500 fits\n",
      "\n",
      "[CV] END bootstrap=True, max_depth=50, max_features=auto, min_samples_leaf=2, min_samples_split=2, n_estimators=250; total time=   1.4s\n",
      "[CV] END bootstrap=True, max_depth=25, max_features=auto, min_samples_leaf=2, min_samples_split=5, n_estimators=100; total time=   0.7s\n",
      "[CV] END bootstrap=False, max_depth=100, max_features=sqrt, min_samples_leaf=1, min_samples_split=2, n_estimators=500; total time=   3.8s\n",
      "[CV] END bootstrap=False, max_depth=25, max_features=auto, min_samples_leaf=1, min_samples_split=5, n_estimators=50; total time=   0.4s\n",
      "[CV] END bootstrap=False, max_depth=25, max_features=auto, min_samples_leaf=1, min_samples_split=5, n_estimators=50; total time=   0.3s\n",
      "[CV] END bootstrap=False, max_depth=None, max_features=sqrt, min_samples_leaf=2, min_samples_split=10, n_estimators=250; total time=   1.6s\n",
      "[CV] END bootstrap=False, max_depth=None, max_features=sqrt, min_samples_leaf=2, min_samples_split=10, n_estimators=250; total time=   1.5s\n",
      "[CV] END bootstrap=True, max_depth=50, max_features=sqrt, min_samples_leaf=1, min_samples_split=5, n_estimators=100; total time=   0.6s\n",
      "[CV] END bootstrap=False, max_depth=10, max_features=auto, min_samples_leaf=1, min_samples_split=10, n_estimators=100; total time=   0.6s\n",
      "[CV] END bootstrap=True, max_depth=50, max_features=auto, min_samples_leaf=4, min_samples_split=10, n_estimators=100; total time=   0.5s\n",
      "[CV] END bootstrap=True, max_depth=50, max_features=auto, min_samples_leaf=4, min_samples_split=10, n_estimators=100; total time=   0.5s\n",
      "[CV] END bootstrap=True, max_depth=10, max_features=auto, min_samples_leaf=2, min_samples_split=10, n_estimators=100; total time=   0.5s\n",
      "[CV] END bootstrap=True, max_depth=None, max_features=sqrt, min_samples_leaf=1, min_samples_split=10, n_estimators=50; total time=   0.3s\n",
      "[CV] END bootstrap=True, max_depth=25, max_features=sqrt, min_samples_leaf=2, min_samples_split=2, n_estimators=50; total time=   0.3s\n",
      "[CV] END bootstrap=True, max_depth=25, max_features=sqrt, min_samples_leaf=2, min_samples_split=2, n_estimators=50; total time=   0.3s\n",
      "[CV] END bootstrap=True, max_depth=25, max_features=sqrt, min_samples_leaf=1, min_samples_split=2, n_estimators=50; total time=   0.3s\n",
      "[CV] END bootstrap=True, max_depth=50, max_features=sqrt, min_samples_leaf=4, min_samples_split=5, n_estimators=50; total time=   0.2s\n",
      "[CV] END bootstrap=True, max_depth=10, max_features=auto, min_samples_leaf=4, min_samples_split=5, n_estimators=50; total time=   0.3s\n",
      "[CV] END bootstrap=False, max_depth=50, max_features=auto, min_samples_leaf=1, min_samples_split=10, n_estimators=250; total time=   1.7s\n",
      "[CV] END bootstrap=False, max_depth=50, max_features=auto, min_samples_leaf=1, min_samples_split=10, n_estimators=250; total time=   1.6s\n",
      "[CV] END bootstrap=False, max_depth=50, max_features=sqrt, min_samples_leaf=1, min_samples_split=2, n_estimators=500; total time=   3.5s\n",
      "[CV] END bootstrap=True, max_depth=None, max_features=sqrt, min_samples_leaf=4, min_samples_split=5, n_estimators=100; total time=   0.5s\n",
      "[CV] END bootstrap=False, max_depth=None, max_features=auto, min_samples_leaf=2, min_samples_split=2, n_estimators=250; total time=   1.7s\n",
      "[CV] END bootstrap=False, max_depth=None, max_features=auto, min_samples_leaf=2, min_samples_split=2, n_estimators=250; total time=   1.7s\n",
      "[CV] END bootstrap=False, max_depth=25, max_features=auto, min_samples_leaf=2, min_samples_split=10, n_estimators=50; total time=   0.3s\n",
      "[CV] END bootstrap=False, max_depth=25, max_features=auto, min_samples_leaf=2, min_samples_split=10, n_estimators=50; total time=   0.3s\n",
      "[CV] END bootstrap=False, max_depth=100, max_features=auto, min_samples_leaf=1, min_samples_split=10, n_estimators=250; total time=   1.6s\n",
      "[CV] END bootstrap=False, max_depth=10, max_features=sqrt, min_samples_leaf=4, min_samples_split=10, n_estimators=250; total time=   1.5s\n",
      "[CV] END bootstrap=False, max_depth=10, max_features=sqrt, min_samples_leaf=4, min_samples_split=10, n_estimators=250; total time=   1.5s\n",
      "[CV] END bootstrap=False, max_depth=25, max_features=sqrt, min_samples_leaf=4, min_samples_split=5, n_estimators=500; total time=   3.1s\n",
      "[CV] END bootstrap=False, max_depth=None, max_features=auto, min_samples_leaf=1, min_samples_split=2, n_estimators=100; total time=   0.9s\n",
      "[CV] END bootstrap=True, max_depth=None, max_features=sqrt, min_samples_leaf=1, min_samples_split=5, n_estimators=50; total time=   0.3s\n",
      "[CV] END bootstrap=True, max_depth=None, max_features=sqrt, min_samples_leaf=1, min_samples_split=5, n_estimators=50; total time=   0.3s\n",
      "[CV] END bootstrap=False, max_depth=10, max_features=auto, min_samples_leaf=1, min_samples_split=2, n_estimators=250; total time=   1.6s\n",
      "[CV] END bootstrap=False, max_depth=10, max_features=auto, min_samples_leaf=1, min_samples_split=2, n_estimators=250; total time=   1.6s\n",
      "[CV] END bootstrap=True, max_depth=50, max_features=sqrt, min_samples_leaf=2, min_samples_split=5, n_estimators=500; total time=   2.6s\n",
      "[CV] END bootstrap=False, max_depth=50, max_features=auto, min_samples_leaf=1, min_samples_split=5, n_estimators=50; total time=   0.3s\n",
      "[CV] END bootstrap=True, max_depth=50, max_features=sqrt, min_samples_leaf=2, min_samples_split=5, n_estimators=250; total time=   1.3s\n",
      "[CV] END bootstrap=True, max_depth=50, max_features=sqrt, min_samples_leaf=2, min_samples_split=5, n_estimators=250; total time=   1.3s\n",
      "[CV] END bootstrap=False, max_depth=100, max_features=auto, min_samples_leaf=1, min_samples_split=2, n_estimators=500; total time=   3.5s\n",
      "[CV] END bootstrap=True, max_depth=100, max_features=auto, min_samples_leaf=4, min_samples_split=2, n_estimators=250; total time=   1.2s\n",
      "[CV] END bootstrap=True, max_depth=50, max_features=auto, min_samples_leaf=2, min_samples_split=10, n_estimators=500; total time=   2.6s\n",
      "[CV] END bootstrap=True, max_depth=50, max_features=auto, min_samples_leaf=2, min_samples_split=10, n_estimators=500; total time=   2.5s\n",
      "[CV] END bootstrap=True, max_depth=None, max_features=auto, min_samples_leaf=4, min_samples_split=5, n_estimators=500; total time=   2.5s\n",
      "[CV] END bootstrap=True, max_depth=None, max_features=sqrt, min_samples_leaf=2, min_samples_split=5, n_estimators=100; total time=   0.5s\n",
      "[CV] END bootstrap=True, max_depth=None, max_features=sqrt, min_samples_leaf=2, min_samples_split=5, n_estimators=100; total time=   0.5s\n",
      "[CV] END bootstrap=True, max_depth=10, max_features=auto, min_samples_leaf=4, min_samples_split=5, n_estimators=250; total time=   1.2s\n",
      "[CV] END bootstrap=True, max_depth=10, max_features=auto, min_samples_leaf=4, min_samples_split=5, n_estimators=250; total time=   1.2s\n",
      "[CV] END bootstrap=True, max_depth=10, max_features=auto, min_samples_leaf=2, min_samples_split=10, n_estimators=250; total time=   1.2s\n",
      "[CV] END bootstrap=False, max_depth=10, max_features=sqrt, min_samples_leaf=4, min_samples_split=2, n_estimators=500; total time=   2.9s\n",
      "[CV] END bootstrap=True, max_depth=100, max_features=auto, min_samples_leaf=2, min_samples_split=5, n_estimators=500; total time=   2.9s\n",
      "[CV] END bootstrap=True, max_depth=100, max_features=auto, min_samples_leaf=4, min_samples_split=10, n_estimators=250; total time=   1.4s\n",
      "[CV] END bootstrap=True, max_depth=100, max_features=auto, min_samples_leaf=4, min_samples_split=10, n_estimators=250; total time=   1.2s\n",
      "[CV] END bootstrap=False, max_depth=10, max_features=auto, min_samples_leaf=2, min_samples_split=2, n_estimators=250; total time=   1.5s\n",
      "[CV] END bootstrap=True, max_depth=None, max_features=sqrt, min_samples_leaf=1, min_samples_split=2, n_estimators=500; total time=   2.8s\n",
      "[CV] END bootstrap=True, max_depth=None, max_features=sqrt, min_samples_leaf=1, min_samples_split=2, n_estimators=500; total time=   2.7s\n",
      "[CV] END bootstrap=True, max_depth=25, max_features=sqrt, min_samples_leaf=2, min_samples_split=5, n_estimators=500; total time=   2.7s\n",
      "[CV] END .............C=100, degree=4, gamma=0.1, kernel=rbf; total time=   0.1s\n",
      "[CV] END ..........C=100, degree=3, gamma=0.001, kernel=poly; total time=   1.2s\n",
      "[CV] END ..........C=1000, degree=4, gamma=0.001, kernel=rbf; total time=   0.1s\n",
      "[CV] END ..............C=1, degree=3, gamma=0.1, kernel=poly; total time=   1.5s\n",
      "[CV] END .............C=1000, degree=4, gamma=1, kernel=poly; total time=   0.3s\n",
      "[CV] END bootstrap=True, max_depth=50, max_features=sqrt, min_samples_leaf=4, min_samples_split=10, n_estimators=100; total time=   0.5s\n",
      "[CV] END bootstrap=True, max_depth=None, max_features=auto, min_samples_leaf=4, min_samples_split=5, n_estimators=500; total time=   2.5s\n",
      "[CV] END bootstrap=True, max_depth=None, max_features=sqrt, min_samples_leaf=2, min_samples_split=5, n_estimators=100; total time=   0.5s\n",
      "[CV] END bootstrap=True, max_depth=None, max_features=sqrt, min_samples_leaf=2, min_samples_split=5, n_estimators=100; total time=   0.5s\n",
      "[CV] END bootstrap=True, max_depth=10, max_features=auto, min_samples_leaf=4, min_samples_split=5, n_estimators=250; total time=   1.2s\n",
      "[CV] END bootstrap=True, max_depth=10, max_features=auto, min_samples_leaf=2, min_samples_split=10, n_estimators=250; total time=   1.3s\n",
      "[CV] END bootstrap=False, max_depth=10, max_features=sqrt, min_samples_leaf=4, min_samples_split=2, n_estimators=500; total time=   2.9s\n",
      "[CV] END bootstrap=False, max_depth=10, max_features=sqrt, min_samples_leaf=4, min_samples_split=2, n_estimators=500; total time=   2.8s\n",
      "[CV] END bootstrap=True, max_depth=100, max_features=auto, min_samples_leaf=2, min_samples_split=5, n_estimators=500; total time=   3.3s\n",
      "[CV] END bootstrap=True, max_depth=100, max_features=auto, min_samples_leaf=4, min_samples_split=10, n_estimators=250; total time=   1.2s\n",
      "[CV] END bootstrap=False, max_depth=10, max_features=auto, min_samples_leaf=2, min_samples_split=2, n_estimators=250; total time=   1.5s\n",
      "[CV] END bootstrap=True, max_depth=None, max_features=sqrt, min_samples_leaf=1, min_samples_split=2, n_estimators=500; total time=   2.7s\n",
      "[CV] END bootstrap=True, max_depth=25, max_features=sqrt, min_samples_leaf=2, min_samples_split=5, n_estimators=500; total time=   2.7s\n",
      "[CV] END bootstrap=False, max_depth=50, max_features=sqrt, min_samples_leaf=2, min_samples_split=2, n_estimators=100; total time=   0.7s\n",
      "[CV] END bootstrap=False, max_depth=50, max_features=sqrt, min_samples_leaf=2, min_samples_split=2, n_estimators=100; total time=   0.7s\n",
      "[CV] END bootstrap=False, max_depth=50, max_features=sqrt, min_samples_leaf=2, min_samples_split=2, n_estimators=100; total time=   0.6s\n",
      "[CV] END .............C=100, degree=4, gamma=0.1, kernel=rbf; total time=   0.1s\n",
      "[CV] END ..........C=100, degree=3, gamma=0.001, kernel=poly; total time=   1.2s\n",
      "[CV] END ..............C=1, degree=3, gamma=0.1, kernel=poly; total time=   0.7s\n",
      "[CV] END ..............C=1, degree=3, gamma=0.1, kernel=poly; total time=   0.6s\n",
      "[CV] END .............C=1000, degree=4, gamma=1, kernel=poly; total time=   0.5s\n",
      "[CV] END .............C=1000, degree=4, gamma=1, kernel=poly; total time=   0.3s\n",
      "[CV] END ................C=1, degree=6, gamma=1, kernel=poly; total time=   0.4s\n",
      "[CV] END ................C=1, degree=6, gamma=1, kernel=poly; total time=   0.6s\n",
      "[CV] END ..........C=100, degree=5, gamma=0.001, kernel=poly; total time=   0.2s\n",
      "[CV] END .............C=0.1, degree=3, gamma=0.1, kernel=rbf; total time=   0.1s\n",
      "[CV] END .............C=0.1, degree=3, gamma=0.1, kernel=rbf; total time=   0.1s\n",
      "[CV] END .............C=0.1, degree=3, gamma=0.1, kernel=rbf; total time=   0.1s\n",
      "[CV] END .............C=0.1, degree=3, gamma=0.1, kernel=rbf; total time=   0.1s\n",
      "[CV] END .............C=0.1, degree=3, gamma=0.1, kernel=rbf; total time=   0.1s\n",
      "[CV] END ............C=1, degree=6, gamma=0.001, kernel=poly; total time=   1.3s\n",
      "[CV] END ............C=1, degree=6, gamma=0.001, kernel=poly; total time=   1.1s\n",
      "[CV] END ..............C=100, degree=6, gamma=1, kernel=poly; total time=   0.6s\n",
      "[CV] END ............C=100, degree=5, gamma=0.1, kernel=poly; total time=   0.5s\n",
      "[CV] END ............C=100, degree=5, gamma=0.1, kernel=poly; total time=   0.4s\n",
      "[CV] END ...........C=100, degree=6, gamma=0.001, kernel=rbf; total time=   0.1s\n",
      "[CV] END .............C=0.1, degree=4, gamma=0.1, kernel=rbf; total time=   0.1s\n",
      "[CV] END .............C=0.1, degree=4, gamma=0.1, kernel=rbf; total time=   0.1s\n",
      "[CV] END ..........C=0.1, degree=6, gamma=0.001, kernel=poly; total time=   1.0s\n",
      "[CV] END ..............C=1, degree=5, gamma=0.1, kernel=poly; total time=   0.6s\n",
      "[CV] END ..............C=1, degree=5, gamma=0.1, kernel=poly; total time=   0.4s\n",
      "[CV] END .............C=1, degree=6, gamma=0.01, kernel=poly; total time=   0.4s\n",
      "[CV] END .............C=1, degree=6, gamma=0.01, kernel=poly; total time=   0.4s\n",
      "[CV] END ..........C=1000, degree=3, gamma=0.01, kernel=poly; total time=   1.4s\n",
      "[CV] END ..........C=1000, degree=6, gamma=0.01, kernel=poly; total time=   0.6s\n",
      "[CV] END ...........C=100, degree=4, gamma=0.01, kernel=poly; total time=   0.8s\n",
      "[CV] END ...........C=100, degree=4, gamma=0.01, kernel=poly; total time=   0.2s\n",
      "[CV] END ...........C=100, degree=4, gamma=0.01, kernel=poly; total time=   0.5s\n",
      "[CV] END ..........C=0.1, degree=4, gamma=0.001, kernel=poly; total time=   0.6s\n",
      "[CV] END ..........C=0.1, degree=4, gamma=0.001, kernel=poly; total time=   0.3s\n",
      "[CV] END ...........C=100, degree=3, gamma=0.01, kernel=poly; total time=   1.7s\n",
      "[CV] END .............C=1000, degree=3, gamma=1, kernel=poly; total time=   0.5s\n",
      "[CV] END .............C=1000, degree=3, gamma=1, kernel=poly; total time=   0.8s\n",
      "[CV] END ............C=1, degree=5, gamma=0.001, kernel=poly; total time=   0.6s\n",
      "[CV] END ............C=0.1, degree=4, gamma=0.01, kernel=rbf; total time=   0.1s\n",
      "[CV] END ...............C=1, degree=5, gamma=0.1, kernel=rbf; total time=   0.1s\n",
      "[CV] END ...............C=1, degree=5, gamma=0.1, kernel=rbf; total time=   0.1s\n",
      "[CV] END ..............C=1, degree=4, gamma=0.1, kernel=poly; total time=   0.5s\n",
      "[CV] END ............C=100, degree=6, gamma=0.01, kernel=rbf; total time=   0.1s\n",
      "[CV] END ............C=100, degree=6, gamma=0.01, kernel=rbf; total time=   0.1s\n",
      "[CV] END ............C=100, degree=6, gamma=0.01, kernel=rbf; total time=   0.1s\n",
      "[CV] END ............C=100, degree=6, gamma=0.01, kernel=rbf; total time=   0.1s\n",
      "[CV] END ............C=100, degree=6, gamma=0.01, kernel=rbf; total time=   0.1s\n",
      "[CV] END ...........C=100, degree=4, gamma=0.001, kernel=rbf; total time=   0.1s\n",
      "[CV] END ...........C=100, degree=4, gamma=0.001, kernel=rbf; total time=   0.1s\n",
      "[CV] END ...........C=100, degree=4, gamma=0.001, kernel=rbf; total time=   0.1s\n",
      "[CV] END ...........C=1000, degree=6, gamma=0.01, kernel=rbf; total time=   0.1s\n",
      "[CV] END .............C=1, degree=6, gamma=0.001, kernel=rbf; total time=   0.1s\n",
      "[CV] END ............C=1000, degree=5, gamma=0.1, kernel=rbf; total time=   0.1s\n",
      "[CV] END ............C=1000, degree=5, gamma=0.1, kernel=rbf; total time=   0.1s\n",
      "[CV] END .............C=1, degree=3, gamma=0.01, kernel=poly; total time=   1.4s\n",
      "[CV] END .............C=1, degree=3, gamma=0.01, kernel=poly; total time=   0.5s\n",
      "[CV] END ................C=1, degree=5, gamma=1, kernel=poly; total time=   0.4s\n",
      "[CV] END ................C=1, degree=5, gamma=1, kernel=poly; total time=   0.4s\n",
      "[CV] END ..............C=1000, degree=4, gamma=1, kernel=rbf; total time=   0.1s\n",
      "[CV] END ..............C=1000, degree=4, gamma=1, kernel=rbf; total time=   0.1s\n",
      "[CV] END ................C=1, degree=3, gamma=1, kernel=poly; total time=   0.4s\n",
      "[CV] END ................C=1, degree=3, gamma=1, kernel=poly; total time=   0.7s\n",
      "[CV] END .........C=1000, degree=6, gamma=0.001, kernel=poly; total time=   0.3s\n",
      "[CV] END .........C=1000, degree=6, gamma=0.001, kernel=poly; total time=   0.5s\n",
      "[CV] END ............C=1000, degree=3, gamma=0.1, kernel=rbf; total time=   0.1s\n",
      "[CV] END ............C=1000, degree=3, gamma=0.1, kernel=rbf; total time=   0.1s\n",
      "[CV] END ............C=1000, degree=3, gamma=0.1, kernel=rbf; total time=   0.1s\n",
      "[CV] END ............C=1000, degree=3, gamma=0.1, kernel=rbf; total time=   0.1s\n",
      "[CV] END ............C=1000, degree=4, gamma=0.1, kernel=rbf; total time=   0.1s\n",
      "[CV] END ............C=1000, degree=4, gamma=0.1, kernel=rbf; total time=   0.1s\n",
      "[CV] END ..............C=100, degree=4, gamma=1, kernel=poly; total time=   1.1s\n",
      "[CV] END ..............C=100, degree=4, gamma=1, kernel=poly; total time=   1.2s\n",
      "[CV] END ..............C=0.1, degree=6, gamma=1, kernel=poly; total time=   1.2s\n",
      "[CV] END ..............C=0.1, degree=6, gamma=1, kernel=poly; total time=   1.7s\n",
      "[CV] END ...........C=1000, degree=5, gamma=0.01, kernel=rbf; total time=   0.1s\n",
      "[CV] END bootstrap=True, max_depth=25, max_features=sqrt, min_samples_leaf=2, min_samples_split=5, n_estimators=500; total time=   2.6s\n",
      "[CV] END bootstrap=False, max_depth=50, max_features=sqrt, min_samples_leaf=2, min_samples_split=2, n_estimators=100; total time=   0.7s\n",
      "[CV] END bootstrap=False, max_depth=50, max_features=sqrt, min_samples_leaf=2, min_samples_split=2, n_estimators=100; total time=   0.7s\n",
      "[CV] END .............C=100, degree=4, gamma=0.1, kernel=rbf; total time=   0.0s\n",
      "[CV] END .............C=100, degree=4, gamma=0.1, kernel=rbf; total time=   0.1s\n",
      "[CV] END ..........C=100, degree=3, gamma=0.001, kernel=poly; total time=   0.5s\n",
      "[CV] END ..........C=100, degree=3, gamma=0.001, kernel=poly; total time=   0.3s\n",
      "[CV] END ...........C=0.1, degree=6, gamma=0.001, kernel=rbf; total time=   0.1s\n",
      "[CV] END ...........C=0.1, degree=6, gamma=0.001, kernel=rbf; total time=   0.1s\n",
      "[CV] END ..........C=1000, degree=4, gamma=0.001, kernel=rbf; total time=   0.1s\n",
      "[CV] END ..........C=1000, degree=4, gamma=0.001, kernel=rbf; total time=   0.1s\n",
      "[CV] END ..............C=1000, degree=6, gamma=1, kernel=rbf; total time=   0.1s\n",
      "[CV] END ..............C=1000, degree=6, gamma=1, kernel=rbf; total time=   0.1s\n",
      "[CV] END ..............C=1000, degree=6, gamma=1, kernel=rbf; total time=   0.1s\n",
      "[CV] END ..............C=1000, degree=6, gamma=1, kernel=rbf; total time=   0.1s\n",
      "[CV] END ..............C=1000, degree=6, gamma=1, kernel=rbf; total time=   0.1s\n",
      "[CV] END ...........C=100, degree=3, gamma=0.001, kernel=rbf; total time=   0.1s\n",
      "[CV] END ...........C=100, degree=3, gamma=0.001, kernel=rbf; total time=   0.1s\n",
      "[CV] END ...........C=100, degree=3, gamma=0.001, kernel=rbf; total time=   0.1s\n",
      "[CV] END ...........C=100, degree=3, gamma=0.001, kernel=rbf; total time=   0.1s\n",
      "[CV] END ...........C=100, degree=3, gamma=0.001, kernel=rbf; total time=   0.1s\n",
      "[CV] END .............C=1000, degree=4, gamma=1, kernel=poly; total time=   1.0s\n",
      "[CV] END .............C=1000, degree=4, gamma=1, kernel=poly; total time=   1.2s\n",
      "[CV] END ..........C=100, degree=5, gamma=0.001, kernel=poly; total time=   0.5s\n",
      "[CV] END ..........C=100, degree=5, gamma=0.001, kernel=poly; total time=   0.6s\n",
      "[CV] END ...........C=1000, degree=3, gamma=0.1, kernel=poly; total time=   1.5s\n",
      "[CV] END ...........C=1000, degree=3, gamma=0.1, kernel=poly; total time=   0.5s\n",
      "[CV] END ..............C=100, degree=6, gamma=1, kernel=poly; total time=   0.4s\n",
      "[CV] END ............C=100, degree=5, gamma=0.1, kernel=poly; total time=   1.0s\n",
      "[CV] END ...........C=100, degree=6, gamma=0.001, kernel=rbf; total time=   0.1s\n",
      "[CV] END ...........C=100, degree=6, gamma=0.001, kernel=rbf; total time=   0.1s\n",
      "[CV] END .............C=0.1, degree=4, gamma=0.1, kernel=rbf; total time=   0.1s\n",
      "[CV] END ..........C=0.1, degree=6, gamma=0.001, kernel=poly; total time=   1.3s\n",
      "[CV] END ..............C=1, degree=5, gamma=0.1, kernel=poly; total time=   0.4s\n",
      "[CV] END .............C=1, degree=6, gamma=0.01, kernel=poly; total time=   1.3s\n",
      "[CV] END ..........C=1000, degree=3, gamma=0.01, kernel=poly; total time=   0.4s\n",
      "[CV] END ..........C=1000, degree=3, gamma=0.01, kernel=poly; total time=   0.5s\n",
      "[CV] END ..........C=1000, degree=6, gamma=0.001, kernel=rbf; total time=   0.1s\n",
      "[CV] END ..........C=1000, degree=6, gamma=0.01, kernel=poly; total time=   1.7s\n",
      "[CV] END ..............C=1, degree=3, gamma=0.01, kernel=rbf; total time=   0.1s\n",
      "[CV] END ..............C=1, degree=3, gamma=0.01, kernel=rbf; total time=   0.1s\n",
      "[CV] END ..............C=1, degree=3, gamma=0.01, kernel=rbf; total time=   0.1s\n",
      "[CV] END ..........C=0.1, degree=4, gamma=0.001, kernel=poly; total time=   1.5s\n",
      "[CV] END ...........C=100, degree=3, gamma=0.01, kernel=poly; total time=   0.8s\n",
      "[CV] END .............C=1000, degree=3, gamma=1, kernel=poly; total time=   1.9s\n",
      "[CV] END ............C=1, degree=5, gamma=0.001, kernel=poly; total time=   0.4s\n",
      "[CV] END ............C=0.1, degree=4, gamma=0.01, kernel=rbf; total time=   0.1s\n",
      "[CV] END ...............C=1, degree=5, gamma=0.1, kernel=rbf; total time=   0.1s\n",
      "[CV] END ..............C=1, degree=4, gamma=0.1, kernel=poly; total time=   1.1s\n",
      "[CV] END ...........C=1000, degree=6, gamma=0.01, kernel=rbf; total time=   0.1s\n",
      "[CV] END .............C=1, degree=6, gamma=0.001, kernel=rbf; total time=   0.1s\n",
      "[CV] END .............C=1, degree=6, gamma=0.001, kernel=rbf; total time=   0.1s\n",
      "[CV] END ............C=1000, degree=5, gamma=0.1, kernel=rbf; total time=   0.1s\n",
      "[CV] END .................C=1, degree=6, gamma=1, kernel=rbf; total time=   0.1s\n",
      "[CV] END .................C=1, degree=6, gamma=1, kernel=rbf; total time=   0.1s\n",
      "[CV] END .............C=1, degree=3, gamma=0.01, kernel=poly; total time=   1.4s\n",
      "[CV] END ..........C=100, degree=4, gamma=0.001, kernel=poly; total time=   0.2s\n",
      "[CV] END ..........C=100, degree=4, gamma=0.001, kernel=poly; total time=   0.2s\n",
      "[CV] END ................C=1, degree=5, gamma=1, kernel=poly; total time=   0.8s\n",
      "[CV] END ................C=1, degree=5, gamma=1, kernel=poly; total time=   0.7s\n",
      "[CV] END ...............C=100, degree=4, gamma=1, kernel=rbf; total time=   0.1s\n",
      "[CV] END ...............C=100, degree=4, gamma=1, kernel=rbf; total time=   0.1s\n",
      "[CV] END ...............C=100, degree=4, gamma=1, kernel=rbf; total time=   0.1s\n",
      "[CV] END ...............C=100, degree=4, gamma=1, kernel=rbf; total time=   0.1s\n",
      "[CV] END ...............C=1, degree=4, gamma=0.1, kernel=rbf; total time=   0.1s\n",
      "[CV] END ...............C=1, degree=4, gamma=0.1, kernel=rbf; total time=   0.1s\n",
      "[CV] END ...............C=1, degree=4, gamma=0.1, kernel=rbf; total time=   0.1s\n",
      "[CV] END .........C=1000, degree=6, gamma=0.001, kernel=poly; total time=   1.2s\n",
      "[CV] END ............C=1000, degree=3, gamma=0.1, kernel=rbf; total time=   0.1s\n",
      "[CV] END ............C=1000, degree=4, gamma=0.1, kernel=rbf; total time=   0.1s\n",
      "[CV] END ............C=1000, degree=4, gamma=0.1, kernel=rbf; total time=   0.1s\n",
      "[CV] END ............C=1000, degree=4, gamma=0.1, kernel=rbf; total time=   0.1s\n",
      "[CV] END ..............C=100, degree=4, gamma=1, kernel=poly; total time=   0.5s\n",
      "[CV] END ..............C=100, degree=4, gamma=1, kernel=poly; total time=   0.3s\n",
      "[CV] END .............C=1000, degree=5, gamma=1, kernel=poly; total time=   0.4s\n",
      "[CV] END .............C=1000, degree=5, gamma=1, kernel=poly; total time=   0.4s\n",
      "[CV] END ............C=100, degree=4, gamma=0.01, kernel=rbf; total time=   0.1s\n",
      "[CV] END ............C=100, degree=4, gamma=0.01, kernel=rbf; total time=   0.1s\n",
      "[CV] END ...............C=0.1, degree=5, gamma=1, kernel=rbf; total time=   0.1s\n",
      "[CV] END ...............C=0.1, degree=5, gamma=1, kernel=rbf; total time=   0.1s\n",
      "[CV] END ...........C=100, degree=5, gamma=0.01, kernel=poly; total time=   0.5s\n",
      "[CV] END ...........C=100, degree=5, gamma=0.01, kernel=poly; total time=   0.4s\n",
      "[CV] END ..............C=0.1, degree=6, gamma=1, kernel=poly; total time=   0.4s\n",
      "[CV] END ..............C=0.1, degree=6, gamma=1, kernel=poly; total time=   0.4s\n",
      "[CV] END ..........C=1000, degree=4, gamma=0.01, kernel=poly; total time=   0.2s\n",
      "[CV] END ..........C=1000, degree=4, gamma=0.01, kernel=poly; total time=   0.4s\n",
      "[CV] END .................C=1, degree=3, gamma=1, kernel=rbf; total time=   0.1s\n",
      "[CV] END .................C=1, degree=3, gamma=1, kernel=rbf; total time=   0.1s\n",
      "[CV] END .................C=1, degree=3, gamma=1, kernel=rbf; total time=   0.1s\n",
      "[CV] END ............C=0.1, degree=6, gamma=0.01, kernel=rbf; total time=   0.1s\n",
      "[CV] END ............C=0.1, degree=6, gamma=0.01, kernel=rbf; total time=   0.1s\n",
      "[CV] END ............C=0.1, degree=6, gamma=0.01, kernel=rbf; total time=   0.1s\n",
      "[CV] END ...............C=100, degree=5, gamma=1, kernel=rbf; total time=   0.1s\n",
      "[CV] END ...........C=0.1, degree=3, gamma=0.001, kernel=rbf; total time=   0.1s\n",
      "[CV] END ............C=100, degree=3, gamma=0.1, kernel=poly; total time=   1.6s\n",
      "[CV] END ............C=100, degree=3, gamma=0.1, kernel=poly; total time=   1.4s\n",
      "[CV] END ...........C=100, degree=5, gamma=0.001, kernel=rbf; total time=   0.1s\n",
      "[CV] END ...........C=100, degree=5, gamma=0.001, kernel=rbf; total time=   0.1s\n",
      "[CV] END ...........C=100, degree=5, gamma=0.001, kernel=rbf; total time=   0.1s\n",
      "[CV] END ...........C=100, degree=5, gamma=0.001, kernel=rbf; total time=   0.1s\n",
      "[CV] END ................C=1, degree=6, gamma=1, kernel=poly; total time=   1.1s\n",
      "[CV] END ..........C=100, degree=5, gamma=0.001, kernel=poly; total time=   0.4s\n",
      "[CV] END ..........C=100, degree=5, gamma=0.001, kernel=poly; total time=   0.3s\n",
      "[CV] END ............C=1, degree=6, gamma=0.001, kernel=poly; total time=   0.4s\n",
      "[CV] END ............C=1, degree=6, gamma=0.001, kernel=poly; total time=   0.1s\n",
      "[CV] END ...........C=1000, degree=3, gamma=0.1, kernel=poly; total time=   0.8s\n",
      "[CV] END ...........C=1000, degree=3, gamma=0.1, kernel=poly; total time=   0.7s\n",
      "[CV] END ..............C=100, degree=6, gamma=1, kernel=poly; total time=   1.2s\n",
      "[CV] END ..............C=100, degree=6, gamma=1, kernel=poly; total time=   1.7s\n",
      "[CV] END ..............C=1, degree=5, gamma=0.1, kernel=poly; total time=   1.0s\n",
      "[CV] END .............C=1, degree=6, gamma=0.01, kernel=poly; total time=   0.6s\n",
      "[CV] END ..........C=1000, degree=3, gamma=0.01, kernel=poly; total time=   1.4s\n",
      "[CV] END ..........C=1000, degree=6, gamma=0.001, kernel=rbf; total time=   0.1s\n",
      "[CV] END ..........C=1000, degree=6, gamma=0.01, kernel=poly; total time=   1.3s\n",
      "[CV] END ...........C=100, degree=4, gamma=0.01, kernel=poly; total time=   0.6s\n",
      "[CV] END ..............C=1, degree=3, gamma=0.01, kernel=rbf; total time=   0.1s\n",
      "[CV] END ..............C=1, degree=3, gamma=0.01, kernel=rbf; total time=   0.1s\n",
      "[CV] END ..........C=0.1, degree=4, gamma=0.001, kernel=poly; total time=   1.2s\n",
      "[CV] END ...........C=100, degree=3, gamma=0.01, kernel=poly; total time=   1.5s\n",
      "[CV] END .............C=1000, degree=3, gamma=1, kernel=poly; total time=   0.7s\n",
      "[CV] END .............C=1, degree=5, gamma=0.001, kernel=rbf; total time=   0.1s\n",
      "[CV] END .............C=1, degree=5, gamma=0.001, kernel=rbf; total time=   0.1s\n",
      "[CV] END .............C=1, degree=5, gamma=0.001, kernel=rbf; total time=   0.1s\n",
      "[CV] END .............C=1, degree=5, gamma=0.001, kernel=rbf; total time=   0.1s\n",
      "[CV] END .............C=1, degree=5, gamma=0.001, kernel=rbf; total time=   0.1s\n",
      "[CV] END ............C=0.1, degree=5, gamma=0.01, kernel=rbf; total time=   0.1s\n",
      "[CV] END ............C=0.1, degree=5, gamma=0.01, kernel=rbf; total time=   0.1s\n",
      "[CV] END ............C=0.1, degree=5, gamma=0.01, kernel=rbf; total time=   0.1s\n",
      "[CV] END ............C=0.1, degree=5, gamma=0.01, kernel=rbf; total time=   0.1s\n",
      "[CV] END ............C=1, degree=5, gamma=0.001, kernel=poly; total time=   0.4s\n",
      "[CV] END ............C=1, degree=5, gamma=0.001, kernel=poly; total time=   0.2s\n",
      "[CV] END ............C=0.1, degree=4, gamma=0.01, kernel=rbf; total time=   0.1s\n",
      "[CV] END ...............C=1, degree=5, gamma=0.1, kernel=rbf; total time=   0.1s\n",
      "[CV] END ..............C=1, degree=4, gamma=0.1, kernel=poly; total time=   1.2s\n",
      "[CV] END ...........C=1000, degree=6, gamma=0.01, kernel=rbf; total time=   0.1s\n",
      "[CV] END .............C=1, degree=6, gamma=0.001, kernel=rbf; total time=   0.1s\n",
      "[CV] END ............C=1000, degree=5, gamma=0.1, kernel=rbf; total time=   0.1s\n",
      "[CV] END .................C=1, degree=6, gamma=1, kernel=rbf; total time=   0.1s\n",
      "[CV] END .................C=1, degree=6, gamma=1, kernel=rbf; total time=   0.1s\n",
      "[CV] END ...............C=0.1, degree=3, gamma=1, kernel=rbf; total time=   0.1s\n",
      "[CV] END ...............C=0.1, degree=3, gamma=1, kernel=rbf; total time=   0.1s\n",
      "[CV] END ...............C=0.1, degree=3, gamma=1, kernel=rbf; total time=   0.1s\n",
      "[CV] END ...............C=0.1, degree=3, gamma=1, kernel=rbf; total time=   0.1s\n",
      "[CV] END ...............C=0.1, degree=3, gamma=1, kernel=rbf; total time=   0.1s\n",
      "[CV] END ...........C=0.1, degree=5, gamma=0.001, kernel=rbf; total time=   0.1s\n",
      "[CV] END ...........C=0.1, degree=5, gamma=0.001, kernel=rbf; total time=   0.1s\n",
      "[CV] END ...........C=0.1, degree=5, gamma=0.001, kernel=rbf; total time=   0.1s\n",
      "[CV] END ...........C=0.1, degree=5, gamma=0.001, kernel=rbf; total time=   0.1s\n",
      "[CV] END ...........C=0.1, degree=5, gamma=0.001, kernel=rbf; total time=   0.1s\n",
      "[CV] END .............C=1, degree=4, gamma=0.001, kernel=rbf; total time=   0.1s\n",
      "[CV] END .............C=1, degree=4, gamma=0.001, kernel=rbf; total time=   0.1s\n",
      "[CV] END .............C=1, degree=4, gamma=0.001, kernel=rbf; total time=   0.1s\n",
      "[CV] END .............C=1, degree=4, gamma=0.001, kernel=rbf; total time=   0.1s\n",
      "[CV] END .............C=1, degree=4, gamma=0.001, kernel=rbf; total time=   0.1s\n",
      "[CV] END ..........C=100, degree=4, gamma=0.001, kernel=poly; total time=   0.9s\n",
      "[CV] END ................C=1, degree=5, gamma=1, kernel=poly; total time=   0.4s\n",
      "[CV] END ..............C=1000, degree=5, gamma=1, kernel=rbf; total time=   0.1s\n",
      "[CV] END ..............C=1000, degree=5, gamma=1, kernel=rbf; total time=   0.1s\n",
      "[CV] END ..............C=1000, degree=5, gamma=1, kernel=rbf; total time=   0.1s\n",
      "[CV] END ..............C=1000, degree=5, gamma=1, kernel=rbf; total time=   0.1s\n",
      "[CV] END ..............C=1000, degree=5, gamma=1, kernel=rbf; total time=   0.1s\n",
      "[CV] END ............C=100, degree=3, gamma=0.01, kernel=rbf; total time=   0.1s\n",
      "[CV] END ............C=100, degree=3, gamma=0.01, kernel=rbf; total time=   0.1s\n",
      "[CV] END ..............C=1000, degree=4, gamma=1, kernel=rbf; total time=   0.1s\n",
      "[CV] END ..............C=1000, degree=4, gamma=1, kernel=rbf; total time=   0.1s\n",
      "[CV] END ................C=1, degree=3, gamma=1, kernel=poly; total time=   0.7s\n",
      "[CV] END ...............C=100, degree=4, gamma=1, kernel=rbf; total time=   0.1s\n",
      "[CV] END ...............C=1, degree=4, gamma=0.1, kernel=rbf; total time=   0.1s\n",
      "[CV] END ...............C=1, degree=4, gamma=0.1, kernel=rbf; total time=   0.1s\n",
      "[CV] END .........C=1000, degree=6, gamma=0.001, kernel=poly; total time=   1.1s\n",
      "[CV] END .........C=1000, degree=6, gamma=0.001, kernel=poly; total time=   0.5s\n",
      "[CV] END ..............C=100, degree=4, gamma=1, kernel=poly; total time=   0.3s\n",
      "[CV] END .............C=1000, degree=5, gamma=1, kernel=poly; total time=   0.9s\n",
      "[CV] END ...............C=0.1, degree=6, gamma=1, kernel=rbf; total time=   0.1s\n",
      "[CV] END ...............C=0.1, degree=6, gamma=1, kernel=rbf; total time=   0.1s\n",
      "[CV] END ...............C=0.1, degree=6, gamma=1, kernel=rbf; total time=   0.1s\n",
      "[CV] END ...............C=0.1, degree=6, gamma=1, kernel=rbf; total time=   0.1s\n",
      "[CV] END ...............C=0.1, degree=6, gamma=1, kernel=rbf; total time=   0.1s\n",
      "[CV] END ............C=100, degree=4, gamma=0.01, kernel=rbf; total time=   0.1s\n",
      "[CV] END ............C=100, degree=4, gamma=0.01, kernel=rbf; total time=   0.1s\n",
      "[CV] END ............C=100, degree=4, gamma=0.01, kernel=rbf; total time=   0.1s\n",
      "[CV] END ...............C=0.1, degree=5, gamma=1, kernel=rbf; total time=   0.1s\n",
      "[CV] END ...........C=100, degree=5, gamma=0.01, kernel=poly; total time=   1.0s\n",
      "[CV] END ..........C=1000, degree=4, gamma=0.01, kernel=poly; total time=   1.2s\n",
      "[CV] END ..........C=1000, degree=4, gamma=0.01, kernel=poly; total time=   0.5s\n",
      "[CV] END ...............C=100, degree=5, gamma=1, kernel=rbf; total time=   0.1s\n",
      "[CV] END ...............C=100, degree=5, gamma=1, kernel=rbf; total time=   0.1s\n",
      "[CV] END ...........C=0.1, degree=3, gamma=0.001, kernel=rbf; total time=   0.1s\n",
      "[CV] END ...........C=0.1, degree=3, gamma=0.001, kernel=rbf; total time=   0.1s\n",
      "[CV] END ............C=100, degree=3, gamma=0.1, kernel=poly; total time=   0.6s\n",
      "[CV] END ...........C=1000, degree=5, gamma=0.01, kernel=rbf; total time=   0.1s\n",
      "[CV] END .........C=1000, degree=4, gamma=0.001, kernel=poly; total time=   0.3s\n",
      "[CV] END .........C=1000, degree=4, gamma=0.001, kernel=poly; total time=   0.2s\n",
      "[CV] END ............C=0.1, degree=3, gamma=0.1, kernel=poly; total time=   1.4s\n",
      "[CV] END ............C=0.1, degree=3, gamma=0.1, kernel=poly; total time=   0.5s\n",
      "[CV] END ..............C=0.1, degree=5, gamma=1, kernel=poly; total time=   0.7s\n",
      "[CV] END ..............C=0.1, degree=5, gamma=1, kernel=poly; total time=   0.4s\n",
      "[CV] END ..............C=0.1, degree=4, gamma=1, kernel=poly; total time=   0.3s\n",
      "[CV] END .............C=1, degree=5, gamma=0.01, kernel=poly; total time=   0.4s\n",
      "[CV] END .............C=1, degree=5, gamma=0.01, kernel=poly; total time=   0.6s\n",
      "[CV] END ...........C=0.1, degree=5, gamma=0.01, kernel=poly; total time=   0.6s\n",
      "[CV] END ..............C=100, degree=3, gamma=1, kernel=poly; total time=   1.7s\n",
      "[CV] END bootstrap=False, max_depth=10, max_features=auto, min_samples_leaf=2, min_samples_split=2, n_estimators=250; total time=   1.5s\n",
      "[CV] END bootstrap=True, max_depth=None, max_features=sqrt, min_samples_leaf=1, min_samples_split=2, n_estimators=500; total time=   2.8s\n",
      "[CV] END bootstrap=True, max_depth=25, max_features=sqrt, min_samples_leaf=2, min_samples_split=5, n_estimators=500; total time=   2.7s\n",
      "[CV] END bootstrap=True, max_depth=25, max_features=sqrt, min_samples_leaf=2, min_samples_split=5, n_estimators=500; total time=   2.6s\n",
      "[CV] END .............C=100, degree=4, gamma=0.1, kernel=rbf; total time=   0.1s\n",
      "[CV] END ..........C=100, degree=3, gamma=0.001, kernel=poly; total time=   0.5s\n",
      "[CV] END .............C=0.1, degree=6, gamma=0.1, kernel=rbf; total time=   0.1s\n",
      "[CV] END .............C=0.1, degree=6, gamma=0.1, kernel=rbf; total time=   0.1s\n",
      "[CV] END .............C=0.1, degree=6, gamma=0.1, kernel=rbf; total time=   0.1s\n",
      "[CV] END .............C=0.1, degree=6, gamma=0.1, kernel=rbf; total time=   0.1s\n",
      "[CV] END .............C=0.1, degree=6, gamma=0.1, kernel=rbf; total time=   0.1s\n",
      "[CV] END ...........C=0.1, degree=6, gamma=0.001, kernel=rbf; total time=   0.1s\n",
      "[CV] END ...........C=0.1, degree=6, gamma=0.001, kernel=rbf; total time=   0.1s\n",
      "[CV] END ...........C=0.1, degree=6, gamma=0.001, kernel=rbf; total time=   0.1s\n",
      "[CV] END ..........C=1000, degree=4, gamma=0.001, kernel=rbf; total time=   0.1s\n",
      "[CV] END ..........C=1000, degree=4, gamma=0.001, kernel=rbf; total time=   0.1s\n",
      "[CV] END ..............C=1, degree=3, gamma=0.1, kernel=poly; total time=   1.4s\n",
      "[CV] END ..............C=1, degree=3, gamma=0.1, kernel=poly; total time=   0.5s\n",
      "[CV] END ................C=1, degree=6, gamma=1, kernel=poly; total time=   1.7s\n",
      "[CV] END ................C=1, degree=6, gamma=1, kernel=poly; total time=   0.4s\n",
      "[CV] END ............C=1, degree=6, gamma=0.001, kernel=poly; total time=   0.4s\n",
      "[CV] END ...........C=1000, degree=3, gamma=0.1, kernel=poly; total time=   1.6s\n",
      "[CV] END ..............C=100, degree=6, gamma=1, kernel=poly; total time=   0.4s\n",
      "[CV] END ............C=100, degree=5, gamma=0.1, kernel=poly; total time=   0.6s\n",
      "[CV] END ............C=100, degree=5, gamma=0.1, kernel=poly; total time=   0.4s\n",
      "[CV] END ...........C=100, degree=6, gamma=0.001, kernel=rbf; total time=   0.1s\n",
      "[CV] END ...........C=100, degree=6, gamma=0.001, kernel=rbf; total time=   0.1s\n",
      "[CV] END .............C=0.1, degree=4, gamma=0.1, kernel=rbf; total time=   0.1s\n",
      "[CV] END .............C=0.1, degree=4, gamma=0.1, kernel=rbf; total time=   0.1s\n",
      "[CV] END ..........C=0.1, degree=6, gamma=0.001, kernel=poly; total time=   0.4s\n",
      "[CV] END ..........C=0.1, degree=6, gamma=0.001, kernel=poly; total time=   0.3s\n",
      "[CV] END ..........C=0.1, degree=6, gamma=0.001, kernel=poly; total time=   0.5s\n",
      "[CV] END ..............C=1, degree=5, gamma=0.1, kernel=poly; total time=   0.5s\n",
      "[CV] END .............C=1, degree=6, gamma=0.01, kernel=poly; total time=   1.5s\n",
      "[CV] END ..........C=1000, degree=3, gamma=0.01, kernel=poly; total time=   0.6s\n",
      "[CV] END ..........C=1000, degree=6, gamma=0.001, kernel=rbf; total time=   0.1s\n",
      "[CV] END ..........C=1000, degree=6, gamma=0.001, kernel=rbf; total time=   0.1s\n",
      "[CV] END ..........C=1000, degree=6, gamma=0.001, kernel=rbf; total time=   0.1s\n",
      "[CV] END ..........C=1000, degree=6, gamma=0.01, kernel=poly; total time=   0.5s\n",
      "[CV] END ..........C=1000, degree=6, gamma=0.01, kernel=poly; total time=   0.6s\n",
      "[CV] END ...........C=100, degree=4, gamma=0.01, kernel=poly; total time=   1.9s\n",
      "[CV] END ..........C=0.1, degree=4, gamma=0.001, kernel=poly; total time=   0.3s\n",
      "[CV] END ...........C=100, degree=3, gamma=0.01, kernel=poly; total time=   0.5s\n",
      "[CV] END ...........C=100, degree=3, gamma=0.01, kernel=poly; total time=   0.5s\n",
      "[CV] END .............C=1000, degree=3, gamma=1, kernel=poly; total time=   1.5s\n",
      "[CV] END ............C=0.1, degree=5, gamma=0.01, kernel=rbf; total time=   0.1s\n",
      "[CV] END ............C=1, degree=5, gamma=0.001, kernel=poly; total time=   0.6s\n",
      "[CV] END ............C=0.1, degree=4, gamma=0.01, kernel=rbf; total time=   0.1s\n",
      "[CV] END ............C=0.1, degree=4, gamma=0.01, kernel=rbf; total time=   0.1s\n",
      "[CV] END ...............C=1, degree=5, gamma=0.1, kernel=rbf; total time=   0.1s\n",
      "[CV] END ..............C=1, degree=4, gamma=0.1, kernel=poly; total time=   0.3s\n",
      "[CV] END ..............C=1, degree=4, gamma=0.1, kernel=poly; total time=   0.5s\n",
      "[CV] END ...........C=100, degree=4, gamma=0.001, kernel=rbf; total time=   0.1s\n",
      "[CV] END ...........C=100, degree=4, gamma=0.001, kernel=rbf; total time=   0.1s\n",
      "[CV] END ...........C=1000, degree=6, gamma=0.01, kernel=rbf; total time=   0.1s\n",
      "[CV] END ...........C=1000, degree=6, gamma=0.01, kernel=rbf; total time=   0.1s\n",
      "[CV] END .............C=1, degree=6, gamma=0.001, kernel=rbf; total time=   0.1s\n",
      "[CV] END ............C=1000, degree=5, gamma=0.1, kernel=rbf; total time=   0.1s\n",
      "[CV] END .................C=1, degree=6, gamma=1, kernel=rbf; total time=   0.1s\n",
      "[CV] END .............C=1, degree=3, gamma=0.01, kernel=poly; total time=   0.6s\n",
      "[CV] END .............C=1, degree=3, gamma=0.01, kernel=poly; total time=   0.5s\n",
      "[CV] END ..........C=100, degree=4, gamma=0.001, kernel=poly; total time=   1.0s\n",
      "[CV] END ..........C=100, degree=4, gamma=0.001, kernel=poly; total time=   0.4s\n",
      "[CV] END ............C=100, degree=3, gamma=0.01, kernel=rbf; total time=   0.1s\n",
      "[CV] END ............C=100, degree=3, gamma=0.01, kernel=rbf; total time=   0.1s\n",
      "[CV] END ............C=100, degree=3, gamma=0.01, kernel=rbf; total time=   0.1s\n",
      "[CV] END ..............C=1000, degree=4, gamma=1, kernel=rbf; total time=   0.1s\n",
      "[CV] END ................C=1, degree=3, gamma=1, kernel=poly; total time=   1.6s\n",
      "[CV] END ................C=1, degree=3, gamma=1, kernel=poly; total time=   1.5s\n",
      "[CV] END .............C=1000, degree=5, gamma=1, kernel=poly; total time=   0.8s\n",
      "[CV] END .............C=1000, degree=5, gamma=1, kernel=poly; total time=   0.4s\n",
      "[CV] END ...............C=0.1, degree=5, gamma=1, kernel=rbf; total time=   0.1s\n",
      "[CV] END ...............C=0.1, degree=5, gamma=1, kernel=rbf; total time=   0.1s\n",
      "[CV] END ...........C=100, degree=5, gamma=0.01, kernel=poly; total time=   0.6s\n",
      "[CV] END ...........C=100, degree=5, gamma=0.01, kernel=poly; total time=   0.4s\n",
      "[CV] END ..............C=0.1, degree=6, gamma=1, kernel=poly; total time=   0.6s\n",
      "[CV] END ..........C=1000, degree=4, gamma=0.01, kernel=poly; total time=   0.8s\n",
      "[CV] END .................C=1, degree=3, gamma=1, kernel=rbf; total time=   0.1s\n",
      "[CV] END .................C=1, degree=3, gamma=1, kernel=rbf; total time=   0.1s\n",
      "[CV] END ............C=0.1, degree=6, gamma=0.01, kernel=rbf; total time=   0.1s\n",
      "[CV] END ............C=0.1, degree=6, gamma=0.01, kernel=rbf; total time=   0.1s\n",
      "[CV] END ...............C=100, degree=5, gamma=1, kernel=rbf; total time=   0.1s\n",
      "[CV] END ...............C=100, degree=5, gamma=1, kernel=rbf; total time=   0.1s\n",
      "[CV] END ...........C=0.1, degree=3, gamma=0.001, kernel=rbf; total time=   0.1s\n",
      "[CV] END ...........C=0.1, degree=3, gamma=0.001, kernel=rbf; total time=   0.1s\n",
      "[CV] END ............C=100, degree=3, gamma=0.1, kernel=poly; total time=   0.5s\n",
      "[CV] END ............C=100, degree=3, gamma=0.1, kernel=poly; total time=   0.7s\n",
      "[CV] END .........C=1000, degree=4, gamma=0.001, kernel=poly; total time=   0.3s\n",
      "[CV] END ............C=0.1, degree=3, gamma=0.1, kernel=poly; total time=   1.5s\n",
      "[CV] END ...........C=100, degree=5, gamma=0.001, kernel=rbf; total time=   0.1s\n",
      "[CV] END ..............C=0.1, degree=5, gamma=1, kernel=poly; total time=   0.8s\n",
      "[CV] END ..............C=0.1, degree=4, gamma=1, kernel=poly; total time=   0.5s\n",
      "[CV] END .............C=1, degree=5, gamma=0.01, kernel=poly; total time=   1.2s\n",
      "[CV] END ...........C=0.1, degree=5, gamma=0.01, kernel=poly; total time=   0.4s\n",
      "[CV] END ...........C=0.1, degree=5, gamma=0.01, kernel=poly; total time=   0.3s\n",
      "[CV] END ..............C=100, degree=3, gamma=1, kernel=poly; total time=   0.7s\n",
      "[CV] END ..............C=1, degree=6, gamma=0.1, kernel=poly; total time=   1.3s\n",
      "[CV] END .................C=1, degree=5, gamma=1, kernel=rbf; total time=   0.1s\n",
      "[CV] END .................C=1, degree=5, gamma=1, kernel=rbf; total time=   0.1s"
     ]
    }
   ],
   "source": [
    "svc_grid_model = SVC(random_state=RANDOM_STATE)\n",
    "\n",
    "svc_grid = generate_hyperparameters(svc_grid_model, 'grid_svc', params_grid=svc_param_grid)"
   ]
  },
  {
   "cell_type": "markdown",
   "id": "c6c9d7cc",
   "metadata": {
    "papermill": {
     "duration": 0.027203,
     "end_time": "2022-08-31T23:53:09.617218",
     "exception": false,
     "start_time": "2022-08-31T23:53:09.590015",
     "status": "completed"
    },
    "tags": []
   },
   "source": [
    "## Melhores parâmetros "
   ]
  },
  {
   "cell_type": "code",
   "execution_count": 36,
   "id": "8998390c",
   "metadata": {
    "execution": {
     "iopub.execute_input": "2022-08-31T23:53:09.673561Z",
     "iopub.status.busy": "2022-08-31T23:53:09.672087Z",
     "iopub.status.idle": "2022-08-31T23:53:10.088960Z",
     "shell.execute_reply": "2022-08-31T23:53:10.087399Z"
    },
    "papermill": {
     "duration": 0.447964,
     "end_time": "2022-08-31T23:53:10.091711",
     "exception": false,
     "start_time": "2022-08-31T23:53:09.643747",
     "status": "completed"
    },
    "tags": []
   },
   "outputs": [
    {
     "name": "stderr",
     "output_type": "stream",
     "text": [
      "/opt/conda/lib/python3.7/site-packages/sklearn/metrics/_classification.py:1318: UndefinedMetricWarning: Precision is ill-defined and being set to 0.0 due to no predicted samples. Use `zero_division` parameter to control this behavior.\n",
      "  _warn_prf(average, modifier, msg_start, len(result))\n"
     ]
    },
    {
     "data": {
      "text/plain": [
       "<sklearn.metrics._plot.confusion_matrix.ConfusionMatrixDisplay at 0x7f2fdd39bd90>"
      ]
     },
     "metadata": {},
     "output_type": "display_data"
    },
    {
     "data": {
      "text/html": [
       "<div>\n",
       "<style scoped>\n",
       "    .dataframe tbody tr th:only-of-type {\n",
       "        vertical-align: middle;\n",
       "    }\n",
       "\n",
       "    .dataframe tbody tr th {\n",
       "        vertical-align: top;\n",
       "    }\n",
       "\n",
       "    .dataframe thead th {\n",
       "        text-align: right;\n",
       "    }\n",
       "</style>\n",
       "<table border=\"1\" class=\"dataframe\">\n",
       "  <thead>\n",
       "    <tr style=\"text-align: right;\">\n",
       "      <th></th>\n",
       "      <th>model_name</th>\n",
       "      <th>acc</th>\n",
       "      <th>bacc</th>\n",
       "      <th>precision</th>\n",
       "      <th>recall</th>\n",
       "    </tr>\n",
       "  </thead>\n",
       "  <tbody>\n",
       "    <tr>\n",
       "      <th>0</th>\n",
       "      <td>rfc_basic</td>\n",
       "      <td>0.568966</td>\n",
       "      <td>0.504848</td>\n",
       "      <td>0.500000</td>\n",
       "      <td>0.04</td>\n",
       "    </tr>\n",
       "    <tr>\n",
       "      <th>1</th>\n",
       "      <td>rfc_tuned</td>\n",
       "      <td>0.568966</td>\n",
       "      <td>0.500000</td>\n",
       "      <td>0.000000</td>\n",
       "      <td>0.00</td>\n",
       "    </tr>\n",
       "    <tr>\n",
       "      <th>2</th>\n",
       "      <td>rfc_best_params</td>\n",
       "      <td>0.551724</td>\n",
       "      <td>0.489697</td>\n",
       "      <td>0.333333</td>\n",
       "      <td>0.04</td>\n",
       "    </tr>\n",
       "    <tr>\n",
       "      <th>3</th>\n",
       "      <td>svc_basic</td>\n",
       "      <td>0.568966</td>\n",
       "      <td>0.500000</td>\n",
       "      <td>0.000000</td>\n",
       "      <td>0.00</td>\n",
       "    </tr>\n",
       "    <tr>\n",
       "      <th>4</th>\n",
       "      <td>svc_poly</td>\n",
       "      <td>0.500000</td>\n",
       "      <td>0.468485</td>\n",
       "      <td>0.375000</td>\n",
       "      <td>0.24</td>\n",
       "    </tr>\n",
       "    <tr>\n",
       "      <th>5</th>\n",
       "      <td>svc_best_params</td>\n",
       "      <td>0.568966</td>\n",
       "      <td>0.500000</td>\n",
       "      <td>0.000000</td>\n",
       "      <td>0.00</td>\n",
       "    </tr>\n",
       "  </tbody>\n",
       "</table>\n",
       "</div>"
      ],
      "text/plain": [
       "        model_name       acc      bacc  precision  recall\n",
       "0        rfc_basic  0.568966  0.504848   0.500000    0.04\n",
       "1        rfc_tuned  0.568966  0.500000   0.000000    0.00\n",
       "2  rfc_best_params  0.551724  0.489697   0.333333    0.04\n",
       "3        svc_basic  0.568966  0.500000   0.000000    0.00\n",
       "4         svc_poly  0.500000  0.468485   0.375000    0.24\n",
       "5  svc_best_params  0.568966  0.500000   0.000000    0.00"
      ]
     },
     "metadata": {},
     "output_type": "display_data"
    },
    {
     "data": {
      "image/png": "[encoded data removed]",
      "text/plain": [
       "<Figure size 432x288 with 2 Axes>"
      ]
     },
     "metadata": {
      "needs_background": "light"
     },
     "output_type": "display_data"
    }
   ],
   "source": [
    "svc_best_params = SVC(**svc_grid.best_params_, random_state=RANDOM_STATE)\n",
    "svc_best_params_scores, svc_best_params_pipeline = generate_predictions(svc_best_params, 'svc_best_params')"
   ]
  },
  {
   "cell_type": "markdown",
   "id": "1115e5c2",
   "metadata": {
    "papermill": {
     "duration": 0.024324,
     "end_time": "2022-08-31T23:53:10.141207",
     "exception": false,
     "start_time": "2022-08-31T23:53:10.116883",
     "status": "completed"
    },
    "tags": []
   },
   "source": [
    "# Gaussian Naive Bayes"
   ]
  },
  {
   "cell_type": "code",
   "execution_count": 37,
   "id": "38c53ba4",
   "metadata": {
    "execution": {
     "iopub.execute_input": "2022-08-31T23:53:10.193507Z",
     "iopub.status.busy": "2022-08-31T23:53:10.193073Z",
     "iopub.status.idle": "2022-08-31T23:53:10.202388Z",
     "shell.execute_reply": "2022-08-31T23:53:10.201056Z"
    },
    "papermill": {
     "duration": 0.038944,
     "end_time": "2022-08-31T23:53:10.205617",
     "exception": false,
     "start_time": "2022-08-31T23:53:10.166673",
     "status": "completed"
    },
    "tags": []
   },
   "outputs": [],
   "source": [
    "from sklearn.naive_bayes import GaussianNB"
   ]
  },
  {
   "cell_type": "code",
   "execution_count": 38,
   "id": "589ca7e5",
   "metadata": {
    "execution": {
     "iopub.execute_input": "2022-08-31T23:53:10.259915Z",
     "iopub.status.busy": "2022-08-31T23:53:10.259405Z",
     "iopub.status.idle": "2022-08-31T23:53:10.596260Z",
     "shell.execute_reply": "2022-08-31T23:53:10.594885Z"
    },
    "papermill": {
     "duration": 0.367218,
     "end_time": "2022-08-31T23:53:10.599359",
     "exception": false,
     "start_time": "2022-08-31T23:53:10.232141",
     "status": "completed"
    },
    "tags": []
   },
   "outputs": [
    {
     "data": {
      "text/plain": [
       "<sklearn.metrics._plot.confusion_matrix.ConfusionMatrixDisplay at 0x7f2fdd31c850>"
      ]
     },
     "metadata": {},
     "output_type": "display_data"
    },
    {
     "data": {
      "text/html": [
       "<div>\n",
       "<style scoped>\n",
       "    .dataframe tbody tr th:only-of-type {\n",
       "        vertical-align: middle;\n",
       "    }\n",
       "\n",
       "    .dataframe tbody tr th {\n",
       "        vertical-align: top;\n",
       "    }\n",
       "\n",
       "    .dataframe thead th {\n",
       "        text-align: right;\n",
       "    }\n",
       "</style>\n",
       "<table border=\"1\" class=\"dataframe\">\n",
       "  <thead>\n",
       "    <tr style=\"text-align: right;\">\n",
       "      <th></th>\n",
       "      <th>model_name</th>\n",
       "      <th>acc</th>\n",
       "      <th>bacc</th>\n",
       "      <th>precision</th>\n",
       "      <th>recall</th>\n",
       "    </tr>\n",
       "  </thead>\n",
       "  <tbody>\n",
       "    <tr>\n",
       "      <th>0</th>\n",
       "      <td>rfc_basic</td>\n",
       "      <td>0.568966</td>\n",
       "      <td>0.504848</td>\n",
       "      <td>0.500000</td>\n",
       "      <td>0.04</td>\n",
       "    </tr>\n",
       "    <tr>\n",
       "      <th>1</th>\n",
       "      <td>rfc_tuned</td>\n",
       "      <td>0.568966</td>\n",
       "      <td>0.500000</td>\n",
       "      <td>0.000000</td>\n",
       "      <td>0.00</td>\n",
       "    </tr>\n",
       "    <tr>\n",
       "      <th>2</th>\n",
       "      <td>rfc_best_params</td>\n",
       "      <td>0.551724</td>\n",
       "      <td>0.489697</td>\n",
       "      <td>0.333333</td>\n",
       "      <td>0.04</td>\n",
       "    </tr>\n",
       "    <tr>\n",
       "      <th>3</th>\n",
       "      <td>svc_basic</td>\n",
       "      <td>0.568966</td>\n",
       "      <td>0.500000</td>\n",
       "      <td>0.000000</td>\n",
       "      <td>0.00</td>\n",
       "    </tr>\n",
       "    <tr>\n",
       "      <th>4</th>\n",
       "      <td>svc_poly</td>\n",
       "      <td>0.500000</td>\n",
       "      <td>0.468485</td>\n",
       "      <td>0.375000</td>\n",
       "      <td>0.24</td>\n",
       "    </tr>\n",
       "    <tr>\n",
       "      <th>5</th>\n",
       "      <td>svc_best_params</td>\n",
       "      <td>0.568966</td>\n",
       "      <td>0.500000</td>\n",
       "      <td>0.000000</td>\n",
       "      <td>0.00</td>\n",
       "    </tr>\n",
       "    <tr>\n",
       "      <th>6</th>\n",
       "      <td>gaussian_nb_basic</td>\n",
       "      <td>0.568966</td>\n",
       "      <td>0.524242</td>\n",
       "      <td>0.500000</td>\n",
       "      <td>0.20</td>\n",
       "    </tr>\n",
       "  </tbody>\n",
       "</table>\n",
       "</div>"
      ],
      "text/plain": [
       "          model_name       acc      bacc  precision  recall\n",
       "0          rfc_basic  0.568966  0.504848   0.500000    0.04\n",
       "1          rfc_tuned  0.568966  0.500000   0.000000    0.00\n",
       "2    rfc_best_params  0.551724  0.489697   0.333333    0.04\n",
       "3          svc_basic  0.568966  0.500000   0.000000    0.00\n",
       "4           svc_poly  0.500000  0.468485   0.375000    0.24\n",
       "5    svc_best_params  0.568966  0.500000   0.000000    0.00\n",
       "6  gaussian_nb_basic  0.568966  0.524242   0.500000    0.20"
      ]
     },
     "metadata": {},
     "output_type": "display_data"
    },
    {
     "data": {
      "image/png": "[encoded data removed]",
      "text/plain": [
       "<Figure size 432x288 with 2 Axes>"
      ]
     },
     "metadata": {
      "needs_background": "light"
     },
     "output_type": "display_data"
    }
   ],
   "source": [
    "gaussian_nb = GaussianNB()\n",
    "gaussian_nb_scores, gaussian_nb_pipeline = generate_predictions(gaussian_nb, 'gaussian_nb_basic')"
   ]
  },
  {
   "cell_type": "markdown",
   "id": "bf0f245f",
   "metadata": {
    "papermill": {
     "duration": 0.024094,
     "end_time": "2022-08-31T23:53:10.649831",
     "exception": false,
     "start_time": "2022-08-31T23:53:10.625737",
     "status": "completed"
    },
    "tags": []
   },
   "source": [
    "## GridSearch"
   ]
  },
  {
   "cell_type": "code",
   "execution_count": 39,
   "id": "1758a6ae",
   "metadata": {
    "execution": {
     "iopub.execute_input": "2022-08-31T23:53:10.701304Z",
     "iopub.status.busy": "2022-08-31T23:53:10.700840Z",
     "iopub.status.idle": "2022-08-31T23:53:10.707277Z",
     "shell.execute_reply": "2022-08-31T23:53:10.705883Z"
    },
    "papermill": {
     "duration": 0.036796,
     "end_time": "2022-08-31T23:53:10.710421",
     "exception": false,
     "start_time": "2022-08-31T23:53:10.673625",
     "status": "completed"
    },
    "tags": []
   },
   "outputs": [],
   "source": [
    "nb_param_grid = {'var_smoothing': np.logspace(0,-9, num=100)}"
   ]
  },
  {
   "cell_type": "code",
   "execution_count": 40,
   "id": "7240ec15",
   "metadata": {
    "collapsed": true,
    "execution": {
     "iopub.execute_input": "2022-08-31T23:53:10.766455Z",
     "iopub.status.busy": "2022-08-31T23:53:10.765618Z",
     "iopub.status.idle": "2022-08-31T23:53:12.043128Z",
     "shell.execute_reply": "2022-08-31T23:53:12.041321Z"
    },
    "jupyter": {
     "outputs_hidden": true
    },
    "papermill": {
     "duration": 1.308516,
     "end_time": "2022-08-31T23:53:12.046556",
     "exception": false,
     "start_time": "2022-08-31T23:53:10.738040",
     "status": "completed"
    },
    "tags": []
   },
   "outputs": [
    {
     "name": "stdout",
     "output_type": "stream",
     "text": [
      "Fitting 5 folds for each of 100 candidates, totalling 500 fits\n",
      "\n",
      "[CV] END ..............C=0.1, degree=5, gamma=1, kernel=poly; total time=   0.4s\n",
      "[CV] END ..............C=0.1, degree=5, gamma=1, kernel=poly; total time=   0.4s\n",
      "[CV] END ..............C=0.1, degree=4, gamma=1, kernel=poly; total time=   0.3s\n",
      "[CV] END .............C=1, degree=5, gamma=0.01, kernel=poly; total time=   0.9s\n",
      "[CV] END .............C=1, degree=5, gamma=0.01, kernel=poly; total time=   0.4s\n",
      "[CV] END ...........C=0.1, degree=5, gamma=0.01, kernel=poly; total time=   0.5s\n",
      "[CV] END ..............C=100, degree=3, gamma=1, kernel=poly; total time=   1.5s\n",
      "[CV] END ..............C=1, degree=6, gamma=0.1, kernel=poly; total time=   0.4s\n",
      "[CV] END ..............C=1, degree=6, gamma=0.1, kernel=poly; total time=   0.6s\n",
      "[CV] END ..............C=1, degree=6, gamma=0.01, kernel=rbf; total time=   0.1s\n",
      "[CV] END ...............C=1, degree=6, gamma=0.1, kernel=rbf; total time=   0.1s\n",
      "[CV] END ............C=1000, degree=6, gamma=0.1, kernel=rbf; total time=   0.1s\n",
      "[CV] END ............C=1000, degree=6, gamma=0.1, kernel=rbf; total time=   0.1s\n",
      "[CV] END ..............C=0.1, degree=3, gamma=1, kernel=poly; total time=   1.4s\n",
      "[CV] END ............C=1, degree=4, gamma=0.001, kernel=poly; total time=   0.4s\n",
      "[CV] END ............C=100, degree=4, gamma=0.1, kernel=poly; total time=   1.1s\n",
      "[CV] END ...........C=0.1, degree=4, gamma=0.01, kernel=poly; total time=   0.1s\n",
      "[CV] END ...........C=0.1, degree=4, gamma=0.01, kernel=poly; total time=   0.4s\n",
      "[CV] END ............C=0.1, degree=4, gamma=0.1, kernel=poly; total time=   1.1s\n",
      "[CV] END ..........C=0.1, degree=5, gamma=0.001, kernel=poly; total time=   0.3s\n",
      "[CV] END .........C=1000, degree=3, gamma=0.001, kernel=poly; total time=   1.5s\n",
      "[CV] END ..........C=0.1, degree=3, gamma=0.001, kernel=poly; total time=   0.6s\n",
      "[CV] END ..........C=0.1, degree=3, gamma=0.001, kernel=poly; total time=   0.5s\n",
      "[CV] END ............C=100, degree=6, gamma=0.1, kernel=poly; total time=   0.6s\n",
      "[CV] END .............C=100, degree=3, gamma=0.1, kernel=rbf; total time=   0.1s\n",
      "[CV] END .............C=100, degree=3, gamma=0.1, kernel=rbf; total time=   0.1s\n",
      "[CV] END .............C=100, degree=3, gamma=0.1, kernel=rbf; total time=   0.1s\n",
      "[CV] END .............C=100, degree=3, gamma=0.1, kernel=rbf; total time=   0.1s\n",
      "[CV] END ..............C=1000, degree=3, gamma=1, kernel=rbf; total time=   0.1s\n",
      "[CV] END ............C=0.1, degree=5, gamma=0.1, kernel=poly; total time=   1.2s\n",
      "[CV] END ..............C=100, degree=5, gamma=1, kernel=poly; total time=   0.5s\n",
      "[CV] END .............C=100, degree=5, gamma=0.1, kernel=rbf; total time=   0.1s\n",
      "[CV] END .............C=100, degree=5, gamma=0.1, kernel=rbf; total time=   0.1s\n",
      "[CV] END .............C=100, degree=5, gamma=0.1, kernel=rbf; total time=   0.1s\n",
      "[CV] END ..................................var_smoothing=1.0; total time=   0.0s\n",
      "[CV] END ..................................var_smoothing=1.0; total time=   0.0s\n",
      "[CV] END ...................var_smoothing=0.8111308307896871; total time=   0.0s\n",
      "[CV] END ....................var_smoothing=0.657933224657568; total time=   0.0s\n",
      "[CV] END ....................var_smoothing=0.533669923120631; total time=   0.0s\n",
      "[CV] END ..................var_smoothing=0.43287612810830584; total time=   0.0s\n",
      "[CV] END ..................var_smoothing=0.43287612810830584; total time=   0.0s\n",
      "[CV] END ...................var_smoothing=0.2848035868435802; total time=   0.0s\n",
      "[CV] END ...................var_smoothing=0.2848035868435802; total time=   0.0s\n",
      "[CV] END ...................var_smoothing=0.2848035868435802; total time=   0.0s\n",
      "[CV] END ..................var_smoothing=0.23101297000831597; total time=   0.0s\n",
      "[CV] END ..................var_smoothing=0.15199110829529336; total time=   0.0s\n",
      "[CV] END ..................var_smoothing=0.15199110829529336; total time=   0.0s\n",
      "[CV] END ..................var_smoothing=0.12328467394420659; total time=   0.0s\n",
      "[CV] END ..................var_smoothing=0.12328467394420659; total time=   0.0s\n",
      "[CV] END ...................var_smoothing=0.0533669923120631; total time=   0.0s\n",
      "[CV] END ...................var_smoothing=0.0533669923120631; total time=   0.0s\n",
      "[CV] END ...................var_smoothing=0.0533669923120631; total time=   0.0s\n",
      "[CV] END ..................var_smoothing=0.04328761281083057; total time=   0.0s\n",
      "[CV] END ..................var_smoothing=0.04328761281083057; total time=   0.0s\n",
      "[CV] END ..................var_smoothing=0.04328761281083057; total time=   0.0s\n",
      "[CV] END ..................var_smoothing=0.04328761281083057; total time=   0.0s\n",
      "[CV] END ..................var_smoothing=0.04328761281083057; total time=   0.0s\n",
      "[CV] END ..................var_smoothing=0.01873817422860384; total time=   0.0s\n",
      "[CV] END ..................var_smoothing=0.01873817422860384; total time=   0.0s\n",
      "[CV] END ..................var_smoothing=0.01873817422860384; total time=   0.0s\n",
      "[CV] END ..................var_smoothing=0.01873817422860384; total time=   0.0s\n",
      "[CV] END ..................var_smoothing=0.01519911082952933; total time=   0.0s\n",
      "[CV] END ..................var_smoothing=0.01519911082952933; total time=   0.0s\n",
      "[CV] END ..................var_smoothing=0.01519911082952933; total time=   0.0s\n",
      "[CV] END ..................var_smoothing=0.01519911082952933; total time=   0.0s\n",
      "[CV] END .................var_smoothing=0.003511191734215131; total time=   0.0s\n",
      "[CV] END .................var_smoothing=0.003511191734215131; total time=   0.0s\n",
      "[CV] END .................var_smoothing=0.003511191734215131; total time=   0.0s\n",
      "[CV] END .................var_smoothing=0.003511191734215131; total time=   0.0s\n",
      "[CV] END .................var_smoothing=0.002848035868435802; total time=   0.0s\n",
      "[CV] END .................var_smoothing=0.002848035868435802; total time=   0.0s\n",
      "[CV] END .................var_smoothing=0.002848035868435802; total time=   0.0s\n",
      "[CV] END .................var_smoothing=0.002848035868435802; total time=   0.0s\n",
      "[CV] END .................var_smoothing=0.002848035868435802; total time=   0.0s\n",
      "[CV] END ................var_smoothing=0.0023101297000831605; total time=   0.0s\n",
      "[CV] END ................var_smoothing=0.0023101297000831605; total time=   0.0s\n",
      "[CV] END ................var_smoothing=0.0023101297000831605; total time=   0.0s\n",
      "[CV] END ................var_smoothing=0.0023101297000831605; total time=   0.0s\n",
      "[CV] END ................var_smoothing=0.0023101297000831605; total time=   0.0s\n",
      "[CV] END .................var_smoothing=0.001873817422860383; total time=   0.0s\n",
      "[CV] END .................var_smoothing=0.001873817422860383; total time=   0.0s\n",
      "[CV] END ................var_smoothing=0.0002310129700083158; total time=   0.0s\n",
      "[CV] END ................var_smoothing=0.0002310129700083158; total time=   0.0s\n",
      "[CV] END ................var_smoothing=0.0002310129700083158; total time=   0.0s\n",
      "[CV] END ................var_smoothing=0.0002310129700083158; total time=   0.0s\n",
      "[CV] END ................var_smoothing=0.0002310129700083158; total time=   0.0s\n",
      "[CV] END ................var_smoothing=0.0001873817422860383; total time=   0.0s\n",
      "[CV] END ................var_smoothing=0.0001873817422860383; total time=   0.0s\n",
      "[CV] END ................var_smoothing=0.0001873817422860383; total time=   0.0s\n",
      "[CV] END ................var_smoothing=0.0001873817422860383; total time=   0.0s\n",
      "[CV] END ................var_smoothing=0.0001873817422860383; total time=   0.0s\n",
      "[CV] END ................var_smoothing=0.0001519911082952933; total time=   0.0s\n",
      "[CV] END ................var_smoothing=0.0001519911082952933; total time=   0.0s\n",
      "[CV] END ................var_smoothing=0.0001519911082952933; total time=   0.0s\n",
      "[CV] END ................var_smoothing=0.0001519911082952933; total time=   0.0s\n",
      "[CV] END ................var_smoothing=0.0001519911082952933; total time=   0.0s\n",
      "[CV] END ................var_smoothing=0.0001232846739442066; total time=   0.0s\n",
      "[CV] END ................var_smoothing=3.511191734215127e-05; total time=   0.0s\n",
      "[CV] END ................var_smoothing=3.511191734215127e-05; total time=   0.0s\n",
      "[CV] END ................var_smoothing=2.848035868435799e-05; total time=   0.0s\n",
      "[CV] END ................var_smoothing=2.848035868435799e-05; total time=   0.0s\n",
      "[CV] END ................var_smoothing=2.848035868435799e-05; total time=   0.0s\n",
      "[CV] END ...........C=1000, degree=5, gamma=0.01, kernel=rbf; total time=   0.1s\n",
      "[CV] END ...........C=1000, degree=5, gamma=0.01, kernel=rbf; total time=   0.1s\n",
      "[CV] END ...........C=1000, degree=5, gamma=0.01, kernel=rbf; total time=   0.1s\n",
      "[CV] END .........C=1000, degree=4, gamma=0.001, kernel=poly; total time=   0.9s\n",
      "[CV] END .........C=1000, degree=4, gamma=0.001, kernel=poly; total time=   0.9s\n",
      "[CV] END ............C=0.1, degree=3, gamma=0.1, kernel=poly; total time=   0.7s\n",
      "[CV] END ............C=0.1, degree=3, gamma=0.1, kernel=poly; total time=   0.7s\n",
      "[CV] END ..............C=0.1, degree=4, gamma=1, kernel=poly; total time=   1.0s\n",
      "[CV] END ..............C=0.1, degree=4, gamma=1, kernel=poly; total time=   1.2s\n",
      "[CV] END ...........C=0.1, degree=5, gamma=0.01, kernel=poly; total time=   0.3s\n",
      "[CV] END ..............C=100, degree=3, gamma=1, kernel=poly; total time=   0.4s\n",
      "[CV] END ..............C=100, degree=3, gamma=1, kernel=poly; total time=   0.7s\n",
      "[CV] END ..............C=1, degree=6, gamma=0.1, kernel=poly; total time=   1.7s\n",
      "[CV] END ..............C=0.1, degree=3, gamma=1, kernel=poly; total time=   0.7s\n",
      "[CV] END ............C=1, degree=4, gamma=0.001, kernel=poly; total time=   1.1s\n",
      "[CV] END ............C=100, degree=4, gamma=0.1, kernel=poly; total time=   1.0s\n",
      "[CV] END ...........C=0.1, degree=4, gamma=0.01, kernel=poly; total time=   0.4s\n",
      "[CV] END ............C=0.1, degree=4, gamma=0.1, kernel=poly; total time=   1.0s\n",
      "[CV] END .............C=100, degree=6, gamma=0.1, kernel=rbf; total time=   0.1s\n",
      "[CV] END .............C=100, degree=6, gamma=0.1, kernel=rbf; total time=   0.1s\n",
      "[CV] END ..........C=0.1, degree=5, gamma=0.001, kernel=poly; total time=   0.5s\n",
      "[CV] END .........C=1000, degree=3, gamma=0.001, kernel=poly; total time=   1.3s\n",
      "[CV] END ..........C=0.1, degree=3, gamma=0.001, kernel=poly; total time=   1.1s\n",
      "[CV] END ............C=100, degree=6, gamma=0.1, kernel=poly; total time=   0.5s\n",
      "[CV] END ............C=100, degree=6, gamma=0.1, kernel=poly; total time=   0.6s\n",
      "[CV] END .............C=100, degree=3, gamma=0.1, kernel=rbf; total time=   0.1s\n",
      "[CV] END ..............C=1000, degree=3, gamma=1, kernel=rbf; total time=   0.1s\n",
      "[CV] END ..............C=1000, degree=3, gamma=1, kernel=rbf; total time=   0.1s\n",
      "[CV] END ............C=0.1, degree=5, gamma=0.1, kernel=poly; total time=   0.7s\n",
      "[CV] END .............C=1, degree=3, gamma=0.001, kernel=rbf; total time=   0.1s\n",
      "[CV] END .............C=1, degree=3, gamma=0.001, kernel=rbf; total time=   0.1s\n",
      "[CV] END .............C=1, degree=3, gamma=0.001, kernel=rbf; total time=   0.1s\n",
      "[CV] END .............C=1, degree=3, gamma=0.001, kernel=rbf; total time=   0.1s\n",
      "[CV] END ..............C=100, degree=5, gamma=1, kernel=poly; total time=   0.9s\n",
      "[CV] END ..................................var_smoothing=1.0; total time=   0.0s\n",
      "[CV] END ...................var_smoothing=0.8111308307896871; total time=   0.0s\n",
      "[CV] END ....................var_smoothing=0.657933224657568; total time=   0.0s\n",
      "[CV] END ....................var_smoothing=0.657933224657568; total time=   0.0s\n",
      "[CV] END ....................var_smoothing=0.533669923120631; total time=   0.0s\n",
      "[CV] END ....................var_smoothing=0.533669923120631; total time=   0.0s\n",
      "[CV] END ...................var_smoothing=0.3511191734215131; total time=   0.0s\n",
      "[CV] END ...................var_smoothing=0.3511191734215131; total time=   0.0s\n",
      "[CV] END ...................var_smoothing=0.2848035868435802; total time=   0.0s\n",
      "[CV] END ...................var_smoothing=0.2848035868435802; total time=   0.0s\n",
      "[CV] END ...................var_smoothing=0.1873817422860384; total time=   0.0s\n",
      "[CV] END ..................var_smoothing=0.15199110829529336; total time=   0.0s\n",
      "[CV] END ..................var_smoothing=0.15199110829529336; total time=   0.0s\n",
      "[CV] END ..................var_smoothing=0.15199110829529336; total time=   0.0s\n",
      "[CV] END ..................var_smoothing=0.08111308307896872; total time=   0.0s\n",
      "[CV] END ...................var_smoothing=0.0657933224657568; total time=   0.0s\n",
      "[CV] END ...................var_smoothing=0.0657933224657568; total time=   0.0s\n",
      "[CV] END ...................var_smoothing=0.0657933224657568; total time=   0.0s\n",
      "[CV] END ...................var_smoothing=0.0657933224657568; total time=   0.0s\n",
      "[CV] END ...................var_smoothing=0.0657933224657568; total time=   0.0s\n",
      "[CV] END ...................var_smoothing=0.0533669923120631; total time=   0.0s\n",
      "[CV] END ...................var_smoothing=0.0533669923120631; total time=   0.0s\n",
      "[CV] END ..................var_smoothing=0.01519911082952933; total time=   0.0s\n",
      "[CV] END .................var_smoothing=0.012328467394420659; total time=   0.0s\n",
      "[CV] END .................var_smoothing=0.012328467394420659; total time=   0.0s\n",
      "[CV] END .................var_smoothing=0.012328467394420659; total time=   0.0s\n",
      "[CV] END .................var_smoothing=0.012328467394420659; total time=   0.0s\n",
      "[CV] END .................var_smoothing=0.012328467394420659; total time=   0.0s\n",
      "[CV] END .................................var_smoothing=0.01; total time=   0.0s\n",
      "[CV] END .................................var_smoothing=0.01; total time=   0.0s\n",
      "[CV] END .................var_smoothing=0.001873817422860383; total time=   0.0s\n",
      "[CV] END .................var_smoothing=0.001873817422860383; total time=   0.0s\n",
      "[CV] END .................var_smoothing=0.001873817422860383; total time=   0.0s\n",
      "[CV] END ................var_smoothing=0.0015199110829529332; total time=   0.0s\n",
      "[CV] END ................var_smoothing=0.0015199110829529332; total time=   0.0s\n",
      "[CV] END ................var_smoothing=0.0015199110829529332; total time=   0.0s\n",
      "[CV] END ................var_smoothing=0.0015199110829529332; total time=   0.0s\n",
      "[CV] END ................var_smoothing=0.0015199110829529332; total time=   0.0s\n",
      "[CV] END ................var_smoothing=0.0012328467394420659; total time=   0.0s\n",
      "[CV] END ................var_smoothing=0.0012328467394420659; total time=   0.0s\n",
      "[CV] END ................var_smoothing=0.0012328467394420659; total time=   0.0s\n",
      "[CV] END ................var_smoothing=0.0012328467394420659; total time=   0.0s\n",
      "[CV] END ................var_smoothing=0.0012328467394420659; total time=   0.0s\n",
      "[CV] END ................................var_smoothing=0.001; total time=   0.0s\n",
      "[CV] END ................................var_smoothing=0.001; total time=   0.0s\n",
      "[CV] END ................................var_smoothing=0.001; total time=   0.0s\n",
      "[CV] END ................var_smoothing=0.0001232846739442066; total time=   0.0s\n",
      "[CV] END ................var_smoothing=0.0001232846739442066; total time=   0.0s\n",
      "[CV] END ................var_smoothing=0.0001232846739442066; total time=   0.0s\n",
      "[CV] END ................var_smoothing=0.0001232846739442066; total time=   0.0s\n",
      "[CV] END ...............................var_smoothing=0.0001; total time=   0.0s\n",
      "[CV] END ...............................var_smoothing=0.0001; total time=   0.0s\n",
      "[CV] END ...............................var_smoothing=0.0001; total time=   0.0s\n",
      "[CV] END ...............................var_smoothing=0.0001; total time=   0.0s\n",
      "[CV] END ...............................var_smoothing=0.0001; total time=   0.0s\n",
      "[CV] END ................var_smoothing=8.111308307896872e-05; total time=   0.0s\n",
      "[CV] END ................var_smoothing=8.111308307896872e-05; total time=   0.0s\n",
      "[CV] END ................var_smoothing=8.111308307896872e-05; total time=   0.0s\n",
      "[CV] END ................var_smoothing=8.111308307896872e-05; total time=   0.0s\n",
      "[CV] END ................var_smoothing=8.111308307896872e-05; total time=   0.0s\n",
      "[CV] END ................var_smoothing=6.579332246575683e-05; total time=   0.0s\n",
      "[CV] END ................var_smoothing=6.579332246575683e-05; total time=   0.0s\n",
      "[CV] END ................var_smoothing=2.310129700083158e-06; total time=   0.0s\n",
      "[CV] END ................var_smoothing=2.310129700083158e-06; total time=   0.0s\n",
      "[CV] END ................var_smoothing=2.310129700083158e-06; total time=   0.0s\n",
      "[CV] END ................var_smoothing=1.873817422860383e-06; total time=   0.0s\n",
      "[CV] END ................var_smoothing=1.873817422860383e-06; total time=   0.0s\n",
      "[CV] END ................var_smoothing=1.873817422860383e-06; total time=   0.0s\n",
      "[CV] END .................C=1, degree=5, gamma=1, kernel=rbf; total time=   0.1s\n",
      "[CV] END ..............C=1, degree=6, gamma=0.01, kernel=rbf; total time=   0.1s\n",
      "[CV] END ..............C=1, degree=6, gamma=0.01, kernel=rbf; total time=   0.1s\n",
      "[CV] END ...............C=1, degree=6, gamma=0.1, kernel=rbf; total time=   0.1s\n",
      "[CV] END ...............C=1, degree=6, gamma=0.1, kernel=rbf; total time=   0.1s\n",
      "[CV] END ............C=1000, degree=6, gamma=0.1, kernel=rbf; total time=   0.1s\n",
      "[CV] END ............C=1000, degree=6, gamma=0.1, kernel=rbf; total time=   0.1s\n",
      "[CV] END ..............C=0.1, degree=3, gamma=1, kernel=poly; total time=   0.4s\n",
      "[CV] END ..............C=0.1, degree=3, gamma=1, kernel=poly; total time=   0.6s\n",
      "[CV] END ............C=1, degree=4, gamma=0.001, kernel=poly; total time=   1.0s\n",
      "[CV] END ............C=100, degree=4, gamma=0.1, kernel=poly; total time=   0.3s\n",
      "[CV] END ............C=100, degree=4, gamma=0.1, kernel=poly; total time=   0.4s\n",
      "[CV] END ...........C=0.1, degree=4, gamma=0.01, kernel=poly; total time=   0.9s\n",
      "[CV] END ............C=0.1, degree=4, gamma=0.1, kernel=poly; total time=   0.5s\n",
      "[CV] END .............C=100, degree=6, gamma=0.1, kernel=rbf; total time=   0.1s\n",
      "[CV] END .............C=100, degree=6, gamma=0.1, kernel=rbf; total time=   0.1s\n",
      "[CV] END .............C=100, degree=6, gamma=0.1, kernel=rbf; total time=   0.1s\n",
      "[CV] END ..........C=0.1, degree=5, gamma=0.001, kernel=poly; total time=   0.6s\n",
      "[CV] END .........C=1000, degree=3, gamma=0.001, kernel=poly; total time=   0.7s\n",
      "[CV] END ..........C=0.1, degree=3, gamma=0.001, kernel=poly; total time=   1.4s\n",
      "[CV] END ............C=100, degree=6, gamma=0.1, kernel=poly; total time=   1.4s\n",
      "[CV] END ..............C=1000, degree=3, gamma=1, kernel=rbf; total time=   0.1s\n",
      "[CV] END ..............C=1000, degree=3, gamma=1, kernel=rbf; total time=   0.1s\n",
      "[CV] END ............C=0.1, degree=5, gamma=0.1, kernel=poly; total time=   0.5s\n",
      "[CV] END ............C=0.1, degree=5, gamma=0.1, kernel=poly; total time=   0.4s\n",
      "[CV] END ..............C=100, degree=5, gamma=1, kernel=poly; total time=   0.5s\n",
      "[CV] END ..............C=100, degree=5, gamma=1, kernel=poly; total time=   0.4s\n",
      "[CV] END ..................................var_smoothing=1.0; total time=   0.0s\n",
      "[CV] END ...................var_smoothing=0.8111308307896871; total time=   0.0s\n",
      "[CV] END ...................var_smoothing=0.8111308307896871; total time=   0.0s\n",
      "[CV] END ....................var_smoothing=0.533669923120631; total time=   0.0s\n",
      "[CV] END ....................var_smoothing=0.533669923120631; total time=   0.0s\n",
      "[CV] END ..................var_smoothing=0.43287612810830584; total time=   0.0s\n",
      "[CV] END ...................var_smoothing=0.3511191734215131; total time=   0.0s\n",
      "[CV] END ...................var_smoothing=0.3511191734215131; total time=   0.0s\n",
      "[CV] END ...................var_smoothing=0.3511191734215131; total time=   0.0s\n",
      "[CV] END ...................var_smoothing=0.1873817422860384; total time=   0.0s\n",
      "[CV] END ...................var_smoothing=0.1873817422860384; total time=   0.0s\n",
      "[CV] END ...................var_smoothing=0.1873817422860384; total time=   0.0s\n",
      "[CV] END ...................var_smoothing=0.1873817422860384; total time=   0.0s\n",
      "[CV] END ..................................var_smoothing=0.1; total time=   0.0s\n",
      "[CV] END ..................................var_smoothing=0.1; total time=   0.0s\n",
      "[CV] END ..................................var_smoothing=0.1; total time=   0.0s\n",
      "[CV] END ..................................var_smoothing=0.1; total time=   0.0s\n",
      "[CV] END ..................var_smoothing=0.08111308307896872; total time=   0.0s\n",
      "[CV] END ..................var_smoothing=0.08111308307896872; total time=   0.0s\n",
      "[CV] END ..................var_smoothing=0.08111308307896872; total time=   0.0s\n",
      "[CV] END ..................var_smoothing=0.08111308307896872; total time=   0.0s\n",
      "[CV] END ..................var_smoothing=0.02848035868435802; total time=   0.0s\n",
      "[CV] END ..................var_smoothing=0.02848035868435802; total time=   0.0s\n",
      "[CV] END ..................var_smoothing=0.02310129700083159; total time=   0.0s\n",
      "[CV] END ..................var_smoothing=0.02310129700083159; total time=   0.0s\n",
      "[CV] END ..................var_smoothing=0.02310129700083159; total time=   0.0s\n",
      "[CV] END ..................var_smoothing=0.02310129700083159; total time=   0.0s\n",
      "[CV] END ..................var_smoothing=0.02310129700083159; total time=   0.0s\n",
      "[CV] END ..................var_smoothing=0.01873817422860384; total time=   0.0s\n",
      "[CV] END .................var_smoothing=0.006579332246575682; total time=   0.0s\n",
      "[CV] END .................var_smoothing=0.006579332246575682; total time=   0.0s\n",
      "[CV] END .................var_smoothing=0.006579332246575682; total time=   0.0s\n",
      "[CV] END .................var_smoothing=0.006579332246575682; total time=   0.0s\n",
      "[CV] END .................var_smoothing=0.006579332246575682; total time=   0.0s\n",
      "[CV] END .................var_smoothing=0.005336699231206307; total time=   0.0s\n",
      "[CV] END .................var_smoothing=0.005336699231206307; total time=   0.0s\n",
      "[CV] END .................var_smoothing=0.005336699231206307; total time=   0.0s\n",
      "[CV] END .................var_smoothing=0.005336699231206307; total time=   0.0s\n",
      "[CV] END .................var_smoothing=0.005336699231206307; total time=   0.0s\n",
      "[CV] END .................var_smoothing=0.004328761281083057; total time=   0.0s\n",
      "[CV] END .................var_smoothing=0.004328761281083057; total time=   0.0s\n",
      "[CV] END .................var_smoothing=0.004328761281083057; total time=   0.0s\n",
      "[CV] END .................var_smoothing=0.004328761281083057; total time=   0.0s\n",
      "[CV] END .................var_smoothing=0.004328761281083057; total time=   0.0s\n",
      "[CV] END .................var_smoothing=0.003511191734215131; total time=   0.0s\n",
      "[CV] END ................var_smoothing=0.0005336699231206307; total time=   0.0s\n",
      "[CV] END ................var_smoothing=0.0004328761281083057; total time=   0.0s\n",
      "[CV] END ................var_smoothing=0.0004328761281083057; total time=   0.0s\n",
      "[CV] END ................var_smoothing=0.0004328761281083057; total time=   0.0s\n",
      "[CV] END ................var_smoothing=0.0004328761281083057; total time=   0.0s\n",
      "[CV] END ................var_smoothing=0.0004328761281083057; total time=   0.0s\n",
      "[CV] END ................var_smoothing=0.0003511191734215131; total time=   0.0s\n",
      "[CV] END ................var_smoothing=0.0003511191734215131; total time=   0.0s\n",
      "[CV] END ................var_smoothing=0.0003511191734215131; total time=   0.0s\n",
      "[CV] END ................var_smoothing=0.0003511191734215131; total time=   0.0s\n",
      "[CV] END ................var_smoothing=0.0003511191734215131; total time=   0.0s\n",
      "[CV] END ................var_smoothing=0.0002848035868435802; total time=   0.0s\n",
      "[CV] END ................var_smoothing=0.0002848035868435802; total time=   0.0s\n",
      "[CV] END ................var_smoothing=0.0002848035868435802; total time=   0.0s\n",
      "[CV] END ................var_smoothing=0.0002848035868435802; total time=   0.0s\n",
      "[CV] END ................var_smoothing=0.0002848035868435802; total time=   0.0s\n",
      "[CV] END ................var_smoothing=8.111308307896873e-06; total time=   0.0s\n",
      "[CV] END ................var_smoothing=8.111308307896873e-06; total time=   0.0s\n",
      "[CV] END ................var_smoothing=8.111308307896873e-06; total time=   0.0s\n",
      "[CV] END ................var_smoothing=8.111308307896873e-06; total time=   0.0s\n",
      "[CV] END ................var_smoothing=8.111308307896873e-06; total time=   0.0s\n",
      "[CV] END ................var_smoothing=6.579332246575683e-06; total time=   0.0s\n",
      "[CV] END ................var_smoothing=6.579332246575683e-06; total time=   0.0s\n",
      "[CV] END ................var_smoothing=6.579332246575683e-06; total time=   0.0s\n",
      "[CV] END ................var_smoothing=6.579332246575683e-06; total time=   0.0s\n",
      "[CV] END ................var_smoothing=6.579332246575683e-06; total time=   0.0s\n",
      "[CV] END ................var_smoothing=5.336699231206313e-06; total time=   0.0s\n",
      "[CV] END ................var_smoothing=5.336699231206313e-06; total time=   0.0s\n",
      "[CV] END ................var_smoothing=5.336699231206313e-06; total time=   0.0s\n",
      "[CV] END ................var_smoothing=5.336699231206313e-06; total time=   0.0s\n",
      "[CV] END ..............C=1, degree=6, gamma=0.1, kernel=poly; total time=   0.6s\n",
      "[CV] END .................C=1, degree=5, gamma=1, kernel=rbf; total time=   0.1s\n",
      "[CV] END .................C=1, degree=5, gamma=1, kernel=rbf; total time=   0.1s\n",
      "[CV] END ..............C=1, degree=6, gamma=0.01, kernel=rbf; total time=   0.1s\n",
      "[CV] END ..............C=1, degree=6, gamma=0.01, kernel=rbf; total time=   0.1s\n",
      "[CV] END ...............C=1, degree=6, gamma=0.1, kernel=rbf; total time=   0.1s\n",
      "[CV] END ...............C=1, degree=6, gamma=0.1, kernel=rbf; total time=   0.1s\n",
      "[CV] END ............C=1000, degree=6, gamma=0.1, kernel=rbf; total time=   0.1s\n",
      "[CV] END ..............C=0.1, degree=3, gamma=1, kernel=poly; total time=   1.6s\n",
      "[CV] END ............C=1, degree=4, gamma=0.001, kernel=poly; total time=   0.2s\n",
      "[CV] END ............C=1, degree=4, gamma=0.001, kernel=poly; total time=   0.2s\n",
      "[CV] END ............C=100, degree=4, gamma=0.1, kernel=poly; total time=   0.5s\n",
      "[CV] END ..............C=1, degree=5, gamma=0.01, kernel=rbf; total time=   0.1s\n",
      "[CV] END ..............C=1, degree=5, gamma=0.01, kernel=rbf; total time=   0.1s\n",
      "[CV] END ..............C=1, degree=5, gamma=0.01, kernel=rbf; total time=   0.1s\n",
      "[CV] END ..............C=1, degree=5, gamma=0.01, kernel=rbf; total time=   0.1s\n",
      "[CV] END ..............C=1, degree=5, gamma=0.01, kernel=rbf; total time=   0.1s\n",
      "[CV] END ...........C=0.1, degree=4, gamma=0.01, kernel=poly; total time=   1.0s\n",
      "[CV] END ............C=0.1, degree=4, gamma=0.1, kernel=poly; total time=   0.3s\n",
      "[CV] END ............C=0.1, degree=4, gamma=0.1, kernel=poly; total time=   0.4s\n",
      "[CV] END ..........C=0.1, degree=5, gamma=0.001, kernel=poly; total time=   0.3s\n",
      "[CV] END ..........C=0.1, degree=5, gamma=0.001, kernel=poly; total time=   0.2s\n",
      "[CV] END .........C=1000, degree=3, gamma=0.001, kernel=poly; total time=   0.6s\n",
      "[CV] END .........C=1000, degree=3, gamma=0.001, kernel=poly; total time=   0.9s\n",
      "[CV] END ..........C=0.1, degree=3, gamma=0.001, kernel=poly; total time=   0.8s\n",
      "[CV] END ............C=100, degree=6, gamma=0.1, kernel=poly; total time=   1.9s\n",
      "[CV] END ............C=0.1, degree=5, gamma=0.1, kernel=poly; total time=   0.4s\n",
      "[CV] END .............C=1, degree=3, gamma=0.001, kernel=rbf; total time=   0.1s\n",
      "[CV] END ..............C=100, degree=5, gamma=1, kernel=poly; total time=   0.7s\n",
      "[CV] END .............C=100, degree=5, gamma=0.1, kernel=rbf; total time=   0.1s\n",
      "[CV] END .............C=100, degree=5, gamma=0.1, kernel=rbf; total time=   0.1s\n",
      "[CV] END ..................................var_smoothing=1.0; total time=   0.0s\n",
      "[CV] END ...................var_smoothing=0.8111308307896871; total time=   0.0s\n",
      "[CV] END ....................var_smoothing=0.657933224657568; total time=   0.0s\n",
      "[CV] END ....................var_smoothing=0.657933224657568; total time=   0.0s\n",
      "[CV] END ..................var_smoothing=0.43287612810830584; total time=   0.0s\n",
      "[CV] END ..................var_smoothing=0.43287612810830584; total time=   0.0s\n",
      "[CV] END ..................var_smoothing=0.23101297000831597; total time=   0.0s\n",
      "[CV] END ..................var_smoothing=0.23101297000831597; total time=   0.0s\n",
      "[CV] END ..................var_smoothing=0.23101297000831597; total time=   0.0s\n",
      "[CV] END ..................var_smoothing=0.23101297000831597; total time=   0.0s\n",
      "[CV] END ..................var_smoothing=0.12328467394420659; total time=   0.0s\n",
      "[CV] END ..................var_smoothing=0.12328467394420659; total time=   0.0s\n",
      "[CV] END ..................var_smoothing=0.12328467394420659; total time=   0.0s\n",
      "[CV] END ..................................var_smoothing=0.1; total time=   0.0s\n",
      "[CV] END ..................var_smoothing=0.03511191734215131; total time=   0.0s\n",
      "[CV] END ..................var_smoothing=0.03511191734215131; total time=   0.0s\n",
      "[CV] END ..................var_smoothing=0.03511191734215131; total time=   0.0s\n",
      "[CV] END ..................var_smoothing=0.03511191734215131; total time=   0.0s\n",
      "[CV] END ..................var_smoothing=0.03511191734215131; total time=   0.0s\n",
      "[CV] END ..................var_smoothing=0.02848035868435802; total time=   0.0s\n",
      "[CV] END ..................var_smoothing=0.02848035868435802; total time=   0.0s\n",
      "[CV] END ..................var_smoothing=0.02848035868435802; total time=   0.0s\n",
      "[CV] END .................................var_smoothing=0.01; total time=   0.0s\n",
      "[CV] END .................................var_smoothing=0.01; total time=   0.0s\n",
      "[CV] END .................................var_smoothing=0.01; total time=   0.0s\n",
      "[CV] END .................var_smoothing=0.008111308307896872; total time=   0.0s\n",
      "[CV] END .................var_smoothing=0.008111308307896872; total time=   0.0s\n",
      "[CV] END .................var_smoothing=0.008111308307896872; total time=   0.0s\n",
      "[CV] END .................var_smoothing=0.008111308307896872; total time=   0.0s\n",
      "[CV] END .................var_smoothing=0.008111308307896872; total time=   0.0s\n",
      "[CV] END ................................var_smoothing=0.001; total time=   0.0s\n",
      "[CV] END ................................var_smoothing=0.001; total time=   0.0s\n",
      "[CV] END ................var_smoothing=0.0008111308307896872; total time=   0.0s\n",
      "[CV] END ................var_smoothing=0.0008111308307896872; total time=   0.0s\n",
      "[CV] END ................var_smoothing=0.0008111308307896872; total time=   0.0s\n",
      "[CV] END ................var_smoothing=0.0008111308307896872; total time=   0.0s\n",
      "[CV] END ................var_smoothing=0.0008111308307896872; total time=   0.0s\n",
      "[CV] END ................var_smoothing=0.0006579332246575676; total time=   0.0s\n",
      "[CV] END ................var_smoothing=0.0006579332246575676; total time=   0.0s\n",
      "[CV] END ................var_smoothing=0.0006579332246575676; total time=   0.0s\n",
      "[CV] END ................var_smoothing=0.0006579332246575676; total time=   0.0s\n",
      "[CV] END ................var_smoothing=0.0006579332246575676; total time=   0.0s\n",
      "[CV] END ................var_smoothing=0.0005336699231206307; total time=   0.0s\n",
      "[CV] END ................var_smoothing=0.0005336699231206307; total time=   0.0s\n",
      "[CV] END ................var_smoothing=0.0005336699231206307; total time=   0.0s\n",
      "[CV] END ................var_smoothing=0.0005336699231206307; total time=   0.0s\n",
      "[CV] END ................var_smoothing=6.579332246575683e-05; total time=   0.0s\n",
      "[CV] END ................var_smoothing=6.579332246575683e-05; total time=   0.0s\n",
      "[CV] END ................var_smoothing=6.579332246575683e-05; total time=   0.0s\n",
      "[CV] END ...............var_smoothing=5.3366992312063123e-05; total time=   0.0s\n",
      "[CV] END ...............var_smoothing=5.3366992312063123e-05; total time=   0.0s\n",
      "[CV] END ...............var_smoothing=5.3366992312063123e-05; total time=   0.0s\n",
      "[CV] END ...............var_smoothing=5.3366992312063123e-05; total time=   0.0s\n",
      "[CV] END ...............var_smoothing=5.3366992312063123e-05; total time=   0.0s\n",
      "[CV] END ................var_smoothing=4.328761281083062e-05; total time=   0.0s\n",
      "[CV] END ................var_smoothing=4.328761281083062e-05; total time=   0.0s\n",
      "[CV] END ................var_smoothing=4.328761281083062e-05; total time=   0.0s\n",
      "[CV] END ................var_smoothing=4.328761281083062e-05; total time=   0.0s\n",
      "[CV] END ................var_smoothing=4.328761281083062e-05; total time=   0.0s\n",
      "[CV] END ................var_smoothing=3.511191734215127e-05; total time=   0.0s\n",
      "[CV] END ................var_smoothing=3.511191734215127e-05; total time=   0.0s\n",
      "[CV] END ................var_smoothing=3.511191734215127e-05; total time=   0.0s\n",
      "[CV] END ................var_smoothing=6.579332246575682e-07; total time=   0.0s\n",
      "[CV] END ................var_smoothing=5.336699231206313e-07; total time=   0.0s\n",
      "[CV] END ................var_smoothing=5.336699231206313e-07; total time=   0.0s\n",
      "[CV] END ................var_smoothing=5.336699231206313e-07; total time=   0.0s\n",
      "[CV] END ................var_smoothing=5.336699231206313e-07; total time=   0.0s\n",
      "[CV] END ................var_smoothing=5.336699231206313e-07; total time=   0.0s\n",
      "[CV] END ...............var_smoothing=4.3287612810830526e-07; total time=   0.0s\n",
      "[CV] END ...............var_smoothing=4.3287612810830526e-07; total time=   0.0s\n",
      "[CV] END ...............var_smoothing=4.3287612810830526e-07; total time=   0.0s"
     ]
    }
   ],
   "source": [
    "nb_grid_model = GaussianNB()\n",
    "\n",
    "nb_grid = generate_hyperparameters(nb_grid_model, 'grid_nb', params_grid=nb_param_grid)"
   ]
  },
  {
   "cell_type": "markdown",
   "id": "e85cf9a4",
   "metadata": {
    "papermill": {
     "duration": 0.025069,
     "end_time": "2022-08-31T23:53:12.097160",
     "exception": false,
     "start_time": "2022-08-31T23:53:12.072091",
     "status": "completed"
    },
    "tags": []
   },
   "source": [
    "## Melhores parâmetros "
   ]
  },
  {
   "cell_type": "code",
   "execution_count": 41,
   "id": "c745489a",
   "metadata": {
    "execution": {
     "iopub.execute_input": "2022-08-31T23:53:12.149388Z",
     "iopub.status.busy": "2022-08-31T23:53:12.148164Z",
     "iopub.status.idle": "2022-08-31T23:53:12.483489Z",
     "shell.execute_reply": "2022-08-31T23:53:12.482020Z"
    },
    "papermill": {
     "duration": 0.364588,
     "end_time": "2022-08-31T23:53:12.486493",
     "exception": false,
     "start_time": "2022-08-31T23:53:12.121905",
     "status": "completed"
    },
    "tags": []
   },
   "outputs": [
    {
     "data": {
      "text/plain": [
       "<sklearn.metrics._plot.confusion_matrix.ConfusionMatrixDisplay at 0x7f2fdc740f10>"
      ]
     },
     "metadata": {},
     "output_type": "display_data"
    },
    {
     "data": {
      "text/html": [
       "<div>\n",
       "<style scoped>\n",
       "    .dataframe tbody tr th:only-of-type {\n",
       "        vertical-align: middle;\n",
       "    }\n",
       "\n",
       "    .dataframe tbody tr th {\n",
       "        vertical-align: top;\n",
       "    }\n",
       "\n",
       "    .dataframe thead th {\n",
       "        text-align: right;\n",
       "    }\n",
       "</style>\n",
       "<table border=\"1\" class=\"dataframe\">\n",
       "  <thead>\n",
       "    <tr style=\"text-align: right;\">\n",
       "      <th></th>\n",
       "      <th>model_name</th>\n",
       "      <th>acc</th>\n",
       "      <th>bacc</th>\n",
       "      <th>precision</th>\n",
       "      <th>recall</th>\n",
       "    </tr>\n",
       "  </thead>\n",
       "  <tbody>\n",
       "    <tr>\n",
       "      <th>0</th>\n",
       "      <td>rfc_basic</td>\n",
       "      <td>0.568966</td>\n",
       "      <td>0.504848</td>\n",
       "      <td>0.500000</td>\n",
       "      <td>0.04</td>\n",
       "    </tr>\n",
       "    <tr>\n",
       "      <th>1</th>\n",
       "      <td>rfc_tuned</td>\n",
       "      <td>0.568966</td>\n",
       "      <td>0.500000</td>\n",
       "      <td>0.000000</td>\n",
       "      <td>0.00</td>\n",
       "    </tr>\n",
       "    <tr>\n",
       "      <th>2</th>\n",
       "      <td>rfc_best_params</td>\n",
       "      <td>0.551724</td>\n",
       "      <td>0.489697</td>\n",
       "      <td>0.333333</td>\n",
       "      <td>0.04</td>\n",
       "    </tr>\n",
       "    <tr>\n",
       "      <th>3</th>\n",
       "      <td>svc_basic</td>\n",
       "      <td>0.568966</td>\n",
       "      <td>0.500000</td>\n",
       "      <td>0.000000</td>\n",
       "      <td>0.00</td>\n",
       "    </tr>\n",
       "    <tr>\n",
       "      <th>4</th>\n",
       "      <td>svc_poly</td>\n",
       "      <td>0.500000</td>\n",
       "      <td>0.468485</td>\n",
       "      <td>0.375000</td>\n",
       "      <td>0.24</td>\n",
       "    </tr>\n",
       "    <tr>\n",
       "      <th>5</th>\n",
       "      <td>svc_best_params</td>\n",
       "      <td>0.534483</td>\n",
       "      <td>0.513333</td>\n",
       "      <td>0.450000</td>\n",
       "      <td>0.36</td>\n",
       "    </tr>\n",
       "    <tr>\n",
       "      <th>6</th>\n",
       "      <td>gaussian_nb_basic</td>\n",
       "      <td>0.568966</td>\n",
       "      <td>0.524242</td>\n",
       "      <td>0.500000</td>\n",
       "      <td>0.20</td>\n",
       "    </tr>\n",
       "  </tbody>\n",
       "</table>\n",
       "</div>"
      ],
      "text/plain": [
       "          model_name       acc      bacc  precision  recall\n",
       "0          rfc_basic  0.568966  0.504848   0.500000    0.04\n",
       "1          rfc_tuned  0.568966  0.500000   0.000000    0.00\n",
       "2    rfc_best_params  0.551724  0.489697   0.333333    0.04\n",
       "3          svc_basic  0.568966  0.500000   0.000000    0.00\n",
       "4           svc_poly  0.500000  0.468485   0.375000    0.24\n",
       "5    svc_best_params  0.534483  0.513333   0.450000    0.36\n",
       "6  gaussian_nb_basic  0.568966  0.524242   0.500000    0.20"
      ]
     },
     "metadata": {},
     "output_type": "display_data"
    },
    {
     "data": {
      "image/png": "[encoded data removed]",
      "text/plain": [
       "<Figure size 432x288 with 2 Axes>"
      ]
     },
     "metadata": {
      "needs_background": "light"
     },
     "output_type": "display_data"
    }
   ],
   "source": [
    "nb_best_params = GaussianNB(**nb_grid.best_params_)\n",
    "nb_best_params_scores, nb_best_params_pipeline = generate_predictions(nb_best_params, 'svc_best_params')"
   ]
  },
  {
   "cell_type": "markdown",
   "id": "196e94ee",
   "metadata": {
    "papermill": {
     "duration": 0.025419,
     "end_time": "2022-08-31T23:53:12.539009",
     "exception": false,
     "start_time": "2022-08-31T23:53:12.513590",
     "status": "completed"
    },
    "tags": []
   },
   "source": [
    "# Multi-layer perceptron\n",
    "a.k.a sklearn's neural network"
   ]
  },
  {
   "cell_type": "code",
   "execution_count": 42,
   "id": "3c974b75",
   "metadata": {
    "execution": {
     "iopub.execute_input": "2022-08-31T23:53:12.591716Z",
     "iopub.status.busy": "2022-08-31T23:53:12.591251Z",
     "iopub.status.idle": "2022-08-31T23:53:12.605573Z",
     "shell.execute_reply": "2022-08-31T23:53:12.604360Z"
    },
    "papermill": {
     "duration": 0.044464,
     "end_time": "2022-08-31T23:53:12.608723",
     "exception": false,
     "start_time": "2022-08-31T23:53:12.564259",
     "status": "completed"
    },
    "tags": []
   },
   "outputs": [],
   "source": [
    "from sklearn.neural_network import MLPClassifier"
   ]
  },
  {
   "cell_type": "markdown",
   "id": "77eedaae",
   "metadata": {
    "papermill": {
     "duration": 0.02448,
     "end_time": "2022-08-31T23:53:12.658343",
     "exception": false,
     "start_time": "2022-08-31T23:53:12.633863",
     "status": "completed"
    },
    "tags": []
   },
   "source": [
    "## Básico"
   ]
  },
  {
   "cell_type": "code",
   "execution_count": 43,
   "id": "1036e57a",
   "metadata": {
    "execution": {
     "iopub.execute_input": "2022-08-31T23:53:12.712310Z",
     "iopub.status.busy": "2022-08-31T23:53:12.711182Z",
     "iopub.status.idle": "2022-08-31T23:53:15.129394Z",
     "shell.execute_reply": "2022-08-31T23:53:15.128072Z"
    },
    "papermill": {
     "duration": 2.448724,
     "end_time": "2022-08-31T23:53:15.132264",
     "exception": false,
     "start_time": "2022-08-31T23:53:12.683540",
     "status": "completed"
    },
    "tags": []
   },
   "outputs": [
    {
     "name": "stderr",
     "output_type": "stream",
     "text": [
      "/opt/conda/lib/python3.7/site-packages/sklearn/neural_network/_multilayer_perceptron.py:696: ConvergenceWarning: Stochastic Optimizer: Maximum iterations (200) reached and the optimization hasn't converged yet.\n",
      "  ConvergenceWarning,\n"
     ]
    },
    {
     "data": {
      "text/plain": [
       "<sklearn.metrics._plot.confusion_matrix.ConfusionMatrixDisplay at 0x7f2fdc8857d0>"
      ]
     },
     "metadata": {},
     "output_type": "display_data"
    },
    {
     "data": {
      "text/html": [
       "<div>\n",
       "<style scoped>\n",
       "    .dataframe tbody tr th:only-of-type {\n",
       "        vertical-align: middle;\n",
       "    }\n",
       "\n",
       "    .dataframe tbody tr th {\n",
       "        vertical-align: top;\n",
       "    }\n",
       "\n",
       "    .dataframe thead th {\n",
       "        text-align: right;\n",
       "    }\n",
       "</style>\n",
       "<table border=\"1\" class=\"dataframe\">\n",
       "  <thead>\n",
       "    <tr style=\"text-align: right;\">\n",
       "      <th></th>\n",
       "      <th>model_name</th>\n",
       "      <th>acc</th>\n",
       "      <th>bacc</th>\n",
       "      <th>precision</th>\n",
       "      <th>recall</th>\n",
       "    </tr>\n",
       "  </thead>\n",
       "  <tbody>\n",
       "    <tr>\n",
       "      <th>0</th>\n",
       "      <td>rfc_basic</td>\n",
       "      <td>0.568966</td>\n",
       "      <td>0.504848</td>\n",
       "      <td>0.500000</td>\n",
       "      <td>0.04</td>\n",
       "    </tr>\n",
       "    <tr>\n",
       "      <th>1</th>\n",
       "      <td>rfc_tuned</td>\n",
       "      <td>0.568966</td>\n",
       "      <td>0.500000</td>\n",
       "      <td>0.000000</td>\n",
       "      <td>0.00</td>\n",
       "    </tr>\n",
       "    <tr>\n",
       "      <th>2</th>\n",
       "      <td>rfc_best_params</td>\n",
       "      <td>0.551724</td>\n",
       "      <td>0.489697</td>\n",
       "      <td>0.333333</td>\n",
       "      <td>0.04</td>\n",
       "    </tr>\n",
       "    <tr>\n",
       "      <th>3</th>\n",
       "      <td>svc_basic</td>\n",
       "      <td>0.568966</td>\n",
       "      <td>0.500000</td>\n",
       "      <td>0.000000</td>\n",
       "      <td>0.00</td>\n",
       "    </tr>\n",
       "    <tr>\n",
       "      <th>4</th>\n",
       "      <td>svc_poly</td>\n",
       "      <td>0.500000</td>\n",
       "      <td>0.468485</td>\n",
       "      <td>0.375000</td>\n",
       "      <td>0.24</td>\n",
       "    </tr>\n",
       "    <tr>\n",
       "      <th>5</th>\n",
       "      <td>svc_best_params</td>\n",
       "      <td>0.534483</td>\n",
       "      <td>0.513333</td>\n",
       "      <td>0.450000</td>\n",
       "      <td>0.36</td>\n",
       "    </tr>\n",
       "    <tr>\n",
       "      <th>6</th>\n",
       "      <td>gaussian_nb_basic</td>\n",
       "      <td>0.568966</td>\n",
       "      <td>0.524242</td>\n",
       "      <td>0.500000</td>\n",
       "      <td>0.20</td>\n",
       "    </tr>\n",
       "    <tr>\n",
       "      <th>7</th>\n",
       "      <td>mlp_basic</td>\n",
       "      <td>0.586207</td>\n",
       "      <td>0.544242</td>\n",
       "      <td>0.545455</td>\n",
       "      <td>0.24</td>\n",
       "    </tr>\n",
       "  </tbody>\n",
       "</table>\n",
       "</div>"
      ],
      "text/plain": [
       "          model_name       acc      bacc  precision  recall\n",
       "0          rfc_basic  0.568966  0.504848   0.500000    0.04\n",
       "1          rfc_tuned  0.568966  0.500000   0.000000    0.00\n",
       "2    rfc_best_params  0.551724  0.489697   0.333333    0.04\n",
       "3          svc_basic  0.568966  0.500000   0.000000    0.00\n",
       "4           svc_poly  0.500000  0.468485   0.375000    0.24\n",
       "5    svc_best_params  0.534483  0.513333   0.450000    0.36\n",
       "6  gaussian_nb_basic  0.568966  0.524242   0.500000    0.20\n",
       "7          mlp_basic  0.586207  0.544242   0.545455    0.24"
      ]
     },
     "metadata": {},
     "output_type": "display_data"
    },
    {
     "data": {
      "image/png": "[encoded data removed]",
      "text/plain": [
       "<Figure size 432x288 with 2 Axes>"
      ]
     },
     "metadata": {
      "needs_background": "light"
     },
     "output_type": "display_data"
    }
   ],
   "source": [
    "mlp = MLPClassifier(random_state=RANDOM_STATE)\n",
    "mlp_scores, mlp_pipeline = generate_predictions(mlp, 'mlp_basic')"
   ]
  },
  {
   "cell_type": "markdown",
   "id": "2c930c9a",
   "metadata": {
    "papermill": {
     "duration": 0.028018,
     "end_time": "2022-08-31T23:53:15.185973",
     "exception": false,
     "start_time": "2022-08-31T23:53:15.157955",
     "status": "completed"
    },
    "tags": []
   },
   "source": [
    "## GridSearch"
   ]
  },
  {
   "cell_type": "code",
   "execution_count": 44,
   "id": "b3d7b40c",
   "metadata": {
    "execution": {
     "iopub.execute_input": "2022-08-31T23:53:15.238277Z",
     "iopub.status.busy": "2022-08-31T23:53:15.237837Z",
     "iopub.status.idle": "2022-08-31T23:53:15.244673Z",
     "shell.execute_reply": "2022-08-31T23:53:15.243377Z"
    },
    "papermill": {
     "duration": 0.036153,
     "end_time": "2022-08-31T23:53:15.247187",
     "exception": false,
     "start_time": "2022-08-31T23:53:15.211034",
     "status": "completed"
    },
    "tags": []
   },
   "outputs": [],
   "source": [
    "mlp_param_grid = {\n",
    "    'hidden_layer_sizes': [(50,50,50), (50,100,50), (100,), (100, 100, 100)],\n",
    "    'activation': ['tanh', 'relu'],\n",
    "    'solver': ['sgd', 'adam'],\n",
    "    'alpha': [0.0001, 0.05],\n",
    "    'learning_rate': ['constant','adaptive'],\n",
    "    'max_iter': [200, 500, 1000]\n",
    "}"
   ]
  },
  {
   "cell_type": "code",
   "execution_count": 45,
   "id": "f5ea9a66",
   "metadata": {
    "collapsed": true,
    "execution": {
     "iopub.execute_input": "2022-08-31T23:53:15.300593Z",
     "iopub.status.busy": "2022-08-31T23:53:15.299797Z",
     "iopub.status.idle": "2022-09-01T00:00:04.825694Z",
     "shell.execute_reply": "2022-09-01T00:00:04.823872Z"
    },
    "jupyter": {
     "outputs_hidden": true
    },
    "papermill": {
     "duration": 409.55839,
     "end_time": "2022-09-01T00:00:04.831461",
     "exception": false,
     "start_time": "2022-08-31T23:53:15.273071",
     "status": "completed"
    },
    "tags": []
   },
   "outputs": [
    {
     "name": "stdout",
     "output_type": "stream",
     "text": [
      "Fitting 5 folds for each of 100 candidates, totalling 500 fits\n",
      "\n",
      "[CV] END ...............var_smoothing=4.3287612810830526e-07; total time=   0.0s\n",
      "[CV] END ...............var_smoothing=4.3287612810830526e-07; total time=   0.0s\n",
      "[CV] END ...............var_smoothing=3.5111917342151277e-07; total time=   0.0s\n",
      "[CV] END ...............var_smoothing=3.5111917342151277e-07; total time=   0.0s\n",
      "[CV] END ...............var_smoothing=3.5111917342151277e-07; total time=   0.0s\n",
      "[CV] END ...............var_smoothing=3.5111917342151277e-07; total time=   0.0s\n",
      "[CV] END ...............var_smoothing=3.5111917342151277e-07; total time=   0.0s\n",
      "[CV] END ................var_smoothing=2.848035868435799e-07; total time=   0.0s\n",
      "[CV] END ................var_smoothing=2.848035868435799e-07; total time=   0.0s\n",
      "[CV] END ................var_smoothing=2.848035868435799e-07; total time=   0.0s\n",
      "[CV] END ................var_smoothing=2.848035868435799e-07; total time=   0.0s\n",
      "[CV] END ................var_smoothing=2.848035868435799e-07; total time=   0.0s\n",
      "[CV] END ................var_smoothing=2.310129700083158e-07; total time=   0.0s\n",
      "[CV] END ................var_smoothing=2.310129700083158e-07; total time=   0.0s\n",
      "[CV] END ................var_smoothing=2.310129700083158e-07; total time=   0.0s\n",
      "[CV] END ................var_smoothing=2.310129700083158e-07; total time=   0.0s\n",
      "[CV] END ................var_smoothing=2.310129700083158e-07; total time=   0.0s\n",
      "[CV] END ................var_smoothing=1.873817422860383e-07; total time=   0.0s\n",
      "[CV] END ................var_smoothing=1.873817422860383e-07; total time=   0.0s\n",
      "[CV] END ................var_smoothing=1.873817422860383e-07; total time=   0.0s\n",
      "[CV] END ................var_smoothing=1.873817422860383e-07; total time=   0.0s\n",
      "[CV] END ................var_smoothing=1.873817422860383e-07; total time=   0.0s\n",
      "[CV] END ................var_smoothing=1.519911082952933e-07; total time=   0.0s\n",
      "[CV] END ................var_smoothing=8.111308307896873e-08; total time=   0.0s\n",
      "[CV] END ................var_smoothing=8.111308307896873e-08; total time=   0.0s\n",
      "[CV] END ................var_smoothing=8.111308307896873e-08; total time=   0.0s\n",
      "[CV] END ................var_smoothing=5.336699231206302e-08; total time=   0.0s\n",
      "[CV] END ................var_smoothing=5.336699231206302e-08; total time=   0.0s\n",
      "[CV] END ................var_smoothing=5.336699231206302e-08; total time=   0.0s\n",
      "[CV] END ...............var_smoothing=3.5111917342151277e-08; total time=   0.0s\n",
      "[CV] END ...............var_smoothing=3.5111917342151277e-08; total time=   0.0s\n",
      "[CV] END ...............var_smoothing=3.5111917342151277e-08; total time=   0.0s\n",
      "[CV] END ................var_smoothing=1.873817422860383e-08; total time=   0.0s\n",
      "[CV] END ................var_smoothing=1.873817422860383e-08; total time=   0.0s\n",
      "[CV] END ................var_smoothing=1.873817422860383e-08; total time=   0.0s\n",
      "[CV] END ................var_smoothing=1.232846739442066e-08; total time=   0.0s\n",
      "[CV] END ................................var_smoothing=1e-08; total time=   0.0s\n",
      "[CV] END ................................var_smoothing=1e-08; total time=   0.0s\n",
      "[CV] END ................var_smoothing=6.579332246575682e-09; total time=   0.0s\n",
      "[CV] END ................var_smoothing=6.579332246575682e-09; total time=   0.0s\n",
      "[CV] END ................var_smoothing=6.579332246575682e-09; total time=   0.0s\n",
      "[CV] END ................var_smoothing=4.328761281083061e-09; total time=   0.0s\n",
      "[CV] END ................var_smoothing=4.328761281083061e-09; total time=   0.0s\n",
      "[CV] END ...............var_smoothing=3.5111917342151273e-09; total time=   0.0s\n",
      "[CV] END ................var_smoothing=2.848035868435805e-09; total time=   0.0s\n",
      "[CV] END ................var_smoothing=2.848035868435805e-09; total time=   0.0s\n",
      "[CV] END ................var_smoothing=2.848035868435805e-09; total time=   0.0s\n",
      "[CV] END ................var_smoothing=1.873817422860387e-09; total time=   0.0s\n",
      "[CV] END ................var_smoothing=1.519911082952933e-09; total time=   0.0s\n",
      "[CV] END ................var_smoothing=1.519911082952933e-09; total time=   0.0s\n",
      "[CV] END ................................var_smoothing=1e-09; total time=   0.0s\n",
      "[CV] END ................................var_smoothing=1e-09; total time=   0.0s\n",
      "[CV] END ................................var_smoothing=1e-09; total time=   0.0s\n",
      "[CV] END activation=tanh, alpha=0.0001, hidden_layer_sizes=(100,), learning_rate=adaptive, max_iter=500, solver=sgd; total time=   4.9s\n",
      "[CV] END activation=tanh, alpha=0.05, hidden_layer_sizes=(100, 100, 100), learning_rate=adaptive, max_iter=500, solver=sgd; total time=   8.4s\n",
      "[CV] END activation=relu, alpha=0.05, hidden_layer_sizes=(100,), learning_rate=constant, max_iter=1000, solver=adam; total time=   2.3s\n",
      "[CV] END activation=relu, alpha=0.05, hidden_layer_sizes=(100,), learning_rate=constant, max_iter=1000, solver=adam; total time=   0.9s\n",
      "[CV] END activation=relu, alpha=0.05, hidden_layer_sizes=(100,), learning_rate=constant, max_iter=1000, solver=adam; total time=   3.7s\n",
      "[CV] END activation=tanh, alpha=0.0001, hidden_layer_sizes=(100, 100, 100), learning_rate=constant, max_iter=1000, solver=adam; total time=   3.7s\n",
      "[CV] END activation=tanh, alpha=0.05, hidden_layer_sizes=(100,), learning_rate=adaptive, max_iter=200, solver=sgd; total time=   2.0s\n",
      "[CV] END activation=relu, alpha=0.05, hidden_layer_sizes=(50, 100, 50), learning_rate=adaptive, max_iter=200, solver=adam; total time=   1.8s\n",
      "[CV] END activation=relu, alpha=0.05, hidden_layer_sizes=(50, 100, 50), learning_rate=adaptive, max_iter=200, solver=adam; total time=   2.5s\n",
      "[CV] END activation=tanh, alpha=0.05, hidden_layer_sizes=(100,), learning_rate=constant, max_iter=1000, solver=adam; total time=   5.3s\n",
      "[CV] END activation=relu, alpha=0.05, hidden_layer_sizes=(100, 100, 100), learning_rate=adaptive, max_iter=200, solver=adam; total time=   4.0s\n",
      "[CV] END activation=tanh, alpha=0.05, hidden_layer_sizes=(50, 50, 50), learning_rate=constant, max_iter=500, solver=sgd; total time=   1.6s\n",
      "[CV] END activation=tanh, alpha=0.05, hidden_layer_sizes=(50, 50, 50), learning_rate=constant, max_iter=500, solver=sgd; total time=   2.9s\n",
      "[CV] END activation=tanh, alpha=0.05, hidden_layer_sizes=(100, 100, 100), learning_rate=adaptive, max_iter=1000, solver=sgd; total time=   8.7s\n",
      "[CV] END activation=tanh, alpha=0.05, hidden_layer_sizes=(100,), learning_rate=constant, max_iter=500, solver=sgd; total time=   1.9s\n",
      "[CV] END activation=tanh, alpha=0.05, hidden_layer_sizes=(100,), learning_rate=constant, max_iter=500, solver=sgd; total time=   2.6s\n",
      "[CV] END activation=tanh, alpha=0.05, hidden_layer_sizes=(100,), learning_rate=constant, max_iter=500, solver=sgd; total time=   1.4s\n",
      "[CV] END activation=tanh, alpha=0.05, hidden_layer_sizes=(100,), learning_rate=constant, max_iter=200, solver=sgd; total time=   1.5s\n",
      "[CV] END activation=tanh, alpha=0.05, hidden_layer_sizes=(100,), learning_rate=constant, max_iter=200, solver=sgd; total time=   1.9s\n",
      "[CV] END activation=relu, alpha=0.05, hidden_layer_sizes=(50, 100, 50), learning_rate=constant, max_iter=500, solver=adam; total time=   1.7s\n",
      "[CV] END activation=relu, alpha=0.05, hidden_layer_sizes=(50, 100, 50), learning_rate=constant, max_iter=500, solver=adam; total time=   3.1s\n",
      "[CV] END activation=tanh, alpha=0.0001, hidden_layer_sizes=(50, 100, 50), learning_rate=constant, max_iter=200, solver=sgd; total time=   2.8s\n",
      "[CV] END activation=tanh, alpha=0.0001, hidden_layer_sizes=(100, 100, 100), learning_rate=adaptive, max_iter=200, solver=adam; total time=   2.9s\n",
      "[CV] END activation=relu, alpha=0.0001, hidden_layer_sizes=(50, 50, 50), learning_rate=adaptive, max_iter=1000, solver=adam; total time=   2.9s\n",
      "[CV] END activation=relu, alpha=0.05, hidden_layer_sizes=(100,), learning_rate=adaptive, max_iter=1000, solver=sgd; total time=   1.8s\n",
      "[CV] END activation=relu, alpha=0.05, hidden_layer_sizes=(100,), learning_rate=adaptive, max_iter=1000, solver=sgd; total time=   0.9s\n",
      "[CV] END activation=tanh, alpha=0.0001, hidden_layer_sizes=(50, 100, 50), learning_rate=adaptive, max_iter=500, solver=sgd; total time=   7.0s\n",
      "[CV] END activation=tanh, alpha=0.0001, hidden_layer_sizes=(100, 100, 100), learning_rate=adaptive, max_iter=1000, solver=sgd; total time=  15.2s\n",
      "[CV] END ................var_smoothing=2.848035868435799e-05; total time=   0.0s\n",
      "[CV] END ................var_smoothing=2.848035868435799e-05; total time=   0.0s\n",
      "[CV] END ................var_smoothing=2.310129700083158e-05; total time=   0.0s\n",
      "[CV] END ................var_smoothing=2.310129700083158e-05; total time=   0.0s\n",
      "[CV] END ................var_smoothing=2.310129700083158e-05; total time=   0.0s\n",
      "[CV] END ................var_smoothing=2.310129700083158e-05; total time=   0.0s\n",
      "[CV] END ................var_smoothing=2.310129700083158e-05; total time=   0.0s\n",
      "[CV] END ................var_smoothing=1.873817422860383e-05; total time=   0.0s\n",
      "[CV] END ................var_smoothing=1.873817422860383e-05; total time=   0.0s\n",
      "[CV] END ................var_smoothing=1.873817422860383e-05; total time=   0.0s\n",
      "[CV] END ................var_smoothing=1.873817422860383e-05; total time=   0.0s\n",
      "[CV] END ................var_smoothing=1.873817422860383e-05; total time=   0.0s\n",
      "[CV] END ...............var_smoothing=1.5199110829529332e-05; total time=   0.0s\n",
      "[CV] END ...............var_smoothing=1.5199110829529332e-05; total time=   0.0s\n",
      "[CV] END ...............var_smoothing=1.5199110829529332e-05; total time=   0.0s\n",
      "[CV] END ...............var_smoothing=1.5199110829529332e-05; total time=   0.0s\n",
      "[CV] END ...............var_smoothing=1.5199110829529332e-05; total time=   0.0s\n",
      "[CV] END ...............var_smoothing=1.2328467394420658e-05; total time=   0.0s\n",
      "[CV] END ...............var_smoothing=1.2328467394420658e-05; total time=   0.0s\n",
      "[CV] END ...............var_smoothing=1.2328467394420658e-05; total time=   0.0s\n",
      "[CV] END ...............var_smoothing=1.2328467394420658e-05; total time=   0.0s\n",
      "[CV] END ...............var_smoothing=1.2328467394420658e-05; total time=   0.0s\n",
      "[CV] END ................................var_smoothing=1e-05; total time=   0.0s\n",
      "[CV] END ................................var_smoothing=1e-05; total time=   0.0s\n",
      "[CV] END ................................var_smoothing=1e-05; total time=   0.0s\n",
      "[CV] END ................................var_smoothing=1e-05; total time=   0.0s\n",
      "[CV] END ................................var_smoothing=1e-05; total time=   0.0s\n",
      "[CV] END ................var_smoothing=8.111308307896873e-08; total time=   0.0s\n",
      "[CV] END ................var_smoothing=6.579332246575682e-08; total time=   0.0s\n",
      "[CV] END ................var_smoothing=6.579332246575682e-08; total time=   0.0s\n",
      "[CV] END ...............var_smoothing=4.3287612810830526e-08; total time=   0.0s\n",
      "[CV] END ...............var_smoothing=4.3287612810830526e-08; total time=   0.0s\n",
      "[CV] END ...............var_smoothing=4.3287612810830526e-08; total time=   0.0s\n",
      "[CV] END ................var_smoothing=2.848035868435799e-08; total time=   0.0s\n",
      "[CV] END ................var_smoothing=2.848035868435799e-08; total time=   0.0s\n",
      "[CV] END ................var_smoothing=2.310129700083158e-08; total time=   0.0s\n",
      "[CV] END ................var_smoothing=1.519911082952933e-08; total time=   0.0s\n",
      "[CV] END ................var_smoothing=1.519911082952933e-08; total time=   0.0s\n",
      "[CV] END ................var_smoothing=1.519911082952933e-08; total time=   0.0s\n",
      "[CV] END ................................var_smoothing=1e-08; total time=   0.0s\n",
      "[CV] END ................................var_smoothing=1e-08; total time=   0.0s\n",
      "[CV] END ................................var_smoothing=1e-08; total time=   0.0s\n",
      "[CV] END ................var_smoothing=6.579332246575682e-09; total time=   0.0s\n",
      "[CV] END ................var_smoothing=5.336699231206302e-09; total time=   0.0s\n",
      "[CV] END ................var_smoothing=5.336699231206302e-09; total time=   0.0s\n",
      "[CV] END ...............var_smoothing=3.5111917342151273e-09; total time=   0.0s\n",
      "[CV] END ...............var_smoothing=3.5111917342151273e-09; total time=   0.0s\n",
      "[CV] END ...............var_smoothing=3.5111917342151273e-09; total time=   0.0s\n",
      "[CV] END ................var_smoothing=2.310129700083158e-09; total time=   0.0s\n",
      "[CV] END ................var_smoothing=2.310129700083158e-09; total time=   0.0s\n",
      "[CV] END ................var_smoothing=1.873817422860387e-09; total time=   0.0s\n",
      "[CV] END ...............var_smoothing=1.2328467394420635e-09; total time=   0.0s\n",
      "[CV] END ...............var_smoothing=1.2328467394420635e-09; total time=   0.0s\n",
      "[CV] END ...............var_smoothing=1.2328467394420635e-09; total time=   0.0s\n",
      "[CV] END activation=tanh, alpha=0.0001, hidden_layer_sizes=(100,), learning_rate=adaptive, max_iter=500, solver=sgd; total time=   2.7s\n",
      "[CV] END activation=tanh, alpha=0.0001, hidden_layer_sizes=(100,), learning_rate=adaptive, max_iter=500, solver=sgd; total time=   4.5s\n",
      "[CV] END activation=tanh, alpha=0.05, hidden_layer_sizes=(100, 100, 100), learning_rate=adaptive, max_iter=500, solver=sgd; total time=  10.3s\n",
      "[CV] END activation=tanh, alpha=0.0001, hidden_layer_sizes=(100, 100, 100), learning_rate=constant, max_iter=1000, solver=adam; total time=   1.9s\n",
      "[CV] END activation=tanh, alpha=0.0001, hidden_layer_sizes=(100, 100, 100), learning_rate=constant, max_iter=1000, solver=adam; total time=   3.0s\n",
      "[CV] END activation=tanh, alpha=0.05, hidden_layer_sizes=(100,), learning_rate=adaptive, max_iter=200, solver=sgd; total time=   1.9s\n",
      "[CV] END activation=relu, alpha=0.05, hidden_layer_sizes=(100, 100, 100), learning_rate=constant, max_iter=500, solver=sgd; total time=   1.5s\n",
      "[CV] END activation=relu, alpha=0.05, hidden_layer_sizes=(100, 100, 100), learning_rate=constant, max_iter=500, solver=sgd; total time=   1.1s\n",
      "[CV] END activation=relu, alpha=0.05, hidden_layer_sizes=(50, 100, 50), learning_rate=adaptive, max_iter=200, solver=adam; total time=   1.4s\n",
      "[CV] END activation=relu, alpha=0.05, hidden_layer_sizes=(50, 100, 50), learning_rate=adaptive, max_iter=200, solver=adam; total time=   0.9s\n",
      "[CV] END activation=tanh, alpha=0.05, hidden_layer_sizes=(100,), learning_rate=constant, max_iter=1000, solver=adam; total time=   4.0s\n",
      "[CV] END activation=tanh, alpha=0.05, hidden_layer_sizes=(100,), learning_rate=constant, max_iter=1000, solver=adam; total time=   3.9s\n",
      "[CV] END activation=relu, alpha=0.05, hidden_layer_sizes=(100, 100, 100), learning_rate=adaptive, max_iter=200, solver=adam; total time=   2.8s\n",
      "[CV] END activation=tanh, alpha=0.05, hidden_layer_sizes=(50, 50, 50), learning_rate=constant, max_iter=500, solver=sgd; total time=   4.6s\n",
      "[CV] END activation=tanh, alpha=0.05, hidden_layer_sizes=(100, 100, 100), learning_rate=adaptive, max_iter=1000, solver=sgd; total time=  13.3s\n",
      "[CV] END activation=tanh, alpha=0.05, hidden_layer_sizes=(100,), learning_rate=constant, max_iter=500, solver=sgd; total time=   4.1s\n",
      "[CV] END activation=tanh, alpha=0.05, hidden_layer_sizes=(100,), learning_rate=constant, max_iter=200, solver=sgd; total time=   1.9s\n",
      "[CV] END activation=relu, alpha=0.05, hidden_layer_sizes=(50, 100, 50), learning_rate=constant, max_iter=500, solver=adam; total time=   3.7s\n",
      "[CV] END activation=tanh, alpha=0.0001, hidden_layer_sizes=(50, 100, 50), learning_rate=constant, max_iter=200, solver=sgd; total time=   2.8s\n",
      "[CV] END activation=tanh, alpha=0.0001, hidden_layer_sizes=(100, 100, 100), learning_rate=adaptive, max_iter=200, solver=adam; total time=   2.5s\n",
      "[CV] END activation=relu, alpha=0.0001, hidden_layer_sizes=(50, 50, 50), learning_rate=adaptive, max_iter=1000, solver=adam; total time=   2.6s\n",
      "[CV] END activation=relu, alpha=0.05, hidden_layer_sizes=(100,), learning_rate=adaptive, max_iter=1000, solver=sgd; total time=   3.0s\n",
      "[CV] END activation=tanh, alpha=0.0001, hidden_layer_sizes=(50, 100, 50), learning_rate=adaptive, max_iter=500, solver=sgd; total time=   6.9s\n",
      "[CV] END activation=tanh, alpha=0.0001, hidden_layer_sizes=(100, 100, 100), learning_rate=adaptive, max_iter=1000, solver=sgd; total time=  10.3s\n",
      "[CV] END activation=tanh, alpha=0.0001, hidden_layer_sizes=(100,), learning_rate=adaptive, max_iter=200, solver=sgd; total time=   1.9s\n",
      "[CV] END activation=tanh, alpha=0.0001, hidden_layer_sizes=(100,), learning_rate=adaptive, max_iter=200, solver=sgd; total time=   1.9s\n",
      "[CV] END activation=tanh, alpha=0.0001, hidden_layer_sizes=(100,), learning_rate=adaptive, max_iter=200, solver=sgd; total time=   2.0s\n",
      "[CV] END activation=relu, alpha=0.0001, hidden_layer_sizes=(100,), learning_rate=adaptive, max_iter=200, solver=sgd; total time=   1.7s\n",
      "[CV] END ................var_smoothing=5.336699231206313e-06; total time=   0.0s\n",
      "[CV] END ................var_smoothing=4.328761281083053e-06; total time=   0.0s\n",
      "[CV] END ................var_smoothing=4.328761281083053e-06; total time=   0.0s\n",
      "[CV] END ................var_smoothing=4.328761281083053e-06; total time=   0.0s\n",
      "[CV] END ................var_smoothing=4.328761281083053e-06; total time=   0.0s\n",
      "[CV] END ................var_smoothing=4.328761281083053e-06; total time=   0.0s\n",
      "[CV] END ...............var_smoothing=3.5111917342151275e-06; total time=   0.0s\n",
      "[CV] END ...............var_smoothing=3.5111917342151275e-06; total time=   0.0s\n",
      "[CV] END ...............var_smoothing=3.5111917342151275e-06; total time=   0.0s\n",
      "[CV] END ...............var_smoothing=3.5111917342151275e-06; total time=   0.0s\n",
      "[CV] END ...............var_smoothing=3.5111917342151275e-06; total time=   0.0s\n",
      "[CV] END ................var_smoothing=2.848035868435799e-06; total time=   0.0s\n",
      "[CV] END ................var_smoothing=2.848035868435799e-06; total time=   0.0s\n",
      "[CV] END ................var_smoothing=2.848035868435799e-06; total time=   0.0s\n",
      "[CV] END ................var_smoothing=2.848035868435799e-06; total time=   0.0s\n",
      "[CV] END ................var_smoothing=2.848035868435799e-06; total time=   0.0s\n",
      "[CV] END ................var_smoothing=2.310129700083158e-06; total time=   0.0s\n",
      "[CV] END ................var_smoothing=2.310129700083158e-06; total time=   0.0s\n",
      "[CV] END ................var_smoothing=1.519911082952933e-07; total time=   0.0s\n",
      "[CV] END ................var_smoothing=1.519911082952933e-07; total time=   0.0s\n",
      "[CV] END ................var_smoothing=1.519911082952933e-07; total time=   0.0s\n",
      "[CV] END ................var_smoothing=1.519911082952933e-07; total time=   0.0s\n",
      "[CV] END ................var_smoothing=1.232846739442066e-07; total time=   0.0s\n",
      "[CV] END ................var_smoothing=1.232846739442066e-07; total time=   0.0s\n",
      "[CV] END ................................var_smoothing=1e-07; total time=   0.0s\n",
      "[CV] END ................................var_smoothing=1e-07; total time=   0.0s\n",
      "[CV] END ................................var_smoothing=1e-07; total time=   0.0s\n",
      "[CV] END ................var_smoothing=5.336699231206302e-08; total time=   0.0s\n",
      "[CV] END ................var_smoothing=5.336699231206302e-08; total time=   0.0s\n",
      "[CV] END ...............var_smoothing=4.3287612810830526e-08; total time=   0.0s\n",
      "[CV] END ................var_smoothing=2.848035868435799e-08; total time=   0.0s\n",
      "[CV] END ................var_smoothing=2.848035868435799e-08; total time=   0.0s\n",
      "[CV] END ................var_smoothing=2.848035868435799e-08; total time=   0.0s\n",
      "[CV] END ................var_smoothing=2.310129700083158e-08; total time=   0.0s\n",
      "[CV] END ................var_smoothing=1.873817422860383e-08; total time=   0.0s\n",
      "[CV] END ................var_smoothing=1.873817422860383e-08; total time=   0.0s\n",
      "[CV] END ................var_smoothing=1.232846739442066e-08; total time=   0.0s\n",
      "[CV] END ................var_smoothing=1.232846739442066e-08; total time=   0.0s\n",
      "[CV] END ................var_smoothing=1.232846739442066e-08; total time=   0.0s\n",
      "[CV] END ................var_smoothing=8.111308307896856e-09; total time=   0.0s\n",
      "[CV] END ................var_smoothing=8.111308307896856e-09; total time=   0.0s\n",
      "[CV] END ................var_smoothing=6.579332246575682e-09; total time=   0.0s\n",
      "[CV] END ................var_smoothing=4.328761281083061e-09; total time=   0.0s\n",
      "[CV] END ................var_smoothing=4.328761281083061e-09; total time=   0.0s\n",
      "[CV] END ................var_smoothing=4.328761281083061e-09; total time=   0.0s\n",
      "[CV] END ................var_smoothing=2.310129700083158e-09; total time=   0.0s\n",
      "[CV] END ................var_smoothing=2.310129700083158e-09; total time=   0.0s\n",
      "[CV] END ................var_smoothing=2.310129700083158e-09; total time=   0.0s\n",
      "[CV] END ................var_smoothing=1.519911082952933e-09; total time=   0.0s\n",
      "[CV] END ................var_smoothing=1.519911082952933e-09; total time=   0.0s\n",
      "[CV] END ................var_smoothing=1.519911082952933e-09; total time=   0.0s\n",
      "[CV] END ................................var_smoothing=1e-09; total time=   0.0s\n",
      "[CV] END activation=tanh, alpha=0.0001, hidden_layer_sizes=(100,), learning_rate=adaptive, max_iter=500, solver=sgd; total time=   4.8s\n",
      "[CV] END activation=tanh, alpha=0.05, hidden_layer_sizes=(100, 100, 100), learning_rate=adaptive, max_iter=500, solver=sgd; total time=  10.4s\n",
      "[CV] END activation=relu, alpha=0.05, hidden_layer_sizes=(100,), learning_rate=constant, max_iter=1000, solver=adam; total time=   0.9s\n",
      "[CV] END activation=relu, alpha=0.05, hidden_layer_sizes=(100,), learning_rate=constant, max_iter=1000, solver=adam; total time=   2.2s\n",
      "[CV] END activation=tanh, alpha=0.0001, hidden_layer_sizes=(100, 100, 100), learning_rate=constant, max_iter=1000, solver=adam; total time=   2.3s\n",
      "[CV] END activation=tanh, alpha=0.0001, hidden_layer_sizes=(100, 100, 100), learning_rate=constant, max_iter=1000, solver=adam; total time=   2.7s\n",
      "[CV] END activation=tanh, alpha=0.05, hidden_layer_sizes=(100,), learning_rate=adaptive, max_iter=200, solver=sgd; total time=   2.0s\n",
      "[CV] END activation=relu, alpha=0.05, hidden_layer_sizes=(100, 100, 100), learning_rate=constant, max_iter=500, solver=sgd; total time=   0.5s\n",
      "[CV] END activation=relu, alpha=0.05, hidden_layer_sizes=(100, 100, 100), learning_rate=constant, max_iter=500, solver=sgd; total time=   5.3s\n",
      "[CV] END activation=tanh, alpha=0.05, hidden_layer_sizes=(100,), learning_rate=constant, max_iter=1000, solver=adam; total time=   3.8s\n",
      "[CV] END activation=relu, alpha=0.05, hidden_layer_sizes=(100, 100, 100), learning_rate=adaptive, max_iter=200, solver=adam; total time=   2.3s\n",
      "[CV] END activation=relu, alpha=0.05, hidden_layer_sizes=(100, 100, 100), learning_rate=adaptive, max_iter=200, solver=adam; total time=   2.1s\n",
      "[CV] END activation=tanh, alpha=0.05, hidden_layer_sizes=(50, 50, 50), learning_rate=constant, max_iter=500, solver=sgd; total time=   3.2s\n",
      "[CV] END activation=tanh, alpha=0.05, hidden_layer_sizes=(100, 100, 100), learning_rate=adaptive, max_iter=1000, solver=sgd; total time=   6.1s\n",
      "[CV] END activation=tanh, alpha=0.05, hidden_layer_sizes=(100, 100, 100), learning_rate=adaptive, max_iter=1000, solver=sgd; total time=  11.8s\n",
      "[CV] END activation=tanh, alpha=0.05, hidden_layer_sizes=(100,), learning_rate=constant, max_iter=200, solver=sgd; total time=   1.3s\n",
      "[CV] END activation=tanh, alpha=0.05, hidden_layer_sizes=(100,), learning_rate=constant, max_iter=200, solver=sgd; total time=   2.0s\n",
      "[CV] END activation=relu, alpha=0.05, hidden_layer_sizes=(50, 100, 50), learning_rate=constant, max_iter=500, solver=adam; total time=   0.9s\n",
      "[CV] END activation=tanh, alpha=0.0001, hidden_layer_sizes=(50, 100, 50), learning_rate=constant, max_iter=200, solver=sgd; total time=   2.8s\n",
      "[CV] END activation=tanh, alpha=0.0001, hidden_layer_sizes=(100, 100, 100), learning_rate=adaptive, max_iter=200, solver=adam; total time=   1.9s\n",
      "[CV] END activation=tanh, alpha=0.0001, hidden_layer_sizes=(100, 100, 100), learning_rate=adaptive, max_iter=200, solver=adam; total time=   2.3s\n",
      "[CV] END activation=relu, alpha=0.0001, hidden_layer_sizes=(50, 50, 50), learning_rate=adaptive, max_iter=1000, solver=adam; total time=   1.5s\n",
      "[CV] END activation=relu, alpha=0.0001, hidden_layer_sizes=(50, 50, 50), learning_rate=adaptive, max_iter=1000, solver=adam; total time=   1.9s\n",
      "[CV] END activation=relu, alpha=0.05, hidden_layer_sizes=(100,), learning_rate=adaptive, max_iter=1000, solver=sgd; total time=   3.0s\n",
      "[CV] END activation=tanh, alpha=0.0001, hidden_layer_sizes=(50, 100, 50), learning_rate=adaptive, max_iter=500, solver=sgd; total time=   5.1s\n",
      "[CV] END activation=tanh, alpha=0.0001, hidden_layer_sizes=(100, 100, 100), learning_rate=adaptive, max_iter=1000, solver=sgd; total time=   8.1s\n",
      "[CV] END activation=tanh, alpha=0.0001, hidden_layer_sizes=(100, 100, 100), learning_rate=adaptive, max_iter=1000, solver=sgd; total time=   9.4s\n",
      "[CV] END activation=tanh, alpha=0.0001, hidden_layer_sizes=(100,), learning_rate=adaptive, max_iter=200, solver=sgd; total time=   2.1s\n",
      "[CV] END activation=relu, alpha=0.0001, hidden_layer_sizes=(100,), learning_rate=adaptive, max_iter=200, solver=sgd; total time=   1.7s\n",
      "[CV] END ................var_smoothing=1.873817422860383e-06; total time=   0.0s\n",
      "[CV] END ................var_smoothing=1.873817422860383e-06; total time=   0.0s\n",
      "[CV] END ................var_smoothing=1.519911082952933e-06; total time=   0.0s\n",
      "[CV] END ................var_smoothing=1.519911082952933e-06; total time=   0.0s\n",
      "[CV] END ................var_smoothing=1.519911082952933e-06; total time=   0.0s\n",
      "[CV] END ................var_smoothing=1.519911082952933e-06; total time=   0.0s\n",
      "[CV] END ................var_smoothing=1.519911082952933e-06; total time=   0.0s\n",
      "[CV] END ................var_smoothing=1.232846739442066e-06; total time=   0.0s\n",
      "[CV] END ................var_smoothing=1.232846739442066e-06; total time=   0.0s\n",
      "[CV] END ................var_smoothing=1.232846739442066e-06; total time=   0.0s\n",
      "[CV] END ................var_smoothing=1.232846739442066e-06; total time=   0.0s\n",
      "[CV] END ................var_smoothing=1.232846739442066e-06; total time=   0.0s\n",
      "[CV] END ................................var_smoothing=1e-06; total time=   0.0s\n",
      "[CV] END ................................var_smoothing=1e-06; total time=   0.0s\n",
      "[CV] END ................................var_smoothing=1e-06; total time=   0.0s\n",
      "[CV] END ................................var_smoothing=1e-06; total time=   0.0s\n",
      "[CV] END ................................var_smoothing=1e-06; total time=   0.0s\n",
      "[CV] END ................var_smoothing=8.111308307896872e-07; total time=   0.0s\n",
      "[CV] END ................var_smoothing=8.111308307896872e-07; total time=   0.0s\n",
      "[CV] END ................var_smoothing=8.111308307896872e-07; total time=   0.0s\n",
      "[CV] END ................var_smoothing=8.111308307896872e-07; total time=   0.0s\n",
      "[CV] END ................var_smoothing=8.111308307896872e-07; total time=   0.0s\n",
      "[CV] END ................var_smoothing=6.579332246575682e-07; total time=   0.0s\n",
      "[CV] END ................var_smoothing=6.579332246575682e-07; total time=   0.0s\n",
      "[CV] END ................var_smoothing=6.579332246575682e-07; total time=   0.0s\n",
      "[CV] END ................var_smoothing=6.579332246575682e-07; total time=   0.0s\n",
      "[CV] END ................var_smoothing=1.232846739442066e-07; total time=   0.0s\n",
      "[CV] END ................var_smoothing=1.232846739442066e-07; total time=   0.0s\n",
      "[CV] END ................var_smoothing=1.232846739442066e-07; total time=   0.0s\n",
      "[CV] END ................................var_smoothing=1e-07; total time=   0.0s\n",
      "[CV] END ................................var_smoothing=1e-07; total time=   0.0s\n",
      "[CV] END ................var_smoothing=8.111308307896873e-08; total time=   0.0s\n",
      "[CV] END ................var_smoothing=6.579332246575682e-08; total time=   0.0s\n",
      "[CV] END ................var_smoothing=6.579332246575682e-08; total time=   0.0s\n",
      "[CV] END ................var_smoothing=6.579332246575682e-08; total time=   0.0s\n",
      "[CV] END ...............var_smoothing=4.3287612810830526e-08; total time=   0.0s\n",
      "[CV] END ...............var_smoothing=3.5111917342151277e-08; total time=   0.0s\n",
      "[CV] END ...............var_smoothing=3.5111917342151277e-08; total time=   0.0s\n",
      "[CV] END ................var_smoothing=2.310129700083158e-08; total time=   0.0s\n",
      "[CV] END ................var_smoothing=2.310129700083158e-08; total time=   0.0s\n",
      "[CV] END ................var_smoothing=2.310129700083158e-08; total time=   0.0s\n",
      "[CV] END ................var_smoothing=1.519911082952933e-08; total time=   0.0s\n",
      "[CV] END ................var_smoothing=1.519911082952933e-08; total time=   0.0s\n",
      "[CV] END ................var_smoothing=1.232846739442066e-08; total time=   0.0s\n",
      "[CV] END ................var_smoothing=8.111308307896856e-09; total time=   0.0s\n",
      "[CV] END ................var_smoothing=8.111308307896856e-09; total time=   0.0s\n",
      "[CV] END ................var_smoothing=8.111308307896856e-09; total time=   0.0s\n",
      "[CV] END ................var_smoothing=5.336699231206302e-09; total time=   0.0s\n",
      "[CV] END ................var_smoothing=5.336699231206302e-09; total time=   0.0s\n",
      "[CV] END ................var_smoothing=5.336699231206302e-09; total time=   0.0s\n",
      "[CV] END ...............var_smoothing=3.5111917342151273e-09; total time=   0.0s\n",
      "[CV] END ................var_smoothing=2.848035868435805e-09; total time=   0.0s\n",
      "[CV] END ................var_smoothing=2.848035868435805e-09; total time=   0.0s\n",
      "[CV] END ................var_smoothing=1.873817422860387e-09; total time=   0.0s\n",
      "[CV] END ................var_smoothing=1.873817422860387e-09; total time=   0.0s\n",
      "[CV] END ................var_smoothing=1.873817422860387e-09; total time=   0.0s\n",
      "[CV] END ...............var_smoothing=1.2328467394420635e-09; total time=   0.0s\n",
      "[CV] END ...............var_smoothing=1.2328467394420635e-09; total time=   0.0s\n",
      "[CV] END ................................var_smoothing=1e-09; total time=   0.0s\n",
      "[CV] END activation=tanh, alpha=0.0001, hidden_layer_sizes=(100,), learning_rate=adaptive, max_iter=500, solver=sgd; total time=   4.5s\n",
      "[CV] END activation=tanh, alpha=0.05, hidden_layer_sizes=(100, 100, 100), learning_rate=adaptive, max_iter=500, solver=sgd; total time=   6.0s\n",
      "[CV] END activation=tanh, alpha=0.05, hidden_layer_sizes=(100, 100, 100), learning_rate=adaptive, max_iter=500, solver=sgd; total time=  10.4s\n",
      "[CV] END activation=tanh, alpha=0.05, hidden_layer_sizes=(100,), learning_rate=adaptive, max_iter=200, solver=sgd; total time=   2.6s\n",
      "[CV] END activation=tanh, alpha=0.05, hidden_layer_sizes=(100,), learning_rate=adaptive, max_iter=200, solver=sgd; total time=   2.1s\n",
      "[CV] END activation=relu, alpha=0.05, hidden_layer_sizes=(100, 100, 100), learning_rate=constant, max_iter=500, solver=sgd; total time=   1.5s\n",
      "[CV] END activation=relu, alpha=0.05, hidden_layer_sizes=(50, 100, 50), learning_rate=adaptive, max_iter=200, solver=adam; total time=   2.5s\n",
      "[CV] END activation=tanh, alpha=0.05, hidden_layer_sizes=(100,), learning_rate=constant, max_iter=1000, solver=adam; total time=   6.0s\n",
      "[CV] END activation=relu, alpha=0.05, hidden_layer_sizes=(100, 100, 100), learning_rate=adaptive, max_iter=200, solver=adam; total time=   4.2s\n",
      "[CV] END activation=tanh, alpha=0.05, hidden_layer_sizes=(50, 50, 50), learning_rate=constant, max_iter=500, solver=sgd; total time=   4.4s\n",
      "[CV] END activation=tanh, alpha=0.05, hidden_layer_sizes=(100, 100, 100), learning_rate=adaptive, max_iter=1000, solver=sgd; total time=  14.6s\n",
      "[CV] END activation=tanh, alpha=0.05, hidden_layer_sizes=(100,), learning_rate=constant, max_iter=500, solver=sgd; total time=   4.9s\n",
      "[CV] END activation=relu, alpha=0.05, hidden_layer_sizes=(50, 100, 50), learning_rate=constant, max_iter=500, solver=adam; total time=   1.4s\n",
      "[CV] END activation=tanh, alpha=0.0001, hidden_layer_sizes=(50, 100, 50), learning_rate=constant, max_iter=200, solver=sgd; total time=   2.4s\n",
      "[CV] END activation=tanh, alpha=0.0001, hidden_layer_sizes=(50, 100, 50), learning_rate=constant, max_iter=200, solver=sgd; total time=   2.8s\n",
      "[CV] END activation=tanh, alpha=0.0001, hidden_layer_sizes=(100, 100, 100), learning_rate=adaptive, max_iter=200, solver=adam; total time=   3.3s\n",
      "[CV] END activation=relu, alpha=0.0001, hidden_layer_sizes=(50, 50, 50), learning_rate=adaptive, max_iter=1000, solver=adam; total time=   1.5s\n",
      "[CV] END activation=relu, alpha=0.05, hidden_layer_sizes=(100,), learning_rate=adaptive, max_iter=1000, solver=sgd; total time=   3.2s\n",
      "[CV] END activation=tanh, alpha=0.0001, hidden_layer_sizes=(50, 100, 50), learning_rate=adaptive, max_iter=500, solver=sgd; total time=   5.1s\n",
      "[CV] END activation=tanh, alpha=0.0001, hidden_layer_sizes=(50, 100, 50), learning_rate=adaptive, max_iter=500, solver=sgd; total time=   7.2s\n",
      "[CV] END activation=tanh, alpha=0.0001, hidden_layer_sizes=(100, 100, 100), learning_rate=adaptive, max_iter=1000, solver=sgd; total time=  14.0s\n",
      "[CV] END activation=tanh, alpha=0.05, hidden_layer_sizes=(50, 100, 50), learning_rate=adaptive, max_iter=200, solver=adam; total time=   2.3s\n",
      "[CV] END activation=tanh, alpha=0.05, hidden_layer_sizes=(50, 100, 50), learning_rate=adaptive, max_iter=200, solver=adam; total time=   2.5s\n",
      "[CV] END activation=tanh, alpha=0.0001, hidden_layer_sizes=(100, 100, 100), learning_rate=constant, max_iter=200, solver=sgd; total time=   4.3s\n",
      "[CV] END activation=tanh, alpha=0.05, hidden_layer_sizes=(100, 100, 100), learning_rate=adaptive, max_iter=200, solver=sgd; total time=   4.3s\n",
      "[CV] END activation=tanh, alpha=0.05, hidden_layer_sizes=(50, 100, 50), learning_rate=adaptive, max_iter=200, solver=adam; total time=   3.1s\n",
      "[CV] END activation=tanh, alpha=0.0001, hidden_layer_sizes=(100, 100, 100), learning_rate=constant, max_iter=200, solver=sgd; total time=   4.2s\n",
      "[CV] END activation=tanh, alpha=0.05, hidden_layer_sizes=(100, 100, 100), learning_rate=adaptive, max_iter=200, solver=sgd; total time=   4.3s\n",
      "[CV] END activation=relu, alpha=0.0001, hidden_layer_sizes=(50, 100, 50), learning_rate=constant, max_iter=500, solver=sgd; total time=   0.8s\n",
      "[CV] END activation=relu, alpha=0.0001, hidden_layer_sizes=(50, 100, 50), learning_rate=constant, max_iter=500, solver=sgd; total time=   0.8s\n",
      "[CV] END activation=relu, alpha=0.0001, hidden_layer_sizes=(50, 100, 50), learning_rate=constant, max_iter=500, solver=sgd; total time=   0.7s\n",
      "[CV] END activation=relu, alpha=0.0001, hidden_layer_sizes=(50, 100, 50), learning_rate=constant, max_iter=500, solver=sgd; total time=   1.7s\n",
      "[CV] END activation=tanh, alpha=0.0001, hidden_layer_sizes=(50, 50, 50), learning_rate=constant, max_iter=500, solver=adam; total time=   1.9s\n",
      "[CV] END activation=relu, alpha=0.05, hidden_layer_sizes=(50, 50, 50), learning_rate=constant, max_iter=200, solver=sgd; total time=   0.6s\n",
      "[CV] END activation=relu, alpha=0.0001, hidden_layer_sizes=(100,), learning_rate=constant, max_iter=500, solver=sgd; total time=   0.7s\n",
      "[CV] END activation=tanh, alpha=0.05, hidden_layer_sizes=(100,), learning_rate=constant, max_iter=500, solver=adam; total time=   5.1s\n",
      "[CV] END activation=tanh, alpha=0.05, hidden_layer_sizes=(50, 100, 50), learning_rate=constant, max_iter=200, solver=adam; total time=   2.9s\n",
      "[CV] END activation=relu, alpha=0.0001, hidden_layer_sizes=(100, 100, 100), learning_rate=adaptive, max_iter=1000, solver=sgd; total time=  17.3s\n",
      "[CV] END activation=relu, alpha=0.0001, hidden_layer_sizes=(100, 100, 100), learning_rate=adaptive, max_iter=1000, solver=adam; total time=   2.7s\n",
      "[CV] END activation=relu, alpha=0.0001, hidden_layer_sizes=(100, 100, 100), learning_rate=adaptive, max_iter=500, solver=sgd; total time=   6.9s\n",
      "[CV] END activation=tanh, alpha=0.0001, hidden_layer_sizes=(50, 50, 50), learning_rate=adaptive, max_iter=200, solver=sgd; total time=   2.3s\n",
      "[CV] END activation=tanh, alpha=0.0001, hidden_layer_sizes=(50, 50, 50), learning_rate=adaptive, max_iter=200, solver=sgd; total time=   2.4s\n",
      "[CV] END activation=relu, alpha=0.05, hidden_layer_sizes=(100, 100, 100), learning_rate=constant, max_iter=1000, solver=sgd; total time=   0.6s\n",
      "[CV] END activation=relu, alpha=0.05, hidden_layer_sizes=(100, 100, 100), learning_rate=constant, max_iter=1000, solver=sgd; total time=   1.2s\n",
      "[CV] END activation=relu, alpha=0.05, hidden_layer_sizes=(50, 100, 50), learning_rate=constant, max_iter=200, solver=sgd; total time=   0.6s\n",
      "[CV] END activation=tanh, alpha=0.0001, hidden_layer_sizes=(100,), learning_rate=adaptive, max_iter=200, solver=adam; total time=   2.1s\n",
      "[CV] END activation=tanh, alpha=0.0001, hidden_layer_sizes=(100,), learning_rate=adaptive, max_iter=200, solver=adam; total time=   2.2s\n",
      "[CV] END activation=tanh, alpha=0.05, hidden_layer_sizes=(100, 100, 100), learning_rate=constant, max_iter=500, solver=adam; total time=   6.7s\n",
      "[CV] END activation=tanh, alpha=0.05, hidden_layer_sizes=(50, 100, 50), learning_rate=adaptive, max_iter=200, solver=sgd; total time=   2.9s\n",
      "[CV] END activation=tanh, alpha=0.05, hidden_layer_sizes=(50, 100, 50), learning_rate=adaptive, max_iter=200, solver=sgd; total time=   3.0s\n",
      "[CV] END activation=tanh, alpha=0.0001, hidden_layer_sizes=(100,), learning_rate=constant, max_iter=200, solver=adam; total time=   2.1s\n",
      "[CV] END activation=relu, alpha=0.05, hidden_layer_sizes=(100,), learning_rate=adaptive, max_iter=200, solver=sgd; total time=   1.7s\n",
      "[CV] END activation=relu, alpha=0.0001, hidden_layer_sizes=(100,), learning_rate=constant, max_iter=200, solver=sgd; total time=   0.4s\n",
      "[CV] END activation=tanh, alpha=0.05, hidden_layer_sizes=(100,), learning_rate=constant, max_iter=200, solver=adam; total time=   2.1s\n",
      "[CV] END activation=relu, alpha=0.0001, hidden_layer_sizes=(100,), learning_rate=adaptive, max_iter=1000, solver=sgd; total time=   2.7s\n",
      "[CV] END activation=relu, alpha=0.05, hidden_layer_sizes=(100, 100, 100), learning_rate=constant, max_iter=1000, solver=adam; total time=   3.6s\n",
      "[CV] END activation=tanh, alpha=0.05, hidden_layer_sizes=(50, 50, 50), learning_rate=adaptive, max_iter=200, solver=sgd; total time=   2.3s\n",
      "[CV] END activation=tanh, alpha=0.05, hidden_layer_sizes=(50, 50, 50), learning_rate=adaptive, max_iter=200, solver=sgd; total time=   2.3s\n",
      "[CV] END activation=tanh, alpha=0.0001, hidden_layer_sizes=(50, 50, 50), learning_rate=adaptive, max_iter=1000, solver=sgd; total time=   4.2s\n",
      "[CV] END activation=relu, alpha=0.05, hidden_layer_sizes=(50, 50, 50), learning_rate=adaptive, max_iter=200, solver=adam; total time=   1.5s\n",
      "[CV] END activation=relu, alpha=0.05, hidden_layer_sizes=(50, 50, 50), learning_rate=adaptive, max_iter=200, solver=adam; total time=   2.0s\n",
      "[CV] END activation=tanh, alpha=0.0001, hidden_layer_sizes=(100,), learning_rate=constant, max_iter=200, solver=sgd; total time=   1.0s\n",
      "[CV] END activation=tanh, alpha=0.0001, hidden_layer_sizes=(100,), learning_rate=constant, max_iter=200, solver=sgd; total time=   2.0s\n",
      "[CV] END activation=relu, alpha=0.05, hidden_layer_sizes=(100, 100, 100), learning_rate=adaptive, max_iter=500, solver=adam; total time=   3.0s\n",
      "[CV] END activation=tanh, alpha=0.0001, hidden_layer_sizes=(50, 50, 50), learning_rate=constant, max_iter=500, solver=sgd; total time=   4.0s\n",
      "[CV] END activation=relu, alpha=0.0001, hidden_layer_sizes=(50, 100, 50), learning_rate=constant, max_iter=1000, solver=sgd; total time=   0.6s\n",
      "[CV] END activation=relu, alpha=0.0001, hidden_layer_sizes=(50, 100, 50), learning_rate=constant, max_iter=1000, solver=sgd; total time=   0.6s\n",
      "[CV] END activation=relu, alpha=0.05, hidden_layer_sizes=(50, 50, 50), learning_rate=adaptive, max_iter=200, solver=sgd; total time=   1.8s\n",
      "[CV] END activation=relu, alpha=0.05, hidden_layer_sizes=(50, 50, 50), learning_rate=adaptive, max_iter=200, solver=sgd; total time=   1.9s\n",
      "[CV] END activation=relu, alpha=0.05, hidden_layer_sizes=(50, 100, 50), learning_rate=adaptive, max_iter=500, solver=adam; total time=   3.3s\n",
      "[CV] END activation=tanh, alpha=0.05, hidden_layer_sizes=(100, 100, 100), learning_rate=adaptive, max_iter=200, solver=adam; total time=   3.3s\n",
      "[CV] END activation=tanh, alpha=0.05, hidden_layer_sizes=(100, 100, 100), learning_rate=adaptive, max_iter=200, solver=adam; total time=   2.7s\n",
      "[CV] END activation=tanh, alpha=0.0001, hidden_layer_sizes=(50, 50, 50), learning_rate=constant, max_iter=200, solver=adam; total time=   1.9s\n",
      "[CV] END activation=tanh, alpha=0.0001, hidden_layer_sizes=(100, 100, 100), learning_rate=constant, max_iter=500, solver=adam; total time=   2.9s\n",
      "[CV] END activation=relu, alpha=0.0001, hidden_layer_sizes=(50, 50, 50), learning_rate=constant, max_iter=500, solver=adam; total time=   1.6s\n",
      "[CV] END activation=tanh, alpha=0.0001, hidden_layer_sizes=(100,), learning_rate=constant, max_iter=1000, solver=sgd; total time=   2.2s\n",
      "[CV] END activation=relu, alpha=0.0001, hidden_layer_sizes=(100, 100, 100), learning_rate=adaptive, max_iter=200, solver=sgd; total time=   3.4s\n",
      "[CV] END activation=relu, alpha=0.0001, hidden_layer_sizes=(100, 100, 100), learning_rate=adaptive, max_iter=200, solver=sgd; total time=   4.1s\n",
      "[CV] END activation=tanh, alpha=0.0001, hidden_layer_sizes=(50, 100, 50), learning_rate=adaptive, max_iter=1000, solver=sgd; total time=   5.1s\n",
      "[CV] END activation=relu, alpha=0.05, hidden_layer_sizes=(50, 50, 50), learning_rate=constant, max_iter=1000, solver=sgd; total time=   1.0s\n",
      "[CV] END activation=relu, alpha=0.05, hidden_layer_sizes=(50, 50, 50), learning_rate=constant, max_iter=1000, solver=sgd; total time=   0.3s\n",
      "[CV] END activation=relu, alpha=0.05, hidden_layer_sizes=(50, 50, 50), learning_rate=constant, max_iter=1000, solver=sgd; total time=   0.9s\n",
      "[CV] END activation=relu, alpha=0.05, hidden_layer_sizes=(50, 50, 50), learning_rate=constant, max_iter=1000, solver=sgd; total time=   0.6s\n",
      "[CV] END activation=tanh, alpha=0.0001, hidden_layer_sizes=(100,), learning_rate=adaptive, max_iter=200, solver=sgd; total time=   2.0s\n",
      "[CV] END activation=relu, alpha=0.0001, hidden_layer_sizes=(100,), learning_rate=adaptive, max_iter=200, solver=sgd; total time=   1.7s\n",
      "[CV] END activation=relu, alpha=0.0001, hidden_layer_sizes=(100,), learning_rate=adaptive, max_iter=200, solver=sgd; total time=   0.9s\n",
      "[CV] END activation=tanh, alpha=0.05, hidden_layer_sizes=(50, 100, 50), learning_rate=adaptive, max_iter=200, solver=adam; total time=   1.9s\n",
      "[CV] END activation=tanh, alpha=0.0001, hidden_layer_sizes=(100, 100, 100), learning_rate=constant, max_iter=200, solver=sgd; total time=   4.2s\n",
      "[CV] END activation=tanh, alpha=0.0001, hidden_layer_sizes=(100, 100, 100), learning_rate=constant, max_iter=200, solver=sgd; total time=   4.4s\n",
      "[CV] END activation=tanh, alpha=0.05, hidden_layer_sizes=(100, 100, 100), learning_rate=adaptive, max_iter=200, solver=sgd; total time=   4.5s\n",
      "[CV] END activation=tanh, alpha=0.0001, hidden_layer_sizes=(50, 50, 50), learning_rate=constant, max_iter=500, solver=adam; total time=   1.9s\n",
      "[CV] END activation=relu, alpha=0.05, hidden_layer_sizes=(50, 50, 50), learning_rate=constant, max_iter=200, solver=sgd; total time=   0.3s\n",
      "[CV] END activation=relu, alpha=0.05, hidden_layer_sizes=(50, 50, 50), learning_rate=constant, max_iter=200, solver=sgd; total time=   0.9s\n",
      "[CV] END activation=relu, alpha=0.0001, hidden_layer_sizes=(100,), learning_rate=constant, max_iter=500, solver=sgd; total time=   0.5s\n",
      "[CV] END activation=tanh, alpha=0.05, hidden_layer_sizes=(100,), learning_rate=constant, max_iter=500, solver=adam; total time=   3.9s\n",
      "[CV] END activation=tanh, alpha=0.05, hidden_layer_sizes=(100,), learning_rate=constant, max_iter=500, solver=adam; total time=   3.7s\n",
      "[CV] END activation=tanh, alpha=0.05, hidden_layer_sizes=(50, 100, 50), learning_rate=constant, max_iter=200, solver=adam; total time=   2.6s\n",
      "[CV] END activation=relu, alpha=0.0001, hidden_layer_sizes=(100, 100, 100), learning_rate=adaptive, max_iter=1000, solver=sgd; total time=   6.6s\n",
      "[CV] END activation=tanh, alpha=0.0001, hidden_layer_sizes=(50, 100, 50), learning_rate=constant, max_iter=200, solver=adam; total time=   3.1s\n",
      "[CV] END activation=tanh, alpha=0.0001, hidden_layer_sizes=(50, 100, 50), learning_rate=constant, max_iter=200, solver=adam; total time=   2.1s\n",
      "[CV] END activation=relu, alpha=0.0001, hidden_layer_sizes=(100, 100, 100), learning_rate=adaptive, max_iter=1000, solver=adam; total time=   2.3s\n",
      "[CV] END activation=relu, alpha=0.0001, hidden_layer_sizes=(100, 100, 100), learning_rate=adaptive, max_iter=1000, solver=adam; total time=   2.7s\n",
      "[CV] END activation=relu, alpha=0.0001, hidden_layer_sizes=(100, 100, 100), learning_rate=adaptive, max_iter=500, solver=sgd; total time=   9.2s\n",
      "[CV] END activation=tanh, alpha=0.0001, hidden_layer_sizes=(50, 50, 50), learning_rate=adaptive, max_iter=200, solver=sgd; total time=   2.5s\n",
      "[CV] END activation=relu, alpha=0.05, hidden_layer_sizes=(100, 100, 100), learning_rate=constant, max_iter=1000, solver=sgd; total time=   1.4s\n",
      "[CV] END activation=relu, alpha=0.05, hidden_layer_sizes=(100, 100, 100), learning_rate=constant, max_iter=1000, solver=sgd; total time=   1.4s\n",
      "[CV] END activation=relu, alpha=0.05, hidden_layer_sizes=(50, 100, 50), learning_rate=constant, max_iter=200, solver=sgd; total time=   0.5s\n",
      "[CV] END activation=tanh, alpha=0.0001, hidden_layer_sizes=(100,), learning_rate=adaptive, max_iter=200, solver=adam; total time=   2.1s\n",
      "[CV] END activation=tanh, alpha=0.0001, hidden_layer_sizes=(100,), learning_rate=adaptive, max_iter=200, solver=adam; total time=   2.2s\n",
      "[CV] END activation=tanh, alpha=0.05, hidden_layer_sizes=(100, 100, 100), learning_rate=constant, max_iter=500, solver=adam; total time=   3.1s\n",
      "[CV] END activation=relu, alpha=0.05, hidden_layer_sizes=(50, 50, 50), learning_rate=adaptive, max_iter=500, solver=adam; total time=   1.4s\n",
      "[CV] END activation=relu, alpha=0.05, hidden_layer_sizes=(50, 50, 50), learning_rate=adaptive, max_iter=500, solver=adam; total time=   3.3s\n",
      "[CV] END activation=tanh, alpha=0.05, hidden_layer_sizes=(50, 100, 50), learning_rate=adaptive, max_iter=200, solver=sgd; total time=   2.9s\n",
      "[CV] END activation=tanh, alpha=0.0001, hidden_layer_sizes=(100,), learning_rate=constant, max_iter=200, solver=adam; total time=   2.5s\n",
      "[CV] END activation=relu, alpha=0.05, hidden_layer_sizes=(100,), learning_rate=adaptive, max_iter=200, solver=sgd; total time=   1.7s\n",
      "[CV] END activation=relu, alpha=0.05, hidden_layer_sizes=(100,), learning_rate=adaptive, max_iter=200, solver=sgd; total time=   0.9s\n",
      "[CV] END activation=relu, alpha=0.0001, hidden_layer_sizes=(100,), learning_rate=constant, max_iter=200, solver=sgd; total time=   0.5s\n",
      "[CV] END activation=tanh, alpha=0.05, hidden_layer_sizes=(100,), learning_rate=constant, max_iter=200, solver=adam; total time=   2.1s\n",
      "[CV] END activation=tanh, alpha=0.05, hidden_layer_sizes=(100,), learning_rate=constant, max_iter=200, solver=adam; total time=   2.2s\n",
      "[CV] END activation=relu, alpha=0.0001, hidden_layer_sizes=(100,), learning_rate=adaptive, max_iter=1000, solver=sgd; total time=   1.9s\n",
      "[CV] END activation=relu, alpha=0.05, hidden_layer_sizes=(100, 100, 100), learning_rate=constant, max_iter=1000, solver=adam; total time=   2.8s\n",
      "[CV] END activation=tanh, alpha=0.05, hidden_layer_sizes=(50, 50, 50), learning_rate=adaptive, max_iter=200, solver=sgd; total time=   2.3s\n",
      "[CV] END activation=tanh, alpha=0.05, hidden_layer_sizes=(50, 50, 50), learning_rate=adaptive, max_iter=200, solver=sgd; total time=   2.3s\n",
      "[CV] END activation=tanh, alpha=0.0001, hidden_layer_sizes=(50, 50, 50), learning_rate=adaptive, max_iter=1000, solver=sgd; total time=   7.0s\n",
      "[CV] END activation=tanh, alpha=0.0001, hidden_layer_sizes=(100,), learning_rate=constant, max_iter=200, solver=sgd; total time=   1.9s\n",
      "[CV] END activation=relu, alpha=0.05, hidden_layer_sizes=(100, 100, 100), learning_rate=adaptive, max_iter=500, solver=adam; total time=   2.2s\n",
      "[CV] END activation=relu, alpha=0.05, hidden_layer_sizes=(100, 100, 100), learning_rate=adaptive, max_iter=500, solver=adam; total time=   2.3s\n",
      "[CV] END activation=tanh, alpha=0.0001, hidden_layer_sizes=(50, 50, 50), learning_rate=constant, max_iter=500, solver=sgd; total time=   3.1s\n",
      "[CV] END activation=tanh, alpha=0.0001, hidden_layer_sizes=(50, 50, 50), learning_rate=constant, max_iter=500, solver=sgd; total time=   4.1s\n",
      "[CV] END activation=relu, alpha=0.05, hidden_layer_sizes=(50, 50, 50), learning_rate=adaptive, max_iter=200, solver=sgd; total time=   1.9s\n",
      "[CV] END activation=relu, alpha=0.05, hidden_layer_sizes=(50, 100, 50), learning_rate=adaptive, max_iter=500, solver=adam; total time=   1.5s\n",
      "[CV] END activation=relu, alpha=0.05, hidden_layer_sizes=(50, 100, 50), learning_rate=adaptive, max_iter=500, solver=adam; total time=   3.8s\n",
      "[CV] END activation=tanh, alpha=0.05, hidden_layer_sizes=(100, 100, 100), learning_rate=adaptive, max_iter=200, solver=adam; total time=   3.0s\n",
      "[CV] END activation=tanh, alpha=0.0001, hidden_layer_sizes=(50, 50, 50), learning_rate=constant, max_iter=200, solver=adam; total time=   1.3s\n",
      "[CV] END activation=tanh, alpha=0.0001, hidden_layer_sizes=(50, 50, 50), learning_rate=constant, max_iter=200, solver=adam; total time=   1.9s\n",
      "[CV] END activation=tanh, alpha=0.0001, hidden_layer_sizes=(100, 100, 100), learning_rate=constant, max_iter=500, solver=adam; total time=   3.2s\n",
      "[CV] END activation=relu, alpha=0.0001, hidden_layer_sizes=(50, 50, 50), learning_rate=constant, max_iter=500, solver=adam; total time=   2.0s\n",
      "[CV] END activation=tanh, alpha=0.0001, hidden_layer_sizes=(100,), learning_rate=constant, max_iter=1000, solver=sgd; total time=   2.2s\n",
      "[CV] END activation=relu, alpha=0.0001, hidden_layer_sizes=(100, 100, 100), learning_rate=adaptive, max_iter=200, solver=sgd; total time=   3.4s\n",
      "[CV] END activation=tanh, alpha=0.0001, hidden_layer_sizes=(50, 100, 50), learning_rate=adaptive, max_iter=1000, solver=sgd; total time=   5.4s\n",
      "[CV] END activation=tanh, alpha=0.0001, hidden_layer_sizes=(50, 100, 50), learning_rate=adaptive, max_iter=1000, solver=sgd; total time=   7.1s\n",
      "[CV] END activation=relu, alpha=0.05, hidden_layer_sizes=(50, 50, 50), learning_rate=adaptive, max_iter=500, solver=sgd; total time=   4.6s\n",
      "[CV] END activation=relu, alpha=0.0001, hidden_layer_sizes=(100,), learning_rate=adaptive, max_iter=200, solver=sgd; total time=   1.7s\n",
      "[CV] END activation=tanh, alpha=0.05, hidden_layer_sizes=(50, 100, 50), learning_rate=adaptive, max_iter=200, solver=adam; total time=   2.4s\n",
      "[CV] END activation=tanh, alpha=0.0001, hidden_layer_sizes=(100, 100, 100), learning_rate=constant, max_iter=200, solver=sgd; total time=   4.2s\n",
      "[CV] END activation=tanh, alpha=0.05, hidden_layer_sizes=(100, 100, 100), learning_rate=adaptive, max_iter=200, solver=sgd; total time=   4.3s\n",
      "[CV] END activation=tanh, alpha=0.05, hidden_layer_sizes=(100, 100, 100), learning_rate=adaptive, max_iter=200, solver=sgd; total time=   4.7s\n",
      "[CV] END activation=tanh, alpha=0.0001, hidden_layer_sizes=(50, 50, 50), learning_rate=constant, max_iter=500, solver=adam; total time=   1.3s\n",
      "[CV] END activation=relu, alpha=0.05, hidden_layer_sizes=(50, 50, 50), learning_rate=constant, max_iter=200, solver=sgd; total time=   1.0s\n",
      "[CV] END activation=relu, alpha=0.0001, hidden_layer_sizes=(100,), learning_rate=constant, max_iter=500, solver=sgd; total time=   0.4s\n",
      "[CV] END activation=relu, alpha=0.0001, hidden_layer_sizes=(100,), learning_rate=constant, max_iter=500, solver=sgd; total time=   0.5s\n",
      "[CV] END activation=tanh, alpha=0.05, hidden_layer_sizes=(100,), learning_rate=constant, max_iter=500, solver=adam; total time=   5.2s\n",
      "[CV] END activation=tanh, alpha=0.05, hidden_layer_sizes=(50, 100, 50), learning_rate=constant, max_iter=200, solver=adam; total time=   2.4s\n",
      "[CV] END activation=relu, alpha=0.0001, hidden_layer_sizes=(100, 100, 100), learning_rate=adaptive, max_iter=1000, solver=sgd; total time=   8.4s\n",
      "[CV] END activation=tanh, alpha=0.0001, hidden_layer_sizes=(50, 100, 50), learning_rate=constant, max_iter=200, solver=adam; total time=   3.1s\n",
      "[CV] END activation=tanh, alpha=0.0001, hidden_layer_sizes=(50, 100, 50), learning_rate=constant, max_iter=200, solver=adam; total time=   3.1s\n",
      "[CV] END activation=relu, alpha=0.0001, hidden_layer_sizes=(100, 100, 100), learning_rate=adaptive, max_iter=1000, solver=adam; total time=   4.3s\n",
      "[CV] END activation=relu, alpha=0.0001, hidden_layer_sizes=(100, 100, 100), learning_rate=adaptive, max_iter=500, solver=sgd; total time=   9.1s\n",
      "[CV] END activation=tanh, alpha=0.0001, hidden_layer_sizes=(50, 50, 50), learning_rate=adaptive, max_iter=200, solver=sgd; total time=   2.6s\n",
      "[CV] END activation=tanh, alpha=0.0001, hidden_layer_sizes=(50, 50, 50), learning_rate=adaptive, max_iter=200, solver=sgd; total time=   2.4s\n",
      "[CV] END activation=relu, alpha=0.05, hidden_layer_sizes=(100, 100, 100), learning_rate=constant, max_iter=1000, solver=sgd; total time=   5.2s\n",
      "[CV] END activation=tanh, alpha=0.05, hidden_layer_sizes=(100, 100, 100), learning_rate=constant, max_iter=500, solver=adam; total time=   3.3s\n",
      "[CV] END activation=tanh, alpha=0.05, hidden_layer_sizes=(100, 100, 100), learning_rate=constant, max_iter=500, solver=adam; total time=   2.7s\n",
      "[CV] END activation=relu, alpha=0.05, hidden_layer_sizes=(50, 50, 50), learning_rate=adaptive, max_iter=500, solver=adam; total time=   2.7s\n",
      "[CV] END activation=tanh, alpha=0.05, hidden_layer_sizes=(50, 100, 50), learning_rate=adaptive, max_iter=200, solver=sgd; total time=   2.9s\n",
      "[CV] END activation=tanh, alpha=0.0001, hidden_layer_sizes=(100,), learning_rate=constant, max_iter=200, solver=adam; total time=   2.6s\n",
      "[CV] END activation=relu, alpha=0.05, hidden_layer_sizes=(100,), learning_rate=adaptive, max_iter=200, solver=sgd; total time=   1.7s\n",
      "[CV] END activation=relu, alpha=0.0001, hidden_layer_sizes=(100,), learning_rate=constant, max_iter=200, solver=sgd; total time=   0.4s\n",
      "[CV] END activation=relu, alpha=0.0001, hidden_layer_sizes=(100,), learning_rate=constant, max_iter=200, solver=sgd; total time=   0.7s\n",
      "[CV] END activation=relu, alpha=0.0001, hidden_layer_sizes=(100,), learning_rate=constant, max_iter=200, solver=sgd; total time=   0.4s\n",
      "[CV] END activation=tanh, alpha=0.05, hidden_layer_sizes=(100,), learning_rate=constant, max_iter=200, solver=adam; total time=   2.1s\n",
      "[CV] END activation=relu, alpha=0.0001, hidden_layer_sizes=(100,), learning_rate=adaptive, max_iter=1000, solver=sgd; total time=   2.2s\n",
      "[CV] END activation=relu, alpha=0.0001, hidden_layer_sizes=(100,), learning_rate=adaptive, max_iter=1000, solver=sgd; total time=   0.9s\n",
      "[CV] END activation=relu, alpha=0.05, hidden_layer_sizes=(100, 100, 100), learning_rate=constant, max_iter=1000, solver=adam; total time=   6.6s\n",
      "[CV] END activation=tanh, alpha=0.0001, hidden_layer_sizes=(50, 50, 50), learning_rate=adaptive, max_iter=1000, solver=sgd; total time=   4.1s\n",
      "[CV] END activation=relu, alpha=0.05, hidden_layer_sizes=(50, 50, 50), learning_rate=adaptive, max_iter=200, solver=adam; total time=   1.5s\n",
      "[CV] END activation=relu, alpha=0.05, hidden_layer_sizes=(50, 50, 50), learning_rate=adaptive, max_iter=200, solver=adam; total time=   2.0s\n",
      "[CV] END activation=relu, alpha=0.05, hidden_layer_sizes=(50, 50, 50), learning_rate=adaptive, max_iter=200, solver=adam; total time=   2.0s\n",
      "[CV] END activation=tanh, alpha=0.0001, hidden_layer_sizes=(100,), learning_rate=constant, max_iter=200, solver=sgd; total time=   1.9s\n",
      "[CV] END activation=relu, alpha=0.05, hidden_layer_sizes=(100, 100, 100), learning_rate=adaptive, max_iter=500, solver=adam; total time=   3.9s\n",
      "[CV] END activation=tanh, alpha=0.0001, hidden_layer_sizes=(50, 50, 50), learning_rate=constant, max_iter=500, solver=sgd; total time=   2.8s\n",
      "[CV] END activation=tanh, alpha=0.0001, hidden_layer_sizes=(50, 50, 50), learning_rate=constant, max_iter=500, solver=sgd; total time=   5.4s\n",
      "[CV] END activation=relu, alpha=0.05, hidden_layer_sizes=(50, 50, 50), learning_rate=adaptive, max_iter=200, solver=sgd; total time=   2.0s\n",
      "[CV] END activation=relu, alpha=0.05, hidden_layer_sizes=(100,), learning_rate=constant, max_iter=1000, solver=sgd; total time=   0.4s\n",
      "[CV] END activation=relu, alpha=0.05, hidden_layer_sizes=(100,), learning_rate=constant, max_iter=1000, solver=sgd; total time=   0.5s\n",
      "[CV] END activation=relu, alpha=0.05, hidden_layer_sizes=(100,), learning_rate=constant, max_iter=1000, solver=sgd; total time=   0.5s\n",
      "[CV] END activation=relu, alpha=0.05, hidden_layer_sizes=(100,), learning_rate=constant, max_iter=1000, solver=sgd; total time=   0.4s\n",
      "[CV] END activation=tanh, alpha=0.05, hidden_layer_sizes=(100, 100, 100), learning_rate=adaptive, max_iter=200, solver=adam; total time=   4.5s\n",
      "[CV] END activation=tanh, alpha=0.0001, hidden_layer_sizes=(50, 50, 50), learning_rate=constant, max_iter=200, solver=adam; total time=   1.9s\n",
      "[CV] END activation=tanh, alpha=0.0001, hidden_layer_sizes=(100, 100, 100), learning_rate=constant, max_iter=500, solver=adam; total time=   2.4s\n",
      "[CV] END activation=relu, alpha=0.0001, hidden_layer_sizes=(50, 50, 50), learning_rate=constant, max_iter=500, solver=adam; total time=   1.4s\n",
      "[CV] END activation=relu, alpha=0.0001, hidden_layer_sizes=(50, 50, 50), learning_rate=constant, max_iter=500, solver=adam; total time=   2.9s\n",
      "[CV] END activation=tanh, alpha=0.0001, hidden_layer_sizes=(100,), learning_rate=constant, max_iter=1000, solver=sgd; total time=   1.0s\n",
      "[CV] END activation=tanh, alpha=0.0001, hidden_layer_sizes=(100,), learning_rate=constant, max_iter=1000, solver=sgd; total time=   4.1s\n",
      "[CV] END activation=relu, alpha=0.0001, hidden_layer_sizes=(100, 100, 100), learning_rate=adaptive, max_iter=200, solver=sgd; total time=   3.8s\n",
      "[CV] END activation=tanh, alpha=0.0001, hidden_layer_sizes=(50, 100, 50), learning_rate=adaptive, max_iter=1000, solver=sgd; total time=   7.2s\n",
      "[CV] END activation=relu, alpha=0.05, hidden_layer_sizes=(50, 50, 50), learning_rate=constant, max_iter=1000, solver=sgd; total time=   0.7s\n",
      "[CV] END activation=relu, alpha=0.05, hidden_layer_sizes=(50, 50, 50), learning_rate=adaptive, max_iter=500, solver=sgd; total time=   4.5s\n",
      "[CV] END activation=relu, alpha=0.05, hidden_layer_sizes=(50, 50, 50), learning_rate=adaptive, max_iter=500, solver=sgd; total time=   2.6s\n",
      "[CV] END activation=tanh, alpha=0.0001, hidden_layer_sizes=(50, 50, 50), learning_rate=adaptive, max_iter=500, solver=adam; total time=   1.8s\n",
      "[CV] END activation=relu, alpha=0.05, hidden_layer_sizes=(50, 100, 50), learning_rate=adaptive, max_iter=500, solver=sgd; total time=   1.1s\n",
      "[CV] END activation=relu, alpha=0.0001, hidden_layer_sizes=(50, 100, 50), learning_rate=constant, max_iter=500, solver=sgd; total time=   0.9s\n",
      "[CV] END activation=tanh, alpha=0.0001, hidden_layer_sizes=(50, 50, 50), learning_rate=constant, max_iter=500, solver=adam; total time=   2.1s\n",
      "[CV] END activation=tanh, alpha=0.0001, hidden_layer_sizes=(50, 50, 50), learning_rate=constant, max_iter=500, solver=adam; total time=   1.8s\n",
      "[CV] END activation=relu, alpha=0.05, hidden_layer_sizes=(50, 50, 50), learning_rate=constant, max_iter=200, solver=sgd; total time=   0.7s\n",
      "[CV] END activation=relu, alpha=0.0001, hidden_layer_sizes=(100,), learning_rate=constant, max_iter=500, solver=sgd; total time=   0.4s\n",
      "[CV] END activation=tanh, alpha=0.05, hidden_layer_sizes=(100,), learning_rate=constant, max_iter=500, solver=adam; total time=   3.7s\n",
      "[CV] END activation=tanh, alpha=0.05, hidden_layer_sizes=(50, 100, 50), learning_rate=constant, max_iter=200, solver=adam; total time=   2.3s\n",
      "[CV] END activation=tanh, alpha=0.05, hidden_layer_sizes=(50, 100, 50), learning_rate=constant, max_iter=200, solver=adam; total time=   1.8s\n",
      "[CV] END activation=relu, alpha=0.0001, hidden_layer_sizes=(100, 100, 100), learning_rate=adaptive, max_iter=1000, solver=sgd; total time=   7.3s\n",
      "[CV] END activation=relu, alpha=0.0001, hidden_layer_sizes=(100, 100, 100), learning_rate=adaptive, max_iter=1000, solver=sgd; total time=   6.2s\n",
      "[CV] END activation=tanh, alpha=0.0001, hidden_layer_sizes=(50, 100, 50), learning_rate=constant, max_iter=200, solver=adam; total time=   2.4s\n",
      "[CV] END activation=relu, alpha=0.0001, hidden_layer_sizes=(100, 100, 100), learning_rate=adaptive, max_iter=1000, solver=adam; total time=   2.9s\n",
      "[CV] END activation=relu, alpha=0.0001, hidden_layer_sizes=(100, 100, 100), learning_rate=adaptive, max_iter=500, solver=sgd; total time=   7.7s\n",
      "[CV] END activation=relu, alpha=0.0001, hidden_layer_sizes=(100, 100, 100), learning_rate=adaptive, max_iter=500, solver=sgd; total time=   6.2s\n",
      "[CV] END activation=relu, alpha=0.05, hidden_layer_sizes=(50, 100, 50), learning_rate=constant, max_iter=200, solver=sgd; total time=   0.6s\n",
      "[CV] END activation=relu, alpha=0.05, hidden_layer_sizes=(50, 100, 50), learning_rate=constant, max_iter=200, solver=sgd; total time=   0.6s\n",
      "[CV] END activation=relu, alpha=0.05, hidden_layer_sizes=(50, 100, 50), learning_rate=constant, max_iter=200, solver=sgd; total time=   0.6s\n",
      "[CV] END activation=tanh, alpha=0.0001, hidden_layer_sizes=(100,), learning_rate=adaptive, max_iter=200, solver=adam; total time=   2.2s\n",
      "[CV] END activation=tanh, alpha=0.05, hidden_layer_sizes=(100, 100, 100), learning_rate=constant, max_iter=500, solver=adam; total time=   4.4s\n",
      "[CV] END activation=relu, alpha=0.05, hidden_layer_sizes=(50, 50, 50), learning_rate=adaptive, max_iter=500, solver=adam; total time=   1.4s\n",
      "[CV] END activation=relu, alpha=0.05, hidden_layer_sizes=(50, 50, 50), learning_rate=adaptive, max_iter=500, solver=adam; total time=   2.9s\n",
      "[CV] END activation=tanh, alpha=0.05, hidden_layer_sizes=(50, 100, 50), learning_rate=adaptive, max_iter=200, solver=sgd; total time=   2.9s\n",
      "[CV] END activation=tanh, alpha=0.0001, hidden_layer_sizes=(100,), learning_rate=constant, max_iter=200, solver=adam; total time=   2.5s\n",
      "[CV] END activation=tanh, alpha=0.0001, hidden_layer_sizes=(100,), learning_rate=constant, max_iter=200, solver=adam; total time=   2.5s\n",
      "[CV] END activation=relu, alpha=0.05, hidden_layer_sizes=(100,), learning_rate=adaptive, max_iter=200, solver=sgd; total time=   1.7s\n",
      "[CV] END activation=tanh, alpha=0.05, hidden_layer_sizes=(100,), learning_rate=constant, max_iter=200, solver=adam; total time=   2.1s\n",
      "[CV] END activation=relu, alpha=0.0001, hidden_layer_sizes=(100,), learning_rate=adaptive, max_iter=1000, solver=sgd; total time=   2.6s\n",
      "[CV] END activation=relu, alpha=0.05, hidden_layer_sizes=(100, 100, 100), learning_rate=constant, max_iter=1000, solver=adam; total time=   2.3s\n",
      "[CV] END activation=relu, alpha=0.05, hidden_layer_sizes=(100, 100, 100), learning_rate=constant, max_iter=1000, solver=adam; total time=   2.1s\n",
      "[CV] END activation=tanh, alpha=0.05, hidden_layer_sizes=(50, 50, 50), learning_rate=adaptive, max_iter=200, solver=sgd; total time=   2.4s\n",
      "[CV] END activation=tanh, alpha=0.0001, hidden_layer_sizes=(50, 50, 50), learning_rate=adaptive, max_iter=1000, solver=sgd; total time=   4.4s\n",
      "[CV] END activation=tanh, alpha=0.0001, hidden_layer_sizes=(50, 50, 50), learning_rate=adaptive, max_iter=1000, solver=sgd; total time=   5.8s\n",
      "[CV] END activation=tanh, alpha=0.0001, hidden_layer_sizes=(100,), learning_rate=constant, max_iter=200, solver=sgd; total time=   2.0s\n",
      "[CV] END activation=relu, alpha=0.05, hidden_layer_sizes=(100, 100, 100), learning_rate=adaptive, max_iter=500, solver=adam; total time=   7.3s\n",
      "[CV] END activation=relu, alpha=0.0001, hidden_layer_sizes=(50, 100, 50), learning_rate=constant, max_iter=1000, solver=sgd; total time=   0.8s\n",
      "[CV] END activation=relu, alpha=0.0001, hidden_layer_sizes=(50, 100, 50), learning_rate=constant, max_iter=1000, solver=sgd; total time=   0.5s\n",
      "[CV] END activation=relu, alpha=0.0001, hidden_layer_sizes=(50, 100, 50), learning_rate=constant, max_iter=1000, solver=sgd; total time=   1.6s\n",
      "[CV] END activation=relu, alpha=0.05, hidden_layer_sizes=(50, 50, 50), learning_rate=adaptive, max_iter=200, solver=sgd; total time=   1.8s\n",
      "[CV] END activation=relu, alpha=0.05, hidden_layer_sizes=(50, 100, 50), learning_rate=adaptive, max_iter=500, solver=adam; total time=   1.8s\n",
      "[CV] END activation=relu, alpha=0.05, hidden_layer_sizes=(50, 100, 50), learning_rate=adaptive, max_iter=500, solver=adam; total time=   0.9s\n",
      "[CV] END activation=relu, alpha=0.05, hidden_layer_sizes=(100,), learning_rate=constant, max_iter=1000, solver=sgd; total time=   0.7s\n",
      "[CV] END activation=tanh, alpha=0.05, hidden_layer_sizes=(100, 100, 100), learning_rate=adaptive, max_iter=200, solver=adam; total time=   4.4s\n",
      "[CV] END activation=tanh, alpha=0.0001, hidden_layer_sizes=(50, 50, 50), learning_rate=constant, max_iter=200, solver=adam; total time=   1.9s\n",
      "[CV] END activation=tanh, alpha=0.0001, hidden_layer_sizes=(100, 100, 100), learning_rate=constant, max_iter=500, solver=adam; total time=   2.0s\n",
      "[CV] END activation=tanh, alpha=0.0001, hidden_layer_sizes=(100, 100, 100), learning_rate=constant, max_iter=500, solver=adam; total time=   2.4s\n",
      "[CV] END activation=relu, alpha=0.0001, hidden_layer_sizes=(50, 50, 50), learning_rate=constant, max_iter=500, solver=adam; total time=   2.7s\n",
      "[CV] END activation=tanh, alpha=0.0001, hidden_layer_sizes=(100,), learning_rate=constant, max_iter=1000, solver=sgd; total time=   4.1s\n",
      "[CV] END activation=relu, alpha=0.0001, hidden_layer_sizes=(100, 100, 100), learning_rate=adaptive, max_iter=200, solver=sgd; total time=   4.1s\n",
      "[CV] END activation=tanh, alpha=0.0001, hidden_layer_sizes=(50, 100, 50), learning_rate=adaptive, max_iter=1000, solver=sgd; total time=  10.0s\n",
      "[CV] END activation=relu, alpha=0.05, hidden_layer_sizes=(50, 50, 50), learning_rate=adaptive, max_iter=500, solver=sgd; total time=   4.6s\n",
      "[CV] END activation=tanh, alpha=0.0001, hidden_layer_sizes=(50, 50, 50), learning_rate=adaptive, max_iter=500, solver=adam; total time=   1.3s\n",
      "[CV] END activation=relu, alpha=0.05, hidden_layer_sizes=(50, 100, 50), learning_rate=adaptive, max_iter=500, solver=sgd; total time=   5.8s\n",
      "[CV] END activation=relu, alpha=0.0001, hidden_layer_sizes=(100,), learning_rate=constant, max_iter=500, solver=adam; total time=   4.4s\n",
      "[CV] END activation=tanh, alpha=0.05, hidden_layer_sizes=(100,), learning_rate=adaptive, max_iter=1000, solver=sgd; total time=   3.2s\n",
      "[CV] END activation=tanh, alpha=0.05, hidden_layer_sizes=(100,), learning_rate=adaptive, max_iter=1000, solver=sgd; total time=   6.4s\n",
      "[CV] END activation=tanh, alpha=0.0001, hidden_layer_sizes=(100,), learning_rate=adaptive, max_iter=1000, solver=adam; total time=   3.5s\n",
      "[CV] END activation=relu, alpha=0.05, hidden_layer_sizes=(100, 100, 100), learning_rate=constant, max_iter=500, solver=adam; total time=   6.7s\n",
      "[CV] END activation=tanh, alpha=0.0001, hidden_layer_sizes=(50, 50, 50), learning_rate=adaptive, max_iter=1000, solver=adam; total time=   1.9s"
     ]
    },
    {
     "name": "stderr",
     "output_type": "stream",
     "text": [
      "/opt/conda/lib/python3.7/site-packages/sklearn/neural_network/_multilayer_perceptron.py:696: ConvergenceWarning: Stochastic Optimizer: Maximum iterations (500) reached and the optimization hasn't converged yet.\n",
      "  ConvergenceWarning,\n",
      "/opt/conda/lib/python3.7/site-packages/sklearn/neural_network/_multilayer_perceptron.py:696: ConvergenceWarning: Stochastic Optimizer: Maximum iterations (500) reached and the optimization hasn't converged yet.\n",
      "  ConvergenceWarning,\n",
      "/opt/conda/lib/python3.7/site-packages/sklearn/neural_network/_multilayer_perceptron.py:696: ConvergenceWarning: Stochastic Optimizer: Maximum iterations (200) reached and the optimization hasn't converged yet.\n",
      "  ConvergenceWarning,\n",
      "/opt/conda/lib/python3.7/site-packages/sklearn/neural_network/_multilayer_perceptron.py:696: ConvergenceWarning: Stochastic Optimizer: Maximum iterations (200) reached and the optimization hasn't converged yet.\n",
      "  ConvergenceWarning,\n",
      "/opt/conda/lib/python3.7/site-packages/sklearn/neural_network/_multilayer_perceptron.py:696: ConvergenceWarning: Stochastic Optimizer: Maximum iterations (200) reached and the optimization hasn't converged yet.\n",
      "  ConvergenceWarning,\n",
      "/opt/conda/lib/python3.7/site-packages/sklearn/neural_network/_multilayer_perceptron.py:696: ConvergenceWarning: Stochastic Optimizer: Maximum iterations (200) reached and the optimization hasn't converged yet.\n",
      "  ConvergenceWarning,\n",
      "/opt/conda/lib/python3.7/site-packages/sklearn/neural_network/_multilayer_perceptron.py:696: ConvergenceWarning: Stochastic Optimizer: Maximum iterations (200) reached and the optimization hasn't converged yet.\n",
      "  ConvergenceWarning,\n",
      "/opt/conda/lib/python3.7/site-packages/sklearn/neural_network/_multilayer_perceptron.py:696: ConvergenceWarning: Stochastic Optimizer: Maximum iterations (200) reached and the optimization hasn't converged yet.\n",
      "  ConvergenceWarning,\n",
      "/opt/conda/lib/python3.7/site-packages/sklearn/neural_network/_multilayer_perceptron.py:696: ConvergenceWarning: Stochastic Optimizer: Maximum iterations (200) reached and the optimization hasn't converged yet.\n",
      "  ConvergenceWarning,\n",
      "/opt/conda/lib/python3.7/site-packages/sklearn/neural_network/_multilayer_perceptron.py:696: ConvergenceWarning: Stochastic Optimizer: Maximum iterations (200) reached and the optimization hasn't converged yet.\n",
      "  ConvergenceWarning,\n",
      "/opt/conda/lib/python3.7/site-packages/sklearn/neural_network/_multilayer_perceptron.py:696: ConvergenceWarning: Stochastic Optimizer: Maximum iterations (200) reached and the optimization hasn't converged yet.\n",
      "  ConvergenceWarning,\n",
      "/opt/conda/lib/python3.7/site-packages/sklearn/neural_network/_multilayer_perceptron.py:696: ConvergenceWarning: Stochastic Optimizer: Maximum iterations (1000) reached and the optimization hasn't converged yet.\n",
      "  ConvergenceWarning,\n",
      "/opt/conda/lib/python3.7/site-packages/sklearn/neural_network/_multilayer_perceptron.py:696: ConvergenceWarning: Stochastic Optimizer: Maximum iterations (200) reached and the optimization hasn't converged yet.\n",
      "  ConvergenceWarning,\n",
      "/opt/conda/lib/python3.7/site-packages/sklearn/neural_network/_multilayer_perceptron.py:696: ConvergenceWarning: Stochastic Optimizer: Maximum iterations (200) reached and the optimization hasn't converged yet.\n",
      "  ConvergenceWarning,\n",
      "/opt/conda/lib/python3.7/site-packages/sklearn/neural_network/_multilayer_perceptron.py:696: ConvergenceWarning: Stochastic Optimizer: Maximum iterations (200) reached and the optimization hasn't converged yet.\n",
      "  ConvergenceWarning,\n",
      "/opt/conda/lib/python3.7/site-packages/sklearn/neural_network/_multilayer_perceptron.py:696: ConvergenceWarning: Stochastic Optimizer: Maximum iterations (200) reached and the optimization hasn't converged yet.\n",
      "  ConvergenceWarning,\n",
      "/opt/conda/lib/python3.7/site-packages/sklearn/neural_network/_multilayer_perceptron.py:696: ConvergenceWarning: Stochastic Optimizer: Maximum iterations (200) reached and the optimization hasn't converged yet.\n",
      "  ConvergenceWarning,\n",
      "/opt/conda/lib/python3.7/site-packages/sklearn/neural_network/_multilayer_perceptron.py:696: ConvergenceWarning: Stochastic Optimizer: Maximum iterations (200) reached and the optimization hasn't converged yet.\n",
      "  ConvergenceWarning,\n",
      "/opt/conda/lib/python3.7/site-packages/sklearn/neural_network/_multilayer_perceptron.py:696: ConvergenceWarning: Stochastic Optimizer: Maximum iterations (200) reached and the optimization hasn't converged yet.\n",
      "  ConvergenceWarning,\n",
      "/opt/conda/lib/python3.7/site-packages/sklearn/neural_network/_multilayer_perceptron.py:696: ConvergenceWarning: Stochastic Optimizer: Maximum iterations (200) reached and the optimization hasn't converged yet.\n",
      "  ConvergenceWarning,\n",
      "/opt/conda/lib/python3.7/site-packages/sklearn/neural_network/_multilayer_perceptron.py:696: ConvergenceWarning: Stochastic Optimizer: Maximum iterations (200) reached and the optimization hasn't converged yet.\n",
      "  ConvergenceWarning,\n",
      "/opt/conda/lib/python3.7/site-packages/sklearn/neural_network/_multilayer_perceptron.py:696: ConvergenceWarning: Stochastic Optimizer: Maximum iterations (200) reached and the optimization hasn't converged yet.\n",
      "  ConvergenceWarning,\n",
      "/opt/conda/lib/python3.7/site-packages/sklearn/neural_network/_multilayer_perceptron.py:696: ConvergenceWarning: Stochastic Optimizer: Maximum iterations (200) reached and the optimization hasn't converged yet.\n",
      "  ConvergenceWarning,\n",
      "/opt/conda/lib/python3.7/site-packages/sklearn/neural_network/_multilayer_perceptron.py:696: ConvergenceWarning: Stochastic Optimizer: Maximum iterations (200) reached and the optimization hasn't converged yet.\n",
      "  ConvergenceWarning,\n",
      "/opt/conda/lib/python3.7/site-packages/sklearn/neural_network/_multilayer_perceptron.py:696: ConvergenceWarning: Stochastic Optimizer: Maximum iterations (200) reached and the optimization hasn't converged yet.\n",
      "  ConvergenceWarning,\n",
      "/opt/conda/lib/python3.7/site-packages/sklearn/neural_network/_multilayer_perceptron.py:696: ConvergenceWarning: Stochastic Optimizer: Maximum iterations (200) reached and the optimization hasn't converged yet.\n",
      "  ConvergenceWarning,\n",
      "/opt/conda/lib/python3.7/site-packages/sklearn/neural_network/_multilayer_perceptron.py:696: ConvergenceWarning: Stochastic Optimizer: Maximum iterations (200) reached and the optimization hasn't converged yet.\n",
      "  ConvergenceWarning,\n",
      "/opt/conda/lib/python3.7/site-packages/sklearn/neural_network/_multilayer_perceptron.py:696: ConvergenceWarning: Stochastic Optimizer: Maximum iterations (200) reached and the optimization hasn't converged yet.\n",
      "  ConvergenceWarning,\n",
      "/opt/conda/lib/python3.7/site-packages/sklearn/neural_network/_multilayer_perceptron.py:696: ConvergenceWarning: Stochastic Optimizer: Maximum iterations (200) reached and the optimization hasn't converged yet.\n",
      "  ConvergenceWarning,\n",
      "/opt/conda/lib/python3.7/site-packages/sklearn/neural_network/_multilayer_perceptron.py:696: ConvergenceWarning: Stochastic Optimizer: Maximum iterations (500) reached and the optimization hasn't converged yet.\n",
      "  ConvergenceWarning,\n",
      "/opt/conda/lib/python3.7/site-packages/sklearn/neural_network/_multilayer_perceptron.py:696: ConvergenceWarning: Stochastic Optimizer: Maximum iterations (1000) reached and the optimization hasn't converged yet.\n",
      "  ConvergenceWarning,\n",
      "/opt/conda/lib/python3.7/site-packages/sklearn/neural_network/_multilayer_perceptron.py:696: ConvergenceWarning: Stochastic Optimizer: Maximum iterations (200) reached and the optimization hasn't converged yet.\n",
      "  ConvergenceWarning,\n",
      "/opt/conda/lib/python3.7/site-packages/sklearn/neural_network/_multilayer_perceptron.py:696: ConvergenceWarning: Stochastic Optimizer: Maximum iterations (200) reached and the optimization hasn't converged yet.\n",
      "  ConvergenceWarning,\n",
      "/opt/conda/lib/python3.7/site-packages/sklearn/neural_network/_multilayer_perceptron.py:696: ConvergenceWarning: Stochastic Optimizer: Maximum iterations (200) reached and the optimization hasn't converged yet.\n",
      "  ConvergenceWarning,\n",
      "/opt/conda/lib/python3.7/site-packages/sklearn/neural_network/_multilayer_perceptron.py:696: ConvergenceWarning: Stochastic Optimizer: Maximum iterations (500) reached and the optimization hasn't converged yet.\n",
      "  ConvergenceWarning,\n",
      "/opt/conda/lib/python3.7/site-packages/sklearn/neural_network/_multilayer_perceptron.py:696: ConvergenceWarning: Stochastic Optimizer: Maximum iterations (200) reached and the optimization hasn't converged yet.\n",
      "  ConvergenceWarning,\n",
      "/opt/conda/lib/python3.7/site-packages/sklearn/neural_network/_multilayer_perceptron.py:696: ConvergenceWarning: Stochastic Optimizer: Maximum iterations (500) reached and the optimization hasn't converged yet.\n",
      "  ConvergenceWarning,\n"
     ]
    }
   ],
   "source": [
    "mlp_grid_model = MLPClassifier(random_state=RANDOM_STATE)\n",
    "\n",
    "mlp_grid = generate_hyperparameters(mlp_grid_model, 'grid_mlp', params_grid=mlp_param_grid)"
   ]
  },
  {
   "cell_type": "code",
   "execution_count": 46,
   "id": "5537f0ec",
   "metadata": {
    "execution": {
     "iopub.execute_input": "2022-09-01T00:00:04.957422Z",
     "iopub.status.busy": "2022-09-01T00:00:04.956917Z",
     "iopub.status.idle": "2022-09-01T00:00:04.965420Z",
     "shell.execute_reply": "2022-09-01T00:00:04.964102Z"
    },
    "papermill": {
     "duration": 0.063846,
     "end_time": "2022-09-01T00:00:04.967975",
     "exception": false,
     "start_time": "2022-09-01T00:00:04.904129",
     "status": "completed"
    },
    "tags": []
   },
   "outputs": [
    {
     "data": {
      "text/plain": [
       "{'solver': 'sgd',\n",
       " 'max_iter': 500,\n",
       " 'learning_rate': 'constant',\n",
       " 'hidden_layer_sizes': (100,),\n",
       " 'alpha': 0.05,\n",
       " 'activation': 'tanh'}"
      ]
     },
     "execution_count": 46,
     "metadata": {},
     "output_type": "execute_result"
    }
   ],
   "source": [
    "mlp_grid.best_params_"
   ]
  },
  {
   "cell_type": "markdown",
   "id": "8f652404",
   "metadata": {
    "papermill": {
     "duration": 0.02797,
     "end_time": "2022-09-01T00:00:05.024449",
     "exception": false,
     "start_time": "2022-09-01T00:00:04.996479",
     "status": "completed"
    },
    "tags": []
   },
   "source": [
    "## Melhores parâmetros"
   ]
  },
  {
   "cell_type": "code",
   "execution_count": 47,
   "id": "2c232a00",
   "metadata": {
    "execution": {
     "iopub.execute_input": "2022-09-01T00:00:05.085588Z",
     "iopub.status.busy": "2022-09-01T00:00:05.085060Z",
     "iopub.status.idle": "2022-09-01T00:00:11.074340Z",
     "shell.execute_reply": "2022-09-01T00:00:11.073005Z"
    },
    "papermill": {
     "duration": 6.023637,
     "end_time": "2022-09-01T00:00:11.078371",
     "exception": false,
     "start_time": "2022-09-01T00:00:05.054734",
     "status": "completed"
    },
    "tags": []
   },
   "outputs": [
    {
     "name": "stderr",
     "output_type": "stream",
     "text": [
      "/opt/conda/lib/python3.7/site-packages/sklearn/neural_network/_multilayer_perceptron.py:696: ConvergenceWarning: Stochastic Optimizer: Maximum iterations (500) reached and the optimization hasn't converged yet.\n",
      "  ConvergenceWarning,\n"
     ]
    },
    {
     "data": {
      "text/plain": [
       "<sklearn.metrics._plot.confusion_matrix.ConfusionMatrixDisplay at 0x7f2fdc5b2510>"
      ]
     },
     "metadata": {},
     "output_type": "display_data"
    },
    {
     "data": {
      "text/html": [
       "<div>\n",
       "<style scoped>\n",
       "    .dataframe tbody tr th:only-of-type {\n",
       "        vertical-align: middle;\n",
       "    }\n",
       "\n",
       "    .dataframe tbody tr th {\n",
       "        vertical-align: top;\n",
       "    }\n",
       "\n",
       "    .dataframe thead th {\n",
       "        text-align: right;\n",
       "    }\n",
       "</style>\n",
       "<table border=\"1\" class=\"dataframe\">\n",
       "  <thead>\n",
       "    <tr style=\"text-align: right;\">\n",
       "      <th></th>\n",
       "      <th>model_name</th>\n",
       "      <th>acc</th>\n",
       "      <th>bacc</th>\n",
       "      <th>precision</th>\n",
       "      <th>recall</th>\n",
       "    </tr>\n",
       "  </thead>\n",
       "  <tbody>\n",
       "    <tr>\n",
       "      <th>0</th>\n",
       "      <td>rfc_basic</td>\n",
       "      <td>0.568966</td>\n",
       "      <td>0.504848</td>\n",
       "      <td>0.500000</td>\n",
       "      <td>0.04</td>\n",
       "    </tr>\n",
       "    <tr>\n",
       "      <th>1</th>\n",
       "      <td>rfc_tuned</td>\n",
       "      <td>0.568966</td>\n",
       "      <td>0.500000</td>\n",
       "      <td>0.000000</td>\n",
       "      <td>0.00</td>\n",
       "    </tr>\n",
       "    <tr>\n",
       "      <th>2</th>\n",
       "      <td>rfc_best_params</td>\n",
       "      <td>0.551724</td>\n",
       "      <td>0.489697</td>\n",
       "      <td>0.333333</td>\n",
       "      <td>0.04</td>\n",
       "    </tr>\n",
       "    <tr>\n",
       "      <th>3</th>\n",
       "      <td>svc_basic</td>\n",
       "      <td>0.568966</td>\n",
       "      <td>0.500000</td>\n",
       "      <td>0.000000</td>\n",
       "      <td>0.00</td>\n",
       "    </tr>\n",
       "    <tr>\n",
       "      <th>4</th>\n",
       "      <td>svc_poly</td>\n",
       "      <td>0.500000</td>\n",
       "      <td>0.468485</td>\n",
       "      <td>0.375000</td>\n",
       "      <td>0.24</td>\n",
       "    </tr>\n",
       "    <tr>\n",
       "      <th>5</th>\n",
       "      <td>svc_best_params</td>\n",
       "      <td>0.534483</td>\n",
       "      <td>0.513333</td>\n",
       "      <td>0.450000</td>\n",
       "      <td>0.36</td>\n",
       "    </tr>\n",
       "    <tr>\n",
       "      <th>6</th>\n",
       "      <td>gaussian_nb_basic</td>\n",
       "      <td>0.568966</td>\n",
       "      <td>0.524242</td>\n",
       "      <td>0.500000</td>\n",
       "      <td>0.20</td>\n",
       "    </tr>\n",
       "    <tr>\n",
       "      <th>7</th>\n",
       "      <td>mlp_basic</td>\n",
       "      <td>0.586207</td>\n",
       "      <td>0.544242</td>\n",
       "      <td>0.545455</td>\n",
       "      <td>0.24</td>\n",
       "    </tr>\n",
       "    <tr>\n",
       "      <th>8</th>\n",
       "      <td>mlp_best_params</td>\n",
       "      <td>0.534483</td>\n",
       "      <td>0.523030</td>\n",
       "      <td>0.458333</td>\n",
       "      <td>0.44</td>\n",
       "    </tr>\n",
       "  </tbody>\n",
       "</table>\n",
       "</div>"
      ],
      "text/plain": [
       "          model_name       acc      bacc  precision  recall\n",
       "0          rfc_basic  0.568966  0.504848   0.500000    0.04\n",
       "1          rfc_tuned  0.568966  0.500000   0.000000    0.00\n",
       "2    rfc_best_params  0.551724  0.489697   0.333333    0.04\n",
       "3          svc_basic  0.568966  0.500000   0.000000    0.00\n",
       "4           svc_poly  0.500000  0.468485   0.375000    0.24\n",
       "5    svc_best_params  0.534483  0.513333   0.450000    0.36\n",
       "6  gaussian_nb_basic  0.568966  0.524242   0.500000    0.20\n",
       "7          mlp_basic  0.586207  0.544242   0.545455    0.24\n",
       "8    mlp_best_params  0.534483  0.523030   0.458333    0.44"
      ]
     },
     "metadata": {},
     "output_type": "display_data"
    },
    {
     "data": {
      "image/png": "[encoded data removed]",
      "text/plain": [
       "<Figure size 432x288 with 2 Axes>"
      ]
     },
     "metadata": {
      "needs_background": "light"
     },
     "output_type": "display_data"
    }
   ],
   "source": [
    "mlp_best_params = MLPClassifier(**mlp_grid.best_params_, random_state=RANDOM_STATE)\n",
    "mlp_best_params_scores, mlp_best_params_pipeline = generate_predictions(mlp_best_params, 'mlp_best_params')"
   ]
  },
  {
   "cell_type": "markdown",
   "id": "5cbe6e7d",
   "metadata": {
    "papermill": {
     "duration": 0.02849,
     "end_time": "2022-09-01T00:00:11.136304",
     "exception": false,
     "start_time": "2022-09-01T00:00:11.107814",
     "status": "completed"
    },
    "tags": []
   },
   "source": [
    "# Keras sequential"
   ]
  },
  {
   "cell_type": "code",
   "execution_count": 48,
   "id": "5e18a6a1",
   "metadata": {
    "execution": {
     "iopub.execute_input": "2022-09-01T00:00:11.200527Z",
     "iopub.status.busy": "2022-09-01T00:00:11.199633Z",
     "iopub.status.idle": "2022-09-01T00:00:18.308291Z",
     "shell.execute_reply": "2022-09-01T00:00:18.307041Z"
    },
    "papermill": {
     "duration": 7.143767,
     "end_time": "2022-09-01T00:00:18.311652",
     "exception": false,
     "start_time": "2022-09-01T00:00:11.167885",
     "status": "completed"
    },
    "tags": []
   },
   "outputs": [],
   "source": [
    "from keras.models import Sequential\n",
    "from keras.layers import Dense, Activation, Flatten"
   ]
  },
  {
   "cell_type": "code",
   "execution_count": 49,
   "id": "55d3abf6",
   "metadata": {
    "execution": {
     "iopub.execute_input": "2022-09-01T00:00:18.373422Z",
     "iopub.status.busy": "2022-09-01T00:00:18.371884Z",
     "iopub.status.idle": "2022-09-01T00:00:18.833302Z",
     "shell.execute_reply": "2022-09-01T00:00:18.831696Z"
    },
    "papermill": {
     "duration": 0.496241,
     "end_time": "2022-09-01T00:00:18.837341",
     "exception": false,
     "start_time": "2022-09-01T00:00:18.341100",
     "status": "completed"
    },
    "tags": []
   },
   "outputs": [
    {
     "name": "stderr",
     "output_type": "stream",
     "text": [
      "2022-09-01 00:00:18.422694: I tensorflow/core/common_runtime/process_util.cc:146] Creating new thread pool with default inter op setting: 2. Tune using inter_op_parallelism_threads for best performance.\n"
     ]
    },
    {
     "name": "stdout",
     "output_type": "stream",
     "text": [
      "Model: \"sequential\"\n",
      "_________________________________________________________________\n",
      "Layer (type)                 Output Shape              Param #   \n",
      "=================================================================\n",
      "dense (Dense)                (None, 128)               33280     \n",
      "_________________________________________________________________\n",
      "dense_1 (Dense)              (None, 256)               33024     \n",
      "_________________________________________________________________\n",
      "dense_2 (Dense)              (None, 256)               65792     \n",
      "_________________________________________________________________\n",
      "dense_3 (Dense)              (None, 256)               65792     \n",
      "_________________________________________________________________\n",
      "dense_4 (Dense)              (None, 1)                 257       \n",
      "=================================================================\n",
      "Total params: 198,145\n",
      "Trainable params: 198,145\n",
      "Non-trainable params: 0\n",
      "_________________________________________________________________\n"
     ]
    }
   ],
   "source": [
    "keras_nn = Sequential()\n",
    "keras_nn.add(Dense(128, input_dim=x_train.shape[1], activation='relu'))\n",
    "\n",
    "keras_nn.add(Dense(256, activation='relu'))\n",
    "keras_nn.add(Dense(256, activation='relu'))\n",
    "keras_nn.add(Dense(256, activation='relu'))\n",
    "\n",
    "keras_nn.add(Dense(1, activation='sigmoid'))\n",
    "\n",
    "keras_nn.compile(\n",
    "    loss='binary_crossentropy',\n",
    "    optimizer='adam',\n",
    "    metrics='accuracy'\n",
    ")\n",
    "\n",
    "keras_nn.summary()"
   ]
  },
  {
   "cell_type": "code",
   "execution_count": 50,
   "id": "b919d573",
   "metadata": {
    "execution": {
     "iopub.execute_input": "2022-09-01T00:00:18.899633Z",
     "iopub.status.busy": "2022-09-01T00:00:18.899084Z",
     "iopub.status.idle": "2022-09-01T00:00:18.905807Z",
     "shell.execute_reply": "2022-09-01T00:00:18.904142Z"
    },
    "papermill": {
     "duration": 0.041106,
     "end_time": "2022-09-01T00:00:18.908658",
     "exception": false,
     "start_time": "2022-09-01T00:00:18.867552",
     "status": "completed"
    },
    "tags": []
   },
   "outputs": [],
   "source": [
    "keras_nn_fit_params = {\n",
    "    'sequential__epochs': 500,\n",
    "    'sequential__batch_size': 32,\n",
    "    'sequential__verbose': 0, \n",
    "}"
   ]
  },
  {
   "cell_type": "code",
   "execution_count": 51,
   "id": "8d472d9e",
   "metadata": {
    "execution": {
     "iopub.execute_input": "2022-09-01T00:00:18.969549Z",
     "iopub.status.busy": "2022-09-01T00:00:18.968714Z",
     "iopub.status.idle": "2022-09-01T00:01:01.326538Z",
     "shell.execute_reply": "2022-09-01T00:01:01.325631Z"
    },
    "papermill": {
     "duration": 42.391688,
     "end_time": "2022-09-01T00:01:01.329234",
     "exception": false,
     "start_time": "2022-09-01T00:00:18.937546",
     "status": "completed"
    },
    "tags": []
   },
   "outputs": [
    {
     "name": "stderr",
     "output_type": "stream",
     "text": [
      "2022-09-01 00:00:19.146103: I tensorflow/compiler/mlir/mlir_graph_optimization_pass.cc:185] None of the MLIR Optimization Passes are enabled (registered 2)\n"
     ]
    },
    {
     "data": {
      "text/plain": [
       "<sklearn.metrics._plot.confusion_matrix.ConfusionMatrixDisplay at 0x7f2f8ed67210>"
      ]
     },
     "metadata": {},
     "output_type": "display_data"
    },
    {
     "data": {
      "text/html": [
       "<div>\n",
       "<style scoped>\n",
       "    .dataframe tbody tr th:only-of-type {\n",
       "        vertical-align: middle;\n",
       "    }\n",
       "\n",
       "    .dataframe tbody tr th {\n",
       "        vertical-align: top;\n",
       "    }\n",
       "\n",
       "    .dataframe thead th {\n",
       "        text-align: right;\n",
       "    }\n",
       "</style>\n",
       "<table border=\"1\" class=\"dataframe\">\n",
       "  <thead>\n",
       "    <tr style=\"text-align: right;\">\n",
       "      <th></th>\n",
       "      <th>model_name</th>\n",
       "      <th>acc</th>\n",
       "      <th>bacc</th>\n",
       "      <th>precision</th>\n",
       "      <th>recall</th>\n",
       "    </tr>\n",
       "  </thead>\n",
       "  <tbody>\n",
       "    <tr>\n",
       "      <th>0</th>\n",
       "      <td>rfc_basic</td>\n",
       "      <td>0.568966</td>\n",
       "      <td>0.504848</td>\n",
       "      <td>0.500000</td>\n",
       "      <td>0.04</td>\n",
       "    </tr>\n",
       "    <tr>\n",
       "      <th>1</th>\n",
       "      <td>rfc_tuned</td>\n",
       "      <td>0.568966</td>\n",
       "      <td>0.500000</td>\n",
       "      <td>0.000000</td>\n",
       "      <td>0.00</td>\n",
       "    </tr>\n",
       "    <tr>\n",
       "      <th>2</th>\n",
       "      <td>rfc_best_params</td>\n",
       "      <td>0.551724</td>\n",
       "      <td>0.489697</td>\n",
       "      <td>0.333333</td>\n",
       "      <td>0.04</td>\n",
       "    </tr>\n",
       "    <tr>\n",
       "      <th>3</th>\n",
       "      <td>svc_basic</td>\n",
       "      <td>0.568966</td>\n",
       "      <td>0.500000</td>\n",
       "      <td>0.000000</td>\n",
       "      <td>0.00</td>\n",
       "    </tr>\n",
       "    <tr>\n",
       "      <th>4</th>\n",
       "      <td>svc_poly</td>\n",
       "      <td>0.500000</td>\n",
       "      <td>0.468485</td>\n",
       "      <td>0.375000</td>\n",
       "      <td>0.24</td>\n",
       "    </tr>\n",
       "    <tr>\n",
       "      <th>5</th>\n",
       "      <td>svc_best_params</td>\n",
       "      <td>0.534483</td>\n",
       "      <td>0.513333</td>\n",
       "      <td>0.450000</td>\n",
       "      <td>0.36</td>\n",
       "    </tr>\n",
       "    <tr>\n",
       "      <th>6</th>\n",
       "      <td>gaussian_nb_basic</td>\n",
       "      <td>0.568966</td>\n",
       "      <td>0.524242</td>\n",
       "      <td>0.500000</td>\n",
       "      <td>0.20</td>\n",
       "    </tr>\n",
       "    <tr>\n",
       "      <th>7</th>\n",
       "      <td>mlp_basic</td>\n",
       "      <td>0.586207</td>\n",
       "      <td>0.544242</td>\n",
       "      <td>0.545455</td>\n",
       "      <td>0.24</td>\n",
       "    </tr>\n",
       "    <tr>\n",
       "      <th>8</th>\n",
       "      <td>mlp_best_params</td>\n",
       "      <td>0.534483</td>\n",
       "      <td>0.523030</td>\n",
       "      <td>0.458333</td>\n",
       "      <td>0.44</td>\n",
       "    </tr>\n",
       "    <tr>\n",
       "      <th>9</th>\n",
       "      <td>keras_sequencial</td>\n",
       "      <td>0.620690</td>\n",
       "      <td>0.579394</td>\n",
       "      <td>0.636364</td>\n",
       "      <td>0.28</td>\n",
       "    </tr>\n",
       "  </tbody>\n",
       "</table>\n",
       "</div>"
      ],
      "text/plain": [
       "          model_name       acc      bacc  precision  recall\n",
       "0          rfc_basic  0.568966  0.504848   0.500000    0.04\n",
       "1          rfc_tuned  0.568966  0.500000   0.000000    0.00\n",
       "2    rfc_best_params  0.551724  0.489697   0.333333    0.04\n",
       "3          svc_basic  0.568966  0.500000   0.000000    0.00\n",
       "4           svc_poly  0.500000  0.468485   0.375000    0.24\n",
       "5    svc_best_params  0.534483  0.513333   0.450000    0.36\n",
       "6  gaussian_nb_basic  0.568966  0.524242   0.500000    0.20\n",
       "7          mlp_basic  0.586207  0.544242   0.545455    0.24\n",
       "8    mlp_best_params  0.534483  0.523030   0.458333    0.44\n",
       "9   keras_sequencial  0.620690  0.579394   0.636364    0.28"
      ]
     },
     "metadata": {},
     "output_type": "display_data"
    },
    {
     "data": {
      "image/png": "[encoded data removed]",
      "text/plain": [
       "<Figure size 432x288 with 2 Axes>"
      ]
     },
     "metadata": {
      "needs_background": "light"
     },
     "output_type": "display_data"
    }
   ],
   "source": [
    "keras_nn_scores, keras_nn_pipeline = generate_predictions(keras_nn, 'keras_sequencial', fit_params=keras_nn_fit_params)"
   ]
  },
  {
   "cell_type": "markdown",
   "id": "c1fde807",
   "metadata": {
    "papermill": {
     "duration": 0.029903,
     "end_time": "2022-09-01T00:01:01.390222",
     "exception": false,
     "start_time": "2022-09-01T00:01:01.360319",
     "status": "completed"
    },
    "tags": []
   },
   "source": [
    "---"
   ]
  },
  {
   "cell_type": "code",
   "execution_count": 52,
   "id": "acb628f0",
   "metadata": {
    "execution": {
     "iopub.execute_input": "2022-09-01T00:01:01.453792Z",
     "iopub.status.busy": "2022-09-01T00:01:01.453010Z",
     "iopub.status.idle": "2022-09-01T00:01:01.468576Z",
     "shell.execute_reply": "2022-09-01T00:01:01.467415Z"
    },
    "papermill": {
     "duration": 0.050524,
     "end_time": "2022-09-01T00:01:01.471239",
     "exception": false,
     "start_time": "2022-09-01T00:01:01.420715",
     "status": "completed"
    },
    "tags": []
   },
   "outputs": [
    {
     "data": {
      "text/html": [
       "<div>\n",
       "<style scoped>\n",
       "    .dataframe tbody tr th:only-of-type {\n",
       "        vertical-align: middle;\n",
       "    }\n",
       "\n",
       "    .dataframe tbody tr th {\n",
       "        vertical-align: top;\n",
       "    }\n",
       "\n",
       "    .dataframe thead th {\n",
       "        text-align: right;\n",
       "    }\n",
       "</style>\n",
       "<table border=\"1\" class=\"dataframe\">\n",
       "  <thead>\n",
       "    <tr style=\"text-align: right;\">\n",
       "      <th></th>\n",
       "      <th>model_name</th>\n",
       "      <th>acc</th>\n",
       "      <th>bacc</th>\n",
       "      <th>precision</th>\n",
       "      <th>recall</th>\n",
       "    </tr>\n",
       "  </thead>\n",
       "  <tbody>\n",
       "    <tr>\n",
       "      <th>0</th>\n",
       "      <td>rfc_basic</td>\n",
       "      <td>0.568966</td>\n",
       "      <td>0.504848</td>\n",
       "      <td>0.500000</td>\n",
       "      <td>0.04</td>\n",
       "    </tr>\n",
       "    <tr>\n",
       "      <th>1</th>\n",
       "      <td>rfc_tuned</td>\n",
       "      <td>0.568966</td>\n",
       "      <td>0.500000</td>\n",
       "      <td>0.000000</td>\n",
       "      <td>0.00</td>\n",
       "    </tr>\n",
       "    <tr>\n",
       "      <th>2</th>\n",
       "      <td>rfc_best_params</td>\n",
       "      <td>0.551724</td>\n",
       "      <td>0.489697</td>\n",
       "      <td>0.333333</td>\n",
       "      <td>0.04</td>\n",
       "    </tr>\n",
       "    <tr>\n",
       "      <th>3</th>\n",
       "      <td>svc_basic</td>\n",
       "      <td>0.568966</td>\n",
       "      <td>0.500000</td>\n",
       "      <td>0.000000</td>\n",
       "      <td>0.00</td>\n",
       "    </tr>\n",
       "    <tr>\n",
       "      <th>4</th>\n",
       "      <td>svc_poly</td>\n",
       "      <td>0.500000</td>\n",
       "      <td>0.468485</td>\n",
       "      <td>0.375000</td>\n",
       "      <td>0.24</td>\n",
       "    </tr>\n",
       "    <tr>\n",
       "      <th>5</th>\n",
       "      <td>svc_best_params</td>\n",
       "      <td>0.534483</td>\n",
       "      <td>0.513333</td>\n",
       "      <td>0.450000</td>\n",
       "      <td>0.36</td>\n",
       "    </tr>\n",
       "    <tr>\n",
       "      <th>6</th>\n",
       "      <td>gaussian_nb_basic</td>\n",
       "      <td>0.568966</td>\n",
       "      <td>0.524242</td>\n",
       "      <td>0.500000</td>\n",
       "      <td>0.20</td>\n",
       "    </tr>\n",
       "    <tr>\n",
       "      <th>7</th>\n",
       "      <td>mlp_basic</td>\n",
       "      <td>0.586207</td>\n",
       "      <td>0.544242</td>\n",
       "      <td>0.545455</td>\n",
       "      <td>0.24</td>\n",
       "    </tr>\n",
       "    <tr>\n",
       "      <th>8</th>\n",
       "      <td>mlp_best_params</td>\n",
       "      <td>0.534483</td>\n",
       "      <td>0.523030</td>\n",
       "      <td>0.458333</td>\n",
       "      <td>0.44</td>\n",
       "    </tr>\n",
       "    <tr>\n",
       "      <th>9</th>\n",
       "      <td>keras_sequencial</td>\n",
       "      <td>0.620690</td>\n",
       "      <td>0.579394</td>\n",
       "      <td>0.636364</td>\n",
       "      <td>0.28</td>\n",
       "    </tr>\n",
       "  </tbody>\n",
       "</table>\n",
       "</div>"
      ],
      "text/plain": [
       "          model_name       acc      bacc  precision  recall\n",
       "0          rfc_basic  0.568966  0.504848   0.500000    0.04\n",
       "1          rfc_tuned  0.568966  0.500000   0.000000    0.00\n",
       "2    rfc_best_params  0.551724  0.489697   0.333333    0.04\n",
       "3          svc_basic  0.568966  0.500000   0.000000    0.00\n",
       "4           svc_poly  0.500000  0.468485   0.375000    0.24\n",
       "5    svc_best_params  0.534483  0.513333   0.450000    0.36\n",
       "6  gaussian_nb_basic  0.568966  0.524242   0.500000    0.20\n",
       "7          mlp_basic  0.586207  0.544242   0.545455    0.24\n",
       "8    mlp_best_params  0.534483  0.523030   0.458333    0.44\n",
       "9   keras_sequencial  0.620690  0.579394   0.636364    0.28"
      ]
     },
     "execution_count": 52,
     "metadata": {},
     "output_type": "execute_result"
    }
   ],
   "source": [
    "pd.DataFrame(all_scores.values())"
   ]
  },
  {
   "cell_type": "code",
   "execution_count": 53,
   "id": "66eabdb5",
   "metadata": {
    "execution": {
     "iopub.execute_input": "2022-09-01T00:01:01.534101Z",
     "iopub.status.busy": "2022-09-01T00:01:01.532989Z",
     "iopub.status.idle": "2022-09-01T00:01:01.543598Z",
     "shell.execute_reply": "2022-09-01T00:01:01.542636Z"
    },
    "papermill": {
     "duration": 0.04485,
     "end_time": "2022-09-01T00:01:01.546194",
     "exception": false,
     "start_time": "2022-09-01T00:01:01.501344",
     "status": "completed"
    },
    "tags": []
   },
   "outputs": [],
   "source": [
    "pd.DataFrame(all_scores.values()).to_csv('models.csv')"
   ]
  }
 ],
 "metadata": {
  "kernelspec": {
   "display_name": "Python 3",
   "language": "python",
   "name": "python3"
  },
  "language_info": {
   "codemirror_mode": {
    "name": "ipython",
    "version": 3
   },
   "file_extension": ".py",
   "mimetype": "text/x-python",
   "name": "python",
   "nbconvert_exporter": "python",
   "pygments_lexer": "ipython3",
   "version": "3.7.12"
  },
  "papermill": {
   "default_parameters": {},
   "duration": 727.507828,
   "end_time": "2022-09-01T00:01:04.200629",
   "environment_variables": {},
   "exception": null,
   "input_path": "__notebook__.ipynb",
   "output_path": "__notebook__.ipynb",
   "parameters": {},
   "start_time": "2022-08-31T23:48:56.692801",
   "version": "2.3.4"
  }
 },
 "nbformat": 4,
 "nbformat_minor": 5
}
