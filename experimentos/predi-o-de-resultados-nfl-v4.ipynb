{
 "cells": [
  {
   "cell_type": "code",
   "execution_count": 1,
   "id": "2af8730c",
   "metadata": {
    "execution": {
     "iopub.execute_input": "2022-09-01T17:31:03.971412Z",
     "iopub.status.busy": "2022-09-01T17:31:03.970354Z",
     "iopub.status.idle": "2022-09-01T17:31:03.984253Z",
     "shell.execute_reply": "2022-09-01T17:31:03.983374Z"
    },
    "papermill": {
     "duration": 0.034741,
     "end_time": "2022-09-01T17:31:03.987104",
     "exception": false,
     "start_time": "2022-09-01T17:31:03.952363",
     "status": "completed"
    },
    "tags": []
   },
   "outputs": [],
   "source": [
    "import os\n",
    "import numpy as np\n",
    "import pandas as pd"
   ]
  },
  {
   "cell_type": "code",
   "execution_count": 2,
   "id": "7a4d72e9",
   "metadata": {
    "execution": {
     "iopub.execute_input": "2022-09-01T17:31:04.018466Z",
     "iopub.status.busy": "2022-09-01T17:31:04.017653Z",
     "iopub.status.idle": "2022-09-01T17:31:04.032364Z",
     "shell.execute_reply": "2022-09-01T17:31:04.031073Z"
    },
    "papermill": {
     "duration": 0.03362,
     "end_time": "2022-09-01T17:31:04.035281",
     "exception": false,
     "start_time": "2022-09-01T17:31:04.001661",
     "status": "completed"
    },
    "tags": []
   },
   "outputs": [
    {
     "name": "stdout",
     "output_type": "stream",
     "text": [
      "/kaggle/input/nfl-playoffs-19702021/df_kaggle_test.csv\n",
      "/kaggle/input/nfl-playoffs-19702021/playoffs.csv\n",
      "/kaggle/input/nfl-playoffs-19702021/df_kaggle_test_labels.csv\n",
      "/kaggle/input/nfl-playoffs-19702021/df_kaggle_train.csv\n"
     ]
    }
   ],
   "source": [
    "import os\n",
    "for dirname, _, filenames in os.walk('/kaggle/input'):\n",
    "    for filename in filenames:\n",
    "        print(os.path.join(dirname, filename))"
   ]
  },
  {
   "cell_type": "markdown",
   "id": "cee325ee",
   "metadata": {
    "papermill": {
     "duration": 0.014596,
     "end_time": "2022-09-01T17:31:04.066761",
     "exception": false,
     "start_time": "2022-09-01T17:31:04.052165",
     "status": "completed"
    },
    "tags": []
   },
   "source": [
    "---"
   ]
  },
  {
   "cell_type": "markdown",
   "id": "e2d6ff33",
   "metadata": {
    "papermill": {
     "duration": 0.013938,
     "end_time": "2022-09-01T17:31:04.095110",
     "exception": false,
     "start_time": "2022-09-01T17:31:04.081172",
     "status": "completed"
    },
    "tags": []
   },
   "source": [
    "# Experimento 2\n",
    "Treinando de 1970 ate 2017, testa em 2018\n",
    "\n",
    "Depois retreina com 2018 e testa 2019.\n",
    "\n",
    "[...]"
   ]
  },
  {
   "cell_type": "code",
   "execution_count": 3,
   "id": "2620e472",
   "metadata": {
    "execution": {
     "iopub.execute_input": "2022-09-01T17:31:04.126192Z",
     "iopub.status.busy": "2022-09-01T17:31:04.125798Z",
     "iopub.status.idle": "2022-09-01T17:31:05.283759Z",
     "shell.execute_reply": "2022-09-01T17:31:05.282473Z"
    },
    "papermill": {
     "duration": 1.177144,
     "end_time": "2022-09-01T17:31:05.286949",
     "exception": false,
     "start_time": "2022-09-01T17:31:04.109805",
     "status": "completed"
    },
    "tags": []
   },
   "outputs": [],
   "source": [
    "from pprint import pprint\n",
    "from sklearn.metrics import (\n",
    "    ConfusionMatrixDisplay, \n",
    "    accuracy_score,\n",
    "    balanced_accuracy_score,\n",
    "    precision_score, \n",
    "    recall_score, \n",
    "    f1_score\n",
    ")\n",
    "from datetime import datetime\n",
    "\n",
    "all_scores = {}\n",
    "\n",
    "def show_scores(scores: dict = all_scores):\n",
    "    display(pd.DataFrame(all_scores.values()))\n",
    "\n",
    "def calculate_scores(\n",
    "    model_name: str, \n",
    "    y_test: pd.Series, pred: np.ndarray, \n",
    "    pos_label: str or int = 1,\n",
    "    score_list: list = all_scores,\n",
    "    display_confusion_matrix: bool = True,\n",
    "    display_scores: bool = True\n",
    "    ):\n",
    "    cf_mx = ConfusionMatrixDisplay.from_predictions(y_test, pred)\n",
    "    acc = accuracy_score(y_test, pred)\n",
    "    bacc = balanced_accuracy_score(y_test, pred)\n",
    "    precision = precision_score(y_test, pred, pos_label=pos_label)\n",
    "    recall = recall_score(y_test, pred, pos_label=pos_label)\n",
    "    f1 = f1_score(y_test, pred, pos_label=pos_label)\n",
    "    \n",
    "    model_scores = {\n",
    "        'model_name': model_name,\n",
    "        'acc': acc,\n",
    "        'bacc': bacc,\n",
    "        'precision': precision,\n",
    "        'recall': recall,\n",
    "        'f1score': f1\n",
    "    }\n",
    "    score_list[model_name] = model_scores\n",
    "    \n",
    "    if display_confusion_matrix:\n",
    "        display(cf_mx)   \n",
    "    if show_scores:\n",
    "        show_scores(score_list)\n",
    "    return model_scores"
   ]
  },
  {
   "cell_type": "code",
   "execution_count": 4,
   "id": "59dd4249",
   "metadata": {
    "execution": {
     "iopub.execute_input": "2022-09-01T17:31:05.321476Z",
     "iopub.status.busy": "2022-09-01T17:31:05.320224Z",
     "iopub.status.idle": "2022-09-01T17:31:05.326371Z",
     "shell.execute_reply": "2022-09-01T17:31:05.325025Z"
    },
    "papermill": {
     "duration": 0.026881,
     "end_time": "2022-09-01T17:31:05.329176",
     "exception": false,
     "start_time": "2022-09-01T17:31:05.302295",
     "status": "completed"
    },
    "tags": []
   },
   "outputs": [],
   "source": [
    "from joblib import dump\n",
    "\n",
    "def save_clf(clf, clf_name: str):\n",
    "    dump(clf, clf_name + '.joblib')"
   ]
  },
  {
   "cell_type": "markdown",
   "id": "12b08cc5",
   "metadata": {
    "papermill": {
     "duration": 0.014503,
     "end_time": "2022-09-01T17:31:05.358841",
     "exception": false,
     "start_time": "2022-09-01T17:31:05.344338",
     "status": "completed"
    },
    "tags": []
   },
   "source": [
    "---"
   ]
  },
  {
   "cell_type": "markdown",
   "id": "0355e677",
   "metadata": {
    "papermill": {
     "duration": 0.014222,
     "end_time": "2022-09-01T17:31:05.388279",
     "exception": false,
     "start_time": "2022-09-01T17:31:05.374057",
     "status": "completed"
    },
    "tags": []
   },
   "source": [
    "# Carregamento do dataset Kaggle e preparaçao para treino e teste"
   ]
  },
  {
   "cell_type": "code",
   "execution_count": 5,
   "id": "69f2bf7d",
   "metadata": {
    "execution": {
     "iopub.execute_input": "2022-09-01T17:31:05.419902Z",
     "iopub.status.busy": "2022-09-01T17:31:05.418864Z",
     "iopub.status.idle": "2022-09-01T17:31:05.510861Z",
     "shell.execute_reply": "2022-09-01T17:31:05.509498Z"
    },
    "papermill": {
     "duration": 0.110748,
     "end_time": "2022-09-01T17:31:05.513592",
     "exception": false,
     "start_time": "2022-09-01T17:31:05.402844",
     "status": "completed"
    },
    "tags": []
   },
   "outputs": [],
   "source": [
    "df_kaggle_train = pd.read_csv('/kaggle/input/nfl-playoffs-19702021/df_kaggle_train.csv', sep=';')\n",
    "df_kaggle_test = pd.read_csv('/kaggle/input/nfl-playoffs-19702021/df_kaggle_test.csv', sep=';')\n",
    "df_kaggle_test_labels = pd.read_csv('/kaggle/input/nfl-playoffs-19702021/df_kaggle_test_labels.csv', sep=';')"
   ]
  },
  {
   "cell_type": "code",
   "execution_count": 6,
   "id": "265f78ea",
   "metadata": {
    "execution": {
     "iopub.execute_input": "2022-09-01T17:31:05.544057Z",
     "iopub.status.busy": "2022-09-01T17:31:05.543492Z",
     "iopub.status.idle": "2022-09-01T17:31:05.553394Z",
     "shell.execute_reply": "2022-09-01T17:31:05.552180Z"
    },
    "papermill": {
     "duration": 0.027918,
     "end_time": "2022-09-01T17:31:05.555929",
     "exception": false,
     "start_time": "2022-09-01T17:31:05.528011",
     "status": "completed"
    },
    "tags": []
   },
   "outputs": [
    {
     "data": {
      "text/plain": [
       "((526, 263), (52, 262), (52, 2))"
      ]
     },
     "execution_count": 6,
     "metadata": {},
     "output_type": "execute_result"
    }
   ],
   "source": [
    "df_kaggle_train.shape, df_kaggle_test.shape, df_kaggle_test_labels.shape"
   ]
  },
  {
   "cell_type": "code",
   "execution_count": 7,
   "id": "8d3e983a",
   "metadata": {
    "execution": {
     "iopub.execute_input": "2022-09-01T17:31:05.587455Z",
     "iopub.status.busy": "2022-09-01T17:31:05.587044Z",
     "iopub.status.idle": "2022-09-01T17:31:05.599275Z",
     "shell.execute_reply": "2022-09-01T17:31:05.597990Z"
    },
    "papermill": {
     "duration": 0.031055,
     "end_time": "2022-09-01T17:31:05.601781",
     "exception": false,
     "start_time": "2022-09-01T17:31:05.570726",
     "status": "completed"
    },
    "tags": []
   },
   "outputs": [
    {
     "data": {
      "text/plain": [
       "True"
      ]
     },
     "execution_count": 7,
     "metadata": {},
     "output_type": "execute_result"
    }
   ],
   "source": [
    "all(df_kaggle_test['gs_id'] == df_kaggle_test_labels['gs_id'])"
   ]
  },
  {
   "cell_type": "markdown",
   "id": "d515120a",
   "metadata": {
    "papermill": {
     "duration": 0.014712,
     "end_time": "2022-09-01T17:31:05.631211",
     "exception": false,
     "start_time": "2022-09-01T17:31:05.616499",
     "status": "completed"
    },
    "tags": []
   },
   "source": [
    "---"
   ]
  },
  {
   "cell_type": "code",
   "execution_count": 8,
   "id": "d4231d34",
   "metadata": {
    "execution": {
     "iopub.execute_input": "2022-09-01T17:31:05.662440Z",
     "iopub.status.busy": "2022-09-01T17:31:05.661676Z",
     "iopub.status.idle": "2022-09-01T17:31:05.674509Z",
     "shell.execute_reply": "2022-09-01T17:31:05.673378Z"
    },
    "papermill": {
     "duration": 0.031252,
     "end_time": "2022-09-01T17:31:05.677036",
     "exception": false,
     "start_time": "2022-09-01T17:31:05.645784",
     "status": "completed"
    },
    "tags": []
   },
   "outputs": [],
   "source": [
    "df_train = df_kaggle_train.sort_values('gs_id', ascending=True).copy()\n",
    "df_train.set_index('gs_id', inplace=True)"
   ]
  },
  {
   "cell_type": "code",
   "execution_count": 9,
   "id": "1198a79a",
   "metadata": {
    "execution": {
     "iopub.execute_input": "2022-09-01T17:31:05.708712Z",
     "iopub.status.busy": "2022-09-01T17:31:05.707917Z",
     "iopub.status.idle": "2022-09-01T17:31:05.715687Z",
     "shell.execute_reply": "2022-09-01T17:31:05.714791Z"
    },
    "papermill": {
     "duration": 0.026175,
     "end_time": "2022-09-01T17:31:05.718027",
     "exception": false,
     "start_time": "2022-09-01T17:31:05.691852",
     "status": "completed"
    },
    "tags": []
   },
   "outputs": [],
   "source": [
    "df_test = df_kaggle_test.sort_values('gs_id', ascending=True).copy()\n",
    "# df_test.loc[:, 'winorlose'] = df_kaggle_test_labels['winorlose']\n",
    "df_test.set_index('gs_id', inplace=True)"
   ]
  },
  {
   "cell_type": "code",
   "execution_count": 10,
   "id": "11d17251",
   "metadata": {
    "execution": {
     "iopub.execute_input": "2022-09-01T17:31:05.750897Z",
     "iopub.status.busy": "2022-09-01T17:31:05.749868Z",
     "iopub.status.idle": "2022-09-01T17:31:05.762635Z",
     "shell.execute_reply": "2022-09-01T17:31:05.761098Z"
    },
    "papermill": {
     "duration": 0.031936,
     "end_time": "2022-09-01T17:31:05.765487",
     "exception": false,
     "start_time": "2022-09-01T17:31:05.733551",
     "status": "completed"
    },
    "tags": []
   },
   "outputs": [],
   "source": [
    "df_test_labels = df_kaggle_test_labels.sort_values('gs_id', ascending=True).copy()\n",
    "df_test_labels.set_index('gs_id', inplace=True)\n",
    "\n",
    "df_test_labels = df_test_labels['winorlose'].map({'L': 0, 'W': 1})"
   ]
  },
  {
   "cell_type": "code",
   "execution_count": 11,
   "id": "8cd9a062",
   "metadata": {
    "execution": {
     "iopub.execute_input": "2022-09-01T17:31:05.796895Z",
     "iopub.status.busy": "2022-09-01T17:31:05.796359Z",
     "iopub.status.idle": "2022-09-01T17:31:05.803462Z",
     "shell.execute_reply": "2022-09-01T17:31:05.802387Z"
    },
    "papermill": {
     "duration": 0.02529,
     "end_time": "2022-09-01T17:31:05.805599",
     "exception": false,
     "start_time": "2022-09-01T17:31:05.780309",
     "status": "completed"
    },
    "tags": []
   },
   "outputs": [
    {
     "data": {
      "text/plain": [
       "((526, 262), (52, 261), (52,))"
      ]
     },
     "execution_count": 11,
     "metadata": {},
     "output_type": "execute_result"
    }
   ],
   "source": [
    "df_train.shape, df_test.shape, df_test_labels.shape"
   ]
  },
  {
   "cell_type": "markdown",
   "id": "19761d35",
   "metadata": {
    "papermill": {
     "duration": 0.014455,
     "end_time": "2022-09-01T17:31:05.834919",
     "exception": false,
     "start_time": "2022-09-01T17:31:05.820464",
     "status": "completed"
    },
    "tags": []
   },
   "source": [
    "---"
   ]
  },
  {
   "cell_type": "markdown",
   "id": "1a40720a",
   "metadata": {
    "papermill": {
     "duration": 0.014736,
     "end_time": "2022-09-01T17:31:05.864342",
     "exception": false,
     "start_time": "2022-09-01T17:31:05.849606",
     "status": "completed"
    },
    "tags": []
   },
   "source": [
    "# Pre-processamento"
   ]
  },
  {
   "cell_type": "code",
   "execution_count": 12,
   "id": "2523efd8",
   "metadata": {
    "execution": {
     "iopub.execute_input": "2022-09-01T17:31:05.896377Z",
     "iopub.status.busy": "2022-09-01T17:31:05.895841Z",
     "iopub.status.idle": "2022-09-01T17:31:05.916349Z",
     "shell.execute_reply": "2022-09-01T17:31:05.915317Z"
    },
    "papermill": {
     "duration": 0.03979,
     "end_time": "2022-09-01T17:31:05.918985",
     "exception": false,
     "start_time": "2022-09-01T17:31:05.879195",
     "status": "completed"
    },
    "tags": []
   },
   "outputs": [],
   "source": [
    "from sklearn.model_selection import train_test_split"
   ]
  },
  {
   "cell_type": "code",
   "execution_count": 13,
   "id": "896b3c74",
   "metadata": {
    "execution": {
     "iopub.execute_input": "2022-09-01T17:31:05.951892Z",
     "iopub.status.busy": "2022-09-01T17:31:05.951093Z",
     "iopub.status.idle": "2022-09-01T17:31:05.956303Z",
     "shell.execute_reply": "2022-09-01T17:31:05.955231Z"
    },
    "papermill": {
     "duration": 0.023984,
     "end_time": "2022-09-01T17:31:05.958663",
     "exception": false,
     "start_time": "2022-09-01T17:31:05.934679",
     "status": "completed"
    },
    "tags": []
   },
   "outputs": [],
   "source": [
    "encode_target = True\n",
    "corr_threshold = None\n",
    "split_data = False\n",
    "target = 'winorlose'"
   ]
  },
  {
   "cell_type": "code",
   "execution_count": 14,
   "id": "c516df7e",
   "metadata": {
    "execution": {
     "iopub.execute_input": "2022-09-01T17:31:05.990620Z",
     "iopub.status.busy": "2022-09-01T17:31:05.989413Z",
     "iopub.status.idle": "2022-09-01T17:31:06.008133Z",
     "shell.execute_reply": "2022-09-01T17:31:06.007238Z"
    },
    "papermill": {
     "duration": 0.037305,
     "end_time": "2022-09-01T17:31:06.010844",
     "exception": false,
     "start_time": "2022-09-01T17:31:05.973539",
     "status": "completed"
    },
    "tags": []
   },
   "outputs": [],
   "source": [
    "# bool to numeric\n",
    "non_numeric_or_object = df_train.select_dtypes(exclude=[np.number, object]).columns\n",
    "df_train[non_numeric_or_object] = df_train[non_numeric_or_object].astype(int)\n",
    "\n",
    "non_numeric_or_object = df_test.select_dtypes(exclude=[np.number, object]).columns\n",
    "df_test[non_numeric_or_object] = df_test[non_numeric_or_object].astype(int)"
   ]
  },
  {
   "cell_type": "code",
   "execution_count": 15,
   "id": "40f2b80f",
   "metadata": {
    "execution": {
     "iopub.execute_input": "2022-09-01T17:31:06.043861Z",
     "iopub.status.busy": "2022-09-01T17:31:06.043013Z",
     "iopub.status.idle": "2022-09-01T17:31:06.127444Z",
     "shell.execute_reply": "2022-09-01T17:31:06.126413Z"
    },
    "papermill": {
     "duration": 0.103978,
     "end_time": "2022-09-01T17:31:06.130113",
     "exception": false,
     "start_time": "2022-09-01T17:31:06.026135",
     "status": "completed"
    },
    "tags": []
   },
   "outputs": [],
   "source": [
    "# cols with values that contain '%' or 'Own' to numeric\n",
    "for _df in [df_train, df_test]:\n",
    "    for col in _df.select_dtypes(object).columns:\n",
    "        if any(_df[col].str.contains('Own', na=False)):\n",
    "            _df[col] = _df[col].str.extract('[Own]?(\\d+.\\d*)').astype(float)\n",
    "            continue\n",
    "        if any(_df[col].str.contains('%', na=False)):\n",
    "            _df[col] = _df[col].str.extract('(\\d+.\\d*)[%]').astype(float)\n",
    "            continue"
   ]
  },
  {
   "cell_type": "code",
   "execution_count": 16,
   "id": "585d2ed1",
   "metadata": {
    "execution": {
     "iopub.execute_input": "2022-09-01T17:31:06.162005Z",
     "iopub.status.busy": "2022-09-01T17:31:06.161592Z",
     "iopub.status.idle": "2022-09-01T17:31:06.193969Z",
     "shell.execute_reply": "2022-09-01T17:31:06.192516Z"
    },
    "papermill": {
     "duration": 0.051918,
     "end_time": "2022-09-01T17:31:06.196807",
     "exception": false,
     "start_time": "2022-09-01T17:31:06.144889",
     "status": "completed"
    },
    "tags": []
   },
   "outputs": [],
   "source": [
    "# remove columns with values that contain ':' or '-'\n",
    "for _df in [df_train, df_test]:\n",
    "    for col in _df.select_dtypes(object).columns:\n",
    "        if any(_df[col].str.contains(':', na=False)):\n",
    "            _df.drop(col, axis=1, inplace=True)\n",
    "            continue\n",
    "        if any(_df[col].str.contains('-', na=False)):\n",
    "            _df.drop(col, axis=1, inplace=True)\n",
    "            continue"
   ]
  },
  {
   "cell_type": "code",
   "execution_count": 17,
   "id": "4cb41c85",
   "metadata": {
    "execution": {
     "iopub.execute_input": "2022-09-01T17:31:06.228308Z",
     "iopub.status.busy": "2022-09-01T17:31:06.227877Z",
     "iopub.status.idle": "2022-09-01T17:31:06.243985Z",
     "shell.execute_reply": "2022-09-01T17:31:06.242555Z"
    },
    "papermill": {
     "duration": 0.035086,
     "end_time": "2022-09-01T17:31:06.246785",
     "exception": false,
     "start_time": "2022-09-01T17:31:06.211699",
     "status": "completed"
    },
    "tags": []
   },
   "outputs": [],
   "source": [
    "# removing additional columns\n",
    "cols_to_drop = ['gs_game_day_of_week', 'gs_game_date', 'gs_game_location', 'gs_week_number']\n",
    "for _df in [df_train, df_test]:\n",
    "        for _col in cols_to_drop:\n",
    "            try:\n",
    "                _df.drop(_col, axis=1, inplace=True)\n",
    "            except KeyError as e:\n",
    "                print(e)\n",
    "                continue"
   ]
  },
  {
   "cell_type": "code",
   "execution_count": 18,
   "id": "0aa37df8",
   "metadata": {
    "execution": {
     "iopub.execute_input": "2022-09-01T17:31:06.286715Z",
     "iopub.status.busy": "2022-09-01T17:31:06.286255Z",
     "iopub.status.idle": "2022-09-01T17:31:06.297204Z",
     "shell.execute_reply": "2022-09-01T17:31:06.296136Z"
    },
    "papermill": {
     "duration": 0.033391,
     "end_time": "2022-09-01T17:31:06.300435",
     "exception": false,
     "start_time": "2022-09-01T17:31:06.267044",
     "status": "completed"
    },
    "tags": []
   },
   "outputs": [],
   "source": [
    "# target encoding\n",
    "target_encoder = {'L': 0, 'W': 1}\n",
    "df_train[target] = df_train[target].map(target_encoder)\n",
    "\n",
    "# col names\n",
    "cat_cols = df_train.select_dtypes(object).columns.tolist()\n",
    "num_cols = df_train.select_dtypes(np.number).columns.tolist()"
   ]
  },
  {
   "cell_type": "code",
   "execution_count": 19,
   "id": "0bae1b40",
   "metadata": {
    "execution": {
     "iopub.execute_input": "2022-09-01T17:31:06.340204Z",
     "iopub.status.busy": "2022-09-01T17:31:06.339122Z",
     "iopub.status.idle": "2022-09-01T17:31:06.346162Z",
     "shell.execute_reply": "2022-09-01T17:31:06.344959Z"
    },
    "papermill": {
     "duration": 0.027567,
     "end_time": "2022-09-01T17:31:06.349008",
     "exception": false,
     "start_time": "2022-09-01T17:31:06.321441",
     "status": "completed"
    },
    "tags": []
   },
   "outputs": [],
   "source": [
    "# correlation threshold\n",
    "if bool(corr_threshold) & encode_target:\n",
    "    _corr = df_train[num_cols].corrwith(df_train[target])\n",
    "    correlated_cols = _corr[(_corr >= corr_threshold) & (_corr != 1)].index.tolist()\n",
    "else:\n",
    "    correlated_cols = num_cols"
   ]
  },
  {
   "cell_type": "code",
   "execution_count": 20,
   "id": "2c1f54c4",
   "metadata": {
    "execution": {
     "iopub.execute_input": "2022-09-01T17:31:06.384875Z",
     "iopub.status.busy": "2022-09-01T17:31:06.384094Z",
     "iopub.status.idle": "2022-09-01T17:31:06.388822Z",
     "shell.execute_reply": "2022-09-01T17:31:06.387938Z"
    },
    "papermill": {
     "duration": 0.023627,
     "end_time": "2022-09-01T17:31:06.390976",
     "exception": false,
     "start_time": "2022-09-01T17:31:06.367349",
     "status": "completed"
    },
    "tags": []
   },
   "outputs": [],
   "source": [
    "# x & y\n",
    "cols_to_use = cat_cols + correlated_cols\n",
    "#     if 'gs_id' not in cols_to_use:\n",
    "#         cols_to_use.append('gs_id')\n",
    "\n",
    "if target in cols_to_use:\n",
    "    cols_to_use.remove(target)"
   ]
  },
  {
   "cell_type": "code",
   "execution_count": 21,
   "id": "6c686c44",
   "metadata": {
    "execution": {
     "iopub.execute_input": "2022-09-01T17:31:06.423658Z",
     "iopub.status.busy": "2022-09-01T17:31:06.423051Z",
     "iopub.status.idle": "2022-09-01T17:31:06.432656Z",
     "shell.execute_reply": "2022-09-01T17:31:06.431695Z"
    },
    "papermill": {
     "duration": 0.028843,
     "end_time": "2022-09-01T17:31:06.435100",
     "exception": false,
     "start_time": "2022-09-01T17:31:06.406257",
     "status": "completed"
    },
    "tags": []
   },
   "outputs": [],
   "source": [
    "x_final = df_train.copy().drop(target, axis=1)\n",
    "x_final = x_final[cols_to_use]\n",
    "y_final = df_train[target]\n",
    "\n",
    "df_test = df_test[cols_to_use]"
   ]
  },
  {
   "cell_type": "code",
   "execution_count": 22,
   "id": "9ed78667",
   "metadata": {
    "execution": {
     "iopub.execute_input": "2022-09-01T17:31:06.466603Z",
     "iopub.status.busy": "2022-09-01T17:31:06.466004Z",
     "iopub.status.idle": "2022-09-01T17:31:06.471776Z",
     "shell.execute_reply": "2022-09-01T17:31:06.471005Z"
    },
    "papermill": {
     "duration": 0.024343,
     "end_time": "2022-09-01T17:31:06.474050",
     "exception": false,
     "start_time": "2022-09-01T17:31:06.449707",
     "status": "completed"
    },
    "tags": []
   },
   "outputs": [
    {
     "data": {
      "text/plain": [
       "((526, 254), (526,), (52, 254), (52,))"
      ]
     },
     "execution_count": 22,
     "metadata": {},
     "output_type": "execute_result"
    }
   ],
   "source": [
    "x_final.shape, y_final.shape, df_test.shape, df_test_labels.shape"
   ]
  },
  {
   "cell_type": "markdown",
   "id": "64827f78",
   "metadata": {
    "papermill": {
     "duration": 0.014345,
     "end_time": "2022-09-01T17:31:06.503143",
     "exception": false,
     "start_time": "2022-09-01T17:31:06.488798",
     "status": "completed"
    },
    "tags": []
   },
   "source": [
    "---"
   ]
  },
  {
   "cell_type": "markdown",
   "id": "753ac1c9",
   "metadata": {
    "papermill": {
     "duration": 0.014464,
     "end_time": "2022-09-01T17:31:06.532403",
     "exception": false,
     "start_time": "2022-09-01T17:31:06.517939",
     "status": "completed"
    },
    "tags": []
   },
   "source": [
    "# Separacao dos anos"
   ]
  },
  {
   "cell_type": "markdown",
   "id": "402c3557",
   "metadata": {
    "papermill": {
     "duration": 0.014503,
     "end_time": "2022-09-01T17:31:06.561680",
     "exception": false,
     "start_time": "2022-09-01T17:31:06.547177",
     "status": "completed"
    },
    "tags": []
   },
   "source": [
    "## Unindo dados de treino de teste"
   ]
  },
  {
   "cell_type": "code",
   "execution_count": 23,
   "id": "788527a0",
   "metadata": {
    "execution": {
     "iopub.execute_input": "2022-09-01T17:31:06.593271Z",
     "iopub.status.busy": "2022-09-01T17:31:06.592631Z",
     "iopub.status.idle": "2022-09-01T17:31:06.598053Z",
     "shell.execute_reply": "2022-09-01T17:31:06.597108Z"
    },
    "papermill": {
     "duration": 0.023798,
     "end_time": "2022-09-01T17:31:06.600120",
     "exception": false,
     "start_time": "2022-09-01T17:31:06.576322",
     "status": "completed"
    },
    "tags": []
   },
   "outputs": [],
   "source": [
    "x_train_full = x_final.copy()\n",
    "\n",
    "x_train_full['winorlose'] = y_final"
   ]
  },
  {
   "cell_type": "code",
   "execution_count": 24,
   "id": "25bb819b",
   "metadata": {
    "execution": {
     "iopub.execute_input": "2022-09-01T17:31:06.631963Z",
     "iopub.status.busy": "2022-09-01T17:31:06.631277Z",
     "iopub.status.idle": "2022-09-01T17:31:06.637318Z",
     "shell.execute_reply": "2022-09-01T17:31:06.636175Z"
    },
    "papermill": {
     "duration": 0.024911,
     "end_time": "2022-09-01T17:31:06.639828",
     "exception": false,
     "start_time": "2022-09-01T17:31:06.614917",
     "status": "completed"
    },
    "tags": []
   },
   "outputs": [],
   "source": [
    "x_test_full = df_test.copy()\n",
    "\n",
    "x_test_full['winorlose'] = df_test_labels"
   ]
  },
  {
   "cell_type": "code",
   "execution_count": 25,
   "id": "75f13dfc",
   "metadata": {
    "execution": {
     "iopub.execute_input": "2022-09-01T17:31:06.671675Z",
     "iopub.status.busy": "2022-09-01T17:31:06.671039Z",
     "iopub.status.idle": "2022-09-01T17:31:06.689817Z",
     "shell.execute_reply": "2022-09-01T17:31:06.688919Z"
    },
    "papermill": {
     "duration": 0.037678,
     "end_time": "2022-09-01T17:31:06.692275",
     "exception": false,
     "start_time": "2022-09-01T17:31:06.654597",
     "status": "completed"
    },
    "tags": []
   },
   "outputs": [],
   "source": [
    "x_train_full.shape, x_test_full.shape\n",
    "\n",
    "df_full = pd.concat([x_train_full, x_test_full])"
   ]
  },
  {
   "cell_type": "markdown",
   "id": "8edc3db1",
   "metadata": {
    "papermill": {
     "duration": 0.014925,
     "end_time": "2022-09-01T17:31:06.721923",
     "exception": false,
     "start_time": "2022-09-01T17:31:06.706998",
     "status": "completed"
    },
    "tags": []
   },
   "source": [
    "## Separando anos"
   ]
  },
  {
   "cell_type": "code",
   "execution_count": 26,
   "id": "98dbd108",
   "metadata": {
    "execution": {
     "iopub.execute_input": "2022-09-01T17:31:06.754526Z",
     "iopub.status.busy": "2022-09-01T17:31:06.753920Z",
     "iopub.status.idle": "2022-09-01T17:31:06.776274Z",
     "shell.execute_reply": "2022-09-01T17:31:06.775042Z"
    },
    "papermill": {
     "duration": 0.041546,
     "end_time": "2022-09-01T17:31:06.778852",
     "exception": false,
     "start_time": "2022-09-01T17:31:06.737306",
     "status": "completed"
    },
    "tags": []
   },
   "outputs": [],
   "source": [
    "x1970_2017 = df_full[df_full['gs_year'] <= 2017].drop('winorlose', axis=1)\n",
    "y1970_2017 = df_full[df_full['gs_year'] <= 2017]['winorlose']\n",
    "\n",
    "x2018 = df_full[df_full['gs_year'] == 2018].drop('winorlose', axis=1)\n",
    "y2018 = df_full[df_full['gs_year'] == 2018]['winorlose']\n",
    "\n",
    "x2019 = df_full[df_full['gs_year'] == 2019].drop('winorlose', axis=1)\n",
    "y2019 = df_full[df_full['gs_year'] == 2019]['winorlose']\n",
    "\n",
    "x2020 = df_full[df_full['gs_year'] == 2020].drop('winorlose', axis=1)\n",
    "y2020 = df_full[df_full['gs_year'] == 2020]['winorlose']\n",
    "\n",
    "x2021 = df_full[df_full['gs_year'] == 2021].drop('winorlose', axis=1)\n",
    "y2021 = df_full[df_full['gs_year'] == 2021]['winorlose']"
   ]
  },
  {
   "cell_type": "markdown",
   "id": "6413e9c9",
   "metadata": {
    "papermill": {
     "duration": 0.015162,
     "end_time": "2022-09-01T17:31:06.808795",
     "exception": false,
     "start_time": "2022-09-01T17:31:06.793633",
     "status": "completed"
    },
    "tags": []
   },
   "source": [
    "---"
   ]
  },
  {
   "cell_type": "markdown",
   "id": "c3c179af",
   "metadata": {
    "papermill": {
     "duration": 0.014319,
     "end_time": "2022-09-01T17:31:06.837886",
     "exception": false,
     "start_time": "2022-09-01T17:31:06.823567",
     "status": "completed"
    },
    "tags": []
   },
   "source": [
    "# Pipeline pre-processamento"
   ]
  },
  {
   "cell_type": "code",
   "execution_count": 27,
   "id": "acfc3e93",
   "metadata": {
    "execution": {
     "iopub.execute_input": "2022-09-01T17:31:06.868932Z",
     "iopub.status.busy": "2022-09-01T17:31:06.868484Z",
     "iopub.status.idle": "2022-09-01T17:31:07.008982Z",
     "shell.execute_reply": "2022-09-01T17:31:07.007872Z"
    },
    "papermill": {
     "duration": 0.159079,
     "end_time": "2022-09-01T17:31:07.011653",
     "exception": false,
     "start_time": "2022-09-01T17:31:06.852574",
     "status": "completed"
    },
    "tags": []
   },
   "outputs": [],
   "source": [
    "from sklearn.pipeline import make_pipeline, FeatureUnion\n",
    "from sklearn.preprocessing import RobustScaler, OrdinalEncoder\n",
    "from sklearn.compose import make_column_transformer, make_column_selector\n",
    "from sklearn.impute import SimpleImputer"
   ]
  },
  {
   "cell_type": "code",
   "execution_count": 28,
   "id": "adba1307",
   "metadata": {
    "execution": {
     "iopub.execute_input": "2022-09-01T17:31:07.043365Z",
     "iopub.status.busy": "2022-09-01T17:31:07.042986Z",
     "iopub.status.idle": "2022-09-01T17:31:07.048995Z",
     "shell.execute_reply": "2022-09-01T17:31:07.047777Z"
    },
    "papermill": {
     "duration": 0.0247,
     "end_time": "2022-09-01T17:31:07.051216",
     "exception": false,
     "start_time": "2022-09-01T17:31:07.026516",
     "status": "completed"
    },
    "tags": []
   },
   "outputs": [],
   "source": [
    "preprocess_pipeline = make_column_transformer(\n",
    "    (SimpleImputer(strategy='mean', fill_value='constant'), make_column_selector(dtype_include=np.number)),\n",
    "    (OrdinalEncoder(handle_unknown='use_encoded_value', unknown_value=-1), make_column_selector(dtype_include=object))\n",
    ")"
   ]
  },
  {
   "cell_type": "markdown",
   "id": "1e4a6ee1",
   "metadata": {
    "papermill": {
     "duration": 0.014352,
     "end_time": "2022-09-01T17:31:07.080225",
     "exception": false,
     "start_time": "2022-09-01T17:31:07.065873",
     "status": "completed"
    },
    "tags": []
   },
   "source": [
    "# Classificadores"
   ]
  },
  {
   "cell_type": "code",
   "execution_count": 29,
   "id": "0ff163bb",
   "metadata": {
    "execution": {
     "iopub.execute_input": "2022-09-01T17:31:07.112750Z",
     "iopub.status.busy": "2022-09-01T17:31:07.111672Z",
     "iopub.status.idle": "2022-09-01T17:31:07.116564Z",
     "shell.execute_reply": "2022-09-01T17:31:07.115720Z"
    },
    "papermill": {
     "duration": 0.023719,
     "end_time": "2022-09-01T17:31:07.118868",
     "exception": false,
     "start_time": "2022-09-01T17:31:07.095149",
     "status": "completed"
    },
    "tags": []
   },
   "outputs": [],
   "source": [
    "RANDOM_STATE = 22"
   ]
  },
  {
   "cell_type": "markdown",
   "id": "454f1870",
   "metadata": {
    "papermill": {
     "duration": 0.014336,
     "end_time": "2022-09-01T17:31:07.148051",
     "exception": false,
     "start_time": "2022-09-01T17:31:07.133715",
     "status": "completed"
    },
    "tags": []
   },
   "source": [
    "## Gaussian Naive Bayes"
   ]
  },
  {
   "cell_type": "code",
   "execution_count": 30,
   "id": "f3062e94",
   "metadata": {
    "execution": {
     "iopub.execute_input": "2022-09-01T17:31:07.179953Z",
     "iopub.status.busy": "2022-09-01T17:31:07.178759Z",
     "iopub.status.idle": "2022-09-01T17:31:07.186323Z",
     "shell.execute_reply": "2022-09-01T17:31:07.185461Z"
    },
    "papermill": {
     "duration": 0.025857,
     "end_time": "2022-09-01T17:31:07.188702",
     "exception": false,
     "start_time": "2022-09-01T17:31:07.162845",
     "status": "completed"
    },
    "tags": []
   },
   "outputs": [],
   "source": [
    "from sklearn.naive_bayes import GaussianNB"
   ]
  },
  {
   "cell_type": "code",
   "execution_count": 31,
   "id": "6cfef5eb",
   "metadata": {
    "execution": {
     "iopub.execute_input": "2022-09-01T17:31:07.220157Z",
     "iopub.status.busy": "2022-09-01T17:31:07.219181Z",
     "iopub.status.idle": "2022-09-01T17:31:07.223826Z",
     "shell.execute_reply": "2022-09-01T17:31:07.223022Z"
    },
    "papermill": {
     "duration": 0.022406,
     "end_time": "2022-09-01T17:31:07.225855",
     "exception": false,
     "start_time": "2022-09-01T17:31:07.203449",
     "status": "completed"
    },
    "tags": []
   },
   "outputs": [],
   "source": [
    "clf_gaussian_nb = GaussianNB()"
   ]
  },
  {
   "cell_type": "markdown",
   "id": "1eca7d21",
   "metadata": {
    "papermill": {
     "duration": 0.014433,
     "end_time": "2022-09-01T17:31:07.255104",
     "exception": false,
     "start_time": "2022-09-01T17:31:07.240671",
     "status": "completed"
    },
    "tags": []
   },
   "source": [
    "## Multi-layer perceptron"
   ]
  },
  {
   "cell_type": "code",
   "execution_count": 32,
   "id": "21ebee03",
   "metadata": {
    "execution": {
     "iopub.execute_input": "2022-09-01T17:31:07.286594Z",
     "iopub.status.busy": "2022-09-01T17:31:07.285890Z",
     "iopub.status.idle": "2022-09-01T17:31:07.298835Z",
     "shell.execute_reply": "2022-09-01T17:31:07.297692Z"
    },
    "papermill": {
     "duration": 0.03157,
     "end_time": "2022-09-01T17:31:07.301482",
     "exception": false,
     "start_time": "2022-09-01T17:31:07.269912",
     "status": "completed"
    },
    "tags": []
   },
   "outputs": [],
   "source": [
    "from sklearn.neural_network import MLPClassifier"
   ]
  },
  {
   "cell_type": "code",
   "execution_count": 33,
   "id": "bfe44db5",
   "metadata": {
    "execution": {
     "iopub.execute_input": "2022-09-01T17:31:07.332938Z",
     "iopub.status.busy": "2022-09-01T17:31:07.332489Z",
     "iopub.status.idle": "2022-09-01T17:31:07.338188Z",
     "shell.execute_reply": "2022-09-01T17:31:07.337012Z"
    },
    "papermill": {
     "duration": 0.024617,
     "end_time": "2022-09-01T17:31:07.341035",
     "exception": false,
     "start_time": "2022-09-01T17:31:07.316418",
     "status": "completed"
    },
    "tags": []
   },
   "outputs": [],
   "source": [
    "clf_mlp = MLPClassifier(\n",
    "    max_iter=1000, \n",
    "    n_iter_no_change=50, \n",
    "    warm_start=True, \n",
    "    random_state=RANDOM_STATE\n",
    ")"
   ]
  },
  {
   "cell_type": "markdown",
   "id": "565c7a5b",
   "metadata": {
    "papermill": {
     "duration": 0.014598,
     "end_time": "2022-09-01T17:31:07.370708",
     "exception": false,
     "start_time": "2022-09-01T17:31:07.356110",
     "status": "completed"
    },
    "tags": []
   },
   "source": [
    "## Random Forest Classifier"
   ]
  },
  {
   "cell_type": "code",
   "execution_count": 34,
   "id": "f27546d6",
   "metadata": {
    "execution": {
     "iopub.execute_input": "2022-09-01T17:31:07.402406Z",
     "iopub.status.busy": "2022-09-01T17:31:07.401616Z",
     "iopub.status.idle": "2022-09-01T17:31:07.500659Z",
     "shell.execute_reply": "2022-09-01T17:31:07.499373Z"
    },
    "papermill": {
     "duration": 0.11799,
     "end_time": "2022-09-01T17:31:07.503464",
     "exception": false,
     "start_time": "2022-09-01T17:31:07.385474",
     "status": "completed"
    },
    "tags": []
   },
   "outputs": [],
   "source": [
    "from sklearn.ensemble import RandomForestClassifier"
   ]
  },
  {
   "cell_type": "code",
   "execution_count": 35,
   "id": "63a64c7f",
   "metadata": {
    "execution": {
     "iopub.execute_input": "2022-09-01T17:31:07.534831Z",
     "iopub.status.busy": "2022-09-01T17:31:07.534429Z",
     "iopub.status.idle": "2022-09-01T17:31:07.540111Z",
     "shell.execute_reply": "2022-09-01T17:31:07.538877Z"
    },
    "papermill": {
     "duration": 0.023929,
     "end_time": "2022-09-01T17:31:07.542441",
     "exception": false,
     "start_time": "2022-09-01T17:31:07.518512",
     "status": "completed"
    },
    "tags": []
   },
   "outputs": [],
   "source": [
    "clf_rfc = RandomForestClassifier(\n",
    "    n_estimators=100,\n",
    "    min_samples_split=10,\n",
    "    min_samples_leaf=1,\n",
    "    max_features='auto',\n",
    "    max_depth=100,\n",
    "    bootstrap=False,\n",
    "    warm_start=True,\n",
    "    random_state=RANDOM_STATE\n",
    ")"
   ]
  },
  {
   "cell_type": "markdown",
   "id": "a047393f",
   "metadata": {
    "papermill": {
     "duration": 0.014514,
     "end_time": "2022-09-01T17:31:07.571666",
     "exception": false,
     "start_time": "2022-09-01T17:31:07.557152",
     "status": "completed"
    },
    "tags": []
   },
   "source": [
    "## Keras"
   ]
  },
  {
   "cell_type": "markdown",
   "id": "5eb4f81f",
   "metadata": {
    "papermill": {
     "duration": 0.014308,
     "end_time": "2022-09-01T17:31:07.600699",
     "exception": false,
     "start_time": "2022-09-01T17:31:07.586391",
     "status": "completed"
    },
    "tags": []
   },
   "source": [
    "Keras se mostrou muito inconsistente. Para os testes com multiplos classificadores, decidi nao utiliza-lo."
   ]
  },
  {
   "cell_type": "code",
   "execution_count": 36,
   "id": "b44441a4",
   "metadata": {
    "execution": {
     "iopub.execute_input": "2022-09-01T17:31:07.632234Z",
     "iopub.status.busy": "2022-09-01T17:31:07.631290Z",
     "iopub.status.idle": "2022-09-01T17:31:07.636194Z",
     "shell.execute_reply": "2022-09-01T17:31:07.635402Z"
    },
    "papermill": {
     "duration": 0.023267,
     "end_time": "2022-09-01T17:31:07.638626",
     "exception": false,
     "start_time": "2022-09-01T17:31:07.615359",
     "status": "completed"
    },
    "tags": []
   },
   "outputs": [],
   "source": [
    "# from keras.models import Sequential\n",
    "# from keras.layers import Dense, Activation, Flatten\n",
    "# from keras.wrappers.scikit_learn import KerasClassifier"
   ]
  },
  {
   "cell_type": "code",
   "execution_count": 37,
   "id": "e1fcebb4",
   "metadata": {
    "execution": {
     "iopub.execute_input": "2022-09-01T17:31:07.669964Z",
     "iopub.status.busy": "2022-09-01T17:31:07.669544Z",
     "iopub.status.idle": "2022-09-01T17:31:07.674446Z",
     "shell.execute_reply": "2022-09-01T17:31:07.673137Z"
    },
    "papermill": {
     "duration": 0.023347,
     "end_time": "2022-09-01T17:31:07.676622",
     "exception": false,
     "start_time": "2022-09-01T17:31:07.653275",
     "status": "completed"
    },
    "tags": []
   },
   "outputs": [],
   "source": [
    "# def build_keras_model():\n",
    "#     clf = Sequential()\n",
    "#     clf.add(Dense(128, input_dim = x_final.shape[1], activation='relu'))\n",
    "\n",
    "#     clf.add(Dense(256, activation='relu'))\n",
    "#     clf.add(Dense(256, activation='relu'))\n",
    "#     clf.add(Dense(256, activation='relu'))\n",
    "\n",
    "#     clf.add(Dense(1, activation='sigmoid'))\n",
    "\n",
    "#     clf.compile(\n",
    "#         loss='binary_crossentropy', \n",
    "#         optimizer='adam', \n",
    "#         metrics=['accuracy']\n",
    "#         )\n",
    "    \n",
    "#     return clf"
   ]
  },
  {
   "cell_type": "code",
   "execution_count": 38,
   "id": "2b379652",
   "metadata": {
    "execution": {
     "iopub.execute_input": "2022-09-01T17:31:07.707954Z",
     "iopub.status.busy": "2022-09-01T17:31:07.707004Z",
     "iopub.status.idle": "2022-09-01T17:31:07.711784Z",
     "shell.execute_reply": "2022-09-01T17:31:07.710560Z"
    },
    "papermill": {
     "duration": 0.022625,
     "end_time": "2022-09-01T17:31:07.713854",
     "exception": false,
     "start_time": "2022-09-01T17:31:07.691229",
     "status": "completed"
    },
    "tags": []
   },
   "outputs": [],
   "source": [
    "# clf_keras = KerasClassifier(build_fn=build_keras_model, epochs=500, batch_size=32, verbose=0)\n",
    "# clf_keras._estimator_type = \"classifier\""
   ]
  },
  {
   "cell_type": "markdown",
   "id": "2cdd80a7",
   "metadata": {
    "papermill": {
     "duration": 0.014354,
     "end_time": "2022-09-01T17:31:07.742974",
     "exception": false,
     "start_time": "2022-09-01T17:31:07.728620",
     "status": "completed"
    },
    "tags": []
   },
   "source": [
    "# Combinando os classificadores"
   ]
  },
  {
   "cell_type": "code",
   "execution_count": 39,
   "id": "85f01bfb",
   "metadata": {
    "execution": {
     "iopub.execute_input": "2022-09-01T17:31:07.774533Z",
     "iopub.status.busy": "2022-09-01T17:31:07.773819Z",
     "iopub.status.idle": "2022-09-01T17:31:07.778949Z",
     "shell.execute_reply": "2022-09-01T17:31:07.778140Z"
    },
    "papermill": {
     "duration": 0.023438,
     "end_time": "2022-09-01T17:31:07.781083",
     "exception": false,
     "start_time": "2022-09-01T17:31:07.757645",
     "status": "completed"
    },
    "tags": []
   },
   "outputs": [],
   "source": [
    "from sklearn.ensemble import StackingClassifier\n",
    "from sklearn.linear_model import LogisticRegression"
   ]
  },
  {
   "cell_type": "code",
   "execution_count": 40,
   "id": "300bb2ce",
   "metadata": {
    "execution": {
     "iopub.execute_input": "2022-09-01T17:31:07.812951Z",
     "iopub.status.busy": "2022-09-01T17:31:07.811728Z",
     "iopub.status.idle": "2022-09-01T17:31:07.817791Z",
     "shell.execute_reply": "2022-09-01T17:31:07.816956Z"
    },
    "papermill": {
     "duration": 0.024245,
     "end_time": "2022-09-01T17:31:07.819963",
     "exception": false,
     "start_time": "2022-09-01T17:31:07.795718",
     "status": "completed"
    },
    "tags": []
   },
   "outputs": [],
   "source": [
    "def make_new_stacking_pipeline():\n",
    "    stacking_clf = StackingClassifier(\n",
    "        estimators=[\n",
    "            ('gaussian_nb', clf_gaussian_nb),\n",
    "            ('mlp', clf_mlp),\n",
    "            # ('keras', clf_keras)\n",
    "            ('rfc', clf_rfc)\n",
    "        ],\n",
    "        final_estimator=LogisticRegression()\n",
    "    )\n",
    "    pipeline = make_pipeline(\n",
    "        preprocess_pipeline,\n",
    "        RobustScaler(),\n",
    "        stacking_clf\n",
    "    )\n",
    "\n",
    "    return pipeline"
   ]
  },
  {
   "cell_type": "markdown",
   "id": "5b0386fb",
   "metadata": {
    "papermill": {
     "duration": 0.014498,
     "end_time": "2022-09-01T17:31:07.849158",
     "exception": false,
     "start_time": "2022-09-01T17:31:07.834660",
     "status": "completed"
    },
    "tags": []
   },
   "source": [
    "## Treino 2010-2019, teste com 2020-2021"
   ]
  },
  {
   "cell_type": "code",
   "execution_count": 41,
   "id": "04bc123b",
   "metadata": {
    "execution": {
     "iopub.execute_input": "2022-09-01T17:31:07.880796Z",
     "iopub.status.busy": "2022-09-01T17:31:07.879669Z",
     "iopub.status.idle": "2022-09-01T17:31:07.897762Z",
     "shell.execute_reply": "2022-09-01T17:31:07.896783Z"
    },
    "papermill": {
     "duration": 0.036374,
     "end_time": "2022-09-01T17:31:07.900226",
     "exception": false,
     "start_time": "2022-09-01T17:31:07.863852",
     "status": "completed"
    },
    "tags": []
   },
   "outputs": [],
   "source": [
    "x2010_2019 = df_full[(df_full['gs_year'] >= 2010) & df_full['gs_year'] <= 2019].drop('winorlose', axis=1)\n",
    "y2010_2019 = df_full[(df_full['gs_year'] >= 2010) & df_full['gs_year'] <= 2019]['winorlose']\n",
    "\n",
    "x2020_2021 = df_full[df_full['gs_year'].isin([2020, 2021])].drop('winorlose', axis=1)\n",
    "y2020_2021 = df_full[df_full['gs_year'].isin([2020, 2021])]['winorlose']\n"
   ]
  },
  {
   "cell_type": "code",
   "execution_count": 42,
   "id": "d3434c06",
   "metadata": {
    "execution": {
     "iopub.execute_input": "2022-09-01T17:31:07.932375Z",
     "iopub.status.busy": "2022-09-01T17:31:07.931131Z",
     "iopub.status.idle": "2022-09-01T17:31:07.936154Z",
     "shell.execute_reply": "2022-09-01T17:31:07.935316Z"
    },
    "papermill": {
     "duration": 0.023422,
     "end_time": "2022-09-01T17:31:07.938388",
     "exception": false,
     "start_time": "2022-09-01T17:31:07.914966",
     "status": "completed"
    },
    "tags": []
   },
   "outputs": [],
   "source": [
    "stack_pipeline = make_new_stacking_pipeline()"
   ]
  },
  {
   "cell_type": "code",
   "execution_count": 43,
   "id": "cd12def8",
   "metadata": {
    "execution": {
     "iopub.execute_input": "2022-09-01T17:31:07.970106Z",
     "iopub.status.busy": "2022-09-01T17:31:07.969296Z",
     "iopub.status.idle": "2022-09-01T17:31:26.002410Z",
     "shell.execute_reply": "2022-09-01T17:31:26.001014Z"
    },
    "papermill": {
     "duration": 18.051861,
     "end_time": "2022-09-01T17:31:26.005080",
     "exception": false,
     "start_time": "2022-09-01T17:31:07.953219",
     "status": "completed"
    },
    "tags": []
   },
   "outputs": [
    {
     "data": {
      "text/plain": [
       "Pipeline(steps=[('columntransformer',\n",
       "                 ColumnTransformer(transformers=[('simpleimputer',\n",
       "                                                  SimpleImputer(fill_value='constant'),\n",
       "                                                  <sklearn.compose._column_transformer.make_column_selector object at 0x7f72164d01d0>),\n",
       "                                                 ('ordinalencoder',\n",
       "                                                  OrdinalEncoder(handle_unknown='use_encoded_value',\n",
       "                                                                 unknown_value=-1),\n",
       "                                                  <sklearn.compose._column_transformer.make_column_selector ob...\n",
       "                ('robustscaler', RobustScaler()),\n",
       "                ('stackingclassifier',\n",
       "                 StackingClassifier(estimators=[('gaussian_nb', GaussianNB()),\n",
       "                                                ('mlp',\n",
       "                                                 MLPClassifier(max_iter=1000,\n",
       "                                                               n_iter_no_change=50,\n",
       "                                                               random_state=22,\n",
       "                                                               warm_start=True)),\n",
       "                                                ('rfc',\n",
       "                                                 RandomForestClassifier(bootstrap=False,\n",
       "                                                                        max_depth=100,\n",
       "                                                                        min_samples_split=10,\n",
       "                                                                        random_state=22,\n",
       "                                                                        warm_start=True))],\n",
       "                                    final_estimator=LogisticRegression()))])"
      ]
     },
     "execution_count": 43,
     "metadata": {},
     "output_type": "execute_result"
    }
   ],
   "source": [
    "stack_pipeline.fit(x2010_2019, y2010_2019)"
   ]
  },
  {
   "cell_type": "code",
   "execution_count": 44,
   "id": "76edf0d4",
   "metadata": {
    "execution": {
     "iopub.execute_input": "2022-09-01T17:31:26.037505Z",
     "iopub.status.busy": "2022-09-01T17:31:26.037104Z",
     "iopub.status.idle": "2022-09-01T17:31:26.395889Z",
     "shell.execute_reply": "2022-09-01T17:31:26.394498Z"
    },
    "papermill": {
     "duration": 0.377998,
     "end_time": "2022-09-01T17:31:26.398671",
     "exception": false,
     "start_time": "2022-09-01T17:31:26.020673",
     "status": "completed"
    },
    "tags": []
   },
   "outputs": [
    {
     "name": "stderr",
     "output_type": "stream",
     "text": [
      "/opt/conda/lib/python3.7/site-packages/sklearn/metrics/_classification.py:1318: UndefinedMetricWarning: Precision is ill-defined and being set to 0.0 due to no predicted samples. Use `zero_division` parameter to control this behavior.\n",
      "  _warn_prf(average, modifier, msg_start, len(result))\n"
     ]
    },
    {
     "data": {
      "text/plain": [
       "<sklearn.metrics._plot.confusion_matrix.ConfusionMatrixDisplay at 0x7f7215ff2d10>"
      ]
     },
     "metadata": {},
     "output_type": "display_data"
    },
    {
     "data": {
      "text/html": [
       "<div>\n",
       "<style scoped>\n",
       "    .dataframe tbody tr th:only-of-type {\n",
       "        vertical-align: middle;\n",
       "    }\n",
       "\n",
       "    .dataframe tbody tr th {\n",
       "        vertical-align: top;\n",
       "    }\n",
       "\n",
       "    .dataframe thead th {\n",
       "        text-align: right;\n",
       "    }\n",
       "</style>\n",
       "<table border=\"1\" class=\"dataframe\">\n",
       "  <thead>\n",
       "    <tr style=\"text-align: right;\">\n",
       "      <th></th>\n",
       "      <th>model_name</th>\n",
       "      <th>acc</th>\n",
       "      <th>bacc</th>\n",
       "      <th>precision</th>\n",
       "      <th>recall</th>\n",
       "      <th>f1score</th>\n",
       "    </tr>\n",
       "  </thead>\n",
       "  <tbody>\n",
       "    <tr>\n",
       "      <th>0</th>\n",
       "      <td>stacking_train_2010-2019</td>\n",
       "      <td>0.535714</td>\n",
       "      <td>0.5</td>\n",
       "      <td>0.0</td>\n",
       "      <td>0.0</td>\n",
       "      <td>0.0</td>\n",
       "    </tr>\n",
       "  </tbody>\n",
       "</table>\n",
       "</div>"
      ],
      "text/plain": [
       "                 model_name       acc  bacc  precision  recall  f1score\n",
       "0  stacking_train_2010-2019  0.535714   0.5        0.0     0.0      0.0"
      ]
     },
     "metadata": {},
     "output_type": "display_data"
    },
    {
     "data": {
      "image/png": "[encoded data removed]",
      "text/plain": [
       "<Figure size 432x288 with 2 Axes>"
      ]
     },
     "metadata": {
      "needs_background": "light"
     },
     "output_type": "display_data"
    }
   ],
   "source": [
    "preds_2020_2021 = stack_pipeline.predict(x2020_2021)\n",
    "\n",
    "scores_2020_2021 = calculate_scores('stacking_train_2010-2019', y2020_2021, preds_2020_2021)"
   ]
  },
  {
   "cell_type": "markdown",
   "id": "660d1d06",
   "metadata": {
    "papermill": {
     "duration": 0.015176,
     "end_time": "2022-09-01T17:31:26.429395",
     "exception": false,
     "start_time": "2022-09-01T17:31:26.414219",
     "status": "completed"
    },
    "tags": []
   },
   "source": [
    "## Treino 2000-2018, teste com 2019-2021"
   ]
  },
  {
   "cell_type": "code",
   "execution_count": 45,
   "id": "85fae284",
   "metadata": {
    "execution": {
     "iopub.execute_input": "2022-09-01T17:31:26.462600Z",
     "iopub.status.busy": "2022-09-01T17:31:26.461779Z",
     "iopub.status.idle": "2022-09-01T17:31:26.475911Z",
     "shell.execute_reply": "2022-09-01T17:31:26.474684Z"
    },
    "papermill": {
     "duration": 0.033817,
     "end_time": "2022-09-01T17:31:26.478771",
     "exception": false,
     "start_time": "2022-09-01T17:31:26.444954",
     "status": "completed"
    },
    "tags": []
   },
   "outputs": [],
   "source": [
    "x2000_2018 = df_full[(df_full['gs_year'] >= 2000) & df_full['gs_year'] <= 2018].drop('winorlose', axis=1)\n",
    "y2000_2018 = df_full[(df_full['gs_year'] >= 2000) & df_full['gs_year'] <= 2018]['winorlose']\n",
    "\n",
    "x2019_2021 = df_full[df_full['gs_year'].isin([2019, 2020, 2021])].drop('winorlose', axis=1)\n",
    "y2019_2021 = df_full[df_full['gs_year'].isin([2019, 2020, 2021])]['winorlose']\n"
   ]
  },
  {
   "cell_type": "code",
   "execution_count": 46,
   "id": "c1238c71",
   "metadata": {
    "execution": {
     "iopub.execute_input": "2022-09-01T17:31:26.512721Z",
     "iopub.status.busy": "2022-09-01T17:31:26.511338Z",
     "iopub.status.idle": "2022-09-01T17:31:26.517680Z",
     "shell.execute_reply": "2022-09-01T17:31:26.516762Z"
    },
    "papermill": {
     "duration": 0.02572,
     "end_time": "2022-09-01T17:31:26.520091",
     "exception": false,
     "start_time": "2022-09-01T17:31:26.494371",
     "status": "completed"
    },
    "tags": []
   },
   "outputs": [],
   "source": [
    "stack_pipeline = make_new_stacking_pipeline()"
   ]
  },
  {
   "cell_type": "code",
   "execution_count": 47,
   "id": "838b9d32",
   "metadata": {
    "execution": {
     "iopub.execute_input": "2022-09-01T17:31:26.553915Z",
     "iopub.status.busy": "2022-09-01T17:31:26.553411Z",
     "iopub.status.idle": "2022-09-01T17:31:45.498922Z",
     "shell.execute_reply": "2022-09-01T17:31:45.497573Z"
    },
    "papermill": {
     "duration": 18.965031,
     "end_time": "2022-09-01T17:31:45.501473",
     "exception": false,
     "start_time": "2022-09-01T17:31:26.536442",
     "status": "completed"
    },
    "tags": []
   },
   "outputs": [
    {
     "data": {
      "text/plain": [
       "Pipeline(steps=[('columntransformer',\n",
       "                 ColumnTransformer(transformers=[('simpleimputer',\n",
       "                                                  SimpleImputer(fill_value='constant'),\n",
       "                                                  <sklearn.compose._column_transformer.make_column_selector object at 0x7f72164d01d0>),\n",
       "                                                 ('ordinalencoder',\n",
       "                                                  OrdinalEncoder(handle_unknown='use_encoded_value',\n",
       "                                                                 unknown_value=-1),\n",
       "                                                  <sklearn.compose._column_transformer.make_column_selector ob...\n",
       "                ('robustscaler', RobustScaler()),\n",
       "                ('stackingclassifier',\n",
       "                 StackingClassifier(estimators=[('gaussian_nb', GaussianNB()),\n",
       "                                                ('mlp',\n",
       "                                                 MLPClassifier(max_iter=1000,\n",
       "                                                               n_iter_no_change=50,\n",
       "                                                               random_state=22,\n",
       "                                                               warm_start=True)),\n",
       "                                                ('rfc',\n",
       "                                                 RandomForestClassifier(bootstrap=False,\n",
       "                                                                        max_depth=100,\n",
       "                                                                        min_samples_split=10,\n",
       "                                                                        random_state=22,\n",
       "                                                                        warm_start=True))],\n",
       "                                    final_estimator=LogisticRegression()))])"
      ]
     },
     "execution_count": 47,
     "metadata": {},
     "output_type": "execute_result"
    }
   ],
   "source": [
    "stack_pipeline.fit(x2000_2018, y2000_2018)"
   ]
  },
  {
   "cell_type": "code",
   "execution_count": 48,
   "id": "789b571d",
   "metadata": {
    "execution": {
     "iopub.execute_input": "2022-09-01T17:31:45.534688Z",
     "iopub.status.busy": "2022-09-01T17:31:45.533805Z",
     "iopub.status.idle": "2022-09-01T17:31:45.864136Z",
     "shell.execute_reply": "2022-09-01T17:31:45.862920Z"
    },
    "papermill": {
     "duration": 0.349909,
     "end_time": "2022-09-01T17:31:45.866969",
     "exception": false,
     "start_time": "2022-09-01T17:31:45.517060",
     "status": "completed"
    },
    "tags": []
   },
   "outputs": [
    {
     "name": "stderr",
     "output_type": "stream",
     "text": [
      "/opt/conda/lib/python3.7/site-packages/sklearn/metrics/_classification.py:1318: UndefinedMetricWarning: Precision is ill-defined and being set to 0.0 due to no predicted samples. Use `zero_division` parameter to control this behavior.\n",
      "  _warn_prf(average, modifier, msg_start, len(result))\n"
     ]
    },
    {
     "data": {
      "text/plain": [
       "<sklearn.metrics._plot.confusion_matrix.ConfusionMatrixDisplay at 0x7f7213d2fdd0>"
      ]
     },
     "metadata": {},
     "output_type": "display_data"
    },
    {
     "data": {
      "text/html": [
       "<div>\n",
       "<style scoped>\n",
       "    .dataframe tbody tr th:only-of-type {\n",
       "        vertical-align: middle;\n",
       "    }\n",
       "\n",
       "    .dataframe tbody tr th {\n",
       "        vertical-align: top;\n",
       "    }\n",
       "\n",
       "    .dataframe thead th {\n",
       "        text-align: right;\n",
       "    }\n",
       "</style>\n",
       "<table border=\"1\" class=\"dataframe\">\n",
       "  <thead>\n",
       "    <tr style=\"text-align: right;\">\n",
       "      <th></th>\n",
       "      <th>model_name</th>\n",
       "      <th>acc</th>\n",
       "      <th>bacc</th>\n",
       "      <th>precision</th>\n",
       "      <th>recall</th>\n",
       "      <th>f1score</th>\n",
       "    </tr>\n",
       "  </thead>\n",
       "  <tbody>\n",
       "    <tr>\n",
       "      <th>0</th>\n",
       "      <td>stacking_train_2010-2019</td>\n",
       "      <td>0.535714</td>\n",
       "      <td>0.5</td>\n",
       "      <td>0.0</td>\n",
       "      <td>0.0</td>\n",
       "      <td>0.0</td>\n",
       "    </tr>\n",
       "    <tr>\n",
       "      <th>1</th>\n",
       "      <td>stacking_train_2000-2018</td>\n",
       "      <td>0.550000</td>\n",
       "      <td>0.5</td>\n",
       "      <td>0.0</td>\n",
       "      <td>0.0</td>\n",
       "      <td>0.0</td>\n",
       "    </tr>\n",
       "  </tbody>\n",
       "</table>\n",
       "</div>"
      ],
      "text/plain": [
       "                 model_name       acc  bacc  precision  recall  f1score\n",
       "0  stacking_train_2010-2019  0.535714   0.5        0.0     0.0      0.0\n",
       "1  stacking_train_2000-2018  0.550000   0.5        0.0     0.0      0.0"
      ]
     },
     "metadata": {},
     "output_type": "display_data"
    },
    {
     "data": {
      "image/png": "[encoded data removed]",
      "text/plain": [
       "<Figure size 432x288 with 2 Axes>"
      ]
     },
     "metadata": {
      "needs_background": "light"
     },
     "output_type": "display_data"
    }
   ],
   "source": [
    "preds_2019_2021 = stack_pipeline.predict(x2019_2021)\n",
    "\n",
    "scores_2019_2021 = calculate_scores('stacking_train_2000-2018', y2019_2021, preds_2019_2021)"
   ]
  }
 ],
 "metadata": {
  "kernelspec": {
   "display_name": "Python 3",
   "language": "python",
   "name": "python3"
  },
  "language_info": {
   "codemirror_mode": {
    "name": "ipython",
    "version": 3
   },
   "file_extension": ".py",
   "mimetype": "text/x-python",
   "name": "python",
   "nbconvert_exporter": "python",
   "pygments_lexer": "ipython3",
   "version": "3.7.12"
  },
  "papermill": {
   "default_parameters": {},
   "duration": 52.008158,
   "end_time": "2022-09-01T17:31:46.606515",
   "environment_variables": {},
   "exception": null,
   "input_path": "__notebook__.ipynb",
   "output_path": "__notebook__.ipynb",
   "parameters": {},
   "start_time": "2022-09-01T17:30:54.598357",
   "version": "2.3.4"
  }
 },
 "nbformat": 4,
 "nbformat_minor": 5
}
