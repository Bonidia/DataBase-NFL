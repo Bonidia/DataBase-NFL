{
 "cells": [
  {
   "cell_type": "code",
   "execution_count": 1,
   "id": "a1fac004",
   "metadata": {
    "execution": {
     "iopub.execute_input": "2022-09-03T15:28:02.032294Z",
     "iopub.status.busy": "2022-09-03T15:28:02.031817Z",
     "iopub.status.idle": "2022-09-03T15:28:02.043135Z",
     "shell.execute_reply": "2022-09-03T15:28:02.042121Z"
    },
    "papermill": {
     "duration": 0.040032,
     "end_time": "2022-09-03T15:28:02.045560",
     "exception": false,
     "start_time": "2022-09-03T15:28:02.005528",
     "status": "completed"
    },
    "tags": []
   },
   "outputs": [],
   "source": [
    "import os\n",
    "import time\n",
    "import numpy as np\n",
    "import pandas as pd"
   ]
  },
  {
   "cell_type": "code",
   "execution_count": 2,
   "id": "8eb802f0",
   "metadata": {
    "execution": {
     "iopub.execute_input": "2022-09-03T15:28:02.089685Z",
     "iopub.status.busy": "2022-09-03T15:28:02.089192Z",
     "iopub.status.idle": "2022-09-03T15:28:02.095135Z",
     "shell.execute_reply": "2022-09-03T15:28:02.093932Z"
    },
    "papermill": {
     "duration": 0.032762,
     "end_time": "2022-09-03T15:28:02.099527",
     "exception": false,
     "start_time": "2022-09-03T15:28:02.066765",
     "status": "completed"
    },
    "tags": []
   },
   "outputs": [],
   "source": [
    "pd.set_option('display.max_rows', 100)\n",
    "pd.set_option('display.max_columns', 100)\n",
    "pd.set_option('display.width', 1000)"
   ]
  },
  {
   "cell_type": "code",
   "execution_count": 3,
   "id": "dcb8a5f9",
   "metadata": {
    "execution": {
     "iopub.execute_input": "2022-09-03T15:28:02.149882Z",
     "iopub.status.busy": "2022-09-03T15:28:02.149478Z",
     "iopub.status.idle": "2022-09-03T15:28:02.161906Z",
     "shell.execute_reply": "2022-09-03T15:28:02.160591Z"
    },
    "papermill": {
     "duration": 0.042694,
     "end_time": "2022-09-03T15:28:02.164721",
     "exception": false,
     "start_time": "2022-09-03T15:28:02.122027",
     "status": "completed"
    },
    "tags": []
   },
   "outputs": [
    {
     "name": "stdout",
     "output_type": "stream",
     "text": [
      "/kaggle/input/nfl-playoffs-19702021/df_kaggle_test.csv\n",
      "/kaggle/input/nfl-playoffs-19702021/playoffs.csv\n",
      "/kaggle/input/nfl-playoffs-19702021/all_games.csv\n",
      "/kaggle/input/nfl-playoffs-19702021/df_kaggle_test_labels.csv\n",
      "/kaggle/input/nfl-playoffs-19702021/df_kaggle_train.csv\n",
      "/kaggle/input/nfl-playoffs-19702021/games_calculated_averages.csv\n",
      "/kaggle/input/nfl-playoffs-19702021/1970-2021.csv\n",
      "/kaggle/input/nfl-playoffs-19702021/regular_season.csv\n",
      "/kaggle/input/nfl-playoffs-19702021/1970-2021_team_schedule.csv\n",
      "/kaggle/input/nfl-playoffs-19702021/df_only_averages.csv\n",
      "/kaggle/input/nfl-playoffs-19702021/grouped_averages.csv\n"
     ]
    }
   ],
   "source": [
    "import os\n",
    "for dirname, _, filenames in os.walk('/kaggle/input'):\n",
    "    for filename in filenames:\n",
    "        print(os.path.join(dirname, filename))"
   ]
  },
  {
   "cell_type": "code",
   "execution_count": 4,
   "id": "aaaced16",
   "metadata": {
    "execution": {
     "iopub.execute_input": "2022-09-03T15:28:02.215076Z",
     "iopub.status.busy": "2022-09-03T15:28:02.214484Z",
     "iopub.status.idle": "2022-09-03T15:28:02.219641Z",
     "shell.execute_reply": "2022-09-03T15:28:02.218877Z"
    },
    "papermill": {
     "duration": 0.029055,
     "end_time": "2022-09-03T15:28:02.221767",
     "exception": false,
     "start_time": "2022-09-03T15:28:02.192712",
     "status": "completed"
    },
    "tags": []
   },
   "outputs": [],
   "source": [
    "class Timer:\n",
    "    \n",
    "    def __init__(self):\n",
    "        self.start_time = time.time()\n",
    "        \n",
    "    def end(self):\n",
    "        self.end_time = time.time()\n",
    "        elapsed_time = round(self.end_time - self.start_time, 3)\n",
    "        print(f'Execution took {elapsed_time}s')"
   ]
  },
  {
   "cell_type": "markdown",
   "id": "83c10356",
   "metadata": {
    "papermill": {
     "duration": 0.020082,
     "end_time": "2022-09-03T15:28:02.262386",
     "exception": false,
     "start_time": "2022-09-03T15:28:02.242304",
     "status": "completed"
    },
    "tags": []
   },
   "source": [
    "---"
   ]
  },
  {
   "cell_type": "code",
   "execution_count": 5,
   "id": "fb893d0e",
   "metadata": {
    "execution": {
     "iopub.execute_input": "2022-09-03T15:28:02.305418Z",
     "iopub.status.busy": "2022-09-03T15:28:02.304807Z",
     "iopub.status.idle": "2022-09-03T15:28:03.407783Z",
     "shell.execute_reply": "2022-09-03T15:28:03.406440Z"
    },
    "papermill": {
     "duration": 1.128222,
     "end_time": "2022-09-03T15:28:03.410542",
     "exception": false,
     "start_time": "2022-09-03T15:28:02.282320",
     "status": "completed"
    },
    "tags": []
   },
   "outputs": [],
   "source": [
    "from pprint import pprint\n",
    "from sklearn.metrics import (\n",
    "    ConfusionMatrixDisplay, \n",
    "    accuracy_score,\n",
    "    balanced_accuracy_score,\n",
    "    precision_score, \n",
    "    recall_score, \n",
    "    f1_score\n",
    ")\n",
    "from datetime import datetime\n",
    "\n",
    "all_scores = {}\n",
    "\n",
    "def show_scores(scores: dict = all_scores):\n",
    "    display(pd.DataFrame(all_scores.values()))\n",
    "\n",
    "def calculate_scores(\n",
    "    model_name: str, \n",
    "    y_test: pd.Series, pred: np.ndarray, \n",
    "    pos_label: str or int = 1,\n",
    "    score_list: list = all_scores,\n",
    "    display_confusion_matrix: bool = True,\n",
    "    display_scores: bool = True\n",
    "    ):\n",
    "    cf_mx = ConfusionMatrixDisplay.from_predictions(y_test, pred)\n",
    "    acc = accuracy_score(y_test, pred)\n",
    "    bacc = balanced_accuracy_score(y_test, pred)\n",
    "    precision = precision_score(y_test, pred, pos_label=pos_label)\n",
    "    recall = recall_score(y_test, pred, pos_label=pos_label)\n",
    "    f1 = f1_score(y_test, pred, pos_label=pos_label)\n",
    "    \n",
    "    model_scores = {\n",
    "        'model_name': model_name,\n",
    "        'acc': acc,\n",
    "        'bacc': bacc,\n",
    "        'precision': precision,\n",
    "        'recall': recall,\n",
    "        'f1score': f1\n",
    "    }\n",
    "    score_list[model_name] = model_scores\n",
    "    \n",
    "    if display_confusion_matrix:\n",
    "        display(cf_mx)   \n",
    "    if show_scores:\n",
    "        show_scores(score_list)\n",
    "    return model_scores"
   ]
  },
  {
   "cell_type": "code",
   "execution_count": 6,
   "id": "524ec71b",
   "metadata": {
    "execution": {
     "iopub.execute_input": "2022-09-03T15:28:03.454514Z",
     "iopub.status.busy": "2022-09-03T15:28:03.453763Z",
     "iopub.status.idle": "2022-09-03T15:28:03.458404Z",
     "shell.execute_reply": "2022-09-03T15:28:03.457521Z"
    },
    "papermill": {
     "duration": 0.028704,
     "end_time": "2022-09-03T15:28:03.460580",
     "exception": false,
     "start_time": "2022-09-03T15:28:03.431876",
     "status": "completed"
    },
    "tags": []
   },
   "outputs": [],
   "source": [
    "from joblib import dump\n",
    "\n",
    "def save_clf(clf, clf_name: str):\n",
    "    dump(clf, clf_name + '.joblib')"
   ]
  },
  {
   "cell_type": "markdown",
   "id": "70a967cd",
   "metadata": {
    "papermill": {
     "duration": 0.020518,
     "end_time": "2022-09-03T15:28:03.502033",
     "exception": false,
     "start_time": "2022-09-03T15:28:03.481515",
     "status": "completed"
    },
    "tags": []
   },
   "source": [
    "---"
   ]
  },
  {
   "cell_type": "markdown",
   "id": "a46feadd",
   "metadata": {
    "papermill": {
     "duration": 0.020113,
     "end_time": "2022-09-03T15:28:03.542651",
     "exception": false,
     "start_time": "2022-09-03T15:28:03.522538",
     "status": "completed"
    },
    "tags": []
   },
   "source": [
    "# Carregamento do dataset Kaggle e preparaçao para treino e teste"
   ]
  },
  {
   "cell_type": "code",
   "execution_count": 7,
   "id": "3ac59116",
   "metadata": {
    "execution": {
     "iopub.execute_input": "2022-09-03T15:28:03.585302Z",
     "iopub.status.busy": "2022-09-03T15:28:03.584900Z",
     "iopub.status.idle": "2022-09-03T15:28:03.759918Z",
     "shell.execute_reply": "2022-09-03T15:28:03.758164Z"
    },
    "papermill": {
     "duration": 0.200658,
     "end_time": "2022-09-03T15:28:03.763636",
     "exception": false,
     "start_time": "2022-09-03T15:28:03.562978",
     "status": "completed"
    },
    "tags": []
   },
   "outputs": [],
   "source": [
    "df_averages = pd.read_csv('/kaggle/input/nfl-playoffs-19702021/df_only_averages.csv')\n",
    "df_averages.drop(['Unnamed: 0'], axis=1, inplace=True)\n",
    "df_averages.sort_values(['gs_year'], ascending=False, inplace=True)"
   ]
  },
  {
   "cell_type": "code",
   "execution_count": 8,
   "id": "d2b7ce1b",
   "metadata": {
    "execution": {
     "iopub.execute_input": "2022-09-03T15:28:03.807169Z",
     "iopub.status.busy": "2022-09-03T15:28:03.806734Z",
     "iopub.status.idle": "2022-09-03T15:28:03.831630Z",
     "shell.execute_reply": "2022-09-03T15:28:03.830458Z"
    },
    "papermill": {
     "duration": 0.049212,
     "end_time": "2022-09-03T15:28:03.834151",
     "exception": false,
     "start_time": "2022-09-03T15:28:03.784939",
     "status": "completed"
    },
    "tags": []
   },
   "outputs": [],
   "source": [
    "df_averages.drop(df_averages[pd.isna(df_averages['gs_is_playoff'])].index, inplace=True)\n",
    "df_averages.drop(df_averages[pd.isna(df_averages['winorlose'])].index, inplace=True)\n",
    "df_averages.drop(df_averages[df_averages['winorlose'] == 'T'].index, inplace=True)"
   ]
  },
  {
   "cell_type": "code",
   "execution_count": 9,
   "id": "24eeefcb",
   "metadata": {
    "execution": {
     "iopub.execute_input": "2022-09-03T15:28:03.876561Z",
     "iopub.status.busy": "2022-09-03T15:28:03.876173Z",
     "iopub.status.idle": "2022-09-03T15:28:03.884061Z",
     "shell.execute_reply": "2022-09-03T15:28:03.883320Z"
    },
    "papermill": {
     "duration": 0.031802,
     "end_time": "2022-09-03T15:28:03.886321",
     "exception": false,
     "start_time": "2022-09-03T15:28:03.854519",
     "status": "completed"
    },
    "tags": []
   },
   "outputs": [
    {
     "data": {
      "text/plain": [
       "(12542, 35)"
      ]
     },
     "execution_count": 9,
     "metadata": {},
     "output_type": "execute_result"
    }
   ],
   "source": [
    "df_averages.shape"
   ]
  },
  {
   "cell_type": "markdown",
   "id": "7cece766",
   "metadata": {
    "papermill": {
     "duration": 0.020364,
     "end_time": "2022-09-03T15:28:03.927120",
     "exception": false,
     "start_time": "2022-09-03T15:28:03.906756",
     "status": "completed"
    },
    "tags": []
   },
   "source": [
    "---"
   ]
  },
  {
   "cell_type": "code",
   "execution_count": 10,
   "id": "2966be50",
   "metadata": {
    "execution": {
     "iopub.execute_input": "2022-09-03T15:28:03.973240Z",
     "iopub.status.busy": "2022-09-03T15:28:03.972561Z",
     "iopub.status.idle": "2022-09-03T15:28:04.024311Z",
     "shell.execute_reply": "2022-09-03T15:28:04.023112Z"
    },
    "papermill": {
     "duration": 0.075864,
     "end_time": "2022-09-03T15:28:04.026525",
     "exception": false,
     "start_time": "2022-09-03T15:28:03.950661",
     "status": "completed"
    },
    "tags": []
   },
   "outputs": [
    {
     "data": {
      "text/html": [
       "<div>\n",
       "<style scoped>\n",
       "    .dataframe tbody tr th:only-of-type {\n",
       "        vertical-align: middle;\n",
       "    }\n",
       "\n",
       "    .dataframe tbody tr th {\n",
       "        vertical-align: top;\n",
       "    }\n",
       "\n",
       "    .dataframe thead th {\n",
       "        text-align: right;\n",
       "    }\n",
       "</style>\n",
       "<table border=\"1\" class=\"dataframe\">\n",
       "  <thead>\n",
       "    <tr style=\"text-align: right;\">\n",
       "      <th></th>\n",
       "      <th>gs_year</th>\n",
       "      <th>gs_team</th>\n",
       "      <th>winorlose</th>\n",
       "      <th>gs_id</th>\n",
       "      <th>gs_is_playoff</th>\n",
       "      <th>avg_gs_pts_off</th>\n",
       "      <th>avg_gs_pts_def</th>\n",
       "      <th>avg_gs_first_down_off</th>\n",
       "      <th>avg_gs_yards_off</th>\n",
       "      <th>avg_gs_pass_yds_off</th>\n",
       "      <th>avg_gs_rush_yds_off</th>\n",
       "      <th>avg_gs_to_off</th>\n",
       "      <th>avg_gs_first_down_def</th>\n",
       "      <th>avg_gs_yards_def</th>\n",
       "      <th>avg_gs_pass_yds_def</th>\n",
       "      <th>avg_gs_rush_yds_def</th>\n",
       "      <th>avg_gs_to_def</th>\n",
       "      <th>avg_gs_exp_pts_off</th>\n",
       "      <th>avg_gs_exp_pts_def</th>\n",
       "      <th>avg_gs_exp_pts_st</th>\n",
       "      <th>last_year_avg_gs_pts_off</th>\n",
       "      <th>last_year_avg_gs_pts_def</th>\n",
       "      <th>last_year_avg_gs_first_down_off</th>\n",
       "      <th>last_year_avg_gs_yards_off</th>\n",
       "      <th>last_year_avg_gs_pass_yds_off</th>\n",
       "      <th>last_year_avg_gs_rush_yds_off</th>\n",
       "      <th>last_year_avg_gs_to_off</th>\n",
       "      <th>last_year_avg_gs_first_down_def</th>\n",
       "      <th>last_year_avg_gs_yards_def</th>\n",
       "      <th>last_year_avg_gs_pass_yds_def</th>\n",
       "      <th>last_year_avg_gs_rush_yds_def</th>\n",
       "      <th>last_year_avg_gs_to_def</th>\n",
       "      <th>last_year_avg_gs_exp_pts_off</th>\n",
       "      <th>last_year_avg_gs_exp_pts_def</th>\n",
       "      <th>last_year_avg_gs_exp_pts_st</th>\n",
       "    </tr>\n",
       "  </thead>\n",
       "  <tbody>\n",
       "    <tr>\n",
       "      <th>11598</th>\n",
       "      <td>2018</td>\n",
       "      <td>Ravens</td>\n",
       "      <td>W</td>\n",
       "      <td>602.0</td>\n",
       "      <td>False</td>\n",
       "      <td>23.000000</td>\n",
       "      <td>34.000000</td>\n",
       "      <td>28.000000</td>\n",
       "      <td>425.000000</td>\n",
       "      <td>359.000000</td>\n",
       "      <td>66.000000</td>\n",
       "      <td>3.000000</td>\n",
       "      <td>24.000000</td>\n",
       "      <td>373.000000</td>\n",
       "      <td>265.000000</td>\n",
       "      <td>108.000000</td>\n",
       "      <td>NaN</td>\n",
       "      <td>2.720000</td>\n",
       "      <td>-12.800000</td>\n",
       "      <td>1.120000</td>\n",
       "      <td>18.669048</td>\n",
       "      <td>17.740476</td>\n",
       "      <td>16.626531</td>\n",
       "      <td>264.080612</td>\n",
       "      <td>135.184694</td>\n",
       "      <td>128.895918</td>\n",
       "      <td>1.764286</td>\n",
       "      <td>17.192517</td>\n",
       "      <td>293.688776</td>\n",
       "      <td>182.507143</td>\n",
       "      <td>111.181633</td>\n",
       "      <td>3.219048</td>\n",
       "      <td>-5.338942</td>\n",
       "      <td>8.586643</td>\n",
       "      <td>0.100163</td>\n",
       "    </tr>\n",
       "    <tr>\n",
       "      <th>11592</th>\n",
       "      <td>2018</td>\n",
       "      <td>Colts</td>\n",
       "      <td>W</td>\n",
       "      <td>763.0</td>\n",
       "      <td>False</td>\n",
       "      <td>23.750000</td>\n",
       "      <td>27.250000</td>\n",
       "      <td>20.250000</td>\n",
       "      <td>339.250000</td>\n",
       "      <td>243.500000</td>\n",
       "      <td>95.750000</td>\n",
       "      <td>3.000000</td>\n",
       "      <td>22.500000</td>\n",
       "      <td>381.250000</td>\n",
       "      <td>276.000000</td>\n",
       "      <td>105.250000</td>\n",
       "      <td>1.750000</td>\n",
       "      <td>-1.150000</td>\n",
       "      <td>-3.530000</td>\n",
       "      <td>3.207500</td>\n",
       "      <td>15.400680</td>\n",
       "      <td>38.341497</td>\n",
       "      <td>14.532313</td>\n",
       "      <td>264.014966</td>\n",
       "      <td>171.928231</td>\n",
       "      <td>92.086735</td>\n",
       "      <td>2.026190</td>\n",
       "      <td>20.432993</td>\n",
       "      <td>396.807143</td>\n",
       "      <td>281.085034</td>\n",
       "      <td>115.722109</td>\n",
       "      <td>1.376190</td>\n",
       "      <td>-14.018493</td>\n",
       "      <td>-11.140231</td>\n",
       "      <td>3.264252</td>\n",
       "    </tr>\n",
       "    <tr>\n",
       "      <th>11593</th>\n",
       "      <td>2018</td>\n",
       "      <td>Browns</td>\n",
       "      <td>L</td>\n",
       "      <td>693.0</td>\n",
       "      <td>False</td>\n",
       "      <td>27.666667</td>\n",
       "      <td>30.666667</td>\n",
       "      <td>18.000000</td>\n",
       "      <td>373.000000</td>\n",
       "      <td>233.000000</td>\n",
       "      <td>140.000000</td>\n",
       "      <td>2.000000</td>\n",
       "      <td>26.333333</td>\n",
       "      <td>432.000000</td>\n",
       "      <td>327.000000</td>\n",
       "      <td>105.000000</td>\n",
       "      <td>2.666667</td>\n",
       "      <td>-1.253333</td>\n",
       "      <td>-3.186667</td>\n",
       "      <td>-0.550000</td>\n",
       "      <td>17.001701</td>\n",
       "      <td>28.651020</td>\n",
       "      <td>20.941156</td>\n",
       "      <td>352.614966</td>\n",
       "      <td>232.391497</td>\n",
       "      <td>120.223469</td>\n",
       "      <td>3.595238</td>\n",
       "      <td>20.094558</td>\n",
       "      <td>342.084014</td>\n",
       "      <td>223.086395</td>\n",
       "      <td>118.997619</td>\n",
       "      <td>1.404762</td>\n",
       "      <td>-6.523313</td>\n",
       "      <td>-5.998888</td>\n",
       "      <td>0.626361</td>\n",
       "    </tr>\n",
       "    <tr>\n",
       "      <th>11594</th>\n",
       "      <td>2018</td>\n",
       "      <td>Dolphins</td>\n",
       "      <td>L</td>\n",
       "      <td>642.0</td>\n",
       "      <td>False</td>\n",
       "      <td>14.666667</td>\n",
       "      <td>25.666667</td>\n",
       "      <td>15.333333</td>\n",
       "      <td>242.000000</td>\n",
       "      <td>135.666667</td>\n",
       "      <td>106.333333</td>\n",
       "      <td>2.333333</td>\n",
       "      <td>21.333333</td>\n",
       "      <td>381.000000</td>\n",
       "      <td>274.333333</td>\n",
       "      <td>106.666667</td>\n",
       "      <td>2.000000</td>\n",
       "      <td>-9.650000</td>\n",
       "      <td>-4.286667</td>\n",
       "      <td>3.930000</td>\n",
       "      <td>14.132313</td>\n",
       "      <td>23.155102</td>\n",
       "      <td>18.281633</td>\n",
       "      <td>281.719728</td>\n",
       "      <td>195.068027</td>\n",
       "      <td>86.651701</td>\n",
       "      <td>1.744444</td>\n",
       "      <td>21.276190</td>\n",
       "      <td>362.352041</td>\n",
       "      <td>255.690476</td>\n",
       "      <td>106.661565</td>\n",
       "      <td>1.111111</td>\n",
       "      <td>-4.648224</td>\n",
       "      <td>-9.038235</td>\n",
       "      <td>4.205915</td>\n",
       "    </tr>\n",
       "    <tr>\n",
       "      <th>11595</th>\n",
       "      <td>2018</td>\n",
       "      <td>Packers</td>\n",
       "      <td>W</td>\n",
       "      <td>956.0</td>\n",
       "      <td>False</td>\n",
       "      <td>20.285714</td>\n",
       "      <td>28.142857</td>\n",
       "      <td>19.142857</td>\n",
       "      <td>360.428571</td>\n",
       "      <td>269.142857</td>\n",
       "      <td>91.285714</td>\n",
       "      <td>1.333333</td>\n",
       "      <td>21.857143</td>\n",
       "      <td>375.000000</td>\n",
       "      <td>249.000000</td>\n",
       "      <td>126.000000</td>\n",
       "      <td>1.000000</td>\n",
       "      <td>6.405714</td>\n",
       "      <td>-9.942857</td>\n",
       "      <td>-5.991429</td>\n",
       "      <td>24.262245</td>\n",
       "      <td>28.792517</td>\n",
       "      <td>21.360204</td>\n",
       "      <td>331.571429</td>\n",
       "      <td>232.677211</td>\n",
       "      <td>98.894218</td>\n",
       "      <td>2.000000</td>\n",
       "      <td>21.601701</td>\n",
       "      <td>374.296599</td>\n",
       "      <td>243.622109</td>\n",
       "      <td>130.674490</td>\n",
       "      <td>2.358333</td>\n",
       "      <td>7.406837</td>\n",
       "      <td>-10.109241</td>\n",
       "      <td>-1.312935</td>\n",
       "    </tr>\n",
       "    <tr>\n",
       "      <th>...</th>\n",
       "      <td>...</td>\n",
       "      <td>...</td>\n",
       "      <td>...</td>\n",
       "      <td>...</td>\n",
       "      <td>...</td>\n",
       "      <td>...</td>\n",
       "      <td>...</td>\n",
       "      <td>...</td>\n",
       "      <td>...</td>\n",
       "      <td>...</td>\n",
       "      <td>...</td>\n",
       "      <td>...</td>\n",
       "      <td>...</td>\n",
       "      <td>...</td>\n",
       "      <td>...</td>\n",
       "      <td>...</td>\n",
       "      <td>...</td>\n",
       "      <td>...</td>\n",
       "      <td>...</td>\n",
       "      <td>...</td>\n",
       "      <td>...</td>\n",
       "      <td>...</td>\n",
       "      <td>...</td>\n",
       "      <td>...</td>\n",
       "      <td>...</td>\n",
       "      <td>...</td>\n",
       "      <td>...</td>\n",
       "      <td>...</td>\n",
       "      <td>...</td>\n",
       "      <td>...</td>\n",
       "      <td>...</td>\n",
       "      <td>...</td>\n",
       "      <td>...</td>\n",
       "      <td>...</td>\n",
       "      <td>...</td>\n",
       "    </tr>\n",
       "    <tr>\n",
       "      <th>125</th>\n",
       "      <td>1970</td>\n",
       "      <td>49ers</td>\n",
       "      <td>W</td>\n",
       "      <td>26597.0</td>\n",
       "      <td>False</td>\n",
       "      <td>25.666667</td>\n",
       "      <td>14.333333</td>\n",
       "      <td>16.333333</td>\n",
       "      <td>318.666667</td>\n",
       "      <td>232.000000</td>\n",
       "      <td>86.666667</td>\n",
       "      <td>1.666667</td>\n",
       "      <td>13.333333</td>\n",
       "      <td>246.333333</td>\n",
       "      <td>130.666667</td>\n",
       "      <td>115.666667</td>\n",
       "      <td>2.666667</td>\n",
       "      <td>NaN</td>\n",
       "      <td>NaN</td>\n",
       "      <td>NaN</td>\n",
       "      <td>NaN</td>\n",
       "      <td>NaN</td>\n",
       "      <td>NaN</td>\n",
       "      <td>NaN</td>\n",
       "      <td>NaN</td>\n",
       "      <td>NaN</td>\n",
       "      <td>NaN</td>\n",
       "      <td>NaN</td>\n",
       "      <td>NaN</td>\n",
       "      <td>NaN</td>\n",
       "      <td>NaN</td>\n",
       "      <td>NaN</td>\n",
       "      <td>NaN</td>\n",
       "      <td>NaN</td>\n",
       "      <td>NaN</td>\n",
       "    </tr>\n",
       "    <tr>\n",
       "      <th>124</th>\n",
       "      <td>1970</td>\n",
       "      <td>Browns</td>\n",
       "      <td>L</td>\n",
       "      <td>26392.0</td>\n",
       "      <td>False</td>\n",
       "      <td>26.333333</td>\n",
       "      <td>19.000000</td>\n",
       "      <td>17.666667</td>\n",
       "      <td>342.333333</td>\n",
       "      <td>229.333333</td>\n",
       "      <td>113.000000</td>\n",
       "      <td>3.333333</td>\n",
       "      <td>17.666667</td>\n",
       "      <td>298.000000</td>\n",
       "      <td>152.333333</td>\n",
       "      <td>145.666667</td>\n",
       "      <td>2.500000</td>\n",
       "      <td>NaN</td>\n",
       "      <td>NaN</td>\n",
       "      <td>NaN</td>\n",
       "      <td>NaN</td>\n",
       "      <td>NaN</td>\n",
       "      <td>NaN</td>\n",
       "      <td>NaN</td>\n",
       "      <td>NaN</td>\n",
       "      <td>NaN</td>\n",
       "      <td>NaN</td>\n",
       "      <td>NaN</td>\n",
       "      <td>NaN</td>\n",
       "      <td>NaN</td>\n",
       "      <td>NaN</td>\n",
       "      <td>NaN</td>\n",
       "      <td>NaN</td>\n",
       "      <td>NaN</td>\n",
       "      <td>NaN</td>\n",
       "    </tr>\n",
       "    <tr>\n",
       "      <th>123</th>\n",
       "      <td>1970</td>\n",
       "      <td>Chiefs</td>\n",
       "      <td>W</td>\n",
       "      <td>26434.0</td>\n",
       "      <td>False</td>\n",
       "      <td>23.500000</td>\n",
       "      <td>24.000000</td>\n",
       "      <td>11.750000</td>\n",
       "      <td>227.000000</td>\n",
       "      <td>122.000000</td>\n",
       "      <td>105.000000</td>\n",
       "      <td>4.333333</td>\n",
       "      <td>18.750000</td>\n",
       "      <td>256.250000</td>\n",
       "      <td>147.500000</td>\n",
       "      <td>108.750000</td>\n",
       "      <td>3.000000</td>\n",
       "      <td>NaN</td>\n",
       "      <td>NaN</td>\n",
       "      <td>NaN</td>\n",
       "      <td>NaN</td>\n",
       "      <td>NaN</td>\n",
       "      <td>NaN</td>\n",
       "      <td>NaN</td>\n",
       "      <td>NaN</td>\n",
       "      <td>NaN</td>\n",
       "      <td>NaN</td>\n",
       "      <td>NaN</td>\n",
       "      <td>NaN</td>\n",
       "      <td>NaN</td>\n",
       "      <td>NaN</td>\n",
       "      <td>NaN</td>\n",
       "      <td>NaN</td>\n",
       "      <td>NaN</td>\n",
       "      <td>NaN</td>\n",
       "    </tr>\n",
       "    <tr>\n",
       "      <th>122</th>\n",
       "      <td>1970</td>\n",
       "      <td>Chargers</td>\n",
       "      <td>W</td>\n",
       "      <td>26448.0</td>\n",
       "      <td>False</td>\n",
       "      <td>19.000000</td>\n",
       "      <td>18.000000</td>\n",
       "      <td>16.000000</td>\n",
       "      <td>275.000000</td>\n",
       "      <td>185.666667</td>\n",
       "      <td>89.333333</td>\n",
       "      <td>4.000000</td>\n",
       "      <td>15.333333</td>\n",
       "      <td>267.666667</td>\n",
       "      <td>130.000000</td>\n",
       "      <td>137.666667</td>\n",
       "      <td>2.333333</td>\n",
       "      <td>NaN</td>\n",
       "      <td>NaN</td>\n",
       "      <td>NaN</td>\n",
       "      <td>NaN</td>\n",
       "      <td>NaN</td>\n",
       "      <td>NaN</td>\n",
       "      <td>NaN</td>\n",
       "      <td>NaN</td>\n",
       "      <td>NaN</td>\n",
       "      <td>NaN</td>\n",
       "      <td>NaN</td>\n",
       "      <td>NaN</td>\n",
       "      <td>NaN</td>\n",
       "      <td>NaN</td>\n",
       "      <td>NaN</td>\n",
       "      <td>NaN</td>\n",
       "      <td>NaN</td>\n",
       "      <td>NaN</td>\n",
       "    </tr>\n",
       "    <tr>\n",
       "      <th>0</th>\n",
       "      <td>1970</td>\n",
       "      <td>Steelers</td>\n",
       "      <td>L</td>\n",
       "      <td>26410.0</td>\n",
       "      <td>False</td>\n",
       "      <td>9.600000</td>\n",
       "      <td>19.800000</td>\n",
       "      <td>17.800000</td>\n",
       "      <td>267.200000</td>\n",
       "      <td>172.600000</td>\n",
       "      <td>94.600000</td>\n",
       "      <td>4.400000</td>\n",
       "      <td>13.800000</td>\n",
       "      <td>272.400000</td>\n",
       "      <td>145.600000</td>\n",
       "      <td>126.800000</td>\n",
       "      <td>2.600000</td>\n",
       "      <td>NaN</td>\n",
       "      <td>NaN</td>\n",
       "      <td>NaN</td>\n",
       "      <td>NaN</td>\n",
       "      <td>NaN</td>\n",
       "      <td>NaN</td>\n",
       "      <td>NaN</td>\n",
       "      <td>NaN</td>\n",
       "      <td>NaN</td>\n",
       "      <td>NaN</td>\n",
       "      <td>NaN</td>\n",
       "      <td>NaN</td>\n",
       "      <td>NaN</td>\n",
       "      <td>NaN</td>\n",
       "      <td>NaN</td>\n",
       "      <td>NaN</td>\n",
       "      <td>NaN</td>\n",
       "      <td>NaN</td>\n",
       "    </tr>\n",
       "  </tbody>\n",
       "</table>\n",
       "<p>11721 rows × 35 columns</p>\n",
       "</div>"
      ],
      "text/plain": [
       "       gs_year   gs_team winorlose    gs_id gs_is_playoff  avg_gs_pts_off  avg_gs_pts_def  avg_gs_first_down_off  avg_gs_yards_off  avg_gs_pass_yds_off  avg_gs_rush_yds_off  avg_gs_to_off  avg_gs_first_down_def  avg_gs_yards_def  avg_gs_pass_yds_def  avg_gs_rush_yds_def  avg_gs_to_def  avg_gs_exp_pts_off  avg_gs_exp_pts_def  avg_gs_exp_pts_st  last_year_avg_gs_pts_off  last_year_avg_gs_pts_def  last_year_avg_gs_first_down_off  last_year_avg_gs_yards_off  last_year_avg_gs_pass_yds_off  last_year_avg_gs_rush_yds_off  last_year_avg_gs_to_off  last_year_avg_gs_first_down_def  last_year_avg_gs_yards_def  last_year_avg_gs_pass_yds_def  last_year_avg_gs_rush_yds_def  last_year_avg_gs_to_def  last_year_avg_gs_exp_pts_off  last_year_avg_gs_exp_pts_def  last_year_avg_gs_exp_pts_st\n",
       "11598     2018    Ravens         W    602.0         False       23.000000       34.000000              28.000000        425.000000           359.000000            66.000000       3.000000              24.000000        373.000000           265.000000           108.000000            NaN            2.720000          -12.800000           1.120000                 18.669048                 17.740476                        16.626531                  264.080612                     135.184694                     128.895918                 1.764286                        17.192517                  293.688776                     182.507143                     111.181633                 3.219048                     -5.338942                      8.586643                     0.100163\n",
       "11592     2018     Colts         W    763.0         False       23.750000       27.250000              20.250000        339.250000           243.500000            95.750000       3.000000              22.500000        381.250000           276.000000           105.250000       1.750000           -1.150000           -3.530000           3.207500                 15.400680                 38.341497                        14.532313                  264.014966                     171.928231                      92.086735                 2.026190                        20.432993                  396.807143                     281.085034                     115.722109                 1.376190                    -14.018493                    -11.140231                     3.264252\n",
       "11593     2018    Browns         L    693.0         False       27.666667       30.666667              18.000000        373.000000           233.000000           140.000000       2.000000              26.333333        432.000000           327.000000           105.000000       2.666667           -1.253333           -3.186667          -0.550000                 17.001701                 28.651020                        20.941156                  352.614966                     232.391497                     120.223469                 3.595238                        20.094558                  342.084014                     223.086395                     118.997619                 1.404762                     -6.523313                     -5.998888                     0.626361\n",
       "11594     2018  Dolphins         L    642.0         False       14.666667       25.666667              15.333333        242.000000           135.666667           106.333333       2.333333              21.333333        381.000000           274.333333           106.666667       2.000000           -9.650000           -4.286667           3.930000                 14.132313                 23.155102                        18.281633                  281.719728                     195.068027                      86.651701                 1.744444                        21.276190                  362.352041                     255.690476                     106.661565                 1.111111                     -4.648224                     -9.038235                     4.205915\n",
       "11595     2018   Packers         W    956.0         False       20.285714       28.142857              19.142857        360.428571           269.142857            91.285714       1.333333              21.857143        375.000000           249.000000           126.000000       1.000000            6.405714           -9.942857          -5.991429                 24.262245                 28.792517                        21.360204                  331.571429                     232.677211                      98.894218                 2.000000                        21.601701                  374.296599                     243.622109                     130.674490                 2.358333                      7.406837                    -10.109241                    -1.312935\n",
       "...        ...       ...       ...      ...           ...             ...             ...                    ...               ...                  ...                  ...            ...                    ...               ...                  ...                  ...            ...                 ...                 ...                ...                       ...                       ...                              ...                         ...                            ...                            ...                      ...                              ...                         ...                            ...                            ...                      ...                           ...                           ...                          ...\n",
       "125       1970     49ers         W  26597.0         False       25.666667       14.333333              16.333333        318.666667           232.000000            86.666667       1.666667              13.333333        246.333333           130.666667           115.666667       2.666667                 NaN                 NaN                NaN                       NaN                       NaN                              NaN                         NaN                            NaN                            NaN                      NaN                              NaN                         NaN                            NaN                            NaN                      NaN                           NaN                           NaN                          NaN\n",
       "124       1970    Browns         L  26392.0         False       26.333333       19.000000              17.666667        342.333333           229.333333           113.000000       3.333333              17.666667        298.000000           152.333333           145.666667       2.500000                 NaN                 NaN                NaN                       NaN                       NaN                              NaN                         NaN                            NaN                            NaN                      NaN                              NaN                         NaN                            NaN                            NaN                      NaN                           NaN                           NaN                          NaN\n",
       "123       1970    Chiefs         W  26434.0         False       23.500000       24.000000              11.750000        227.000000           122.000000           105.000000       4.333333              18.750000        256.250000           147.500000           108.750000       3.000000                 NaN                 NaN                NaN                       NaN                       NaN                              NaN                         NaN                            NaN                            NaN                      NaN                              NaN                         NaN                            NaN                            NaN                      NaN                           NaN                           NaN                          NaN\n",
       "122       1970  Chargers         W  26448.0         False       19.000000       18.000000              16.000000        275.000000           185.666667            89.333333       4.000000              15.333333        267.666667           130.000000           137.666667       2.333333                 NaN                 NaN                NaN                       NaN                       NaN                              NaN                         NaN                            NaN                            NaN                      NaN                              NaN                         NaN                            NaN                            NaN                      NaN                           NaN                           NaN                          NaN\n",
       "0         1970  Steelers         L  26410.0         False        9.600000       19.800000              17.800000        267.200000           172.600000            94.600000       4.400000              13.800000        272.400000           145.600000           126.800000       2.600000                 NaN                 NaN                NaN                       NaN                       NaN                              NaN                         NaN                            NaN                            NaN                      NaN                              NaN                         NaN                            NaN                            NaN                      NaN                           NaN                           NaN                          NaN\n",
       "\n",
       "[11721 rows x 35 columns]"
      ]
     },
     "execution_count": 10,
     "metadata": {},
     "output_type": "execute_result"
    }
   ],
   "source": [
    "df_train = df_averages[df_averages['gs_year'] < 2019].copy()\n",
    "df_train"
   ]
  },
  {
   "cell_type": "code",
   "execution_count": 11,
   "id": "e036b2ef",
   "metadata": {
    "execution": {
     "iopub.execute_input": "2022-09-03T15:28:04.071499Z",
     "iopub.status.busy": "2022-09-03T15:28:04.070617Z",
     "iopub.status.idle": "2022-09-03T15:28:04.113149Z",
     "shell.execute_reply": "2022-09-03T15:28:04.112085Z"
    },
    "papermill": {
     "duration": 0.068058,
     "end_time": "2022-09-03T15:28:04.115858",
     "exception": false,
     "start_time": "2022-09-03T15:28:04.047800",
     "status": "completed"
    },
    "tags": []
   },
   "outputs": [
    {
     "data": {
      "text/html": [
       "<div>\n",
       "<style scoped>\n",
       "    .dataframe tbody tr th:only-of-type {\n",
       "        vertical-align: middle;\n",
       "    }\n",
       "\n",
       "    .dataframe tbody tr th {\n",
       "        vertical-align: top;\n",
       "    }\n",
       "\n",
       "    .dataframe thead th {\n",
       "        text-align: right;\n",
       "    }\n",
       "</style>\n",
       "<table border=\"1\" class=\"dataframe\">\n",
       "  <thead>\n",
       "    <tr style=\"text-align: right;\">\n",
       "      <th></th>\n",
       "      <th>gs_year</th>\n",
       "      <th>gs_team</th>\n",
       "      <th>winorlose</th>\n",
       "      <th>gs_id</th>\n",
       "      <th>gs_is_playoff</th>\n",
       "      <th>avg_gs_pts_off</th>\n",
       "      <th>avg_gs_pts_def</th>\n",
       "      <th>avg_gs_first_down_off</th>\n",
       "      <th>avg_gs_yards_off</th>\n",
       "      <th>avg_gs_pass_yds_off</th>\n",
       "      <th>avg_gs_rush_yds_off</th>\n",
       "      <th>avg_gs_to_off</th>\n",
       "      <th>avg_gs_first_down_def</th>\n",
       "      <th>avg_gs_yards_def</th>\n",
       "      <th>avg_gs_pass_yds_def</th>\n",
       "      <th>avg_gs_rush_yds_def</th>\n",
       "      <th>avg_gs_to_def</th>\n",
       "      <th>avg_gs_exp_pts_off</th>\n",
       "      <th>avg_gs_exp_pts_def</th>\n",
       "      <th>avg_gs_exp_pts_st</th>\n",
       "      <th>last_year_avg_gs_pts_off</th>\n",
       "      <th>last_year_avg_gs_pts_def</th>\n",
       "      <th>last_year_avg_gs_first_down_off</th>\n",
       "      <th>last_year_avg_gs_yards_off</th>\n",
       "      <th>last_year_avg_gs_pass_yds_off</th>\n",
       "      <th>last_year_avg_gs_rush_yds_off</th>\n",
       "      <th>last_year_avg_gs_to_off</th>\n",
       "      <th>last_year_avg_gs_first_down_def</th>\n",
       "      <th>last_year_avg_gs_yards_def</th>\n",
       "      <th>last_year_avg_gs_pass_yds_def</th>\n",
       "      <th>last_year_avg_gs_rush_yds_def</th>\n",
       "      <th>last_year_avg_gs_to_def</th>\n",
       "      <th>last_year_avg_gs_exp_pts_off</th>\n",
       "      <th>last_year_avg_gs_exp_pts_def</th>\n",
       "      <th>last_year_avg_gs_exp_pts_st</th>\n",
       "    </tr>\n",
       "  </thead>\n",
       "  <tbody>\n",
       "    <tr>\n",
       "      <th>12389</th>\n",
       "      <td>2021</td>\n",
       "      <td>Jaguars</td>\n",
       "      <td>L</td>\n",
       "      <td>4258.0</td>\n",
       "      <td>False</td>\n",
       "      <td>16.500000</td>\n",
       "      <td>28.750000</td>\n",
       "      <td>19.000000</td>\n",
       "      <td>344.000000</td>\n",
       "      <td>225.000000</td>\n",
       "      <td>119.000000</td>\n",
       "      <td>1.666667</td>\n",
       "      <td>18.750000</td>\n",
       "      <td>348.250000</td>\n",
       "      <td>239.750000</td>\n",
       "      <td>108.500000</td>\n",
       "      <td>NaN</td>\n",
       "      <td>-0.080000</td>\n",
       "      <td>-9.585000</td>\n",
       "      <td>-1.885000</td>\n",
       "      <td>24.936054</td>\n",
       "      <td>32.405102</td>\n",
       "      <td>24.259184</td>\n",
       "      <td>405.762925</td>\n",
       "      <td>282.811565</td>\n",
       "      <td>122.951361</td>\n",
       "      <td>1.659184</td>\n",
       "      <td>24.806122</td>\n",
       "      <td>430.098980</td>\n",
       "      <td>287.623469</td>\n",
       "      <td>142.475510</td>\n",
       "      <td>1.502778</td>\n",
       "      <td>9.008071</td>\n",
       "      <td>-17.787109</td>\n",
       "      <td>-1.036636</td>\n",
       "    </tr>\n",
       "    <tr>\n",
       "      <th>12456</th>\n",
       "      <td>2021</td>\n",
       "      <td>Lions</td>\n",
       "      <td>L</td>\n",
       "      <td>4472.0</td>\n",
       "      <td>False</td>\n",
       "      <td>14.875000</td>\n",
       "      <td>24.125000</td>\n",
       "      <td>18.500000</td>\n",
       "      <td>325.375000</td>\n",
       "      <td>189.375000</td>\n",
       "      <td>136.000000</td>\n",
       "      <td>1.857143</td>\n",
       "      <td>21.000000</td>\n",
       "      <td>350.250000</td>\n",
       "      <td>223.875000</td>\n",
       "      <td>126.375000</td>\n",
       "      <td>1.80</td>\n",
       "      <td>-1.383750</td>\n",
       "      <td>-9.737500</td>\n",
       "      <td>2.372500</td>\n",
       "      <td>23.648299</td>\n",
       "      <td>29.647279</td>\n",
       "      <td>21.341156</td>\n",
       "      <td>339.998639</td>\n",
       "      <td>239.123469</td>\n",
       "      <td>100.875170</td>\n",
       "      <td>1.223810</td>\n",
       "      <td>24.337415</td>\n",
       "      <td>411.503401</td>\n",
       "      <td>248.730612</td>\n",
       "      <td>162.772789</td>\n",
       "      <td>2.216667</td>\n",
       "      <td>6.329017</td>\n",
       "      <td>-13.885381</td>\n",
       "      <td>2.658422</td>\n",
       "    </tr>\n",
       "    <tr>\n",
       "      <th>12403</th>\n",
       "      <td>2021</td>\n",
       "      <td>Ravens</td>\n",
       "      <td>L</td>\n",
       "      <td>4203.0</td>\n",
       "      <td>False</td>\n",
       "      <td>19.000000</td>\n",
       "      <td>18.666667</td>\n",
       "      <td>20.500000</td>\n",
       "      <td>354.666667</td>\n",
       "      <td>232.833333</td>\n",
       "      <td>121.833333</td>\n",
       "      <td>1.400000</td>\n",
       "      <td>18.500000</td>\n",
       "      <td>342.333333</td>\n",
       "      <td>256.000000</td>\n",
       "      <td>86.333333</td>\n",
       "      <td>1.00</td>\n",
       "      <td>0.085000</td>\n",
       "      <td>-1.705000</td>\n",
       "      <td>1.556667</td>\n",
       "      <td>29.237654</td>\n",
       "      <td>18.789947</td>\n",
       "      <td>19.633995</td>\n",
       "      <td>358.694885</td>\n",
       "      <td>177.504453</td>\n",
       "      <td>181.190432</td>\n",
       "      <td>1.570833</td>\n",
       "      <td>20.758333</td>\n",
       "      <td>330.733333</td>\n",
       "      <td>230.891358</td>\n",
       "      <td>99.841975</td>\n",
       "      <td>1.556085</td>\n",
       "      <td>7.997661</td>\n",
       "      <td>0.580535</td>\n",
       "      <td>2.979090</td>\n",
       "    </tr>\n",
       "    <tr>\n",
       "      <th>12404</th>\n",
       "      <td>2021</td>\n",
       "      <td>Jaguars</td>\n",
       "      <td>L</td>\n",
       "      <td>4259.0</td>\n",
       "      <td>False</td>\n",
       "      <td>14.600000</td>\n",
       "      <td>30.400000</td>\n",
       "      <td>18.000000</td>\n",
       "      <td>314.600000</td>\n",
       "      <td>207.200000</td>\n",
       "      <td>107.400000</td>\n",
       "      <td>1.750000</td>\n",
       "      <td>19.800000</td>\n",
       "      <td>362.200000</td>\n",
       "      <td>249.800000</td>\n",
       "      <td>112.400000</td>\n",
       "      <td>NaN</td>\n",
       "      <td>-2.574000</td>\n",
       "      <td>-11.906000</td>\n",
       "      <td>-0.858000</td>\n",
       "      <td>24.936054</td>\n",
       "      <td>32.405102</td>\n",
       "      <td>24.259184</td>\n",
       "      <td>405.762925</td>\n",
       "      <td>282.811565</td>\n",
       "      <td>122.951361</td>\n",
       "      <td>1.659184</td>\n",
       "      <td>24.806122</td>\n",
       "      <td>430.098980</td>\n",
       "      <td>287.623469</td>\n",
       "      <td>142.475510</td>\n",
       "      <td>1.502778</td>\n",
       "      <td>9.008071</td>\n",
       "      <td>-17.787109</td>\n",
       "      <td>-1.036636</td>\n",
       "    </tr>\n",
       "    <tr>\n",
       "      <th>12405</th>\n",
       "      <td>2021</td>\n",
       "      <td>Raiders</td>\n",
       "      <td>L</td>\n",
       "      <td>4335.0</td>\n",
       "      <td>False</td>\n",
       "      <td>25.200000</td>\n",
       "      <td>25.000000</td>\n",
       "      <td>20.600000</td>\n",
       "      <td>395.200000</td>\n",
       "      <td>306.000000</td>\n",
       "      <td>89.200000</td>\n",
       "      <td>2.000000</td>\n",
       "      <td>21.200000</td>\n",
       "      <td>363.200000</td>\n",
       "      <td>256.800000</td>\n",
       "      <td>106.400000</td>\n",
       "      <td>2.00</td>\n",
       "      <td>7.634000</td>\n",
       "      <td>-5.264000</td>\n",
       "      <td>-1.774000</td>\n",
       "      <td>28.280272</td>\n",
       "      <td>29.316327</td>\n",
       "      <td>21.793537</td>\n",
       "      <td>376.168027</td>\n",
       "      <td>238.189116</td>\n",
       "      <td>137.978912</td>\n",
       "      <td>2.261111</td>\n",
       "      <td>22.034694</td>\n",
       "      <td>377.921769</td>\n",
       "      <td>230.754422</td>\n",
       "      <td>147.167347</td>\n",
       "      <td>1.055556</td>\n",
       "      <td>11.926303</td>\n",
       "      <td>-11.763793</td>\n",
       "      <td>-0.680874</td>\n",
       "    </tr>\n",
       "    <tr>\n",
       "      <th>...</th>\n",
       "      <td>...</td>\n",
       "      <td>...</td>\n",
       "      <td>...</td>\n",
       "      <td>...</td>\n",
       "      <td>...</td>\n",
       "      <td>...</td>\n",
       "      <td>...</td>\n",
       "      <td>...</td>\n",
       "      <td>...</td>\n",
       "      <td>...</td>\n",
       "      <td>...</td>\n",
       "      <td>...</td>\n",
       "      <td>...</td>\n",
       "      <td>...</td>\n",
       "      <td>...</td>\n",
       "      <td>...</td>\n",
       "      <td>...</td>\n",
       "      <td>...</td>\n",
       "      <td>...</td>\n",
       "      <td>...</td>\n",
       "      <td>...</td>\n",
       "      <td>...</td>\n",
       "      <td>...</td>\n",
       "      <td>...</td>\n",
       "      <td>...</td>\n",
       "      <td>...</td>\n",
       "      <td>...</td>\n",
       "      <td>...</td>\n",
       "      <td>...</td>\n",
       "      <td>...</td>\n",
       "      <td>...</td>\n",
       "      <td>...</td>\n",
       "      <td>...</td>\n",
       "      <td>...</td>\n",
       "      <td>...</td>\n",
       "    </tr>\n",
       "    <tr>\n",
       "      <th>11952</th>\n",
       "      <td>2019</td>\n",
       "      <td>Packers</td>\n",
       "      <td>W</td>\n",
       "      <td>394.0</td>\n",
       "      <td>False</td>\n",
       "      <td>20.833333</td>\n",
       "      <td>21.166667</td>\n",
       "      <td>18.166667</td>\n",
       "      <td>271.000000</td>\n",
       "      <td>183.333333</td>\n",
       "      <td>87.666667</td>\n",
       "      <td>1.000000</td>\n",
       "      <td>21.500000</td>\n",
       "      <td>378.333333</td>\n",
       "      <td>274.666667</td>\n",
       "      <td>103.666667</td>\n",
       "      <td>2.00</td>\n",
       "      <td>2.111667</td>\n",
       "      <td>-5.378333</td>\n",
       "      <td>3.073333</td>\n",
       "      <td>20.436054</td>\n",
       "      <td>29.944218</td>\n",
       "      <td>20.775170</td>\n",
       "      <td>384.315986</td>\n",
       "      <td>286.815646</td>\n",
       "      <td>97.500340</td>\n",
       "      <td>1.485714</td>\n",
       "      <td>21.167687</td>\n",
       "      <td>367.664286</td>\n",
       "      <td>231.707143</td>\n",
       "      <td>135.957143</td>\n",
       "      <td>1.000000</td>\n",
       "      <td>6.836959</td>\n",
       "      <td>-10.114503</td>\n",
       "      <td>-7.588871</td>\n",
       "    </tr>\n",
       "    <tr>\n",
       "      <th>11954</th>\n",
       "      <td>2019</td>\n",
       "      <td>Giants</td>\n",
       "      <td>W</td>\n",
       "      <td>323.0</td>\n",
       "      <td>False</td>\n",
       "      <td>21.000000</td>\n",
       "      <td>29.714286</td>\n",
       "      <td>16.571429</td>\n",
       "      <td>316.571429</td>\n",
       "      <td>236.571429</td>\n",
       "      <td>80.000000</td>\n",
       "      <td>2.000000</td>\n",
       "      <td>22.285714</td>\n",
       "      <td>406.000000</td>\n",
       "      <td>311.000000</td>\n",
       "      <td>95.000000</td>\n",
       "      <td>1.60</td>\n",
       "      <td>-2.704286</td>\n",
       "      <td>-7.345714</td>\n",
       "      <td>0.335714</td>\n",
       "      <td>21.723469</td>\n",
       "      <td>23.168027</td>\n",
       "      <td>18.585374</td>\n",
       "      <td>341.264966</td>\n",
       "      <td>270.670408</td>\n",
       "      <td>70.594558</td>\n",
       "      <td>1.595238</td>\n",
       "      <td>19.202721</td>\n",
       "      <td>356.264626</td>\n",
       "      <td>249.674830</td>\n",
       "      <td>106.589796</td>\n",
       "      <td>1.861111</td>\n",
       "      <td>6.024588</td>\n",
       "      <td>-6.198782</td>\n",
       "      <td>-1.131888</td>\n",
       "    </tr>\n",
       "    <tr>\n",
       "      <th>11955</th>\n",
       "      <td>2019</td>\n",
       "      <td>Cowboys</td>\n",
       "      <td>L</td>\n",
       "      <td>306.0</td>\n",
       "      <td>False</td>\n",
       "      <td>24.000000</td>\n",
       "      <td>20.857143</td>\n",
       "      <td>22.000000</td>\n",
       "      <td>399.571429</td>\n",
       "      <td>281.714286</td>\n",
       "      <td>117.857143</td>\n",
       "      <td>1.600000</td>\n",
       "      <td>19.571429</td>\n",
       "      <td>307.142857</td>\n",
       "      <td>208.142857</td>\n",
       "      <td>99.000000</td>\n",
       "      <td>1.75</td>\n",
       "      <td>10.301429</td>\n",
       "      <td>-1.997143</td>\n",
       "      <td>-4.680000</td>\n",
       "      <td>13.723661</td>\n",
       "      <td>19.628274</td>\n",
       "      <td>17.342857</td>\n",
       "      <td>290.433036</td>\n",
       "      <td>174.583185</td>\n",
       "      <td>115.849851</td>\n",
       "      <td>1.808333</td>\n",
       "      <td>20.129911</td>\n",
       "      <td>338.839732</td>\n",
       "      <td>218.693601</td>\n",
       "      <td>120.146131</td>\n",
       "      <td>1.264583</td>\n",
       "      <td>-5.387631</td>\n",
       "      <td>-1.868781</td>\n",
       "      <td>1.745897</td>\n",
       "    </tr>\n",
       "    <tr>\n",
       "      <th>11956</th>\n",
       "      <td>2019</td>\n",
       "      <td>Raiders</td>\n",
       "      <td>W</td>\n",
       "      <td>272.0</td>\n",
       "      <td>False</td>\n",
       "      <td>17.500000</td>\n",
       "      <td>33.500000</td>\n",
       "      <td>17.166667</td>\n",
       "      <td>346.833333</td>\n",
       "      <td>227.833333</td>\n",
       "      <td>119.000000</td>\n",
       "      <td>1.800000</td>\n",
       "      <td>23.166667</td>\n",
       "      <td>376.666667</td>\n",
       "      <td>265.666667</td>\n",
       "      <td>111.000000</td>\n",
       "      <td>1.50</td>\n",
       "      <td>1.756667</td>\n",
       "      <td>-16.121667</td>\n",
       "      <td>-0.270000</td>\n",
       "      <td>16.227891</td>\n",
       "      <td>25.172109</td>\n",
       "      <td>19.395238</td>\n",
       "      <td>349.024490</td>\n",
       "      <td>257.261224</td>\n",
       "      <td>91.763265</td>\n",
       "      <td>1.902778</td>\n",
       "      <td>17.616327</td>\n",
       "      <td>380.671088</td>\n",
       "      <td>255.863265</td>\n",
       "      <td>124.807823</td>\n",
       "      <td>1.238095</td>\n",
       "      <td>3.500986</td>\n",
       "      <td>-11.845639</td>\n",
       "      <td>-2.599452</td>\n",
       "    </tr>\n",
       "    <tr>\n",
       "      <th>11953</th>\n",
       "      <td>2019</td>\n",
       "      <td>Jaguars</td>\n",
       "      <td>L</td>\n",
       "      <td>357.0</td>\n",
       "      <td>False</td>\n",
       "      <td>20.714286</td>\n",
       "      <td>25.571429</td>\n",
       "      <td>20.857143</td>\n",
       "      <td>377.428571</td>\n",
       "      <td>240.285714</td>\n",
       "      <td>137.142857</td>\n",
       "      <td>1.500000</td>\n",
       "      <td>21.428571</td>\n",
       "      <td>370.571429</td>\n",
       "      <td>210.142857</td>\n",
       "      <td>160.428571</td>\n",
       "      <td>2.25</td>\n",
       "      <td>1.784286</td>\n",
       "      <td>-7.738571</td>\n",
       "      <td>1.618571</td>\n",
       "      <td>16.781293</td>\n",
       "      <td>24.990476</td>\n",
       "      <td>20.020408</td>\n",
       "      <td>344.576871</td>\n",
       "      <td>229.151701</td>\n",
       "      <td>115.425170</td>\n",
       "      <td>2.139116</td>\n",
       "      <td>19.371088</td>\n",
       "      <td>361.593878</td>\n",
       "      <td>224.651361</td>\n",
       "      <td>136.942517</td>\n",
       "      <td>1.776190</td>\n",
       "      <td>-5.838405</td>\n",
       "      <td>-1.897830</td>\n",
       "      <td>1.360476</td>\n",
       "    </tr>\n",
       "  </tbody>\n",
       "</table>\n",
       "<p>821 rows × 35 columns</p>\n",
       "</div>"
      ],
      "text/plain": [
       "       gs_year  gs_team winorlose   gs_id gs_is_playoff  avg_gs_pts_off  avg_gs_pts_def  avg_gs_first_down_off  avg_gs_yards_off  avg_gs_pass_yds_off  avg_gs_rush_yds_off  avg_gs_to_off  avg_gs_first_down_def  avg_gs_yards_def  avg_gs_pass_yds_def  avg_gs_rush_yds_def  avg_gs_to_def  avg_gs_exp_pts_off  avg_gs_exp_pts_def  avg_gs_exp_pts_st  last_year_avg_gs_pts_off  last_year_avg_gs_pts_def  last_year_avg_gs_first_down_off  last_year_avg_gs_yards_off  last_year_avg_gs_pass_yds_off  last_year_avg_gs_rush_yds_off  last_year_avg_gs_to_off  last_year_avg_gs_first_down_def  last_year_avg_gs_yards_def  last_year_avg_gs_pass_yds_def  last_year_avg_gs_rush_yds_def  last_year_avg_gs_to_def  last_year_avg_gs_exp_pts_off  last_year_avg_gs_exp_pts_def  last_year_avg_gs_exp_pts_st\n",
       "12389     2021  Jaguars         L  4258.0         False       16.500000       28.750000              19.000000        344.000000           225.000000           119.000000       1.666667              18.750000        348.250000           239.750000           108.500000            NaN           -0.080000           -9.585000          -1.885000                 24.936054                 32.405102                        24.259184                  405.762925                     282.811565                     122.951361                 1.659184                        24.806122                  430.098980                     287.623469                     142.475510                 1.502778                      9.008071                    -17.787109                    -1.036636\n",
       "12456     2021    Lions         L  4472.0         False       14.875000       24.125000              18.500000        325.375000           189.375000           136.000000       1.857143              21.000000        350.250000           223.875000           126.375000           1.80           -1.383750           -9.737500           2.372500                 23.648299                 29.647279                        21.341156                  339.998639                     239.123469                     100.875170                 1.223810                        24.337415                  411.503401                     248.730612                     162.772789                 2.216667                      6.329017                    -13.885381                     2.658422\n",
       "12403     2021   Ravens         L  4203.0         False       19.000000       18.666667              20.500000        354.666667           232.833333           121.833333       1.400000              18.500000        342.333333           256.000000            86.333333           1.00            0.085000           -1.705000           1.556667                 29.237654                 18.789947                        19.633995                  358.694885                     177.504453                     181.190432                 1.570833                        20.758333                  330.733333                     230.891358                      99.841975                 1.556085                      7.997661                      0.580535                     2.979090\n",
       "12404     2021  Jaguars         L  4259.0         False       14.600000       30.400000              18.000000        314.600000           207.200000           107.400000       1.750000              19.800000        362.200000           249.800000           112.400000            NaN           -2.574000          -11.906000          -0.858000                 24.936054                 32.405102                        24.259184                  405.762925                     282.811565                     122.951361                 1.659184                        24.806122                  430.098980                     287.623469                     142.475510                 1.502778                      9.008071                    -17.787109                    -1.036636\n",
       "12405     2021  Raiders         L  4335.0         False       25.200000       25.000000              20.600000        395.200000           306.000000            89.200000       2.000000              21.200000        363.200000           256.800000           106.400000           2.00            7.634000           -5.264000          -1.774000                 28.280272                 29.316327                        21.793537                  376.168027                     238.189116                     137.978912                 2.261111                        22.034694                  377.921769                     230.754422                     147.167347                 1.055556                     11.926303                    -11.763793                    -0.680874\n",
       "...        ...      ...       ...     ...           ...             ...             ...                    ...               ...                  ...                  ...            ...                    ...               ...                  ...                  ...            ...                 ...                 ...                ...                       ...                       ...                              ...                         ...                            ...                            ...                      ...                              ...                         ...                            ...                            ...                      ...                           ...                           ...                          ...\n",
       "11952     2019  Packers         W   394.0         False       20.833333       21.166667              18.166667        271.000000           183.333333            87.666667       1.000000              21.500000        378.333333           274.666667           103.666667           2.00            2.111667           -5.378333           3.073333                 20.436054                 29.944218                        20.775170                  384.315986                     286.815646                      97.500340                 1.485714                        21.167687                  367.664286                     231.707143                     135.957143                 1.000000                      6.836959                    -10.114503                    -7.588871\n",
       "11954     2019   Giants         W   323.0         False       21.000000       29.714286              16.571429        316.571429           236.571429            80.000000       2.000000              22.285714        406.000000           311.000000            95.000000           1.60           -2.704286           -7.345714           0.335714                 21.723469                 23.168027                        18.585374                  341.264966                     270.670408                      70.594558                 1.595238                        19.202721                  356.264626                     249.674830                     106.589796                 1.861111                      6.024588                     -6.198782                    -1.131888\n",
       "11955     2019  Cowboys         L   306.0         False       24.000000       20.857143              22.000000        399.571429           281.714286           117.857143       1.600000              19.571429        307.142857           208.142857            99.000000           1.75           10.301429           -1.997143          -4.680000                 13.723661                 19.628274                        17.342857                  290.433036                     174.583185                     115.849851                 1.808333                        20.129911                  338.839732                     218.693601                     120.146131                 1.264583                     -5.387631                     -1.868781                     1.745897\n",
       "11956     2019  Raiders         W   272.0         False       17.500000       33.500000              17.166667        346.833333           227.833333           119.000000       1.800000              23.166667        376.666667           265.666667           111.000000           1.50            1.756667          -16.121667          -0.270000                 16.227891                 25.172109                        19.395238                  349.024490                     257.261224                      91.763265                 1.902778                        17.616327                  380.671088                     255.863265                     124.807823                 1.238095                      3.500986                    -11.845639                    -2.599452\n",
       "11953     2019  Jaguars         L   357.0         False       20.714286       25.571429              20.857143        377.428571           240.285714           137.142857       1.500000              21.428571        370.571429           210.142857           160.428571           2.25            1.784286           -7.738571           1.618571                 16.781293                 24.990476                        20.020408                  344.576871                     229.151701                     115.425170                 2.139116                        19.371088                  361.593878                     224.651361                     136.942517                 1.776190                     -5.838405                     -1.897830                     1.360476\n",
       "\n",
       "[821 rows x 35 columns]"
      ]
     },
     "execution_count": 11,
     "metadata": {},
     "output_type": "execute_result"
    }
   ],
   "source": [
    "df_test = df_averages[df_averages['gs_year'] >= 2019].copy()\n",
    "df_test"
   ]
  },
  {
   "cell_type": "code",
   "execution_count": 12,
   "id": "5ee9fd9e",
   "metadata": {
    "execution": {
     "iopub.execute_input": "2022-09-03T15:28:04.163289Z",
     "iopub.status.busy": "2022-09-03T15:28:04.162873Z",
     "iopub.status.idle": "2022-09-03T15:28:04.169487Z",
     "shell.execute_reply": "2022-09-03T15:28:04.168445Z"
    },
    "papermill": {
     "duration": 0.033036,
     "end_time": "2022-09-03T15:28:04.171763",
     "exception": false,
     "start_time": "2022-09-03T15:28:04.138727",
     "status": "completed"
    },
    "tags": []
   },
   "outputs": [
    {
     "data": {
      "text/plain": [
       "((11721, 35), (821, 35))"
      ]
     },
     "execution_count": 12,
     "metadata": {},
     "output_type": "execute_result"
    }
   ],
   "source": [
    "df_train.shape, df_test.shape"
   ]
  },
  {
   "cell_type": "markdown",
   "id": "cc4b8060",
   "metadata": {
    "papermill": {
     "duration": 0.021541,
     "end_time": "2022-09-03T15:28:04.215485",
     "exception": false,
     "start_time": "2022-09-03T15:28:04.193944",
     "status": "completed"
    },
    "tags": []
   },
   "source": [
    "---"
   ]
  },
  {
   "cell_type": "markdown",
   "id": "c302272c",
   "metadata": {
    "papermill": {
     "duration": 0.022374,
     "end_time": "2022-09-03T15:28:04.259876",
     "exception": false,
     "start_time": "2022-09-03T15:28:04.237502",
     "status": "completed"
    },
    "tags": []
   },
   "source": [
    "# Pre-processamento"
   ]
  },
  {
   "cell_type": "code",
   "execution_count": 13,
   "id": "08782531",
   "metadata": {
    "execution": {
     "iopub.execute_input": "2022-09-03T15:28:04.305943Z",
     "iopub.status.busy": "2022-09-03T15:28:04.305366Z",
     "iopub.status.idle": "2022-09-03T15:28:04.322736Z",
     "shell.execute_reply": "2022-09-03T15:28:04.321651Z"
    },
    "papermill": {
     "duration": 0.043505,
     "end_time": "2022-09-03T15:28:04.325277",
     "exception": false,
     "start_time": "2022-09-03T15:28:04.281772",
     "status": "completed"
    },
    "tags": []
   },
   "outputs": [],
   "source": [
    "from sklearn.model_selection import train_test_split"
   ]
  },
  {
   "cell_type": "code",
   "execution_count": 14,
   "id": "0e47073f",
   "metadata": {
    "execution": {
     "iopub.execute_input": "2022-09-03T15:28:04.371601Z",
     "iopub.status.busy": "2022-09-03T15:28:04.371203Z",
     "iopub.status.idle": "2022-09-03T15:28:04.376304Z",
     "shell.execute_reply": "2022-09-03T15:28:04.375161Z"
    },
    "papermill": {
     "duration": 0.031316,
     "end_time": "2022-09-03T15:28:04.378870",
     "exception": false,
     "start_time": "2022-09-03T15:28:04.347554",
     "status": "completed"
    },
    "tags": []
   },
   "outputs": [],
   "source": [
    "target = 'winorlose'"
   ]
  },
  {
   "cell_type": "code",
   "execution_count": 15,
   "id": "72cd9946",
   "metadata": {
    "execution": {
     "iopub.execute_input": "2022-09-03T15:28:04.425141Z",
     "iopub.status.busy": "2022-09-03T15:28:04.424756Z",
     "iopub.status.idle": "2022-09-03T15:28:04.437584Z",
     "shell.execute_reply": "2022-09-03T15:28:04.436662Z"
    },
    "papermill": {
     "duration": 0.03877,
     "end_time": "2022-09-03T15:28:04.439985",
     "exception": false,
     "start_time": "2022-09-03T15:28:04.401215",
     "status": "completed"
    },
    "tags": []
   },
   "outputs": [],
   "source": [
    "# bool to numeric\n",
    "non_numeric_or_object = df_train.select_dtypes(exclude=[np.number, object]).columns\n",
    "df_train[non_numeric_or_object] = df_train[non_numeric_or_object].astype(int)\n",
    "\n",
    "non_numeric_or_object = df_test.select_dtypes(exclude=[np.number, object]).columns\n",
    "df_test[non_numeric_or_object] = df_test[non_numeric_or_object].astype(int)\n",
    "\n",
    "df_train['gs_is_playoff'] = df_train['gs_is_playoff'].astype(int)\n",
    "df_test['gs_is_playoff'] = df_test['gs_is_playoff'].astype(int)"
   ]
  },
  {
   "cell_type": "code",
   "execution_count": 16,
   "id": "b57fdbe3",
   "metadata": {
    "execution": {
     "iopub.execute_input": "2022-09-03T15:28:04.486516Z",
     "iopub.status.busy": "2022-09-03T15:28:04.486131Z",
     "iopub.status.idle": "2022-09-03T15:28:04.499579Z",
     "shell.execute_reply": "2022-09-03T15:28:04.498550Z"
    },
    "papermill": {
     "duration": 0.039377,
     "end_time": "2022-09-03T15:28:04.501909",
     "exception": false,
     "start_time": "2022-09-03T15:28:04.462532",
     "status": "completed"
    },
    "tags": []
   },
   "outputs": [],
   "source": [
    "# target encoding\n",
    "target_encoder = {'L': 0, 'W': 1}\n",
    "df_train[target] = df_train[target].map(target_encoder)\n",
    "df_test[target] = df_test[target].map(target_encoder)\n",
    "\n",
    "# col names\n",
    "cat_cols = df_train.select_dtypes(object).columns.tolist()\n",
    "num_cols = df_train.select_dtypes(np.number).columns.tolist()"
   ]
  },
  {
   "cell_type": "code",
   "execution_count": 17,
   "id": "68baf07c",
   "metadata": {
    "execution": {
     "iopub.execute_input": "2022-09-03T15:28:04.548960Z",
     "iopub.status.busy": "2022-09-03T15:28:04.548567Z",
     "iopub.status.idle": "2022-09-03T15:28:04.556444Z",
     "shell.execute_reply": "2022-09-03T15:28:04.555501Z"
    },
    "papermill": {
     "duration": 0.03391,
     "end_time": "2022-09-03T15:28:04.558732",
     "exception": false,
     "start_time": "2022-09-03T15:28:04.524822",
     "status": "completed"
    },
    "tags": []
   },
   "outputs": [],
   "source": [
    "# dealing with nans (I hope)\n",
    "df_train.fillna(-1, inplace=True)\n",
    "df_test.fillna(-1, inplace=True)"
   ]
  },
  {
   "cell_type": "code",
   "execution_count": 18,
   "id": "c3d28a00",
   "metadata": {
    "execution": {
     "iopub.execute_input": "2022-09-03T15:28:04.605032Z",
     "iopub.status.busy": "2022-09-03T15:28:04.604325Z",
     "iopub.status.idle": "2022-09-03T15:28:04.613368Z",
     "shell.execute_reply": "2022-09-03T15:28:04.612446Z"
    },
    "papermill": {
     "duration": 0.034732,
     "end_time": "2022-09-03T15:28:04.615585",
     "exception": false,
     "start_time": "2022-09-03T15:28:04.580853",
     "status": "completed"
    },
    "tags": []
   },
   "outputs": [],
   "source": [
    "df_train.sort_values('gs_year', ascending=True, inplace=True)\n",
    "df_test.sort_values('gs_year', ascending=True, inplace=True)"
   ]
  },
  {
   "cell_type": "code",
   "execution_count": 19,
   "id": "fb2fbf41",
   "metadata": {
    "execution": {
     "iopub.execute_input": "2022-09-03T15:28:04.663504Z",
     "iopub.status.busy": "2022-09-03T15:28:04.662487Z",
     "iopub.status.idle": "2022-09-03T15:28:04.682358Z",
     "shell.execute_reply": "2022-09-03T15:28:04.681282Z"
    },
    "papermill": {
     "duration": 0.046217,
     "end_time": "2022-09-03T15:28:04.684847",
     "exception": false,
     "start_time": "2022-09-03T15:28:04.638630",
     "status": "completed"
    },
    "tags": []
   },
   "outputs": [],
   "source": [
    "df_full_train = pd.concat([df_train, df_test])\n",
    "\n",
    "x_final = df_train.copy().drop(target, axis=1)\n",
    "y_final = df_train[target]\n",
    "\n",
    "df_test_final = df_test.copy().drop(target, axis=1)\n",
    "df_test_labels = df_test[target]"
   ]
  },
  {
   "cell_type": "code",
   "execution_count": 20,
   "id": "9809e2e2",
   "metadata": {
    "execution": {
     "iopub.execute_input": "2022-09-03T15:28:04.733485Z",
     "iopub.status.busy": "2022-09-03T15:28:04.733035Z",
     "iopub.status.idle": "2022-09-03T15:28:04.740460Z",
     "shell.execute_reply": "2022-09-03T15:28:04.739293Z"
    },
    "papermill": {
     "duration": 0.034197,
     "end_time": "2022-09-03T15:28:04.742739",
     "exception": false,
     "start_time": "2022-09-03T15:28:04.708542",
     "status": "completed"
    },
    "tags": []
   },
   "outputs": [
    {
     "data": {
      "text/plain": [
       "((11721, 34), (11721,), (821, 34), (821,), (12542, 35))"
      ]
     },
     "execution_count": 20,
     "metadata": {},
     "output_type": "execute_result"
    }
   ],
   "source": [
    "x_final.shape, y_final.shape, df_test_final.shape, df_test_labels.shape, df_full_train.shape"
   ]
  },
  {
   "cell_type": "code",
   "execution_count": 21,
   "id": "7593b6d5",
   "metadata": {
    "execution": {
     "iopub.execute_input": "2022-09-03T15:28:04.789793Z",
     "iopub.status.busy": "2022-09-03T15:28:04.789393Z",
     "iopub.status.idle": "2022-09-03T15:28:04.801600Z",
     "shell.execute_reply": "2022-09-03T15:28:04.800783Z"
    },
    "papermill": {
     "duration": 0.038319,
     "end_time": "2022-09-03T15:28:04.803734",
     "exception": false,
     "start_time": "2022-09-03T15:28:04.765415",
     "status": "completed"
    },
    "tags": []
   },
   "outputs": [
    {
     "data": {
      "text/plain": [
       "gs_year                            0\n",
       "gs_id                              0\n",
       "gs_is_playoff                      0\n",
       "avg_gs_pts_off                     0\n",
       "avg_gs_pts_def                     0\n",
       "avg_gs_first_down_off              0\n",
       "avg_gs_yards_off                   0\n",
       "avg_gs_pass_yds_off                0\n",
       "avg_gs_rush_yds_off                0\n",
       "avg_gs_to_off                      0\n",
       "avg_gs_first_down_def              0\n",
       "avg_gs_yards_def                   0\n",
       "avg_gs_pass_yds_def                0\n",
       "avg_gs_rush_yds_def                0\n",
       "avg_gs_to_def                      0\n",
       "avg_gs_exp_pts_off                 0\n",
       "avg_gs_exp_pts_def                 0\n",
       "avg_gs_exp_pts_st                  0\n",
       "last_year_avg_gs_pts_off           0\n",
       "last_year_avg_gs_pts_def           0\n",
       "last_year_avg_gs_first_down_off    0\n",
       "last_year_avg_gs_yards_off         0\n",
       "last_year_avg_gs_pass_yds_off      0\n",
       "last_year_avg_gs_rush_yds_off      0\n",
       "last_year_avg_gs_to_off            0\n",
       "last_year_avg_gs_first_down_def    0\n",
       "last_year_avg_gs_yards_def         0\n",
       "last_year_avg_gs_pass_yds_def      0\n",
       "last_year_avg_gs_rush_yds_def      0\n",
       "last_year_avg_gs_to_def            0\n",
       "last_year_avg_gs_exp_pts_off       0\n",
       "last_year_avg_gs_exp_pts_def       0\n",
       "last_year_avg_gs_exp_pts_st        0\n",
       "dtype: int64"
      ]
     },
     "execution_count": 21,
     "metadata": {},
     "output_type": "execute_result"
    }
   ],
   "source": [
    "(~np.isfinite(x_final.select_dtypes(np.number))).sum()"
   ]
  },
  {
   "cell_type": "markdown",
   "id": "6a45f170",
   "metadata": {
    "papermill": {
     "duration": 0.02236,
     "end_time": "2022-09-03T15:28:04.849014",
     "exception": false,
     "start_time": "2022-09-03T15:28:04.826654",
     "status": "completed"
    },
    "tags": []
   },
   "source": [
    "---"
   ]
  },
  {
   "cell_type": "markdown",
   "id": "4ef26d5b",
   "metadata": {
    "papermill": {
     "duration": 0.021881,
     "end_time": "2022-09-03T15:28:04.893398",
     "exception": false,
     "start_time": "2022-09-03T15:28:04.871517",
     "status": "completed"
    },
    "tags": []
   },
   "source": [
    "# Pipeline pre-processamento"
   ]
  },
  {
   "cell_type": "code",
   "execution_count": 22,
   "id": "4ac943eb",
   "metadata": {
    "execution": {
     "iopub.execute_input": "2022-09-03T15:28:04.939781Z",
     "iopub.status.busy": "2022-09-03T15:28:04.939404Z",
     "iopub.status.idle": "2022-09-03T15:28:05.075034Z",
     "shell.execute_reply": "2022-09-03T15:28:05.074008Z"
    },
    "papermill": {
     "duration": 0.161814,
     "end_time": "2022-09-03T15:28:05.077570",
     "exception": false,
     "start_time": "2022-09-03T15:28:04.915756",
     "status": "completed"
    },
    "tags": []
   },
   "outputs": [],
   "source": [
    "from sklearn.pipeline import make_pipeline, FeatureUnion\n",
    "from sklearn.preprocessing import RobustScaler, OrdinalEncoder\n",
    "from sklearn.compose import make_column_transformer, make_column_selector\n",
    "from sklearn.impute import SimpleImputer"
   ]
  },
  {
   "cell_type": "code",
   "execution_count": 23,
   "id": "0b97e032",
   "metadata": {
    "execution": {
     "iopub.execute_input": "2022-09-03T15:28:05.124708Z",
     "iopub.status.busy": "2022-09-03T15:28:05.124302Z",
     "iopub.status.idle": "2022-09-03T15:28:05.129599Z",
     "shell.execute_reply": "2022-09-03T15:28:05.128759Z"
    },
    "papermill": {
     "duration": 0.031534,
     "end_time": "2022-09-03T15:28:05.131719",
     "exception": false,
     "start_time": "2022-09-03T15:28:05.100185",
     "status": "completed"
    },
    "tags": []
   },
   "outputs": [],
   "source": [
    "preprocess_pipeline = make_column_transformer(\n",
    "    (SimpleImputer(strategy='mean', fill_value='constant'), make_column_selector(dtype_include=np.number)),\n",
    "    (OrdinalEncoder(handle_unknown='use_encoded_value', unknown_value=-1), make_column_selector(dtype_include=object))\n",
    ")"
   ]
  },
  {
   "cell_type": "markdown",
   "id": "db78f959",
   "metadata": {
    "papermill": {
     "duration": 0.02187,
     "end_time": "2022-09-03T15:28:05.175619",
     "exception": false,
     "start_time": "2022-09-03T15:28:05.153749",
     "status": "completed"
    },
    "tags": []
   },
   "source": [
    "# Classificadores"
   ]
  },
  {
   "cell_type": "code",
   "execution_count": 24,
   "id": "43d7e2a6",
   "metadata": {
    "execution": {
     "iopub.execute_input": "2022-09-03T15:28:05.221623Z",
     "iopub.status.busy": "2022-09-03T15:28:05.221248Z",
     "iopub.status.idle": "2022-09-03T15:28:05.226306Z",
     "shell.execute_reply": "2022-09-03T15:28:05.225365Z"
    },
    "papermill": {
     "duration": 0.031015,
     "end_time": "2022-09-03T15:28:05.228420",
     "exception": false,
     "start_time": "2022-09-03T15:28:05.197405",
     "status": "completed"
    },
    "tags": []
   },
   "outputs": [],
   "source": [
    "def fit_classifier(clf, x, y):\n",
    "    pipeline = make_pipeline(\n",
    "        preprocess_pipeline,\n",
    "        RobustScaler(),\n",
    "        clf\n",
    "    )\n",
    "\n",
    "    train_timer = Timer()\n",
    "\n",
    "    pipeline.fit(x, y)\n",
    "\n",
    "    train_timer.end()\n",
    "    \n",
    "    return pipeline"
   ]
  },
  {
   "cell_type": "code",
   "execution_count": 25,
   "id": "758849f2",
   "metadata": {
    "execution": {
     "iopub.execute_input": "2022-09-03T15:28:05.274880Z",
     "iopub.status.busy": "2022-09-03T15:28:05.274291Z",
     "iopub.status.idle": "2022-09-03T15:28:05.277940Z",
     "shell.execute_reply": "2022-09-03T15:28:05.277252Z"
    },
    "papermill": {
     "duration": 0.029355,
     "end_time": "2022-09-03T15:28:05.279917",
     "exception": false,
     "start_time": "2022-09-03T15:28:05.250562",
     "status": "completed"
    },
    "tags": []
   },
   "outputs": [],
   "source": [
    "RANDOM_STATE = 22"
   ]
  },
  {
   "cell_type": "markdown",
   "id": "e7a254eb",
   "metadata": {
    "papermill": {
     "duration": 0.021871,
     "end_time": "2022-09-03T15:28:05.323860",
     "exception": false,
     "start_time": "2022-09-03T15:28:05.301989",
     "status": "completed"
    },
    "tags": []
   },
   "source": [
    "## Gaussian Naive Bayes"
   ]
  },
  {
   "cell_type": "code",
   "execution_count": 26,
   "id": "95e88e00",
   "metadata": {
    "execution": {
     "iopub.execute_input": "2022-09-03T15:28:05.369887Z",
     "iopub.status.busy": "2022-09-03T15:28:05.369302Z",
     "iopub.status.idle": "2022-09-03T15:28:05.375708Z",
     "shell.execute_reply": "2022-09-03T15:28:05.374914Z"
    },
    "papermill": {
     "duration": 0.031765,
     "end_time": "2022-09-03T15:28:05.377705",
     "exception": false,
     "start_time": "2022-09-03T15:28:05.345940",
     "status": "completed"
    },
    "tags": []
   },
   "outputs": [],
   "source": [
    "from sklearn.naive_bayes import GaussianNB"
   ]
  },
  {
   "cell_type": "code",
   "execution_count": 27,
   "id": "7b46a393",
   "metadata": {
    "execution": {
     "iopub.execute_input": "2022-09-03T15:28:05.424420Z",
     "iopub.status.busy": "2022-09-03T15:28:05.423853Z",
     "iopub.status.idle": "2022-09-03T15:28:05.493413Z",
     "shell.execute_reply": "2022-09-03T15:28:05.492154Z"
    },
    "papermill": {
     "duration": 0.097466,
     "end_time": "2022-09-03T15:28:05.497308",
     "exception": false,
     "start_time": "2022-09-03T15:28:05.399842",
     "status": "completed"
    },
    "tags": []
   },
   "outputs": [
    {
     "name": "stdout",
     "output_type": "stream",
     "text": [
      "Execution took 0.064s\n"
     ]
    }
   ],
   "source": [
    "clf_gaussian_nb = GaussianNB()\n",
    "\n",
    "gaussian_nb_pipeline = fit_classifier(clf_gaussian_nb, x_final, y_final)"
   ]
  },
  {
   "cell_type": "code",
   "execution_count": 28,
   "id": "c2bf83c2",
   "metadata": {
    "execution": {
     "iopub.execute_input": "2022-09-03T15:28:05.545177Z",
     "iopub.status.busy": "2022-09-03T15:28:05.544537Z",
     "iopub.status.idle": "2022-09-03T15:28:05.788497Z",
     "shell.execute_reply": "2022-09-03T15:28:05.787405Z"
    },
    "papermill": {
     "duration": 0.269992,
     "end_time": "2022-09-03T15:28:05.790751",
     "exception": false,
     "start_time": "2022-09-03T15:28:05.520759",
     "status": "completed"
    },
    "tags": []
   },
   "outputs": [
    {
     "data": {
      "text/plain": [
       "<sklearn.metrics._plot.confusion_matrix.ConfusionMatrixDisplay at 0x7f1e73240750>"
      ]
     },
     "metadata": {},
     "output_type": "display_data"
    },
    {
     "data": {
      "text/html": [
       "<div>\n",
       "<style scoped>\n",
       "    .dataframe tbody tr th:only-of-type {\n",
       "        vertical-align: middle;\n",
       "    }\n",
       "\n",
       "    .dataframe tbody tr th {\n",
       "        vertical-align: top;\n",
       "    }\n",
       "\n",
       "    .dataframe thead th {\n",
       "        text-align: right;\n",
       "    }\n",
       "</style>\n",
       "<table border=\"1\" class=\"dataframe\">\n",
       "  <thead>\n",
       "    <tr style=\"text-align: right;\">\n",
       "      <th></th>\n",
       "      <th>model_name</th>\n",
       "      <th>acc</th>\n",
       "      <th>bacc</th>\n",
       "      <th>precision</th>\n",
       "      <th>recall</th>\n",
       "      <th>f1score</th>\n",
       "    </tr>\n",
       "  </thead>\n",
       "  <tbody>\n",
       "    <tr>\n",
       "      <th>0</th>\n",
       "      <td>gaussian_nb</td>\n",
       "      <td>0.548112</td>\n",
       "      <td>0.551027</td>\n",
       "      <td>0.528827</td>\n",
       "      <td>0.665</td>\n",
       "      <td>0.589147</td>\n",
       "    </tr>\n",
       "  </tbody>\n",
       "</table>\n",
       "</div>"
      ],
      "text/plain": [
       "    model_name       acc      bacc  precision  recall   f1score\n",
       "0  gaussian_nb  0.548112  0.551027   0.528827   0.665  0.589147"
      ]
     },
     "metadata": {},
     "output_type": "display_data"
    },
    {
     "data": {
      "image/png": "[encoded data removed]",
      "text/plain": [
       "<Figure size 432x288 with 2 Axes>"
      ]
     },
     "metadata": {
      "needs_background": "light"
     },
     "output_type": "display_data"
    }
   ],
   "source": [
    "preds = gaussian_nb_pipeline.predict(df_test_final)\n",
    "\n",
    "scores = calculate_scores('gaussian_nb', df_test_labels, preds)"
   ]
  },
  {
   "cell_type": "markdown",
   "id": "b65a327c",
   "metadata": {
    "papermill": {
     "duration": 0.022537,
     "end_time": "2022-09-03T15:28:05.836252",
     "exception": false,
     "start_time": "2022-09-03T15:28:05.813715",
     "status": "completed"
    },
    "tags": []
   },
   "source": [
    "## Multi-layer perceptron"
   ]
  },
  {
   "cell_type": "code",
   "execution_count": 29,
   "id": "b3c3d275",
   "metadata": {
    "execution": {
     "iopub.execute_input": "2022-09-03T15:28:05.884334Z",
     "iopub.status.busy": "2022-09-03T15:28:05.882959Z",
     "iopub.status.idle": "2022-09-03T15:28:05.895895Z",
     "shell.execute_reply": "2022-09-03T15:28:05.895123Z"
    },
    "papermill": {
     "duration": 0.039335,
     "end_time": "2022-09-03T15:28:05.898165",
     "exception": false,
     "start_time": "2022-09-03T15:28:05.858830",
     "status": "completed"
    },
    "tags": []
   },
   "outputs": [],
   "source": [
    "from sklearn.neural_network import MLPClassifier"
   ]
  },
  {
   "cell_type": "code",
   "execution_count": 30,
   "id": "e4c805fd",
   "metadata": {
    "execution": {
     "iopub.execute_input": "2022-09-03T15:28:05.946369Z",
     "iopub.status.busy": "2022-09-03T15:28:05.945453Z",
     "iopub.status.idle": "2022-09-03T15:31:27.897176Z",
     "shell.execute_reply": "2022-09-03T15:31:27.895213Z"
    },
    "papermill": {
     "duration": 202.028311,
     "end_time": "2022-09-03T15:31:27.949503",
     "exception": false,
     "start_time": "2022-09-03T15:28:05.921192",
     "status": "completed"
    },
    "tags": []
   },
   "outputs": [
    {
     "name": "stdout",
     "output_type": "stream",
     "text": [
      "Execution took 201.924s\n"
     ]
    }
   ],
   "source": [
    "clf_mlp = MLPClassifier(\n",
    "    max_iter=2000, \n",
    "    n_iter_no_change=50, \n",
    "    warm_start=True, \n",
    "    random_state=RANDOM_STATE\n",
    ")\n",
    "\n",
    "pipeline_mlp = fit_classifier(clf_mlp, x_final, y_final)"
   ]
  },
  {
   "cell_type": "code",
   "execution_count": 31,
   "id": "5f0ba473",
   "metadata": {
    "execution": {
     "iopub.execute_input": "2022-09-03T15:31:28.027839Z",
     "iopub.status.busy": "2022-09-03T15:31:28.027430Z",
     "iopub.status.idle": "2022-09-03T15:31:28.391467Z",
     "shell.execute_reply": "2022-09-03T15:31:28.390651Z"
    },
    "papermill": {
     "duration": 0.39383,
     "end_time": "2022-09-03T15:31:28.393776",
     "exception": false,
     "start_time": "2022-09-03T15:31:27.999946",
     "status": "completed"
    },
    "tags": []
   },
   "outputs": [
    {
     "data": {
      "text/plain": [
       "<sklearn.metrics._plot.confusion_matrix.ConfusionMatrixDisplay at 0x7f1e7346f690>"
      ]
     },
     "metadata": {},
     "output_type": "display_data"
    },
    {
     "data": {
      "text/html": [
       "<div>\n",
       "<style scoped>\n",
       "    .dataframe tbody tr th:only-of-type {\n",
       "        vertical-align: middle;\n",
       "    }\n",
       "\n",
       "    .dataframe tbody tr th {\n",
       "        vertical-align: top;\n",
       "    }\n",
       "\n",
       "    .dataframe thead th {\n",
       "        text-align: right;\n",
       "    }\n",
       "</style>\n",
       "<table border=\"1\" class=\"dataframe\">\n",
       "  <thead>\n",
       "    <tr style=\"text-align: right;\">\n",
       "      <th></th>\n",
       "      <th>model_name</th>\n",
       "      <th>acc</th>\n",
       "      <th>bacc</th>\n",
       "      <th>precision</th>\n",
       "      <th>recall</th>\n",
       "      <th>f1score</th>\n",
       "    </tr>\n",
       "  </thead>\n",
       "  <tbody>\n",
       "    <tr>\n",
       "      <th>0</th>\n",
       "      <td>gaussian_nb</td>\n",
       "      <td>0.548112</td>\n",
       "      <td>0.551027</td>\n",
       "      <td>0.528827</td>\n",
       "      <td>0.665</td>\n",
       "      <td>0.589147</td>\n",
       "    </tr>\n",
       "    <tr>\n",
       "      <th>1</th>\n",
       "      <td>mlp</td>\n",
       "      <td>0.499391</td>\n",
       "      <td>0.499032</td>\n",
       "      <td>0.486216</td>\n",
       "      <td>0.485</td>\n",
       "      <td>0.485607</td>\n",
       "    </tr>\n",
       "  </tbody>\n",
       "</table>\n",
       "</div>"
      ],
      "text/plain": [
       "    model_name       acc      bacc  precision  recall   f1score\n",
       "0  gaussian_nb  0.548112  0.551027   0.528827   0.665  0.589147\n",
       "1          mlp  0.499391  0.499032   0.486216   0.485  0.485607"
      ]
     },
     "metadata": {},
     "output_type": "display_data"
    },
    {
     "data": {
      "image/png": "[encoded data removed]",
      "text/plain": [
       "<Figure size 432x288 with 2 Axes>"
      ]
     },
     "metadata": {
      "needs_background": "light"
     },
     "output_type": "display_data"
    }
   ],
   "source": [
    "preds = pipeline_mlp.predict(df_test_final)\n",
    "\n",
    "scores = calculate_scores('mlp', df_test_labels, preds)"
   ]
  },
  {
   "cell_type": "markdown",
   "id": "4d80f368",
   "metadata": {
    "papermill": {
     "duration": 0.024089,
     "end_time": "2022-09-03T15:31:28.443212",
     "exception": false,
     "start_time": "2022-09-03T15:31:28.419123",
     "status": "completed"
    },
    "tags": []
   },
   "source": [
    "## Random Forest Classifier"
   ]
  },
  {
   "cell_type": "code",
   "execution_count": 32,
   "id": "40509b8a",
   "metadata": {
    "execution": {
     "iopub.execute_input": "2022-09-03T15:31:28.493399Z",
     "iopub.status.busy": "2022-09-03T15:31:28.492656Z",
     "iopub.status.idle": "2022-09-03T15:31:28.597373Z",
     "shell.execute_reply": "2022-09-03T15:31:28.596011Z"
    },
    "papermill": {
     "duration": 0.133437,
     "end_time": "2022-09-03T15:31:28.600461",
     "exception": false,
     "start_time": "2022-09-03T15:31:28.467024",
     "status": "completed"
    },
    "tags": []
   },
   "outputs": [],
   "source": [
    "from sklearn.ensemble import RandomForestClassifier"
   ]
  },
  {
   "cell_type": "code",
   "execution_count": 33,
   "id": "b72decaa",
   "metadata": {
    "execution": {
     "iopub.execute_input": "2022-09-03T15:31:28.650931Z",
     "iopub.status.busy": "2022-09-03T15:31:28.650095Z",
     "iopub.status.idle": "2022-09-03T15:31:43.241802Z",
     "shell.execute_reply": "2022-09-03T15:31:43.240381Z"
    },
    "papermill": {
     "duration": 14.620118,
     "end_time": "2022-09-03T15:31:43.244713",
     "exception": false,
     "start_time": "2022-09-03T15:31:28.624595",
     "status": "completed"
    },
    "tags": []
   },
   "outputs": [
    {
     "name": "stdout",
     "output_type": "stream",
     "text": [
      "Execution took 14.583s\n"
     ]
    }
   ],
   "source": [
    "clf_rfc = RandomForestClassifier(\n",
    "    n_estimators=200,\n",
    "    min_samples_split=10,\n",
    "    min_samples_leaf=1,\n",
    "    max_features='auto',\n",
    "    max_depth=100,\n",
    "    bootstrap=False,\n",
    "    warm_start=True,\n",
    "    random_state=RANDOM_STATE\n",
    ")\n",
    "\n",
    "pipeline_rfc = fit_classifier(clf_rfc, x_final, y_final)"
   ]
  },
  {
   "cell_type": "code",
   "execution_count": 34,
   "id": "215fdb9f",
   "metadata": {
    "execution": {
     "iopub.execute_input": "2022-09-03T15:31:43.296150Z",
     "iopub.status.busy": "2022-09-03T15:31:43.295685Z",
     "iopub.status.idle": "2022-09-03T15:31:43.638253Z",
     "shell.execute_reply": "2022-09-03T15:31:43.637085Z"
    },
    "papermill": {
     "duration": 0.371077,
     "end_time": "2022-09-03T15:31:43.640879",
     "exception": false,
     "start_time": "2022-09-03T15:31:43.269802",
     "status": "completed"
    },
    "tags": []
   },
   "outputs": [
    {
     "data": {
      "text/plain": [
       "<sklearn.metrics._plot.confusion_matrix.ConfusionMatrixDisplay at 0x7f1e70b08450>"
      ]
     },
     "metadata": {},
     "output_type": "display_data"
    },
    {
     "data": {
      "text/html": [
       "<div>\n",
       "<style scoped>\n",
       "    .dataframe tbody tr th:only-of-type {\n",
       "        vertical-align: middle;\n",
       "    }\n",
       "\n",
       "    .dataframe tbody tr th {\n",
       "        vertical-align: top;\n",
       "    }\n",
       "\n",
       "    .dataframe thead th {\n",
       "        text-align: right;\n",
       "    }\n",
       "</style>\n",
       "<table border=\"1\" class=\"dataframe\">\n",
       "  <thead>\n",
       "    <tr style=\"text-align: right;\">\n",
       "      <th></th>\n",
       "      <th>model_name</th>\n",
       "      <th>acc</th>\n",
       "      <th>bacc</th>\n",
       "      <th>precision</th>\n",
       "      <th>recall</th>\n",
       "      <th>f1score</th>\n",
       "    </tr>\n",
       "  </thead>\n",
       "  <tbody>\n",
       "    <tr>\n",
       "      <th>0</th>\n",
       "      <td>gaussian_nb</td>\n",
       "      <td>0.548112</td>\n",
       "      <td>0.551027</td>\n",
       "      <td>0.528827</td>\n",
       "      <td>0.6650</td>\n",
       "      <td>0.589147</td>\n",
       "    </tr>\n",
       "    <tr>\n",
       "      <th>1</th>\n",
       "      <td>mlp</td>\n",
       "      <td>0.499391</td>\n",
       "      <td>0.499032</td>\n",
       "      <td>0.486216</td>\n",
       "      <td>0.4850</td>\n",
       "      <td>0.485607</td>\n",
       "    </tr>\n",
       "    <tr>\n",
       "      <th>2</th>\n",
       "      <td>rfc</td>\n",
       "      <td>0.577345</td>\n",
       "      <td>0.571986</td>\n",
       "      <td>0.611814</td>\n",
       "      <td>0.3625</td>\n",
       "      <td>0.455259</td>\n",
       "    </tr>\n",
       "  </tbody>\n",
       "</table>\n",
       "</div>"
      ],
      "text/plain": [
       "    model_name       acc      bacc  precision  recall   f1score\n",
       "0  gaussian_nb  0.548112  0.551027   0.528827  0.6650  0.589147\n",
       "1          mlp  0.499391  0.499032   0.486216  0.4850  0.485607\n",
       "2          rfc  0.577345  0.571986   0.611814  0.3625  0.455259"
      ]
     },
     "metadata": {},
     "output_type": "display_data"
    },
    {
     "data": {
      "image/png": "[encoded data removed]",
      "text/plain": [
       "<Figure size 432x288 with 2 Axes>"
      ]
     },
     "metadata": {
      "needs_background": "light"
     },
     "output_type": "display_data"
    }
   ],
   "source": [
    "preds = pipeline_rfc.predict(df_test_final)\n",
    "\n",
    "scores = calculate_scores('rfc', df_test_labels, preds)"
   ]
  },
  {
   "cell_type": "markdown",
   "id": "f792a9c8",
   "metadata": {
    "papermill": {
     "duration": 0.029403,
     "end_time": "2022-09-03T15:31:43.698842",
     "exception": false,
     "start_time": "2022-09-03T15:31:43.669439",
     "status": "completed"
    },
    "tags": []
   },
   "source": [
    "# Combinando os classificadores"
   ]
  },
  {
   "cell_type": "code",
   "execution_count": 35,
   "id": "695085f5",
   "metadata": {
    "execution": {
     "iopub.execute_input": "2022-09-03T15:31:43.768176Z",
     "iopub.status.busy": "2022-09-03T15:31:43.766473Z",
     "iopub.status.idle": "2022-09-03T15:31:43.772975Z",
     "shell.execute_reply": "2022-09-03T15:31:43.772054Z"
    },
    "papermill": {
     "duration": 0.041073,
     "end_time": "2022-09-03T15:31:43.775318",
     "exception": false,
     "start_time": "2022-09-03T15:31:43.734245",
     "status": "completed"
    },
    "tags": []
   },
   "outputs": [],
   "source": [
    "from sklearn.ensemble import StackingClassifier\n",
    "from sklearn.linear_model import LogisticRegression"
   ]
  },
  {
   "cell_type": "code",
   "execution_count": 36,
   "id": "b1b130b2",
   "metadata": {
    "execution": {
     "iopub.execute_input": "2022-09-03T15:31:43.826951Z",
     "iopub.status.busy": "2022-09-03T15:31:43.826229Z",
     "iopub.status.idle": "2022-09-03T15:31:43.832186Z",
     "shell.execute_reply": "2022-09-03T15:31:43.831311Z"
    },
    "papermill": {
     "duration": 0.034283,
     "end_time": "2022-09-03T15:31:43.834597",
     "exception": false,
     "start_time": "2022-09-03T15:31:43.800314",
     "status": "completed"
    },
    "tags": []
   },
   "outputs": [],
   "source": [
    "def make_new_stacking_pipeline():\n",
    "    stacking_clf = StackingClassifier(\n",
    "        estimators=[\n",
    "            ('gaussian_nb', GaussianNB()),\n",
    "            ('mlp', MLPClassifier()),\n",
    "            # ('keras', clf_keras)\n",
    "            ('rfc', RandomForestClassifier())\n",
    "        ],\n",
    "        final_estimator=LogisticRegression()\n",
    "    )\n",
    "    pipeline = make_pipeline(\n",
    "        preprocess_pipeline,\n",
    "        RobustScaler(),\n",
    "        stacking_clf\n",
    "    )\n",
    "\n",
    "    return pipeline"
   ]
  },
  {
   "cell_type": "code",
   "execution_count": 37,
   "id": "5ebf6d21",
   "metadata": {
    "execution": {
     "iopub.execute_input": "2022-09-03T15:31:43.885847Z",
     "iopub.status.busy": "2022-09-03T15:31:43.884996Z",
     "iopub.status.idle": "2022-09-03T15:31:43.914163Z",
     "shell.execute_reply": "2022-09-03T15:31:43.913289Z"
    },
    "papermill": {
     "duration": 0.057525,
     "end_time": "2022-09-03T15:31:43.916614",
     "exception": false,
     "start_time": "2022-09-03T15:31:43.859089",
     "status": "completed"
    },
    "tags": []
   },
   "outputs": [
    {
     "data": {
      "text/plain": [
       "Pipeline(steps=[('columntransformer',\n",
       "                 ColumnTransformer(transformers=[('simpleimputer',\n",
       "                                                  SimpleImputer(fill_value='constant'),\n",
       "                                                  <sklearn.compose._column_transformer.make_column_selector object at 0x7f1e73132f10>),\n",
       "                                                 ('ordinalencoder',\n",
       "                                                  OrdinalEncoder(handle_unknown='use_encoded_value',\n",
       "                                                                 unknown_value=-1),\n",
       "                                                  <sklearn.compose._column_transformer.make_column_selector object at 0x7f1e73132950>)])),\n",
       "                ('robustscaler', RobustScaler()),\n",
       "                ('stackingclassifier',\n",
       "                 StackingClassifier(estimators=[('gaussian_nb', GaussianNB()),\n",
       "                                                ('mlp', MLPClassifier()),\n",
       "                                                ('rfc',\n",
       "                                                 RandomForestClassifier())],\n",
       "                                    final_estimator=LogisticRegression()))])"
      ]
     },
     "execution_count": 37,
     "metadata": {},
     "output_type": "execute_result"
    }
   ],
   "source": [
    "stack_pipeline = make_new_stacking_pipeline()\n",
    "stack_pipeline"
   ]
  },
  {
   "cell_type": "code",
   "execution_count": 38,
   "id": "21ccc4d7",
   "metadata": {
    "execution": {
     "iopub.execute_input": "2022-09-03T15:31:43.968299Z",
     "iopub.status.busy": "2022-09-03T15:31:43.967554Z",
     "iopub.status.idle": "2022-09-03T15:34:11.404012Z",
     "shell.execute_reply": "2022-09-03T15:34:11.402488Z"
    },
    "papermill": {
     "duration": 147.469658,
     "end_time": "2022-09-03T15:34:11.410968",
     "exception": false,
     "start_time": "2022-09-03T15:31:43.941310",
     "status": "completed"
    },
    "tags": []
   },
   "outputs": [
    {
     "name": "stderr",
     "output_type": "stream",
     "text": [
      "/opt/conda/lib/python3.7/site-packages/sklearn/neural_network/_multilayer_perceptron.py:696: ConvergenceWarning: Stochastic Optimizer: Maximum iterations (200) reached and the optimization hasn't converged yet.\n",
      "  ConvergenceWarning,\n",
      "/opt/conda/lib/python3.7/site-packages/sklearn/neural_network/_multilayer_perceptron.py:696: ConvergenceWarning: Stochastic Optimizer: Maximum iterations (200) reached and the optimization hasn't converged yet.\n",
      "  ConvergenceWarning,\n",
      "/opt/conda/lib/python3.7/site-packages/sklearn/neural_network/_multilayer_perceptron.py:696: ConvergenceWarning: Stochastic Optimizer: Maximum iterations (200) reached and the optimization hasn't converged yet.\n",
      "  ConvergenceWarning,\n",
      "/opt/conda/lib/python3.7/site-packages/sklearn/neural_network/_multilayer_perceptron.py:696: ConvergenceWarning: Stochastic Optimizer: Maximum iterations (200) reached and the optimization hasn't converged yet.\n",
      "  ConvergenceWarning,\n",
      "/opt/conda/lib/python3.7/site-packages/sklearn/neural_network/_multilayer_perceptron.py:696: ConvergenceWarning: Stochastic Optimizer: Maximum iterations (200) reached and the optimization hasn't converged yet.\n",
      "  ConvergenceWarning,\n",
      "/opt/conda/lib/python3.7/site-packages/sklearn/neural_network/_multilayer_perceptron.py:696: ConvergenceWarning: Stochastic Optimizer: Maximum iterations (200) reached and the optimization hasn't converged yet.\n",
      "  ConvergenceWarning,\n"
     ]
    },
    {
     "name": "stdout",
     "output_type": "stream",
     "text": [
      "Execution took 147.429s\n"
     ]
    }
   ],
   "source": [
    "train_timer = Timer()\n",
    "\n",
    "stack_pipeline.fit(x_final, y_final)\n",
    "\n",
    "train_timer.end()"
   ]
  },
  {
   "cell_type": "code",
   "execution_count": 39,
   "id": "3851eb30",
   "metadata": {
    "execution": {
     "iopub.execute_input": "2022-09-03T15:34:11.533895Z",
     "iopub.status.busy": "2022-09-03T15:34:11.533450Z",
     "iopub.status.idle": "2022-09-03T15:34:11.899363Z",
     "shell.execute_reply": "2022-09-03T15:34:11.898324Z"
    },
    "papermill": {
     "duration": 0.421053,
     "end_time": "2022-09-03T15:34:11.901874",
     "exception": false,
     "start_time": "2022-09-03T15:34:11.480821",
     "status": "completed"
    },
    "tags": []
   },
   "outputs": [
    {
     "data": {
      "text/plain": [
       "<sklearn.metrics._plot.confusion_matrix.ConfusionMatrixDisplay at 0x7f1e71051950>"
      ]
     },
     "metadata": {},
     "output_type": "display_data"
    },
    {
     "data": {
      "text/html": [
       "<div>\n",
       "<style scoped>\n",
       "    .dataframe tbody tr th:only-of-type {\n",
       "        vertical-align: middle;\n",
       "    }\n",
       "\n",
       "    .dataframe tbody tr th {\n",
       "        vertical-align: top;\n",
       "    }\n",
       "\n",
       "    .dataframe thead th {\n",
       "        text-align: right;\n",
       "    }\n",
       "</style>\n",
       "<table border=\"1\" class=\"dataframe\">\n",
       "  <thead>\n",
       "    <tr style=\"text-align: right;\">\n",
       "      <th></th>\n",
       "      <th>model_name</th>\n",
       "      <th>acc</th>\n",
       "      <th>bacc</th>\n",
       "      <th>precision</th>\n",
       "      <th>recall</th>\n",
       "      <th>f1score</th>\n",
       "    </tr>\n",
       "  </thead>\n",
       "  <tbody>\n",
       "    <tr>\n",
       "      <th>0</th>\n",
       "      <td>gaussian_nb</td>\n",
       "      <td>0.548112</td>\n",
       "      <td>0.551027</td>\n",
       "      <td>0.528827</td>\n",
       "      <td>0.6650</td>\n",
       "      <td>0.589147</td>\n",
       "    </tr>\n",
       "    <tr>\n",
       "      <th>1</th>\n",
       "      <td>mlp</td>\n",
       "      <td>0.499391</td>\n",
       "      <td>0.499032</td>\n",
       "      <td>0.486216</td>\n",
       "      <td>0.4850</td>\n",
       "      <td>0.485607</td>\n",
       "    </tr>\n",
       "    <tr>\n",
       "      <th>2</th>\n",
       "      <td>rfc</td>\n",
       "      <td>0.577345</td>\n",
       "      <td>0.571986</td>\n",
       "      <td>0.611814</td>\n",
       "      <td>0.3625</td>\n",
       "      <td>0.455259</td>\n",
       "    </tr>\n",
       "    <tr>\n",
       "      <th>3</th>\n",
       "      <td>stacking</td>\n",
       "      <td>0.548112</td>\n",
       "      <td>0.541675</td>\n",
       "      <td>0.571429</td>\n",
       "      <td>0.2900</td>\n",
       "      <td>0.384743</td>\n",
       "    </tr>\n",
       "  </tbody>\n",
       "</table>\n",
       "</div>"
      ],
      "text/plain": [
       "    model_name       acc      bacc  precision  recall   f1score\n",
       "0  gaussian_nb  0.548112  0.551027   0.528827  0.6650  0.589147\n",
       "1          mlp  0.499391  0.499032   0.486216  0.4850  0.485607\n",
       "2          rfc  0.577345  0.571986   0.611814  0.3625  0.455259\n",
       "3     stacking  0.548112  0.541675   0.571429  0.2900  0.384743"
      ]
     },
     "metadata": {},
     "output_type": "display_data"
    },
    {
     "data": {
      "image/png": "[encoded data removed]",
      "text/plain": [
       "<Figure size 432x288 with 2 Axes>"
      ]
     },
     "metadata": {
      "needs_background": "light"
     },
     "output_type": "display_data"
    }
   ],
   "source": [
    "preds = stack_pipeline.predict(df_test_final)\n",
    "\n",
    "scores = calculate_scores('stacking', df_test_labels, preds)"
   ]
  },
  {
   "cell_type": "markdown",
   "id": "85c788d6",
   "metadata": {
    "papermill": {
     "duration": 0.024736,
     "end_time": "2022-09-03T15:34:11.951640",
     "exception": false,
     "start_time": "2022-09-03T15:34:11.926904",
     "status": "completed"
    },
    "tags": []
   },
   "source": [
    "# Teste com anos individuais"
   ]
  },
  {
   "cell_type": "code",
   "execution_count": 40,
   "id": "994f39d9",
   "metadata": {
    "execution": {
     "iopub.execute_input": "2022-09-03T15:34:12.004740Z",
     "iopub.status.busy": "2022-09-03T15:34:12.003661Z",
     "iopub.status.idle": "2022-09-03T15:34:12.018807Z",
     "shell.execute_reply": "2022-09-03T15:34:12.017799Z"
    },
    "papermill": {
     "duration": 0.044529,
     "end_time": "2022-09-03T15:34:12.021337",
     "exception": false,
     "start_time": "2022-09-03T15:34:11.976808",
     "status": "completed"
    },
    "tags": []
   },
   "outputs": [],
   "source": [
    "x1970_2017 = df_full_train[df_full_train['gs_year'] <= 2017].drop(target, axis=1)\n",
    "y1970_2017 = df_full_train[df_full_train['gs_year'] <= 2017][target]"
   ]
  },
  {
   "cell_type": "code",
   "execution_count": 41,
   "id": "b3dd5c2c",
   "metadata": {
    "execution": {
     "iopub.execute_input": "2022-09-03T15:34:12.073985Z",
     "iopub.status.busy": "2022-09-03T15:34:12.073164Z",
     "iopub.status.idle": "2022-09-03T15:34:12.088547Z",
     "shell.execute_reply": "2022-09-03T15:34:12.087697Z"
    },
    "papermill": {
     "duration": 0.044652,
     "end_time": "2022-09-03T15:34:12.091036",
     "exception": false,
     "start_time": "2022-09-03T15:34:12.046384",
     "status": "completed"
    },
    "tags": []
   },
   "outputs": [],
   "source": [
    "x2018 = df_full_train[df_full_train['gs_year'] == 2018].drop(target, axis=1)\n",
    "y2018 = df_full_train[df_full_train['gs_year'] == 2018][target]\n",
    "\n",
    "x2019 = df_full_train[df_full_train['gs_year'] == 2019].drop(target, axis=1)\n",
    "y2019 = df_full_train[df_full_train['gs_year'] == 2019][target]\n",
    "\n",
    "x2020 = df_full_train[df_full_train['gs_year'] == 2020].drop(target, axis=1)\n",
    "y2020 = df_full_train[df_full_train['gs_year'] == 2020][target]\n",
    "\n",
    "x2021 = df_full_train[df_full_train['gs_year'] == 2021].drop(target, axis=1)\n",
    "y2021 = df_full_train[df_full_train['gs_year'] == 2021][target]"
   ]
  },
  {
   "cell_type": "code",
   "execution_count": 42,
   "id": "25ef15e6",
   "metadata": {
    "execution": {
     "iopub.execute_input": "2022-09-03T15:34:12.143419Z",
     "iopub.status.busy": "2022-09-03T15:34:12.142608Z",
     "iopub.status.idle": "2022-09-03T15:34:12.149940Z",
     "shell.execute_reply": "2022-09-03T15:34:12.148415Z"
    },
    "papermill": {
     "duration": 0.036538,
     "end_time": "2022-09-03T15:34:12.152693",
     "exception": false,
     "start_time": "2022-09-03T15:34:12.116155",
     "status": "completed"
    },
    "tags": []
   },
   "outputs": [
    {
     "name": "stdout",
     "output_type": "stream",
     "text": [
      "\n",
      "1970-2017 - x: (11455, 34), y: (11455,)\n",
      "2018      - x: (266, 34),   y: (266,)\n",
      "2019      - x: (267, 34),   y: (267,)\n",
      "2020      - x: (269, 34),   y: (269,)\n",
      "2021      - x: (285, 34),   y: (285,)\n",
      "\n"
     ]
    }
   ],
   "source": [
    "print(f'''\n",
    "1970-2017 - x: {x1970_2017.shape}, y: {y1970_2017.shape}\n",
    "2018      - x: {x2018.shape},   y: {y2018.shape}\n",
    "2019      - x: {x2019.shape},   y: {y2019.shape}\n",
    "2020      - x: {x2020.shape},   y: {y2020.shape}\n",
    "2021      - x: {x2021.shape},   y: {y2021.shape}\n",
    "''')"
   ]
  },
  {
   "cell_type": "code",
   "execution_count": 43,
   "id": "742d414a",
   "metadata": {
    "execution": {
     "iopub.execute_input": "2022-09-03T15:34:12.219178Z",
     "iopub.status.busy": "2022-09-03T15:34:12.218361Z",
     "iopub.status.idle": "2022-09-03T15:34:12.225044Z",
     "shell.execute_reply": "2022-09-03T15:34:12.224239Z"
    },
    "papermill": {
     "duration": 0.045365,
     "end_time": "2022-09-03T15:34:12.227622",
     "exception": false,
     "start_time": "2022-09-03T15:34:12.182257",
     "status": "completed"
    },
    "tags": []
   },
   "outputs": [],
   "source": [
    "clf_gaussian_nb = GaussianNB()\n",
    "\n",
    "clf_mlp = MLPClassifier(\n",
    "    max_iter=2000, \n",
    "    n_iter_no_change=50, \n",
    "    warm_start=True, \n",
    "    random_state=RANDOM_STATE\n",
    ")\n",
    "\n",
    "clf_rfc = RandomForestClassifier(\n",
    "    n_estimators=200,\n",
    "    min_samples_split=10,\n",
    "    min_samples_leaf=1,\n",
    "    max_features='auto',\n",
    "    max_depth=100,\n",
    "    bootstrap=False,\n",
    "    warm_start=True,\n",
    "    random_state=RANDOM_STATE\n",
    ")"
   ]
  },
  {
   "cell_type": "code",
   "execution_count": 44,
   "id": "4966b4f1",
   "metadata": {
    "execution": {
     "iopub.execute_input": "2022-09-03T15:34:12.291996Z",
     "iopub.status.busy": "2022-09-03T15:34:12.291057Z",
     "iopub.status.idle": "2022-09-03T15:34:12.299283Z",
     "shell.execute_reply": "2022-09-03T15:34:12.298098Z"
    },
    "papermill": {
     "duration": 0.04295,
     "end_time": "2022-09-03T15:34:12.301609",
     "exception": false,
     "start_time": "2022-09-03T15:34:12.258659",
     "status": "completed"
    },
    "tags": []
   },
   "outputs": [],
   "source": [
    "def make_new_stacking_pipeline():\n",
    "    stacking_clf = StackingClassifier(\n",
    "        estimators=[\n",
    "            ('gaussian_nb', clf_gaussian_nb),\n",
    "            ('mlp', clf_mlp),\n",
    "            # ('keras', clf_keras)\n",
    "            ('rfc', clf_rfc)\n",
    "        ],\n",
    "        final_estimator=LogisticRegression(warm_start=True),\n",
    "        n_jobs=-1\n",
    "    )\n",
    "    pipeline = make_pipeline(\n",
    "        preprocess_pipeline,\n",
    "        RobustScaler(),\n",
    "        stacking_clf\n",
    "    )\n",
    "\n",
    "    return pipeline"
   ]
  },
  {
   "cell_type": "code",
   "execution_count": 45,
   "id": "9595cc06",
   "metadata": {
    "execution": {
     "iopub.execute_input": "2022-09-03T15:34:12.355760Z",
     "iopub.status.busy": "2022-09-03T15:34:12.355017Z",
     "iopub.status.idle": "2022-09-03T15:34:12.398669Z",
     "shell.execute_reply": "2022-09-03T15:34:12.397509Z"
    },
    "papermill": {
     "duration": 0.073942,
     "end_time": "2022-09-03T15:34:12.401662",
     "exception": false,
     "start_time": "2022-09-03T15:34:12.327720",
     "status": "completed"
    },
    "tags": []
   },
   "outputs": [
    {
     "data": {
      "text/plain": [
       "Pipeline(steps=[('columntransformer',\n",
       "                 ColumnTransformer(transformers=[('simpleimputer',\n",
       "                                                  SimpleImputer(fill_value='constant'),\n",
       "                                                  <sklearn.compose._column_transformer.make_column_selector object at 0x7f1e73132f10>),\n",
       "                                                 ('ordinalencoder',\n",
       "                                                  OrdinalEncoder(handle_unknown='use_encoded_value',\n",
       "                                                                 unknown_value=-1),\n",
       "                                                  <sklearn.compose._column_transformer.make_column_selector ob...\n",
       "                ('stackingclassifier',\n",
       "                 StackingClassifier(estimators=[('gaussian_nb', GaussianNB()),\n",
       "                                                ('mlp',\n",
       "                                                 MLPClassifier(max_iter=2000,\n",
       "                                                               n_iter_no_change=50,\n",
       "                                                               random_state=22,\n",
       "                                                               warm_start=True)),\n",
       "                                                ('rfc',\n",
       "                                                 RandomForestClassifier(bootstrap=False,\n",
       "                                                                        max_depth=100,\n",
       "                                                                        min_samples_split=10,\n",
       "                                                                        n_estimators=200,\n",
       "                                                                        random_state=22,\n",
       "                                                                        warm_start=True))],\n",
       "                                    final_estimator=LogisticRegression(warm_start=True),\n",
       "                                    n_jobs=-1))])"
      ]
     },
     "execution_count": 45,
     "metadata": {},
     "output_type": "execute_result"
    }
   ],
   "source": [
    "stack_pipeline = make_new_stacking_pipeline()\n",
    "stack_pipeline"
   ]
  },
  {
   "cell_type": "markdown",
   "id": "3efe0556",
   "metadata": {
    "papermill": {
     "duration": 0.025722,
     "end_time": "2022-09-03T15:34:12.459059",
     "exception": false,
     "start_time": "2022-09-03T15:34:12.433337",
     "status": "completed"
    },
    "tags": []
   },
   "source": [
    "## 1970-2017, teste 2018"
   ]
  },
  {
   "cell_type": "code",
   "execution_count": 46,
   "id": "667ea50d",
   "metadata": {
    "execution": {
     "iopub.execute_input": "2022-09-03T15:34:12.514263Z",
     "iopub.status.busy": "2022-09-03T15:34:12.513448Z",
     "iopub.status.idle": "2022-09-03T15:42:45.527851Z",
     "shell.execute_reply": "2022-09-03T15:42:45.525766Z"
    },
    "papermill": {
     "duration": 513.106509,
     "end_time": "2022-09-03T15:42:45.591540",
     "exception": false,
     "start_time": "2022-09-03T15:34:12.485031",
     "status": "completed"
    },
    "tags": []
   },
   "outputs": [
    {
     "name": "stdout",
     "output_type": "stream",
     "text": [
      "Execution took 512.989s\n"
     ]
    }
   ],
   "source": [
    "train_timer = Timer()\n",
    "\n",
    "stack_pipeline.fit(x1970_2017, y1970_2017)\n",
    "\n",
    "train_timer.end()"
   ]
  },
  {
   "cell_type": "code",
   "execution_count": 47,
   "id": "41067e7e",
   "metadata": {
    "execution": {
     "iopub.execute_input": "2022-09-03T15:42:45.667052Z",
     "iopub.status.busy": "2022-09-03T15:42:45.666617Z",
     "iopub.status.idle": "2022-09-03T15:42:46.043306Z",
     "shell.execute_reply": "2022-09-03T15:42:46.042265Z"
    },
    "papermill": {
     "duration": 0.406572,
     "end_time": "2022-09-03T15:42:46.045818",
     "exception": false,
     "start_time": "2022-09-03T15:42:45.639246",
     "status": "completed"
    },
    "tags": []
   },
   "outputs": [
    {
     "data": {
      "text/plain": [
       "<sklearn.metrics._plot.confusion_matrix.ConfusionMatrixDisplay at 0x7f1e707d3050>"
      ]
     },
     "metadata": {},
     "output_type": "display_data"
    },
    {
     "data": {
      "text/html": [
       "<div>\n",
       "<style scoped>\n",
       "    .dataframe tbody tr th:only-of-type {\n",
       "        vertical-align: middle;\n",
       "    }\n",
       "\n",
       "    .dataframe tbody tr th {\n",
       "        vertical-align: top;\n",
       "    }\n",
       "\n",
       "    .dataframe thead th {\n",
       "        text-align: right;\n",
       "    }\n",
       "</style>\n",
       "<table border=\"1\" class=\"dataframe\">\n",
       "  <thead>\n",
       "    <tr style=\"text-align: right;\">\n",
       "      <th></th>\n",
       "      <th>model_name</th>\n",
       "      <th>acc</th>\n",
       "      <th>bacc</th>\n",
       "      <th>precision</th>\n",
       "      <th>recall</th>\n",
       "      <th>f1score</th>\n",
       "    </tr>\n",
       "  </thead>\n",
       "  <tbody>\n",
       "    <tr>\n",
       "      <th>0</th>\n",
       "      <td>gaussian_nb</td>\n",
       "      <td>0.548112</td>\n",
       "      <td>0.551027</td>\n",
       "      <td>0.528827</td>\n",
       "      <td>0.665000</td>\n",
       "      <td>0.589147</td>\n",
       "    </tr>\n",
       "    <tr>\n",
       "      <th>1</th>\n",
       "      <td>mlp</td>\n",
       "      <td>0.499391</td>\n",
       "      <td>0.499032</td>\n",
       "      <td>0.486216</td>\n",
       "      <td>0.485000</td>\n",
       "      <td>0.485607</td>\n",
       "    </tr>\n",
       "    <tr>\n",
       "      <th>2</th>\n",
       "      <td>rfc</td>\n",
       "      <td>0.577345</td>\n",
       "      <td>0.571986</td>\n",
       "      <td>0.611814</td>\n",
       "      <td>0.362500</td>\n",
       "      <td>0.455259</td>\n",
       "    </tr>\n",
       "    <tr>\n",
       "      <th>3</th>\n",
       "      <td>stacking</td>\n",
       "      <td>0.548112</td>\n",
       "      <td>0.541675</td>\n",
       "      <td>0.571429</td>\n",
       "      <td>0.290000</td>\n",
       "      <td>0.384743</td>\n",
       "    </tr>\n",
       "    <tr>\n",
       "      <th>4</th>\n",
       "      <td>stacking_1970-2017</td>\n",
       "      <td>0.590226</td>\n",
       "      <td>0.527332</td>\n",
       "      <td>0.478261</td>\n",
       "      <td>0.205607</td>\n",
       "      <td>0.287582</td>\n",
       "    </tr>\n",
       "  </tbody>\n",
       "</table>\n",
       "</div>"
      ],
      "text/plain": [
       "           model_name       acc      bacc  precision    recall   f1score\n",
       "0         gaussian_nb  0.548112  0.551027   0.528827  0.665000  0.589147\n",
       "1                 mlp  0.499391  0.499032   0.486216  0.485000  0.485607\n",
       "2                 rfc  0.577345  0.571986   0.611814  0.362500  0.455259\n",
       "3            stacking  0.548112  0.541675   0.571429  0.290000  0.384743\n",
       "4  stacking_1970-2017  0.590226  0.527332   0.478261  0.205607  0.287582"
      ]
     },
     "metadata": {},
     "output_type": "display_data"
    },
    {
     "data": {
      "image/png": "[encoded data removed]",
      "text/plain": [
       "<Figure size 432x288 with 2 Axes>"
      ]
     },
     "metadata": {
      "needs_background": "light"
     },
     "output_type": "display_data"
    }
   ],
   "source": [
    "preds = stack_pipeline.predict(x2018)\n",
    "\n",
    "scores = calculate_scores('stacking_1970-2017', y2018, preds)"
   ]
  },
  {
   "cell_type": "markdown",
   "id": "20b75a6d",
   "metadata": {
    "papermill": {
     "duration": 0.025817,
     "end_time": "2022-09-03T15:42:46.097848",
     "exception": false,
     "start_time": "2022-09-03T15:42:46.072031",
     "status": "completed"
    },
    "tags": []
   },
   "source": [
    "## add 2018, teste 2019"
   ]
  },
  {
   "cell_type": "code",
   "execution_count": 48,
   "id": "02eb672e",
   "metadata": {
    "execution": {
     "iopub.execute_input": "2022-09-03T15:42:46.153142Z",
     "iopub.status.busy": "2022-09-03T15:42:46.152236Z",
     "iopub.status.idle": "2022-09-03T15:43:13.719727Z",
     "shell.execute_reply": "2022-09-03T15:43:13.718093Z"
    },
    "papermill": {
     "duration": 27.598511,
     "end_time": "2022-09-03T15:43:13.722670",
     "exception": false,
     "start_time": "2022-09-03T15:42:46.124159",
     "status": "completed"
    },
    "tags": []
   },
   "outputs": [
    {
     "name": "stdout",
     "output_type": "stream",
     "text": [
      "Execution took 27.558s\n"
     ]
    }
   ],
   "source": [
    "train_timer = Timer()\n",
    "\n",
    "stack_pipeline.fit(x2018, y2018)\n",
    "\n",
    "train_timer.end()"
   ]
  },
  {
   "cell_type": "code",
   "execution_count": 49,
   "id": "76f10471",
   "metadata": {
    "execution": {
     "iopub.execute_input": "2022-09-03T15:43:13.880272Z",
     "iopub.status.busy": "2022-09-03T15:43:13.879483Z",
     "iopub.status.idle": "2022-09-03T15:43:14.311874Z",
     "shell.execute_reply": "2022-09-03T15:43:14.310408Z"
    },
    "papermill": {
     "duration": 0.562013,
     "end_time": "2022-09-03T15:43:14.315254",
     "exception": false,
     "start_time": "2022-09-03T15:43:13.753241",
     "status": "completed"
    },
    "tags": []
   },
   "outputs": [
    {
     "name": "stderr",
     "output_type": "stream",
     "text": [
      "/opt/conda/lib/python3.7/site-packages/sklearn/metrics/_classification.py:1318: UndefinedMetricWarning: Precision is ill-defined and being set to 0.0 due to no predicted samples. Use `zero_division` parameter to control this behavior.\n",
      "  _warn_prf(average, modifier, msg_start, len(result))\n"
     ]
    },
    {
     "data": {
      "text/plain": [
       "<sklearn.metrics._plot.confusion_matrix.ConfusionMatrixDisplay at 0x7f1e952a3c50>"
      ]
     },
     "metadata": {},
     "output_type": "display_data"
    },
    {
     "data": {
      "text/html": [
       "<div>\n",
       "<style scoped>\n",
       "    .dataframe tbody tr th:only-of-type {\n",
       "        vertical-align: middle;\n",
       "    }\n",
       "\n",
       "    .dataframe tbody tr th {\n",
       "        vertical-align: top;\n",
       "    }\n",
       "\n",
       "    .dataframe thead th {\n",
       "        text-align: right;\n",
       "    }\n",
       "</style>\n",
       "<table border=\"1\" class=\"dataframe\">\n",
       "  <thead>\n",
       "    <tr style=\"text-align: right;\">\n",
       "      <th></th>\n",
       "      <th>model_name</th>\n",
       "      <th>acc</th>\n",
       "      <th>bacc</th>\n",
       "      <th>precision</th>\n",
       "      <th>recall</th>\n",
       "      <th>f1score</th>\n",
       "    </tr>\n",
       "  </thead>\n",
       "  <tbody>\n",
       "    <tr>\n",
       "      <th>0</th>\n",
       "      <td>gaussian_nb</td>\n",
       "      <td>0.548112</td>\n",
       "      <td>0.551027</td>\n",
       "      <td>0.528827</td>\n",
       "      <td>0.665000</td>\n",
       "      <td>0.589147</td>\n",
       "    </tr>\n",
       "    <tr>\n",
       "      <th>1</th>\n",
       "      <td>mlp</td>\n",
       "      <td>0.499391</td>\n",
       "      <td>0.499032</td>\n",
       "      <td>0.486216</td>\n",
       "      <td>0.485000</td>\n",
       "      <td>0.485607</td>\n",
       "    </tr>\n",
       "    <tr>\n",
       "      <th>2</th>\n",
       "      <td>rfc</td>\n",
       "      <td>0.577345</td>\n",
       "      <td>0.571986</td>\n",
       "      <td>0.611814</td>\n",
       "      <td>0.362500</td>\n",
       "      <td>0.455259</td>\n",
       "    </tr>\n",
       "    <tr>\n",
       "      <th>3</th>\n",
       "      <td>stacking</td>\n",
       "      <td>0.548112</td>\n",
       "      <td>0.541675</td>\n",
       "      <td>0.571429</td>\n",
       "      <td>0.290000</td>\n",
       "      <td>0.384743</td>\n",
       "    </tr>\n",
       "    <tr>\n",
       "      <th>4</th>\n",
       "      <td>stacking_1970-2017</td>\n",
       "      <td>0.590226</td>\n",
       "      <td>0.527332</td>\n",
       "      <td>0.478261</td>\n",
       "      <td>0.205607</td>\n",
       "      <td>0.287582</td>\n",
       "    </tr>\n",
       "    <tr>\n",
       "      <th>5</th>\n",
       "      <td>stacking_add2018</td>\n",
       "      <td>0.520599</td>\n",
       "      <td>0.500000</td>\n",
       "      <td>0.000000</td>\n",
       "      <td>0.000000</td>\n",
       "      <td>0.000000</td>\n",
       "    </tr>\n",
       "  </tbody>\n",
       "</table>\n",
       "</div>"
      ],
      "text/plain": [
       "           model_name       acc      bacc  precision    recall   f1score\n",
       "0         gaussian_nb  0.548112  0.551027   0.528827  0.665000  0.589147\n",
       "1                 mlp  0.499391  0.499032   0.486216  0.485000  0.485607\n",
       "2                 rfc  0.577345  0.571986   0.611814  0.362500  0.455259\n",
       "3            stacking  0.548112  0.541675   0.571429  0.290000  0.384743\n",
       "4  stacking_1970-2017  0.590226  0.527332   0.478261  0.205607  0.287582\n",
       "5    stacking_add2018  0.520599  0.500000   0.000000  0.000000  0.000000"
      ]
     },
     "metadata": {},
     "output_type": "display_data"
    },
    {
     "data": {
      "image/png": "[encoded data removed]",
      "text/plain": [
       "<Figure size 432x288 with 2 Axes>"
      ]
     },
     "metadata": {
      "needs_background": "light"
     },
     "output_type": "display_data"
    }
   ],
   "source": [
    "preds = stack_pipeline.predict(x2019)\n",
    "\n",
    "scores = calculate_scores('stacking_add2018', y2019, preds)"
   ]
  },
  {
   "cell_type": "markdown",
   "id": "b5624ccb",
   "metadata": {
    "papermill": {
     "duration": 0.028988,
     "end_time": "2022-09-03T15:43:14.375249",
     "exception": false,
     "start_time": "2022-09-03T15:43:14.346261",
     "status": "completed"
    },
    "tags": []
   },
   "source": [
    "## add 2019, teste 2020"
   ]
  },
  {
   "cell_type": "code",
   "execution_count": 50,
   "id": "24c47aa5",
   "metadata": {
    "execution": {
     "iopub.execute_input": "2022-09-03T15:43:14.437513Z",
     "iopub.status.busy": "2022-09-03T15:43:14.436187Z",
     "iopub.status.idle": "2022-09-03T15:43:41.101846Z",
     "shell.execute_reply": "2022-09-03T15:43:41.100385Z"
    },
    "papermill": {
     "duration": 26.699801,
     "end_time": "2022-09-03T15:43:41.104891",
     "exception": false,
     "start_time": "2022-09-03T15:43:14.405090",
     "status": "completed"
    },
    "tags": []
   },
   "outputs": [
    {
     "name": "stdout",
     "output_type": "stream",
     "text": [
      "Execution took 26.658s\n"
     ]
    }
   ],
   "source": [
    "train_timer = Timer()\n",
    "\n",
    "stack_pipeline.fit(x2019, y2019)\n",
    "\n",
    "train_timer.end()"
   ]
  },
  {
   "cell_type": "code",
   "execution_count": 51,
   "id": "761ec91f",
   "metadata": {
    "execution": {
     "iopub.execute_input": "2022-09-03T15:43:41.165150Z",
     "iopub.status.busy": "2022-09-03T15:43:41.164621Z",
     "iopub.status.idle": "2022-09-03T15:43:41.576684Z",
     "shell.execute_reply": "2022-09-03T15:43:41.575311Z"
    },
    "papermill": {
     "duration": 0.445328,
     "end_time": "2022-09-03T15:43:41.579501",
     "exception": false,
     "start_time": "2022-09-03T15:43:41.134173",
     "status": "completed"
    },
    "tags": []
   },
   "outputs": [
    {
     "data": {
      "text/plain": [
       "<sklearn.metrics._plot.confusion_matrix.ConfusionMatrixDisplay at 0x7f1e949a7fd0>"
      ]
     },
     "metadata": {},
     "output_type": "display_data"
    },
    {
     "data": {
      "text/html": [
       "<div>\n",
       "<style scoped>\n",
       "    .dataframe tbody tr th:only-of-type {\n",
       "        vertical-align: middle;\n",
       "    }\n",
       "\n",
       "    .dataframe tbody tr th {\n",
       "        vertical-align: top;\n",
       "    }\n",
       "\n",
       "    .dataframe thead th {\n",
       "        text-align: right;\n",
       "    }\n",
       "</style>\n",
       "<table border=\"1\" class=\"dataframe\">\n",
       "  <thead>\n",
       "    <tr style=\"text-align: right;\">\n",
       "      <th></th>\n",
       "      <th>model_name</th>\n",
       "      <th>acc</th>\n",
       "      <th>bacc</th>\n",
       "      <th>precision</th>\n",
       "      <th>recall</th>\n",
       "      <th>f1score</th>\n",
       "    </tr>\n",
       "  </thead>\n",
       "  <tbody>\n",
       "    <tr>\n",
       "      <th>0</th>\n",
       "      <td>gaussian_nb</td>\n",
       "      <td>0.548112</td>\n",
       "      <td>0.551027</td>\n",
       "      <td>0.528827</td>\n",
       "      <td>0.665000</td>\n",
       "      <td>0.589147</td>\n",
       "    </tr>\n",
       "    <tr>\n",
       "      <th>1</th>\n",
       "      <td>mlp</td>\n",
       "      <td>0.499391</td>\n",
       "      <td>0.499032</td>\n",
       "      <td>0.486216</td>\n",
       "      <td>0.485000</td>\n",
       "      <td>0.485607</td>\n",
       "    </tr>\n",
       "    <tr>\n",
       "      <th>2</th>\n",
       "      <td>rfc</td>\n",
       "      <td>0.577345</td>\n",
       "      <td>0.571986</td>\n",
       "      <td>0.611814</td>\n",
       "      <td>0.362500</td>\n",
       "      <td>0.455259</td>\n",
       "    </tr>\n",
       "    <tr>\n",
       "      <th>3</th>\n",
       "      <td>stacking</td>\n",
       "      <td>0.548112</td>\n",
       "      <td>0.541675</td>\n",
       "      <td>0.571429</td>\n",
       "      <td>0.290000</td>\n",
       "      <td>0.384743</td>\n",
       "    </tr>\n",
       "    <tr>\n",
       "      <th>4</th>\n",
       "      <td>stacking_1970-2017</td>\n",
       "      <td>0.590226</td>\n",
       "      <td>0.527332</td>\n",
       "      <td>0.478261</td>\n",
       "      <td>0.205607</td>\n",
       "      <td>0.287582</td>\n",
       "    </tr>\n",
       "    <tr>\n",
       "      <th>5</th>\n",
       "      <td>stacking_add2018</td>\n",
       "      <td>0.520599</td>\n",
       "      <td>0.500000</td>\n",
       "      <td>0.000000</td>\n",
       "      <td>0.000000</td>\n",
       "      <td>0.000000</td>\n",
       "    </tr>\n",
       "    <tr>\n",
       "      <th>6</th>\n",
       "      <td>stacking_add2019</td>\n",
       "      <td>0.550186</td>\n",
       "      <td>0.549198</td>\n",
       "      <td>0.533981</td>\n",
       "      <td>0.814815</td>\n",
       "      <td>0.645161</td>\n",
       "    </tr>\n",
       "  </tbody>\n",
       "</table>\n",
       "</div>"
      ],
      "text/plain": [
       "           model_name       acc      bacc  precision    recall   f1score\n",
       "0         gaussian_nb  0.548112  0.551027   0.528827  0.665000  0.589147\n",
       "1                 mlp  0.499391  0.499032   0.486216  0.485000  0.485607\n",
       "2                 rfc  0.577345  0.571986   0.611814  0.362500  0.455259\n",
       "3            stacking  0.548112  0.541675   0.571429  0.290000  0.384743\n",
       "4  stacking_1970-2017  0.590226  0.527332   0.478261  0.205607  0.287582\n",
       "5    stacking_add2018  0.520599  0.500000   0.000000  0.000000  0.000000\n",
       "6    stacking_add2019  0.550186  0.549198   0.533981  0.814815  0.645161"
      ]
     },
     "metadata": {},
     "output_type": "display_data"
    },
    {
     "data": {
      "image/png": "[encoded data removed]",
      "text/plain": [
       "<Figure size 432x288 with 2 Axes>"
      ]
     },
     "metadata": {
      "needs_background": "light"
     },
     "output_type": "display_data"
    }
   ],
   "source": [
    "preds = stack_pipeline.predict(x2020)\n",
    "\n",
    "scores = calculate_scores('stacking_add2019', y2020, preds)"
   ]
  },
  {
   "cell_type": "markdown",
   "id": "885a7b5e",
   "metadata": {
    "papermill": {
     "duration": 0.031848,
     "end_time": "2022-09-03T15:43:41.641272",
     "exception": false,
     "start_time": "2022-09-03T15:43:41.609424",
     "status": "completed"
    },
    "tags": []
   },
   "source": [
    "## add 2020, teste 2021"
   ]
  },
  {
   "cell_type": "code",
   "execution_count": 52,
   "id": "59a3a71e",
   "metadata": {
    "execution": {
     "iopub.execute_input": "2022-09-03T15:43:41.708767Z",
     "iopub.status.busy": "2022-09-03T15:43:41.707918Z",
     "iopub.status.idle": "2022-09-03T15:44:06.461144Z",
     "shell.execute_reply": "2022-09-03T15:44:06.459443Z"
    },
    "papermill": {
     "duration": 24.788422,
     "end_time": "2022-09-03T15:44:06.463899",
     "exception": false,
     "start_time": "2022-09-03T15:43:41.675477",
     "status": "completed"
    },
    "tags": []
   },
   "outputs": [
    {
     "name": "stdout",
     "output_type": "stream",
     "text": [
      "Execution took 24.746s\n"
     ]
    }
   ],
   "source": [
    "train_timer = Timer()\n",
    "\n",
    "stack_pipeline.fit(x2020, y2020)\n",
    "\n",
    "train_timer.end()"
   ]
  },
  {
   "cell_type": "code",
   "execution_count": 53,
   "id": "5b8f7869",
   "metadata": {
    "execution": {
     "iopub.execute_input": "2022-09-03T15:44:06.523452Z",
     "iopub.status.busy": "2022-09-03T15:44:06.522914Z",
     "iopub.status.idle": "2022-09-03T15:44:06.919895Z",
     "shell.execute_reply": "2022-09-03T15:44:06.918561Z"
    },
    "papermill": {
     "duration": 0.429959,
     "end_time": "2022-09-03T15:44:06.922542",
     "exception": false,
     "start_time": "2022-09-03T15:44:06.492583",
     "status": "completed"
    },
    "tags": []
   },
   "outputs": [
    {
     "data": {
      "text/plain": [
       "<sklearn.metrics._plot.confusion_matrix.ConfusionMatrixDisplay at 0x7f1e94893d50>"
      ]
     },
     "metadata": {},
     "output_type": "display_data"
    },
    {
     "data": {
      "text/html": [
       "<div>\n",
       "<style scoped>\n",
       "    .dataframe tbody tr th:only-of-type {\n",
       "        vertical-align: middle;\n",
       "    }\n",
       "\n",
       "    .dataframe tbody tr th {\n",
       "        vertical-align: top;\n",
       "    }\n",
       "\n",
       "    .dataframe thead th {\n",
       "        text-align: right;\n",
       "    }\n",
       "</style>\n",
       "<table border=\"1\" class=\"dataframe\">\n",
       "  <thead>\n",
       "    <tr style=\"text-align: right;\">\n",
       "      <th></th>\n",
       "      <th>model_name</th>\n",
       "      <th>acc</th>\n",
       "      <th>bacc</th>\n",
       "      <th>precision</th>\n",
       "      <th>recall</th>\n",
       "      <th>f1score</th>\n",
       "    </tr>\n",
       "  </thead>\n",
       "  <tbody>\n",
       "    <tr>\n",
       "      <th>0</th>\n",
       "      <td>gaussian_nb</td>\n",
       "      <td>0.548112</td>\n",
       "      <td>0.551027</td>\n",
       "      <td>0.528827</td>\n",
       "      <td>0.665000</td>\n",
       "      <td>0.589147</td>\n",
       "    </tr>\n",
       "    <tr>\n",
       "      <th>1</th>\n",
       "      <td>mlp</td>\n",
       "      <td>0.499391</td>\n",
       "      <td>0.499032</td>\n",
       "      <td>0.486216</td>\n",
       "      <td>0.485000</td>\n",
       "      <td>0.485607</td>\n",
       "    </tr>\n",
       "    <tr>\n",
       "      <th>2</th>\n",
       "      <td>rfc</td>\n",
       "      <td>0.577345</td>\n",
       "      <td>0.571986</td>\n",
       "      <td>0.611814</td>\n",
       "      <td>0.362500</td>\n",
       "      <td>0.455259</td>\n",
       "    </tr>\n",
       "    <tr>\n",
       "      <th>3</th>\n",
       "      <td>stacking</td>\n",
       "      <td>0.548112</td>\n",
       "      <td>0.541675</td>\n",
       "      <td>0.571429</td>\n",
       "      <td>0.290000</td>\n",
       "      <td>0.384743</td>\n",
       "    </tr>\n",
       "    <tr>\n",
       "      <th>4</th>\n",
       "      <td>stacking_1970-2017</td>\n",
       "      <td>0.590226</td>\n",
       "      <td>0.527332</td>\n",
       "      <td>0.478261</td>\n",
       "      <td>0.205607</td>\n",
       "      <td>0.287582</td>\n",
       "    </tr>\n",
       "    <tr>\n",
       "      <th>5</th>\n",
       "      <td>stacking_add2018</td>\n",
       "      <td>0.520599</td>\n",
       "      <td>0.500000</td>\n",
       "      <td>0.000000</td>\n",
       "      <td>0.000000</td>\n",
       "      <td>0.000000</td>\n",
       "    </tr>\n",
       "    <tr>\n",
       "      <th>6</th>\n",
       "      <td>stacking_add2019</td>\n",
       "      <td>0.550186</td>\n",
       "      <td>0.549198</td>\n",
       "      <td>0.533981</td>\n",
       "      <td>0.814815</td>\n",
       "      <td>0.645161</td>\n",
       "    </tr>\n",
       "    <tr>\n",
       "      <th>7</th>\n",
       "      <td>stacking_add2020</td>\n",
       "      <td>0.477193</td>\n",
       "      <td>0.496350</td>\n",
       "      <td>0.478873</td>\n",
       "      <td>0.992701</td>\n",
       "      <td>0.646081</td>\n",
       "    </tr>\n",
       "  </tbody>\n",
       "</table>\n",
       "</div>"
      ],
      "text/plain": [
       "           model_name       acc      bacc  precision    recall   f1score\n",
       "0         gaussian_nb  0.548112  0.551027   0.528827  0.665000  0.589147\n",
       "1                 mlp  0.499391  0.499032   0.486216  0.485000  0.485607\n",
       "2                 rfc  0.577345  0.571986   0.611814  0.362500  0.455259\n",
       "3            stacking  0.548112  0.541675   0.571429  0.290000  0.384743\n",
       "4  stacking_1970-2017  0.590226  0.527332   0.478261  0.205607  0.287582\n",
       "5    stacking_add2018  0.520599  0.500000   0.000000  0.000000  0.000000\n",
       "6    stacking_add2019  0.550186  0.549198   0.533981  0.814815  0.645161\n",
       "7    stacking_add2020  0.477193  0.496350   0.478873  0.992701  0.646081"
      ]
     },
     "metadata": {},
     "output_type": "display_data"
    },
    {
     "data": {
      "image/png": "[encoded data removed]",
      "text/plain": [
       "<Figure size 432x288 with 2 Axes>"
      ]
     },
     "metadata": {
      "needs_background": "light"
     },
     "output_type": "display_data"
    }
   ],
   "source": [
    "preds = stack_pipeline.predict(x2021)\n",
    "\n",
    "scores = calculate_scores('stacking_add2020', y2021, preds)"
   ]
  },
  {
   "cell_type": "markdown",
   "id": "6b02c9df",
   "metadata": {
    "papermill": {
     "duration": 0.029023,
     "end_time": "2022-09-03T15:44:06.982171",
     "exception": false,
     "start_time": "2022-09-03T15:44:06.953148",
     "status": "completed"
    },
    "tags": []
   },
   "source": [
    "# Apenas RandomForestClassifier"
   ]
  },
  {
   "cell_type": "code",
   "execution_count": 54,
   "id": "0347f9f4",
   "metadata": {
    "execution": {
     "iopub.execute_input": "2022-09-03T15:44:07.043899Z",
     "iopub.status.busy": "2022-09-03T15:44:07.043389Z",
     "iopub.status.idle": "2022-09-03T15:44:07.051841Z",
     "shell.execute_reply": "2022-09-03T15:44:07.050363Z"
    },
    "papermill": {
     "duration": 0.042185,
     "end_time": "2022-09-03T15:44:07.054529",
     "exception": false,
     "start_time": "2022-09-03T15:44:07.012344",
     "status": "completed"
    },
    "tags": []
   },
   "outputs": [],
   "source": [
    "clf_rfc_tuned = RandomForestClassifier(\n",
    "    n_estimators=200,\n",
    "    min_samples_split=10,\n",
    "    min_samples_leaf=1,\n",
    "    max_features='auto',\n",
    "    max_depth=100,\n",
    "    bootstrap=False,\n",
    "    warm_start=True,\n",
    "    random_state=RANDOM_STATE\n",
    ")\n",
    "\n",
    "clf_rfc = RandomForestClassifier(warm_start=True)\n",
    "\n",
    "rfc_pipeline = make_pipeline(\n",
    "    preprocess_pipeline,\n",
    "    RobustScaler(),\n",
    "    clf_rfc_tuned\n",
    ")\n",
    "\n",
    "n_estimators_increase = int(rfc_pipeline[-1].n_estimators / 4)"
   ]
  },
  {
   "cell_type": "markdown",
   "id": "de5b97f5",
   "metadata": {
    "papermill": {
     "duration": 0.028947,
     "end_time": "2022-09-03T15:44:07.114450",
     "exception": false,
     "start_time": "2022-09-03T15:44:07.085503",
     "status": "completed"
    },
    "tags": []
   },
   "source": [
    "## 1970-2017, teste 2018"
   ]
  },
  {
   "cell_type": "code",
   "execution_count": 55,
   "id": "f347d265",
   "metadata": {
    "execution": {
     "iopub.execute_input": "2022-09-03T15:44:07.175801Z",
     "iopub.status.busy": "2022-09-03T15:44:07.174433Z",
     "iopub.status.idle": "2022-09-03T15:44:21.193797Z",
     "shell.execute_reply": "2022-09-03T15:44:21.192439Z"
    },
    "papermill": {
     "duration": 14.052666,
     "end_time": "2022-09-03T15:44:21.196217",
     "exception": false,
     "start_time": "2022-09-03T15:44:07.143551",
     "status": "completed"
    },
    "tags": []
   },
   "outputs": [
    {
     "name": "stdout",
     "output_type": "stream",
     "text": [
      "Execution took 14.012s\n"
     ]
    }
   ],
   "source": [
    "train_timer = Timer()\n",
    "\n",
    "rfc_pipeline.fit(x1970_2017, y1970_2017)\n",
    "\n",
    "train_timer.end()"
   ]
  },
  {
   "cell_type": "code",
   "execution_count": 56,
   "id": "8d3b65f5",
   "metadata": {
    "execution": {
     "iopub.execute_input": "2022-09-03T15:44:21.257384Z",
     "iopub.status.busy": "2022-09-03T15:44:21.256294Z",
     "iopub.status.idle": "2022-09-03T15:44:21.556452Z",
     "shell.execute_reply": "2022-09-03T15:44:21.555371Z"
    },
    "papermill": {
     "duration": 0.332999,
     "end_time": "2022-09-03T15:44:21.558702",
     "exception": false,
     "start_time": "2022-09-03T15:44:21.225703",
     "status": "completed"
    },
    "tags": []
   },
   "outputs": [
    {
     "data": {
      "text/plain": [
       "<sklearn.metrics._plot.confusion_matrix.ConfusionMatrixDisplay at 0x7f1e94764f90>"
      ]
     },
     "metadata": {},
     "output_type": "display_data"
    },
    {
     "data": {
      "text/html": [
       "<div>\n",
       "<style scoped>\n",
       "    .dataframe tbody tr th:only-of-type {\n",
       "        vertical-align: middle;\n",
       "    }\n",
       "\n",
       "    .dataframe tbody tr th {\n",
       "        vertical-align: top;\n",
       "    }\n",
       "\n",
       "    .dataframe thead th {\n",
       "        text-align: right;\n",
       "    }\n",
       "</style>\n",
       "<table border=\"1\" class=\"dataframe\">\n",
       "  <thead>\n",
       "    <tr style=\"text-align: right;\">\n",
       "      <th></th>\n",
       "      <th>model_name</th>\n",
       "      <th>acc</th>\n",
       "      <th>bacc</th>\n",
       "      <th>precision</th>\n",
       "      <th>recall</th>\n",
       "      <th>f1score</th>\n",
       "    </tr>\n",
       "  </thead>\n",
       "  <tbody>\n",
       "    <tr>\n",
       "      <th>0</th>\n",
       "      <td>gaussian_nb</td>\n",
       "      <td>0.548112</td>\n",
       "      <td>0.551027</td>\n",
       "      <td>0.528827</td>\n",
       "      <td>0.665000</td>\n",
       "      <td>0.589147</td>\n",
       "    </tr>\n",
       "    <tr>\n",
       "      <th>1</th>\n",
       "      <td>mlp</td>\n",
       "      <td>0.499391</td>\n",
       "      <td>0.499032</td>\n",
       "      <td>0.486216</td>\n",
       "      <td>0.485000</td>\n",
       "      <td>0.485607</td>\n",
       "    </tr>\n",
       "    <tr>\n",
       "      <th>2</th>\n",
       "      <td>rfc</td>\n",
       "      <td>0.577345</td>\n",
       "      <td>0.571986</td>\n",
       "      <td>0.611814</td>\n",
       "      <td>0.362500</td>\n",
       "      <td>0.455259</td>\n",
       "    </tr>\n",
       "    <tr>\n",
       "      <th>3</th>\n",
       "      <td>stacking</td>\n",
       "      <td>0.548112</td>\n",
       "      <td>0.541675</td>\n",
       "      <td>0.571429</td>\n",
       "      <td>0.290000</td>\n",
       "      <td>0.384743</td>\n",
       "    </tr>\n",
       "    <tr>\n",
       "      <th>4</th>\n",
       "      <td>stacking_1970-2017</td>\n",
       "      <td>0.590226</td>\n",
       "      <td>0.527332</td>\n",
       "      <td>0.478261</td>\n",
       "      <td>0.205607</td>\n",
       "      <td>0.287582</td>\n",
       "    </tr>\n",
       "    <tr>\n",
       "      <th>5</th>\n",
       "      <td>stacking_add2018</td>\n",
       "      <td>0.520599</td>\n",
       "      <td>0.500000</td>\n",
       "      <td>0.000000</td>\n",
       "      <td>0.000000</td>\n",
       "      <td>0.000000</td>\n",
       "    </tr>\n",
       "    <tr>\n",
       "      <th>6</th>\n",
       "      <td>stacking_add2019</td>\n",
       "      <td>0.550186</td>\n",
       "      <td>0.549198</td>\n",
       "      <td>0.533981</td>\n",
       "      <td>0.814815</td>\n",
       "      <td>0.645161</td>\n",
       "    </tr>\n",
       "    <tr>\n",
       "      <th>7</th>\n",
       "      <td>stacking_add2020</td>\n",
       "      <td>0.477193</td>\n",
       "      <td>0.496350</td>\n",
       "      <td>0.478873</td>\n",
       "      <td>0.992701</td>\n",
       "      <td>0.646081</td>\n",
       "    </tr>\n",
       "    <tr>\n",
       "      <th>8</th>\n",
       "      <td>rfc_pipeline_1970-2017</td>\n",
       "      <td>0.590226</td>\n",
       "      <td>0.539558</td>\n",
       "      <td>0.483871</td>\n",
       "      <td>0.280374</td>\n",
       "      <td>0.355030</td>\n",
       "    </tr>\n",
       "  </tbody>\n",
       "</table>\n",
       "</div>"
      ],
      "text/plain": [
       "               model_name       acc      bacc  precision    recall   f1score\n",
       "0             gaussian_nb  0.548112  0.551027   0.528827  0.665000  0.589147\n",
       "1                     mlp  0.499391  0.499032   0.486216  0.485000  0.485607\n",
       "2                     rfc  0.577345  0.571986   0.611814  0.362500  0.455259\n",
       "3                stacking  0.548112  0.541675   0.571429  0.290000  0.384743\n",
       "4      stacking_1970-2017  0.590226  0.527332   0.478261  0.205607  0.287582\n",
       "5        stacking_add2018  0.520599  0.500000   0.000000  0.000000  0.000000\n",
       "6        stacking_add2019  0.550186  0.549198   0.533981  0.814815  0.645161\n",
       "7        stacking_add2020  0.477193  0.496350   0.478873  0.992701  0.646081\n",
       "8  rfc_pipeline_1970-2017  0.590226  0.539558   0.483871  0.280374  0.355030"
      ]
     },
     "metadata": {},
     "output_type": "display_data"
    },
    {
     "data": {
      "image/png": "[encoded data removed]",
      "text/plain": [
       "<Figure size 432x288 with 2 Axes>"
      ]
     },
     "metadata": {
      "needs_background": "light"
     },
     "output_type": "display_data"
    }
   ],
   "source": [
    "preds = rfc_pipeline.predict(x2018)\n",
    "\n",
    "scores = calculate_scores('rfc_pipeline_1970-2017', y2018, preds)"
   ]
  },
  {
   "cell_type": "markdown",
   "id": "41b63cc7",
   "metadata": {
    "papermill": {
     "duration": 0.02864,
     "end_time": "2022-09-03T15:44:21.616191",
     "exception": false,
     "start_time": "2022-09-03T15:44:21.587551",
     "status": "completed"
    },
    "tags": []
   },
   "source": [
    "## add 2018, teste 2019"
   ]
  },
  {
   "cell_type": "code",
   "execution_count": 57,
   "id": "83812f27",
   "metadata": {
    "execution": {
     "iopub.execute_input": "2022-09-03T15:44:21.678859Z",
     "iopub.status.busy": "2022-09-03T15:44:21.677785Z",
     "iopub.status.idle": "2022-09-03T15:44:21.783951Z",
     "shell.execute_reply": "2022-09-03T15:44:21.782801Z"
    },
    "papermill": {
     "duration": 0.141876,
     "end_time": "2022-09-03T15:44:21.786682",
     "exception": false,
     "start_time": "2022-09-03T15:44:21.644806",
     "status": "completed"
    },
    "tags": []
   },
   "outputs": [
    {
     "name": "stdout",
     "output_type": "stream",
     "text": [
      "Execution took 0.1s\n"
     ]
    }
   ],
   "source": [
    "train_timer = Timer()\n",
    "\n",
    "rfc_pipeline[-1].n_estimators += n_estimators_increase\n",
    "rfc_pipeline.fit(x2018, y2018)\n",
    "\n",
    "train_timer.end()"
   ]
  },
  {
   "cell_type": "code",
   "execution_count": 58,
   "id": "65002e07",
   "metadata": {
    "execution": {
     "iopub.execute_input": "2022-09-03T15:44:21.847326Z",
     "iopub.status.busy": "2022-09-03T15:44:21.846920Z",
     "iopub.status.idle": "2022-09-03T15:44:22.153458Z",
     "shell.execute_reply": "2022-09-03T15:44:22.152234Z"
    },
    "papermill": {
     "duration": 0.340122,
     "end_time": "2022-09-03T15:44:22.155727",
     "exception": false,
     "start_time": "2022-09-03T15:44:21.815605",
     "status": "completed"
    },
    "tags": []
   },
   "outputs": [
    {
     "data": {
      "text/plain": [
       "<sklearn.metrics._plot.confusion_matrix.ConfusionMatrixDisplay at 0x7f1e9465bad0>"
      ]
     },
     "metadata": {},
     "output_type": "display_data"
    },
    {
     "data": {
      "text/html": [
       "<div>\n",
       "<style scoped>\n",
       "    .dataframe tbody tr th:only-of-type {\n",
       "        vertical-align: middle;\n",
       "    }\n",
       "\n",
       "    .dataframe tbody tr th {\n",
       "        vertical-align: top;\n",
       "    }\n",
       "\n",
       "    .dataframe thead th {\n",
       "        text-align: right;\n",
       "    }\n",
       "</style>\n",
       "<table border=\"1\" class=\"dataframe\">\n",
       "  <thead>\n",
       "    <tr style=\"text-align: right;\">\n",
       "      <th></th>\n",
       "      <th>model_name</th>\n",
       "      <th>acc</th>\n",
       "      <th>bacc</th>\n",
       "      <th>precision</th>\n",
       "      <th>recall</th>\n",
       "      <th>f1score</th>\n",
       "    </tr>\n",
       "  </thead>\n",
       "  <tbody>\n",
       "    <tr>\n",
       "      <th>0</th>\n",
       "      <td>gaussian_nb</td>\n",
       "      <td>0.548112</td>\n",
       "      <td>0.551027</td>\n",
       "      <td>0.528827</td>\n",
       "      <td>0.665000</td>\n",
       "      <td>0.589147</td>\n",
       "    </tr>\n",
       "    <tr>\n",
       "      <th>1</th>\n",
       "      <td>mlp</td>\n",
       "      <td>0.499391</td>\n",
       "      <td>0.499032</td>\n",
       "      <td>0.486216</td>\n",
       "      <td>0.485000</td>\n",
       "      <td>0.485607</td>\n",
       "    </tr>\n",
       "    <tr>\n",
       "      <th>2</th>\n",
       "      <td>rfc</td>\n",
       "      <td>0.577345</td>\n",
       "      <td>0.571986</td>\n",
       "      <td>0.611814</td>\n",
       "      <td>0.362500</td>\n",
       "      <td>0.455259</td>\n",
       "    </tr>\n",
       "    <tr>\n",
       "      <th>3</th>\n",
       "      <td>stacking</td>\n",
       "      <td>0.548112</td>\n",
       "      <td>0.541675</td>\n",
       "      <td>0.571429</td>\n",
       "      <td>0.290000</td>\n",
       "      <td>0.384743</td>\n",
       "    </tr>\n",
       "    <tr>\n",
       "      <th>4</th>\n",
       "      <td>stacking_1970-2017</td>\n",
       "      <td>0.590226</td>\n",
       "      <td>0.527332</td>\n",
       "      <td>0.478261</td>\n",
       "      <td>0.205607</td>\n",
       "      <td>0.287582</td>\n",
       "    </tr>\n",
       "    <tr>\n",
       "      <th>5</th>\n",
       "      <td>stacking_add2018</td>\n",
       "      <td>0.520599</td>\n",
       "      <td>0.500000</td>\n",
       "      <td>0.000000</td>\n",
       "      <td>0.000000</td>\n",
       "      <td>0.000000</td>\n",
       "    </tr>\n",
       "    <tr>\n",
       "      <th>6</th>\n",
       "      <td>stacking_add2019</td>\n",
       "      <td>0.550186</td>\n",
       "      <td>0.549198</td>\n",
       "      <td>0.533981</td>\n",
       "      <td>0.814815</td>\n",
       "      <td>0.645161</td>\n",
       "    </tr>\n",
       "    <tr>\n",
       "      <th>7</th>\n",
       "      <td>stacking_add2020</td>\n",
       "      <td>0.477193</td>\n",
       "      <td>0.496350</td>\n",
       "      <td>0.478873</td>\n",
       "      <td>0.992701</td>\n",
       "      <td>0.646081</td>\n",
       "    </tr>\n",
       "    <tr>\n",
       "      <th>8</th>\n",
       "      <td>rfc_pipeline_1970-2017</td>\n",
       "      <td>0.590226</td>\n",
       "      <td>0.539558</td>\n",
       "      <td>0.483871</td>\n",
       "      <td>0.280374</td>\n",
       "      <td>0.355030</td>\n",
       "    </tr>\n",
       "    <tr>\n",
       "      <th>9</th>\n",
       "      <td>rfc_pipeline_add2018</td>\n",
       "      <td>0.561798</td>\n",
       "      <td>0.549460</td>\n",
       "      <td>0.603774</td>\n",
       "      <td>0.250000</td>\n",
       "      <td>0.353591</td>\n",
       "    </tr>\n",
       "  </tbody>\n",
       "</table>\n",
       "</div>"
      ],
      "text/plain": [
       "               model_name       acc      bacc  precision    recall   f1score\n",
       "0             gaussian_nb  0.548112  0.551027   0.528827  0.665000  0.589147\n",
       "1                     mlp  0.499391  0.499032   0.486216  0.485000  0.485607\n",
       "2                     rfc  0.577345  0.571986   0.611814  0.362500  0.455259\n",
       "3                stacking  0.548112  0.541675   0.571429  0.290000  0.384743\n",
       "4      stacking_1970-2017  0.590226  0.527332   0.478261  0.205607  0.287582\n",
       "5        stacking_add2018  0.520599  0.500000   0.000000  0.000000  0.000000\n",
       "6        stacking_add2019  0.550186  0.549198   0.533981  0.814815  0.645161\n",
       "7        stacking_add2020  0.477193  0.496350   0.478873  0.992701  0.646081\n",
       "8  rfc_pipeline_1970-2017  0.590226  0.539558   0.483871  0.280374  0.355030\n",
       "9    rfc_pipeline_add2018  0.561798  0.549460   0.603774  0.250000  0.353591"
      ]
     },
     "metadata": {},
     "output_type": "display_data"
    },
    {
     "data": {
      "image/png": "[encoded data removed]",
      "text/plain": [
       "<Figure size 432x288 with 2 Axes>"
      ]
     },
     "metadata": {
      "needs_background": "light"
     },
     "output_type": "display_data"
    }
   ],
   "source": [
    "preds = rfc_pipeline.predict(x2019)\n",
    "\n",
    "scores = calculate_scores('rfc_pipeline_add2018', y2019, preds)"
   ]
  },
  {
   "cell_type": "markdown",
   "id": "926376b5",
   "metadata": {
    "papermill": {
     "duration": 0.029159,
     "end_time": "2022-09-03T15:44:22.214419",
     "exception": false,
     "start_time": "2022-09-03T15:44:22.185260",
     "status": "completed"
    },
    "tags": []
   },
   "source": [
    "## add 2019, teste 2020"
   ]
  },
  {
   "cell_type": "code",
   "execution_count": 59,
   "id": "369efb59",
   "metadata": {
    "execution": {
     "iopub.execute_input": "2022-09-03T15:44:22.275085Z",
     "iopub.status.busy": "2022-09-03T15:44:22.274405Z",
     "iopub.status.idle": "2022-09-03T15:44:22.380198Z",
     "shell.execute_reply": "2022-09-03T15:44:22.378933Z"
    },
    "papermill": {
     "duration": 0.139176,
     "end_time": "2022-09-03T15:44:22.382890",
     "exception": false,
     "start_time": "2022-09-03T15:44:22.243714",
     "status": "completed"
    },
    "tags": []
   },
   "outputs": [
    {
     "name": "stdout",
     "output_type": "stream",
     "text": [
      "Execution took 0.099s\n"
     ]
    }
   ],
   "source": [
    "train_timer = Timer()\n",
    "\n",
    "rfc_pipeline[-1].n_estimators += n_estimators_increase\n",
    "rfc_pipeline.fit(x2019, y2019)\n",
    "\n",
    "train_timer.end()"
   ]
  },
  {
   "cell_type": "code",
   "execution_count": 60,
   "id": "3a7bd7ef",
   "metadata": {
    "execution": {
     "iopub.execute_input": "2022-09-03T15:44:22.445477Z",
     "iopub.status.busy": "2022-09-03T15:44:22.444761Z",
     "iopub.status.idle": "2022-09-03T15:44:23.012450Z",
     "shell.execute_reply": "2022-09-03T15:44:23.011142Z"
    },
    "papermill": {
     "duration": 0.601998,
     "end_time": "2022-09-03T15:44:23.015106",
     "exception": false,
     "start_time": "2022-09-03T15:44:22.413108",
     "status": "completed"
    },
    "tags": []
   },
   "outputs": [
    {
     "data": {
      "text/plain": [
       "<sklearn.metrics._plot.confusion_matrix.ConfusionMatrixDisplay at 0x7f1e945b5390>"
      ]
     },
     "metadata": {},
     "output_type": "display_data"
    },
    {
     "data": {
      "text/html": [
       "<div>\n",
       "<style scoped>\n",
       "    .dataframe tbody tr th:only-of-type {\n",
       "        vertical-align: middle;\n",
       "    }\n",
       "\n",
       "    .dataframe tbody tr th {\n",
       "        vertical-align: top;\n",
       "    }\n",
       "\n",
       "    .dataframe thead th {\n",
       "        text-align: right;\n",
       "    }\n",
       "</style>\n",
       "<table border=\"1\" class=\"dataframe\">\n",
       "  <thead>\n",
       "    <tr style=\"text-align: right;\">\n",
       "      <th></th>\n",
       "      <th>model_name</th>\n",
       "      <th>acc</th>\n",
       "      <th>bacc</th>\n",
       "      <th>precision</th>\n",
       "      <th>recall</th>\n",
       "      <th>f1score</th>\n",
       "    </tr>\n",
       "  </thead>\n",
       "  <tbody>\n",
       "    <tr>\n",
       "      <th>0</th>\n",
       "      <td>gaussian_nb</td>\n",
       "      <td>0.548112</td>\n",
       "      <td>0.551027</td>\n",
       "      <td>0.528827</td>\n",
       "      <td>0.665000</td>\n",
       "      <td>0.589147</td>\n",
       "    </tr>\n",
       "    <tr>\n",
       "      <th>1</th>\n",
       "      <td>mlp</td>\n",
       "      <td>0.499391</td>\n",
       "      <td>0.499032</td>\n",
       "      <td>0.486216</td>\n",
       "      <td>0.485000</td>\n",
       "      <td>0.485607</td>\n",
       "    </tr>\n",
       "    <tr>\n",
       "      <th>2</th>\n",
       "      <td>rfc</td>\n",
       "      <td>0.577345</td>\n",
       "      <td>0.571986</td>\n",
       "      <td>0.611814</td>\n",
       "      <td>0.362500</td>\n",
       "      <td>0.455259</td>\n",
       "    </tr>\n",
       "    <tr>\n",
       "      <th>3</th>\n",
       "      <td>stacking</td>\n",
       "      <td>0.548112</td>\n",
       "      <td>0.541675</td>\n",
       "      <td>0.571429</td>\n",
       "      <td>0.290000</td>\n",
       "      <td>0.384743</td>\n",
       "    </tr>\n",
       "    <tr>\n",
       "      <th>4</th>\n",
       "      <td>stacking_1970-2017</td>\n",
       "      <td>0.590226</td>\n",
       "      <td>0.527332</td>\n",
       "      <td>0.478261</td>\n",
       "      <td>0.205607</td>\n",
       "      <td>0.287582</td>\n",
       "    </tr>\n",
       "    <tr>\n",
       "      <th>5</th>\n",
       "      <td>stacking_add2018</td>\n",
       "      <td>0.520599</td>\n",
       "      <td>0.500000</td>\n",
       "      <td>0.000000</td>\n",
       "      <td>0.000000</td>\n",
       "      <td>0.000000</td>\n",
       "    </tr>\n",
       "    <tr>\n",
       "      <th>6</th>\n",
       "      <td>stacking_add2019</td>\n",
       "      <td>0.550186</td>\n",
       "      <td>0.549198</td>\n",
       "      <td>0.533981</td>\n",
       "      <td>0.814815</td>\n",
       "      <td>0.645161</td>\n",
       "    </tr>\n",
       "    <tr>\n",
       "      <th>7</th>\n",
       "      <td>stacking_add2020</td>\n",
       "      <td>0.477193</td>\n",
       "      <td>0.496350</td>\n",
       "      <td>0.478873</td>\n",
       "      <td>0.992701</td>\n",
       "      <td>0.646081</td>\n",
       "    </tr>\n",
       "    <tr>\n",
       "      <th>8</th>\n",
       "      <td>rfc_pipeline_1970-2017</td>\n",
       "      <td>0.590226</td>\n",
       "      <td>0.539558</td>\n",
       "      <td>0.483871</td>\n",
       "      <td>0.280374</td>\n",
       "      <td>0.355030</td>\n",
       "    </tr>\n",
       "    <tr>\n",
       "      <th>9</th>\n",
       "      <td>rfc_pipeline_add2018</td>\n",
       "      <td>0.561798</td>\n",
       "      <td>0.549460</td>\n",
       "      <td>0.603774</td>\n",
       "      <td>0.250000</td>\n",
       "      <td>0.353591</td>\n",
       "    </tr>\n",
       "    <tr>\n",
       "      <th>10</th>\n",
       "      <td>rfc_pipeline_add2019</td>\n",
       "      <td>0.516729</td>\n",
       "      <td>0.517247</td>\n",
       "      <td>0.525773</td>\n",
       "      <td>0.377778</td>\n",
       "      <td>0.439655</td>\n",
       "    </tr>\n",
       "  </tbody>\n",
       "</table>\n",
       "</div>"
      ],
      "text/plain": [
       "                model_name       acc      bacc  precision    recall   f1score\n",
       "0              gaussian_nb  0.548112  0.551027   0.528827  0.665000  0.589147\n",
       "1                      mlp  0.499391  0.499032   0.486216  0.485000  0.485607\n",
       "2                      rfc  0.577345  0.571986   0.611814  0.362500  0.455259\n",
       "3                 stacking  0.548112  0.541675   0.571429  0.290000  0.384743\n",
       "4       stacking_1970-2017  0.590226  0.527332   0.478261  0.205607  0.287582\n",
       "5         stacking_add2018  0.520599  0.500000   0.000000  0.000000  0.000000\n",
       "6         stacking_add2019  0.550186  0.549198   0.533981  0.814815  0.645161\n",
       "7         stacking_add2020  0.477193  0.496350   0.478873  0.992701  0.646081\n",
       "8   rfc_pipeline_1970-2017  0.590226  0.539558   0.483871  0.280374  0.355030\n",
       "9     rfc_pipeline_add2018  0.561798  0.549460   0.603774  0.250000  0.353591\n",
       "10    rfc_pipeline_add2019  0.516729  0.517247   0.525773  0.377778  0.439655"
      ]
     },
     "metadata": {},
     "output_type": "display_data"
    },
    {
     "data": {
      "image/png": "[encoded data removed]",
      "text/plain": [
       "<Figure size 432x288 with 2 Axes>"
      ]
     },
     "metadata": {
      "needs_background": "light"
     },
     "output_type": "display_data"
    }
   ],
   "source": [
    "preds = rfc_pipeline.predict(x2020)\n",
    "\n",
    "scores = calculate_scores('rfc_pipeline_add2019', y2020, preds)"
   ]
  },
  {
   "cell_type": "markdown",
   "id": "49cd0750",
   "metadata": {
    "papermill": {
     "duration": 0.029613,
     "end_time": "2022-09-03T15:44:23.074900",
     "exception": false,
     "start_time": "2022-09-03T15:44:23.045287",
     "status": "completed"
    },
    "tags": []
   },
   "source": [
    "## add 2020, teste 2021"
   ]
  },
  {
   "cell_type": "code",
   "execution_count": 61,
   "id": "6490b68e",
   "metadata": {
    "execution": {
     "iopub.execute_input": "2022-09-03T15:44:23.137028Z",
     "iopub.status.busy": "2022-09-03T15:44:23.136655Z",
     "iopub.status.idle": "2022-09-03T15:44:23.241059Z",
     "shell.execute_reply": "2022-09-03T15:44:23.239948Z"
    },
    "papermill": {
     "duration": 0.138386,
     "end_time": "2022-09-03T15:44:23.243388",
     "exception": false,
     "start_time": "2022-09-03T15:44:23.105002",
     "status": "completed"
    },
    "tags": []
   },
   "outputs": [
    {
     "name": "stdout",
     "output_type": "stream",
     "text": [
      "Execution took 0.099s\n"
     ]
    }
   ],
   "source": [
    "train_timer = Timer()\n",
    "\n",
    "rfc_pipeline[-1].n_estimators += n_estimators_increase\n",
    "rfc_pipeline.fit(x2020, y2020)\n",
    "\n",
    "train_timer.end()"
   ]
  },
  {
   "cell_type": "code",
   "execution_count": 62,
   "id": "33d121a2",
   "metadata": {
    "execution": {
     "iopub.execute_input": "2022-09-03T15:44:23.305815Z",
     "iopub.status.busy": "2022-09-03T15:44:23.305025Z",
     "iopub.status.idle": "2022-09-03T15:44:23.647519Z",
     "shell.execute_reply": "2022-09-03T15:44:23.646151Z"
    },
    "papermill": {
     "duration": 0.37702,
     "end_time": "2022-09-03T15:44:23.650541",
     "exception": false,
     "start_time": "2022-09-03T15:44:23.273521",
     "status": "completed"
    },
    "tags": []
   },
   "outputs": [
    {
     "data": {
      "text/plain": [
       "<sklearn.metrics._plot.confusion_matrix.ConfusionMatrixDisplay at 0x7f1e947a8290>"
      ]
     },
     "metadata": {},
     "output_type": "display_data"
    },
    {
     "data": {
      "text/html": [
       "<div>\n",
       "<style scoped>\n",
       "    .dataframe tbody tr th:only-of-type {\n",
       "        vertical-align: middle;\n",
       "    }\n",
       "\n",
       "    .dataframe tbody tr th {\n",
       "        vertical-align: top;\n",
       "    }\n",
       "\n",
       "    .dataframe thead th {\n",
       "        text-align: right;\n",
       "    }\n",
       "</style>\n",
       "<table border=\"1\" class=\"dataframe\">\n",
       "  <thead>\n",
       "    <tr style=\"text-align: right;\">\n",
       "      <th></th>\n",
       "      <th>model_name</th>\n",
       "      <th>acc</th>\n",
       "      <th>bacc</th>\n",
       "      <th>precision</th>\n",
       "      <th>recall</th>\n",
       "      <th>f1score</th>\n",
       "    </tr>\n",
       "  </thead>\n",
       "  <tbody>\n",
       "    <tr>\n",
       "      <th>0</th>\n",
       "      <td>gaussian_nb</td>\n",
       "      <td>0.548112</td>\n",
       "      <td>0.551027</td>\n",
       "      <td>0.528827</td>\n",
       "      <td>0.665000</td>\n",
       "      <td>0.589147</td>\n",
       "    </tr>\n",
       "    <tr>\n",
       "      <th>1</th>\n",
       "      <td>mlp</td>\n",
       "      <td>0.499391</td>\n",
       "      <td>0.499032</td>\n",
       "      <td>0.486216</td>\n",
       "      <td>0.485000</td>\n",
       "      <td>0.485607</td>\n",
       "    </tr>\n",
       "    <tr>\n",
       "      <th>2</th>\n",
       "      <td>rfc</td>\n",
       "      <td>0.577345</td>\n",
       "      <td>0.571986</td>\n",
       "      <td>0.611814</td>\n",
       "      <td>0.362500</td>\n",
       "      <td>0.455259</td>\n",
       "    </tr>\n",
       "    <tr>\n",
       "      <th>3</th>\n",
       "      <td>stacking</td>\n",
       "      <td>0.548112</td>\n",
       "      <td>0.541675</td>\n",
       "      <td>0.571429</td>\n",
       "      <td>0.290000</td>\n",
       "      <td>0.384743</td>\n",
       "    </tr>\n",
       "    <tr>\n",
       "      <th>4</th>\n",
       "      <td>stacking_1970-2017</td>\n",
       "      <td>0.590226</td>\n",
       "      <td>0.527332</td>\n",
       "      <td>0.478261</td>\n",
       "      <td>0.205607</td>\n",
       "      <td>0.287582</td>\n",
       "    </tr>\n",
       "    <tr>\n",
       "      <th>5</th>\n",
       "      <td>stacking_add2018</td>\n",
       "      <td>0.520599</td>\n",
       "      <td>0.500000</td>\n",
       "      <td>0.000000</td>\n",
       "      <td>0.000000</td>\n",
       "      <td>0.000000</td>\n",
       "    </tr>\n",
       "    <tr>\n",
       "      <th>6</th>\n",
       "      <td>stacking_add2019</td>\n",
       "      <td>0.550186</td>\n",
       "      <td>0.549198</td>\n",
       "      <td>0.533981</td>\n",
       "      <td>0.814815</td>\n",
       "      <td>0.645161</td>\n",
       "    </tr>\n",
       "    <tr>\n",
       "      <th>7</th>\n",
       "      <td>stacking_add2020</td>\n",
       "      <td>0.477193</td>\n",
       "      <td>0.496350</td>\n",
       "      <td>0.478873</td>\n",
       "      <td>0.992701</td>\n",
       "      <td>0.646081</td>\n",
       "    </tr>\n",
       "    <tr>\n",
       "      <th>8</th>\n",
       "      <td>rfc_pipeline_1970-2017</td>\n",
       "      <td>0.590226</td>\n",
       "      <td>0.539558</td>\n",
       "      <td>0.483871</td>\n",
       "      <td>0.280374</td>\n",
       "      <td>0.355030</td>\n",
       "    </tr>\n",
       "    <tr>\n",
       "      <th>9</th>\n",
       "      <td>rfc_pipeline_add2018</td>\n",
       "      <td>0.561798</td>\n",
       "      <td>0.549460</td>\n",
       "      <td>0.603774</td>\n",
       "      <td>0.250000</td>\n",
       "      <td>0.353591</td>\n",
       "    </tr>\n",
       "    <tr>\n",
       "      <th>10</th>\n",
       "      <td>rfc_pipeline_add2019</td>\n",
       "      <td>0.516729</td>\n",
       "      <td>0.517247</td>\n",
       "      <td>0.525773</td>\n",
       "      <td>0.377778</td>\n",
       "      <td>0.439655</td>\n",
       "    </tr>\n",
       "    <tr>\n",
       "      <th>11</th>\n",
       "      <td>rfc_pipeline_add2020</td>\n",
       "      <td>0.592982</td>\n",
       "      <td>0.586136</td>\n",
       "      <td>0.615385</td>\n",
       "      <td>0.408759</td>\n",
       "      <td>0.491228</td>\n",
       "    </tr>\n",
       "  </tbody>\n",
       "</table>\n",
       "</div>"
      ],
      "text/plain": [
       "                model_name       acc      bacc  precision    recall   f1score\n",
       "0              gaussian_nb  0.548112  0.551027   0.528827  0.665000  0.589147\n",
       "1                      mlp  0.499391  0.499032   0.486216  0.485000  0.485607\n",
       "2                      rfc  0.577345  0.571986   0.611814  0.362500  0.455259\n",
       "3                 stacking  0.548112  0.541675   0.571429  0.290000  0.384743\n",
       "4       stacking_1970-2017  0.590226  0.527332   0.478261  0.205607  0.287582\n",
       "5         stacking_add2018  0.520599  0.500000   0.000000  0.000000  0.000000\n",
       "6         stacking_add2019  0.550186  0.549198   0.533981  0.814815  0.645161\n",
       "7         stacking_add2020  0.477193  0.496350   0.478873  0.992701  0.646081\n",
       "8   rfc_pipeline_1970-2017  0.590226  0.539558   0.483871  0.280374  0.355030\n",
       "9     rfc_pipeline_add2018  0.561798  0.549460   0.603774  0.250000  0.353591\n",
       "10    rfc_pipeline_add2019  0.516729  0.517247   0.525773  0.377778  0.439655\n",
       "11    rfc_pipeline_add2020  0.592982  0.586136   0.615385  0.408759  0.491228"
      ]
     },
     "metadata": {},
     "output_type": "display_data"
    },
    {
     "data": {
      "image/png": "[encoded data removed]",
      "text/plain": [
       "<Figure size 432x288 with 2 Axes>"
      ]
     },
     "metadata": {
      "needs_background": "light"
     },
     "output_type": "display_data"
    }
   ],
   "source": [
    "preds = rfc_pipeline.predict(x2021)\n",
    "\n",
    "scores = calculate_scores('rfc_pipeline_add2020', y2021, preds)"
   ]
  },
  {
   "cell_type": "markdown",
   "id": "7f778a36",
   "metadata": {
    "papermill": {
     "duration": 0.031713,
     "end_time": "2022-09-03T15:44:23.715001",
     "exception": false,
     "start_time": "2022-09-03T15:44:23.683288",
     "status": "completed"
    },
    "tags": []
   },
   "source": [
    "# Keras"
   ]
  },
  {
   "cell_type": "code",
   "execution_count": 63,
   "id": "db6eb772",
   "metadata": {
    "execution": {
     "iopub.execute_input": "2022-09-03T15:44:23.782679Z",
     "iopub.status.busy": "2022-09-03T15:44:23.782213Z",
     "iopub.status.idle": "2022-09-03T15:44:30.670240Z",
     "shell.execute_reply": "2022-09-03T15:44:30.669029Z"
    },
    "papermill": {
     "duration": 6.925418,
     "end_time": "2022-09-03T15:44:30.673511",
     "exception": false,
     "start_time": "2022-09-03T15:44:23.748093",
     "status": "completed"
    },
    "tags": []
   },
   "outputs": [],
   "source": [
    "import keras\n",
    "import tensorflow as tf"
   ]
  },
  {
   "cell_type": "code",
   "execution_count": 64,
   "id": "780ad3e8",
   "metadata": {
    "execution": {
     "iopub.execute_input": "2022-09-03T15:44:30.742965Z",
     "iopub.status.busy": "2022-09-03T15:44:30.742027Z",
     "iopub.status.idle": "2022-09-03T15:44:30.773247Z",
     "shell.execute_reply": "2022-09-03T15:44:30.771890Z"
    },
    "papermill": {
     "duration": 0.069073,
     "end_time": "2022-09-03T15:44:30.776134",
     "exception": false,
     "start_time": "2022-09-03T15:44:30.707061",
     "status": "completed"
    },
    "tags": []
   },
   "outputs": [
    {
     "name": "stderr",
     "output_type": "stream",
     "text": [
      "2022-09-03 15:44:30.763189: I tensorflow/core/common_runtime/process_util.cc:146] Creating new thread pool with default inter op setting: 2. Tune using inter_op_parallelism_threads for best performance.\n"
     ]
    },
    {
     "data": {
      "text/plain": [
       "[]"
      ]
     },
     "execution_count": 64,
     "metadata": {},
     "output_type": "execute_result"
    }
   ],
   "source": [
    "keras.backend._get_available_gpus()"
   ]
  },
  {
   "cell_type": "code",
   "execution_count": 65,
   "id": "1df6d44e",
   "metadata": {
    "execution": {
     "iopub.execute_input": "2022-09-03T15:44:30.845117Z",
     "iopub.status.busy": "2022-09-03T15:44:30.844348Z",
     "iopub.status.idle": "2022-09-03T15:44:30.974404Z",
     "shell.execute_reply": "2022-09-03T15:44:30.973146Z"
    },
    "papermill": {
     "duration": 0.16826,
     "end_time": "2022-09-03T15:44:30.977532",
     "exception": false,
     "start_time": "2022-09-03T15:44:30.809272",
     "status": "completed"
    },
    "tags": []
   },
   "outputs": [],
   "source": [
    "from keras.models import Sequential\n",
    "from keras.layers import Dense, Activation, Flatten, Dropout\n",
    "from keras.wrappers.scikit_learn import KerasClassifier\n",
    "from tqdm.keras import TqdmCallback"
   ]
  },
  {
   "cell_type": "markdown",
   "id": "84ffb143",
   "metadata": {
    "execution": {
     "iopub.execute_input": "2022-09-03T15:22:07.489340Z",
     "iopub.status.busy": "2022-09-03T15:22:07.488913Z",
     "iopub.status.idle": "2022-09-03T15:22:07.494616Z",
     "shell.execute_reply": "2022-09-03T15:22:07.493306Z",
     "shell.execute_reply.started": "2022-09-03T15:22:07.489305Z"
    },
    "papermill": {
     "duration": 0.031743,
     "end_time": "2022-09-03T15:44:31.043316",
     "exception": false,
     "start_time": "2022-09-03T15:44:31.011573",
     "status": "completed"
    },
    "tags": []
   },
   "source": [
    "# 250 epochs, 0.4 dropout"
   ]
  },
  {
   "cell_type": "code",
   "execution_count": 66,
   "id": "ce7971ed",
   "metadata": {
    "execution": {
     "iopub.execute_input": "2022-09-03T15:44:31.111111Z",
     "iopub.status.busy": "2022-09-03T15:44:31.110621Z",
     "iopub.status.idle": "2022-09-03T15:44:31.118907Z",
     "shell.execute_reply": "2022-09-03T15:44:31.117943Z"
    },
    "papermill": {
     "duration": 0.044772,
     "end_time": "2022-09-03T15:44:31.121155",
     "exception": false,
     "start_time": "2022-09-03T15:44:31.076383",
     "status": "completed"
    },
    "tags": []
   },
   "outputs": [],
   "source": [
    "def build_keras_model():\n",
    "    clf = Sequential()\n",
    "    clf.add(Dense(512, input_dim = x_final.shape[1], activation='relu'))\n",
    "    clf.add(Dropout(0.4))\n",
    "    clf.add(Dense(256, activation='relu'))\n",
    "    clf.add(Dropout(0.4))\n",
    "    clf.add(Dense(128, activation='relu'))\n",
    "    clf.add(Dropout(0.4))\n",
    "    clf.add(Dense(64, activation='relu'))\n",
    "#     clf.add(Dense(128, activation='relu'))\n",
    "\n",
    "    clf.add(Dense(1, activation='sigmoid'))\n",
    "\n",
    "    clf.compile(\n",
    "        loss='binary_crossentropy', \n",
    "        optimizer='adam', \n",
    "        metrics=['accuracy']\n",
    "        )\n",
    "\n",
    "    return clf"
   ]
  },
  {
   "cell_type": "code",
   "execution_count": 67,
   "id": "78174f63",
   "metadata": {
    "execution": {
     "iopub.execute_input": "2022-09-03T15:44:31.188501Z",
     "iopub.status.busy": "2022-09-03T15:44:31.187109Z",
     "iopub.status.idle": "2022-09-03T15:44:31.257590Z",
     "shell.execute_reply": "2022-09-03T15:44:31.255487Z"
    },
    "papermill": {
     "duration": 0.114215,
     "end_time": "2022-09-03T15:44:31.267715",
     "exception": false,
     "start_time": "2022-09-03T15:44:31.153500",
     "status": "completed"
    },
    "tags": []
   },
   "outputs": [
    {
     "data": {
      "application/vnd.jupyter.widget-view+json": {
       "model_id": "c634ea44c73c4eff8c7063cec6ff277c",
       "version_major": 2,
       "version_minor": 0
      },
      "text/plain": [
       "0epoch [00:00, ?epoch/s]"
      ]
     },
     "metadata": {},
     "output_type": "display_data"
    },
    {
     "data": {
      "application/vnd.jupyter.widget-view+json": {
       "model_id": "3100ea6f83f04b2b957e18444cbde9e7",
       "version_major": 2,
       "version_minor": 0
      },
      "text/plain": [
       "0batch [00:00, ?batch/s]"
      ]
     },
     "metadata": {},
     "output_type": "display_data"
    }
   ],
   "source": [
    "clf_keras = KerasClassifier(\n",
    "    build_fn=build_keras_model, \n",
    "    epochs=250,\n",
    "    batch_size=64, \n",
    "    verbose=0,\n",
    "    validation_split=0.2,\n",
    "    shuffle=False\n",
    ")\n",
    "clf_keras._estimator_type = \"classifier\"\n",
    "\n",
    "keras_pipeline = make_pipeline(\n",
    "    preprocess_pipeline,\n",
    "    RobustScaler(),\n",
    "    clf_keras\n",
    ")\n",
    "\n",
    "fit_params = {\n",
    "    'kerasclassifier__callbacks': [TqdmCallback(verbose=1)]\n",
    "}"
   ]
  },
  {
   "cell_type": "markdown",
   "id": "ee94723d",
   "metadata": {
    "papermill": {
     "duration": 0.032079,
     "end_time": "2022-09-03T15:44:31.332528",
     "exception": false,
     "start_time": "2022-09-03T15:44:31.300449",
     "status": "completed"
    },
    "tags": []
   },
   "source": [
    "## 1970-2017, teste 2018"
   ]
  },
  {
   "cell_type": "code",
   "execution_count": 68,
   "id": "055e43bb",
   "metadata": {
    "execution": {
     "iopub.execute_input": "2022-09-03T15:44:31.399331Z",
     "iopub.status.busy": "2022-09-03T15:44:31.398181Z",
     "iopub.status.idle": "2022-09-03T15:48:10.592757Z",
     "shell.execute_reply": "2022-09-03T15:48:10.591543Z"
    },
    "papermill": {
     "duration": 219.230477,
     "end_time": "2022-09-03T15:48:10.594978",
     "exception": false,
     "start_time": "2022-09-03T15:44:31.364501",
     "status": "completed"
    },
    "tags": []
   },
   "outputs": [
    {
     "name": "stderr",
     "output_type": "stream",
     "text": [
      "2022-09-03 15:44:31.720017: I tensorflow/compiler/mlir/mlir_graph_optimization_pass.cc:185] None of the MLIR Optimization Passes are enabled (registered 2)\n"
     ]
    },
    {
     "name": "stdout",
     "output_type": "stream",
     "text": [
      "Execution took 219.188s\n"
     ]
    }
   ],
   "source": [
    "train_timer = Timer()\n",
    "\n",
    "keras_pipeline.fit(x1970_2017, y1970_2017, **fit_params)\n",
    "\n",
    "train_timer.end()"
   ]
  },
  {
   "cell_type": "code",
   "execution_count": 69,
   "id": "9a8d3144",
   "metadata": {
    "execution": {
     "iopub.execute_input": "2022-09-03T15:48:10.664821Z",
     "iopub.status.busy": "2022-09-03T15:48:10.662599Z",
     "iopub.status.idle": "2022-09-03T15:48:11.137095Z",
     "shell.execute_reply": "2022-09-03T15:48:11.135748Z"
    },
    "papermill": {
     "duration": 0.511192,
     "end_time": "2022-09-03T15:48:11.139787",
     "exception": false,
     "start_time": "2022-09-03T15:48:10.628595",
     "status": "completed"
    },
    "tags": []
   },
   "outputs": [
    {
     "data": {
      "text/plain": [
       "<sklearn.metrics._plot.confusion_matrix.ConfusionMatrixDisplay at 0x7f1e08330250>"
      ]
     },
     "metadata": {},
     "output_type": "display_data"
    },
    {
     "data": {
      "text/html": [
       "<div>\n",
       "<style scoped>\n",
       "    .dataframe tbody tr th:only-of-type {\n",
       "        vertical-align: middle;\n",
       "    }\n",
       "\n",
       "    .dataframe tbody tr th {\n",
       "        vertical-align: top;\n",
       "    }\n",
       "\n",
       "    .dataframe thead th {\n",
       "        text-align: right;\n",
       "    }\n",
       "</style>\n",
       "<table border=\"1\" class=\"dataframe\">\n",
       "  <thead>\n",
       "    <tr style=\"text-align: right;\">\n",
       "      <th></th>\n",
       "      <th>model_name</th>\n",
       "      <th>acc</th>\n",
       "      <th>bacc</th>\n",
       "      <th>precision</th>\n",
       "      <th>recall</th>\n",
       "      <th>f1score</th>\n",
       "    </tr>\n",
       "  </thead>\n",
       "  <tbody>\n",
       "    <tr>\n",
       "      <th>0</th>\n",
       "      <td>gaussian_nb</td>\n",
       "      <td>0.548112</td>\n",
       "      <td>0.551027</td>\n",
       "      <td>0.528827</td>\n",
       "      <td>0.665000</td>\n",
       "      <td>0.589147</td>\n",
       "    </tr>\n",
       "    <tr>\n",
       "      <th>1</th>\n",
       "      <td>mlp</td>\n",
       "      <td>0.499391</td>\n",
       "      <td>0.499032</td>\n",
       "      <td>0.486216</td>\n",
       "      <td>0.485000</td>\n",
       "      <td>0.485607</td>\n",
       "    </tr>\n",
       "    <tr>\n",
       "      <th>2</th>\n",
       "      <td>rfc</td>\n",
       "      <td>0.577345</td>\n",
       "      <td>0.571986</td>\n",
       "      <td>0.611814</td>\n",
       "      <td>0.362500</td>\n",
       "      <td>0.455259</td>\n",
       "    </tr>\n",
       "    <tr>\n",
       "      <th>3</th>\n",
       "      <td>stacking</td>\n",
       "      <td>0.548112</td>\n",
       "      <td>0.541675</td>\n",
       "      <td>0.571429</td>\n",
       "      <td>0.290000</td>\n",
       "      <td>0.384743</td>\n",
       "    </tr>\n",
       "    <tr>\n",
       "      <th>4</th>\n",
       "      <td>stacking_1970-2017</td>\n",
       "      <td>0.590226</td>\n",
       "      <td>0.527332</td>\n",
       "      <td>0.478261</td>\n",
       "      <td>0.205607</td>\n",
       "      <td>0.287582</td>\n",
       "    </tr>\n",
       "    <tr>\n",
       "      <th>5</th>\n",
       "      <td>stacking_add2018</td>\n",
       "      <td>0.520599</td>\n",
       "      <td>0.500000</td>\n",
       "      <td>0.000000</td>\n",
       "      <td>0.000000</td>\n",
       "      <td>0.000000</td>\n",
       "    </tr>\n",
       "    <tr>\n",
       "      <th>6</th>\n",
       "      <td>stacking_add2019</td>\n",
       "      <td>0.550186</td>\n",
       "      <td>0.549198</td>\n",
       "      <td>0.533981</td>\n",
       "      <td>0.814815</td>\n",
       "      <td>0.645161</td>\n",
       "    </tr>\n",
       "    <tr>\n",
       "      <th>7</th>\n",
       "      <td>stacking_add2020</td>\n",
       "      <td>0.477193</td>\n",
       "      <td>0.496350</td>\n",
       "      <td>0.478873</td>\n",
       "      <td>0.992701</td>\n",
       "      <td>0.646081</td>\n",
       "    </tr>\n",
       "    <tr>\n",
       "      <th>8</th>\n",
       "      <td>rfc_pipeline_1970-2017</td>\n",
       "      <td>0.590226</td>\n",
       "      <td>0.539558</td>\n",
       "      <td>0.483871</td>\n",
       "      <td>0.280374</td>\n",
       "      <td>0.355030</td>\n",
       "    </tr>\n",
       "    <tr>\n",
       "      <th>9</th>\n",
       "      <td>rfc_pipeline_add2018</td>\n",
       "      <td>0.561798</td>\n",
       "      <td>0.549460</td>\n",
       "      <td>0.603774</td>\n",
       "      <td>0.250000</td>\n",
       "      <td>0.353591</td>\n",
       "    </tr>\n",
       "    <tr>\n",
       "      <th>10</th>\n",
       "      <td>rfc_pipeline_add2019</td>\n",
       "      <td>0.516729</td>\n",
       "      <td>0.517247</td>\n",
       "      <td>0.525773</td>\n",
       "      <td>0.377778</td>\n",
       "      <td>0.439655</td>\n",
       "    </tr>\n",
       "    <tr>\n",
       "      <th>11</th>\n",
       "      <td>rfc_pipeline_add2020</td>\n",
       "      <td>0.592982</td>\n",
       "      <td>0.586136</td>\n",
       "      <td>0.615385</td>\n",
       "      <td>0.408759</td>\n",
       "      <td>0.491228</td>\n",
       "    </tr>\n",
       "    <tr>\n",
       "      <th>12</th>\n",
       "      <td>keras_pipeline_1970-2017</td>\n",
       "      <td>0.597744</td>\n",
       "      <td>0.553489</td>\n",
       "      <td>0.500000</td>\n",
       "      <td>0.327103</td>\n",
       "      <td>0.395480</td>\n",
       "    </tr>\n",
       "  </tbody>\n",
       "</table>\n",
       "</div>"
      ],
      "text/plain": [
       "                  model_name       acc      bacc  precision    recall   f1score\n",
       "0                gaussian_nb  0.548112  0.551027   0.528827  0.665000  0.589147\n",
       "1                        mlp  0.499391  0.499032   0.486216  0.485000  0.485607\n",
       "2                        rfc  0.577345  0.571986   0.611814  0.362500  0.455259\n",
       "3                   stacking  0.548112  0.541675   0.571429  0.290000  0.384743\n",
       "4         stacking_1970-2017  0.590226  0.527332   0.478261  0.205607  0.287582\n",
       "5           stacking_add2018  0.520599  0.500000   0.000000  0.000000  0.000000\n",
       "6           stacking_add2019  0.550186  0.549198   0.533981  0.814815  0.645161\n",
       "7           stacking_add2020  0.477193  0.496350   0.478873  0.992701  0.646081\n",
       "8     rfc_pipeline_1970-2017  0.590226  0.539558   0.483871  0.280374  0.355030\n",
       "9       rfc_pipeline_add2018  0.561798  0.549460   0.603774  0.250000  0.353591\n",
       "10      rfc_pipeline_add2019  0.516729  0.517247   0.525773  0.377778  0.439655\n",
       "11      rfc_pipeline_add2020  0.592982  0.586136   0.615385  0.408759  0.491228\n",
       "12  keras_pipeline_1970-2017  0.597744  0.553489   0.500000  0.327103  0.395480"
      ]
     },
     "metadata": {},
     "output_type": "display_data"
    },
    {
     "data": {
      "image/png": "[encoded data removed]",
      "text/plain": [
       "<Figure size 432x288 with 2 Axes>"
      ]
     },
     "metadata": {
      "needs_background": "light"
     },
     "output_type": "display_data"
    }
   ],
   "source": [
    "preds = keras_pipeline.predict(x2018)\n",
    "\n",
    "scores = calculate_scores('keras_pipeline_1970-2017', y2018, preds)"
   ]
  },
  {
   "cell_type": "markdown",
   "id": "e0efbc71",
   "metadata": {
    "papermill": {
     "duration": 0.032943,
     "end_time": "2022-09-03T15:48:11.205689",
     "exception": false,
     "start_time": "2022-09-03T15:48:11.172746",
     "status": "completed"
    },
    "tags": []
   },
   "source": [
    "## add 2018, teste 2019"
   ]
  },
  {
   "cell_type": "code",
   "execution_count": 70,
   "id": "0943e229",
   "metadata": {
    "execution": {
     "iopub.execute_input": "2022-09-03T15:48:11.274190Z",
     "iopub.status.busy": "2022-09-03T15:48:11.272895Z",
     "iopub.status.idle": "2022-09-03T15:48:26.000527Z",
     "shell.execute_reply": "2022-09-03T15:48:25.999246Z"
    },
    "papermill": {
     "duration": 14.764564,
     "end_time": "2022-09-03T15:48:26.003293",
     "exception": false,
     "start_time": "2022-09-03T15:48:11.238729",
     "status": "completed"
    },
    "tags": []
   },
   "outputs": [
    {
     "name": "stdout",
     "output_type": "stream",
     "text": [
      "Execution took 14.72s\n"
     ]
    }
   ],
   "source": [
    "train_timer = Timer()\n",
    "\n",
    "keras_pipeline.fit(x2018, y2018, **fit_params)\n",
    "\n",
    "train_timer.end()"
   ]
  },
  {
   "cell_type": "code",
   "execution_count": 71,
   "id": "97c87857",
   "metadata": {
    "execution": {
     "iopub.execute_input": "2022-09-03T15:48:26.069963Z",
     "iopub.status.busy": "2022-09-03T15:48:26.069542Z",
     "iopub.status.idle": "2022-09-03T15:48:26.466143Z",
     "shell.execute_reply": "2022-09-03T15:48:26.464910Z"
    },
    "papermill": {
     "duration": 0.4322,
     "end_time": "2022-09-03T15:48:26.468702",
     "exception": false,
     "start_time": "2022-09-03T15:48:26.036502",
     "status": "completed"
    },
    "tags": []
   },
   "outputs": [
    {
     "data": {
      "text/plain": [
       "<sklearn.metrics._plot.confusion_matrix.ConfusionMatrixDisplay at 0x7f1e2d180b10>"
      ]
     },
     "metadata": {},
     "output_type": "display_data"
    },
    {
     "data": {
      "text/html": [
       "<div>\n",
       "<style scoped>\n",
       "    .dataframe tbody tr th:only-of-type {\n",
       "        vertical-align: middle;\n",
       "    }\n",
       "\n",
       "    .dataframe tbody tr th {\n",
       "        vertical-align: top;\n",
       "    }\n",
       "\n",
       "    .dataframe thead th {\n",
       "        text-align: right;\n",
       "    }\n",
       "</style>\n",
       "<table border=\"1\" class=\"dataframe\">\n",
       "  <thead>\n",
       "    <tr style=\"text-align: right;\">\n",
       "      <th></th>\n",
       "      <th>model_name</th>\n",
       "      <th>acc</th>\n",
       "      <th>bacc</th>\n",
       "      <th>precision</th>\n",
       "      <th>recall</th>\n",
       "      <th>f1score</th>\n",
       "    </tr>\n",
       "  </thead>\n",
       "  <tbody>\n",
       "    <tr>\n",
       "      <th>0</th>\n",
       "      <td>gaussian_nb</td>\n",
       "      <td>0.548112</td>\n",
       "      <td>0.551027</td>\n",
       "      <td>0.528827</td>\n",
       "      <td>0.665000</td>\n",
       "      <td>0.589147</td>\n",
       "    </tr>\n",
       "    <tr>\n",
       "      <th>1</th>\n",
       "      <td>mlp</td>\n",
       "      <td>0.499391</td>\n",
       "      <td>0.499032</td>\n",
       "      <td>0.486216</td>\n",
       "      <td>0.485000</td>\n",
       "      <td>0.485607</td>\n",
       "    </tr>\n",
       "    <tr>\n",
       "      <th>2</th>\n",
       "      <td>rfc</td>\n",
       "      <td>0.577345</td>\n",
       "      <td>0.571986</td>\n",
       "      <td>0.611814</td>\n",
       "      <td>0.362500</td>\n",
       "      <td>0.455259</td>\n",
       "    </tr>\n",
       "    <tr>\n",
       "      <th>3</th>\n",
       "      <td>stacking</td>\n",
       "      <td>0.548112</td>\n",
       "      <td>0.541675</td>\n",
       "      <td>0.571429</td>\n",
       "      <td>0.290000</td>\n",
       "      <td>0.384743</td>\n",
       "    </tr>\n",
       "    <tr>\n",
       "      <th>4</th>\n",
       "      <td>stacking_1970-2017</td>\n",
       "      <td>0.590226</td>\n",
       "      <td>0.527332</td>\n",
       "      <td>0.478261</td>\n",
       "      <td>0.205607</td>\n",
       "      <td>0.287582</td>\n",
       "    </tr>\n",
       "    <tr>\n",
       "      <th>5</th>\n",
       "      <td>stacking_add2018</td>\n",
       "      <td>0.520599</td>\n",
       "      <td>0.500000</td>\n",
       "      <td>0.000000</td>\n",
       "      <td>0.000000</td>\n",
       "      <td>0.000000</td>\n",
       "    </tr>\n",
       "    <tr>\n",
       "      <th>6</th>\n",
       "      <td>stacking_add2019</td>\n",
       "      <td>0.550186</td>\n",
       "      <td>0.549198</td>\n",
       "      <td>0.533981</td>\n",
       "      <td>0.814815</td>\n",
       "      <td>0.645161</td>\n",
       "    </tr>\n",
       "    <tr>\n",
       "      <th>7</th>\n",
       "      <td>stacking_add2020</td>\n",
       "      <td>0.477193</td>\n",
       "      <td>0.496350</td>\n",
       "      <td>0.478873</td>\n",
       "      <td>0.992701</td>\n",
       "      <td>0.646081</td>\n",
       "    </tr>\n",
       "    <tr>\n",
       "      <th>8</th>\n",
       "      <td>rfc_pipeline_1970-2017</td>\n",
       "      <td>0.590226</td>\n",
       "      <td>0.539558</td>\n",
       "      <td>0.483871</td>\n",
       "      <td>0.280374</td>\n",
       "      <td>0.355030</td>\n",
       "    </tr>\n",
       "    <tr>\n",
       "      <th>9</th>\n",
       "      <td>rfc_pipeline_add2018</td>\n",
       "      <td>0.561798</td>\n",
       "      <td>0.549460</td>\n",
       "      <td>0.603774</td>\n",
       "      <td>0.250000</td>\n",
       "      <td>0.353591</td>\n",
       "    </tr>\n",
       "    <tr>\n",
       "      <th>10</th>\n",
       "      <td>rfc_pipeline_add2019</td>\n",
       "      <td>0.516729</td>\n",
       "      <td>0.517247</td>\n",
       "      <td>0.525773</td>\n",
       "      <td>0.377778</td>\n",
       "      <td>0.439655</td>\n",
       "    </tr>\n",
       "    <tr>\n",
       "      <th>11</th>\n",
       "      <td>rfc_pipeline_add2020</td>\n",
       "      <td>0.592982</td>\n",
       "      <td>0.586136</td>\n",
       "      <td>0.615385</td>\n",
       "      <td>0.408759</td>\n",
       "      <td>0.491228</td>\n",
       "    </tr>\n",
       "    <tr>\n",
       "      <th>12</th>\n",
       "      <td>keras_pipeline_1970-2017</td>\n",
       "      <td>0.597744</td>\n",
       "      <td>0.553489</td>\n",
       "      <td>0.500000</td>\n",
       "      <td>0.327103</td>\n",
       "      <td>0.395480</td>\n",
       "    </tr>\n",
       "    <tr>\n",
       "      <th>13</th>\n",
       "      <td>keras_pipeline_add2018</td>\n",
       "      <td>0.468165</td>\n",
       "      <td>0.462005</td>\n",
       "      <td>0.425532</td>\n",
       "      <td>0.312500</td>\n",
       "      <td>0.360360</td>\n",
       "    </tr>\n",
       "  </tbody>\n",
       "</table>\n",
       "</div>"
      ],
      "text/plain": [
       "                  model_name       acc      bacc  precision    recall   f1score\n",
       "0                gaussian_nb  0.548112  0.551027   0.528827  0.665000  0.589147\n",
       "1                        mlp  0.499391  0.499032   0.486216  0.485000  0.485607\n",
       "2                        rfc  0.577345  0.571986   0.611814  0.362500  0.455259\n",
       "3                   stacking  0.548112  0.541675   0.571429  0.290000  0.384743\n",
       "4         stacking_1970-2017  0.590226  0.527332   0.478261  0.205607  0.287582\n",
       "5           stacking_add2018  0.520599  0.500000   0.000000  0.000000  0.000000\n",
       "6           stacking_add2019  0.550186  0.549198   0.533981  0.814815  0.645161\n",
       "7           stacking_add2020  0.477193  0.496350   0.478873  0.992701  0.646081\n",
       "8     rfc_pipeline_1970-2017  0.590226  0.539558   0.483871  0.280374  0.355030\n",
       "9       rfc_pipeline_add2018  0.561798  0.549460   0.603774  0.250000  0.353591\n",
       "10      rfc_pipeline_add2019  0.516729  0.517247   0.525773  0.377778  0.439655\n",
       "11      rfc_pipeline_add2020  0.592982  0.586136   0.615385  0.408759  0.491228\n",
       "12  keras_pipeline_1970-2017  0.597744  0.553489   0.500000  0.327103  0.395480\n",
       "13    keras_pipeline_add2018  0.468165  0.462005   0.425532  0.312500  0.360360"
      ]
     },
     "metadata": {},
     "output_type": "display_data"
    },
    {
     "data": {
      "image/png": "[encoded data removed]",
      "text/plain": [
       "<Figure size 432x288 with 2 Axes>"
      ]
     },
     "metadata": {
      "needs_background": "light"
     },
     "output_type": "display_data"
    }
   ],
   "source": [
    "preds = keras_pipeline.predict(x2019)\n",
    "\n",
    "scores = calculate_scores('keras_pipeline_add2018', y2019, preds)"
   ]
  },
  {
   "cell_type": "markdown",
   "id": "b570eea6",
   "metadata": {
    "papermill": {
     "duration": 0.032825,
     "end_time": "2022-09-03T15:48:26.535343",
     "exception": false,
     "start_time": "2022-09-03T15:48:26.502518",
     "status": "completed"
    },
    "tags": []
   },
   "source": [
    "## add 2019, teste 2020"
   ]
  },
  {
   "cell_type": "code",
   "execution_count": 72,
   "id": "0a4634a6",
   "metadata": {
    "execution": {
     "iopub.execute_input": "2022-09-03T15:48:26.604012Z",
     "iopub.status.busy": "2022-09-03T15:48:26.603496Z",
     "iopub.status.idle": "2022-09-03T15:48:41.014030Z",
     "shell.execute_reply": "2022-09-03T15:48:41.013156Z"
    },
    "papermill": {
     "duration": 14.448336,
     "end_time": "2022-09-03T15:48:41.016666",
     "exception": false,
     "start_time": "2022-09-03T15:48:26.568330",
     "status": "completed"
    },
    "tags": []
   },
   "outputs": [
    {
     "name": "stdout",
     "output_type": "stream",
     "text": [
      "Execution took 14.405s\n"
     ]
    }
   ],
   "source": [
    "train_timer = Timer()\n",
    "\n",
    "keras_pipeline.fit(x2019, y2019, **fit_params)\n",
    "\n",
    "train_timer.end()"
   ]
  },
  {
   "cell_type": "code",
   "execution_count": 73,
   "id": "1af85dbd",
   "metadata": {
    "execution": {
     "iopub.execute_input": "2022-09-03T15:48:41.084260Z",
     "iopub.status.busy": "2022-09-03T15:48:41.083827Z",
     "iopub.status.idle": "2022-09-03T15:48:41.473985Z",
     "shell.execute_reply": "2022-09-03T15:48:41.472878Z"
    },
    "papermill": {
     "duration": 0.426344,
     "end_time": "2022-09-03T15:48:41.476162",
     "exception": false,
     "start_time": "2022-09-03T15:48:41.049818",
     "status": "completed"
    },
    "tags": []
   },
   "outputs": [
    {
     "data": {
      "text/plain": [
       "<sklearn.metrics._plot.confusion_matrix.ConfusionMatrixDisplay at 0x7f1e2dd96850>"
      ]
     },
     "metadata": {},
     "output_type": "display_data"
    },
    {
     "data": {
      "text/html": [
       "<div>\n",
       "<style scoped>\n",
       "    .dataframe tbody tr th:only-of-type {\n",
       "        vertical-align: middle;\n",
       "    }\n",
       "\n",
       "    .dataframe tbody tr th {\n",
       "        vertical-align: top;\n",
       "    }\n",
       "\n",
       "    .dataframe thead th {\n",
       "        text-align: right;\n",
       "    }\n",
       "</style>\n",
       "<table border=\"1\" class=\"dataframe\">\n",
       "  <thead>\n",
       "    <tr style=\"text-align: right;\">\n",
       "      <th></th>\n",
       "      <th>model_name</th>\n",
       "      <th>acc</th>\n",
       "      <th>bacc</th>\n",
       "      <th>precision</th>\n",
       "      <th>recall</th>\n",
       "      <th>f1score</th>\n",
       "    </tr>\n",
       "  </thead>\n",
       "  <tbody>\n",
       "    <tr>\n",
       "      <th>0</th>\n",
       "      <td>gaussian_nb</td>\n",
       "      <td>0.548112</td>\n",
       "      <td>0.551027</td>\n",
       "      <td>0.528827</td>\n",
       "      <td>0.665000</td>\n",
       "      <td>0.589147</td>\n",
       "    </tr>\n",
       "    <tr>\n",
       "      <th>1</th>\n",
       "      <td>mlp</td>\n",
       "      <td>0.499391</td>\n",
       "      <td>0.499032</td>\n",
       "      <td>0.486216</td>\n",
       "      <td>0.485000</td>\n",
       "      <td>0.485607</td>\n",
       "    </tr>\n",
       "    <tr>\n",
       "      <th>2</th>\n",
       "      <td>rfc</td>\n",
       "      <td>0.577345</td>\n",
       "      <td>0.571986</td>\n",
       "      <td>0.611814</td>\n",
       "      <td>0.362500</td>\n",
       "      <td>0.455259</td>\n",
       "    </tr>\n",
       "    <tr>\n",
       "      <th>3</th>\n",
       "      <td>stacking</td>\n",
       "      <td>0.548112</td>\n",
       "      <td>0.541675</td>\n",
       "      <td>0.571429</td>\n",
       "      <td>0.290000</td>\n",
       "      <td>0.384743</td>\n",
       "    </tr>\n",
       "    <tr>\n",
       "      <th>4</th>\n",
       "      <td>stacking_1970-2017</td>\n",
       "      <td>0.590226</td>\n",
       "      <td>0.527332</td>\n",
       "      <td>0.478261</td>\n",
       "      <td>0.205607</td>\n",
       "      <td>0.287582</td>\n",
       "    </tr>\n",
       "    <tr>\n",
       "      <th>5</th>\n",
       "      <td>stacking_add2018</td>\n",
       "      <td>0.520599</td>\n",
       "      <td>0.500000</td>\n",
       "      <td>0.000000</td>\n",
       "      <td>0.000000</td>\n",
       "      <td>0.000000</td>\n",
       "    </tr>\n",
       "    <tr>\n",
       "      <th>6</th>\n",
       "      <td>stacking_add2019</td>\n",
       "      <td>0.550186</td>\n",
       "      <td>0.549198</td>\n",
       "      <td>0.533981</td>\n",
       "      <td>0.814815</td>\n",
       "      <td>0.645161</td>\n",
       "    </tr>\n",
       "    <tr>\n",
       "      <th>7</th>\n",
       "      <td>stacking_add2020</td>\n",
       "      <td>0.477193</td>\n",
       "      <td>0.496350</td>\n",
       "      <td>0.478873</td>\n",
       "      <td>0.992701</td>\n",
       "      <td>0.646081</td>\n",
       "    </tr>\n",
       "    <tr>\n",
       "      <th>8</th>\n",
       "      <td>rfc_pipeline_1970-2017</td>\n",
       "      <td>0.590226</td>\n",
       "      <td>0.539558</td>\n",
       "      <td>0.483871</td>\n",
       "      <td>0.280374</td>\n",
       "      <td>0.355030</td>\n",
       "    </tr>\n",
       "    <tr>\n",
       "      <th>9</th>\n",
       "      <td>rfc_pipeline_add2018</td>\n",
       "      <td>0.561798</td>\n",
       "      <td>0.549460</td>\n",
       "      <td>0.603774</td>\n",
       "      <td>0.250000</td>\n",
       "      <td>0.353591</td>\n",
       "    </tr>\n",
       "    <tr>\n",
       "      <th>10</th>\n",
       "      <td>rfc_pipeline_add2019</td>\n",
       "      <td>0.516729</td>\n",
       "      <td>0.517247</td>\n",
       "      <td>0.525773</td>\n",
       "      <td>0.377778</td>\n",
       "      <td>0.439655</td>\n",
       "    </tr>\n",
       "    <tr>\n",
       "      <th>11</th>\n",
       "      <td>rfc_pipeline_add2020</td>\n",
       "      <td>0.592982</td>\n",
       "      <td>0.586136</td>\n",
       "      <td>0.615385</td>\n",
       "      <td>0.408759</td>\n",
       "      <td>0.491228</td>\n",
       "    </tr>\n",
       "    <tr>\n",
       "      <th>12</th>\n",
       "      <td>keras_pipeline_1970-2017</td>\n",
       "      <td>0.597744</td>\n",
       "      <td>0.553489</td>\n",
       "      <td>0.500000</td>\n",
       "      <td>0.327103</td>\n",
       "      <td>0.395480</td>\n",
       "    </tr>\n",
       "    <tr>\n",
       "      <th>13</th>\n",
       "      <td>keras_pipeline_add2018</td>\n",
       "      <td>0.468165</td>\n",
       "      <td>0.462005</td>\n",
       "      <td>0.425532</td>\n",
       "      <td>0.312500</td>\n",
       "      <td>0.360360</td>\n",
       "    </tr>\n",
       "    <tr>\n",
       "      <th>14</th>\n",
       "      <td>keras_pipeline_add2019</td>\n",
       "      <td>0.501859</td>\n",
       "      <td>0.500000</td>\n",
       "      <td>0.501859</td>\n",
       "      <td>1.000000</td>\n",
       "      <td>0.668317</td>\n",
       "    </tr>\n",
       "  </tbody>\n",
       "</table>\n",
       "</div>"
      ],
      "text/plain": [
       "                  model_name       acc      bacc  precision    recall   f1score\n",
       "0                gaussian_nb  0.548112  0.551027   0.528827  0.665000  0.589147\n",
       "1                        mlp  0.499391  0.499032   0.486216  0.485000  0.485607\n",
       "2                        rfc  0.577345  0.571986   0.611814  0.362500  0.455259\n",
       "3                   stacking  0.548112  0.541675   0.571429  0.290000  0.384743\n",
       "4         stacking_1970-2017  0.590226  0.527332   0.478261  0.205607  0.287582\n",
       "5           stacking_add2018  0.520599  0.500000   0.000000  0.000000  0.000000\n",
       "6           stacking_add2019  0.550186  0.549198   0.533981  0.814815  0.645161\n",
       "7           stacking_add2020  0.477193  0.496350   0.478873  0.992701  0.646081\n",
       "8     rfc_pipeline_1970-2017  0.590226  0.539558   0.483871  0.280374  0.355030\n",
       "9       rfc_pipeline_add2018  0.561798  0.549460   0.603774  0.250000  0.353591\n",
       "10      rfc_pipeline_add2019  0.516729  0.517247   0.525773  0.377778  0.439655\n",
       "11      rfc_pipeline_add2020  0.592982  0.586136   0.615385  0.408759  0.491228\n",
       "12  keras_pipeline_1970-2017  0.597744  0.553489   0.500000  0.327103  0.395480\n",
       "13    keras_pipeline_add2018  0.468165  0.462005   0.425532  0.312500  0.360360\n",
       "14    keras_pipeline_add2019  0.501859  0.500000   0.501859  1.000000  0.668317"
      ]
     },
     "metadata": {},
     "output_type": "display_data"
    },
    {
     "data": {
      "image/png": "[encoded data removed]",
      "text/plain": [
       "<Figure size 432x288 with 2 Axes>"
      ]
     },
     "metadata": {
      "needs_background": "light"
     },
     "output_type": "display_data"
    }
   ],
   "source": [
    "preds = keras_pipeline.predict(x2020)\n",
    "\n",
    "scores = calculate_scores('keras_pipeline_add2019', y2020, preds)"
   ]
  },
  {
   "cell_type": "markdown",
   "id": "cd9ed7b0",
   "metadata": {
    "papermill": {
     "duration": 0.032948,
     "end_time": "2022-09-03T15:48:41.542479",
     "exception": false,
     "start_time": "2022-09-03T15:48:41.509531",
     "status": "completed"
    },
    "tags": []
   },
   "source": [
    "## add 2020, teste 2021"
   ]
  },
  {
   "cell_type": "code",
   "execution_count": 74,
   "id": "d8781f97",
   "metadata": {
    "execution": {
     "iopub.execute_input": "2022-09-03T15:48:41.612029Z",
     "iopub.status.busy": "2022-09-03T15:48:41.611401Z",
     "iopub.status.idle": "2022-09-03T15:48:56.624921Z",
     "shell.execute_reply": "2022-09-03T15:48:56.623526Z"
    },
    "papermill": {
     "duration": 15.052384,
     "end_time": "2022-09-03T15:48:56.627986",
     "exception": false,
     "start_time": "2022-09-03T15:48:41.575602",
     "status": "completed"
    },
    "tags": []
   },
   "outputs": [
    {
     "name": "stderr",
     "output_type": "stream",
     "text": [
      "/opt/conda/lib/python3.7/site-packages/sklearn/neural_network/_multilayer_perceptron.py:696: ConvergenceWarning: Stochastic Optimizer: Maximum iterations (2000) reached and the optimization hasn't converged yet.\n",
      "  ConvergenceWarning,\n",
      "/opt/conda/lib/python3.7/site-packages/sklearn/neural_network/_multilayer_perceptron.py:696: ConvergenceWarning: Stochastic Optimizer: Maximum iterations (2000) reached and the optimization hasn't converged yet.\n",
      "  ConvergenceWarning,\n",
      "/opt/conda/lib/python3.7/site-packages/sklearn/neural_network/_multilayer_perceptron.py:696: ConvergenceWarning: Stochastic Optimizer: Maximum iterations (2000) reached and the optimization hasn't converged yet.\n",
      "  ConvergenceWarning,\n",
      "/opt/conda/lib/python3.7/site-packages/sklearn/neural_network/_multilayer_perceptron.py:696: ConvergenceWarning: Stochastic Optimizer: Maximum iterations (2000) reached and the optimization hasn't converged yet.\n",
      "  ConvergenceWarning,\n",
      "/opt/conda/lib/python3.7/site-packages/sklearn/neural_network/_multilayer_perceptron.py:696: ConvergenceWarning: Stochastic Optimizer: Maximum iterations (2000) reached and the optimization hasn't converged yet.\n",
      "  ConvergenceWarning,\n",
      "/opt/conda/lib/python3.7/site-packages/sklearn/neural_network/_multilayer_perceptron.py:696: ConvergenceWarning: Stochastic Optimizer: Maximum iterations (2000) reached and the optimization hasn't converged yet.\n",
      "  ConvergenceWarning,\n",
      "/opt/conda/lib/python3.7/site-packages/sklearn/neural_network/_multilayer_perceptron.py:696: ConvergenceWarning: Stochastic Optimizer: Maximum iterations (2000) reached and the optimization hasn't converged yet.\n",
      "  ConvergenceWarning,\n",
      "/opt/conda/lib/python3.7/site-packages/sklearn/neural_network/_multilayer_perceptron.py:696: ConvergenceWarning: Stochastic Optimizer: Maximum iterations (2000) reached and the optimization hasn't converged yet.\n",
      "  ConvergenceWarning,\n",
      "/opt/conda/lib/python3.7/site-packages/sklearn/neural_network/_multilayer_perceptron.py:696: ConvergenceWarning: Stochastic Optimizer: Maximum iterations (2000) reached and the optimization hasn't converged yet.\n",
      "  ConvergenceWarning,\n",
      "/opt/conda/lib/python3.7/site-packages/sklearn/neural_network/_multilayer_perceptron.py:696: ConvergenceWarning: Stochastic Optimizer: Maximum iterations (2000) reached and the optimization hasn't converged yet.\n",
      "  ConvergenceWarning,\n",
      "/opt/conda/lib/python3.7/site-packages/sklearn/neural_network/_multilayer_perceptron.py:696: ConvergenceWarning: Stochastic Optimizer: Maximum iterations (2000) reached and the optimization hasn't converged yet.\n",
      "  ConvergenceWarning,\n",
      "/opt/conda/lib/python3.7/site-packages/sklearn/neural_network/_multilayer_perceptron.py:696: ConvergenceWarning: Stochastic Optimizer: Maximum iterations (2000) reached and the optimization hasn't converged yet.\n",
      "  ConvergenceWarning,\n"
     ]
    },
    {
     "name": "stdout",
     "output_type": "stream",
     "text": [
      "Execution took 15.008s\n"
     ]
    }
   ],
   "source": [
    "train_timer = Timer()\n",
    "\n",
    "keras_pipeline.fit(x2020, y2020, **fit_params)\n",
    "\n",
    "train_timer.end()"
   ]
  },
  {
   "cell_type": "code",
   "execution_count": 75,
   "id": "ebd700be",
   "metadata": {
    "execution": {
     "iopub.execute_input": "2022-09-03T15:48:56.702572Z",
     "iopub.status.busy": "2022-09-03T15:48:56.701169Z",
     "iopub.status.idle": "2022-09-03T15:48:57.120952Z",
     "shell.execute_reply": "2022-09-03T15:48:57.119757Z"
    },
    "papermill": {
     "duration": 0.459757,
     "end_time": "2022-09-03T15:48:57.123502",
     "exception": false,
     "start_time": "2022-09-03T15:48:56.663745",
     "status": "completed"
    },
    "tags": []
   },
   "outputs": [
    {
     "data": {
      "text/plain": [
       "<sklearn.metrics._plot.confusion_matrix.ConfusionMatrixDisplay at 0x7f1e2d897250>"
      ]
     },
     "metadata": {},
     "output_type": "display_data"
    },
    {
     "data": {
      "text/html": [
       "<div>\n",
       "<style scoped>\n",
       "    .dataframe tbody tr th:only-of-type {\n",
       "        vertical-align: middle;\n",
       "    }\n",
       "\n",
       "    .dataframe tbody tr th {\n",
       "        vertical-align: top;\n",
       "    }\n",
       "\n",
       "    .dataframe thead th {\n",
       "        text-align: right;\n",
       "    }\n",
       "</style>\n",
       "<table border=\"1\" class=\"dataframe\">\n",
       "  <thead>\n",
       "    <tr style=\"text-align: right;\">\n",
       "      <th></th>\n",
       "      <th>model_name</th>\n",
       "      <th>acc</th>\n",
       "      <th>bacc</th>\n",
       "      <th>precision</th>\n",
       "      <th>recall</th>\n",
       "      <th>f1score</th>\n",
       "    </tr>\n",
       "  </thead>\n",
       "  <tbody>\n",
       "    <tr>\n",
       "      <th>0</th>\n",
       "      <td>gaussian_nb</td>\n",
       "      <td>0.548112</td>\n",
       "      <td>0.551027</td>\n",
       "      <td>0.528827</td>\n",
       "      <td>0.665000</td>\n",
       "      <td>0.589147</td>\n",
       "    </tr>\n",
       "    <tr>\n",
       "      <th>1</th>\n",
       "      <td>mlp</td>\n",
       "      <td>0.499391</td>\n",
       "      <td>0.499032</td>\n",
       "      <td>0.486216</td>\n",
       "      <td>0.485000</td>\n",
       "      <td>0.485607</td>\n",
       "    </tr>\n",
       "    <tr>\n",
       "      <th>2</th>\n",
       "      <td>rfc</td>\n",
       "      <td>0.577345</td>\n",
       "      <td>0.571986</td>\n",
       "      <td>0.611814</td>\n",
       "      <td>0.362500</td>\n",
       "      <td>0.455259</td>\n",
       "    </tr>\n",
       "    <tr>\n",
       "      <th>3</th>\n",
       "      <td>stacking</td>\n",
       "      <td>0.548112</td>\n",
       "      <td>0.541675</td>\n",
       "      <td>0.571429</td>\n",
       "      <td>0.290000</td>\n",
       "      <td>0.384743</td>\n",
       "    </tr>\n",
       "    <tr>\n",
       "      <th>4</th>\n",
       "      <td>stacking_1970-2017</td>\n",
       "      <td>0.590226</td>\n",
       "      <td>0.527332</td>\n",
       "      <td>0.478261</td>\n",
       "      <td>0.205607</td>\n",
       "      <td>0.287582</td>\n",
       "    </tr>\n",
       "    <tr>\n",
       "      <th>5</th>\n",
       "      <td>stacking_add2018</td>\n",
       "      <td>0.520599</td>\n",
       "      <td>0.500000</td>\n",
       "      <td>0.000000</td>\n",
       "      <td>0.000000</td>\n",
       "      <td>0.000000</td>\n",
       "    </tr>\n",
       "    <tr>\n",
       "      <th>6</th>\n",
       "      <td>stacking_add2019</td>\n",
       "      <td>0.550186</td>\n",
       "      <td>0.549198</td>\n",
       "      <td>0.533981</td>\n",
       "      <td>0.814815</td>\n",
       "      <td>0.645161</td>\n",
       "    </tr>\n",
       "    <tr>\n",
       "      <th>7</th>\n",
       "      <td>stacking_add2020</td>\n",
       "      <td>0.477193</td>\n",
       "      <td>0.496350</td>\n",
       "      <td>0.478873</td>\n",
       "      <td>0.992701</td>\n",
       "      <td>0.646081</td>\n",
       "    </tr>\n",
       "    <tr>\n",
       "      <th>8</th>\n",
       "      <td>rfc_pipeline_1970-2017</td>\n",
       "      <td>0.590226</td>\n",
       "      <td>0.539558</td>\n",
       "      <td>0.483871</td>\n",
       "      <td>0.280374</td>\n",
       "      <td>0.355030</td>\n",
       "    </tr>\n",
       "    <tr>\n",
       "      <th>9</th>\n",
       "      <td>rfc_pipeline_add2018</td>\n",
       "      <td>0.561798</td>\n",
       "      <td>0.549460</td>\n",
       "      <td>0.603774</td>\n",
       "      <td>0.250000</td>\n",
       "      <td>0.353591</td>\n",
       "    </tr>\n",
       "    <tr>\n",
       "      <th>10</th>\n",
       "      <td>rfc_pipeline_add2019</td>\n",
       "      <td>0.516729</td>\n",
       "      <td>0.517247</td>\n",
       "      <td>0.525773</td>\n",
       "      <td>0.377778</td>\n",
       "      <td>0.439655</td>\n",
       "    </tr>\n",
       "    <tr>\n",
       "      <th>11</th>\n",
       "      <td>rfc_pipeline_add2020</td>\n",
       "      <td>0.592982</td>\n",
       "      <td>0.586136</td>\n",
       "      <td>0.615385</td>\n",
       "      <td>0.408759</td>\n",
       "      <td>0.491228</td>\n",
       "    </tr>\n",
       "    <tr>\n",
       "      <th>12</th>\n",
       "      <td>keras_pipeline_1970-2017</td>\n",
       "      <td>0.597744</td>\n",
       "      <td>0.553489</td>\n",
       "      <td>0.500000</td>\n",
       "      <td>0.327103</td>\n",
       "      <td>0.395480</td>\n",
       "    </tr>\n",
       "    <tr>\n",
       "      <th>13</th>\n",
       "      <td>keras_pipeline_add2018</td>\n",
       "      <td>0.468165</td>\n",
       "      <td>0.462005</td>\n",
       "      <td>0.425532</td>\n",
       "      <td>0.312500</td>\n",
       "      <td>0.360360</td>\n",
       "    </tr>\n",
       "    <tr>\n",
       "      <th>14</th>\n",
       "      <td>keras_pipeline_add2019</td>\n",
       "      <td>0.501859</td>\n",
       "      <td>0.500000</td>\n",
       "      <td>0.501859</td>\n",
       "      <td>1.000000</td>\n",
       "      <td>0.668317</td>\n",
       "    </tr>\n",
       "    <tr>\n",
       "      <th>15</th>\n",
       "      <td>keras_pipeline_add2020</td>\n",
       "      <td>0.491228</td>\n",
       "      <td>0.504167</td>\n",
       "      <td>0.483193</td>\n",
       "      <td>0.839416</td>\n",
       "      <td>0.613333</td>\n",
       "    </tr>\n",
       "  </tbody>\n",
       "</table>\n",
       "</div>"
      ],
      "text/plain": [
       "                  model_name       acc      bacc  precision    recall   f1score\n",
       "0                gaussian_nb  0.548112  0.551027   0.528827  0.665000  0.589147\n",
       "1                        mlp  0.499391  0.499032   0.486216  0.485000  0.485607\n",
       "2                        rfc  0.577345  0.571986   0.611814  0.362500  0.455259\n",
       "3                   stacking  0.548112  0.541675   0.571429  0.290000  0.384743\n",
       "4         stacking_1970-2017  0.590226  0.527332   0.478261  0.205607  0.287582\n",
       "5           stacking_add2018  0.520599  0.500000   0.000000  0.000000  0.000000\n",
       "6           stacking_add2019  0.550186  0.549198   0.533981  0.814815  0.645161\n",
       "7           stacking_add2020  0.477193  0.496350   0.478873  0.992701  0.646081\n",
       "8     rfc_pipeline_1970-2017  0.590226  0.539558   0.483871  0.280374  0.355030\n",
       "9       rfc_pipeline_add2018  0.561798  0.549460   0.603774  0.250000  0.353591\n",
       "10      rfc_pipeline_add2019  0.516729  0.517247   0.525773  0.377778  0.439655\n",
       "11      rfc_pipeline_add2020  0.592982  0.586136   0.615385  0.408759  0.491228\n",
       "12  keras_pipeline_1970-2017  0.597744  0.553489   0.500000  0.327103  0.395480\n",
       "13    keras_pipeline_add2018  0.468165  0.462005   0.425532  0.312500  0.360360\n",
       "14    keras_pipeline_add2019  0.501859  0.500000   0.501859  1.000000  0.668317\n",
       "15    keras_pipeline_add2020  0.491228  0.504167   0.483193  0.839416  0.613333"
      ]
     },
     "metadata": {},
     "output_type": "display_data"
    },
    {
     "data": {
      "image/png": "[encoded data removed]",
      "text/plain": [
       "<Figure size 432x288 with 2 Axes>"
      ]
     },
     "metadata": {
      "needs_background": "light"
     },
     "output_type": "display_data"
    }
   ],
   "source": [
    "preds = keras_pipeline.predict(x2021)\n",
    "\n",
    "scores = calculate_scores('keras_pipeline_add2020', y2021, preds)"
   ]
  }
 ],
 "metadata": {
  "kernelspec": {
   "display_name": "Python 3",
   "language": "python",
   "name": "python3"
  },
  "language_info": {
   "codemirror_mode": {
    "name": "ipython",
    "version": 3
   },
   "file_extension": ".py",
   "mimetype": "text/x-python",
   "name": "python",
   "nbconvert_exporter": "python",
   "pygments_lexer": "ipython3",
   "version": "3.7.12"
  },
  "papermill": {
   "default_parameters": {},
   "duration": 1266.910271,
   "end_time": "2022-09-03T15:48:59.784871",
   "environment_variables": {},
   "exception": null,
   "input_path": "__notebook__.ipynb",
   "output_path": "__notebook__.ipynb",
   "parameters": {},
   "start_time": "2022-09-03T15:27:52.874600",
   "version": "2.3.4"
  },
  "widgets": {
   "application/vnd.jupyter.widget-state+json": {
    "state": {
     "0589c9a97254427eb4a6afdeb27a4d01": {
      "model_module": "@jupyter-widgets/base",
      "model_module_version": "1.2.0",
      "model_name": "LayoutModel",
      "state": {
       "_model_module": "@jupyter-widgets/base",
       "_model_module_version": "1.2.0",
       "_model_name": "LayoutModel",
       "_view_count": null,
       "_view_module": "@jupyter-widgets/base",
       "_view_module_version": "1.2.0",
       "_view_name": "LayoutView",
       "align_content": null,
       "align_items": null,
       "align_self": null,
       "border": null,
       "bottom": null,
       "display": null,
       "flex": null,
       "flex_flow": null,
       "grid_area": null,
       "grid_auto_columns": null,
       "grid_auto_flow": null,
       "grid_auto_rows": null,
       "grid_column": null,
       "grid_gap": null,
       "grid_row": null,
       "grid_template_areas": null,
       "grid_template_columns": null,
       "grid_template_rows": null,
       "height": null,
       "justify_content": null,
       "justify_items": null,
       "left": null,
       "margin": null,
       "max_height": null,
       "max_width": null,
       "min_height": null,
       "min_width": null,
       "object_fit": null,
       "object_position": null,
       "order": null,
       "overflow": null,
       "overflow_x": null,
       "overflow_y": null,
       "padding": null,
       "right": null,
       "top": null,
       "visibility": null,
       "width": null
      }
     },
     "17bedd39328642128402639b4fbce2f7": {
      "model_module": "@jupyter-widgets/controls",
      "model_module_version": "1.5.0",
      "model_name": "DescriptionStyleModel",
      "state": {
       "_model_module": "@jupyter-widgets/controls",
       "_model_module_version": "1.5.0",
       "_model_name": "DescriptionStyleModel",
       "_view_count": null,
       "_view_module": "@jupyter-widgets/base",
       "_view_module_version": "1.2.0",
       "_view_name": "StyleView",
       "description_width": ""
      }
     },
     "2201a2dd51b14b34b70cb76d8c0bf5e7": {
      "model_module": "@jupyter-widgets/base",
      "model_module_version": "1.2.0",
      "model_name": "LayoutModel",
      "state": {
       "_model_module": "@jupyter-widgets/base",
       "_model_module_version": "1.2.0",
       "_model_name": "LayoutModel",
       "_view_count": null,
       "_view_module": "@jupyter-widgets/base",
       "_view_module_version": "1.2.0",
       "_view_name": "LayoutView",
       "align_content": null,
       "align_items": null,
       "align_self": null,
       "border": null,
       "bottom": null,
       "display": null,
       "flex": null,
       "flex_flow": null,
       "grid_area": null,
       "grid_auto_columns": null,
       "grid_auto_flow": null,
       "grid_auto_rows": null,
       "grid_column": null,
       "grid_gap": null,
       "grid_row": null,
       "grid_template_areas": null,
       "grid_template_columns": null,
       "grid_template_rows": null,
       "height": null,
       "justify_content": null,
       "justify_items": null,
       "left": null,
       "margin": null,
       "max_height": null,
       "max_width": null,
       "min_height": null,
       "min_width": null,
       "object_fit": null,
       "object_position": null,
       "order": null,
       "overflow": null,
       "overflow_x": null,
       "overflow_y": null,
       "padding": null,
       "right": null,
       "top": null,
       "visibility": null,
       "width": null
      }
     },
     "22119867e63b4afb9ca13852f7818885": {
      "model_module": "@jupyter-widgets/base",
      "model_module_version": "1.2.0",
      "model_name": "LayoutModel",
      "state": {
       "_model_module": "@jupyter-widgets/base",
       "_model_module_version": "1.2.0",
       "_model_name": "LayoutModel",
       "_view_count": null,
       "_view_module": "@jupyter-widgets/base",
       "_view_module_version": "1.2.0",
       "_view_name": "LayoutView",
       "align_content": null,
       "align_items": null,
       "align_self": null,
       "border": null,
       "bottom": null,
       "display": null,
       "flex": null,
       "flex_flow": null,
       "grid_area": null,
       "grid_auto_columns": null,
       "grid_auto_flow": null,
       "grid_auto_rows": null,
       "grid_column": null,
       "grid_gap": null,
       "grid_row": null,
       "grid_template_areas": null,
       "grid_template_columns": null,
       "grid_template_rows": null,
       "height": null,
       "justify_content": null,
       "justify_items": null,
       "left": null,
       "margin": null,
       "max_height": null,
       "max_width": null,
       "min_height": null,
       "min_width": null,
       "object_fit": null,
       "object_position": null,
       "order": null,
       "overflow": null,
       "overflow_x": null,
       "overflow_y": null,
       "padding": null,
       "right": null,
       "top": null,
       "visibility": null,
       "width": null
      }
     },
     "24f1c980fa894c98964be6b3ecdaf4ef": {
      "model_module": "@jupyter-widgets/controls",
      "model_module_version": "1.5.0",
      "model_name": "DescriptionStyleModel",
      "state": {
       "_model_module": "@jupyter-widgets/controls",
       "_model_module_version": "1.5.0",
       "_model_name": "DescriptionStyleModel",
       "_view_count": null,
       "_view_module": "@jupyter-widgets/base",
       "_view_module_version": "1.2.0",
       "_view_name": "StyleView",
       "description_width": ""
      }
     },
     "27b72ad0a61849b4894a26abaf93e3b5": {
      "model_module": "@jupyter-widgets/controls",
      "model_module_version": "1.5.0",
      "model_name": "HTMLModel",
      "state": {
       "_dom_classes": [],
       "_model_module": "@jupyter-widgets/controls",
       "_model_module_version": "1.5.0",
       "_model_name": "HTMLModel",
       "_view_count": null,
       "_view_module": "@jupyter-widgets/controls",
       "_view_module_version": "1.5.0",
       "_view_name": "HTMLView",
       "description": "",
       "description_tooltip": null,
       "layout": "IPY_MODEL_4ee1fd8933154db89bebc284854782de",
       "placeholder": "​",
       "style": "IPY_MODEL_24f1c980fa894c98964be6b3ecdaf4ef",
       "value": " 250/250 [03:38&lt;00:00,  1.20epoch/s, loss=0.461, accuracy=0.749, val_loss=0.736, val_accuracy=0.581]"
      }
     },
     "3100ea6f83f04b2b957e18444cbde9e7": {
      "model_module": "@jupyter-widgets/controls",
      "model_module_version": "1.5.0",
      "model_name": "HBoxModel",
      "state": {
       "_dom_classes": [],
       "_model_module": "@jupyter-widgets/controls",
       "_model_module_version": "1.5.0",
       "_model_name": "HBoxModel",
       "_view_count": null,
       "_view_module": "@jupyter-widgets/controls",
       "_view_module_version": "1.5.0",
       "_view_name": "HBoxView",
       "box_style": "",
       "children": [
        "IPY_MODEL_94eea36851734906b6a5dfa43244d9d8",
        "IPY_MODEL_c7d3ca15164e4b1895c020c907b5555a",
        "IPY_MODEL_934aaeb86bec4ebb8ef6622b53981c5a"
       ],
       "layout": "IPY_MODEL_22119867e63b4afb9ca13852f7818885"
      }
     },
     "49d4d9f4af324fdb9a88e2b61330fd48": {
      "model_module": "@jupyter-widgets/controls",
      "model_module_version": "1.5.0",
      "model_name": "ProgressStyleModel",
      "state": {
       "_model_module": "@jupyter-widgets/controls",
       "_model_module_version": "1.5.0",
       "_model_name": "ProgressStyleModel",
       "_view_count": null,
       "_view_module": "@jupyter-widgets/base",
       "_view_module_version": "1.2.0",
       "_view_name": "StyleView",
       "bar_color": null,
       "description_width": ""
      }
     },
     "4ee1fd8933154db89bebc284854782de": {
      "model_module": "@jupyter-widgets/base",
      "model_module_version": "1.2.0",
      "model_name": "LayoutModel",
      "state": {
       "_model_module": "@jupyter-widgets/base",
       "_model_module_version": "1.2.0",
       "_model_name": "LayoutModel",
       "_view_count": null,
       "_view_module": "@jupyter-widgets/base",
       "_view_module_version": "1.2.0",
       "_view_name": "LayoutView",
       "align_content": null,
       "align_items": null,
       "align_self": null,
       "border": null,
       "bottom": null,
       "display": null,
       "flex": null,
       "flex_flow": null,
       "grid_area": null,
       "grid_auto_columns": null,
       "grid_auto_flow": null,
       "grid_auto_rows": null,
       "grid_column": null,
       "grid_gap": null,
       "grid_row": null,
       "grid_template_areas": null,
       "grid_template_columns": null,
       "grid_template_rows": null,
       "height": null,
       "justify_content": null,
       "justify_items": null,
       "left": null,
       "margin": null,
       "max_height": null,
       "max_width": null,
       "min_height": null,
       "min_width": null,
       "object_fit": null,
       "object_position": null,
       "order": null,
       "overflow": null,
       "overflow_x": null,
       "overflow_y": null,
       "padding": null,
       "right": null,
       "top": null,
       "visibility": null,
       "width": null
      }
     },
     "71b7483c66494154a2a57c6d8045a476": {
      "model_module": "@jupyter-widgets/base",
      "model_module_version": "1.2.0",
      "model_name": "LayoutModel",
      "state": {
       "_model_module": "@jupyter-widgets/base",
       "_model_module_version": "1.2.0",
       "_model_name": "LayoutModel",
       "_view_count": null,
       "_view_module": "@jupyter-widgets/base",
       "_view_module_version": "1.2.0",
       "_view_name": "LayoutView",
       "align_content": null,
       "align_items": null,
       "align_self": null,
       "border": null,
       "bottom": null,
       "display": null,
       "flex": null,
       "flex_flow": null,
       "grid_area": null,
       "grid_auto_columns": null,
       "grid_auto_flow": null,
       "grid_auto_rows": null,
       "grid_column": null,
       "grid_gap": null,
       "grid_row": null,
       "grid_template_areas": null,
       "grid_template_columns": null,
       "grid_template_rows": null,
       "height": null,
       "justify_content": null,
       "justify_items": null,
       "left": null,
       "margin": null,
       "max_height": null,
       "max_width": null,
       "min_height": null,
       "min_width": null,
       "object_fit": null,
       "object_position": null,
       "order": null,
       "overflow": null,
       "overflow_x": null,
       "overflow_y": null,
       "padding": null,
       "right": null,
       "top": null,
       "visibility": null,
       "width": null
      }
     },
     "7f8f02551ba74e35a12d8c9ed5b55969": {
      "model_module": "@jupyter-widgets/controls",
      "model_module_version": "1.5.0",
      "model_name": "DescriptionStyleModel",
      "state": {
       "_model_module": "@jupyter-widgets/controls",
       "_model_module_version": "1.5.0",
       "_model_name": "DescriptionStyleModel",
       "_view_count": null,
       "_view_module": "@jupyter-widgets/base",
       "_view_module_version": "1.2.0",
       "_view_name": "StyleView",
       "description_width": ""
      }
     },
     "934aaeb86bec4ebb8ef6622b53981c5a": {
      "model_module": "@jupyter-widgets/controls",
      "model_module_version": "1.5.0",
      "model_name": "HTMLModel",
      "state": {
       "_dom_classes": [],
       "_model_module": "@jupyter-widgets/controls",
       "_model_module_version": "1.5.0",
       "_model_name": "HTMLModel",
       "_view_count": null,
       "_view_module": "@jupyter-widgets/controls",
       "_view_module_version": "1.5.0",
       "_view_name": "HTMLView",
       "description": "",
       "description_tooltip": null,
       "layout": "IPY_MODEL_0589c9a97254427eb4a6afdeb27a4d01",
       "placeholder": "​",
       "style": "IPY_MODEL_17bedd39328642128402639b4fbce2f7",
       "value": " 134/144 [00:00&lt;00:00, 184batch/s, loss=0.453, accuracy=0.755]"
      }
     },
     "94eea36851734906b6a5dfa43244d9d8": {
      "model_module": "@jupyter-widgets/controls",
      "model_module_version": "1.5.0",
      "model_name": "HTMLModel",
      "state": {
       "_dom_classes": [],
       "_model_module": "@jupyter-widgets/controls",
       "_model_module_version": "1.5.0",
       "_model_name": "HTMLModel",
       "_view_count": null,
       "_view_module": "@jupyter-widgets/controls",
       "_view_module_version": "1.5.0",
       "_view_name": "HTMLView",
       "description": "",
       "description_tooltip": null,
       "layout": "IPY_MODEL_71b7483c66494154a2a57c6d8045a476",
       "placeholder": "​",
       "style": "IPY_MODEL_7f8f02551ba74e35a12d8c9ed5b55969",
       "value": " 93%"
      }
     },
     "97ec94372ea04fb48c94906ba029ff9f": {
      "model_module": "@jupyter-widgets/controls",
      "model_module_version": "1.5.0",
      "model_name": "DescriptionStyleModel",
      "state": {
       "_model_module": "@jupyter-widgets/controls",
       "_model_module_version": "1.5.0",
       "_model_name": "DescriptionStyleModel",
       "_view_count": null,
       "_view_module": "@jupyter-widgets/base",
       "_view_module_version": "1.2.0",
       "_view_name": "StyleView",
       "description_width": ""
      }
     },
     "a5651454d0df46369da99246166912ce": {
      "model_module": "@jupyter-widgets/base",
      "model_module_version": "1.2.0",
      "model_name": "LayoutModel",
      "state": {
       "_model_module": "@jupyter-widgets/base",
       "_model_module_version": "1.2.0",
       "_model_name": "LayoutModel",
       "_view_count": null,
       "_view_module": "@jupyter-widgets/base",
       "_view_module_version": "1.2.0",
       "_view_name": "LayoutView",
       "align_content": null,
       "align_items": null,
       "align_self": null,
       "border": null,
       "bottom": null,
       "display": null,
       "flex": null,
       "flex_flow": null,
       "grid_area": null,
       "grid_auto_columns": null,
       "grid_auto_flow": null,
       "grid_auto_rows": null,
       "grid_column": null,
       "grid_gap": null,
       "grid_row": null,
       "grid_template_areas": null,
       "grid_template_columns": null,
       "grid_template_rows": null,
       "height": null,
       "justify_content": null,
       "justify_items": null,
       "left": null,
       "margin": null,
       "max_height": null,
       "max_width": null,
       "min_height": null,
       "min_width": null,
       "object_fit": null,
       "object_position": null,
       "order": null,
       "overflow": null,
       "overflow_x": null,
       "overflow_y": null,
       "padding": null,
       "right": null,
       "top": null,
       "visibility": null,
       "width": null
      }
     },
     "ab7f410ff707495a810d4c435c997935": {
      "model_module": "@jupyter-widgets/base",
      "model_module_version": "1.2.0",
      "model_name": "LayoutModel",
      "state": {
       "_model_module": "@jupyter-widgets/base",
       "_model_module_version": "1.2.0",
       "_model_name": "LayoutModel",
       "_view_count": null,
       "_view_module": "@jupyter-widgets/base",
       "_view_module_version": "1.2.0",
       "_view_name": "LayoutView",
       "align_content": null,
       "align_items": null,
       "align_self": null,
       "border": null,
       "bottom": null,
       "display": null,
       "flex": null,
       "flex_flow": null,
       "grid_area": null,
       "grid_auto_columns": null,
       "grid_auto_flow": null,
       "grid_auto_rows": null,
       "grid_column": null,
       "grid_gap": null,
       "grid_row": null,
       "grid_template_areas": null,
       "grid_template_columns": null,
       "grid_template_rows": null,
       "height": null,
       "justify_content": null,
       "justify_items": null,
       "left": null,
       "margin": null,
       "max_height": null,
       "max_width": null,
       "min_height": null,
       "min_width": null,
       "object_fit": null,
       "object_position": null,
       "order": null,
       "overflow": null,
       "overflow_x": null,
       "overflow_y": null,
       "padding": null,
       "right": null,
       "top": null,
       "visibility": null,
       "width": null
      }
     },
     "b4258a3cb8784174a84ef6f4d93ef2f7": {
      "model_module": "@jupyter-widgets/base",
      "model_module_version": "1.2.0",
      "model_name": "LayoutModel",
      "state": {
       "_model_module": "@jupyter-widgets/base",
       "_model_module_version": "1.2.0",
       "_model_name": "LayoutModel",
       "_view_count": null,
       "_view_module": "@jupyter-widgets/base",
       "_view_module_version": "1.2.0",
       "_view_name": "LayoutView",
       "align_content": null,
       "align_items": null,
       "align_self": null,
       "border": null,
       "bottom": null,
       "display": null,
       "flex": null,
       "flex_flow": null,
       "grid_area": null,
       "grid_auto_columns": null,
       "grid_auto_flow": null,
       "grid_auto_rows": null,
       "grid_column": null,
       "grid_gap": null,
       "grid_row": null,
       "grid_template_areas": null,
       "grid_template_columns": null,
       "grid_template_rows": null,
       "height": null,
       "justify_content": null,
       "justify_items": null,
       "left": null,
       "margin": null,
       "max_height": null,
       "max_width": null,
       "min_height": null,
       "min_width": null,
       "object_fit": null,
       "object_position": null,
       "order": null,
       "overflow": null,
       "overflow_x": null,
       "overflow_y": null,
       "padding": null,
       "right": null,
       "top": null,
       "visibility": null,
       "width": null
      }
     },
     "b99bea44362647238e76efaefbb05b7d": {
      "model_module": "@jupyter-widgets/controls",
      "model_module_version": "1.5.0",
      "model_name": "HTMLModel",
      "state": {
       "_dom_classes": [],
       "_model_module": "@jupyter-widgets/controls",
       "_model_module_version": "1.5.0",
       "_model_name": "HTMLModel",
       "_view_count": null,
       "_view_module": "@jupyter-widgets/controls",
       "_view_module_version": "1.5.0",
       "_view_name": "HTMLView",
       "description": "",
       "description_tooltip": null,
       "layout": "IPY_MODEL_a5651454d0df46369da99246166912ce",
       "placeholder": "​",
       "style": "IPY_MODEL_97ec94372ea04fb48c94906ba029ff9f",
       "value": "100%"
      }
     },
     "bb1513339fea4ae2a48381843633a182": {
      "model_module": "@jupyter-widgets/controls",
      "model_module_version": "1.5.0",
      "model_name": "FloatProgressModel",
      "state": {
       "_dom_classes": [],
       "_model_module": "@jupyter-widgets/controls",
       "_model_module_version": "1.5.0",
       "_model_name": "FloatProgressModel",
       "_view_count": null,
       "_view_module": "@jupyter-widgets/controls",
       "_view_module_version": "1.5.0",
       "_view_name": "ProgressView",
       "bar_style": "success",
       "description": "",
       "description_tooltip": null,
       "layout": "IPY_MODEL_2201a2dd51b14b34b70cb76d8c0bf5e7",
       "max": 250.0,
       "min": 0.0,
       "orientation": "horizontal",
       "style": "IPY_MODEL_c598308e909b44a8b594eb991157ced2",
       "value": 250.0
      }
     },
     "c598308e909b44a8b594eb991157ced2": {
      "model_module": "@jupyter-widgets/controls",
      "model_module_version": "1.5.0",
      "model_name": "ProgressStyleModel",
      "state": {
       "_model_module": "@jupyter-widgets/controls",
       "_model_module_version": "1.5.0",
       "_model_name": "ProgressStyleModel",
       "_view_count": null,
       "_view_module": "@jupyter-widgets/base",
       "_view_module_version": "1.2.0",
       "_view_name": "StyleView",
       "bar_color": null,
       "description_width": ""
      }
     },
     "c634ea44c73c4eff8c7063cec6ff277c": {
      "model_module": "@jupyter-widgets/controls",
      "model_module_version": "1.5.0",
      "model_name": "HBoxModel",
      "state": {
       "_dom_classes": [],
       "_model_module": "@jupyter-widgets/controls",
       "_model_module_version": "1.5.0",
       "_model_name": "HBoxModel",
       "_view_count": null,
       "_view_module": "@jupyter-widgets/controls",
       "_view_module_version": "1.5.0",
       "_view_name": "HBoxView",
       "box_style": "",
       "children": [
        "IPY_MODEL_b99bea44362647238e76efaefbb05b7d",
        "IPY_MODEL_bb1513339fea4ae2a48381843633a182",
        "IPY_MODEL_27b72ad0a61849b4894a26abaf93e3b5"
       ],
       "layout": "IPY_MODEL_ab7f410ff707495a810d4c435c997935"
      }
     },
     "c7d3ca15164e4b1895c020c907b5555a": {
      "model_module": "@jupyter-widgets/controls",
      "model_module_version": "1.5.0",
      "model_name": "FloatProgressModel",
      "state": {
       "_dom_classes": [],
       "_model_module": "@jupyter-widgets/controls",
       "_model_module_version": "1.5.0",
       "_model_name": "FloatProgressModel",
       "_view_count": null,
       "_view_module": "@jupyter-widgets/controls",
       "_view_module_version": "1.5.0",
       "_view_name": "ProgressView",
       "bar_style": "",
       "description": "",
       "description_tooltip": null,
       "layout": "IPY_MODEL_b4258a3cb8784174a84ef6f4d93ef2f7",
       "max": 144.0,
       "min": 0.0,
       "orientation": "horizontal",
       "style": "IPY_MODEL_49d4d9f4af324fdb9a88e2b61330fd48",
       "value": 144.0
      }
     }
    },
    "version_major": 2,
    "version_minor": 0
   }
  }
 },
 "nbformat": 4,
 "nbformat_minor": 5
}
